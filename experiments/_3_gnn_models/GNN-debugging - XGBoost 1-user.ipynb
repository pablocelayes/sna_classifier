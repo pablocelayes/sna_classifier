{
 "cells": [
  {
   "cell_type": "code",
   "execution_count": 1,
   "id": "b8880f70",
   "metadata": {},
   "outputs": [],
   "source": [
    "import logging\n",
    "\n",
    "LOGGER = logging.getLogger()\n",
    "LOGGER.setLevel(logging.DEBUG)"
   ]
  },
  {
   "cell_type": "code",
   "execution_count": 2,
   "id": "ad378afd",
   "metadata": {},
   "outputs": [
    {
     "name": "stdout",
     "output_type": "stream",
     "text": [
      "Switching to API Credentials #0\n"
     ]
    }
   ],
   "source": [
    "from experiments._3_gnn_models.gnn_social_RT_pred import *"
   ]
  },
  {
   "cell_type": "code",
   "execution_count": 3,
   "id": "94a42b7f",
   "metadata": {},
   "outputs": [],
   "source": [
    "config_name = \"mid\""
   ]
  },
  {
   "cell_type": "code",
   "execution_count": 4,
   "id": "e4dfe7fd",
   "metadata": {},
   "outputs": [
    {
     "name": "stdout",
     "output_type": "stream",
     "text": [
      "\n",
      "        Config: mid\n",
      "        ----------------------\n",
      "        N_EPOCHS: 20,\n",
      "        LIMIT_SAMPLE_USERS: 2,\n",
      "        LIMIT_SAMPLE_TWEETS: None,\n",
      "        ONLY_ACTIVE_USERS True,\n",
      "        N_BATCHES_LOG_FREQUENCY: 1\n",
      "        BATCH_SIZE: 1024\n",
      "    \n"
     ]
    }
   ],
   "source": [
    "(\n",
    "    N_EPOCHS,\n",
    "    LIMIT_SAMPLE_USERS,\n",
    "    LIMIT_SAMPLE_TWEETS,\n",
    "    ONLY_ACTIVE_USERS,\n",
    "    N_BATCHES_LOG_FREQUENCY,\n",
    "    BATCH_SIZE\n",
    ") = get_running_config(config_name)"
   ]
  },
  {
   "cell_type": "code",
   "execution_count": 5,
   "id": "413725e4",
   "metadata": {},
   "outputs": [],
   "source": [
    "g = load_ig_graph()"
   ]
  },
  {
   "cell_type": "code",
   "execution_count": 6,
   "id": "9dac8cb4",
   "metadata": {},
   "outputs": [],
   "source": [
    "centralities = load_precomputed_centralities()"
   ]
  },
  {
   "cell_type": "code",
   "execution_count": 7,
   "id": "0f50e540",
   "metadata": {},
   "outputs": [
    {
     "name": "stdout",
     "output_type": "stream",
     "text": [
      "train and test users:\n",
      "2\n",
      "2\n"
     ]
    }
   ],
   "source": [
    "train_samples, test_samples = get_samples(n_users=LIMIT_SAMPLE_USERS,\n",
    "                                          n_tweets=LIMIT_SAMPLE_TWEETS,\n",
    "                                          only_active_users=ONLY_ACTIVE_USERS)\n",
    "\n",
    "print(\"train and test users:\")\n",
    "print(len(train_samples))\n",
    "print(len(test_samples))\n"
   ]
  },
  {
   "cell_type": "code",
   "execution_count": 8,
   "id": "e4e6b75d",
   "metadata": {},
   "outputs": [
    {
     "data": {
      "text/plain": [
       "dict_keys(['101047126', '110325813'])"
      ]
     },
     "execution_count": 8,
     "metadata": {},
     "output_type": "execute_result"
    }
   ],
   "source": [
    "train_samples.keys()"
   ]
  },
  {
   "cell_type": "code",
   "execution_count": 9,
   "id": "e7b6e819",
   "metadata": {},
   "outputs": [],
   "source": [
    "user_id = \"101047126\""
   ]
  },
  {
   "cell_type": "code",
   "execution_count": 10,
   "id": "e5fd8d1a",
   "metadata": {},
   "outputs": [
    {
     "data": {
      "text/plain": [
       "(3500, 1500)"
      ]
     },
     "execution_count": 10,
     "metadata": {},
     "output_type": "execute_result"
    }
   ],
   "source": [
    "len(train_samples[user_id]), len(test_samples[user_id])"
   ]
  },
  {
   "cell_type": "markdown",
   "id": "fc2137ea",
   "metadata": {},
   "source": [
    "Check if an XGBoost on these users produces something reasonable"
   ]
  },
  {
   "cell_type": "code",
   "execution_count": 11,
   "id": "89a330ea",
   "metadata": {},
   "outputs": [],
   "source": [
    "from experiments.datasets import extract_only_features"
   ]
  },
  {
   "cell_type": "code",
   "execution_count": 15,
   "id": "91dfabca",
   "metadata": {},
   "outputs": [],
   "source": [
    "def get_Xy(user_id, tweet_ids):\n",
    "    s = open_session()\n",
    "    \n",
    "    user = s.query(User).get(user_id)\n",
    "    neighbours = get_level2_neighbours(user, s)\n",
    "    # remove central user from neighbours\n",
    "    neighbour_users = [u for u in neighbours if u.id != user.id]\n",
    "\n",
    "    tweets = [s.query(Tweet).get(t) for t in tweet_ids]\n",
    "\n",
    "    X = extract_only_features(tweets, neighbours)\n",
    "\n",
    "    y = extract_target(tweets, user)\n",
    "    \n",
    "    return X, y"
   ]
  },
  {
   "cell_type": "code",
   "execution_count": null,
   "id": "b549a49c",
   "metadata": {},
   "outputs": [
    {
     "name": "stderr",
     "output_type": "stream",
     "text": [
      "/tmp/ipykernel_777933/2494785587.py:4: LegacyAPIWarning: The Query.get() method is considered legacy as of the 1.x series of SQLAlchemy and becomes a legacy construct in 2.0. The method is now available as Session.get() (deprecated since: 2.0) (Background on SQLAlchemy 2.0 at: https://sqlalche.me/e/b8d9)\n",
      "  user = s.query(User).get(user_id)\n",
      "/tmp/ipykernel_777933/2494785587.py:9: LegacyAPIWarning: The Query.get() method is considered legacy as of the 1.x series of SQLAlchemy and becomes a legacy construct in 2.0. The method is now available as Session.get() (deprecated since: 2.0) (Background on SQLAlchemy 2.0 at: https://sqlalche.me/e/b8d9)\n",
      "  tweets = [s.query(Tweet).get(t) for t in tweet_ids]\n",
      "DEBUG:root:Starting\n",
      "DEBUG:root:Processed 3.6 % of neighbours\n",
      "DEBUG:root:Processed 7.5 % of neighbours\n",
      "DEBUG:root:Processed 11.3 % of neighbours\n",
      "DEBUG:root:Processed 15.2 % of neighbours\n",
      "DEBUG:root:Processed 19.0 % of neighbours\n",
      "DEBUG:root:Processed 22.8 % of neighbours\n",
      "DEBUG:root:Processed 26.7 % of neighbours\n",
      "DEBUG:root:Processed 30.5 % of neighbours\n",
      "DEBUG:root:Processed 34.4 % of neighbours\n",
      "DEBUG:root:Processed 38.2 % of neighbours\n",
      "DEBUG:root:Processed 42.0 % of neighbours\n",
      "DEBUG:root:Processed 45.9 % of neighbours\n",
      "DEBUG:root:Processed 49.7 % of neighbours\n",
      "DEBUG:root:Processed 53.6 % of neighbours\n",
      "DEBUG:root:Processed 57.4 % of neighbours\n",
      "DEBUG:root:Processed 61.2 % of neighbours\n"
     ]
    }
   ],
   "source": [
    "X_tr, y_tr = get_Xy(user_id, train_samples[user_id])"
   ]
  },
  {
   "cell_type": "code",
   "execution_count": null,
   "id": "1dd6e650",
   "metadata": {},
   "outputs": [],
   "source": [
    "X_tr.shape"
   ]
  },
  {
   "cell_type": "code",
   "execution_count": null,
   "id": "7c7da61d",
   "metadata": {},
   "outputs": [],
   "source": [
    "y_tr.shape"
   ]
  },
  {
   "cell_type": "code",
   "execution_count": null,
   "id": "28abfd18",
   "metadata": {},
   "outputs": [],
   "source": [
    "test_samples[user_id]"
   ]
  },
  {
   "cell_type": "code",
   "execution_count": null,
   "id": "73210858",
   "metadata": {},
   "outputs": [],
   "source": [
    "X_te, y_te = get_Xy(user_id, test_samples[user_id])"
   ]
  },
  {
   "cell_type": "code",
   "execution_count": null,
   "id": "51ba6d8a",
   "metadata": {},
   "outputs": [],
   "source": [
    "# train and evaluate\n"
   ]
  },
  {
   "cell_type": "code",
   "execution_count": null,
   "id": "a2dd7cc7",
   "metadata": {},
   "outputs": [],
   "source": []
  },
  {
   "cell_type": "markdown",
   "id": "a3a74c2c",
   "metadata": {},
   "source": [
    "Are there many repeated rows?"
   ]
  }
 ],
 "metadata": {
  "kernelspec": {
   "display_name": "Python 3 (ipykernel)",
   "language": "python",
   "name": "python3"
  },
  "language_info": {
   "codemirror_mode": {
    "name": "ipython",
    "version": 3
   },
   "file_extension": ".py",
   "mimetype": "text/x-python",
   "name": "python",
   "nbconvert_exporter": "python",
   "pygments_lexer": "ipython3",
   "version": "3.10.11"
  }
 },
 "nbformat": 4,
 "nbformat_minor": 5
}
