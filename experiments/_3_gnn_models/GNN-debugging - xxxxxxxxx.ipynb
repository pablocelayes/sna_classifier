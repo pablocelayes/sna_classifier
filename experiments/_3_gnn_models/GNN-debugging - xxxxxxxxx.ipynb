{
 "cells": [
  {
   "cell_type": "code",
   "execution_count": 1,
   "id": "1621efbc",
   "metadata": {},
   "outputs": [],
   "source": [
    "%load_ext autoreload"
   ]
  },
  {
   "cell_type": "code",
   "execution_count": 2,
   "id": "410a525b",
   "metadata": {},
   "outputs": [],
   "source": [
    "%autoreload 2"
   ]
  },
  {
   "cell_type": "code",
   "execution_count": 3,
   "id": "ad378afd",
   "metadata": {},
   "outputs": [
    {
     "name": "stdout",
     "output_type": "stream",
     "text": [
      "Switching to API Credentials #3\n"
     ]
    }
   ],
   "source": [
    "from experiments._3_gnn_models.gnn_social_RT_pred import *"
   ]
  },
  {
   "cell_type": "code",
   "execution_count": 17,
   "id": "2c9aa894",
   "metadata": {},
   "outputs": [],
   "source": [
    "config_name = \"tiny\""
   ]
  },
  {
   "cell_type": "code",
   "execution_count": 18,
   "id": "96e130bb",
   "metadata": {},
   "outputs": [
    {
     "name": "stdout",
     "output_type": "stream",
     "text": [
      "\n",
      "        Config: tiny\n",
      "        ----------------------\n",
      "        N_EPOCHS: 4,\n",
      "        LIMIT_SAMPLE_USERS: 1,\n",
      "        LIMIT_SAMPLE_TWEETS: 200,\n",
      "        ONLY_ACTIVE_USERS True,\n",
      "        N_BATCHES_LOG_FREQUENCY: 1\n",
      "        BATCH_SIZE: 10\n",
      "    \n"
     ]
    }
   ],
   "source": [
    "(\n",
    "    N_EPOCHS,\n",
    "    LIMIT_SAMPLE_USERS,\n",
    "    LIMIT_SAMPLE_TWEETS,\n",
    "    ONLY_ACTIVE_USERS,\n",
    "    N_BATCHES_LOG_FREQUENCY,\n",
    "    BATCH_SIZE\n",
    ") = get_running_config(config_name)"
   ]
  },
  {
   "cell_type": "code",
   "execution_count": 21,
   "id": "e15ec053",
   "metadata": {},
   "outputs": [],
   "source": [
    "# centralities = load_precomputed_centralities()"
   ]
  },
  {
   "cell_type": "code",
   "execution_count": 22,
   "id": "8cf5840f",
   "metadata": {},
   "outputs": [
    {
     "name": "stdout",
     "output_type": "stream",
     "text": [
      "train and test users:\n",
      "1\n",
      "1\n"
     ]
    }
   ],
   "source": [
    "train_samples, test_samples = get_samples(n_users=LIMIT_SAMPLE_USERS,\n",
    "                                          n_tweets=LIMIT_SAMPLE_TWEETS,\n",
    "                                          only_active_users=ONLY_ACTIVE_USERS)\n",
    "\n",
    "print(\"train and test users:\")\n",
    "print(len(train_samples))\n",
    "print(len(test_samples))\n"
   ]
  },
  {
   "cell_type": "code",
   "execution_count": 23,
   "id": "f4dc97f9",
   "metadata": {},
   "outputs": [
    {
     "data": {
      "text/plain": [
       "dict_keys(['101047126'])"
      ]
     },
     "execution_count": 23,
     "metadata": {},
     "output_type": "execute_result"
    }
   ],
   "source": [
    "train_samples.keys()"
   ]
  },
  {
   "cell_type": "code",
   "execution_count": 24,
   "id": "1e69295d",
   "metadata": {},
   "outputs": [],
   "source": [
    "user_id = \"101047126\""
   ]
  },
  {
   "cell_type": "code",
   "execution_count": 25,
   "id": "593ba215",
   "metadata": {},
   "outputs": [
    {
     "data": {
      "text/plain": [
       "200"
      ]
     },
     "execution_count": 25,
     "metadata": {},
     "output_type": "execute_result"
    }
   ],
   "source": [
    "len(train_samples[user_id])"
   ]
  },
  {
   "cell_type": "code",
   "execution_count": 26,
   "id": "d7c2a5f4",
   "metadata": {},
   "outputs": [
    {
     "data": {
      "text/plain": [
       "200"
      ]
     },
     "execution_count": 26,
     "metadata": {},
     "output_type": "execute_result"
    }
   ],
   "source": [
    "len(test_samples[user_id])"
   ]
  },
  {
   "cell_type": "code",
   "execution_count": 27,
   "id": "d742fccd",
   "metadata": {},
   "outputs": [
    {
     "name": "stdout",
     "output_type": "stream",
     "text": [
      "101047126\n",
      "# Filter centralities to cover only ngids\n"
     ]
    }
   ],
   "source": [
    "train_dataset = samples_to_data_objects(train_samples)"
   ]
  },
  {
   "cell_type": "code",
   "execution_count": null,
   "id": "e3b5f1e1",
   "metadata": {},
   "outputs": [],
   "source": []
  }
 ],
 "metadata": {
  "kernelspec": {
   "display_name": "Python 3 (ipykernel)",
   "language": "python",
   "name": "python3"
  },
  "language_info": {
   "codemirror_mode": {
    "name": "ipython",
    "version": 3
   },
   "file_extension": ".py",
   "mimetype": "text/x-python",
   "name": "python",
   "nbconvert_exporter": "python",
   "pygments_lexer": "ipython3",
   "version": "3.10.11"
  }
 },
 "nbformat": 4,
 "nbformat_minor": 5
}
