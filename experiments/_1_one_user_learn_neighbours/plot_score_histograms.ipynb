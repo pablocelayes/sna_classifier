{
 "cells": [
  {
   "cell_type": "markdown",
   "metadata": {},
   "source": [
    "# Comparación sobre conjunto de evaluación"
   ]
  },
  {
   "cell_type": "code",
   "execution_count": 1,
   "metadata": {
    "collapsed": false
   },
   "outputs": [],
   "source": [
    "import json\n",
    "\n",
    "f1s_valid = json.load(open('./scores/f1s_testv_svc.json'))\n",
    "f1s_train = json.load(open('./scores/f1s_train_svc.json'))\n",
    "\n",
    "recalls_valid = json.load(open('./scores/recalls_testv_svc.json'))\n",
    "recalls_train = json.load(open('./scores/recalls_train_svc.json'))\n",
    "\n",
    "precisions_valid = json.load(open('./scores/precisions_testv_svc.json'))\n",
    "precisions_train = json.load(open('./scores/precisions_train_svc.json'))"
   ]
  },
  {
   "cell_type": "code",
   "execution_count": 3,
   "metadata": {
    "collapsed": false
   },
   "outputs": [
    {
     "data": {
      "text/html": [
       "\n",
       "    <div class=\"bk-root\">\n",
       "        <a href=\"http://bokeh.pydata.org\" target=\"_blank\" class=\"bk-logo bk-logo-small bk-logo-notebook\"></a>\n",
       "        <span id=\"e5dfca51-3cbd-41d4-a36a-b578d3f0cdad\">Loading BokehJS ...</span>\n",
       "    </div>"
      ]
     },
     "metadata": {},
     "output_type": "display_data"
    },
    {
     "data": {
      "application/javascript": [
       "\n",
       "(function(global) {\n",
       "  function now() {\n",
       "    return new Date();\n",
       "  }\n",
       "\n",
       "  var force = true;\n",
       "\n",
       "  if (typeof (window._bokeh_onload_callbacks) === \"undefined\" || force === true) {\n",
       "    window._bokeh_onload_callbacks = [];\n",
       "    window._bokeh_is_loading = undefined;\n",
       "  }\n",
       "\n",
       "\n",
       "  \n",
       "  if (typeof (window._bokeh_timeout) === \"undefined\" || force === true) {\n",
       "    window._bokeh_timeout = Date.now() + 5000;\n",
       "    window._bokeh_failed_load = false;\n",
       "  }\n",
       "\n",
       "  var NB_LOAD_WARNING = {'data': {'text/html':\n",
       "     \"<div style='background-color: #fdd'>\\n\"+\n",
       "     \"<p>\\n\"+\n",
       "     \"BokehJS does not appear to have successfully loaded. If loading BokehJS from CDN, this \\n\"+\n",
       "     \"may be due to a slow or bad network connection. Possible fixes:\\n\"+\n",
       "     \"</p>\\n\"+\n",
       "     \"<ul>\\n\"+\n",
       "     \"<li>re-rerun `output_notebook()` to attempt to load from CDN again, or</li>\\n\"+\n",
       "     \"<li>use INLINE resources instead, as so:</li>\\n\"+\n",
       "     \"</ul>\\n\"+\n",
       "     \"<code>\\n\"+\n",
       "     \"from bokeh.resources import INLINE\\n\"+\n",
       "     \"output_notebook(resources=INLINE)\\n\"+\n",
       "     \"</code>\\n\"+\n",
       "     \"</div>\"}};\n",
       "\n",
       "  function display_loaded() {\n",
       "    if (window.Bokeh !== undefined) {\n",
       "      var el = document.getElementById(\"e5dfca51-3cbd-41d4-a36a-b578d3f0cdad\");\n",
       "      el.textContent = \"BokehJS \" + Bokeh.version + \" successfully loaded.\";\n",
       "    } else if (Date.now() < window._bokeh_timeout) {\n",
       "      setTimeout(display_loaded, 100)\n",
       "    }\n",
       "  }\n",
       "\n",
       "  function run_callbacks() {\n",
       "    window._bokeh_onload_callbacks.forEach(function(callback) { callback() });\n",
       "    delete window._bokeh_onload_callbacks\n",
       "    console.info(\"Bokeh: all callbacks have finished\");\n",
       "  }\n",
       "\n",
       "  function load_libs(js_urls, callback) {\n",
       "    window._bokeh_onload_callbacks.push(callback);\n",
       "    if (window._bokeh_is_loading > 0) {\n",
       "      console.log(\"Bokeh: BokehJS is being loaded, scheduling callback at\", now());\n",
       "      return null;\n",
       "    }\n",
       "    if (js_urls == null || js_urls.length === 0) {\n",
       "      run_callbacks();\n",
       "      return null;\n",
       "    }\n",
       "    console.log(\"Bokeh: BokehJS not loaded, scheduling load and callback at\", now());\n",
       "    window._bokeh_is_loading = js_urls.length;\n",
       "    for (var i = 0; i < js_urls.length; i++) {\n",
       "      var url = js_urls[i];\n",
       "      var s = document.createElement('script');\n",
       "      s.src = url;\n",
       "      s.async = false;\n",
       "      s.onreadystatechange = s.onload = function() {\n",
       "        window._bokeh_is_loading--;\n",
       "        if (window._bokeh_is_loading === 0) {\n",
       "          console.log(\"Bokeh: all BokehJS libraries loaded\");\n",
       "          run_callbacks()\n",
       "        }\n",
       "      };\n",
       "      s.onerror = function() {\n",
       "        console.warn(\"failed to load library \" + url);\n",
       "      };\n",
       "      console.log(\"Bokeh: injecting script tag for BokehJS library: \", url);\n",
       "      document.getElementsByTagName(\"head\")[0].appendChild(s);\n",
       "    }\n",
       "  };var element = document.getElementById(\"e5dfca51-3cbd-41d4-a36a-b578d3f0cdad\");\n",
       "  if (element == null) {\n",
       "    console.log(\"Bokeh: ERROR: autoload.js configured with elementid 'e5dfca51-3cbd-41d4-a36a-b578d3f0cdad' but no matching script tag was found. \")\n",
       "    return false;\n",
       "  }\n",
       "\n",
       "  var js_urls = [\"https://cdn.pydata.org/bokeh/release/bokeh-0.12.5.min.js\", \"https://cdn.pydata.org/bokeh/release/bokeh-widgets-0.12.5.min.js\"];\n",
       "\n",
       "  var inline_js = [\n",
       "    function(Bokeh) {\n",
       "      Bokeh.set_log_level(\"info\");\n",
       "    },\n",
       "    \n",
       "    function(Bokeh) {\n",
       "      \n",
       "    },\n",
       "    \n",
       "    function(Bokeh) {\n",
       "      \n",
       "      document.getElementById(\"e5dfca51-3cbd-41d4-a36a-b578d3f0cdad\").textContent = \"BokehJS is loading...\";\n",
       "    },\n",
       "    function(Bokeh) {\n",
       "      console.log(\"Bokeh: injecting CSS: https://cdn.pydata.org/bokeh/release/bokeh-0.12.5.min.css\");\n",
       "      Bokeh.embed.inject_css(\"https://cdn.pydata.org/bokeh/release/bokeh-0.12.5.min.css\");\n",
       "      console.log(\"Bokeh: injecting CSS: https://cdn.pydata.org/bokeh/release/bokeh-widgets-0.12.5.min.css\");\n",
       "      Bokeh.embed.inject_css(\"https://cdn.pydata.org/bokeh/release/bokeh-widgets-0.12.5.min.css\");\n",
       "    }\n",
       "  ];\n",
       "\n",
       "  function run_inline_js() {\n",
       "    \n",
       "    if ((window.Bokeh !== undefined) || (force === true)) {\n",
       "      for (var i = 0; i < inline_js.length; i++) {\n",
       "        inline_js[i](window.Bokeh);\n",
       "      }if (force === true) {\n",
       "        display_loaded();\n",
       "      }} else if (Date.now() < window._bokeh_timeout) {\n",
       "      setTimeout(run_inline_js, 100);\n",
       "    } else if (!window._bokeh_failed_load) {\n",
       "      console.log(\"Bokeh: BokehJS failed to load within specified timeout.\");\n",
       "      window._bokeh_failed_load = true;\n",
       "    } else if (force !== true) {\n",
       "      var cell = $(document.getElementById(\"e5dfca51-3cbd-41d4-a36a-b578d3f0cdad\")).parents('.cell').data().cell;\n",
       "      cell.output_area.append_execute_result(NB_LOAD_WARNING)\n",
       "    }\n",
       "\n",
       "  }\n",
       "\n",
       "  if (window._bokeh_is_loading === 0) {\n",
       "    console.log(\"Bokeh: BokehJS loaded, going straight to plotting\");\n",
       "    run_inline_js();\n",
       "  } else {\n",
       "    load_libs(js_urls, function() {\n",
       "      console.log(\"Bokeh: BokehJS plotting callback run at\", now());\n",
       "      run_inline_js();\n",
       "    });\n",
       "  }\n",
       "}(this));"
      ]
     },
     "metadata": {},
     "output_type": "display_data"
    }
   ],
   "source": [
    "from bokeh.charts import Line, show, output_notebook\n",
    "\n",
    "from bokeh.charts import Histogram, output_file, show\n",
    "from bokeh.layouts import row\n",
    "from bokeh.sampledata.autompg import autompg as df\n",
    "\n",
    "output_notebook()"
   ]
  },
  {
   "cell_type": "markdown",
   "metadata": {},
   "source": [
    "# Precision"
   ]
  },
  {
   "cell_type": "code",
   "execution_count": null,
   "metadata": {
    "collapsed": true
   },
   "outputs": [],
   "source": []
  },
  {
   "cell_type": "markdown",
   "metadata": {},
   "source": [
    "# Recall"
   ]
  },
  {
   "cell_type": "code",
   "execution_count": null,
   "metadata": {
    "collapsed": true
   },
   "outputs": [],
   "source": []
  },
  {
   "cell_type": "markdown",
   "metadata": {},
   "source": [
    "# F1"
   ]
  },
  {
   "cell_type": "code",
   "execution_count": 5,
   "metadata": {
    "collapsed": true
   },
   "outputs": [],
   "source": [
    "import numpy as np"
   ]
  },
  {
   "cell_type": "code",
   "execution_count": 10,
   "metadata": {
    "collapsed": true
   },
   "outputs": [],
   "source": [
    "bins = list(np.arange(0.3,1.01,0.05))"
   ]
  },
  {
   "cell_type": "code",
   "execution_count": 11,
   "metadata": {
    "collapsed": false
   },
   "outputs": [
    {
     "data": {
      "text/html": [
       "\n",
       "\n",
       "    <div class=\"bk-root\">\n",
       "        <div class=\"bk-plotdiv\" id=\"81dfb298-24c2-43fe-8192-283d9454766a\"></div>\n",
       "    </div>\n",
       "<script type=\"text/javascript\">\n",
       "  \n",
       "  (function(global) {\n",
       "    function now() {\n",
       "      return new Date();\n",
       "    }\n",
       "  \n",
       "    var force = false;\n",
       "  \n",
       "    if (typeof (window._bokeh_onload_callbacks) === \"undefined\" || force === true) {\n",
       "      window._bokeh_onload_callbacks = [];\n",
       "      window._bokeh_is_loading = undefined;\n",
       "    }\n",
       "  \n",
       "  \n",
       "    \n",
       "    if (typeof (window._bokeh_timeout) === \"undefined\" || force === true) {\n",
       "      window._bokeh_timeout = Date.now() + 0;\n",
       "      window._bokeh_failed_load = false;\n",
       "    }\n",
       "  \n",
       "    var NB_LOAD_WARNING = {'data': {'text/html':\n",
       "       \"<div style='background-color: #fdd'>\\n\"+\n",
       "       \"<p>\\n\"+\n",
       "       \"BokehJS does not appear to have successfully loaded. If loading BokehJS from CDN, this \\n\"+\n",
       "       \"may be due to a slow or bad network connection. Possible fixes:\\n\"+\n",
       "       \"</p>\\n\"+\n",
       "       \"<ul>\\n\"+\n",
       "       \"<li>re-rerun `output_notebook()` to attempt to load from CDN again, or</li>\\n\"+\n",
       "       \"<li>use INLINE resources instead, as so:</li>\\n\"+\n",
       "       \"</ul>\\n\"+\n",
       "       \"<code>\\n\"+\n",
       "       \"from bokeh.resources import INLINE\\n\"+\n",
       "       \"output_notebook(resources=INLINE)\\n\"+\n",
       "       \"</code>\\n\"+\n",
       "       \"</div>\"}};\n",
       "  \n",
       "    function display_loaded() {\n",
       "      if (window.Bokeh !== undefined) {\n",
       "        var el = document.getElementById(\"81dfb298-24c2-43fe-8192-283d9454766a\");\n",
       "        el.textContent = \"BokehJS \" + Bokeh.version + \" successfully loaded.\";\n",
       "      } else if (Date.now() < window._bokeh_timeout) {\n",
       "        setTimeout(display_loaded, 100)\n",
       "      }\n",
       "    }\n",
       "  \n",
       "    function run_callbacks() {\n",
       "      window._bokeh_onload_callbacks.forEach(function(callback) { callback() });\n",
       "      delete window._bokeh_onload_callbacks\n",
       "      console.info(\"Bokeh: all callbacks have finished\");\n",
       "    }\n",
       "  \n",
       "    function load_libs(js_urls, callback) {\n",
       "      window._bokeh_onload_callbacks.push(callback);\n",
       "      if (window._bokeh_is_loading > 0) {\n",
       "        console.log(\"Bokeh: BokehJS is being loaded, scheduling callback at\", now());\n",
       "        return null;\n",
       "      }\n",
       "      if (js_urls == null || js_urls.length === 0) {\n",
       "        run_callbacks();\n",
       "        return null;\n",
       "      }\n",
       "      console.log(\"Bokeh: BokehJS not loaded, scheduling load and callback at\", now());\n",
       "      window._bokeh_is_loading = js_urls.length;\n",
       "      for (var i = 0; i < js_urls.length; i++) {\n",
       "        var url = js_urls[i];\n",
       "        var s = document.createElement('script');\n",
       "        s.src = url;\n",
       "        s.async = false;\n",
       "        s.onreadystatechange = s.onload = function() {\n",
       "          window._bokeh_is_loading--;\n",
       "          if (window._bokeh_is_loading === 0) {\n",
       "            console.log(\"Bokeh: all BokehJS libraries loaded\");\n",
       "            run_callbacks()\n",
       "          }\n",
       "        };\n",
       "        s.onerror = function() {\n",
       "          console.warn(\"failed to load library \" + url);\n",
       "        };\n",
       "        console.log(\"Bokeh: injecting script tag for BokehJS library: \", url);\n",
       "        document.getElementsByTagName(\"head\")[0].appendChild(s);\n",
       "      }\n",
       "    };var element = document.getElementById(\"81dfb298-24c2-43fe-8192-283d9454766a\");\n",
       "    if (element == null) {\n",
       "      console.log(\"Bokeh: ERROR: autoload.js configured with elementid '81dfb298-24c2-43fe-8192-283d9454766a' but no matching script tag was found. \")\n",
       "      return false;\n",
       "    }\n",
       "  \n",
       "    var js_urls = [];\n",
       "  \n",
       "    var inline_js = [\n",
       "      function(Bokeh) {\n",
       "        (function() {\n",
       "          var fn = function() {\n",
       "            var docs_json = {\"afac64f7-d18d-4b60-8d95-6b0ef70e5544\":{\"roots\":{\"references\":[{\"attributes\":{\"plot\":{\"id\":\"2c382a44-252f-4260-9808-19866c56a721\",\"subtype\":\"Chart\",\"type\":\"Plot\"}},\"id\":\"c323b097-e66c-4993-9cf0-05eb5bf75923\",\"type\":\"PanTool\"},{\"attributes\":{\"axis_label\":\"Count( A )\",\"formatter\":{\"id\":\"b92a61e7-cbed-4882-b404-1dca96b94377\",\"type\":\"BasicTickFormatter\"},\"plot\":{\"id\":\"0bee2ad1-6206-4114-b008-02e0f99476a5\",\"subtype\":\"Chart\",\"type\":\"Plot\"},\"ticker\":{\"id\":\"7f2271a9-6e51-41b4-a8aa-7c5c2d138feb\",\"type\":\"BasicTicker\"}},\"id\":\"fb6110df-2147-4170-9e99-f79824390d41\",\"type\":\"LinearAxis\"},{\"attributes\":{\"fill_alpha\":{\"field\":\"fill_alpha\"},\"fill_color\":{\"field\":\"color\"},\"height\":{\"field\":\"height\",\"units\":\"data\"},\"line_color\":{\"field\":\"line_color\"},\"width\":{\"field\":\"width\",\"units\":\"data\"},\"x\":{\"field\":\"x\"},\"y\":{\"field\":\"y\"}},\"id\":\"c14f217c-7c04-432a-ab52-201370a36658\",\"type\":\"Rect\"},{\"attributes\":{\"fill_alpha\":{\"field\":\"fill_alpha\"},\"fill_color\":{\"field\":\"color\"},\"height\":{\"field\":\"height\",\"units\":\"data\"},\"line_color\":{\"field\":\"line_color\"},\"width\":{\"field\":\"width\",\"units\":\"data\"},\"x\":{\"field\":\"x\"},\"y\":{\"field\":\"y\"}},\"id\":\"a91af1a0-e5e4-4b59-af4d-e255cb1ab360\",\"type\":\"Rect\"},{\"attributes\":{\"data_source\":{\"id\":\"17eb2d1b-bd84-4d50-92a8-61e00aacb55f\",\"type\":\"ColumnDataSource\"},\"glyph\":{\"id\":\"6d90dd27-b904-435c-9972-0bbd075f1ca6\",\"type\":\"Rect\"},\"hover_glyph\":null,\"muted_glyph\":null},\"id\":\"abea8983-1b21-433d-8b3f-c1645ffac717\",\"type\":\"GlyphRenderer\"},{\"attributes\":{\"data_source\":{\"id\":\"d6527dbd-10af-48ac-95f1-f2f52df7af88\",\"type\":\"ColumnDataSource\"},\"glyph\":{\"id\":\"ee0aedc2-ac2a-4acb-97fd-3e2eff19b2f8\",\"type\":\"Rect\"},\"hover_glyph\":null,\"muted_glyph\":null},\"id\":\"74345e0f-1561-4092-8cc2-6191bbb1f874\",\"type\":\"GlyphRenderer\"},{\"attributes\":{\"children\":[{\"id\":\"0bee2ad1-6206-4114-b008-02e0f99476a5\",\"subtype\":\"Chart\",\"type\":\"Plot\"},{\"id\":\"2c382a44-252f-4260-9808-19866c56a721\",\"subtype\":\"Chart\",\"type\":\"Plot\"},{\"id\":\"69ebe26b-1af8-462c-8402-0610e4829392\",\"subtype\":\"Chart\",\"type\":\"Plot\"}]},\"id\":\"b8adcf09-288b-4073-857c-918e9f8773f5\",\"type\":\"Row\"},{\"attributes\":{\"plot\":{\"id\":\"2c382a44-252f-4260-9808-19866c56a721\",\"subtype\":\"Chart\",\"type\":\"Plot\"}},\"id\":\"a5908647-9ee2-43d0-96d0-2bb500619f12\",\"type\":\"SaveTool\"},{\"attributes\":{\"callback\":null,\"column_names\":[\"line_color\",\"line_alpha\",\"color\",\"fill_alpha\",\"height\",\"width\",\"y\",\"x\",\"label\"],\"data\":{\"chart_index\":[\"(0.450000, 0.500000]\"],\"color\":[\"#f22c40\"],\"fill_alpha\":[0.8],\"height\":[0.0],\"label\":[\"(0.450000, 0.500000]\"],\"line_alpha\":[1.0],\"line_color\":[\"black\"],\"width\":[0.04999999999999999],\"x\":[\"0.475\"],\"y\":[0.0]}},\"id\":\"48c282c1-7737-4f6d-bf70-207200b441bc\",\"type\":\"ColumnDataSource\"},{\"attributes\":{\"data_source\":{\"id\":\"1fdf52c8-02e3-463a-8089-885a7294bb9a\",\"type\":\"ColumnDataSource\"},\"glyph\":{\"id\":\"59a7ebdd-2ccb-4509-ab18-3d86cd8df6ad\",\"type\":\"Rect\"},\"hover_glyph\":null,\"muted_glyph\":null},\"id\":\"c9dc4ece-5ec0-4069-99cc-9df05c18b14a\",\"type\":\"GlyphRenderer\"},{\"attributes\":{\"data_source\":{\"id\":\"e22ac22e-0ce0-4ea7-b99b-500bec0049a0\",\"type\":\"ColumnDataSource\"},\"glyph\":{\"id\":\"1584761a-627e-4003-b06c-682e01c01475\",\"type\":\"Rect\"},\"hover_glyph\":null,\"muted_glyph\":null},\"id\":\"d11e02d4-2fbc-4974-b470-a92d2b142c80\",\"type\":\"GlyphRenderer\"},{\"attributes\":{\"data_source\":{\"id\":\"fe9b3523-3729-4512-b170-708cccd4a9f1\",\"type\":\"ColumnDataSource\"},\"glyph\":{\"id\":\"a5c22208-46f8-4ab0-a2be-690821863bf5\",\"type\":\"Rect\"},\"hover_glyph\":null,\"muted_glyph\":null},\"id\":\"91844368-7e5d-482e-9d8b-ed5824abbd64\",\"type\":\"GlyphRenderer\"},{\"attributes\":{\"data_source\":{\"id\":\"2571175f-c5f6-490a-af78-e68a115cdaf3\",\"type\":\"ColumnDataSource\"},\"glyph\":{\"id\":\"806b887f-d067-41c5-904b-f15e0b53cc78\",\"type\":\"Rect\"},\"hover_glyph\":null,\"muted_glyph\":null},\"id\":\"907d7def-a8ba-4377-bc5c-c18ffd4d2b54\",\"type\":\"GlyphRenderer\"},{\"attributes\":{\"callback\":null,\"column_names\":[\"line_color\",\"line_alpha\",\"color\",\"fill_alpha\",\"height\",\"width\",\"y\",\"x\",\"label\"],\"data\":{\"chart_index\":[\"(0.900000, 0.950000]\"],\"color\":[\"#f22c40\"],\"fill_alpha\":[0.8],\"height\":[30.0],\"label\":[\"(0.900000, 0.950000]\"],\"line_alpha\":[1.0],\"line_color\":[\"black\"],\"width\":[0.050000000000000044],\"x\":[\"0.925\"],\"y\":[15.0]}},\"id\":\"4844c866-a79a-47ce-b9bb-84119c9e9eb5\",\"type\":\"ColumnDataSource\"},{\"attributes\":{\"fill_alpha\":{\"field\":\"fill_alpha\"},\"fill_color\":{\"field\":\"color\"},\"height\":{\"field\":\"height\",\"units\":\"data\"},\"line_color\":{\"field\":\"line_color\"},\"width\":{\"field\":\"width\",\"units\":\"data\"},\"x\":{\"field\":\"x\"},\"y\":{\"field\":\"y\"}},\"id\":\"2741d162-096c-42bf-9d6a-08273d56c149\",\"type\":\"Rect\"},{\"attributes\":{\"data_source\":{\"id\":\"decf7aa6-dd63-4351-b20e-64f412ee297e\",\"type\":\"ColumnDataSource\"},\"glyph\":{\"id\":\"a89ab47b-6c04-4023-9082-7c2b9f216667\",\"type\":\"Rect\"},\"hover_glyph\":null,\"muted_glyph\":null},\"id\":\"19d8bc8c-2a2b-4640-9168-488e253b13dd\",\"type\":\"GlyphRenderer\"},{\"attributes\":{\"axis_label\":\"a\",\"formatter\":{\"id\":\"5ccbae96-9101-4582-b2d2-87dbba7ef359\",\"type\":\"BasicTickFormatter\"},\"plot\":{\"id\":\"0bee2ad1-6206-4114-b008-02e0f99476a5\",\"subtype\":\"Chart\",\"type\":\"Plot\"},\"ticker\":{\"id\":\"2683a7f6-5723-4211-b751-2ea8fc7d30a8\",\"type\":\"BasicTicker\"}},\"id\":\"46bbabf5-3373-4078-abf2-c1c99e6092e9\",\"type\":\"LinearAxis\"},{\"attributes\":{\"data_source\":{\"id\":\"9868325a-33a4-4377-8eb8-2af096857070\",\"type\":\"ColumnDataSource\"},\"glyph\":{\"id\":\"4387159e-39f8-4937-baf6-f62e1f4f3309\",\"type\":\"Rect\"},\"hover_glyph\":null,\"muted_glyph\":null},\"id\":\"75117801-be7a-47aa-b9e5-bc1afa93dfe1\",\"type\":\"GlyphRenderer\"},{\"attributes\":{\"fill_alpha\":{\"field\":\"fill_alpha\"},\"fill_color\":{\"field\":\"color\"},\"height\":{\"field\":\"height\",\"units\":\"data\"},\"line_color\":{\"field\":\"line_color\"},\"width\":{\"field\":\"width\",\"units\":\"data\"},\"x\":{\"field\":\"x\"},\"y\":{\"field\":\"y\"}},\"id\":\"6c11fce8-9917-4773-af59-8e297eba4bda\",\"type\":\"Rect\"},{\"attributes\":{\"callback\":null,\"column_names\":[\"line_color\",\"line_alpha\",\"color\",\"fill_alpha\",\"height\",\"width\",\"y\",\"x\",\"label\"],\"data\":{\"chart_index\":[\"(0.450000, 0.500000]\"],\"color\":[\"#f22c40\"],\"fill_alpha\":[0.8],\"height\":[0.0],\"label\":[\"(0.450000, 0.500000]\"],\"line_alpha\":[1.0],\"line_color\":[\"black\"],\"width\":[0.04999999999999999],\"x\":[\"0.475\"],\"y\":[0.0]}},\"id\":\"386524fb-ede1-4e38-800c-980b7cae871d\",\"type\":\"ColumnDataSource\"},{\"attributes\":{},\"id\":\"d74c8f18-afec-47ba-92d2-200dfe631c77\",\"type\":\"BasicTickFormatter\"},{\"attributes\":{\"fill_alpha\":{\"field\":\"fill_alpha\"},\"fill_color\":{\"field\":\"color\"},\"height\":{\"field\":\"height\",\"units\":\"data\"},\"line_color\":{\"field\":\"line_color\"},\"width\":{\"field\":\"width\",\"units\":\"data\"},\"x\":{\"field\":\"x\"},\"y\":{\"field\":\"y\"}},\"id\":\"07e0b376-ec26-4e09-ba7d-a7bf28521489\",\"type\":\"Rect\"},{\"attributes\":{\"fill_alpha\":{\"field\":\"fill_alpha\"},\"fill_color\":{\"field\":\"color\"},\"height\":{\"field\":\"height\",\"units\":\"data\"},\"line_color\":{\"field\":\"line_color\"},\"width\":{\"field\":\"width\",\"units\":\"data\"},\"x\":{\"field\":\"x\"},\"y\":{\"field\":\"y\"}},\"id\":\"69a53ab5-fdd6-498e-be18-f1c54e02735a\",\"type\":\"Rect\"},{\"attributes\":{\"fill_alpha\":{\"field\":\"fill_alpha\"},\"fill_color\":{\"field\":\"color\"},\"height\":{\"field\":\"height\",\"units\":\"data\"},\"line_color\":{\"field\":\"line_color\"},\"width\":{\"field\":\"width\",\"units\":\"data\"},\"x\":{\"field\":\"x\"},\"y\":{\"field\":\"y\"}},\"id\":\"1c7fbffe-6122-42b9-9b4d-d39825fafd0f\",\"type\":\"Rect\"},{\"attributes\":{\"plot\":{\"id\":\"69ebe26b-1af8-462c-8402-0610e4829392\",\"subtype\":\"Chart\",\"type\":\"Plot\"}},\"id\":\"a3b61ef9-83cf-48ee-bb21-c100d3aca793\",\"type\":\"WheelZoomTool\"},{\"attributes\":{\"fill_alpha\":{\"field\":\"fill_alpha\"},\"fill_color\":{\"field\":\"color\"},\"height\":{\"field\":\"height\",\"units\":\"data\"},\"line_color\":{\"field\":\"line_color\"},\"width\":{\"field\":\"width\",\"units\":\"data\"},\"x\":{\"field\":\"x\"},\"y\":{\"field\":\"y\"}},\"id\":\"6272266f-05a8-49d2-a8ee-06b7111d6f5b\",\"type\":\"Rect\"},{\"attributes\":{},\"id\":\"f64eb3f0-14ea-4ee5-9e95-78949fb5d43c\",\"type\":\"BasicTickFormatter\"},{\"attributes\":{\"callback\":null,\"column_names\":[\"line_color\",\"line_alpha\",\"color\",\"fill_alpha\",\"height\",\"width\",\"y\",\"x\",\"label\"],\"data\":{\"chart_index\":[\"(0.550000, 0.600000]\"],\"color\":[\"#f22c40\"],\"fill_alpha\":[0.8],\"height\":[0.0],\"label\":[\"(0.550000, 0.600000]\"],\"line_alpha\":[1.0],\"line_color\":[\"black\"],\"width\":[0.04999999999999993],\"x\":[\"0.575\"],\"y\":[0.0]}},\"id\":\"6aabece3-db6d-4579-8ced-1acf673a094c\",\"type\":\"ColumnDataSource\"},{\"attributes\":{\"callback\":null,\"end\":35.2},\"id\":\"11bb6bbf-4159-4b1f-8b20-e78989068078\",\"type\":\"Range1d\"},{\"attributes\":{\"fill_alpha\":{\"field\":\"fill_alpha\"},\"fill_color\":{\"field\":\"color\"},\"height\":{\"field\":\"height\",\"units\":\"data\"},\"line_color\":{\"field\":\"line_color\"},\"width\":{\"field\":\"width\",\"units\":\"data\"},\"x\":{\"field\":\"x\"},\"y\":{\"field\":\"y\"}},\"id\":\"7fdbf050-f5c3-4696-b9cf-2eb5cc115166\",\"type\":\"Rect\"},{\"attributes\":{\"callback\":null,\"column_names\":[\"line_color\",\"line_alpha\",\"color\",\"fill_alpha\",\"height\",\"width\",\"y\",\"x\",\"label\"],\"data\":{\"chart_index\":[\"(0.700000, 0.750000]\"],\"color\":[\"#f22c40\"],\"fill_alpha\":[0.8],\"height\":[0.0],\"label\":[\"(0.700000, 0.750000]\"],\"line_alpha\":[1.0],\"line_color\":[\"black\"],\"width\":[0.04999999999999993],\"x\":[\"0.725\"],\"y\":[0.0]}},\"id\":\"380f66db-f708-42bd-9958-f29eb3b1b117\",\"type\":\"ColumnDataSource\"},{\"attributes\":{\"fill_alpha\":{\"field\":\"fill_alpha\"},\"fill_color\":{\"field\":\"color\"},\"height\":{\"field\":\"height\",\"units\":\"data\"},\"line_color\":{\"field\":\"line_color\"},\"width\":{\"field\":\"width\",\"units\":\"data\"},\"x\":{\"field\":\"x\"},\"y\":{\"field\":\"y\"}},\"id\":\"1f017f1e-499e-4c62-aaba-8dc1d7e289c2\",\"type\":\"Rect\"},{\"attributes\":{\"callback\":null,\"column_names\":[\"line_color\",\"line_alpha\",\"color\",\"fill_alpha\",\"height\",\"width\",\"y\",\"x\",\"label\"],\"data\":{\"chart_index\":[\"(0.350000, 0.400000]\"],\"color\":[\"#f22c40\"],\"fill_alpha\":[0.8],\"height\":[0.0],\"label\":[\"(0.350000, 0.400000]\"],\"line_alpha\":[1.0],\"line_color\":[\"black\"],\"width\":[0.04999999999999999],\"x\":[\"0.375\"],\"y\":[0.0]}},\"id\":\"fe9b3523-3729-4512-b170-708cccd4a9f1\",\"type\":\"ColumnDataSource\"},{\"attributes\":{\"fill_alpha\":{\"field\":\"fill_alpha\"},\"fill_color\":{\"field\":\"color\"},\"height\":{\"field\":\"height\",\"units\":\"data\"},\"line_color\":{\"field\":\"line_color\"},\"width\":{\"field\":\"width\",\"units\":\"data\"},\"x\":{\"field\":\"x\"},\"y\":{\"field\":\"y\"}},\"id\":\"5f70be7a-7bf6-40fa-8dee-21eb058fbf15\",\"type\":\"Rect\"},{\"attributes\":{\"overlay\":{\"id\":\"c8bce1d4-a9f8-4d68-a855-dc47d31e8093\",\"type\":\"BoxAnnotation\"},\"plot\":{\"id\":\"69ebe26b-1af8-462c-8402-0610e4829392\",\"subtype\":\"Chart\",\"type\":\"Plot\"}},\"id\":\"93564932-0352-4519-8246-e91e8fc6c7c1\",\"type\":\"BoxZoomTool\"},{\"attributes\":{\"data_source\":{\"id\":\"1362820e-3bb9-4a2a-bff9-5dc164ddae52\",\"type\":\"ColumnDataSource\"},\"glyph\":{\"id\":\"2741d162-096c-42bf-9d6a-08273d56c149\",\"type\":\"Rect\"},\"hover_glyph\":null,\"muted_glyph\":null},\"id\":\"0a886f49-49e0-4b80-bab5-46079daff94c\",\"type\":\"GlyphRenderer\"},{\"attributes\":{\"overlay\":{\"id\":\"64bca5b6-3892-41b3-9b14-f2447cf6ce91\",\"type\":\"BoxAnnotation\"},\"plot\":{\"id\":\"2c382a44-252f-4260-9808-19866c56a721\",\"subtype\":\"Chart\",\"type\":\"Plot\"}},\"id\":\"b3270931-083b-4e17-abf7-8f688893c48a\",\"type\":\"BoxZoomTool\"},{\"attributes\":{\"callback\":null,\"column_names\":[\"line_color\",\"line_alpha\",\"color\",\"fill_alpha\",\"height\",\"width\",\"y\",\"x\",\"label\"],\"data\":{\"chart_index\":[\"(0.350000, 0.400000]\"],\"color\":[\"#f22c40\"],\"fill_alpha\":[0.8],\"height\":[1.0],\"label\":[\"(0.350000, 0.400000]\"],\"line_alpha\":[1.0],\"line_color\":[\"black\"],\"width\":[0.04999999999999999],\"x\":[\"0.375\"],\"y\":[0.5]}},\"id\":\"5dc9c627-b3c4-4c9b-b122-07d6334152b5\",\"type\":\"ColumnDataSource\"},{\"attributes\":{\"callback\":null,\"column_names\":[\"line_color\",\"line_alpha\",\"color\",\"fill_alpha\",\"height\",\"width\",\"y\",\"x\",\"label\"],\"data\":{\"chart_index\":[\"(0.400000, 0.450000]\"],\"color\":[\"#f22c40\"],\"fill_alpha\":[0.8],\"height\":[0.0],\"label\":[\"(0.400000, 0.450000]\"],\"line_alpha\":[1.0],\"line_color\":[\"black\"],\"width\":[0.04999999999999999],\"x\":[\"0.425\"],\"y\":[0.0]}},\"id\":\"da7a910d-43d4-4010-86bd-1e8ef9c6ea1d\",\"type\":\"ColumnDataSource\"},{\"attributes\":{\"axis_label\":\"a\",\"formatter\":{\"id\":\"f64eb3f0-14ea-4ee5-9e95-78949fb5d43c\",\"type\":\"BasicTickFormatter\"},\"plot\":{\"id\":\"2c382a44-252f-4260-9808-19866c56a721\",\"subtype\":\"Chart\",\"type\":\"Plot\"},\"ticker\":{\"id\":\"ce6e8bcf-87e4-41f4-85e9-24ed49502bf3\",\"type\":\"BasicTicker\"}},\"id\":\"1bd8fc11-aeee-4288-bc9f-9aa83897219d\",\"type\":\"LinearAxis\"},{\"attributes\":{\"data_source\":{\"id\":\"ba379f16-b39f-4633-a487-8ea332cea688\",\"type\":\"ColumnDataSource\"},\"glyph\":{\"id\":\"b7239bdb-2c2c-4999-a7f8-0c303a43aad5\",\"type\":\"Rect\"},\"hover_glyph\":null,\"muted_glyph\":null},\"id\":\"d7fe3f0d-62fa-4eeb-99f0-c0e9b65e9c7d\",\"type\":\"GlyphRenderer\"},{\"attributes\":{\"below\":[{\"id\":\"1bd8fc11-aeee-4288-bc9f-9aa83897219d\",\"type\":\"LinearAxis\"}],\"css_classes\":null,\"left\":[{\"id\":\"049bf432-9015-40e9-9feb-21fd283293e9\",\"type\":\"LinearAxis\"}],\"renderers\":[{\"id\":\"64bca5b6-3892-41b3-9b14-f2447cf6ce91\",\"type\":\"BoxAnnotation\"},{\"id\":\"1ad5491a-5589-4d0a-8f9e-f25a74f02bb0\",\"type\":\"GlyphRenderer\"},{\"id\":\"310d2fe4-1388-4014-b68f-cdb3e88e3443\",\"type\":\"GlyphRenderer\"},{\"id\":\"5e5f1a4c-0a58-44e6-946e-1437dac9817a\",\"type\":\"GlyphRenderer\"},{\"id\":\"efe8a55e-c203-4b78-a80c-bc62d18eb680\",\"type\":\"GlyphRenderer\"},{\"id\":\"fa45bd40-32ae-48f3-89e0-a0a2596d2259\",\"type\":\"GlyphRenderer\"},{\"id\":\"dc652144-622b-44ac-a1ac-fd06e1dd7b2d\",\"type\":\"GlyphRenderer\"},{\"id\":\"1f76521b-4bb1-40da-ae84-cc8c653e9abc\",\"type\":\"GlyphRenderer\"},{\"id\":\"60e7d95c-41b6-4b1a-8dd5-bb1c8e216ea3\",\"type\":\"GlyphRenderer\"},{\"id\":\"c1769027-2119-4aba-a44e-18650f2015e3\",\"type\":\"GlyphRenderer\"},{\"id\":\"335ffc1b-fa42-440e-9367-a60d369f55bc\",\"type\":\"GlyphRenderer\"},{\"id\":\"fe5aad30-5dda-46d6-a6e7-da99b9b039cf\",\"type\":\"GlyphRenderer\"},{\"id\":\"907d7def-a8ba-4377-bc5c-c18ffd4d2b54\",\"type\":\"GlyphRenderer\"},{\"id\":\"c8858034-ba1b-4cf0-b724-172f2241859b\",\"type\":\"GlyphRenderer\"},{\"id\":\"7c23a5aa-9d4b-4593-858c-484e31c96e5e\",\"type\":\"GlyphRenderer\"},{\"id\":\"7a3f13cf-4cd3-4fd7-91fd-b227653a7711\",\"type\":\"Legend\"},{\"id\":\"1bd8fc11-aeee-4288-bc9f-9aa83897219d\",\"type\":\"LinearAxis\"},{\"id\":\"049bf432-9015-40e9-9feb-21fd283293e9\",\"type\":\"LinearAxis\"},{\"id\":\"d3c5b2a4-ea53-4b71-9005-1120db760a12\",\"type\":\"Grid\"}],\"title\":{\"id\":\"8d221390-018b-428d-81f8-27457b49c1c7\",\"type\":\"Title\"},\"tool_events\":{\"id\":\"1b2cc081-265b-4fdc-9c26-20bc99156e82\",\"type\":\"ToolEvents\"},\"toolbar\":{\"id\":\"9c26fdfb-bfb1-48bf-b987-e1524ba7821c\",\"type\":\"Toolbar\"},\"x_mapper_type\":\"auto\",\"x_range\":{\"id\":\"64a9dcb4-76b7-4110-8bc5-892408eaa896\",\"type\":\"Range1d\"},\"y_mapper_type\":\"auto\",\"y_range\":{\"id\":\"4413c440-9874-4353-b3aa-d126e4075acc\",\"type\":\"Range1d\"}},\"id\":\"2c382a44-252f-4260-9808-19866c56a721\",\"subtype\":\"Chart\",\"type\":\"Plot\"},{\"attributes\":{\"callback\":null,\"end\":1.0325,\"start\":0.26749999999999996},\"id\":\"b42d01a3-35c1-428b-a10a-53930a349963\",\"type\":\"Range1d\"},{\"attributes\":{\"data_source\":{\"id\":\"b4c9ac2a-7582-4356-8776-9b71ee8ef800\",\"type\":\"ColumnDataSource\"},\"glyph\":{\"id\":\"97ffb8a9-21de-415c-b5af-4c701db64111\",\"type\":\"Rect\"},\"hover_glyph\":null,\"muted_glyph\":null},\"id\":\"c8858034-ba1b-4cf0-b724-172f2241859b\",\"type\":\"GlyphRenderer\"},{\"attributes\":{\"fill_alpha\":{\"field\":\"fill_alpha\"},\"fill_color\":{\"field\":\"color\"},\"height\":{\"field\":\"height\",\"units\":\"data\"},\"line_color\":{\"field\":\"line_color\"},\"width\":{\"field\":\"width\",\"units\":\"data\"},\"x\":{\"field\":\"x\"},\"y\":{\"field\":\"y\"}},\"id\":\"561ef305-5697-4cc6-ae39-4585c944d764\",\"type\":\"Rect\"},{\"attributes\":{},\"id\":\"44ff36d0-a0d7-4670-b42f-baf88f697387\",\"type\":\"BasicTicker\"},{\"attributes\":{\"fill_alpha\":{\"field\":\"fill_alpha\"},\"fill_color\":{\"field\":\"color\"},\"height\":{\"field\":\"height\",\"units\":\"data\"},\"line_color\":{\"field\":\"line_color\"},\"width\":{\"field\":\"width\",\"units\":\"data\"},\"x\":{\"field\":\"x\"},\"y\":{\"field\":\"y\"}},\"id\":\"2e29b4d0-78d0-454c-adb5-09f0287c97ae\",\"type\":\"Rect\"},{\"attributes\":{\"data_source\":{\"id\":\"f672670b-e382-44db-94c6-f1586f646114\",\"type\":\"ColumnDataSource\"},\"glyph\":{\"id\":\"cd3eed55-ffa6-4e9b-9a76-d4879be98c7a\",\"type\":\"Rect\"},\"hover_glyph\":null,\"muted_glyph\":null},\"id\":\"5e5f1a4c-0a58-44e6-946e-1437dac9817a\",\"type\":\"GlyphRenderer\"},{\"attributes\":{\"data_source\":{\"id\":\"da7a910d-43d4-4010-86bd-1e8ef9c6ea1d\",\"type\":\"ColumnDataSource\"},\"glyph\":{\"id\":\"5f98b08d-24d7-4db8-8049-7c2ec9099c3f\",\"type\":\"Rect\"},\"hover_glyph\":null,\"muted_glyph\":null},\"id\":\"9e1f182a-7d25-4b11-9a0c-d5d9a22f25b0\",\"type\":\"GlyphRenderer\"},{\"attributes\":{\"axis_label\":\"Count( A )\",\"formatter\":{\"id\":\"a1822681-a944-46be-847b-196079fa92de\",\"type\":\"BasicTickFormatter\"},\"plot\":{\"id\":\"2c382a44-252f-4260-9808-19866c56a721\",\"subtype\":\"Chart\",\"type\":\"Plot\"},\"ticker\":{\"id\":\"11b09b91-bcc2-4ec0-b12b-d8e68ee651d0\",\"type\":\"BasicTicker\"}},\"id\":\"049bf432-9015-40e9-9feb-21fd283293e9\",\"type\":\"LinearAxis\"},{\"attributes\":{\"data_source\":{\"id\":\"f7c2203b-074a-4625-b27d-a7c6cdbe8ad2\",\"type\":\"ColumnDataSource\"},\"glyph\":{\"id\":\"b6edbef2-0acb-4df0-8bc5-6708f8179731\",\"type\":\"Rect\"},\"hover_glyph\":null,\"muted_glyph\":null},\"id\":\"ee87c009-8988-4dd0-bd7c-e98c5ea1d6e2\",\"type\":\"GlyphRenderer\"},{\"attributes\":{\"callback\":null,\"column_names\":[\"line_color\",\"line_alpha\",\"color\",\"fill_alpha\",\"height\",\"width\",\"y\",\"x\",\"label\"],\"data\":{\"chart_index\":[\"(0.800000, 0.850000]\"],\"color\":[\"#f22c40\"],\"fill_alpha\":[0.8],\"height\":[2.0],\"label\":[\"(0.800000, 0.850000]\"],\"line_alpha\":[1.0],\"line_color\":[\"black\"],\"width\":[0.050000000000000044],\"x\":[\"0.825\"],\"y\":[1.0]}},\"id\":\"8609514d-a7cd-4a4f-96af-e0fb84f5084a\",\"type\":\"ColumnDataSource\"},{\"attributes\":{\"fill_alpha\":{\"field\":\"fill_alpha\"},\"fill_color\":{\"field\":\"color\"},\"height\":{\"field\":\"height\",\"units\":\"data\"},\"line_color\":{\"field\":\"line_color\"},\"width\":{\"field\":\"width\",\"units\":\"data\"},\"x\":{\"field\":\"x\"},\"y\":{\"field\":\"y\"}},\"id\":\"a89ab47b-6c04-4023-9082-7c2b9f216667\",\"type\":\"Rect\"},{\"attributes\":{\"data_source\":{\"id\":\"4755983d-72c0-464d-a665-98e9fcc3f8c0\",\"type\":\"ColumnDataSource\"},\"glyph\":{\"id\":\"88f55daf-431e-419f-837e-145bfb36ca5b\",\"type\":\"Rect\"},\"hover_glyph\":null,\"muted_glyph\":null},\"id\":\"fa45bd40-32ae-48f3-89e0-a0a2596d2259\",\"type\":\"GlyphRenderer\"},{\"attributes\":{\"fill_alpha\":{\"field\":\"fill_alpha\"},\"fill_color\":{\"field\":\"color\"},\"height\":{\"field\":\"height\",\"units\":\"data\"},\"line_color\":{\"field\":\"line_color\"},\"width\":{\"field\":\"width\",\"units\":\"data\"},\"x\":{\"field\":\"x\"},\"y\":{\"field\":\"y\"}},\"id\":\"3ab6c5cd-c7e2-44df-a38d-8547a5f593fa\",\"type\":\"Rect\"},{\"attributes\":{\"fill_alpha\":{\"field\":\"fill_alpha\"},\"fill_color\":{\"field\":\"color\"},\"height\":{\"field\":\"height\",\"units\":\"data\"},\"line_color\":{\"field\":\"line_color\"},\"width\":{\"field\":\"width\",\"units\":\"data\"},\"x\":{\"field\":\"x\"},\"y\":{\"field\":\"y\"}},\"id\":\"6e0ffd87-2fdd-4c14-87bd-6536ffa989bd\",\"type\":\"Rect\"},{\"attributes\":{\"location\":\"top_left\",\"plot\":{\"id\":\"69ebe26b-1af8-462c-8402-0610e4829392\",\"subtype\":\"Chart\",\"type\":\"Plot\"}},\"id\":\"4c62a784-b781-437c-acd1-19a28066074b\",\"type\":\"Legend\"},{\"attributes\":{\"callback\":null,\"end\":1.0325,\"start\":0.26749999999999996},\"id\":\"bb1dda91-62da-4b77-88c2-6bcbbd8eefb5\",\"type\":\"Range1d\"},{\"attributes\":{\"fill_alpha\":{\"field\":\"fill_alpha\"},\"fill_color\":{\"field\":\"color\"},\"height\":{\"field\":\"height\",\"units\":\"data\"},\"line_color\":{\"field\":\"line_color\"},\"width\":{\"field\":\"width\",\"units\":\"data\"},\"x\":{\"field\":\"x\"},\"y\":{\"field\":\"y\"}},\"id\":\"ee0aedc2-ac2a-4acb-97fd-3e2eff19b2f8\",\"type\":\"Rect\"},{\"attributes\":{\"fill_alpha\":{\"field\":\"fill_alpha\"},\"fill_color\":{\"field\":\"color\"},\"height\":{\"field\":\"height\",\"units\":\"data\"},\"line_color\":{\"field\":\"line_color\"},\"width\":{\"field\":\"width\",\"units\":\"data\"},\"x\":{\"field\":\"x\"},\"y\":{\"field\":\"y\"}},\"id\":\"59a7ebdd-2ccb-4509-ab18-3d86cd8df6ad\",\"type\":\"Rect\"},{\"attributes\":{},\"id\":\"816c8e2f-86b1-4aed-84ab-b478e3278fbd\",\"type\":\"BasicTickFormatter\"},{\"attributes\":{},\"id\":\"a1822681-a944-46be-847b-196079fa92de\",\"type\":\"BasicTickFormatter\"},{\"attributes\":{\"data_source\":{\"id\":\"a8113857-0244-4d08-81b6-602930507fc7\",\"type\":\"ColumnDataSource\"},\"glyph\":{\"id\":\"f3adec36-df58-4e48-8139-134b73b55540\",\"type\":\"Rect\"},\"hover_glyph\":null,\"muted_glyph\":null},\"id\":\"36198bb6-d428-4df3-8e5d-e03e3f739449\",\"type\":\"GlyphRenderer\"},{\"attributes\":{\"plot\":{\"id\":\"0bee2ad1-6206-4114-b008-02e0f99476a5\",\"subtype\":\"Chart\",\"type\":\"Plot\"}},\"id\":\"2150d485-1e19-408b-a50e-ca8b262f7250\",\"type\":\"WheelZoomTool\"},{\"attributes\":{\"callback\":null,\"column_names\":[\"line_color\",\"line_alpha\",\"color\",\"fill_alpha\",\"height\",\"width\",\"y\",\"x\",\"label\"],\"data\":{\"chart_index\":[\"(0.800000, 0.850000]\"],\"color\":[\"#f22c40\"],\"fill_alpha\":[0.8],\"height\":[13.0],\"label\":[\"(0.800000, 0.850000]\"],\"line_alpha\":[1.0],\"line_color\":[\"black\"],\"width\":[0.050000000000000044],\"x\":[\"0.825\"],\"y\":[6.5]}},\"id\":\"d5e4d27e-5d14-4078-97c8-2ac2b2e5ceed\",\"type\":\"ColumnDataSource\"},{\"attributes\":{\"data_source\":{\"id\":\"6aabece3-db6d-4579-8ced-1acf673a094c\",\"type\":\"ColumnDataSource\"},\"glyph\":{\"id\":\"07e0b376-ec26-4e09-ba7d-a7bf28521489\",\"type\":\"Rect\"},\"hover_glyph\":null,\"muted_glyph\":null},\"id\":\"bc8d3f9a-dca1-4d28-aecd-9240e50c6d62\",\"type\":\"GlyphRenderer\"},{\"attributes\":{\"fill_alpha\":{\"field\":\"fill_alpha\"},\"fill_color\":{\"field\":\"color\"},\"height\":{\"field\":\"height\",\"units\":\"data\"},\"line_color\":{\"field\":\"line_color\"},\"width\":{\"field\":\"width\",\"units\":\"data\"},\"x\":{\"field\":\"x\"},\"y\":{\"field\":\"y\"}},\"id\":\"27940af9-eb13-411f-abd4-1c132c11b125\",\"type\":\"Rect\"},{\"attributes\":{\"data_source\":{\"id\":\"025bb7fb-5029-494f-b3d1-813f69f7a6ea\",\"type\":\"ColumnDataSource\"},\"glyph\":{\"id\":\"1c7fbffe-6122-42b9-9b4d-d39825fafd0f\",\"type\":\"Rect\"},\"hover_glyph\":null,\"muted_glyph\":null},\"id\":\"7c23a5aa-9d4b-4593-858c-484e31c96e5e\",\"type\":\"GlyphRenderer\"},{\"attributes\":{\"active_drag\":\"auto\",\"active_scroll\":\"auto\",\"active_tap\":\"auto\",\"tools\":[{\"id\":\"dce651c2-2a98-4f55-ab41-f8c10bbb4466\",\"type\":\"PanTool\"},{\"id\":\"a3b61ef9-83cf-48ee-bb21-c100d3aca793\",\"type\":\"WheelZoomTool\"},{\"id\":\"93564932-0352-4519-8246-e91e8fc6c7c1\",\"type\":\"BoxZoomTool\"},{\"id\":\"d6791cde-66ef-4309-b5f9-a35ca44d00d3\",\"type\":\"SaveTool\"},{\"id\":\"a4d1edcc-86a2-4751-99cf-619b65ba8758\",\"type\":\"ResetTool\"},{\"id\":\"85697af9-d41d-4854-8647-f22c37462add\",\"type\":\"HelpTool\"}]},\"id\":\"02016228-9b14-432f-84ca-29995c383f15\",\"type\":\"Toolbar\"},{\"attributes\":{},\"id\":\"2683a7f6-5723-4211-b751-2ea8fc7d30a8\",\"type\":\"BasicTicker\"},{\"attributes\":{},\"id\":\"5ccbae96-9101-4582-b2d2-87dbba7ef359\",\"type\":\"BasicTickFormatter\"},{\"attributes\":{\"fill_alpha\":{\"field\":\"fill_alpha\"},\"fill_color\":{\"field\":\"color\"},\"height\":{\"field\":\"height\",\"units\":\"data\"},\"line_color\":{\"field\":\"line_color\"},\"width\":{\"field\":\"width\",\"units\":\"data\"},\"x\":{\"field\":\"x\"},\"y\":{\"field\":\"y\"}},\"id\":\"f5159d44-5141-404e-992c-a33d1019a187\",\"type\":\"Rect\"},{\"attributes\":{\"dimension\":1,\"plot\":{\"id\":\"69ebe26b-1af8-462c-8402-0610e4829392\",\"subtype\":\"Chart\",\"type\":\"Plot\"},\"ticker\":{\"id\":\"1d8947c0-d3ab-4028-835e-41dd29e848c1\",\"type\":\"BasicTicker\"}},\"id\":\"05342dca-306b-4f0d-9a56-9a00c6359313\",\"type\":\"Grid\"},{\"attributes\":{\"callback\":null,\"column_names\":[\"line_color\",\"line_alpha\",\"color\",\"fill_alpha\",\"height\",\"width\",\"y\",\"x\",\"label\"],\"data\":{\"chart_index\":[\"(0.600000, 0.650000]\"],\"color\":[\"#f22c40\"],\"fill_alpha\":[0.8],\"height\":[0.0],\"label\":[\"(0.600000, 0.650000]\"],\"line_alpha\":[1.0],\"line_color\":[\"black\"],\"width\":[0.050000000000000044],\"x\":[\"0.625\"],\"y\":[0.0]}},\"id\":\"1362820e-3bb9-4a2a-bff9-5dc164ddae52\",\"type\":\"ColumnDataSource\"},{\"attributes\":{\"active_drag\":\"auto\",\"active_scroll\":\"auto\",\"active_tap\":\"auto\",\"tools\":[{\"id\":\"c323b097-e66c-4993-9cf0-05eb5bf75923\",\"type\":\"PanTool\"},{\"id\":\"b17d6bfc-e4a4-432d-bae9-70df6a604716\",\"type\":\"WheelZoomTool\"},{\"id\":\"b3270931-083b-4e17-abf7-8f688893c48a\",\"type\":\"BoxZoomTool\"},{\"id\":\"a5908647-9ee2-43d0-96d0-2bb500619f12\",\"type\":\"SaveTool\"},{\"id\":\"20e4b281-0e12-43b1-87dc-daf0f1252633\",\"type\":\"ResetTool\"},{\"id\":\"59ea4b47-b4db-4dd1-b452-10f1ec91badf\",\"type\":\"HelpTool\"}]},\"id\":\"9c26fdfb-bfb1-48bf-b987-e1524ba7821c\",\"type\":\"Toolbar\"},{\"attributes\":{\"fill_alpha\":{\"field\":\"fill_alpha\"},\"fill_color\":{\"field\":\"color\"},\"height\":{\"field\":\"height\",\"units\":\"data\"},\"line_color\":{\"field\":\"line_color\"},\"width\":{\"field\":\"width\",\"units\":\"data\"},\"x\":{\"field\":\"x\"},\"y\":{\"field\":\"y\"}},\"id\":\"0f258e2b-d8cd-41e1-9a7f-e89f7a494b00\",\"type\":\"Rect\"},{\"attributes\":{\"fill_alpha\":{\"field\":\"fill_alpha\"},\"fill_color\":{\"field\":\"color\"},\"height\":{\"field\":\"height\",\"units\":\"data\"},\"line_color\":{\"field\":\"line_color\"},\"width\":{\"field\":\"width\",\"units\":\"data\"},\"x\":{\"field\":\"x\"},\"y\":{\"field\":\"y\"}},\"id\":\"d1c5135d-2c79-4204-954e-70fb4dd63bc0\",\"type\":\"Rect\"},{\"attributes\":{\"fill_alpha\":{\"field\":\"fill_alpha\"},\"fill_color\":{\"field\":\"color\"},\"height\":{\"field\":\"height\",\"units\":\"data\"},\"line_color\":{\"field\":\"line_color\"},\"width\":{\"field\":\"width\",\"units\":\"data\"},\"x\":{\"field\":\"x\"},\"y\":{\"field\":\"y\"}},\"id\":\"974a1729-3fe9-4b96-9ef9-839db8969265\",\"type\":\"Rect\"},{\"attributes\":{\"callback\":null,\"column_names\":[\"line_color\",\"line_alpha\",\"color\",\"fill_alpha\",\"height\",\"width\",\"y\",\"x\",\"label\"],\"data\":{\"chart_index\":[\"(0.650000, 0.700000]\"],\"color\":[\"#f22c40\"],\"fill_alpha\":[0.8],\"height\":[0.0],\"label\":[\"(0.650000, 0.700000]\"],\"line_alpha\":[1.0],\"line_color\":[\"black\"],\"width\":[0.050000000000000044],\"x\":[\"0.675\"],\"y\":[0.0]}},\"id\":\"029b45fc-51fd-4885-ae7c-8cceec50c9e0\",\"type\":\"ColumnDataSource\"},{\"attributes\":{\"bottom_units\":\"screen\",\"fill_alpha\":{\"value\":0.5},\"fill_color\":{\"value\":\"lightgrey\"},\"left_units\":\"screen\",\"level\":\"overlay\",\"line_alpha\":{\"value\":1.0},\"line_color\":{\"value\":\"black\"},\"line_dash\":[4,4],\"line_width\":{\"value\":2},\"plot\":null,\"render_mode\":\"css\",\"right_units\":\"screen\",\"top_units\":\"screen\"},\"id\":\"1df1c5bf-b559-44b0-8e44-ec93aca7c31d\",\"type\":\"BoxAnnotation\"},{\"attributes\":{\"overlay\":{\"id\":\"1df1c5bf-b559-44b0-8e44-ec93aca7c31d\",\"type\":\"BoxAnnotation\"},\"plot\":{\"id\":\"0bee2ad1-6206-4114-b008-02e0f99476a5\",\"subtype\":\"Chart\",\"type\":\"Plot\"}},\"id\":\"e0923ed7-3173-4037-9a79-b21633f5848e\",\"type\":\"BoxZoomTool\"},{\"attributes\":{\"fill_alpha\":{\"field\":\"fill_alpha\"},\"fill_color\":{\"field\":\"color\"},\"height\":{\"field\":\"height\",\"units\":\"data\"},\"line_color\":{\"field\":\"line_color\"},\"width\":{\"field\":\"width\",\"units\":\"data\"},\"x\":{\"field\":\"x\"},\"y\":{\"field\":\"y\"}},\"id\":\"b7239bdb-2c2c-4999-a7f8-0c303a43aad5\",\"type\":\"Rect\"},{\"attributes\":{},\"id\":\"7f2271a9-6e51-41b4-a8aa-7c5c2d138feb\",\"type\":\"BasicTicker\"},{\"attributes\":{\"callback\":null,\"column_names\":[\"line_color\",\"line_alpha\",\"color\",\"fill_alpha\",\"height\",\"width\",\"y\",\"x\",\"label\"],\"data\":{\"chart_index\":[\"(0.950000, 1.000000]\"],\"color\":[\"#f22c40\"],\"fill_alpha\":[0.8],\"height\":[29.0],\"label\":[\"(0.950000, 1.000000]\"],\"line_alpha\":[1.0],\"line_color\":[\"black\"],\"width\":[0.04999999999999982],\"x\":[\"0.975\"],\"y\":[14.5]}},\"id\":\"025bb7fb-5029-494f-b3d1-813f69f7a6ea\",\"type\":\"ColumnDataSource\"},{\"attributes\":{},\"id\":\"9425a76f-60ec-41e6-b894-5f81899d2a0d\",\"type\":\"ToolEvents\"},{\"attributes\":{\"plot\":null,\"text\":\"Precisions\"},\"id\":\"2e19beb9-c484-4fff-8416-6ba39dd17d98\",\"type\":\"Title\"},{\"attributes\":{\"callback\":null,\"end\":51.7},\"id\":\"9909411a-edf8-450b-9349-f13a3f15724d\",\"type\":\"Range1d\"},{\"attributes\":{\"fill_alpha\":{\"field\":\"fill_alpha\"},\"fill_color\":{\"field\":\"color\"},\"height\":{\"field\":\"height\",\"units\":\"data\"},\"line_color\":{\"field\":\"line_color\"},\"width\":{\"field\":\"width\",\"units\":\"data\"},\"x\":{\"field\":\"x\"},\"y\":{\"field\":\"y\"}},\"id\":\"f3adec36-df58-4e48-8139-134b73b55540\",\"type\":\"Rect\"},{\"attributes\":{\"data_source\":{\"id\":\"2a36dfc8-1197-4e5e-b622-db447080444b\",\"type\":\"ColumnDataSource\"},\"glyph\":{\"id\":\"1d413069-b65d-45d9-ada7-9637d13872f7\",\"type\":\"Rect\"},\"hover_glyph\":null,\"muted_glyph\":null},\"id\":\"efe8a55e-c203-4b78-a80c-bc62d18eb680\",\"type\":\"GlyphRenderer\"},{\"attributes\":{\"data_source\":{\"id\":\"029b45fc-51fd-4885-ae7c-8cceec50c9e0\",\"type\":\"ColumnDataSource\"},\"glyph\":{\"id\":\"1f017f1e-499e-4c62-aaba-8dc1d7e289c2\",\"type\":\"Rect\"},\"hover_glyph\":null,\"muted_glyph\":null},\"id\":\"c6b4d2f5-de59-4561-8297-142bb8ebff70\",\"type\":\"GlyphRenderer\"},{\"attributes\":{\"data_source\":{\"id\":\"ed35815c-4064-48b4-a1a2-9edb54d07549\",\"type\":\"ColumnDataSource\"},\"glyph\":{\"id\":\"6c11fce8-9917-4773-af59-8e297eba4bda\",\"type\":\"Rect\"},\"hover_glyph\":null,\"muted_glyph\":null},\"id\":\"d60885d8-52d0-478e-ba39-8d7426a2e034\",\"type\":\"GlyphRenderer\"},{\"attributes\":{\"callback\":null,\"column_names\":[\"line_color\",\"line_alpha\",\"color\",\"fill_alpha\",\"height\",\"width\",\"y\",\"x\",\"label\"],\"data\":{\"chart_index\":[\"(0.750000, 0.800000]\"],\"color\":[\"#f22c40\"],\"fill_alpha\":[0.8],\"height\":[2.0],\"label\":[\"(0.750000, 0.800000]\"],\"line_alpha\":[1.0],\"line_color\":[\"black\"],\"width\":[0.04999999999999993],\"x\":[\"0.775\"],\"y\":[1.0]}},\"id\":\"1d8792f3-1424-4d94-9521-8612dbbad3a9\",\"type\":\"ColumnDataSource\"},{\"attributes\":{\"data_source\":{\"id\":\"4844c866-a79a-47ce-b9bb-84119c9e9eb5\",\"type\":\"ColumnDataSource\"},\"glyph\":{\"id\":\"91ea2886-df3d-4300-a63d-64ad6c554b68\",\"type\":\"Rect\"},\"hover_glyph\":null,\"muted_glyph\":null},\"id\":\"68318455-f83b-4ee6-863f-d55061fc9809\",\"type\":\"GlyphRenderer\"},{\"attributes\":{},\"id\":\"9374504c-4484-49bd-9b53-6f3347ac4b6a\",\"type\":\"ToolEvents\"},{\"attributes\":{\"callback\":null,\"column_names\":[\"line_color\",\"line_alpha\",\"color\",\"fill_alpha\",\"height\",\"width\",\"y\",\"x\",\"label\"],\"data\":{\"chart_index\":[\"(0.400000, 0.450000]\"],\"color\":[\"#f22c40\"],\"fill_alpha\":[0.8],\"height\":[0.0],\"label\":[\"(0.400000, 0.450000]\"],\"line_alpha\":[1.0],\"line_color\":[\"black\"],\"width\":[0.04999999999999999],\"x\":[\"0.425\"],\"y\":[0.0]}},\"id\":\"d396bdab-63fa-411b-bcf0-6d2ff055ce38\",\"type\":\"ColumnDataSource\"},{\"attributes\":{\"fill_alpha\":{\"field\":\"fill_alpha\"},\"fill_color\":{\"field\":\"color\"},\"height\":{\"field\":\"height\",\"units\":\"data\"},\"line_color\":{\"field\":\"line_color\"},\"width\":{\"field\":\"width\",\"units\":\"data\"},\"x\":{\"field\":\"x\"},\"y\":{\"field\":\"y\"}},\"id\":\"806b887f-d067-41c5-904b-f15e0b53cc78\",\"type\":\"Rect\"},{\"attributes\":{\"callback\":null,\"column_names\":[\"line_color\",\"line_alpha\",\"color\",\"fill_alpha\",\"height\",\"width\",\"y\",\"x\",\"label\"],\"data\":{\"chart_index\":[\"(0.650000, 0.700000]\"],\"color\":[\"#f22c40\"],\"fill_alpha\":[0.8],\"height\":[6.0],\"label\":[\"(0.650000, 0.700000]\"],\"line_alpha\":[1.0],\"line_color\":[\"black\"],\"width\":[0.050000000000000044],\"x\":[\"0.675\"],\"y\":[3.0]}},\"id\":\"a8113857-0244-4d08-81b6-602930507fc7\",\"type\":\"ColumnDataSource\"},{\"attributes\":{\"fill_alpha\":{\"field\":\"fill_alpha\"},\"fill_color\":{\"field\":\"color\"},\"height\":{\"field\":\"height\",\"units\":\"data\"},\"line_color\":{\"field\":\"line_color\"},\"width\":{\"field\":\"width\",\"units\":\"data\"},\"x\":{\"field\":\"x\"},\"y\":{\"field\":\"y\"}},\"id\":\"a054b828-1e57-4338-b8bd-8182b4adceb1\",\"type\":\"Rect\"},{\"attributes\":{\"callback\":null,\"column_names\":[\"line_color\",\"line_alpha\",\"color\",\"fill_alpha\",\"height\",\"width\",\"y\",\"x\",\"label\"],\"data\":{\"chart_index\":[\"(0.750000, 0.800000]\"],\"color\":[\"#f22c40\"],\"fill_alpha\":[0.8],\"height\":[9.0],\"label\":[\"(0.750000, 0.800000]\"],\"line_alpha\":[1.0],\"line_color\":[\"black\"],\"width\":[0.04999999999999993],\"x\":[\"0.775\"],\"y\":[4.5]}},\"id\":\"ed35815c-4064-48b4-a1a2-9edb54d07549\",\"type\":\"ColumnDataSource\"},{\"attributes\":{\"bottom_units\":\"screen\",\"fill_alpha\":{\"value\":0.5},\"fill_color\":{\"value\":\"lightgrey\"},\"left_units\":\"screen\",\"level\":\"overlay\",\"line_alpha\":{\"value\":1.0},\"line_color\":{\"value\":\"black\"},\"line_dash\":[4,4],\"line_width\":{\"value\":2},\"plot\":null,\"render_mode\":\"css\",\"right_units\":\"screen\",\"top_units\":\"screen\"},\"id\":\"c8bce1d4-a9f8-4d68-a855-dc47d31e8093\",\"type\":\"BoxAnnotation\"},{\"attributes\":{\"data_source\":{\"id\":\"d5e4d27e-5d14-4078-97c8-2ac2b2e5ceed\",\"type\":\"ColumnDataSource\"},\"glyph\":{\"id\":\"d1c5135d-2c79-4204-954e-70fb4dd63bc0\",\"type\":\"Rect\"},\"hover_glyph\":null,\"muted_glyph\":null},\"id\":\"fe5aad30-5dda-46d6-a6e7-da99b9b039cf\",\"type\":\"GlyphRenderer\"},{\"attributes\":{},\"id\":\"1b2cc081-265b-4fdc-9c26-20bc99156e82\",\"type\":\"ToolEvents\"},{\"attributes\":{\"data_source\":{\"id\":\"48c282c1-7737-4f6d-bf70-207200b441bc\",\"type\":\"ColumnDataSource\"},\"glyph\":{\"id\":\"5f70be7a-7bf6-40fa-8dee-21eb058fbf15\",\"type\":\"Rect\"},\"hover_glyph\":null,\"muted_glyph\":null},\"id\":\"33ceceb3-e88e-48e4-975a-3f3958709be4\",\"type\":\"GlyphRenderer\"},{\"attributes\":{\"callback\":null,\"column_names\":[\"line_color\",\"line_alpha\",\"color\",\"fill_alpha\",\"height\",\"width\",\"y\",\"x\",\"label\"],\"data\":{\"chart_index\":[\"(0.850000, 0.900000]\"],\"color\":[\"#f22c40\"],\"fill_alpha\":[0.8],\"height\":[22.0],\"label\":[\"(0.850000, 0.900000]\"],\"line_alpha\":[1.0],\"line_color\":[\"black\"],\"width\":[0.050000000000000044],\"x\":[\"0.875\"],\"y\":[11.0]}},\"id\":\"2571175f-c5f6-490a-af78-e68a115cdaf3\",\"type\":\"ColumnDataSource\"},{\"attributes\":{\"data_source\":{\"id\":\"959968cf-b98f-4196-92a5-c35891a3489e\",\"type\":\"ColumnDataSource\"},\"glyph\":{\"id\":\"6e0ffd87-2fdd-4c14-87bd-6536ffa989bd\",\"type\":\"Rect\"},\"hover_glyph\":null,\"muted_glyph\":null},\"id\":\"eaeea214-78e2-4390-93ca-cbc140d52762\",\"type\":\"GlyphRenderer\"},{\"attributes\":{\"callback\":null,\"column_names\":[\"line_color\",\"line_alpha\",\"color\",\"fill_alpha\",\"height\",\"width\",\"y\",\"x\",\"label\"],\"data\":{\"chart_index\":[\"(0.500000, 0.550000]\"],\"color\":[\"#f22c40\"],\"fill_alpha\":[0.8],\"height\":[1.0],\"label\":[\"(0.500000, 0.550000]\"],\"line_alpha\":[1.0],\"line_color\":[\"black\"],\"width\":[0.04999999999999999],\"x\":[\"0.525\"],\"y\":[0.5]}},\"id\":\"d3115dd1-f167-4601-8198-de740da9e873\",\"type\":\"ColumnDataSource\"},{\"attributes\":{\"location\":\"top_left\",\"plot\":{\"id\":\"0bee2ad1-6206-4114-b008-02e0f99476a5\",\"subtype\":\"Chart\",\"type\":\"Plot\"}},\"id\":\"4acdda5a-00d0-4800-8293-1022faf35123\",\"type\":\"Legend\"},{\"attributes\":{\"data_source\":{\"id\":\"23e2e801-735e-46d9-a1cf-963c53175572\",\"type\":\"ColumnDataSource\"},\"glyph\":{\"id\":\"0f258e2b-d8cd-41e1-9a7f-e89f7a494b00\",\"type\":\"Rect\"},\"hover_glyph\":null,\"muted_glyph\":null},\"id\":\"60e7d95c-41b6-4b1a-8dd5-bb1c8e216ea3\",\"type\":\"GlyphRenderer\"},{\"attributes\":{},\"id\":\"ce6e8bcf-87e4-41f4-85e9-24ed49502bf3\",\"type\":\"BasicTicker\"},{\"attributes\":{\"callback\":null,\"column_names\":[\"line_color\",\"line_alpha\",\"color\",\"fill_alpha\",\"height\",\"width\",\"y\",\"x\",\"label\"],\"data\":{\"chart_index\":[\"(0.400000, 0.450000]\"],\"color\":[\"#f22c40\"],\"fill_alpha\":[0.8],\"height\":[0.0],\"label\":[\"(0.400000, 0.450000]\"],\"line_alpha\":[1.0],\"line_color\":[\"black\"],\"width\":[0.04999999999999999],\"x\":[\"0.425\"],\"y\":[0.0]}},\"id\":\"f672670b-e382-44db-94c6-f1586f646114\",\"type\":\"ColumnDataSource\"},{\"attributes\":{\"plot\":{\"id\":\"0bee2ad1-6206-4114-b008-02e0f99476a5\",\"subtype\":\"Chart\",\"type\":\"Plot\"}},\"id\":\"259e0d4c-fc0e-4068-ac18-9c0d210ad9d3\",\"type\":\"SaveTool\"},{\"attributes\":{\"callback\":null,\"column_names\":[\"line_color\",\"line_alpha\",\"color\",\"fill_alpha\",\"height\",\"width\",\"y\",\"x\",\"label\"],\"data\":{\"chart_index\":[\"(0.500000, 0.550000]\"],\"color\":[\"#f22c40\"],\"fill_alpha\":[0.8],\"height\":[0.0],\"label\":[\"(0.500000, 0.550000]\"],\"line_alpha\":[1.0],\"line_color\":[\"black\"],\"width\":[0.04999999999999999],\"x\":[\"0.525\"],\"y\":[0.0]}},\"id\":\"f7c2203b-074a-4625-b27d-a7c6cdbe8ad2\",\"type\":\"ColumnDataSource\"},{\"attributes\":{\"plot\":{\"id\":\"0bee2ad1-6206-4114-b008-02e0f99476a5\",\"subtype\":\"Chart\",\"type\":\"Plot\"}},\"id\":\"9ce5ea19-de43-43a2-873e-5ab75de21890\",\"type\":\"HelpTool\"},{\"attributes\":{\"data_source\":{\"id\":\"feb2e68f-d3d8-480c-a708-0fd7aeaf8a78\",\"type\":\"ColumnDataSource\"},\"glyph\":{\"id\":\"27940af9-eb13-411f-abd4-1c132c11b125\",\"type\":\"Rect\"},\"hover_glyph\":null,\"muted_glyph\":null},\"id\":\"c1769027-2119-4aba-a44e-18650f2015e3\",\"type\":\"GlyphRenderer\"},{\"attributes\":{\"below\":[{\"id\":\"087a7eae-4a63-4cb0-a9fc-890b0a1d41a9\",\"type\":\"LinearAxis\"}],\"css_classes\":null,\"left\":[{\"id\":\"19e48e8a-3165-4364-bc66-3cf3605d63f1\",\"type\":\"LinearAxis\"}],\"renderers\":[{\"id\":\"c8bce1d4-a9f8-4d68-a855-dc47d31e8093\",\"type\":\"BoxAnnotation\"},{\"id\":\"d7fe3f0d-62fa-4eeb-99f0-c0e9b65e9c7d\",\"type\":\"GlyphRenderer\"},{\"id\":\"91844368-7e5d-482e-9d8b-ed5824abbd64\",\"type\":\"GlyphRenderer\"},{\"id\":\"1c51e179-f05d-40a6-82f0-1c3617eac588\",\"type\":\"GlyphRenderer\"},{\"id\":\"33ceceb3-e88e-48e4-975a-3f3958709be4\",\"type\":\"GlyphRenderer\"},{\"id\":\"585bed0d-f42d-40c7-b27e-cdc7d10faa70\",\"type\":\"GlyphRenderer\"},{\"id\":\"d11e02d4-2fbc-4974-b470-a92d2b142c80\",\"type\":\"GlyphRenderer\"},{\"id\":\"554f4a1d-4284-4d37-8682-f487b4f7b27d\",\"type\":\"GlyphRenderer\"},{\"id\":\"36198bb6-d428-4df3-8e5d-e03e3f739449\",\"type\":\"GlyphRenderer\"},{\"id\":\"eaeea214-78e2-4390-93ca-cbc140d52762\",\"type\":\"GlyphRenderer\"},{\"id\":\"d60885d8-52d0-478e-ba39-8d7426a2e034\",\"type\":\"GlyphRenderer\"},{\"id\":\"c9dc4ece-5ec0-4069-99cc-9df05c18b14a\",\"type\":\"GlyphRenderer\"},{\"id\":\"19d8bc8c-2a2b-4640-9168-488e253b13dd\",\"type\":\"GlyphRenderer\"},{\"id\":\"68318455-f83b-4ee6-863f-d55061fc9809\",\"type\":\"GlyphRenderer\"},{\"id\":\"5bfb02a5-3460-4053-9ada-a9863f53914c\",\"type\":\"GlyphRenderer\"},{\"id\":\"4c62a784-b781-437c-acd1-19a28066074b\",\"type\":\"Legend\"},{\"id\":\"087a7eae-4a63-4cb0-a9fc-890b0a1d41a9\",\"type\":\"LinearAxis\"},{\"id\":\"19e48e8a-3165-4364-bc66-3cf3605d63f1\",\"type\":\"LinearAxis\"},{\"id\":\"05342dca-306b-4f0d-9a56-9a00c6359313\",\"type\":\"Grid\"}],\"title\":{\"id\":\"adb35ed9-715a-4582-be87-68aa5075bad5\",\"type\":\"Title\"},\"tool_events\":{\"id\":\"9425a76f-60ec-41e6-b894-5f81899d2a0d\",\"type\":\"ToolEvents\"},\"toolbar\":{\"id\":\"02016228-9b14-432f-84ca-29995c383f15\",\"type\":\"Toolbar\"},\"x_mapper_type\":\"auto\",\"x_range\":{\"id\":\"bb1dda91-62da-4b77-88c2-6bcbbd8eefb5\",\"type\":\"Range1d\"},\"y_mapper_type\":\"auto\",\"y_range\":{\"id\":\"9909411a-edf8-450b-9349-f13a3f15724d\",\"type\":\"Range1d\"}},\"id\":\"69ebe26b-1af8-462c-8402-0610e4829392\",\"subtype\":\"Chart\",\"type\":\"Plot\"},{\"attributes\":{\"callback\":null,\"column_names\":[\"line_color\",\"line_alpha\",\"color\",\"fill_alpha\",\"height\",\"width\",\"y\",\"x\",\"label\"],\"data\":{\"chart_index\":[\"(0.850000, 0.900000]\"],\"color\":[\"#f22c40\"],\"fill_alpha\":[0.8],\"height\":[39.0],\"label\":[\"(0.850000, 0.900000]\"],\"line_alpha\":[1.0],\"line_color\":[\"black\"],\"width\":[0.050000000000000044],\"x\":[\"0.875\"],\"y\":[19.5]}},\"id\":\"decf7aa6-dd63-4351-b20e-64f412ee297e\",\"type\":\"ColumnDataSource\"},{\"attributes\":{\"fill_alpha\":{\"field\":\"fill_alpha\"},\"fill_color\":{\"field\":\"color\"},\"height\":{\"field\":\"height\",\"units\":\"data\"},\"line_color\":{\"field\":\"line_color\"},\"width\":{\"field\":\"width\",\"units\":\"data\"},\"x\":{\"field\":\"x\"},\"y\":{\"field\":\"y\"}},\"id\":\"1d413069-b65d-45d9-ada7-9637d13872f7\",\"type\":\"Rect\"},{\"attributes\":{\"callback\":null,\"column_names\":[\"line_color\",\"line_alpha\",\"color\",\"fill_alpha\",\"height\",\"width\",\"y\",\"x\",\"label\"],\"data\":{\"chart_index\":[\"(0.550000, 0.600000]\"],\"color\":[\"#f22c40\"],\"fill_alpha\":[0.8],\"height\":[9.0],\"label\":[\"(0.550000, 0.600000]\"],\"line_alpha\":[1.0],\"line_color\":[\"black\"],\"width\":[0.04999999999999993],\"x\":[\"0.575\"],\"y\":[4.5]}},\"id\":\"ad755f8f-e379-409e-8234-c93fc6c9497e\",\"type\":\"ColumnDataSource\"},{\"attributes\":{},\"id\":\"11b09b91-bcc2-4ec0-b12b-d8e68ee651d0\",\"type\":\"BasicTicker\"},{\"attributes\":{\"data_source\":{\"id\":\"dbe35a02-af2d-4125-8f47-6fa921028d8a\",\"type\":\"ColumnDataSource\"},\"glyph\":{\"id\":\"a054b828-1e57-4338-b8bd-8182b4adceb1\",\"type\":\"Rect\"},\"hover_glyph\":null,\"muted_glyph\":null},\"id\":\"5bfb02a5-3460-4053-9ada-a9863f53914c\",\"type\":\"GlyphRenderer\"},{\"attributes\":{\"axis_label\":\"a\",\"formatter\":{\"id\":\"816c8e2f-86b1-4aed-84ab-b478e3278fbd\",\"type\":\"BasicTickFormatter\"},\"plot\":{\"id\":\"69ebe26b-1af8-462c-8402-0610e4829392\",\"subtype\":\"Chart\",\"type\":\"Plot\"},\"ticker\":{\"id\":\"44ff36d0-a0d7-4670-b42f-baf88f697387\",\"type\":\"BasicTicker\"}},\"id\":\"087a7eae-4a63-4cb0-a9fc-890b0a1d41a9\",\"type\":\"LinearAxis\"},{\"attributes\":{\"plot\":{\"id\":\"0bee2ad1-6206-4114-b008-02e0f99476a5\",\"subtype\":\"Chart\",\"type\":\"Plot\"}},\"id\":\"9db8c73b-5895-4817-86df-a024691da6c0\",\"type\":\"ResetTool\"},{\"attributes\":{\"callback\":null,\"column_names\":[\"line_color\",\"line_alpha\",\"color\",\"fill_alpha\",\"height\",\"width\",\"y\",\"x\",\"label\"],\"data\":{\"chart_index\":[\"(0.600000, 0.650000]\"],\"color\":[\"#f22c40\"],\"fill_alpha\":[0.8],\"height\":[3.0],\"label\":[\"(0.600000, 0.650000]\"],\"line_alpha\":[1.0],\"line_color\":[\"black\"],\"width\":[0.050000000000000044],\"x\":[\"0.625\"],\"y\":[1.5]}},\"id\":\"c70316b2-3f3b-4c83-8a49-d6111baada23\",\"type\":\"ColumnDataSource\"},{\"attributes\":{\"data_source\":{\"id\":\"386524fb-ede1-4e38-800c-980b7cae871d\",\"type\":\"ColumnDataSource\"},\"glyph\":{\"id\":\"5e152e83-8855-42c6-9b6a-2fb7c6710375\",\"type\":\"Rect\"},\"hover_glyph\":null,\"muted_glyph\":null},\"id\":\"808395b7-c21e-438e-9d46-eff1fd6ee875\",\"type\":\"GlyphRenderer\"},{\"attributes\":{\"location\":\"top_left\",\"plot\":{\"id\":\"2c382a44-252f-4260-9808-19866c56a721\",\"subtype\":\"Chart\",\"type\":\"Plot\"}},\"id\":\"7a3f13cf-4cd3-4fd7-91fd-b227653a7711\",\"type\":\"Legend\"},{\"attributes\":{\"plot\":{\"id\":\"0bee2ad1-6206-4114-b008-02e0f99476a5\",\"subtype\":\"Chart\",\"type\":\"Plot\"}},\"id\":\"1784fdfb-8b9c-425d-ae2e-3852dba9d17c\",\"type\":\"PanTool\"},{\"attributes\":{\"callback\":null,\"column_names\":[\"line_color\",\"line_alpha\",\"color\",\"fill_alpha\",\"height\",\"width\",\"y\",\"x\",\"label\"],\"data\":{\"chart_index\":[\"(0.950000, 1.000000]\"],\"color\":[\"#f22c40\"],\"fill_alpha\":[0.8],\"height\":[32.0],\"label\":[\"(0.950000, 1.000000]\"],\"line_alpha\":[1.0],\"line_color\":[\"black\"],\"width\":[0.04999999999999982],\"x\":[\"0.975\"],\"y\":[16.0]}},\"id\":\"8af4c0ca-0815-4462-97da-ba8f5862e7e8\",\"type\":\"ColumnDataSource\"},{\"attributes\":{\"fill_alpha\":{\"field\":\"fill_alpha\"},\"fill_color\":{\"field\":\"color\"},\"height\":{\"field\":\"height\",\"units\":\"data\"},\"line_color\":{\"field\":\"line_color\"},\"width\":{\"field\":\"width\",\"units\":\"data\"},\"x\":{\"field\":\"x\"},\"y\":{\"field\":\"y\"}},\"id\":\"6d90dd27-b904-435c-9972-0bbd075f1ca6\",\"type\":\"Rect\"},{\"attributes\":{\"bottom_units\":\"screen\",\"fill_alpha\":{\"value\":0.5},\"fill_color\":{\"value\":\"lightgrey\"},\"left_units\":\"screen\",\"level\":\"overlay\",\"line_alpha\":{\"value\":1.0},\"line_color\":{\"value\":\"black\"},\"line_dash\":[4,4],\"line_width\":{\"value\":2},\"plot\":null,\"render_mode\":\"css\",\"right_units\":\"screen\",\"top_units\":\"screen\"},\"id\":\"64bca5b6-3892-41b3-9b14-f2447cf6ce91\",\"type\":\"BoxAnnotation\"},{\"attributes\":{\"data_source\":{\"id\":\"a41bff2d-ca3e-40d7-9e1c-155518f2a288\",\"type\":\"ColumnDataSource\"},\"glyph\":{\"id\":\"f5159d44-5141-404e-992c-a33d1019a187\",\"type\":\"Rect\"},\"hover_glyph\":null,\"muted_glyph\":null},\"id\":\"4947358a-9450-43d3-9185-be870f7eda00\",\"type\":\"GlyphRenderer\"},{\"attributes\":{\"data_source\":{\"id\":\"7e8bc997-9208-422e-8f92-e7ef17d2ac3a\",\"type\":\"ColumnDataSource\"},\"glyph\":{\"id\":\"fc8bf643-9863-4ced-87f1-93e36dce014a\",\"type\":\"Rect\"},\"hover_glyph\":null,\"muted_glyph\":null},\"id\":\"335ffc1b-fa42-440e-9367-a60d369f55bc\",\"type\":\"GlyphRenderer\"},{\"attributes\":{\"fill_alpha\":{\"field\":\"fill_alpha\"},\"fill_color\":{\"field\":\"color\"},\"height\":{\"field\":\"height\",\"units\":\"data\"},\"line_color\":{\"field\":\"line_color\"},\"width\":{\"field\":\"width\",\"units\":\"data\"},\"x\":{\"field\":\"x\"},\"y\":{\"field\":\"y\"}},\"id\":\"88f55daf-431e-419f-837e-145bfb36ca5b\",\"type\":\"Rect\"},{\"attributes\":{\"plot\":null,\"text\":\"Recalls\"},\"id\":\"8d221390-018b-428d-81f8-27457b49c1c7\",\"type\":\"Title\"},{\"attributes\":{\"callback\":null,\"column_names\":[\"line_color\",\"line_alpha\",\"color\",\"fill_alpha\",\"height\",\"width\",\"y\",\"x\",\"label\"],\"data\":{\"chart_index\":[\"(0.700000, 0.750000]\"],\"color\":[\"#f22c40\"],\"fill_alpha\":[0.8],\"height\":[22.0],\"label\":[\"(0.700000, 0.750000]\"],\"line_alpha\":[1.0],\"line_color\":[\"black\"],\"width\":[0.04999999999999993],\"x\":[\"0.725\"],\"y\":[11.0]}},\"id\":\"feb2e68f-d3d8-480c-a708-0fd7aeaf8a78\",\"type\":\"ColumnDataSource\"},{\"attributes\":{},\"id\":\"1d8947c0-d3ab-4028-835e-41dd29e848c1\",\"type\":\"BasicTicker\"},{\"attributes\":{\"callback\":null,\"column_names\":[\"line_color\",\"line_alpha\",\"color\",\"fill_alpha\",\"height\",\"width\",\"y\",\"x\",\"label\"],\"data\":{\"chart_index\":[\"[0.300000, 0.350000]\"],\"color\":[\"#f22c40\"],\"fill_alpha\":[0.8],\"height\":[0.0],\"label\":[\"[0.300000, 0.350000]\"],\"line_alpha\":[1.0],\"line_color\":[\"black\"],\"width\":[0.04999999999999999],\"x\":[\"0.325\"],\"y\":[0.0]}},\"id\":\"ad91ace6-3420-494a-9245-e9239e69f3cd\",\"type\":\"ColumnDataSource\"},{\"attributes\":{\"callback\":null,\"column_names\":[\"line_color\",\"line_alpha\",\"color\",\"fill_alpha\",\"height\",\"width\",\"y\",\"x\",\"label\"],\"data\":{\"chart_index\":[\"[0.300000, 0.350000]\"],\"color\":[\"#f22c40\"],\"fill_alpha\":[0.8],\"height\":[0.0],\"label\":[\"[0.300000, 0.350000]\"],\"line_alpha\":[1.0],\"line_color\":[\"black\"],\"width\":[0.04999999999999999],\"x\":[\"0.325\"],\"y\":[0.0]}},\"id\":\"ba379f16-b39f-4633-a487-8ea332cea688\",\"type\":\"ColumnDataSource\"},{\"attributes\":{\"plot\":{\"id\":\"69ebe26b-1af8-462c-8402-0610e4829392\",\"subtype\":\"Chart\",\"type\":\"Plot\"}},\"id\":\"a4d1edcc-86a2-4751-99cf-619b65ba8758\",\"type\":\"ResetTool\"},{\"attributes\":{\"data_source\":{\"id\":\"38c49f7d-1b11-47f3-9d6d-bf739831bc98\",\"type\":\"ColumnDataSource\"},\"glyph\":{\"id\":\"a8141651-07c9-4ff7-b6be-ec0b0fff6782\",\"type\":\"Rect\"},\"hover_glyph\":null,\"muted_glyph\":null},\"id\":\"1f76521b-4bb1-40da-ae84-cc8c653e9abc\",\"type\":\"GlyphRenderer\"},{\"attributes\":{\"callback\":null,\"column_names\":[\"line_color\",\"line_alpha\",\"color\",\"fill_alpha\",\"height\",\"width\",\"y\",\"x\",\"label\"],\"data\":{\"chart_index\":[\"(0.650000, 0.700000]\"],\"color\":[\"#f22c40\"],\"fill_alpha\":[0.8],\"height\":[13.0],\"label\":[\"(0.650000, 0.700000]\"],\"line_alpha\":[1.0],\"line_color\":[\"black\"],\"width\":[0.050000000000000044],\"x\":[\"0.675\"],\"y\":[6.5]}},\"id\":\"23e2e801-735e-46d9-a1cf-963c53175572\",\"type\":\"ColumnDataSource\"},{\"attributes\":{\"fill_alpha\":{\"field\":\"fill_alpha\"},\"fill_color\":{\"field\":\"color\"},\"height\":{\"field\":\"height\",\"units\":\"data\"},\"line_color\":{\"field\":\"line_color\"},\"width\":{\"field\":\"width\",\"units\":\"data\"},\"x\":{\"field\":\"x\"},\"y\":{\"field\":\"y\"}},\"id\":\"b6edbef2-0acb-4df0-8bc5-6708f8179731\",\"type\":\"Rect\"},{\"attributes\":{\"fill_alpha\":{\"field\":\"fill_alpha\"},\"fill_color\":{\"field\":\"color\"},\"height\":{\"field\":\"height\",\"units\":\"data\"},\"line_color\":{\"field\":\"line_color\"},\"width\":{\"field\":\"width\",\"units\":\"data\"},\"x\":{\"field\":\"x\"},\"y\":{\"field\":\"y\"}},\"id\":\"1584761a-627e-4003-b06c-682e01c01475\",\"type\":\"Rect\"},{\"attributes\":{\"callback\":null,\"column_names\":[\"line_color\",\"line_alpha\",\"color\",\"fill_alpha\",\"height\",\"width\",\"y\",\"x\",\"label\"],\"data\":{\"chart_index\":[\"(0.350000, 0.400000]\"],\"color\":[\"#f22c40\"],\"fill_alpha\":[0.8],\"height\":[0.0],\"label\":[\"(0.350000, 0.400000]\"],\"line_alpha\":[1.0],\"line_color\":[\"black\"],\"width\":[0.04999999999999999],\"x\":[\"0.375\"],\"y\":[0.0]}},\"id\":\"d6527dbd-10af-48ac-95f1-f2f52df7af88\",\"type\":\"ColumnDataSource\"},{\"attributes\":{\"active_drag\":\"auto\",\"active_scroll\":\"auto\",\"active_tap\":\"auto\",\"tools\":[{\"id\":\"1784fdfb-8b9c-425d-ae2e-3852dba9d17c\",\"type\":\"PanTool\"},{\"id\":\"2150d485-1e19-408b-a50e-ca8b262f7250\",\"type\":\"WheelZoomTool\"},{\"id\":\"e0923ed7-3173-4037-9a79-b21633f5848e\",\"type\":\"BoxZoomTool\"},{\"id\":\"259e0d4c-fc0e-4068-ac18-9c0d210ad9d3\",\"type\":\"SaveTool\"},{\"id\":\"9db8c73b-5895-4817-86df-a024691da6c0\",\"type\":\"ResetTool\"},{\"id\":\"9ce5ea19-de43-43a2-873e-5ab75de21890\",\"type\":\"HelpTool\"}]},\"id\":\"8068d95c-3c26-4b4e-bfb5-8fcbc5191d5c\",\"type\":\"Toolbar\"},{\"attributes\":{\"callback\":null,\"column_names\":[\"line_color\",\"line_alpha\",\"color\",\"fill_alpha\",\"height\",\"width\",\"y\",\"x\",\"label\"],\"data\":{\"chart_index\":[\"(0.950000, 1.000000]\"],\"color\":[\"#f22c40\"],\"fill_alpha\":[0.8],\"height\":[47.0],\"label\":[\"(0.950000, 1.000000]\"],\"line_alpha\":[1.0],\"line_color\":[\"black\"],\"width\":[0.04999999999999982],\"x\":[\"0.975\"],\"y\":[23.5]}},\"id\":\"dbe35a02-af2d-4125-8f47-6fa921028d8a\",\"type\":\"ColumnDataSource\"},{\"attributes\":{\"plot\":{\"id\":\"69ebe26b-1af8-462c-8402-0610e4829392\",\"subtype\":\"Chart\",\"type\":\"Plot\"}},\"id\":\"85697af9-d41d-4854-8647-f22c37462add\",\"type\":\"HelpTool\"},{\"attributes\":{\"data_source\":{\"id\":\"ad91ace6-3420-494a-9245-e9239e69f3cd\",\"type\":\"ColumnDataSource\"},\"glyph\":{\"id\":\"c14f217c-7c04-432a-ab52-201370a36658\",\"type\":\"Rect\"},\"hover_glyph\":null,\"muted_glyph\":null},\"id\":\"1ad5491a-5589-4d0a-8f9e-f25a74f02bb0\",\"type\":\"GlyphRenderer\"},{\"attributes\":{\"callback\":null,\"column_names\":[\"line_color\",\"line_alpha\",\"color\",\"fill_alpha\",\"height\",\"width\",\"y\",\"x\",\"label\"],\"data\":{\"chart_index\":[\"(0.800000, 0.850000]\"],\"color\":[\"#f22c40\"],\"fill_alpha\":[0.8],\"height\":[36.0],\"label\":[\"(0.800000, 0.850000]\"],\"line_alpha\":[1.0],\"line_color\":[\"black\"],\"width\":[0.050000000000000044],\"x\":[\"0.825\"],\"y\":[18.0]}},\"id\":\"1fdf52c8-02e3-463a-8089-885a7294bb9a\",\"type\":\"ColumnDataSource\"},{\"attributes\":{\"callback\":null,\"end\":36.300000000000004},\"id\":\"4413c440-9874-4353-b3aa-d126e4075acc\",\"type\":\"Range1d\"},{\"attributes\":{\"data_source\":{\"id\":\"1d8792f3-1424-4d94-9521-8612dbbad3a9\",\"type\":\"ColumnDataSource\"},\"glyph\":{\"id\":\"974a1729-3fe9-4b96-9ef9-839db8969265\",\"type\":\"Rect\"},\"hover_glyph\":null,\"muted_glyph\":null},\"id\":\"63bd5baf-cd09-4384-9c3d-911fbe8f01b8\",\"type\":\"GlyphRenderer\"},{\"attributes\":{\"fill_alpha\":{\"field\":\"fill_alpha\"},\"fill_color\":{\"field\":\"color\"},\"height\":{\"field\":\"height\",\"units\":\"data\"},\"line_color\":{\"field\":\"line_color\"},\"width\":{\"field\":\"width\",\"units\":\"data\"},\"x\":{\"field\":\"x\"},\"y\":{\"field\":\"y\"}},\"id\":\"a8141651-07c9-4ff7-b6be-ec0b0fff6782\",\"type\":\"Rect\"},{\"attributes\":{\"callback\":null,\"column_names\":[\"line_color\",\"line_alpha\",\"color\",\"fill_alpha\",\"height\",\"width\",\"y\",\"x\",\"label\"],\"data\":{\"chart_index\":[\"(0.900000, 0.950000]\"],\"color\":[\"#f22c40\"],\"fill_alpha\":[0.8],\"height\":[24.0],\"label\":[\"(0.900000, 0.950000]\"],\"line_alpha\":[1.0],\"line_color\":[\"black\"],\"width\":[0.050000000000000044],\"x\":[\"0.925\"],\"y\":[12.0]}},\"id\":\"b4c9ac2a-7582-4356-8776-9b71ee8ef800\",\"type\":\"ColumnDataSource\"},{\"attributes\":{\"data_source\":{\"id\":\"ad755f8f-e379-409e-8234-c93fc6c9497e\",\"type\":\"ColumnDataSource\"},\"glyph\":{\"id\":\"3ab6c5cd-c7e2-44df-a38d-8547a5f593fa\",\"type\":\"Rect\"},\"hover_glyph\":null,\"muted_glyph\":null},\"id\":\"dc652144-622b-44ac-a1ac-fd06e1dd7b2d\",\"type\":\"GlyphRenderer\"},{\"attributes\":{\"dimension\":1,\"plot\":{\"id\":\"2c382a44-252f-4260-9808-19866c56a721\",\"subtype\":\"Chart\",\"type\":\"Plot\"},\"ticker\":{\"id\":\"11b09b91-bcc2-4ec0-b12b-d8e68ee651d0\",\"type\":\"BasicTicker\"}},\"id\":\"d3c5b2a4-ea53-4b71-9005-1120db760a12\",\"type\":\"Grid\"},{\"attributes\":{\"data_source\":{\"id\":\"d3115dd1-f167-4601-8198-de740da9e873\",\"type\":\"ColumnDataSource\"},\"glyph\":{\"id\":\"561ef305-5697-4cc6-ae39-4585c944d764\",\"type\":\"Rect\"},\"hover_glyph\":null,\"muted_glyph\":null},\"id\":\"585bed0d-f42d-40c7-b27e-cdc7d10faa70\",\"type\":\"GlyphRenderer\"},{\"attributes\":{\"callback\":null,\"column_names\":[\"line_color\",\"line_alpha\",\"color\",\"fill_alpha\",\"height\",\"width\",\"y\",\"x\",\"label\"],\"data\":{\"chart_index\":[\"(0.700000, 0.750000]\"],\"color\":[\"#f22c40\"],\"fill_alpha\":[0.8],\"height\":[10.0],\"label\":[\"(0.700000, 0.750000]\"],\"line_alpha\":[1.0],\"line_color\":[\"black\"],\"width\":[0.04999999999999993],\"x\":[\"0.725\"],\"y\":[5.0]}},\"id\":\"959968cf-b98f-4196-92a5-c35891a3489e\",\"type\":\"ColumnDataSource\"},{\"attributes\":{\"plot\":{\"id\":\"69ebe26b-1af8-462c-8402-0610e4829392\",\"subtype\":\"Chart\",\"type\":\"Plot\"}},\"id\":\"d6791cde-66ef-4309-b5f9-a35ca44d00d3\",\"type\":\"SaveTool\"},{\"attributes\":{\"callback\":null,\"column_names\":[\"line_color\",\"line_alpha\",\"color\",\"fill_alpha\",\"height\",\"width\",\"y\",\"x\",\"label\"],\"data\":{\"chart_index\":[\"(0.600000, 0.650000]\"],\"color\":[\"#f22c40\"],\"fill_alpha\":[0.8],\"height\":[5.0],\"label\":[\"(0.600000, 0.650000]\"],\"line_alpha\":[1.0],\"line_color\":[\"black\"],\"width\":[0.050000000000000044],\"x\":[\"0.625\"],\"y\":[2.5]}},\"id\":\"38c49f7d-1b11-47f3-9d6d-bf739831bc98\",\"type\":\"ColumnDataSource\"},{\"attributes\":{\"data_source\":{\"id\":\"5dc9c627-b3c4-4c9b-b122-07d6334152b5\",\"type\":\"ColumnDataSource\"},\"glyph\":{\"id\":\"6272266f-05a8-49d2-a8ee-06b7111d6f5b\",\"type\":\"Rect\"},\"hover_glyph\":null,\"muted_glyph\":null},\"id\":\"310d2fe4-1388-4014-b68f-cdb3e88e3443\",\"type\":\"GlyphRenderer\"},{\"attributes\":{\"data_source\":{\"id\":\"d396bdab-63fa-411b-bcf0-6d2ff055ce38\",\"type\":\"ColumnDataSource\"},\"glyph\":{\"id\":\"2e29b4d0-78d0-454c-adb5-09f0287c97ae\",\"type\":\"Rect\"},\"hover_glyph\":null,\"muted_glyph\":null},\"id\":\"1c51e179-f05d-40a6-82f0-1c3617eac588\",\"type\":\"GlyphRenderer\"},{\"attributes\":{\"fill_alpha\":{\"field\":\"fill_alpha\"},\"fill_color\":{\"field\":\"color\"},\"height\":{\"field\":\"height\",\"units\":\"data\"},\"line_color\":{\"field\":\"line_color\"},\"width\":{\"field\":\"width\",\"units\":\"data\"},\"x\":{\"field\":\"x\"},\"y\":{\"field\":\"y\"}},\"id\":\"fc8bf643-9863-4ced-87f1-93e36dce014a\",\"type\":\"Rect\"},{\"attributes\":{\"fill_alpha\":{\"field\":\"fill_alpha\"},\"fill_color\":{\"field\":\"color\"},\"height\":{\"field\":\"height\",\"units\":\"data\"},\"line_color\":{\"field\":\"line_color\"},\"width\":{\"field\":\"width\",\"units\":\"data\"},\"x\":{\"field\":\"x\"},\"y\":{\"field\":\"y\"}},\"id\":\"5e152e83-8855-42c6-9b6a-2fb7c6710375\",\"type\":\"Rect\"},{\"attributes\":{\"callback\":null,\"column_names\":[\"line_color\",\"line_alpha\",\"color\",\"fill_alpha\",\"height\",\"width\",\"y\",\"x\",\"label\"],\"data\":{\"chart_index\":[\"(0.750000, 0.800000]\"],\"color\":[\"#f22c40\"],\"fill_alpha\":[0.8],\"height\":[33.0],\"label\":[\"(0.750000, 0.800000]\"],\"line_alpha\":[1.0],\"line_color\":[\"black\"],\"width\":[0.04999999999999993],\"x\":[\"0.775\"],\"y\":[16.5]}},\"id\":\"7e8bc997-9208-422e-8f92-e7ef17d2ac3a\",\"type\":\"ColumnDataSource\"},{\"attributes\":{\"callback\":null,\"column_names\":[\"line_color\",\"line_alpha\",\"color\",\"fill_alpha\",\"height\",\"width\",\"y\",\"x\",\"label\"],\"data\":{\"chart_index\":[\"[0.300000, 0.350000]\"],\"color\":[\"#f22c40\"],\"fill_alpha\":[0.8],\"height\":[0.0],\"label\":[\"[0.300000, 0.350000]\"],\"line_alpha\":[1.0],\"line_color\":[\"black\"],\"width\":[0.04999999999999999],\"x\":[\"0.325\"],\"y\":[0.0]}},\"id\":\"9868325a-33a4-4377-8eb8-2af096857070\",\"type\":\"ColumnDataSource\"},{\"attributes\":{\"fill_alpha\":{\"field\":\"fill_alpha\"},\"fill_color\":{\"field\":\"color\"},\"height\":{\"field\":\"height\",\"units\":\"data\"},\"line_color\":{\"field\":\"line_color\"},\"width\":{\"field\":\"width\",\"units\":\"data\"},\"x\":{\"field\":\"x\"},\"y\":{\"field\":\"y\"}},\"id\":\"97ffb8a9-21de-415c-b5af-4c701db64111\",\"type\":\"Rect\"},{\"attributes\":{\"callback\":null,\"end\":1.0325,\"start\":0.26749999999999996},\"id\":\"64a9dcb4-76b7-4110-8bc5-892408eaa896\",\"type\":\"Range1d\"},{\"attributes\":{\"callback\":null,\"column_names\":[\"line_color\",\"line_alpha\",\"color\",\"fill_alpha\",\"height\",\"width\",\"y\",\"x\",\"label\"],\"data\":{\"chart_index\":[\"(0.450000, 0.500000]\"],\"color\":[\"#f22c40\"],\"fill_alpha\":[0.8],\"height\":[3.0],\"label\":[\"(0.450000, 0.500000]\"],\"line_alpha\":[1.0],\"line_color\":[\"black\"],\"width\":[0.04999999999999999],\"x\":[\"0.475\"],\"y\":[1.5]}},\"id\":\"2a36dfc8-1197-4e5e-b622-db447080444b\",\"type\":\"ColumnDataSource\"},{\"attributes\":{\"dimension\":1,\"plot\":{\"id\":\"0bee2ad1-6206-4114-b008-02e0f99476a5\",\"subtype\":\"Chart\",\"type\":\"Plot\"},\"ticker\":{\"id\":\"7f2271a9-6e51-41b4-a8aa-7c5c2d138feb\",\"type\":\"BasicTicker\"}},\"id\":\"0cdcde48-8b7e-4f46-8f22-5da0f53f99e5\",\"type\":\"Grid\"},{\"attributes\":{\"fill_alpha\":{\"field\":\"fill_alpha\"},\"fill_color\":{\"field\":\"color\"},\"height\":{\"field\":\"height\",\"units\":\"data\"},\"line_color\":{\"field\":\"line_color\"},\"width\":{\"field\":\"width\",\"units\":\"data\"},\"x\":{\"field\":\"x\"},\"y\":{\"field\":\"y\"}},\"id\":\"bf503c0b-5723-40e4-b7be-df8ce223f000\",\"type\":\"Rect\"},{\"attributes\":{\"plot\":{\"id\":\"69ebe26b-1af8-462c-8402-0610e4829392\",\"subtype\":\"Chart\",\"type\":\"Plot\"}},\"id\":\"dce651c2-2a98-4f55-ab41-f8c10bbb4466\",\"type\":\"PanTool\"},{\"attributes\":{\"data_source\":{\"id\":\"380f66db-f708-42bd-9958-f29eb3b1b117\",\"type\":\"ColumnDataSource\"},\"glyph\":{\"id\":\"a91af1a0-e5e4-4b59-af4d-e255cb1ab360\",\"type\":\"Rect\"},\"hover_glyph\":null,\"muted_glyph\":null},\"id\":\"782c71cd-287e-4d70-aeb5-9be0439b9f39\",\"type\":\"GlyphRenderer\"},{\"attributes\":{\"callback\":null,\"column_names\":[\"line_color\",\"line_alpha\",\"color\",\"fill_alpha\",\"height\",\"width\",\"y\",\"x\",\"label\"],\"data\":{\"chart_index\":[\"(0.500000, 0.550000]\"],\"color\":[\"#f22c40\"],\"fill_alpha\":[0.8],\"height\":[7.0],\"label\":[\"(0.500000, 0.550000]\"],\"line_alpha\":[1.0],\"line_color\":[\"black\"],\"width\":[0.04999999999999999],\"x\":[\"0.525\"],\"y\":[3.5]}},\"id\":\"4755983d-72c0-464d-a665-98e9fcc3f8c0\",\"type\":\"ColumnDataSource\"},{\"attributes\":{},\"id\":\"b92a61e7-cbed-4882-b404-1dca96b94377\",\"type\":\"BasicTickFormatter\"},{\"attributes\":{\"data_source\":{\"id\":\"c70316b2-3f3b-4c83-8a49-d6111baada23\",\"type\":\"ColumnDataSource\"},\"glyph\":{\"id\":\"7fdbf050-f5c3-4696-b9cf-2eb5cc115166\",\"type\":\"Rect\"},\"hover_glyph\":null,\"muted_glyph\":null},\"id\":\"554f4a1d-4284-4d37-8682-f487b4f7b27d\",\"type\":\"GlyphRenderer\"},{\"attributes\":{\"plot\":{\"id\":\"2c382a44-252f-4260-9808-19866c56a721\",\"subtype\":\"Chart\",\"type\":\"Plot\"}},\"id\":\"20e4b281-0e12-43b1-87dc-daf0f1252633\",\"type\":\"ResetTool\"},{\"attributes\":{\"callback\":null,\"column_names\":[\"line_color\",\"line_alpha\",\"color\",\"fill_alpha\",\"height\",\"width\",\"y\",\"x\",\"label\"],\"data\":{\"chart_index\":[\"(0.550000, 0.600000]\"],\"color\":[\"#f22c40\"],\"fill_alpha\":[0.8],\"height\":[0.0],\"label\":[\"(0.550000, 0.600000]\"],\"line_alpha\":[1.0],\"line_color\":[\"black\"],\"width\":[0.04999999999999993],\"x\":[\"0.575\"],\"y\":[0.0]}},\"id\":\"e22ac22e-0ce0-4ea7-b99b-500bec0049a0\",\"type\":\"ColumnDataSource\"},{\"attributes\":{\"fill_alpha\":{\"field\":\"fill_alpha\"},\"fill_color\":{\"field\":\"color\"},\"height\":{\"field\":\"height\",\"units\":\"data\"},\"line_color\":{\"field\":\"line_color\"},\"width\":{\"field\":\"width\",\"units\":\"data\"},\"x\":{\"field\":\"x\"},\"y\":{\"field\":\"y\"}},\"id\":\"5f98b08d-24d7-4db8-8049-7c2ec9099c3f\",\"type\":\"Rect\"},{\"attributes\":{\"plot\":{\"id\":\"2c382a44-252f-4260-9808-19866c56a721\",\"subtype\":\"Chart\",\"type\":\"Plot\"}},\"id\":\"59ea4b47-b4db-4dd1-b452-10f1ec91badf\",\"type\":\"HelpTool\"},{\"attributes\":{\"callback\":null,\"column_names\":[\"line_color\",\"line_alpha\",\"color\",\"fill_alpha\",\"height\",\"width\",\"y\",\"x\",\"label\"],\"data\":{\"chart_index\":[\"(0.850000, 0.900000]\"],\"color\":[\"#f22c40\"],\"fill_alpha\":[0.8],\"height\":[5.0],\"label\":[\"(0.850000, 0.900000]\"],\"line_alpha\":[1.0],\"line_color\":[\"black\"],\"width\":[0.050000000000000044],\"x\":[\"0.875\"],\"y\":[2.5]}},\"id\":\"17eb2d1b-bd84-4d50-92a8-61e00aacb55f\",\"type\":\"ColumnDataSource\"},{\"attributes\":{\"plot\":{\"id\":\"2c382a44-252f-4260-9808-19866c56a721\",\"subtype\":\"Chart\",\"type\":\"Plot\"}},\"id\":\"b17d6bfc-e4a4-432d-bae9-70df6a604716\",\"type\":\"WheelZoomTool\"},{\"attributes\":{\"data_source\":{\"id\":\"8609514d-a7cd-4a4f-96af-e0fb84f5084a\",\"type\":\"ColumnDataSource\"},\"glyph\":{\"id\":\"bf503c0b-5723-40e4-b7be-df8ce223f000\",\"type\":\"Rect\"},\"hover_glyph\":null,\"muted_glyph\":null},\"id\":\"f6d605be-e9e9-4f1e-bc91-80f582fdee2d\",\"type\":\"GlyphRenderer\"},{\"attributes\":{\"fill_alpha\":{\"field\":\"fill_alpha\"},\"fill_color\":{\"field\":\"color\"},\"height\":{\"field\":\"height\",\"units\":\"data\"},\"line_color\":{\"field\":\"line_color\"},\"width\":{\"field\":\"width\",\"units\":\"data\"},\"x\":{\"field\":\"x\"},\"y\":{\"field\":\"y\"}},\"id\":\"cd3eed55-ffa6-4e9b-9a76-d4879be98c7a\",\"type\":\"Rect\"},{\"attributes\":{\"below\":[{\"id\":\"46bbabf5-3373-4078-abf2-c1c99e6092e9\",\"type\":\"LinearAxis\"}],\"css_classes\":null,\"left\":[{\"id\":\"fb6110df-2147-4170-9e99-f79824390d41\",\"type\":\"LinearAxis\"}],\"renderers\":[{\"id\":\"1df1c5bf-b559-44b0-8e44-ec93aca7c31d\",\"type\":\"BoxAnnotation\"},{\"id\":\"75117801-be7a-47aa-b9e5-bc1afa93dfe1\",\"type\":\"GlyphRenderer\"},{\"id\":\"74345e0f-1561-4092-8cc2-6191bbb1f874\",\"type\":\"GlyphRenderer\"},{\"id\":\"9e1f182a-7d25-4b11-9a0c-d5d9a22f25b0\",\"type\":\"GlyphRenderer\"},{\"id\":\"808395b7-c21e-438e-9d46-eff1fd6ee875\",\"type\":\"GlyphRenderer\"},{\"id\":\"ee87c009-8988-4dd0-bd7c-e98c5ea1d6e2\",\"type\":\"GlyphRenderer\"},{\"id\":\"bc8d3f9a-dca1-4d28-aecd-9240e50c6d62\",\"type\":\"GlyphRenderer\"},{\"id\":\"0a886f49-49e0-4b80-bab5-46079daff94c\",\"type\":\"GlyphRenderer\"},{\"id\":\"c6b4d2f5-de59-4561-8297-142bb8ebff70\",\"type\":\"GlyphRenderer\"},{\"id\":\"782c71cd-287e-4d70-aeb5-9be0439b9f39\",\"type\":\"GlyphRenderer\"},{\"id\":\"63bd5baf-cd09-4384-9c3d-911fbe8f01b8\",\"type\":\"GlyphRenderer\"},{\"id\":\"f6d605be-e9e9-4f1e-bc91-80f582fdee2d\",\"type\":\"GlyphRenderer\"},{\"id\":\"abea8983-1b21-433d-8b3f-c1645ffac717\",\"type\":\"GlyphRenderer\"},{\"id\":\"4947358a-9450-43d3-9185-be870f7eda00\",\"type\":\"GlyphRenderer\"},{\"id\":\"bce3abe9-c01d-4c4e-bedd-5aae2d6a3cc7\",\"type\":\"GlyphRenderer\"},{\"id\":\"4acdda5a-00d0-4800-8293-1022faf35123\",\"type\":\"Legend\"},{\"id\":\"46bbabf5-3373-4078-abf2-c1c99e6092e9\",\"type\":\"LinearAxis\"},{\"id\":\"fb6110df-2147-4170-9e99-f79824390d41\",\"type\":\"LinearAxis\"},{\"id\":\"0cdcde48-8b7e-4f46-8f22-5da0f53f99e5\",\"type\":\"Grid\"}],\"title\":{\"id\":\"2e19beb9-c484-4fff-8416-6ba39dd17d98\",\"type\":\"Title\"},\"tool_events\":{\"id\":\"9374504c-4484-49bd-9b53-6f3347ac4b6a\",\"type\":\"ToolEvents\"},\"toolbar\":{\"id\":\"8068d95c-3c26-4b4e-bfb5-8fcbc5191d5c\",\"type\":\"Toolbar\"},\"x_mapper_type\":\"auto\",\"x_range\":{\"id\":\"b42d01a3-35c1-428b-a10a-53930a349963\",\"type\":\"Range1d\"},\"y_mapper_type\":\"auto\",\"y_range\":{\"id\":\"11bb6bbf-4159-4b1f-8b20-e78989068078\",\"type\":\"Range1d\"}},\"id\":\"0bee2ad1-6206-4114-b008-02e0f99476a5\",\"subtype\":\"Chart\",\"type\":\"Plot\"},{\"attributes\":{\"data_source\":{\"id\":\"8af4c0ca-0815-4462-97da-ba8f5862e7e8\",\"type\":\"ColumnDataSource\"},\"glyph\":{\"id\":\"69a53ab5-fdd6-498e-be18-f1c54e02735a\",\"type\":\"Rect\"},\"hover_glyph\":null,\"muted_glyph\":null},\"id\":\"bce3abe9-c01d-4c4e-bedd-5aae2d6a3cc7\",\"type\":\"GlyphRenderer\"},{\"attributes\":{\"plot\":null,\"text\":\"F1s\"},\"id\":\"adb35ed9-715a-4582-be87-68aa5075bad5\",\"type\":\"Title\"},{\"attributes\":{\"fill_alpha\":{\"field\":\"fill_alpha\"},\"fill_color\":{\"field\":\"color\"},\"height\":{\"field\":\"height\",\"units\":\"data\"},\"line_color\":{\"field\":\"line_color\"},\"width\":{\"field\":\"width\",\"units\":\"data\"},\"x\":{\"field\":\"x\"},\"y\":{\"field\":\"y\"}},\"id\":\"a5c22208-46f8-4ab0-a2be-690821863bf5\",\"type\":\"Rect\"},{\"attributes\":{\"callback\":null,\"column_names\":[\"line_color\",\"line_alpha\",\"color\",\"fill_alpha\",\"height\",\"width\",\"y\",\"x\",\"label\"],\"data\":{\"chart_index\":[\"(0.900000, 0.950000]\"],\"color\":[\"#f22c40\"],\"fill_alpha\":[0.8],\"height\":[17.0],\"label\":[\"(0.900000, 0.950000]\"],\"line_alpha\":[1.0],\"line_color\":[\"black\"],\"width\":[0.050000000000000044],\"x\":[\"0.925\"],\"y\":[8.5]}},\"id\":\"a41bff2d-ca3e-40d7-9e1c-155518f2a288\",\"type\":\"ColumnDataSource\"},{\"attributes\":{\"axis_label\":\"Count( A )\",\"formatter\":{\"id\":\"d74c8f18-afec-47ba-92d2-200dfe631c77\",\"type\":\"BasicTickFormatter\"},\"plot\":{\"id\":\"69ebe26b-1af8-462c-8402-0610e4829392\",\"subtype\":\"Chart\",\"type\":\"Plot\"},\"ticker\":{\"id\":\"1d8947c0-d3ab-4028-835e-41dd29e848c1\",\"type\":\"BasicTicker\"}},\"id\":\"19e48e8a-3165-4364-bc66-3cf3605d63f1\",\"type\":\"LinearAxis\"},{\"attributes\":{\"fill_alpha\":{\"field\":\"fill_alpha\"},\"fill_color\":{\"field\":\"color\"},\"height\":{\"field\":\"height\",\"units\":\"data\"},\"line_color\":{\"field\":\"line_color\"},\"width\":{\"field\":\"width\",\"units\":\"data\"},\"x\":{\"field\":\"x\"},\"y\":{\"field\":\"y\"}},\"id\":\"4387159e-39f8-4937-baf6-f62e1f4f3309\",\"type\":\"Rect\"},{\"attributes\":{\"fill_alpha\":{\"field\":\"fill_alpha\"},\"fill_color\":{\"field\":\"color\"},\"height\":{\"field\":\"height\",\"units\":\"data\"},\"line_color\":{\"field\":\"line_color\"},\"width\":{\"field\":\"width\",\"units\":\"data\"},\"x\":{\"field\":\"x\"},\"y\":{\"field\":\"y\"}},\"id\":\"91ea2886-df3d-4300-a63d-64ad6c554b68\",\"type\":\"Rect\"}],\"root_ids\":[\"b8adcf09-288b-4073-857c-918e9f8773f5\"]},\"title\":\"Bokeh Application\",\"version\":\"0.12.5\"}};\n",
       "            var render_items = [{\"docid\":\"afac64f7-d18d-4b60-8d95-6b0ef70e5544\",\"elementid\":\"81dfb298-24c2-43fe-8192-283d9454766a\",\"modelid\":\"b8adcf09-288b-4073-857c-918e9f8773f5\"}];\n",
       "            \n",
       "            Bokeh.embed.embed_items(docs_json, render_items);\n",
       "          };\n",
       "          if (document.readyState != \"loading\") fn();\n",
       "          else document.addEventListener(\"DOMContentLoaded\", fn);\n",
       "        })();\n",
       "      },\n",
       "      function(Bokeh) {\n",
       "      }\n",
       "    ];\n",
       "  \n",
       "    function run_inline_js() {\n",
       "      \n",
       "      if ((window.Bokeh !== undefined) || (force === true)) {\n",
       "        for (var i = 0; i < inline_js.length; i++) {\n",
       "          inline_js[i](window.Bokeh);\n",
       "        }if (force === true) {\n",
       "          display_loaded();\n",
       "        }} else if (Date.now() < window._bokeh_timeout) {\n",
       "        setTimeout(run_inline_js, 100);\n",
       "      } else if (!window._bokeh_failed_load) {\n",
       "        console.log(\"Bokeh: BokehJS failed to load within specified timeout.\");\n",
       "        window._bokeh_failed_load = true;\n",
       "      } else if (force !== true) {\n",
       "        var cell = $(document.getElementById(\"81dfb298-24c2-43fe-8192-283d9454766a\")).parents('.cell').data().cell;\n",
       "        cell.output_area.append_execute_result(NB_LOAD_WARNING)\n",
       "      }\n",
       "  \n",
       "    }\n",
       "  \n",
       "    if (window._bokeh_is_loading === 0) {\n",
       "      console.log(\"Bokeh: BokehJS loaded, going straight to plotting\");\n",
       "      run_inline_js();\n",
       "    } else {\n",
       "      load_libs(js_urls, function() {\n",
       "        console.log(\"Bokeh: BokehJS plotting callback run at\", now());\n",
       "        run_inline_js();\n",
       "      });\n",
       "    }\n",
       "  }(this));\n",
       "</script>"
      ]
     },
     "metadata": {},
     "output_type": "display_data"
    }
   ],
   "source": [
    "histp = Histogram(precisions_valid.values(), title=\"Precisions\", bins=bins)\n",
    "histr = Histogram(recalls_valid.values(), title=\"Recalls\", bins=bins)\n",
    "histf = Histogram(f1s_valid.values(), title=\"F1s\", bins=bins)\n",
    "\n",
    "show(row(histp, histr, histf))"
   ]
  },
  {
   "cell_type": "code",
   "execution_count": null,
   "metadata": {
    "collapsed": true
   },
   "outputs": [],
   "source": []
  }
 ],
 "metadata": {
  "kernelspec": {
   "display_name": "Python 2",
   "language": "python",
   "name": "python2"
  },
  "language_info": {
   "codemirror_mode": {
    "name": "ipython",
    "version": 2
   },
   "file_extension": ".py",
   "mimetype": "text/x-python",
   "name": "python",
   "nbconvert_exporter": "python",
   "pygments_lexer": "ipython2",
   "version": "2.7.11+"
  }
 },
 "nbformat": 4,
 "nbformat_minor": 2
}
