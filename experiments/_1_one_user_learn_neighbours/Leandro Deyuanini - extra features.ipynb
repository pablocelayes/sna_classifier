{
 "cells": [
  {
   "cell_type": "code",
   "execution_count": 1,
   "metadata": {
    "collapsed": false
   },
   "outputs": [
    {
     "name": "stdout",
     "output_type": "stream",
     "text": [
      "Switching to API Credentials #3\n"
     ]
    }
   ],
   "source": [
    "from experiments._1_one_user_learn_neighbours.try_some_users import *\n",
    "from experiments.utils import *\n",
    "from experiments.datasets import *"
   ]
  },
  {
   "cell_type": "code",
   "execution_count": 2,
   "metadata": {
    "collapsed": false
   },
   "outputs": [],
   "source": [
    "uid = 37226353\n",
    "username = 'Leandro Deyuanini'\n",
    "s = open_session()\n",
    "user = s.query(User).get(uid)\n",
    "X_train, X_test, y_train, y_test = load_or_create_dataframe(uid)"
   ]
  },
  {
   "cell_type": "code",
   "execution_count": 3,
   "metadata": {
    "collapsed": true
   },
   "outputs": [],
   "source": [
    "neighbours = get_neighbourhood(uid)"
   ]
  },
  {
   "cell_type": "code",
   "execution_count": 4,
   "metadata": {
    "collapsed": true
   },
   "outputs": [],
   "source": [
    "neighbour_ids = [n.id for n in neighbours]"
   ]
  },
  {
   "cell_type": "code",
   "execution_count": 5,
   "metadata": {
    "collapsed": false
   },
   "outputs": [],
   "source": [
    "clf = load_model(uid)"
   ]
  },
  {
   "cell_type": "code",
   "execution_count": 6,
   "metadata": {
    "collapsed": false
   },
   "outputs": [
    {
     "name": "stdout",
     "output_type": "stream",
     "text": [
      "Detailed classification report:\n",
      "\n",
      "Scores on training set.\n",
      "\n",
      "             precision    recall  f1-score   support\n",
      "\n",
      "        0.0       0.99      1.00      1.00     79167\n",
      "        1.0       1.00      0.61      0.76      1267\n",
      "\n",
      "avg / total       0.99      0.99      0.99     80434\n",
      "\n",
      "Scores on test set.\n",
      "\n",
      "             precision    recall  f1-score   support\n",
      "\n",
      "        0.0       0.99      1.00      1.00     33942\n",
      "        1.0       0.94      0.60      0.73       530\n",
      "\n",
      "avg / total       0.99      0.99      0.99     34472\n",
      "\n"
     ]
    }
   ],
   "source": [
    "evaluate_model(clf, X_train, X_test, y_train, y_test)"
   ]
  },
  {
   "cell_type": "markdown",
   "metadata": {},
   "source": [
    "# Análisis de ambigüedades"
   ]
  },
  {
   "cell_type": "markdown",
   "metadata": {},
   "source": [
    "Este usuario muestra un recall mucho más bajo que los demás.\n",
    "Esta pérdida de calidad puede deberse a errores forzosos causados por ambigüedades en el dataset de entrenamiento.\n",
    "Diremos que hay ambigüedad para un vector de features $v$ si $(v,0)$ y $(v,1)$ ocurren ambos una cantidad significativa de veces."
   ]
  },
  {
   "cell_type": "code",
   "execution_count": 7,
   "metadata": {
    "collapsed": false
   },
   "outputs": [],
   "source": [
    "miss_clf_counts, details = count_doomed_samples(X_train, y_train)"
   ]
  },
  {
   "cell_type": "code",
   "execution_count": 8,
   "metadata": {
    "collapsed": false
   },
   "outputs": [
    {
     "data": {
      "text/plain": [
       "[([u'@lauritalonso'], {0.0: 340, 1.0: 106}),\n",
       " ([u'Paula Mar\\xeda'], {0.0: 282, 1.0: 43}),\n",
       " ([u'FestivalesGCBA'], {0.0: 657, 1.0: 30}),\n",
       " ([u'Federico Pinedo'], {0.0: 125, 1.0: 26}),\n",
       " ([u'Enzo Pagani'], {0.0: 132, 1.0: 23}),\n",
       " ([u'Eduardo Macchiavelli'], {0.0: 159, 1.0: 22}),\n",
       " ([u'PRO'], {0.0: 114, 1.0: 19}),\n",
       " ([u'Gladys Gonzalez'], {0.0: 51, 1.0: 16}),\n",
       " ([u'Gabriela Michetti'], {0.0: 23, 1.0: 15}),\n",
       " ([u'Victoria Morales G'], {0.0: 61, 1.0: 14}),\n",
       " ([u'Jorge Macri'], {0.0: 41, 1.0: 14}),\n",
       " ([u'Nestor Grindetti'], {0.0: 27, 1.0: 13}),\n",
       " ([u'Julio Garro'], {0.0: 296, 1.0: 13}),\n",
       " ([u'Cristian Ritondo'], {0.0: 22, 1.0: 8}),\n",
       " ([u'Dami\\xe1n Esteban Glanz'], {0.0: 97, 1.0: 7}),\n",
       " ([u'Karina Spalla'], {0.0: 12, 1.0: 5}),\n",
       " ([u'Esteban Bullrich'], {0.0: 18, 1.0: 5}),\n",
       " ([u'Sole Martinez'], {0.0: 9, 1.0: 4}),\n",
       " ([u'Oscar Moscariello'], {0.0: 21, 1.0: 4}),\n",
       " ([u'Fran Quintana'], {0.0: 14, 1.0: 4}),\n",
       " ([u'Fernando de Andreis'], {0.0: 8, 1.0: 4}),\n",
       " ([u'beto valdez'], {0.0: 1434, 1.0: 4}),\n",
       " ([u'@lauritalonso', u'Federico Pinedo'], {0.0: 7, 1.0: 4}),\n",
       " ([u'#YolovotoaMM'], {0.0: 200, 1.0: 3}),\n",
       " ([u'Ivan Petrella'], {0.0: 158, 1.0: 3}),\n",
       " ([u'H Rodr\\xedguez Larreta'], {0.0: 4, 1.0: 3}),\n",
       " ([u'Eduardo Macchiavelli', u'Gabriela Michetti'], {0.0: 4, 1.0: 3}),\n",
       " ([u'Pedro Robledo'], {0.0: 113, 1.0: 3}),\n",
       " ([u'@lauritalonso', u'#YolovotoaMM'], {0.0: 12, 1.0: 3}),\n",
       " ([u'Alejandro Garc\\xeda', u'Buenos Aires Ciudad'], {0.0: 8, 1.0: 3})]"
      ]
     },
     "execution_count": 8,
     "metadata": {},
     "output_type": "execute_result"
    }
   ],
   "source": [
    "details[:30]"
   ]
  },
  {
   "cell_type": "code",
   "execution_count": 9,
   "metadata": {
    "collapsed": false
   },
   "outputs": [
    {
     "data": {
      "text/plain": [
       "defaultdict(float, {0: 2.0, 1: 475.0})"
      ]
     },
     "execution_count": 9,
     "metadata": {},
     "output_type": "execute_result"
    }
   ],
   "source": [
    "miss_clf_counts"
   ]
  },
  {
   "cell_type": "markdown",
   "metadata": {},
   "source": [
    "Vamos a tratar de mejorar la calidad del modelo agregando usuarios al entorno.\n",
    "Eligiremos estos usuarios de forma que cumplan dos condiciones:\n",
    "   * Tengan varios retweets de casos a desambiguar\n",
    "   * Sean cercanos al usuario central ( Katz )"
   ]
  },
  {
   "cell_type": "code",
   "execution_count": 10,
   "metadata": {
    "collapsed": false
   },
   "outputs": [
    {
     "data": {
      "text/plain": [
       "80"
      ]
     },
     "execution_count": 10,
     "metadata": {},
     "output_type": "execute_result"
    }
   ],
   "source": [
    "len(details)"
   ]
  },
  {
   "cell_type": "code",
   "execution_count": 11,
   "metadata": {
    "collapsed": false
   },
   "outputs": [],
   "source": [
    "# error_sources = [d for d in details if d[1][1.0] >= 10]\n",
    "# y si tomamos todos?\n",
    "error_sources = details\n",
    "\n",
    "unames = [x[0][0] for x in error_sources]\n",
    "amb_users = {u.username: u for u in neighbours if u.username in unames}\n",
    "amb_ids = {u.id for u in amb_users.values()}"
   ]
  },
  {
   "cell_type": "markdown",
   "metadata": {},
   "source": [
    "Obtener tweets ambiguos"
   ]
  },
  {
   "cell_type": "code",
   "execution_count": 12,
   "metadata": {
    "collapsed": false
   },
   "outputs": [
    {
     "data": {
      "text/plain": [
       "76696"
      ]
     },
     "execution_count": 12,
     "metadata": {},
     "output_type": "execute_result"
    }
   ],
   "source": [
    "sum(X_train.sum(axis=1) == 1)"
   ]
  },
  {
   "cell_type": "code",
   "execution_count": 13,
   "metadata": {
    "collapsed": false
   },
   "outputs": [
    {
     "data": {
      "text/plain": [
       "80434"
      ]
     },
     "execution_count": 13,
     "metadata": {},
     "output_type": "execute_result"
    }
   ],
   "source": [
    "len(X_train)"
   ]
  },
  {
   "cell_type": "code",
   "execution_count": 14,
   "metadata": {
    "collapsed": true
   },
   "outputs": [],
   "source": [
    "# tweets con un solo 1 en todo X_train y con 1 en y_train\n",
    "cands = X_train[(y_train == 1) & (X_train.sum(axis=1) == 1)]\n",
    "\n",
    "# y ese en alguno de los amb_users\n",
    "amb_tweets = []\n",
    "for twid in cands.index:\n",
    "    t = s.query(Tweet).get(twid)\n",
    "    if t.author_id in amb_ids:\n",
    "        amb_tweets.append(t)"
   ]
  },
  {
   "cell_type": "code",
   "execution_count": 15,
   "metadata": {
    "collapsed": false
   },
   "outputs": [
    {
     "data": {
      "text/plain": [
       "316"
      ]
     },
     "execution_count": 15,
     "metadata": {},
     "output_type": "execute_result"
    }
   ],
   "source": [
    "len(amb_tweets)"
   ]
  },
  {
   "cell_type": "markdown",
   "metadata": {},
   "source": [
    "Obtener usuarios con mas retweets ambiguos"
   ]
  },
  {
   "cell_type": "code",
   "execution_count": 16,
   "metadata": {
    "collapsed": true
   },
   "outputs": [],
   "source": [
    "t = amb_tweets[0]"
   ]
  },
  {
   "cell_type": "code",
   "execution_count": 17,
   "metadata": {
    "collapsed": false
   },
   "outputs": [
    {
     "data": {
      "text/plain": [
       "1.1455696202531647"
      ]
     },
     "execution_count": 17,
     "metadata": {},
     "output_type": "execute_result"
    }
   ],
   "source": [
    "np.mean([len(t.users_retweeted) for t in amb_tweets])"
   ]
  },
  {
   "cell_type": "code",
   "execution_count": 18,
   "metadata": {
    "collapsed": false
   },
   "outputs": [],
   "source": [
    "amb_rt_counts = defaultdict(int)\n",
    "for t in amb_tweets:\n",
    "    for u in t.users_retweeted:\n",
    "        if u.id not in (neighbour_ids + [user.id]):\n",
    "            amb_rt_counts[u.id] += 1\n",
    "    if t.author_id not in (neighbour_ids + [user.id]):\n",
    "        amb_rt_counts[t.author_id] += 1"
   ]
  },
  {
   "cell_type": "code",
   "execution_count": 19,
   "metadata": {
    "collapsed": false
   },
   "outputs": [],
   "source": [
    "new_neighbours = sorted(amb_rt_counts.items(), key=lambda x: -x[1])"
   ]
  },
  {
   "cell_type": "code",
   "execution_count": 20,
   "metadata": {
    "collapsed": false
   },
   "outputs": [
    {
     "data": {
      "text/plain": [
       "[(195412602, 3),\n",
       " (35710956, 2),\n",
       " (188376648, 2),\n",
       " (283762641, 2),\n",
       " (160955228, 2),\n",
       " (7909502, 2),\n",
       " (153127426, 1),\n",
       " (138835591, 1),\n",
       " (337631754, 1),\n",
       " (181148556, 1),\n",
       " (154225689, 1),\n",
       " (127996443, 1),\n",
       " (196765605, 1),\n",
       " (33798438, 1),\n",
       " (715185320, 1),\n",
       " (72062123, 1),\n",
       " (178025902, 1),\n",
       " (227020722, 1),\n",
       " (15521401, 1),\n",
       " (147800890, 1),\n",
       " (8519232, 1),\n",
       " (126760513, 1),\n",
       " (152769475, 1),\n",
       " (158116807, 1),\n",
       " (57399758, 1),\n",
       " (127715027, 1),\n",
       " (14636665, 1),\n",
       " (57686497, 1),\n",
       " (49651047, 1),\n",
       " (145709292, 1),\n",
       " (186560753, 1),\n",
       " (157833202, 1),\n",
       " (83043060, 1),\n",
       " (143795703, 1),\n",
       " (151598585, 1),\n",
       " (157227260, 1),\n",
       " (168140287, 1)]"
      ]
     },
     "execution_count": 20,
     "metadata": {},
     "output_type": "execute_result"
    }
   ],
   "source": [
    "new_neighbours"
   ]
  },
  {
   "cell_type": "code",
   "execution_count": 21,
   "metadata": {
    "collapsed": false
   },
   "outputs": [
    {
     "data": {
      "text/plain": [
       "[u'Tucum\\xe1n nos abre una enorme esperanza #Democracia #Justicia',\n",
       " u'Nancy y sus vecinos, de Villa Tranquila, viven sin cloacas y con el problema latente de las inundaciones. http://t.co/Ff4BvRZIOU',\n",
       " u'Hoy, a las 11, @PerdomoVero y el Dr. Jorge Rocco dan un taller acerca del cuidado de la salud, en @legiscaba. Sumate! http://t.co/O6s0WCofis',\n",
       " u'\"Todos piden que no aflojemos\" @mauriciomacri en San Pedro #Jujuy http://t.co/MME0VFJ4Al http://t.co/TbbhrkThlI',\n",
       " u'Con @DSalvadorSF y miembros del Frente Cambiemos de Avellaneda firmando nuestro compromiso #VamosJuntos http://t.co/TcCHuSfqVW',\n",
       " u'Conectate a @Laoncediez y escuch\\xe1 a Dar\\xedo Lop\\xe9rfido contando todos los detalles sobre el #10FIBA http://t.co/CY8mbziUaD',\n",
       " u'Mauricio Macri y Sergio Massa, en una conferencia conjunta convocada por las irregularidade... http://t.co/8d4Hy9yTqx http://t.co/in7zbtFErh',\n",
       " u'Cierre de campa\\xf1a #Cambiemos en Laboulaye, C\\xf3rdoba. Este domingo C\\xe9sar Abdala intendente y Mariano Proietti concejal http://t.co/k7novsaItx',\n",
       " u'\"El Show de la ma\\xf1ana\" canal 12 C\\xf3rdoba. http://t.co/acEjLXYqed',\n",
       " u'Ya renunci\\xf3 #LaMorsaEsAnibal? O #ElBigotedelaEfedrina?',\n",
       " u'Me reun\\xed con @JavierJiguacel, candidato a intendente por #Cambiemos en Capit\\xe1n Sarmiento. http://t.co/mdXGz80Tug http://t.co/0KyutQcxJK',\n",
       " u'\"En cada pueblo, en cada ciudad, cuando vas recorriendo el pa\\xeds, ves la esperanza que deposita la gente en @mauriciomacri\" @marquitospena',\n",
       " u'FELIZ D\\xcdA A TODOS LOS JUBILADOS! http://t.co/efrgEe2xA9',\n",
       " u'Cristina Kirchner siente que el pa\\xeds es ella http://t.co/EfHmBzRcad',\n",
       " u'Junto a @estebanbullrich inaugurando un centro de apoyo del programa \"Termin\\xe1 la Secundaria\" en Alberdi 75 http://t.co/S7nwv0pGoe',\n",
       " u'#MiLetraDeCerati a veces hago todo al rev\\xe9s, el tsunami lleg\\xf3 hasta aqu\\xed...lo vi venir',\n",
       " u'Compartiendo unos mates con vecinos de chingolo en el centro comercial. So\\xf1amos con un barrio mejor! #JuntosPorLanus http://t.co/PexwzZ4rfw',\n",
       " u'M\\xe1s seguro e iluminado! Nuevo se\\xf1alamiento vial que instalamos en el distribuidor de Av. del Libertador y Laprida. http://t.co/P40JmQjwbl',\n",
       " u'En minutos, @educace en Canal 8, #SanJuan.',\n",
       " u'\\xdaltima noche de #TangoBA Festival y Mundial. Vas a poder disfrutarla desde tu casa a trav\\xe9s de http://t.co/POC99ZOFJG http://t.co/R83aljjdLk']"
      ]
     },
     "execution_count": 21,
     "metadata": {},
     "output_type": "execute_result"
    }
   ],
   "source": [
    "[t.text for t in amb_tweets[:20]]"
   ]
  },
  {
   "cell_type": "markdown",
   "metadata": {},
   "source": [
    "Son pocos los usuarios encontrados, vamos a agregarlos a todos\n"
   ]
  },
  {
   "cell_type": "code",
   "execution_count": 22,
   "metadata": {
    "collapsed": true
   },
   "outputs": [],
   "source": [
    "s = open_session()\n",
    "\n",
    "new_neighbour_ids = [x[0] for x in new_neighbours]\n",
    "\n",
    "new_neighbours = [s.query(User).get(uid) for uid in new_neighbour_ids]"
   ]
  },
  {
   "cell_type": "code",
   "execution_count": 23,
   "metadata": {
    "collapsed": true
   },
   "outputs": [],
   "source": [
    "user = s.query(User).get(uid)"
   ]
  },
  {
   "cell_type": "code",
   "execution_count": 24,
   "metadata": {
    "collapsed": true
   },
   "outputs": [],
   "source": [
    "tweet_ids = X_train.index\n",
    "tweets = [s.query(Tweet).get(twid) for twid in tweet_ids]\n",
    "\n",
    "X_train_new, _ = extract_features(tweets, new_neighbours, user)\n",
    "\n",
    "X_train_new = pd.DataFrame(data=X_train_new, index=tweet_ids, columns=new_neighbour_ids)\n",
    "\n",
    "X_train_extended = pd.concat([X_train,X_train_new],axis=1)"
   ]
  },
  {
   "cell_type": "markdown",
   "metadata": {},
   "source": [
    "Ahora entrenamos en el dataset extendido"
   ]
  },
  {
   "cell_type": "code",
   "execution_count": null,
   "metadata": {
    "collapsed": true
   },
   "outputs": [],
   "source": [
    "# weights for class balancing\n",
    "w1 = sum(y_train)/len(y_train)\n",
    "w0 = 1 - w1\n",
    "sample_weights = np.array([w0 if x==0 else w1 for x in y_train])"
   ]
  },
  {
   "cell_type": "code",
   "execution_count": 51,
   "metadata": {
    "collapsed": false
   },
   "outputs": [
    {
     "data": {
      "text/plain": [
       "RandomForestClassifier(bootstrap=True, class_weight=None, criterion='gini',\n",
       "            max_depth=None, max_features='auto', max_leaf_nodes=None,\n",
       "            min_impurity_split=1e-07, min_samples_leaf=1,\n",
       "            min_samples_split=2, min_weight_fraction_leaf=0.0,\n",
       "            n_estimators=10, n_jobs=1, oob_score=False, random_state=None,\n",
       "            verbose=0, warm_start=False)"
      ]
     },
     "execution_count": 51,
     "metadata": {},
     "output_type": "execute_result"
    }
   ],
   "source": [
    "clf = RandomForestClassifier()     \n",
    "clf.fit(X_train_extended, y_train, sample_weight=sample_weights)"
   ]
  },
  {
   "cell_type": "markdown",
   "metadata": {},
   "source": [
    "Evaluamos para ver si hubo alguna mejora"
   ]
  },
  {
   "cell_type": "code",
   "execution_count": 27,
   "metadata": {
    "collapsed": false
   },
   "outputs": [
    {
     "name": "stdout",
     "output_type": "stream",
     "text": [
      "Scores on training set.\n",
      "\n",
      "             precision    recall  f1-score   support\n",
      "\n",
      "        0.0       0.99      1.00      1.00     79167\n",
      "        1.0       1.00      0.62      0.77      1267\n",
      "\n",
      "avg / total       0.99      0.99      0.99     80434\n",
      "\n"
     ]
    }
   ],
   "source": [
    "y_true, y_pred = y_train, clf.predict(X_train_extended)\n",
    "\n",
    "print(\"Scores on training set.\\n\")\n",
    "print(classification_report(y_true, y_pred))"
   ]
  },
  {
   "cell_type": "markdown",
   "metadata": {},
   "source": [
    "Mejoró un $1\\%$ el *recall* en el training set."
   ]
  },
  {
   "cell_type": "markdown",
   "metadata": {},
   "source": [
    "Veamos si esta mejora se traslada al test set."
   ]
  },
  {
   "cell_type": "code",
   "execution_count": null,
   "metadata": {
    "collapsed": true
   },
   "outputs": [],
   "source": [
    "test_tweets = [s.query(Tweet).get(twid) for twid in X_test.index]\n",
    "\n",
    "X_test_new, _ = extract_features(test_tweets, new_neighbours, user)\n",
    "\n",
    "X_test_new = pd.DataFrame(data=X_test_new, index=X_test.index, columns=new_neighbour_ids)\n",
    "X_test_extended = pd.concat([X_test,X_test_new],axis=1)"
   ]
  },
  {
   "cell_type": "code",
   "execution_count": 53,
   "metadata": {
    "collapsed": false
   },
   "outputs": [
    {
     "name": "stdout",
     "output_type": "stream",
     "text": [
      "             precision    recall  f1-score   support\n",
      "\n",
      "        0.0       0.99      1.00      1.00     33942\n",
      "        1.0       0.91      0.60      0.72       530\n",
      "\n",
      "avg / total       0.99      0.99      0.99     34472\n",
      "\n"
     ]
    }
   ],
   "source": [
    "y_true, y_pred = y_test, clf.predict(X_test_extended)\n",
    "print(classification_report(y_true, y_pred))"
   ]
  },
  {
   "cell_type": "markdown",
   "metadata": {},
   "source": [
    "Bajó la calidad en el test set."
   ]
  },
  {
   "cell_type": "markdown",
   "metadata": {},
   "source": [
    "Veamos si bajó la ambigüedad y mejoró el *máximo recall potencial*."
   ]
  },
  {
   "cell_type": "code",
   "execution_count": 28,
   "metadata": {
    "collapsed": true
   },
   "outputs": [],
   "source": [
    "miss_clf_counts_new, details_new = count_doomed_samples(X_train_extended, y_train)"
   ]
  },
  {
   "cell_type": "code",
   "execution_count": 29,
   "metadata": {
    "collapsed": false
   },
   "outputs": [
    {
     "data": {
      "text/plain": [
       "[([u'@lauritalonso'], {0.0: 318, 1.0: 93}),\n",
       " ([u'Paula Mar\\xeda'], {0.0: 278, 1.0: 40}),\n",
       " ([u'FestivalesGCBA'], {0.0: 656, 1.0: 30}),\n",
       " ([u'Federico Pinedo'], {0.0: 122, 1.0: 25}),\n",
       " ([u'Enzo Pagani'], {0.0: 132, 1.0: 23}),\n",
       " ([u'Eduardo Macchiavelli'], {0.0: 159, 1.0: 21}),\n",
       " ([u'PRO'], {0.0: 114, 1.0: 18}),\n",
       " ([u'Gladys Gonzalez'], {0.0: 51, 1.0: 16}),\n",
       " ([u'Victoria Morales G'], {0.0: 61, 1.0: 14}),\n",
       " ([u'Jorge Macri'], {0.0: 41, 1.0: 14}),\n",
       " ([u'Nestor Grindetti'], {0.0: 27, 1.0: 13}),\n",
       " ([u'Julio Garro'], {0.0: 296, 1.0: 13}),\n",
       " ([u'Gabriela Michetti'], {0.0: 23, 1.0: 13}),\n",
       " ([u'Cristian Ritondo'], {0.0: 21, 1.0: 8}),\n",
       " ([u'Dami\\xe1n Esteban Glanz'], {0.0: 97, 1.0: 7}),\n",
       " ([u'Karina Spalla'], {0.0: 12, 1.0: 5}),\n",
       " ([u'Sole Martinez'], {0.0: 9, 1.0: 4}),\n",
       " ([u'Oscar Moscariello'], {0.0: 21, 1.0: 4}),\n",
       " ([u'Fran Quintana'], {0.0: 14, 1.0: 4}),\n",
       " ([u'Fernando de Andreis'], {0.0: 8, 1.0: 4})]"
      ]
     },
     "execution_count": 29,
     "metadata": {},
     "output_type": "execute_result"
    }
   ],
   "source": [
    "details_new[:20]"
   ]
  },
  {
   "cell_type": "code",
   "execution_count": 30,
   "metadata": {
    "collapsed": false
   },
   "outputs": [
    {
     "data": {
      "text/plain": [
       "defaultdict(float, {0: 2.0, 1: 444.0})"
      ]
     },
     "execution_count": 30,
     "metadata": {},
     "output_type": "execute_result"
    }
   ],
   "source": [
    "miss_clf_counts_new"
   ]
  },
  {
   "cell_type": "code",
   "execution_count": 31,
   "metadata": {
    "collapsed": true
   },
   "outputs": [],
   "source": [
    "max_recall_old = 1 - miss_clf_counts[1]*1.0/sum(y_train)\n",
    "max_recall_new = 1 - miss_clf_counts_new[1]*1.0/sum(y_train)"
   ]
  },
  {
   "cell_type": "code",
   "execution_count": 32,
   "metadata": {
    "collapsed": false
   },
   "outputs": [
    {
     "data": {
      "text/plain": [
       "0.62509865824782951"
      ]
     },
     "execution_count": 32,
     "metadata": {},
     "output_type": "execute_result"
    }
   ],
   "source": [
    "max_recall_old"
   ]
  },
  {
   "cell_type": "code",
   "execution_count": 33,
   "metadata": {
    "collapsed": false
   },
   "outputs": [
    {
     "data": {
      "text/plain": [
       "0.64956590370955014"
      ]
     },
     "execution_count": 33,
     "metadata": {},
     "output_type": "execute_result"
    }
   ],
   "source": [
    "max_recall_new"
   ]
  },
  {
   "cell_type": "markdown",
   "metadata": {},
   "source": [
    "Pareciera haber un $35\\%$ de *falsos negativos* irrecuperables. Es decir, tweets que sólo han sido (re)tweeteados por el usuario central, y que no es posible desambiguar agregando otros usuarios a las features."
   ]
  },
  {
   "cell_type": "code",
   "execution_count": 34,
   "metadata": {
    "collapsed": false
   },
   "outputs": [
    {
     "data": {
      "text/plain": [
       "80434"
      ]
     },
     "execution_count": 34,
     "metadata": {},
     "output_type": "execute_result"
    }
   ],
   "source": [
    "len(tweets)"
   ]
  },
  {
   "cell_type": "code",
   "execution_count": 35,
   "metadata": {
    "collapsed": false
   },
   "outputs": [],
   "source": [
    "own_tweets = [t for t in tweets if t.author_id == user.id]"
   ]
  },
  {
   "cell_type": "code",
   "execution_count": 36,
   "metadata": {
    "collapsed": false
   },
   "outputs": [],
   "source": [
    "pos_twids = [t for i, t in enumerate(tweets) if y_train[i]]"
   ]
  },
  {
   "cell_type": "code",
   "execution_count": 112,
   "metadata": {
    "collapsed": false
   },
   "outputs": [
    {
     "data": {
      "text/plain": [
       "1393"
      ]
     },
     "execution_count": 112,
     "metadata": {},
     "output_type": "execute_result"
    }
   ],
   "source": [
    "len(pos_twids)"
   ]
  },
  {
   "cell_type": "code",
   "execution_count": 115,
   "metadata": {
    "collapsed": false
   },
   "outputs": [],
   "source": [
    "lonely_tweets_and_rts = [t for t in pos_twids if t.retweet_count<=1]"
   ]
  },
  {
   "cell_type": "code",
   "execution_count": 116,
   "metadata": {
    "collapsed": false
   },
   "outputs": [
    {
     "data": {
      "text/plain": [
       "277"
      ]
     },
     "execution_count": 116,
     "metadata": {},
     "output_type": "execute_result"
    }
   ],
   "source": [
    "len(lonely_tweets_and_rts)"
   ]
  },
  {
   "cell_type": "code",
   "execution_count": 120,
   "metadata": {
    "collapsed": true
   },
   "outputs": [],
   "source": [
    "lonely_own_tweets = [t for t in lonely_tweets_and_rts if t.author_id == user.id]"
   ]
  },
  {
   "cell_type": "code",
   "execution_count": 121,
   "metadata": {
    "collapsed": false
   },
   "outputs": [
    {
     "data": {
      "text/plain": [
       "59"
      ]
     },
     "execution_count": 121,
     "metadata": {},
     "output_type": "execute_result"
    }
   ],
   "source": [
    "len(lonely_own_tweets)"
   ]
  },
  {
   "cell_type": "code",
   "execution_count": 122,
   "metadata": {
    "collapsed": false
   },
   "outputs": [
    {
     "data": {
      "text/plain": [
       "60"
      ]
     },
     "execution_count": 122,
     "metadata": {},
     "output_type": "execute_result"
    }
   ],
   "source": [
    "len(own_tweets)"
   ]
  },
  {
   "cell_type": "markdown",
   "metadata": {},
   "source": [
    "Parece que no es muy retweeteado este usuario..."
   ]
  },
  {
   "cell_type": "code",
   "execution_count": 125,
   "metadata": {
    "collapsed": true
   },
   "outputs": [],
   "source": [
    "lonely_rts = [t for t in lonely_tweets_and_rts if [u.id for u in t.users_retweeted] == [user.id]]"
   ]
  },
  {
   "cell_type": "code",
   "execution_count": 126,
   "metadata": {
    "collapsed": false
   },
   "outputs": [
    {
     "data": {
      "text/plain": [
       "218"
      ]
     },
     "execution_count": 126,
     "metadata": {},
     "output_type": "execute_result"
    }
   ],
   "source": [
    "len(lonely_rts)"
   ]
  },
  {
   "cell_type": "code",
   "execution_count": 117,
   "metadata": {
    "collapsed": false
   },
   "outputs": [
    {
     "data": {
      "text/plain": [
       "0.19885139985642497"
      ]
     },
     "execution_count": 117,
     "metadata": {},
     "output_type": "execute_result"
    }
   ],
   "source": [
    "277.0 / 1393"
   ]
  },
  {
   "cell_type": "markdown",
   "metadata": {},
   "source": [
    "(re)tweets solitarios sólo cubren el $20\\%$ de los *true positives*. Asumimos que el restante $13\\%$ tiene retweeters fuera de nuestro grafo de muestra."
   ]
  },
  {
   "cell_type": "markdown",
   "metadata": {},
   "source": [
    "Inspeccionemos a qué se deben tantos (re)tweets solitarios"
   ]
  },
  {
   "cell_type": "code",
   "execution_count": 119,
   "metadata": {
    "collapsed": false
   },
   "outputs": [
    {
     "data": {
      "text/plain": [
       "[(False, u'FELIZ D\\xcdA MAESTROS!! http://t.co/iZOjHCoAEu'),\n",
       " (False,\n",
       "  u'El s\\xe1bado comienza junto a Daniel Pedercini en #Retratos / De 6h a 8h en vivo por http://t.co/Gwdarvi6oR http://t.co/JgkdSLuy0y'),\n",
       " (False,\n",
       "  u'Fernando del Priore te acompa\\xf1a de 3 a 6 h con @Tangosmadrugada / Entrevistas, efem\\xe9rides, tangos y noticias por http://t.co/Sp1K6FWOOR'),\n",
       " (False,\n",
       "  u'\\xbfCual es tu programa favorito de nuestro canal? Contestanos con el # del programa'),\n",
       " (False, u'En Balcarce hay tazas de Rada Tilly :) http://t.co/cPtzPAcs5J'),\n",
       " (False,\n",
       "  u'El cantor @brianchambouley en #TangoBA \"Pero hay una melena\" en vivo desde @el25demayoBA http://t.co/9zxeIdF3P3 http://t.co/p7g5V9KJ9f'),\n",
       " (False,\n",
       "  u'El Quinteto de N\\xe9stor Marconi en #TangoBA / \"Para el recorrido\" en vivo desde @el25demayoBA http://t.co/HRnzz1j8nZ http://t.co/yWnX21ODJr'),\n",
       " (False,\n",
       "  u'Feliz cumple al mega genio del universo @matti_quintana \\U0001f388'),\n",
       " (False,\n",
       "  u'M\\xc1S DE 20000 PERSONAS VAN A EMPEZAR A VIAJAR MEJOR. \\n\\nYa est\\xe1 funcionando la nueva terminal de combis Puerto... http://t.co/PrTPp1R7kc'),\n",
       " (True,\n",
       "  u'Contributed Tweets for @LeanDeyuanini are delivered by @RoundTeam https://t.co/dmW0Htyn1N'),\n",
       " (False,\n",
       "  u'Esta cuenta dsd luego banca a Corbacho. La justificaci\\xf3n mono causal de las cosas demuestra la falta de visi\\xf3n de los K'),\n",
       " (False,\n",
       "  u'La naturaleza no necesita a los humanos. Los humanos necesitan a la naturaleza #EfectoMariposa Hoy 20:30 @vascoverde http://t.co/dOhkcl7HKC'),\n",
       " (True,\n",
       "  u\".@QueerHistoryQDM: Hey there! Thank you so much for following! If you'd like to learn more about queer history visit: http://t.co/gLvWxXiYJg\"),\n",
       " (False, u'Paciencia solo eso'),\n",
       " (True,\n",
       "  u'.@VilchesAyuda: Gracias por seguirnos \\U0001f61c Te recomendamos seguir a \\u2712 @JorgeVilchesV y @vilcheschile \\U0001f60d Gracias \\u26a1'),\n",
       " (False,\n",
       "  u'.@damianglanz te sirve el desayuno de la informaci\\xf3n, sintoniz\\xe1 @NadieDuerme1110 x http://t.co/IFJW31kxGs http://t.co/uqbUuXEJyt'),\n",
       " (False, u'HOY GOA!!!'),\n",
       " (False,\n",
       "  u'En el barrio #LosAlamos en #Quilmes  junto a @YoSoyMartiniano http://t.co/04KEQEqGqE'),\n",
       " (False,\n",
       "  u'4:16, Quiero ir a clavarme una fugazzata rellena de kentuky y a dormir. #Abuela'),\n",
       " (False,\n",
       "  u'El martes 8 de septiembre, a las 19.30 hs.\\n\\nNos visita la poeta espa\\xf1ola residente en Barcelona, Concha Garc\\xeda.... http://t.co/3KiqCefGg5'),\n",
       " (False,\n",
       "  u'AIRE para @NadieDuerme1110 con @damianglanz, la informaci\\xf3n empieza ac\\xe1 http://t.co/IFJW31kxGs'),\n",
       " (False,\n",
       "  u'[RECORDATORIO] Hoy el Planetario se encuentra cerrado. Los esperamos a partir del Martes con nuestra programaci\\xf3n habitual.'),\n",
       " (True,\n",
       "  u'Contributed Tweets for @LeanDeyuanini are delivered by @RoundTeam https://t.co/dmW0Htyn1N'),\n",
       " (False,\n",
       "  u'\"Puccio: #HistoriaDeUnClan\", los guionistas Mart\\xedn M\\xe9ndez y @vandecouterJA   estuvieron en #HaceteDeOliva, \\xa1mir\\xe1! https://t.co/UPvU69zssZ'),\n",
       " (False,\n",
       "  u'En #DesdeElAlma disfrutamos de la m\\xfasica de Alfredo de Angelis y la voz de @MariaGranaTango http://t.co/Sp1K6FFdXj http://t.co/sBmAceGkD0'),\n",
       " (False,\n",
       "  u'En el Museo tenemos obras del imaginero juje\\xf1o Hermog\\xe9nes Cayo\\nhttps://t.co/9iZpY8cVUl http://t.co/W5h2fGXEos'),\n",
       " (True, u'Besis @PatoBullrich @lauritalonso @silmajdalani'),\n",
       " (False,\n",
       "  u'De 3 a 6 h Fernando del Priore conduce #TangosEnLaMadrugada @Tangosmadrugada / En vivo por http://t.co/Sp1K6FWOOR http://t.co/T778oEeksJ'),\n",
       " (False,\n",
       "  u'Si est\\xe1s planificando un viaje a BA, entr\\xe1 a la web de @turismobue y no te pierdas de nada: http://t.co/9olCId0X8V'),\n",
       " (False, u'Volviendo a la Patria en unas 35hs estoy en casa'),\n",
       " (False,\n",
       "  u'\\xa1No te olvides! Show en vivo y gratis de @HeartlessARG e #Inmerso. Desde las 20:30h en @ClubVBar (Av. Corrientes 5008). Te invita #BxB'),\n",
       " (False, u'Esta tarde tango en el Museo http://t.co/CDcLzEVTq0'),\n",
       " (False,\n",
       "  u'Hablar y escupir sin querer son situaciones de la vida de las que no nunca se vuelven.'),\n",
       " (False, u'#BastaDe BACHATA'),\n",
       " (False,\n",
       "  u'Eso si q es el \"cambio\" porque son \"distintos\" y parte de la \"nueva pol\\xedtica\" https://t.co/vnYCofuXgW'),\n",
       " (True,\n",
       "  u'Contributed Tweets for @LeanDeyuanini are delivered by @RoundTeam https://t.co/dmW0Htyn1N'),\n",
       " (False,\n",
       "  u'Y sumo a la lista de an\\xe9cdotas la vez que dejamos la llave adentro del auto.'),\n",
       " (True,\n",
       "  u'Estaria bueno que en la provincia de Santa Cruz se cambiara el nombre de esa calle @PatoBullrich @lauritalonso @silmajdalani'),\n",
       " (True,\n",
       "  u'Contributed Tweets for @LeanDeyuanini are delivered by @RoundTeam https://t.co/dmW0Htyn1N'),\n",
       " (False,\n",
       "  u'Segu\\xed volando con @MoskitaMuertaOk @nildasarli hasta las 22h te acompa\\xf1an en #PorSiLasMoscas con toda la tv'),\n",
       " (False,\n",
       "  u'Reclamos por sem\\xe1foros se reciben en @bamovilidad o llamando al 147 #Tr\\xe1nsito'),\n",
       " (False,\n",
       "  u'AUDIO @LasSciammarella en vivo en #AyerHoyEraMa\\xf1ana @ahem927 @acasak \"Chinonga\" http://t.co/hgElEvsYt4 http://t.co/RVQ7VNyhTD'),\n",
       " (True, u'Se estudia. @ Barrio Norte, Buenos Aires https://t.co/vwIEAyZ6Lg'),\n",
       " (False, u'Fascendini entreg\\xf3 aportes en Esperanza http://t.co/bIQCHJ6p2G'),\n",
       " (False, u'I posted a new photo to Facebook http://t.co/sGcmRLLqjC'),\n",
       " (False,\n",
       "  u'Di\\xe1logo, mon\\xf3logo y pol\\xe9mica en #LosPalabristas con @epeicovich  hasta las 0h x http://t.co/IFJW31kxGs'),\n",
       " (True,\n",
       "  u'Contributed Tweets for @LeanDeyuanini are delivered by @RoundTeam https://t.co/dmW0Htyn1N'),\n",
       " (True,\n",
       "  u'Contributed Tweets for @LeanDeyuanini are delivered by @RoundTeam https://t.co/dmW0Htyn1N'),\n",
       " (False, u'You are very groso https://t.co/Gvz5qyFSDg'),\n",
       " (False,\n",
       "  u'Fernando del Priore conduce @Tangosmadrugada / Escuchalo de 3 a 6 h en vivo por http://t.co/Sp1K6FWOOR http://t.co/HV5Dza19q0'),\n",
       " (False,\n",
       "  u'Si te gusta el Canal de la Ciudad tambi\\xe9n pod\\xe9s seguirnos en Facebook: http://t.co/H3RYvYFeU4'),\n",
       " (False,\n",
       "  u'En nuestro canal Goear pod\\xe9s escuchar entrevistas a grandes hist\\xf3ricos del tango: http://t.co/3mS8dX1Ndx http://t.co/ObsLJIpfxb'),\n",
       " (False,\n",
       "  u'BOCA SOCIAL ACOMPA\\xd1\\xd3 A CAEC EN LA PAMPA\\n\\nUn grupo de j\\xf3venes viaj\\xf3 a La Pampa para demostrar las capacidades de... http://t.co/9UxuTht0ku'),\n",
       " (False,\n",
       "  u'Ya empiezan El Becerro de Oro, Una Constante y Todos Contentos en la Ciudad Cultural Konex! #FestivalBienal'),\n",
       " (False,\n",
       "  u'Ahora @luistarantino en #ElArranque habla con Facundo L\\xe1zzari de la Orquesta @LaJuanDarienzo / Hasta las 12 h por http://t.co/Sp1K6FFdXj'),\n",
       " (True,\n",
       "  u'Contributed Tweets for @LeanDeyuanini are delivered by @RoundTeam https://t.co/dmW0Htyn1N'),\n",
       " (True,\n",
       "  u'Contributed Tweets for @LeanDeyuanini are delivered by @RoundTeam https://t.co/dmW0Htyn1N'),\n",
       " (False,\n",
       "  u'Descarg\\xe1 la app #BAmedios en http://t.co/etFFzIaCqh y escuch\\xe1 a @sergiodanish en @11dememoria http://t.co/xduvkbxoDi'),\n",
       " (True,\n",
       "  u'Contributed Tweets for @LeanDeyuanini are delivered by @RoundTeam https://t.co/dmW0Htyn1N'),\n",
       " (False,\n",
       "  u'\\xbfCu\\xe1l es el lugar m\\xe1s sucio de un avi\\xf3n? Escuch\\xe1 a @ValeriaRoman en @ArribaJuan1110 x http://t.co/nhNqAcJfe0'),\n",
       " (False,\n",
       "  u'Nota de @dnmarcos para comprender el Momento Chino y el camino que transita el Gigante Asi\\xe1tico cc. @ACCACh  https://t.co/8JruyGDcBv'),\n",
       " (False, u'Cuando no sabes como seguir'),\n",
       " (False,\n",
       "  u'La agenda del d\\xeda. #Bruselas #FAES #WMCES http://t.co/zRzhdv3h0m'),\n",
       " (False,\n",
       "  u'Taller de cer\\xe1mica para ni\\xf1os. Empieza el 9 de septiembre. Vacantes limitadas, abierta la inscripci\\xf3n. http://t.co/J9k4WZCCSn'),\n",
       " (False,\n",
       "  u'Fernando del Priore te acompa\\xf1a de 3 a 6 h con @Tangosmadrugada / Entrevistas, efem\\xe9rides, tangos y noticias por http://t.co/Sp1K6FWOOR'),\n",
       " (True,\n",
       "  u'Contributed Tweets for @LeanDeyuanini are delivered by @RoundTeam https://t.co/dmW0Htyn1N'),\n",
       " (False, u'Incre\\xedble el r\\xedo azul de Amazonas'),\n",
       " (False,\n",
       "  u'Espero que @juvinformada se invite unas medialunas del patio central cuando venga a fadu... Ejem ejem'),\n",
       " (False,\n",
       "  u'#yoTeVuelvoAElegir junto a @ramonjmestre y @felolabaque http://t.co/HTWQaW7EdM'),\n",
       " (True,\n",
       "  u'Contributed Tweets for @LeanDeyuanini are delivered by @RoundTeam https://t.co/dmW0Htyn1N'),\n",
       " (False, u'#BuenD\\xeda ultimo d\\xeda de agosto!! \\U0001f60a'),\n",
       " (False,\n",
       "  u'En la madrugada del lunes, @DinaEmed y #PielDeTango, un recreo para el alma / De 1 a 3 h por http://t.co/Sp1K6FWOOR http://t.co/9cKoNYeJGq'),\n",
       " (False,\n",
       "  u'HOY en #ELPUENTE el Dr Marcelo Miragaya sobre t\\xe9cnicas de reproducci\\xf3n equina con @rodriguezcarina @aleshammah http://t.co/483a85Xo6h'),\n",
       " (False, u'espadas o picas @LuisElLibrero?? :p'),\n",
       " (True,\n",
       "  u'Contributed Tweets for @LeanDeyuanini are delivered by @RoundTeam https://t.co/dmW0Htyn1N'),\n",
       " (False, u'Primero http://t.co/NoHyf4vrNX'),\n",
       " (True,\n",
       "  u'Contributed Tweets for @LeanDeyuanini are delivered by @RoundTeam https://t.co/dmW0Htyn1N'),\n",
       " (False,\n",
       "  u'AIRE para @NadieDuerme1110 con @damianglanz, la informaci\\xf3n empieza ac\\xe1 http://t.co/IFJW31kxGs'),\n",
       " (False,\n",
       "  u'17/09 Vuelve InnovatiBA a la Ciudad http://t.co/cvvjLenG1O http://t.co/07KARtrENR'),\n",
       " (False,\n",
       "  u'No te olvides, el 6 de octubre llega la 1ra Jornada de Bibliotecas de Museos de Buenos Aires. \\nhttp://t.co/ETvteTCzMP'),\n",
       " (True,\n",
       "  u'Contributed Tweets for @LeanDeyuanini are delivered by @RoundTeam https://t.co/dmW0Htyn1N'),\n",
       " (True,\n",
       "  u'Contributed Tweets for @LeanDeyuanini are delivered by @RoundTeam https://t.co/dmW0Htyn1N'),\n",
       " (False,\n",
       "  u'Cierra El Descueve su participaci\\xf3n en el #FestivalBienal desde la sala B de @CCKonex, diferentes caras pero siempre la misma genialidad.'),\n",
       " (False,\n",
       "  u'#Premetro | Las formaciones no se detienen en la estaci\\xf3n Nuestra Se\\xf1ora de F\\xe1tima.'),\n",
       " (False,\n",
       "  u'Reclamos por sem\\xe1foros se reciben en @bamovilidad o llamando al 147.#Tr\\xe1nsito'),\n",
       " (False,\n",
       "  u'Escuch\\xe1 a Ignacio Varchausky en #AyerHoyEraMa\\xf1ana desde tu celular o tablet! Baj\\xe1 la APP http://t.co/rlTIueTzZI http://t.co/XPX4UQuHkS'),\n",
       " (False,\n",
       "  u'.@damianglanz te sirve el desayuno de la informaci\\xf3n, sintoniz\\xe1 @NadieDuerme1110 x http://t.co/IFJW31kxGs http://t.co/8wjSy6f1Uk'),\n",
       " (False, u'http://t.co/K7ASWzB8m6 http://t.co/yQoJi1TDkz'),\n",
       " (False, u'No hay mal que por bien no venga.'),\n",
       " (False,\n",
       "  u'Mucho publico ya visita los gazebos de este #CelebraSudesteAsiatico en la Plaza Barrancas de Belgrano. Te esperamos! http://t.co/T6tr7e9qts'),\n",
       " (False,\n",
       "  u'Escuch\\xe1 el mejor #Tango, Patrimonio Cultural Inmaterial (UNESCO) todos los d\\xedas por http://t.co/Sp1K6FWOOR http://t.co/UvR3RGxTur'),\n",
       " (False,\n",
       "  u'Reclamos en CABA https://t.co/Ea8m09HB0c . Baches, luminarias, pedidos de sem\\xe1foros, veh\\xedculos abandonados. #Tr\\xe1nsito'),\n",
       " (False, u'Al menos no cont\\xe9 los votos de franja en derecho. \\U0001f494'),\n",
       " (False, u'http://t.co/SWH9yzLb4T'),\n",
       " (False,\n",
       "  u'Si Scioli pierde las elecciones ser\\xeda un empujoncito m\\xe1s para que Dilma caiga por la borda #Populistas\\nCc @betovaldez http://t.co/UAYQ2a0w8l'),\n",
       " (False, u'Visita al Parlamento Europeo https://t.co/UImbUm4RzQ'),\n",
       " (False,\n",
       "  u'Escuchamos los mejores tangos  en #LaRosaQueEngalana con Enrique Espina Rawson / En vivo por http://t.co/Sp1K6FWOOR'),\n",
       " (False,\n",
       "  u'Seguimos en #EfectoCol\\xf3n segu\\xed disfrut\\xe1ndo la selecci\\xf3n de conciertos en el aire x http://t.co/0JtwZmogT6'),\n",
       " (False,\n",
       "  u'Anselmo Marini, conductor de #DesdeElAlma @DsdElAlma y su inicio como locutor. VIDEO http://t.co/NeVnnVcK9F'),\n",
       " (False,\n",
       "  u'Google Drive dejar\\xe1 de alojar sitios webs simples http://t.co/Efrvu6YwQK'),\n",
       " (False,\n",
       "  u'\\xa1No tiene desperdicio! Mano a mano Scioli - Longobardi (1998) #Menemismo #Kirchnerismo #TodoLoMismo Cc @OrwellGeorge https://t.co/THdkjzIEIS'),\n",
       " (True,\n",
       "  u'Contributed Tweets for @LeanDeyuanini are delivered by @RoundTeam https://t.co/dmW0HtPXTl'),\n",
       " (False, u'Bien @teoaguer! Va la entrada por DM!'),\n",
       " (False,\n",
       "  u'Veni al Parque Centenario!! Te estamos esperando para pasar un d\\xeda a puro deporte!! #capitaldeldeporteurbano http://t.co/N7J10bsXSj'),\n",
       " (False, u'http://t.co/aQHJPHD6ik'),\n",
       " (False, u'Me aburro hagamos alg\\xfan cambio...'),\n",
       " (False,\n",
       "  u'Me acabo de dar cuenta que Mark Ronson y Bruno Mars son personas distintas.'),\n",
       " (False,\n",
       "  u'#NoTodoEst\\xe1Perdido archivo recuperado por @TangoVia_BA / El sexteto de Carlos Di Sarli hace \"A\\xf1or\\xe1ndote\" http://t.co/Dtjxr3XbzE'),\n",
       " (False,\n",
       "  u'AIRE \\xa1Arranca #TardesB\\xe1rbaras! Disfrut\\xe1 de una buena tarde junto a @carmelabarbaro por http://t.co/nhNqAcJfe0 http://t.co/t2CbobV4H7'),\n",
       " (True,\n",
       "  u'Contributed Tweets for @LeanDeyuanini are delivered by @RoundTeam https://t.co/dmW0Htyn1N'),\n",
       " (False,\n",
       "  u'Es una an\\xe1lisis interesante. Pero si le metemos el crecimiento hist\\xf3rico creo q mostrar\\xeda muchas mas cosas. http://t.co/BWN7TzIQNG'),\n",
       " (False,\n",
       "  u'Lecher\\xeda: Santa Fe busca evitar una crisis hist\\xf3rica http://t.co/FfMri5ZEAh'),\n",
       " (False, u'Alg\\xfan d\\xeda...'),\n",
       " (False,\n",
       "  u'Marlon Brando se compr\\xf3 una isla en Tahiti, te lo cuenta Agrupaci\\xf3n Serrano. BRICKMAN BRANDO BUBBLE BOOM #10FIBA http://t.co/XkaPBc4wHE'),\n",
       " (False, u'Igualita! http://t.co/iwIhOYW1Jj'),\n",
       " (True,\n",
       "  u'Contributed Tweets for @LeanDeyuanini are delivered by @RoundTeam https://t.co/dmW0Htyn1N'),\n",
       " (False,\n",
       "  u'Me ha gustado un v\\xeddeo de @YouTube (http://t.co/dkop90SA4i - Enrique Iglesias - Bailando (Espa\\xf1ol) ft. Descemer Bueno, Gente De'),\n",
       " (False, u'#BuenDia http://t.co/hq6gFElRwg'),\n",
       " (True,\n",
       "  u'.@ALAN_MONTALVO: Gracias por seguirme. Vis\\xedtame tambi\\xe9n en  https://t.co/DzrhmpLRch Nota: si contesto MD -via @crowdfire'),\n",
       " (False,\n",
       "  u'El equipo de Patagonia se jugo con unos choris de bienvenida! #EquipoPatagonia Cc@carolourdesm @brunoli127 @lorevang http://t.co/LwuOaLZWC7'),\n",
       " (False,\n",
       "  u'\\U0001f62e (at @RomarioPizza in Buenos Aires, Ciudad de Buenos Aires) https://t.co/6WukXjGeUL'),\n",
       " (False, u'Nose que cocinar :('),\n",
       " (False,\n",
       "  u'Entramos en la recta final del #CelebraBrasil, con bombos y una fiesta interminable. http://t.co/7HTjLljUtW'),\n",
       " (False, u'Odio cuando no me entienden lo que quiero decir'),\n",
       " (False,\n",
       "  u'Uno hace el esfuerzo por ver a la selecci\\xf3n. Pero tres N 5 en la mitad de la cancha...'),\n",
       " (False,\n",
       "  u'CASTIGO Un retrato que da cuenta de los abusos enquistados en la familia #10FIBA Info http://t.co/9YmeNwVscY #Teatro http://t.co/wqwasnbcLx'),\n",
       " (False,\n",
       "  u'#Subte L\\xednea A | Reanuda su servicio y realiza el recorrido completo entre cabeceras.'),\n",
       " (False,\n",
       "  u'Las p\\xe1ginas de Facebook postean m\\xe1s enlaces que fotos, pero nada de videos. Por SocialTimes http://t.co/WEAddEo7Em http://t.co/uGELYMhfzK'),\n",
       " (False, u'MARTES 22, 18:30. ATE CASA ESPA\\xd1A http://t.co/IYI1LPz5qd'),\n",
       " (False,\n",
       "  u'#Premetro | Las formaciones no se detienen en la estaci\\xf3n Nuestra Se\\xf1ora de F\\xe1tima.'),\n",
       " (True,\n",
       "  u'Contributed Tweets for @LeanDeyuanini are delivered by @RoundTeam https://t.co/dmW0Htyn1N'),\n",
       " (False,\n",
       "  u'Que alguien les avise a los refugiados que est\\xe1n por venir a Argentina a donde est\\xe1n viniendo. Creo que lo pensar\\xedan mejor.'),\n",
       " (False,\n",
       "  u'#DatosAbiertos y F\\xfatbol: En Buenos Aires hay 105 canchas ubicadas por toda la Ciudad. \\n+ en http://t.co/pK4s2rrzQ2 http://t.co/mahwXtyuhN'),\n",
       " (False,\n",
       "  u'Se entregaron los Premio Ace, el galard\\xf3n m\\xe1s importante al teatro argentino \\xa1Enterate! https://t.co/8PHfok7p6Z #EnCasaNoMeQuedo'),\n",
       " (False,\n",
       "  u'El grupo japon\\xe9s \"Last Tango\" interpreta \"Palomita blanca\" en #AyerHoyEraMa\\xf1ana @ahem927 http://t.co/LMDR4duwiC http://t.co/LaqnQhQNvn'),\n",
       " (False, u'SE VIENE UN GRAN DUELO DE TITANES http://t.co/JkT8t7hlHY'),\n",
       " (False, u'#HOY es #SABADO de #GOA'),\n",
       " (False,\n",
       "  u'La Rep\\xfablica Argentina se tiene que ocupar de sus propios \"refugiados\". Lamentablemente no hace falta ir a Siria para ver chiquitos morir.'),\n",
       " (True,\n",
       "  u'Contributed Tweets for @LeanDeyuanini are delivered by @RoundTeam https://t.co/dmW0Htyn1N'),\n",
       " (False,\n",
       "  u'Se viene la primera obra del genio Jan Lawers en el #10FIBA #Gratis en el Anfiteatro del Parque Centenario http://t.co/ga7G74Bs8u'),\n",
       " (False,\n",
       "  u'En un ratito se viene Francisca y los Exploradores  tocando en los #Ac\\xfasticosConMojo con @jmojoli! http://t.co/Xwbl18nXFc'),\n",
       " (False,\n",
       "  u'Si quer\\xe9s volver a ver los programas del canal, buscanos en Youtube: http://t.co/cplpVTCBdz'),\n",
       " (False, u'http://t.co/1fCHChQ2G8'),\n",
       " (False, u'Que bien que hace dormir bien.'),\n",
       " (False,\n",
       "  u'La \\xfanica manera de superar los malo es multiplicando lo bueno \\n\\nEl poder para transformar y servir debe ser el... http://t.co/ZHVzcMao8k'),\n",
       " (False, u'Desayunar un Domingo 7:23AM. #SoyUnaAbuela :)'),\n",
       " (False,\n",
       "  u'\\xa1No tiene desperdicio! Mano a mano Scioli - Longobardi (1998) #Menemismo #Kirchnerismo #TodoLoMismo Cc @lauritalonso https://t.co/THdkjzIEIS'),\n",
       " (False,\n",
       "  u'Milka Mouse triple $13. Para cuando precios cuidados en los kioscos?!'),\n",
       " (True,\n",
       "  u'#mami #casa #amor @ Hoster\\xeda Brisas Marinas https://t.co/pVB6QLEUar'),\n",
       " (False,\n",
       "  u'\"Las fotos caseras no registran la vida: la interrumpen\" @birmajer'),\n",
       " (False,\n",
       "  u'\"El peso del peronismo se nota en Tucum\\xe1n\" @SantiagoDapelo en @ArribaJuan1110 x http://t.co/nhNqAcJfe0'),\n",
       " (False,\n",
       "  u'Gracias @MauricioMaronna y @ENPROFUNDIDAD por la entrevista http://t.co/cbolfWWjfj'),\n",
       " (False,\n",
       "  u'1\\xb0 panel en la #PrimeraJornadadeColectividades sobre realidades, desaf\\xedos y posibilidades del mosaico de identidades. http://t.co/W7TOWXJtpO'),\n",
       " (True,\n",
       "  u'Contributed Tweets for @LeanDeyuanini are delivered by @RoundTeam https://t.co/dmW0Htyn1N'),\n",
       " (False,\n",
       "  u'Una de cal y una de arena.\\nMientras se suced\\xedan los lamentables hechos en Tucum\\xe1n, aqu\\xed nos junt\\xe1bamos con... http://t.co/FEs6PycjK6'),\n",
       " (False,\n",
       "  u'\\xa1Feliz d\\xeda Internacional de la Paz! \\n\\nEsta ma\\xf1ana representando a Boca Social y en car\\xe1cter de embajador de la... http://t.co/7zHnMpF9HY'),\n",
       " (True,\n",
       "  u'Papi me cuida. #SoyPanchitaLove @ Barrio Norte, Buenos Aires https://t.co/V91l63AECa'),\n",
       " (False,\n",
       "  u'Mitre opera alevosamente para Scioli. Le da manija a Massa constantemente para dividir oposici\\xf3n. @OrwellGeorge  https://t.co/UIyklgPETu'),\n",
       " (False,\n",
       "  u'AUDIO @LasSciammarella en vivo en #AyerHoyEraMa\\xf1ana @ahem927 @acasak \"Chinonga\" http://t.co/hgElEvsYt4 http://t.co/yU0OVD6hwV'),\n",
       " (False, u'Feliz cumplea\\xf1os @AlejRozitchner !'),\n",
       " (False,\n",
       "  u'Excelente an\\xe1lisis: http://t.co/5pozgYKcKe @Fontevecchia en una clara postura apartidaria'),\n",
       " (False,\n",
       "  u'El #Cami\\xf3nBienal lleg\\xf3 al Parque Centenario. \\xa1Si est\\xe1s por ah\\xed te esperamos! #FestivalBienal http://t.co/l7B6t0ejHr'),\n",
       " (False, u'Alta floresta! http://t.co/2hCPoPHWGw'),\n",
       " (False,\n",
       "  u\"I'm at Iglesia Cristiana B\\xedblica in Mar del Plata, Buenos Aires https://t.co/suulXJGQuI\"),\n",
       " (True,\n",
       "  u'Contributed Tweets for @LeanDeyuanini are delivered by @RoundTeam https://t.co/dmW0Htyn1N'),\n",
       " (False,\n",
       "  u'\\xa1En el aire! #AyerHoyEraMa\\xf1ana @ahem927 con @acasak e Ignacio Varchausky. En vivo hasta la 1 h http://t.co/Sp1K6FWOOR http://t.co/TbEHbKeibj'),\n",
       " (False,\n",
       "  u'Reclamos por sem\\xe1foros se reciben en @bamovilidad o llamando al 147. #Tr\\xe1nsito'),\n",
       " (False,\n",
       "  u'MAURICIO MACRI SE COMPROMETI\\xd3 A FINALIZAR LAS OBRAS PARA CONVERTIR EN AUTOV\\xcdA A LAS RUTAS 5, 7 Y 8.... http://t.co/29mMc2Xyzy'),\n",
       " (True,\n",
       "  u'Contributed Tweets for @LeanDeyuanini are delivered by @RoundTeam https://t.co/dmW0Htyn1N'),\n",
       " (False,\n",
       "  u'.@damianglanz te sirve el desayuno de la informaci\\xf3n, sintoniz\\xe1 @NadieDuerme1110 x http://t.co/IFJW31kxGs http://t.co/AZY9zxmfSn'),\n",
       " (True,\n",
       "  u'Contributed Tweets for @LeanDeyuanini are delivered by @RoundTeam https://t.co/dmW0Htyn1N'),\n",
       " (False,\n",
       "  u'\\xa1SORTEO #Multiplayer! Particip\\xe1 por premios geniales en nuestro Facebook &gt; http://t.co/9fHV6GcJkL  @Marianopowerup http://t.co/OshCnFNEiM'),\n",
       " (False, u\"I'm at General Madariaga in Buenos Aires https://t.co/9LNRWQMhgg\"),\n",
       " (False, u'http://t.co/6GbCP8nNEa'),\n",
       " (False, u'La esperanza es lo \\xfaltimo que se pierde.'),\n",
       " (False,\n",
       "  u'Escuch\\xe1 a @IgnacioRiverol en #BuenasRazones / Tangos y las noticias principales / De 6 a 7 h x http://t.co/Sp1K6FWOOR http://t.co/mqxXGq5ajP'),\n",
       " (False,\n",
       "  u'\"En la ciudad tanto como en la m\\xfasica y el arte lo que nos falta es ELEGANCIA\" @osvaldobazan con @carlosaresok x http://t.co/IFJW312WOU'),\n",
       " (False,\n",
       "  u'Buen lunes! Escuchamos a @gusmura y @betovaldez en #ManoAMano / En vivo por http://t.co/Sp1K6FWOOR hasta las 9 h. http://t.co/zwmp8WXkoR'),\n",
       " (False,\n",
       "  u'Tango en la calle, #Tango en la esquina, tango en el bar. Escuch\\xe1 la radio las 24h en vivo por http://t.co/Gwdarvi6oR http://t.co/QD2Ir9mBQS'),\n",
       " (True,\n",
       "  u'Contributed Tweets for @LeanDeyuanini are delivered by @RoundTeam https://t.co/dmW0Htyn1N'),\n",
       " (True,\n",
       "  u'Contributed Tweets for @LeanDeyuanini are delivered by @RoundTeam https://t.co/dmW0Htyn1N'),\n",
       " (False,\n",
       "  u'Visit\\xe1 la muestra del ilustrador Ramiro Garc\\xeda Gonzalez durante todo el mes de septiembre en la #CasaDeBA #Rosario. http://t.co/8vf6buCXI7'),\n",
       " (False,\n",
       "  u\"I'm at Pizzeria T\\xedo Felipe in Capital Federal, Buenos Aires https://t.co/zmvhTwvRgd\"),\n",
       " (False,\n",
       "  u'Descarg\\xe1 GRATIS la app BA Medios en http://t.co/TQAl5cAxBz y escuch\\xe1 a @vascoverde desde tu dispositivo m\\xf3vil http://t.co/Ebvtb7T7Vs'),\n",
       " (True,\n",
       "  u'Contributed Tweets for @LeanDeyuanini are delivered by @RoundTeam https://t.co/dmW0Htyn1N'),\n",
       " (False,\n",
       "  u'Descarg\\xe1 la APP http://t.co/rlTIueTzZI  y escuch\\xe1 Pugliese Pugliese Pugliese! tambi\\xe9n desde tu celular o tablet! http://t.co/xz9CVa1GYv'),\n",
       " (False,\n",
       "  u'Escuch\\xe1 a @IgnacioRiverol en #BuenasRazones / Tangos y la info m\\xe1s importante en el comienzo del d\\xeda / De 6 a 7 h por http://t.co/Sp1K6FWOOR'),\n",
       " (True,\n",
       "  u'Contributed Tweets for @LeanDeyuanini are delivered by @RoundTeam https://t.co/dmW0Htyn1N'),\n",
       " (False,\n",
       "  u'He publicado 10 fotos en Facebook en el \\xe1lbum \"Programaci\\xf3n de SEPTIEMBRE de 2015\". http://t.co/Al9wbMddux'),\n",
       " (False,\n",
       "  u'Escuchamos #BuenasRazones hasta las 7 h con @IgnacioRiverol /Tangos y las noticias principales en el comienzo del d\\xeda http://t.co/Sp1K6FWOOR'),\n",
       " (True,\n",
       "  u'Contributed Tweets for @LeanDeyuanini are delivered by @RoundTeam https://t.co/dmW0Htyn1N'),\n",
       " (False,\n",
       "  u\"I'm at Bartola Corner in Capital Federal, Buenos Aires https://t.co/lFfdsSe8ld\"),\n",
       " (True,\n",
       "  u'Contributed Tweets for @LeanDeyuanini are delivered by @RoundTeam https://t.co/dmW0Htyn1N'),\n",
       " (True,\n",
       "  u'Contributed Tweets for @LeanDeyuanini are delivered by @RoundTeam https://t.co/dmW0Htyn1N'),\n",
       " (False,\n",
       "  u'En pleno baile en \"El Casamiento de Anita y Mirko\" del @ccbarracas, hoy festejamos el #DiaDeBarracas #CelebraBarracas http://t.co/WZqmIhzJrq'),\n",
       " (True,\n",
       "  u'Contributed Tweets for @LeanDeyuanini are delivered by @RoundTeam https://t.co/dmW0Htyn1N'),\n",
       " (False,\n",
       "  u'Una peli de John Cassavetes pero en versi\\xf3n teatral de la cia. m\\xe1s grande de Holanda OPENING NIGHT en el #10FIBA http://t.co/7veATx0PMv'),\n",
       " (True,\n",
       "  u'@MAJOPUEBLO @KINGdalecio de mi Twitter se encarga un programita.  Besos  a todos muas!'),\n",
       " (False,\n",
       "  u'\\xa1Buenos d\\xedas! Ya se palpita el fin de semana y para empezar a disfrutar desde hoy los invitamos esta tarde al... http://t.co/FkfFSp0vXJ'),\n",
       " (False,\n",
       "  u'La @o_elarranque toca en vivo \"Tema oto\\xf1al\" en #AyerHoyEraMa\\xf1ana @ahem927 @acasak http://t.co/cwngYjhCBU AUDIO'),\n",
       " (False,\n",
       "  u'El Quinteto de N\\xe9stor Marconi en #TangoBA /\"El d\\xeda que me quieras\" en vivo desde @el25demayoBA http://t.co/fYjP0zCLOr http://t.co/wwGXOiuSK1'),\n",
       " (True,\n",
       "  u'Contributed Tweets for @LeanDeyuanini are delivered by @RoundTeam https://t.co/dmW0Htyn1N'),\n",
       " (True,\n",
       "  u'Contributed Tweets for @LeanDeyuanini are delivered by @RoundTeam https://t.co/dmW0Htyn1N'),\n",
       " (True,\n",
       "  u'Contributed Tweets for @LeanDeyuanini are delivered by @RoundTeam https://t.co/dmW0Htyn1N'),\n",
       " (False,\n",
       "  u'Incre\\xedbles las recetas de Mishiguene resto judio de Lafinur y Segu\\xed. Berenjenas y queso de cabra; carac\\xfa en tostadas. Chef Tomas Kalika'),\n",
       " (False,\n",
       "  u'Descarg\\xe1 la APP http://t.co/rlTIueTzZI y escuch\\xe1 Pugliese Pugliese Pugliese tambi\\xe9n desde tu celular o tablet! http://t.co/h736KD0FsP'),\n",
       " (False,\n",
       "  u'\\xbfQu\\xe9 har\\xedamos sin los que viven para ense\\xf1ar? Gracias por su esfuerzo de todos los d\\xedas #FelizD\\xedadelMaestro http://t.co/C4Y6QrhORI'),\n",
       " (False,\n",
       "  u'Operativo e bomberos en G. de Laferrere y Pedernera, barrio de Flores. #transito'),\n",
       " (False,\n",
       "  u'Gracias a @carolourdesm tengo mis entradas para #Morrissey. #Felicidad \\U0001f3b6 http://t.co/dPCCAGwosV'),\n",
       " (False,\n",
       "  u'Seguimos con Marisa Camargo \"El dise\\xf1o textil como valor diferencial para la industria\" @FestivalTextil  @modaBA #CMD http://t.co/OLx1mJSBa6'),\n",
       " (False,\n",
       "  u'INUNDACIONES: ACUERDO POR DESCUENTOS EN LAS TASAS. http://t.co/YarwfjfVPC'),\n",
       " (False,\n",
       "  u'En un ratito se viene Francisca y los Exploradores  tocando en los #Ac\\xfasticosConMojo con @jmojoli! http://t.co/FhDHLAMrW9'),\n",
       " (False,\n",
       "  u'RECIBIMOS LA PRIVAMERA EN UPA\\n\\nUPA La Boca organiz\\xf3 un festejo anticipado del D\\xeda de la Primavera y fue un \\xe9xito.... http://t.co/nzFxLA0nsl'),\n",
       " (False, u\"I'm at Fuerza Bruta https://t.co/WLtJS48RHK\"),\n",
       " (True,\n",
       "  u'Contributed Tweets for @LeanDeyuanini are delivered by @RoundTeam https://t.co/dmW0Htyn1N'),\n",
       " (False, u'Buen dia ! Desayunando con #Nano http://t.co/LMIhv5iVvi'),\n",
       " (False,\n",
       "  u'Ahora Nicholas Haan hablando sobre el futuro de la comida en #InnovatiBA http://t.co/QkkYeF0OZt'),\n",
       " (False,\n",
       "  u'Hasta las 7 h escuchamos a @IgnacioRiverol en #BuenasRazones / Tangos y la info m\\xe1s importante en el comienzo del d\\xeda http://t.co/Sp1K6FWOOR'),\n",
       " (True,\n",
       "  u'Contributed Tweets for @LeanDeyuanini are delivered by @RoundTeam https://t.co/dmW0Htyn1N'),\n",
       " (False,\n",
       "  u'Nuestras actividades, los Celebras, info sobre nuestras \\xe1reas y mucho m\\xe1s en nuestra web. Entr\\xe1 y enterate de todo. http://t.co/HtgDgHNzUW'),\n",
       " (False,\n",
       "  u'Hasta las 7 h escuchamos a @IgnacioRiverol en #BuenasRazones / Tangos y la info m\\xe1s importante en el comienzo del d\\xeda http://t.co/Sp1K6FWOOR'),\n",
       " (False,\n",
       "  u'.@damianglanz te sirve el desayuno de la informaci\\xf3n, sintoniz\\xe1 @NadieDuerme1110 x http://t.co/IFJW31kxGs'),\n",
       " (False, u'#Tr\\xe1nsito normalizado en 9 de Julio altura Carlos Calvo.'),\n",
       " (False, u'Este domingo http://t.co/Ge2ujDlIYK'),\n",
       " (False,\n",
       "  u'#Premetro | Las formaciones no se detienen en la estaci\\xf3n Nuestra Se\\xf1ora de F\\xe1tima.'),\n",
       " (True,\n",
       "  u'Contributed Tweets for @LeanDeyuanini are delivered by @RoundTeam https://t.co/dmW0Htyn1N'),\n",
       " (True,\n",
       "  u'Ese nombre no esta d acuerdo a las pol\\xedticas q enmarco el gob nacional tras correr Colon de lugar @PatoBullrich @lauritalonso @silmajdalani'),\n",
       " (True,\n",
       "  u'Contributed Tweets for @LeanDeyuanini are delivered by @RoundTeam https://t.co/dmW0Htyn1N'),\n",
       " (False, u'Playa Repulse #HongKong https://t.co/DZGowHaw2M'),\n",
       " (True,\n",
       "  u'Contributed Tweets for @LeanDeyuanini are delivered by @RoundTeam https://t.co/dmW0Htyn1N'),\n",
       " (True,\n",
       "  u'Contributed Tweets for @LeanDeyuanini are delivered by @RoundTeam https://t.co/dmW0Htyn1N'),\n",
       " (False,\n",
       "  u'en un d\\xeda disperso como el de hoy festejo la cuarta temporada de #Scandal en @NetflixLAT ;)'),\n",
       " (False,\n",
       "  u'AHORA @carmelabarbaro entrevista a Marcos Novaro, licenciado en Sociolog\\xeda, sobre el perfil de los votantes. Por http://t.co/IFJW31kxGs'),\n",
       " (False,\n",
       "  u'Santa Fe present\\xf3 su iniciativa para palear la emergencia lechera http://t.co/qxsrD8TYVI'),\n",
       " (False,\n",
       "  u'Fernando del Priore nos presenta #TangosEnLaMadrugada @Tangosmadrugada / Escuchalo de 3 a 6 h http://t.co/Sp1K6FWOOR http://t.co/rZi2k3DSA8'),\n",
       " (True,\n",
       "  u'Contributed Tweets for @LeanDeyuanini are delivered by @RoundTeam https://t.co/dmW0Htyn1N'),\n",
       " (False,\n",
       "  u'#M\\xfasica Los grillos del Monte tocan \"Hasta Luego Chau\" en #Ac\\xfasticosConMojo https://t.co/X5ksen1dhy'),\n",
       " (False,\n",
       "  u'Los viernes de 1 a 3 h escuch\\xe1 #HistoriasEnModoMayor con Diego Fischerman / Por http://t.co/Sp1K6FWOOR'),\n",
       " (False,\n",
       "  u'Reclamos por sem\\xe1foros se reciben en  @bamovilidad o llamando al 147 #Tr\\xe1nsito'),\n",
       " (True,\n",
       "  u'Chicas, en El Calafate hay una Calle que se llama Campa\\xf1a del Desierto @PatoBullrich @lauritalonso @silmajdalani'),\n",
       " (True,\n",
       "  u'Contributed Tweets for @LeanDeyuanini are delivered by @RoundTeam https://t.co/dmW0Htyn1N'),\n",
       " (False,\n",
       "  u'Comenzamos el #CelebraPortugal con el grupo marplatense Saudades de Portugal. Estamos en Av. de Mayo hasta las 18 h http://t.co/mz3KheFOcp'),\n",
       " (False,\n",
       "  u'Hoy, a las 11, @PerdomoVero y el Dr. Jorge Rocco dan un taller acerca del cuidado de la salud, en @legiscaba. Sumate! http://t.co/O6s0WCofis'),\n",
       " (True,\n",
       "  u'Contributed Tweets for @LeanDeyuanini are delivered by @RoundTeam https://t.co/dmW0Htyn1N'),\n",
       " (False,\n",
       "  u'En el aire! #PorLaVuelta con @luisformento y gran equipo / En vivo por http://t.co/Sp1K6FWOOR hasta las 20 h http://t.co/EIKJznoTpP'),\n",
       " (False, u'http://t.co/JweBg13Y5p... http://t.co/Cz7BBjKZoL'),\n",
       " (False,\n",
       "  u'Cuando te das cuenta que quiz\\xe1s no era el momento de decir algo...'),\n",
       " (False,\n",
       "  u'No te olvides de participar \\xa1SORTEO #Multiplayer! Premios geniales &gt; http://t.co/9fHV6GcJkL   @Marianopowerup http://t.co/SeHWZKqYp2'),\n",
       " (False,\n",
       "  u'Ya sale la primera pareja de la tarde para buscar un lugar en la final Tango Escenario del #MundialDeBaile #TangoBA'),\n",
       " (True,\n",
       "  u'Contributed Tweets for @LeanDeyuanini are delivered by @RoundTeam https://t.co/dmW0Htyn1N'),\n",
       " (False,\n",
       "  u'Escuchamos los mejores tangos  en #LaRosaQueEngalana con Enrique Espina Rawson / En vivo por http://t.co/Sp1K6FWOOR'),\n",
       " (False,\n",
       "  u'Cata duerme. La hamaca y la tv me llaman. Yo trabajo! https://t.co/jmKaUXqwWz'),\n",
       " (False,\n",
       "  u'#Ahora Gabriel Nazar presidente de la @aamf_ habla en la Expo Internacional de Franquicias http://t.co/SXgngyWbpd'),\n",
       " (True,\n",
       "  u'Contributed Tweets for @LeanDeyuanini are delivered by @RoundTeam https://t.co/dmW0Htyn1N'),\n",
       " (False, u'siiiii @agusspercara, te mandamos la entrada por DM!!'),\n",
       " (False,\n",
       "  u'Anotate en el taller \"El soporte administrativo-legal del Sist. Educativo\" (acredita hs c\\xe1t.) http://t.co/9rhgn7vLXo http://t.co/RVHTVcWMuJ'),\n",
       " (False,\n",
       "  u'Bostero, nosotros no tiramos gas pimienta. No se olviden. Tampoco se olviden de que los dejamos afuera de todas las copas.'),\n",
       " (False,\n",
       "  u'S\\xe1bado de planificaci\\xf3n acad\\xe9mica. A leer papers pendientes y ver si escribimos algo.'),\n",
       " (False, u'Genio @DiegoJolo, no te reprimas!'),\n",
       " (False,\n",
       "  u'Selva Alem\\xe1n visita a @roberruti AHORA en vivo. Escuchala por http://t.co/GwdarvzHNr https://t.co/ZXG0Tkny53'),\n",
       " (False,\n",
       "  u'Llega Buenos Aires Canta. del 7 al 13 de Septiembre, un mont\\xf3n de los mejores coros de la Ciudad. Te esperamos. http://t.co/aHQKs5d6XF'),\n",
       " (False,\n",
       "  u'\\xbfC\\xf3mo iniciar un negocio en la ciudad? http://t.co/FGybh8xdlY'),\n",
       " (False,\n",
       "  u'Escuch\\xe1 a Ignacio Varchausky en #AyerHoyEraMa\\xf1ana desde tu celular o tablet! Baj\\xe1 la APP http://t.co/rlTIueTzZI http://t.co/NthOOQjuao'),\n",
       " (False,\n",
       "  u'Tengo la sensaci\\xf3n de que en Microsoft debe haber vacantes de tesyeo de productos. http://t.co/Ps1wujNNcy'),\n",
       " (False, u'La verdad que si, Muchas Gracias! @okoksoymai'),\n",
       " (False, u'Un besito para @GugaLusto  https://t.co/ZvymemDeRP'),\n",
       " (True,\n",
       "  u'Contributed Tweets for @LeanDeyuanini are delivered by @RoundTeam https://t.co/dmW0Htyn1N'),\n",
       " (False,\n",
       "  u'Escuchamos a Diego Rivarola @bandoneon1958 en #ElTangoEnElMundo / Hasta las 22h en vivo por http://t.co/Gwdarvi6oR http://t.co/7ECCDqM1h7'),\n",
       " (False, u'No creo en dios. Dios m\\xedo.'),\n",
       " (False,\n",
       "  u'#M\\xfasica En un ratito se viene #JuanMayo y Algunos meses del a\\xf1o tocando en los #Ac\\xfasticosConMojo con @jmojoli! http://t.co/wHGqjOFY6f'),\n",
       " (True,\n",
       "  u'En la FM con Nachito. @ Villa 31-31bis de retiro https://t.co/D5Ogpxln5Y'),\n",
       " (False,\n",
       "  u'#Premetro | Las formaciones no se detienen en la estaci\\xf3n Nuestra Se\\xf1ora de F\\xe1tima.'),\n",
       " (False,\n",
       "  u'La estaci\\xf3n de tren de Ciudad Universitaria fue inaugurada pero todav\\xeda no est\\xe1 en funcionamiento... porque kirchnerismo.'),\n",
       " (False,\n",
       "  u'El Tango y sus #TresSiglos de historia junto a Eduardo Parise y Ernesto Chiarante /En vivo x http://t.co/Gwdarvi6oR http://t.co/S3giRPVQzT'),\n",
       " (False,\n",
       "  u'Hoy vamos a palpitar la final en vivo de @MChefOficial con el Presiiiideeeenteeee de TW y @nildasarli x http://t.co/nhNqAcJfe0'),\n",
       " (False, u'Se anularon las elecciones de Tucum\\xe1n.'),\n",
       " (False, u'... https://t.co/mAcIvpVKGQ')]"
      ]
     },
     "execution_count": 119,
     "metadata": {},
     "output_type": "execute_result"
    }
   ],
   "source": [
    "[(t.author_id == user.id, t.text) for t in lonely_tweets_and_rts]"
   ]
  },
  {
   "cell_type": "markdown",
   "metadata": {
    "collapsed": true
   },
   "source": [
    "# Agregar autor como feature"
   ]
  },
  {
   "cell_type": "markdown",
   "metadata": {},
   "source": [
    "Veamos si agregar el id del autor de cada tweet como feature mejora la calidad."
   ]
  },
  {
   "cell_type": "code",
   "execution_count": 41,
   "metadata": {
    "collapsed": false
   },
   "outputs": [
    {
     "name": "stdout",
     "output_type": "stream",
     "text": [
      "Scores on training set.\n",
      "\n",
      "             precision    recall  f1-score   support\n",
      "\n",
      "        0.0       0.99      1.00      1.00     79167\n",
      "        1.0       0.99      0.65      0.79      1267\n",
      "\n",
      "avg / total       0.99      0.99      0.99     80434\n",
      "\n"
     ]
    }
   ],
   "source": [
    "X_train_author = X_train.copy()\n",
    "\n",
    "X_train_author['authorid'] = [t.author_id for t in tweets]\n",
    "\n",
    "clf = RandomForestClassifier()     \n",
    "clf.fit(X_train_author, y_train, sample_weight=sample_weights)\n",
    "\n",
    "y_true, y_pred = y_train, clf.predict(X_train_author)\n",
    "\n",
    "print(classification_report(y_true, y_pred))"
   ]
  },
  {
   "cell_type": "markdown",
   "metadata": {},
   "source": [
    "Mejora un $4\\%$ respecto del modelo base. Veamos ahora combinando extensión de vecinos y feature de autor."
   ]
  },
  {
   "cell_type": "code",
   "execution_count": null,
   "metadata": {
    "collapsed": true
   },
   "outputs": [],
   "source": [
    "X_train_author = X_train_extended.copy()\n",
    "X_train_author['authorid'] = [t.author_id for t in tweets]"
   ]
  },
  {
   "cell_type": "code",
   "execution_count": 49,
   "metadata": {
    "collapsed": false
   },
   "outputs": [
    {
     "name": "stdout",
     "output_type": "stream",
     "text": [
      "Scores on training set.\n",
      "\n",
      "             precision    recall  f1-score   support\n",
      "\n",
      "        0.0       0.99      1.00      1.00     79167\n",
      "        1.0       0.98      0.67      0.80      1267\n",
      "\n",
      "avg / total       0.99      0.99      0.99     80434\n",
      "\n"
     ]
    }
   ],
   "source": [
    "clf = RandomForestClassifier()     \n",
    "clf.fit(X_train_author, y_train, sample_weight=sample_weights)\n",
    "\n",
    "y_true, y_pred = y_train, clf.predict(X_train_author)\n",
    "print(classification_report(y_true, y_pred))"
   ]
  },
  {
   "cell_type": "markdown",
   "metadata": {},
   "source": [
    "Parecen ser independientes ambas mejoras, y se acumula un $5\\%$ de mejora.\n",
    "Veamos que esto no sea *overfitting* y se de en el conjunto de *test*."
   ]
  },
  {
   "cell_type": "code",
   "execution_count": 47,
   "metadata": {
    "collapsed": true
   },
   "outputs": [],
   "source": [
    "X_test_author = X_test_extended.copy()\n",
    "X_test_author['authorid'] = [t.author_id for t in test_tweets]"
   ]
  },
  {
   "cell_type": "code",
   "execution_count": 50,
   "metadata": {
    "collapsed": false
   },
   "outputs": [
    {
     "name": "stdout",
     "output_type": "stream",
     "text": [
      "Scores on training set.\n",
      "\n",
      "             precision    recall  f1-score   support\n",
      "\n",
      "        0.0       0.99      1.00      0.99     33942\n",
      "        1.0       0.64      0.57      0.60       530\n",
      "\n",
      "avg / total       0.99      0.99      0.99     34472\n",
      "\n"
     ]
    }
   ],
   "source": [
    "y_true, y_pred = y_test, clf.predict(X_test_author)\n",
    "print(classification_report(y_true, y_pred))"
   ]
  },
  {
   "cell_type": "markdown",
   "metadata": {},
   "source": [
    "Se pierde mucha calidad en el conjunto de test, estamos haciendo *overfitting*"
   ]
  }
 ],
 "metadata": {
  "kernelspec": {
   "display_name": "Python 2",
   "language": "python",
   "name": "python2"
  },
  "language_info": {
   "codemirror_mode": {
    "name": "ipython",
    "version": 2
   },
   "file_extension": ".py",
   "mimetype": "text/x-python",
   "name": "python",
   "nbconvert_exporter": "python",
   "pygments_lexer": "ipython2",
   "version": "2.7.11+"
  }
 },
 "nbformat": 4,
 "nbformat_minor": 0
}
