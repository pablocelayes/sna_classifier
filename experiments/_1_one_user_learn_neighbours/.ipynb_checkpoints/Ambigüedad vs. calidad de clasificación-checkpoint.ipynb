{
 "cells": [
  {
   "cell_type": "markdown",
   "metadata": {},
   "source": [
    "Creemos que la existencia de datos ambiguos en el training set es la causa fundamental de pérdida de calidad en los modelos predictivos para ciertos usuarios.\n",
    "\n",
    "Para ver si realmente es así, haremos lo siguiente:\n",
    "\n",
    "* Definiremos una medida de ambigüedad\n",
    "\n",
    "* Veremos si esta se correlaciona con medidas de calidad de clasificación (precision, recall, Matthews correlation, AUROC, etc.)"
   ]
  },
  {
   "cell_type": "markdown",
   "metadata": {
    "collapsed": true
   },
   "source": [
    "*idea*: si el vector $x$ aparece en el set de entrenamiento $m$ veces con $y=0$ y $n$ veces con $y=1$, asumimos que un buen clasificador le asignará a $x$ el valor más frecuente de $y$."
   ]
  },
  {
   "cell_type": "markdown",
   "metadata": {},
   "source": [
    "Conjeturamos que en general los *falsos negativos* ( causa del bajo *recall* en la clase $1$ ) provienen de ambigüedades en el *training set*. Veamos si esto se cumple en los usuarios analizados, viendo si hay correlación entre ambas cantidades. "
   ]
  },
  {
   "cell_type": "code",
   "execution_count": 31,
   "metadata": {
    "collapsed": false
   },
   "outputs": [
    {
     "name": "stdout",
     "output_type": "stream",
     "text": [
      "Switching to API Credentials #2\n"
     ]
    }
   ],
   "source": [
    "from experiments._1_one_user_learn_neighbours.try_some_users import *\n",
    "from experiments.utils import *\n",
    "from experiments.datasets import *\n",
    "import json\n",
    "import matplotlib.pyplot as plt\n",
    "%matplotlib inline"
   ]
  },
  {
   "cell_type": "markdown",
   "metadata": {},
   "source": [
    "Calculamos para cada usuario su *recall* en el *train set* y su *máximo recall*. ( considerando el mínimo de falsos negativos causados por ambigüedad en los datos )"
   ]
  },
  {
   "cell_type": "code",
   "execution_count": 2,
   "metadata": {
    "collapsed": true
   },
   "outputs": [],
   "source": [
    "from sklearn.metrics import recall_score"
   ]
  },
  {
   "cell_type": "code",
   "execution_count": 3,
   "metadata": {
    "collapsed": true
   },
   "outputs": [],
   "source": [
    "# recalls_train = {}\n",
    "# recalls_amb = {}\n",
    "\n",
    "# for uid, _, _ in TEST_USERS_ALL:\n",
    "#     try:\n",
    "#         clf = load_model(uid)\n",
    "#     except Exception:\n",
    "#         continue\n",
    "\n",
    "#     X_train, X_test, y_train, y_test = load_or_create_dataframe(uid)\n",
    "\n",
    "#     y_true, y_pred = y_train, clf.predict(X_train)\n",
    "#     recalls_train[uid] = recall_score(y_true, y_pred)\n",
    "\n",
    "#     miss_clf_counts, _ = count_doomed_samples(X_train, y_train)\n",
    "#     min_false_neg = miss_clf_counts[1]\n",
    "    \n",
    "#     total_pos = sum(y_train)\n",
    "#     max_recall = (total_pos - min_false_neg) * 1.0 / total_pos\n",
    "#     recalls_amb[uid] = max_recall"
   ]
  },
  {
   "cell_type": "code",
   "execution_count": 4,
   "metadata": {
    "collapsed": false
   },
   "outputs": [],
   "source": [
    "# with open('recalls_train.json', 'w') as f:\n",
    "#     json.dump(recalls_train, f)\n",
    "\n",
    "# with open('recalls_amb.json', 'w') as f:\n",
    "#     json.dump(recalls_amb, f)"
   ]
  },
  {
   "cell_type": "code",
   "execution_count": 5,
   "metadata": {
    "collapsed": false
   },
   "outputs": [],
   "source": [
    "with open('recalls_train.json') as f:\n",
    "    recalls_train = json.load(f)\n",
    "\n",
    "with open('recalls_amb.json') as f:\n",
    "    recalls_amb = json.load(f)"
   ]
  },
  {
   "cell_type": "code",
   "execution_count": 6,
   "metadata": {
    "collapsed": false
   },
   "outputs": [
    {
     "data": {
      "text/plain": [
       "194"
      ]
     },
     "execution_count": 6,
     "metadata": {},
     "output_type": "execute_result"
    }
   ],
   "source": [
    "len(recalls_train)"
   ]
  },
  {
   "cell_type": "code",
   "execution_count": 7,
   "metadata": {
    "collapsed": false
   },
   "outputs": [],
   "source": [
    "uids = recalls_train.keys()\n",
    "\n",
    "recalls_train_vals = np.array([recalls_train[u] for u in uids])\n",
    "recalls_amb_vals = np.array([recalls_amb[u] for u in uids])"
   ]
  },
  {
   "cell_type": "code",
   "execution_count": 8,
   "metadata": {
    "collapsed": false
   },
   "outputs": [],
   "source": [
    "from math import sqrt\n",
    "\n",
    "def mse(a,b):\n",
    "#     mean squared error\n",
    "#     n = len(a)\n",
    "    return sqrt(np.mean((a-b)**2))\n",
    "\n",
    "def mae(a, b):\n",
    "#     mean absolute error\n",
    "#     n = len(a)\n",
    "    return np.mean(np.abs(a-b))\n",
    "\n",
    "def md(a,b):\n",
    "#     mean difference\n",
    "    return np.mean(a-b)"
   ]
  },
  {
   "cell_type": "code",
   "execution_count": 9,
   "metadata": {
    "collapsed": false
   },
   "outputs": [
    {
     "data": {
      "text/plain": [
       "0.07265119833078748"
      ]
     },
     "execution_count": 9,
     "metadata": {},
     "output_type": "execute_result"
    }
   ],
   "source": [
    "mse(recalls_train_vals, recalls_amb_vals)"
   ]
  },
  {
   "cell_type": "code",
   "execution_count": 10,
   "metadata": {
    "collapsed": false
   },
   "outputs": [
    {
     "data": {
      "text/plain": [
       "0.024583842669274956"
      ]
     },
     "execution_count": 10,
     "metadata": {},
     "output_type": "execute_result"
    }
   ],
   "source": [
    "mae(recalls_amb_vals, recalls_train_vals)"
   ]
  },
  {
   "cell_type": "code",
   "execution_count": 11,
   "metadata": {
    "collapsed": false
   },
   "outputs": [
    {
     "data": {
      "text/plain": [
       "0.024583842669274956"
      ]
     },
     "execution_count": 11,
     "metadata": {},
     "output_type": "execute_result"
    }
   ],
   "source": [
    "md(recalls_amb_vals, recalls_train_vals)"
   ]
  },
  {
   "cell_type": "markdown",
   "metadata": {},
   "source": [
    "Vemos que el *recall* de entrenamiento es en promedio un $2.5\\%$ menor que  el máximo *recall* dado por las ambigüedades del *training set*."
   ]
  },
  {
   "cell_type": "code",
   "execution_count": 12,
   "metadata": {
    "collapsed": false
   },
   "outputs": [
    {
     "data": {
      "text/plain": [
       "0.87121212121212122"
      ]
     },
     "execution_count": 12,
     "metadata": {},
     "output_type": "execute_result"
    }
   ],
   "source": [
    "np.max(recalls_amb_vals - recalls_train_vals)"
   ]
  },
  {
   "cell_type": "markdown",
   "metadata": {},
   "source": [
    "La mayor diferencia observada es $16\\%$"
   ]
  },
  {
   "cell_type": "markdown",
   "metadata": {},
   "source": [
    "Visualicemos ambas métricas:"
   ]
  },
  {
   "cell_type": "code",
   "execution_count": 13,
   "metadata": {
    "collapsed": false
   },
   "outputs": [
    {
     "data": {
      "text/plain": [
       "[<matplotlib.lines.Line2D at 0x7f44bf68d650>,\n",
       " <matplotlib.lines.Line2D at 0x7f44bf68d910>]"
      ]
     },
     "execution_count": 13,
     "metadata": {},
     "output_type": "execute_result"
    },
    {
     "data": {
      "image/png": "[encoded data removed]",
      "text/plain": [
       "<matplotlib.figure.Figure at 0x7f44c210a310>"
      ]
     },
     "metadata": {},
     "output_type": "display_data"
    }
   ],
   "source": [
    "plot_data = [\n",
    "    recalls_amb_vals, recalls_train_vals, 'ro', # comparison\n",
    "    recalls_amb_vals, recalls_amb_vals, '' # equality line\n",
    "]\n",
    "plt.plot(*plot_data)"
   ]
  },
  {
   "cell_type": "code",
   "execution_count": 14,
   "metadata": {
    "collapsed": true
   },
   "outputs": [],
   "source": [
    "from scipy.stats import pearsonr"
   ]
  },
  {
   "cell_type": "code",
   "execution_count": 15,
   "metadata": {
    "collapsed": false
   },
   "outputs": [
    {
     "data": {
      "text/plain": [
       "(0.84430910263338033, 6.4510553396136992e-54)"
      ]
     },
     "execution_count": 15,
     "metadata": {},
     "output_type": "execute_result"
    }
   ],
   "source": [
    "pearsonr(recalls_amb_vals, recalls_train_vals)"
   ]
  },
  {
   "cell_type": "code",
   "execution_count": 16,
   "metadata": {
    "collapsed": false
   },
   "outputs": [
    {
     "data": {
      "text/plain": [
       "141"
      ]
     },
     "execution_count": 16,
     "metadata": {},
     "output_type": "execute_result"
    }
   ],
   "source": [
    "np.argmin(recalls_train_vals)"
   ]
  },
  {
   "cell_type": "code",
   "execution_count": 58,
   "metadata": {
    "collapsed": false
   },
   "outputs": [
    {
     "data": {
      "text/plain": [
       "(u'241991145', 0.12373737373737374)"
      ]
     },
     "execution_count": 58,
     "metadata": {},
     "output_type": "execute_result"
    }
   ],
   "source": [
    "recalls_train.items()[141]"
   ]
  },
  {
   "cell_type": "markdown",
   "metadata": {},
   "source": [
    "# Caso muuuuy malo"
   ]
  },
  {
   "cell_type": "markdown",
   "metadata": {},
   "source": [
    "El punto rojo de abajo a la derecha es un *outlier* muy marcado. Investiguemos por qué da tan malos resultados."
   ]
  },
  {
   "cell_type": "code",
   "execution_count": 18,
   "metadata": {
    "collapsed": true
   },
   "outputs": [],
   "source": [
    "import numpy as np"
   ]
  },
  {
   "cell_type": "code",
   "execution_count": 19,
   "metadata": {
    "collapsed": false
   },
   "outputs": [
    {
     "data": {
      "text/plain": [
       "0.83454608454608459"
      ]
     },
     "execution_count": 19,
     "metadata": {},
     "output_type": "execute_result"
    }
   ],
   "source": [
    "np.median(recalls_train_vals)"
   ]
  },
  {
   "cell_type": "code",
   "execution_count": 20,
   "metadata": {
    "collapsed": false
   },
   "outputs": [
    {
     "data": {
      "text/plain": [
       "0.81785714285714284"
      ]
     },
     "execution_count": 20,
     "metadata": {},
     "output_type": "execute_result"
    }
   ],
   "source": [
    "recalls_train_vals[142]"
   ]
  },
  {
   "cell_type": "code",
   "execution_count": 21,
   "metadata": {
    "collapsed": false
   },
   "outputs": [
    {
     "data": {
      "text/plain": [
       "u'117183228'"
      ]
     },
     "execution_count": 21,
     "metadata": {},
     "output_type": "execute_result"
    }
   ],
   "source": [
    "recalls_train.keys()[142]"
   ]
  },
  {
   "cell_type": "code",
   "execution_count": 22,
   "metadata": {
    "collapsed": true
   },
   "outputs": [],
   "source": [
    "uid = 241991145"
   ]
  },
  {
   "cell_type": "code",
   "execution_count": 23,
   "metadata": {
    "collapsed": true
   },
   "outputs": [],
   "source": [
    "clf = load_model(uid)"
   ]
  },
  {
   "cell_type": "code",
   "execution_count": 24,
   "metadata": {
    "collapsed": true
   },
   "outputs": [],
   "source": [
    "X_train, X_test, y_train, y_test = load_or_create_dataframe(uid)"
   ]
  },
  {
   "cell_type": "code",
   "execution_count": 25,
   "metadata": {
    "collapsed": false
   },
   "outputs": [
    {
     "name": "stdout",
     "output_type": "stream",
     "text": [
      "Detailed classification report:\n",
      "\n",
      "Scores on training set.\n",
      "\n",
      "             precision    recall  f1-score   support\n",
      "\n",
      "        0.0       1.00      1.00      1.00    159988\n",
      "        1.0       0.91      0.12      0.22       396\n",
      "\n",
      "avg / total       1.00      1.00      1.00    160384\n",
      "\n",
      "Scores on test set.\n",
      "\n",
      "             precision    recall  f1-score   support\n",
      "\n",
      "        0.0       1.00      1.00      1.00     68533\n",
      "        1.0       0.69      0.10      0.17       203\n",
      "\n",
      "avg / total       1.00      1.00      1.00     68736\n",
      "\n"
     ]
    }
   ],
   "source": [
    "evaluate_model(clf, X_train, X_test, y_train, y_test)"
   ]
  },
  {
   "cell_type": "code",
   "execution_count": 26,
   "metadata": {
    "collapsed": true
   },
   "outputs": [],
   "source": [
    "miss_clf_counts, details = count_doomed_samples(X_train, y_train)"
   ]
  },
  {
   "cell_type": "code",
   "execution_count": 27,
   "metadata": {
    "collapsed": false
   },
   "outputs": [
    {
     "data": {
      "text/plain": [
       "[([u\"Luis D'Elia\"], {0.0: 259, 1.0: 335}),\n",
       " ([u\"Luis D'Elia\", u'Leonardo Cofr\\xe9'], {0.0: 7, 1.0: 1}),\n",
       " ([u\"Luis D'Elia\", u'Juan M. Rapacioli'], {0.0: 1, 1.0: 2}),\n",
       " ([u'Horacio Roggero', u\"Luis D'Elia\"], {0.0: 1, 1.0: 1}),\n",
       " ([u'Fernando Esteche'], {0.0: 233, 1.0: 1}),\n",
       " ([u'Araceli Ferreyra', u\"Luis D'Elia\"], {0.0: 1, 1.0: 1}),\n",
       " ([u'Hamartia', u\"Luis D'Elia\"], {0.0: 1, 1.0: 1}),\n",
       " ([u'Marcel #RadioRetro', u\"Luis D'Elia\"], {0.0: 1, 1.0: 1}),\n",
       " ([u'Luisa Hynes', u\"Luis D'Elia\"], {0.0: 1, 1.0: 6})]"
      ]
     },
     "execution_count": 27,
     "metadata": {},
     "output_type": "execute_result"
    }
   ],
   "source": [
    "details"
   ]
  },
  {
   "cell_type": "code",
   "execution_count": 28,
   "metadata": {
    "collapsed": true
   },
   "outputs": [],
   "source": [
    "s = open_session()\n",
    "user = s.query(User).get(uid)\n",
    "user.username"
   ]
  },
  {
   "cell_type": "markdown",
   "metadata": {},
   "source": [
    "Veamos si agregar usuarios que desambigüen mejora la situación"
   ]
  },
  {
   "cell_type": "code",
   "execution_count": 31,
   "metadata": {
    "collapsed": false
   },
   "outputs": [],
   "source": [
    "neighbours = get_neighbourhood(uid)\n",
    "error_sources = details\n",
    "\n",
    "unames = [x[0][0] for x in error_sources]\n",
    "amb_users = {u.username: u for u in neighbours if u.username in unames}\n",
    "amb_ids = {u.id for u in amb_users.values()}\n",
    "\n",
    "# tweets con un solo 1 en todo X_train y con 1 en y_train\n",
    "cands = X_train[(y_train == 1) & (X_train.sum(axis=1) == 1)]\n",
    "\n",
    "# y ese en alguno de los amb_users\n",
    "amb_tweets = []\n",
    "for twid in cands.index:\n",
    "    t = s.query(Tweet).get(twid)\n",
    "    if t.author_id in amb_ids:\n",
    "        amb_tweets.append(t)"
   ]
  },
  {
   "cell_type": "code",
   "execution_count": 32,
   "metadata": {
    "collapsed": false
   },
   "outputs": [
    {
     "data": {
      "text/plain": [
       "321"
      ]
     },
     "execution_count": 32,
     "metadata": {},
     "output_type": "execute_result"
    }
   ],
   "source": [
    "len(amb_tweets)"
   ]
  },
  {
   "cell_type": "code",
   "execution_count": 33,
   "metadata": {
    "collapsed": false
   },
   "outputs": [],
   "source": [
    "amb_rt_counts = defaultdict(int)\n",
    "neighbour_ids = [n.id for n in neighbours]\n",
    "for t in amb_tweets:\n",
    "    for u in t.users_retweeted:\n",
    "        if u.id not in (neighbour_ids + [user.id]):\n",
    "            amb_rt_counts[u.id] += 1\n",
    "    if t.author_id not in (neighbour_ids + [user.id]):\n",
    "        amb_rt_counts[t.author_id] += 1\n",
    "    \n",
    "new_neighbours = sorted(amb_rt_counts.items(), key=lambda x: -x[1])\n",
    "new_neighbour_ids = [x[0] for x in new_neighbours]\n",
    "new_neighbours = [s.query(User).get(uid) for uid in new_neighbour_ids]"
   ]
  },
  {
   "cell_type": "code",
   "execution_count": 34,
   "metadata": {
    "collapsed": false
   },
   "outputs": [
    {
     "data": {
      "text/plain": [
       "32"
      ]
     },
     "execution_count": 34,
     "metadata": {},
     "output_type": "execute_result"
    }
   ],
   "source": [
    "len(new_neighbours)"
   ]
  },
  {
   "cell_type": "code",
   "execution_count": 35,
   "metadata": {
    "collapsed": false
   },
   "outputs": [],
   "source": [
    "tweet_ids = X_train.index\n",
    "tweets = [s.query(Tweet).get(twid) for twid in tweet_ids]\n",
    "\n",
    "X_train_new, _ = extract_features(tweets, new_neighbours, user)\n",
    "\n",
    "X_train_new = pd.DataFrame(data=X_train_new, index=tweet_ids, columns=new_neighbour_ids)\n",
    "\n",
    "X_train_extended = pd.concat([X_train,X_train_new],axis=1)"
   ]
  },
  {
   "cell_type": "code",
   "execution_count": 36,
   "metadata": {
    "collapsed": false
   },
   "outputs": [
    {
     "name": "stdout",
     "output_type": "stream",
     "text": [
      "Scores on training set.\n",
      "\n",
      "             precision    recall  f1-score   support\n",
      "\n",
      "        0.0       1.00      1.00      1.00    159988\n",
      "        1.0       0.95      0.19      0.32       396\n",
      "\n",
      "avg / total       1.00      1.00      1.00    160384\n",
      "\n"
     ]
    }
   ],
   "source": [
    "# weights for class balancing\n",
    "w1 = sum(y_train)/len(y_train)\n",
    "w0 = 1 - w1\n",
    "sample_weights = np.array([w0 if x==0 else w1 for x in y_train])\n",
    "\n",
    "clf = RandomForestClassifier()     \n",
    "clf.fit(X_train_extended, y_train, sample_weight=sample_weights)\n",
    "\n",
    "y_true, y_pred = y_train, clf.predict(X_train_extended)\n",
    "\n",
    "print(\"Scores on training set.\\n\")\n",
    "print(classification_report(y_true, y_pred))"
   ]
  },
  {
   "cell_type": "code",
   "execution_count": 37,
   "metadata": {
    "collapsed": true
   },
   "outputs": [],
   "source": [
    "miss_clf_counts, details = count_doomed_samples(X_train_extended, y_train)"
   ]
  },
  {
   "cell_type": "code",
   "execution_count": 38,
   "metadata": {
    "collapsed": false
   },
   "outputs": [
    {
     "data": {
      "text/plain": [
       "[([u\"Luis D'Elia\"], {0.0: 247, 1.0: 282}),\n",
       " ([u\"Luis D'Elia\", u'MILES'], {0.0: 2, 1.0: 7}),\n",
       " ([u\"Luis D'Elia\", u'MILES', u'RUBEN KANUELAS'], {0.0: 2, 1.0: 7}),\n",
       " ([u\"Luis D'Elia\", u'@lauritalonso'], {0.0: 1, 1.0: 1}),\n",
       " ([u\"Luis D'Elia\", u'AlfredoLeuco'], {0.0: 1, 1.0: 3}),\n",
       " ([u\"Luis D'Elia\", u'Gustavo Leonardo'], {0.0: 1, 1.0: 3}),\n",
       " ([u\"Luis D'Elia\", u'Leonardo Cofr\\xe9'], {0.0: 7, 1.0: 1}),\n",
       " ([u\"Luis D'Elia\", u'Juan M. Rapacioli'], {0.0: 1, 1.0: 2}),\n",
       " ([u'Horacio Roggero', u\"Luis D'Elia\"], {0.0: 1, 1.0: 1}),\n",
       " ([u'Fernando Esteche'], {0.0: 233, 1.0: 1}),\n",
       " ([u'Araceli Ferreyra', u\"Luis D'Elia\"], {0.0: 1, 1.0: 1}),\n",
       " ([u'Hamartia', u\"Luis D'Elia\"], {0.0: 1, 1.0: 1}),\n",
       " ([u'Marcel #RadioRetro', u\"Luis D'Elia\"], {0.0: 1, 1.0: 1}),\n",
       " ([u'Luisa Hynes', u\"Luis D'Elia\"], {0.0: 1, 1.0: 4})]"
      ]
     },
     "execution_count": 38,
     "metadata": {},
     "output_type": "execute_result"
    }
   ],
   "source": [
    "details"
   ]
  },
  {
   "cell_type": "markdown",
   "metadata": {},
   "source": [
    "Veamos cómo se está clasificando la principal clase ambigua"
   ]
  },
  {
   "cell_type": "code",
   "execution_count": 39,
   "metadata": {
    "collapsed": true
   },
   "outputs": [],
   "source": [
    "ld = [n for n in neighbours if n.username==\"Luis D'Elia\"][0]"
   ]
  },
  {
   "cell_type": "code",
   "execution_count": 40,
   "metadata": {
    "collapsed": false
   },
   "outputs": [
    {
     "data": {
      "text/plain": [
       "132704571"
      ]
     },
     "execution_count": 40,
     "metadata": {},
     "output_type": "execute_result"
    }
   ],
   "source": [
    "ld.id"
   ]
  },
  {
   "cell_type": "code",
   "execution_count": 41,
   "metadata": {
    "collapsed": true
   },
   "outputs": [],
   "source": [
    "X_ld = X_train_extended[X_train_extended[132704571] == 1]"
   ]
  },
  {
   "cell_type": "code",
   "execution_count": 42,
   "metadata": {
    "collapsed": false
   },
   "outputs": [
    {
     "data": {
      "text/plain": [
       "(697, 744)"
      ]
     },
     "execution_count": 42,
     "metadata": {},
     "output_type": "execute_result"
    }
   ],
   "source": [
    "X_ld.shape"
   ]
  },
  {
   "cell_type": "code",
   "execution_count": 43,
   "metadata": {
    "collapsed": true
   },
   "outputs": [],
   "source": [
    "y_ld = clf.predict(X_ld)"
   ]
  },
  {
   "cell_type": "code",
   "execution_count": 44,
   "metadata": {
    "collapsed": false
   },
   "outputs": [
    {
     "data": {
      "text/plain": [
       "62.0"
      ]
     },
     "execution_count": 44,
     "metadata": {},
     "output_type": "execute_result"
    }
   ],
   "source": [
    "sum(y_ld)"
   ]
  },
  {
   "cell_type": "markdown",
   "metadata": {
    "collapsed": true
   },
   "source": [
    "# Análisis de desambiguación de datos"
   ]
  },
  {
   "cell_type": "markdown",
   "metadata": {},
   "source": [
    "Estudiaremos la mejora introducida por desambiguar datos con usuarios que retweetean tuits ambiguos. Hacemos esto sólo para los casos en los que la recall es menor al 90%."
   ]
  },
  {
   "cell_type": "code",
   "execution_count": 18,
   "metadata": {
    "collapsed": false
   },
   "outputs": [],
   "source": [
    "lowr_uids = [uid for uid, recall in recalls_train.items() if recall < 0.9]"
   ]
  },
  {
   "cell_type": "code",
   "execution_count": 19,
   "metadata": {
    "collapsed": false
   },
   "outputs": [
    {
     "data": {
      "text/plain": [
       "131"
      ]
     },
     "execution_count": 19,
     "metadata": {},
     "output_type": "execute_result"
    }
   ],
   "source": [
    "len(lowr_uids)"
   ]
  },
  {
   "cell_type": "code",
   "execution_count": 20,
   "metadata": {
    "collapsed": false
   },
   "outputs": [],
   "source": [
    "# Recalls calculados en paralelo en disambiguation_analysis.py\n",
    "# ( agregar 3 usuarios faltantes )"
   ]
  },
  {
   "cell_type": "code",
   "execution_count": 21,
   "metadata": {
    "collapsed": false
   },
   "outputs": [],
   "source": [
    "import json\n",
    "with open('recalls_train.json') as f:\n",
    "    recalls_train = json.load(f)\n",
    "\n",
    "with open('recalls_amb.json') as f:\n",
    "    recalls_amb = json.load(f)\n",
    "\n",
    "with open('recalls_train_disamb.json') as f:\n",
    "    recalls_train_disamb = json.load(f)\n",
    "\n",
    "with open('recalls_test_disamb.json') as f:\n",
    "\trecalls_test_disamb = json.load(f)\n",
    "\n",
    "with open('recalls_test_amb.json') as f:\n",
    "    recalls_test_amb = json.load(f)\n"
   ]
  },
  {
   "cell_type": "code",
   "execution_count": 22,
   "metadata": {
    "collapsed": true
   },
   "outputs": [],
   "source": [
    "def cleand(d):\n",
    "    return {k:v for k,v in d.items() if k in recalls_train}"
   ]
  },
  {
   "cell_type": "code",
   "execution_count": 23,
   "metadata": {
    "collapsed": true
   },
   "outputs": [],
   "source": [
    "import numpy as np"
   ]
  },
  {
   "cell_type": "code",
   "execution_count": 24,
   "metadata": {
    "collapsed": false
   },
   "outputs": [
    {
     "data": {
      "text/plain": [
       "0.75951694961390304"
      ]
     },
     "execution_count": 24,
     "metadata": {},
     "output_type": "execute_result"
    }
   ],
   "source": [
    "_recalls_train = {uid: r for (uid, r) in recalls_train.items() if uid in lowr_uids}\n",
    "np.mean(_recalls_train.values())"
   ]
  },
  {
   "cell_type": "code",
   "execution_count": 25,
   "metadata": {
    "collapsed": false
   },
   "outputs": [
    {
     "data": {
      "text/plain": [
       "0.8450600579626969"
      ]
     },
     "execution_count": 25,
     "metadata": {},
     "output_type": "execute_result"
    }
   ],
   "source": [
    "np.mean(recalls_amb.values())"
   ]
  },
  {
   "cell_type": "code",
   "execution_count": 26,
   "metadata": {
    "collapsed": false
   },
   "outputs": [
    {
     "data": {
      "text/plain": [
       "0.78420497707767689"
      ]
     },
     "execution_count": 26,
     "metadata": {},
     "output_type": "execute_result"
    }
   ],
   "source": [
    "np.mean(recalls_train_disamb.values())"
   ]
  },
  {
   "cell_type": "code",
   "execution_count": 27,
   "metadata": {
    "collapsed": false
   },
   "outputs": [
    {
     "data": {
      "text/plain": [
       "0.70327830227935872"
      ]
     },
     "execution_count": 27,
     "metadata": {},
     "output_type": "execute_result"
    }
   ],
   "source": [
    "np.mean(recalls_test_amb.values())"
   ]
  },
  {
   "cell_type": "code",
   "execution_count": 28,
   "metadata": {
    "collapsed": false
   },
   "outputs": [
    {
     "data": {
      "text/plain": [
       "0.70180665242778162"
      ]
     },
     "execution_count": 28,
     "metadata": {},
     "output_type": "execute_result"
    }
   ],
   "source": [
    "np.mean(recalls_test_disamb.values())"
   ]
  },
  {
   "cell_type": "markdown",
   "metadata": {},
   "source": [
    "Hay una mejora cercana al $2,5\\%$ en el recall sobre el *training set*, pero en el *test set* el recall baja incluso un poco.\n",
    "\n",
    "Concluimos que la técnica de desambiguación por incorporación de vecinos no generaliza correctamente y sólo produce un modelo *sobreajustado* ( *overfitted* )"
   ]
  },
  {
   "cell_type": "code",
   "execution_count": 29,
   "metadata": {
    "collapsed": false
   },
   "outputs": [],
   "source": [
    "recalls_amb_vals = [recalls_amb[uid] for uid in lowr_uids]\n",
    "recalls_test_amb_vals = [recalls_test_amb[uid] for uid in lowr_uids]\n",
    "recalls_test_disamb_vals = [recalls_test_disamb[uid] for uid in lowr_uids]"
   ]
  },
  {
   "cell_type": "code",
   "execution_count": 32,
   "metadata": {
    "collapsed": false
   },
   "outputs": [
    {
     "data": {
      "text/plain": [
       "[<matplotlib.lines.Line2D at 0x7f3faae2d690>,\n",
       " <matplotlib.lines.Line2D at 0x7f3faae2d950>,\n",
       " <matplotlib.lines.Line2D at 0x7f3faae2dfd0>]"
      ]
     },
     "execution_count": 32,
     "metadata": {},
     "output_type": "execute_result"
    },
    {
     "data": {
      "image/png": "[encoded data removed]",
      "text/plain": [
       "<matplotlib.figure.Figure at 0x7f3faae876d0>"
      ]
     },
     "metadata": {},
     "output_type": "display_data"
    }
   ],
   "source": [
    "plot_data = [\n",
    "    recalls_amb_vals, recalls_test_amb_vals, 'ro', # comparison\n",
    "    recalls_amb_vals, recalls_test_disamb_vals, 'go', # comparison\n",
    "    recalls_amb_vals, recalls_amb_vals, '' # equality line\n",
    "]\n",
    "plt.plot(*plot_data)"
   ]
  }
 ],
 "metadata": {
  "kernelspec": {
   "display_name": "Python 2",
   "language": "python",
   "name": "python2"
  },
  "language_info": {
   "codemirror_mode": {
    "name": "ipython",
    "version": 2
   },
   "file_extension": ".py",
   "mimetype": "text/x-python",
   "name": "python",
   "nbconvert_exporter": "python",
   "pygments_lexer": "ipython2",
   "version": "2.7.11+"
  }
 },
 "nbformat": 4,
 "nbformat_minor": 0
}
