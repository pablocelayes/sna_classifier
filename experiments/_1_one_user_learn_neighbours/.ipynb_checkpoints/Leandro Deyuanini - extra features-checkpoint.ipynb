{
 "cells": [
  {
   "cell_type": "code",
   "execution_count": 72,
   "metadata": {
    "collapsed": false
   },
   "outputs": [],
   "source": [
    "from experiments._1_one_user_learn_neighbours.try_some_users import *\n",
    "from experiments.utils import *\n",
    "from experiments.datasets import *"
   ]
  },
  {
   "cell_type": "code",
   "execution_count": 63,
   "metadata": {
    "collapsed": false
   },
   "outputs": [],
   "source": [
    "uid = 37226353\n",
    "s = open_session()\n",
    "user_ld = s.query(User).get(uid)\n",
    "# X_train, X_test, y_train, y_test = load_or_create_dataset(uid)\n",
    "X_train, X_test, y_train, y_test = load_or_create_dataframe(uid)"
   ]
  },
  {
   "cell_type": "code",
   "execution_count": 64,
   "metadata": {
    "collapsed": true
   },
   "outputs": [],
   "source": [
    "neighbours = get_neighbourhood(uid)"
   ]
  },
  {
   "cell_type": "code",
   "execution_count": 65,
   "metadata": {
    "collapsed": false
   },
   "outputs": [
    {
     "data": {
      "text/plain": [
       "1967"
      ]
     },
     "execution_count": 65,
     "metadata": {},
     "output_type": "execute_result"
    }
   ],
   "source": [
    "len(user_ld.timeline)"
   ]
  },
  {
   "cell_type": "code",
   "execution_count": 66,
   "metadata": {
    "collapsed": false
   },
   "outputs": [
    {
     "name": "stdout",
     "output_type": "stream",
     "text": [
      "Training RandomForestClassifier\n",
      "Detailed classification report:\n",
      "\n",
      "Scores on training set.\n",
      "\n",
      "             precision    recall  f1-score   support\n",
      "\n",
      "        0.0       0.99      1.00      1.00     83716\n",
      "        1.0       1.00      0.63      0.77      1393\n",
      "\n",
      "avg / total       0.99      0.99      0.99     85109\n",
      "\n",
      "Scores on test set.\n",
      "\n",
      "             precision    recall  f1-score   support\n",
      "\n",
      "        0.0       0.99      1.00      1.00     35902\n",
      "        1.0       0.96      0.64      0.77       574\n",
      "\n",
      "avg / total       0.99      0.99      0.99     36476\n",
      "\n"
     ]
    }
   ],
   "source": [
    "from sklearn.ensemble import RandomForestClassifier\n",
    "clf_class = RandomForestClassifier\n",
    "\n",
    "# weights for class balancing\n",
    "w1 = sum(y_train)/len(y_train)\n",
    "w0 = 1 - w1\n",
    "sample_weights = np.array([w0 if x==0 else w1 for x in y_train])\n",
    "\n",
    "print(\"Training %s\" % clf_class.__name__)\n",
    "clf = clf_class()     \n",
    "clf.fit(X_train, y_train, sample_weight=sample_weights)\n",
    "\n",
    "y_true, y_pred = y_train, clf.predict(X_train)\n",
    "\n",
    "print(\"Detailed classification report:\\n\")\n",
    "print(\"Scores on training set.\\n\")\n",
    "print(classification_report(y_true, y_pred))\n",
    "\n",
    "y_true, y_pred = y_test, clf.predict(X_test)\n",
    "print(\"Scores on test set.\\n\")\n",
    "print(classification_report(y_true, y_pred))"
   ]
  },
  {
   "cell_type": "markdown",
   "metadata": {},
   "source": [
    "Analicemos las probabilidades para tener una idea de la ¿perplejidad? del modelo"
   ]
  },
  {
   "cell_type": "code",
   "execution_count": 101,
   "metadata": {
    "collapsed": false
   },
   "outputs": [
    {
     "name": "stdout",
     "output_type": "stream",
     "text": [
      "36453.6348861\n",
      "36476.0\n"
     ]
    }
   ],
   "source": [
    "maxprobs = []\n",
    "probas = clf.predict_proba(X_test)\n",
    "for r in probas:\n",
    "    maxprobs.append(max(r))\n",
    "\n",
    "print sum(maxprobs)\n",
    "\n",
    "print probas.sum()"
   ]
  },
  {
   "cell_type": "markdown",
   "metadata": {},
   "source": [
    "Las probabilidades están practicamente concentradas siempre en la clase predicha."
   ]
  },
  {
   "cell_type": "markdown",
   "metadata": {},
   "source": [
    "# Análisis de ambigüedades"
   ]
  },
  {
   "cell_type": "markdown",
   "metadata": {},
   "source": [
    "Este usuario muestra un recall mucho más bajo que los demás.\n",
    "Esta pérdida de calidad puede deberse a errores forzosos causados por ambigüedades en el dataset de entrenamiento.\n",
    "Diremos que hay ambigüedad para un vector de features $v$ si $(v,0)$ y $(v,1)$ ocurren ambos una cantidad significativa de veces."
   ]
  },
  {
   "cell_type": "code",
   "execution_count": 73,
   "metadata": {
    "collapsed": false
   },
   "outputs": [],
   "source": [
    "miss_clf_counts, details = count_doomed_samples(X_train, y_train)"
   ]
  },
  {
   "cell_type": "code",
   "execution_count": 74,
   "metadata": {
    "collapsed": false
   },
   "outputs": [
    {
     "data": {
      "text/plain": [
       "[([u'@lauritalonso'], {0.0: 382, 1.0: 120}),\n",
       " ([u'FestivalesGCBA'], {0.0: 674, 1.0: 37}),\n",
       " ([u'Paula Mar\\xeda'], {0.0: 283, 1.0: 34}),\n",
       " ([u'Federico Pinedo'], {0.0: 121, 1.0: 29}),\n",
       " ([u'Enzo Pagani'], {0.0: 158, 1.0: 25}),\n",
       " ([u'PRO'], {0.0: 104, 1.0: 19}),\n",
       " ([u'Eduardo Macchiavelli'], {0.0: 155, 1.0: 17}),\n",
       " ([u'Gladys Gonzalez'], {0.0: 47, 1.0: 16}),\n",
       " ([u'Gabriela Michetti'], {0.0: 24, 1.0: 16}),\n",
       " ([u'Victoria Morales G'], {0.0: 62, 1.0: 14}),\n",
       " ([u'Nestor Grindetti'], {0.0: 26, 1.0: 14}),\n",
       " ([u'Jorge Macri'], {0.0: 41, 1.0: 14}),\n",
       " ([u'Julio Garro'], {0.0: 302, 1.0: 11}),\n",
       " ([u'Dami\\xe1n Esteban Glanz'], {0.0: 112, 1.0: 8}),\n",
       " ([u'Cristian Ritondo'], {0.0: 24, 1.0: 6}),\n",
       " ([u'Karina Spalla'], {0.0: 13, 1.0: 6}),\n",
       " ([u'Fran Quintana'], {0.0: 15, 1.0: 6}),\n",
       " ([u'Esteban Bullrich'], {0.0: 17, 1.0: 6}),\n",
       " ([u'Oscar Moscariello'], {0.0: 19, 1.0: 5}),\n",
       " ([u'\\xc1lvaro Gonz\\xe1lez'], {0.0: 17, 1.0: 5}),\n",
       " ([u'@lauritalonso', u'#YolovotoaMM'], {0.0: 12, 1.0: 5}),\n",
       " ([u'#YolovotoaMM'], {0.0: 218, 1.0: 4}),\n",
       " ([u'Sole Martinez'], {0.0: 7, 1.0: 4}),\n",
       " ([u'beto valdez'], {0.0: 1587, 1.0: 4}),\n",
       " ([u'Diego Santilli'], {0.0: 8, 1.0: 3}),\n",
       " ([u'Fernando de Andreis'], {0.0: 7, 1.0: 3}),\n",
       " ([u'Ivan Petrella'], {0.0: 170, 1.0: 3}),\n",
       " ([u'Buenos Aires Ciudad'], {0.0: 96, 1.0: 3}),\n",
       " ([u'LA NACION'], {0.0: 1855, 1.0: 3}),\n",
       " ([u'Pedro Robledo'], {0.0: 123, 1.0: 3})]"
      ]
     },
     "execution_count": 74,
     "metadata": {},
     "output_type": "execute_result"
    }
   ],
   "source": [
    "details[:30]"
   ]
  },
  {
   "cell_type": "code",
   "execution_count": 75,
   "metadata": {
    "collapsed": false
   },
   "outputs": [
    {
     "data": {
      "text/plain": [
       "defaultdict(float, {0: 13.0, 1: 502.0})"
      ]
     },
     "execution_count": 75,
     "metadata": {},
     "output_type": "execute_result"
    }
   ],
   "source": [
    "miss_clf_counts"
   ]
  },
  {
   "cell_type": "markdown",
   "metadata": {},
   "source": [
    "Las ambigüedades parecen venir mayormente de retweets a usuarios con las siguientes características:\n",
    "\n",
    "* La mayoría de sus tweets no son retweeteados por LD.\n",
    "* pocos seguidores en el vecindario de LD"
   ]
  },
  {
   "cell_type": "code",
   "execution_count": 78,
   "metadata": {
    "collapsed": false
   },
   "outputs": [],
   "source": [
    "error_sources = [d for d in details if d[1][1.0] >= 10]"
   ]
  },
  {
   "cell_type": "markdown",
   "metadata": {},
   "source": [
    "Veamos si realmente estos usuarios tienen tan pocos seguidores en el entorno de LD"
   ]
  },
  {
   "cell_type": "code",
   "execution_count": 80,
   "metadata": {
    "collapsed": true
   },
   "outputs": [],
   "source": [
    "unames = [x[0][0] for x in error_sources]\n",
    "users = {u.username: u for u in neighbours if u.username in unames}"
   ]
  },
  {
   "cell_type": "code",
   "execution_count": 81,
   "metadata": {
    "collapsed": false
   },
   "outputs": [],
   "source": [
    "g = load_nx_graph()"
   ]
  },
  {
   "cell_type": "code",
   "execution_count": 82,
   "metadata": {
    "collapsed": true
   },
   "outputs": [],
   "source": [
    "s = open_session()"
   ]
  },
  {
   "cell_type": "code",
   "execution_count": 83,
   "metadata": {
    "collapsed": false
   },
   "outputs": [],
   "source": [
    "followers = []\n",
    "nids = [u.id for u in neighbours]\n",
    "for un in unames: # importance order\n",
    "    fs = get_followers(users[un], s, g)\n",
    "    fs = [f for f in fs if f.id in nids]\n",
    "    followers.append((un, fs))"
   ]
  },
  {
   "cell_type": "code",
   "execution_count": 84,
   "metadata": {
    "collapsed": false
   },
   "outputs": [
    {
     "data": {
      "text/plain": [
       "[(u'@lauritalonso', 15),\n",
       " (u'FestivalesGCBA', 3),\n",
       " (u'Paula Mar\\xeda', 16),\n",
       " (u'Federico Pinedo', 5),\n",
       " (u'Enzo Pagani', 53),\n",
       " (u'PRO', 32),\n",
       " (u'Eduardo Macchiavelli', 21),\n",
       " (u'Gladys Gonzalez', 45),\n",
       " (u'Gabriela Michetti', 196),\n",
       " (u'Victoria Morales G', 55),\n",
       " (u'Nestor Grindetti', 114),\n",
       " (u'Jorge Macri', 1),\n",
       " (u'Julio Garro', 2)]"
      ]
     },
     "execution_count": 84,
     "metadata": {},
     "output_type": "execute_result"
    }
   ],
   "source": [
    "follower_counts = [(un, len(fs)) for (un, fs) in followers]\n",
    "follower_counts"
   ]
  },
  {
   "cell_type": "markdown",
   "metadata": {},
   "source": [
    "Parecen tener más seguidores de lo esperado en el entorno. Veamos si estos seguidores retweetean sus tweets o no."
   ]
  },
  {
   "cell_type": "code",
   "execution_count": 85,
   "metadata": {
    "collapsed": true
   },
   "outputs": [],
   "source": [
    "tl_counts = defaultdict(int)\n",
    "for t in user_ld.timeline:\n",
    "    tl_counts[t.author_id] += 1"
   ]
  },
  {
   "cell_type": "code",
   "execution_count": 86,
   "metadata": {
    "collapsed": false
   },
   "outputs": [
    {
     "data": {
      "text/plain": [
       "431"
      ]
     },
     "execution_count": 86,
     "metadata": {},
     "output_type": "execute_result"
    }
   ],
   "source": [
    "len(tl_counts)"
   ]
  },
  {
   "cell_type": "code",
   "execution_count": 50,
   "metadata": {
    "collapsed": false
   },
   "outputs": [
    {
     "data": {
      "text/plain": [
       "0"
      ]
     },
     "execution_count": 50,
     "metadata": {},
     "output_type": "execute_result"
    }
   ],
   "source": [
    "tl_counts[148970624]"
   ]
  },
  {
   "cell_type": "code",
   "execution_count": 47,
   "metadata": {
    "collapsed": false
   },
   "outputs": [
    {
     "data": {
      "text/plain": [
       "1967"
      ]
     },
     "execution_count": 47,
     "metadata": {},
     "output_type": "execute_result"
    }
   ],
   "source": [
    "len(user_ld.timeline)"
   ]
  },
  {
   "cell_type": "code",
   "execution_count": 90,
   "metadata": {
    "collapsed": true
   },
   "outputs": [],
   "source": [
    "def contar_retweets(user, followers):\n",
    "    count = 0\n",
    "    for f in followers:\n",
    "        rts = [t for t in f.timeline if t.author_id == user.id]\n",
    "        count += len(rts)\n",
    "    return count  "
   ]
  },
  {
   "cell_type": "code",
   "execution_count": 91,
   "metadata": {
    "collapsed": true
   },
   "outputs": [],
   "source": [
    "rt_counts = {}\n",
    "for un in unames:\n",
    "    user = users[un]\n",
    "    rt_counts[un] = contar_retweets(user, fs)"
   ]
  },
  {
   "cell_type": "code",
   "execution_count": 92,
   "metadata": {
    "collapsed": false
   },
   "outputs": [
    {
     "data": {
      "text/plain": [
       "{u'@lauritalonso': 28,\n",
       " u'Eduardo Macchiavelli': 3,\n",
       " u'Enzo Pagani': 0,\n",
       " u'Federico Pinedo': 3,\n",
       " u'FestivalesGCBA': 0,\n",
       " u'Gabriela Michetti': 10,\n",
       " u'Gladys Gonzalez': 6,\n",
       " u'Jorge Macri': 0,\n",
       " u'Julio Garro': 18,\n",
       " u'Nestor Grindetti': 4,\n",
       " u'PRO': 59,\n",
       " u'Paula Mar\\xeda': 0,\n",
       " u'Victoria Morales G': 32}"
      ]
     },
     "execution_count": 92,
     "metadata": {},
     "output_type": "execute_result"
    }
   ],
   "source": [
    "rt_counts"
   ]
  },
  {
   "cell_type": "code",
   "execution_count": null,
   "metadata": {
    "collapsed": true
   },
   "outputs": [],
   "source": [
    "v_ind, v  = [(i, u) for i, u in enumerate(neighbours) if u.username == '@lauritalonso'][0]\n",
    "sum(X_train.loc[:,v.id] == 1)\n",
    "twids = (X_train[X_train.loc[:,v.id] == 1]).index"
   ]
  },
  {
   "cell_type": "code",
   "execution_count": 94,
   "metadata": {
    "collapsed": false
   },
   "outputs": [
    {
     "data": {
      "text/plain": [
       "625"
      ]
     },
     "execution_count": 94,
     "metadata": {},
     "output_type": "execute_result"
    }
   ],
   "source": [
    "len(twids)"
   ]
  },
  {
   "cell_type": "code",
   "execution_count": 93,
   "metadata": {
    "collapsed": false
   },
   "outputs": [
    {
     "data": {
      "text/plain": [
       "[u\"D'EL\\xcdA TIENE OSDE\",\n",
       " u'Sobre el futuro de las estad\\xedsticas ac\\xe1: Graciela Bevacqua - Un shock de credibilidad y empezar desde cero - http://t.co/9eoXmzcWjY #INDEC',\n",
       " u'A los punteros les dieron la orden de desaparecer las urnas y all\\xed empez\\xf3 la violencia. Mi fuente me lo cuenta desde adentro del FPV.',\n",
       " u'Pedimos al Gobernador Alperovich y a Scioli que se hagan responsables por la paz y la transparencia del escrutinio.',\n",
       " u'La #Campa\\xf1aSucia se la hacen solos. Est\\xe1 a la vista. Chau avatar troll',\n",
       " u'En San Pablo quemaron las urnas. Todo qued\\xf3 en cenizas, salvo una. Qu\\xe9 har\\xe1 la junta electoral? #TucumanElige',\n",
       " u'Tranca, Alperovich. Los que queman urnas y andan a los balazos son tus nenes https://t.co/QwquzghPQ2',\n",
       " u'\"Sin problemas\" tuite\\xf3 hoy @CasaRosadaAR desde Cristilandia #Tucum\\xe1nElige https://t.co/C6aie1LMAO',\n",
       " u'Alguno de los tres es piedra http://t.co/4oSV0oKgx9',\n",
       " u'La victoria es el fraude #Tucum\\xe1n http://t.co/DpAClUDEfQ']"
      ]
     },
     "execution_count": 93,
     "metadata": {},
     "output_type": "execute_result"
    }
   ],
   "source": [
    "tws = s.query(Tweet).filter(Tweet.id.in_(twids))\n",
    "[t.text for t in tws[:10]]"
   ]
  },
  {
   "cell_type": "code",
   "execution_count": null,
   "metadata": {
    "collapsed": true
   },
   "outputs": [],
   "source": []
  }
 ],
 "metadata": {
  "kernelspec": {
   "display_name": "Python 2",
   "language": "python",
   "name": "python2"
  },
  "language_info": {
   "codemirror_mode": {
    "name": "ipython",
    "version": 2
   },
   "file_extension": ".py",
   "mimetype": "text/x-python",
   "name": "python",
   "nbconvert_exporter": "python",
   "pygments_lexer": "ipython2",
   "version": "2.7.11+"
  }
 },
 "nbformat": 4,
 "nbformat_minor": 0
}
