{
 "cells": [
  {
   "cell_type": "code",
   "execution_count": 1,
   "metadata": {
    "collapsed": true
   },
   "outputs": [],
   "source": [
    "from sklearn.metrics import f1_score"
   ]
  },
  {
   "cell_type": "code",
   "execution_count": 141,
   "metadata": {
    "collapsed": true
   },
   "outputs": [],
   "source": [
    "# with open('f1s_combined_%s.json' % nlp_model, 'w') as f:\n",
    "#     json.dump(f1s_combined, f)"
   ]
  },
  {
   "cell_type": "code",
   "execution_count": 142,
   "metadata": {
    "collapsed": true
   },
   "outputs": [],
   "source": [
    "with open('f1s_combined_%s.json' % nlp_model) as f:\n",
    "    f1s_combined = json.load(f)"
   ]
  },
  {
   "cell_type": "markdown",
   "metadata": {},
   "source": [
    "# Comparación de f1s sobre set de evaluación"
   ]
  },
  {
   "cell_type": "code",
   "execution_count": 2,
   "metadata": {
    "collapsed": true
   },
   "outputs": [],
   "source": [
    "from bokeh.charts import Line, show, output_notebook"
   ]
  },
  {
   "cell_type": "code",
   "execution_count": 3,
   "metadata": {
    "collapsed": false
   },
   "outputs": [
    {
     "data": {
      "text/html": [
       "\n",
       "    <div class=\"bk-root\">\n",
       "        <a href=\"http://bokeh.pydata.org\" target=\"_blank\" class=\"bk-logo bk-logo-small bk-logo-notebook\"></a>\n",
       "        <span id=\"82defdb3-837f-4ed2-aa25-88d0d6ee6f5c\">Loading BokehJS ...</span>\n",
       "    </div>"
      ]
     },
     "metadata": {},
     "output_type": "display_data"
    },
    {
     "data": {
      "application/javascript": [
       "\n",
       "(function(global) {\n",
       "  function now() {\n",
       "    return new Date();\n",
       "  }\n",
       "\n",
       "  var force = true;\n",
       "\n",
       "  if (typeof (window._bokeh_onload_callbacks) === \"undefined\" || force === true) {\n",
       "    window._bokeh_onload_callbacks = [];\n",
       "    window._bokeh_is_loading = undefined;\n",
       "  }\n",
       "\n",
       "\n",
       "  \n",
       "  if (typeof (window._bokeh_timeout) === \"undefined\" || force === true) {\n",
       "    window._bokeh_timeout = Date.now() + 5000;\n",
       "    window._bokeh_failed_load = false;\n",
       "  }\n",
       "\n",
       "  var NB_LOAD_WARNING = {'data': {'text/html':\n",
       "     \"<div style='background-color: #fdd'>\\n\"+\n",
       "     \"<p>\\n\"+\n",
       "     \"BokehJS does not appear to have successfully loaded. If loading BokehJS from CDN, this \\n\"+\n",
       "     \"may be due to a slow or bad network connection. Possible fixes:\\n\"+\n",
       "     \"</p>\\n\"+\n",
       "     \"<ul>\\n\"+\n",
       "     \"<li>re-rerun `output_notebook()` to attempt to load from CDN again, or</li>\\n\"+\n",
       "     \"<li>use INLINE resources instead, as so:</li>\\n\"+\n",
       "     \"</ul>\\n\"+\n",
       "     \"<code>\\n\"+\n",
       "     \"from bokeh.resources import INLINE\\n\"+\n",
       "     \"output_notebook(resources=INLINE)\\n\"+\n",
       "     \"</code>\\n\"+\n",
       "     \"</div>\"}};\n",
       "\n",
       "  function display_loaded() {\n",
       "    if (window.Bokeh !== undefined) {\n",
       "      var el = document.getElementById(\"82defdb3-837f-4ed2-aa25-88d0d6ee6f5c\");\n",
       "      el.textContent = \"BokehJS \" + Bokeh.version + \" successfully loaded.\";\n",
       "    } else if (Date.now() < window._bokeh_timeout) {\n",
       "      setTimeout(display_loaded, 100)\n",
       "    }\n",
       "  }\n",
       "\n",
       "  function run_callbacks() {\n",
       "    window._bokeh_onload_callbacks.forEach(function(callback) { callback() });\n",
       "    delete window._bokeh_onload_callbacks\n",
       "    console.info(\"Bokeh: all callbacks have finished\");\n",
       "  }\n",
       "\n",
       "  function load_libs(js_urls, callback) {\n",
       "    window._bokeh_onload_callbacks.push(callback);\n",
       "    if (window._bokeh_is_loading > 0) {\n",
       "      console.log(\"Bokeh: BokehJS is being loaded, scheduling callback at\", now());\n",
       "      return null;\n",
       "    }\n",
       "    if (js_urls == null || js_urls.length === 0) {\n",
       "      run_callbacks();\n",
       "      return null;\n",
       "    }\n",
       "    console.log(\"Bokeh: BokehJS not loaded, scheduling load and callback at\", now());\n",
       "    window._bokeh_is_loading = js_urls.length;\n",
       "    for (var i = 0; i < js_urls.length; i++) {\n",
       "      var url = js_urls[i];\n",
       "      var s = document.createElement('script');\n",
       "      s.src = url;\n",
       "      s.async = false;\n",
       "      s.onreadystatechange = s.onload = function() {\n",
       "        window._bokeh_is_loading--;\n",
       "        if (window._bokeh_is_loading === 0) {\n",
       "          console.log(\"Bokeh: all BokehJS libraries loaded\");\n",
       "          run_callbacks()\n",
       "        }\n",
       "      };\n",
       "      s.onerror = function() {\n",
       "        console.warn(\"failed to load library \" + url);\n",
       "      };\n",
       "      console.log(\"Bokeh: injecting script tag for BokehJS library: \", url);\n",
       "      document.getElementsByTagName(\"head\")[0].appendChild(s);\n",
       "    }\n",
       "  };var element = document.getElementById(\"82defdb3-837f-4ed2-aa25-88d0d6ee6f5c\");\n",
       "  if (element == null) {\n",
       "    console.log(\"Bokeh: ERROR: autoload.js configured with elementid '82defdb3-837f-4ed2-aa25-88d0d6ee6f5c' but no matching script tag was found. \")\n",
       "    return false;\n",
       "  }\n",
       "\n",
       "  var js_urls = [\"https://cdn.pydata.org/bokeh/release/bokeh-0.12.5.min.js\", \"https://cdn.pydata.org/bokeh/release/bokeh-widgets-0.12.5.min.js\"];\n",
       "\n",
       "  var inline_js = [\n",
       "    function(Bokeh) {\n",
       "      Bokeh.set_log_level(\"info\");\n",
       "    },\n",
       "    \n",
       "    function(Bokeh) {\n",
       "      \n",
       "    },\n",
       "    \n",
       "    function(Bokeh) {\n",
       "      \n",
       "      document.getElementById(\"82defdb3-837f-4ed2-aa25-88d0d6ee6f5c\").textContent = \"BokehJS is loading...\";\n",
       "    },\n",
       "    function(Bokeh) {\n",
       "      console.log(\"Bokeh: injecting CSS: https://cdn.pydata.org/bokeh/release/bokeh-0.12.5.min.css\");\n",
       "      Bokeh.embed.inject_css(\"https://cdn.pydata.org/bokeh/release/bokeh-0.12.5.min.css\");\n",
       "      console.log(\"Bokeh: injecting CSS: https://cdn.pydata.org/bokeh/release/bokeh-widgets-0.12.5.min.css\");\n",
       "      Bokeh.embed.inject_css(\"https://cdn.pydata.org/bokeh/release/bokeh-widgets-0.12.5.min.css\");\n",
       "    }\n",
       "  ];\n",
       "\n",
       "  function run_inline_js() {\n",
       "    \n",
       "    if ((window.Bokeh !== undefined) || (force === true)) {\n",
       "      for (var i = 0; i < inline_js.length; i++) {\n",
       "        inline_js[i](window.Bokeh);\n",
       "      }if (force === true) {\n",
       "        display_loaded();\n",
       "      }} else if (Date.now() < window._bokeh_timeout) {\n",
       "      setTimeout(run_inline_js, 100);\n",
       "    } else if (!window._bokeh_failed_load) {\n",
       "      console.log(\"Bokeh: BokehJS failed to load within specified timeout.\");\n",
       "      window._bokeh_failed_load = true;\n",
       "    } else if (force !== true) {\n",
       "      var cell = $(document.getElementById(\"82defdb3-837f-4ed2-aa25-88d0d6ee6f5c\")).parents('.cell').data().cell;\n",
       "      cell.output_area.append_execute_result(NB_LOAD_WARNING)\n",
       "    }\n",
       "\n",
       "  }\n",
       "\n",
       "  if (window._bokeh_is_loading === 0) {\n",
       "    console.log(\"Bokeh: BokehJS loaded, going straight to plotting\");\n",
       "    run_inline_js();\n",
       "  } else {\n",
       "    load_libs(js_urls, function() {\n",
       "      console.log(\"Bokeh: BokehJS plotting callback run at\", now());\n",
       "      run_inline_js();\n",
       "    });\n",
       "  }\n",
       "}(this));"
      ]
     },
     "metadata": {},
     "output_type": "display_data"
    }
   ],
   "source": [
    "output_notebook()"
   ]
  },
  {
   "cell_type": "code",
   "execution_count": 5,
   "metadata": {
    "collapsed": false
   },
   "outputs": [],
   "source": [
    "import json\n",
    "f1s_social = json.load(open('./scores/f1s_testv_svc.json'))"
   ]
  },
  {
   "cell_type": "code",
   "execution_count": 6,
   "metadata": {
    "collapsed": true
   },
   "outputs": [],
   "source": [
    "f1s_baseline = json.load(open('./scores/baseline/f1s_testv_svc.json'))"
   ]
  },
  {
   "cell_type": "code",
   "execution_count": 7,
   "metadata": {
    "collapsed": true
   },
   "outputs": [],
   "source": [
    "sorted_uids = [u for u, f in sorted(f1s_baseline.items(), key=lambda x:x[1])]\n",
    "indices = range(len(sorted_uids))"
   ]
  },
  {
   "cell_type": "code",
   "execution_count": 9,
   "metadata": {
    "collapsed": true
   },
   "outputs": [],
   "source": [
    "import numpy as np"
   ]
  },
  {
   "cell_type": "code",
   "execution_count": 10,
   "metadata": {
    "collapsed": false
   },
   "outputs": [],
   "source": [
    "f1s_b = np.array([f1s_baseline[sorted_uids[i]] for i in indices])\n",
    "f1s_s = np.array([f1s_social[sorted_uids[i]] for i in indices])"
   ]
  },
  {
   "cell_type": "code",
   "execution_count": 11,
   "metadata": {
    "collapsed": false
   },
   "outputs": [
    {
     "data": {
      "text/html": [
       "\n",
       "\n",
       "    <div class=\"bk-root\">\n",
       "        <div class=\"bk-plotdiv\" id=\"b8b4d0f8-916d-4a9b-a97e-0bc311bcf3ed\"></div>\n",
       "    </div>\n",
       "<script type=\"text/javascript\">\n",
       "  \n",
       "  (function(global) {\n",
       "    function now() {\n",
       "      return new Date();\n",
       "    }\n",
       "  \n",
       "    var force = false;\n",
       "  \n",
       "    if (typeof (window._bokeh_onload_callbacks) === \"undefined\" || force === true) {\n",
       "      window._bokeh_onload_callbacks = [];\n",
       "      window._bokeh_is_loading = undefined;\n",
       "    }\n",
       "  \n",
       "  \n",
       "    \n",
       "    if (typeof (window._bokeh_timeout) === \"undefined\" || force === true) {\n",
       "      window._bokeh_timeout = Date.now() + 0;\n",
       "      window._bokeh_failed_load = false;\n",
       "    }\n",
       "  \n",
       "    var NB_LOAD_WARNING = {'data': {'text/html':\n",
       "       \"<div style='background-color: #fdd'>\\n\"+\n",
       "       \"<p>\\n\"+\n",
       "       \"BokehJS does not appear to have successfully loaded. If loading BokehJS from CDN, this \\n\"+\n",
       "       \"may be due to a slow or bad network connection. Possible fixes:\\n\"+\n",
       "       \"</p>\\n\"+\n",
       "       \"<ul>\\n\"+\n",
       "       \"<li>re-rerun `output_notebook()` to attempt to load from CDN again, or</li>\\n\"+\n",
       "       \"<li>use INLINE resources instead, as so:</li>\\n\"+\n",
       "       \"</ul>\\n\"+\n",
       "       \"<code>\\n\"+\n",
       "       \"from bokeh.resources import INLINE\\n\"+\n",
       "       \"output_notebook(resources=INLINE)\\n\"+\n",
       "       \"</code>\\n\"+\n",
       "       \"</div>\"}};\n",
       "  \n",
       "    function display_loaded() {\n",
       "      if (window.Bokeh !== undefined) {\n",
       "        var el = document.getElementById(\"b8b4d0f8-916d-4a9b-a97e-0bc311bcf3ed\");\n",
       "        el.textContent = \"BokehJS \" + Bokeh.version + \" successfully loaded.\";\n",
       "      } else if (Date.now() < window._bokeh_timeout) {\n",
       "        setTimeout(display_loaded, 100)\n",
       "      }\n",
       "    }\n",
       "  \n",
       "    function run_callbacks() {\n",
       "      window._bokeh_onload_callbacks.forEach(function(callback) { callback() });\n",
       "      delete window._bokeh_onload_callbacks\n",
       "      console.info(\"Bokeh: all callbacks have finished\");\n",
       "    }\n",
       "  \n",
       "    function load_libs(js_urls, callback) {\n",
       "      window._bokeh_onload_callbacks.push(callback);\n",
       "      if (window._bokeh_is_loading > 0) {\n",
       "        console.log(\"Bokeh: BokehJS is being loaded, scheduling callback at\", now());\n",
       "        return null;\n",
       "      }\n",
       "      if (js_urls == null || js_urls.length === 0) {\n",
       "        run_callbacks();\n",
       "        return null;\n",
       "      }\n",
       "      console.log(\"Bokeh: BokehJS not loaded, scheduling load and callback at\", now());\n",
       "      window._bokeh_is_loading = js_urls.length;\n",
       "      for (var i = 0; i < js_urls.length; i++) {\n",
       "        var url = js_urls[i];\n",
       "        var s = document.createElement('script');\n",
       "        s.src = url;\n",
       "        s.async = false;\n",
       "        s.onreadystatechange = s.onload = function() {\n",
       "          window._bokeh_is_loading--;\n",
       "          if (window._bokeh_is_loading === 0) {\n",
       "            console.log(\"Bokeh: all BokehJS libraries loaded\");\n",
       "            run_callbacks()\n",
       "          }\n",
       "        };\n",
       "        s.onerror = function() {\n",
       "          console.warn(\"failed to load library \" + url);\n",
       "        };\n",
       "        console.log(\"Bokeh: injecting script tag for BokehJS library: \", url);\n",
       "        document.getElementsByTagName(\"head\")[0].appendChild(s);\n",
       "      }\n",
       "    };var element = document.getElementById(\"b8b4d0f8-916d-4a9b-a97e-0bc311bcf3ed\");\n",
       "    if (element == null) {\n",
       "      console.log(\"Bokeh: ERROR: autoload.js configured with elementid 'b8b4d0f8-916d-4a9b-a97e-0bc311bcf3ed' but no matching script tag was found. \")\n",
       "      return false;\n",
       "    }\n",
       "  \n",
       "    var js_urls = [];\n",
       "  \n",
       "    var inline_js = [\n",
       "      function(Bokeh) {\n",
       "        (function() {\n",
       "          var fn = function() {\n",
       "            var docs_json = {\"c59b13e2-d101-4103-af33-c10683c3ce77\":{\"roots\":{\"references\":[{\"attributes\":{\"axis_label\":\"puntaje f1\",\"formatter\":{\"id\":\"f93bf616-9734-4d8d-bb8c-8ef3ac7fe297\",\"type\":\"BasicTickFormatter\"},\"plot\":{\"id\":\"9559b445-e7a4-430b-b7c8-6d63e0548589\",\"subtype\":\"Chart\",\"type\":\"Plot\"},\"ticker\":{\"id\":\"ec8d7bf7-3836-47de-9a06-4bf1dad583c7\",\"type\":\"BasicTicker\"}},\"id\":\"6070cad8-385a-4217-bbb8-a08ab5f07215\",\"type\":\"LinearAxis\"},{\"attributes\":{\"overlay\":{\"id\":\"f35bfeb3-114b-46bf-8b79-e5ce714a608b\",\"type\":\"BoxAnnotation\"},\"plot\":{\"id\":\"9559b445-e7a4-430b-b7c8-6d63e0548589\",\"subtype\":\"Chart\",\"type\":\"Plot\"}},\"id\":\"03842794-c63f-4be7-8f94-43539347eeb5\",\"type\":\"BoxZoomTool\"},{\"attributes\":{\"callback\":null,\"end\":212.3,\"start\":-19.3},\"id\":\"bb01a3f7-be43-4042-b94e-2fdf8caa7d80\",\"type\":\"Range1d\"},{\"attributes\":{\"line_color\":{\"value\":\"#f22c40\"},\"line_width\":{\"value\":2},\"x\":{\"field\":\"x_values\"},\"y\":{\"field\":\"y_values\"}},\"id\":\"6d65b7a4-cf45-4da5-a594-85a82f185d04\",\"type\":\"Line\"},{\"attributes\":{\"plot\":{\"id\":\"9559b445-e7a4-430b-b7c8-6d63e0548589\",\"subtype\":\"Chart\",\"type\":\"Plot\"}},\"id\":\"fb668e0e-071c-4c49-8e4b-3b5cf8de67ff\",\"type\":\"ResetTool\"},{\"attributes\":{\"callback\":null,\"column_names\":[\"x_values\",\"y_values\"],\"data\":{\"chart_index\":[{\"series\":\"social\"},{\"series\":\"social\"},{\"series\":\"social\"},{\"series\":\"social\"},{\"series\":\"social\"},{\"series\":\"social\"},{\"series\":\"social\"},{\"series\":\"social\"},{\"series\":\"social\"},{\"series\":\"social\"},{\"series\":\"social\"},{\"series\":\"social\"},{\"series\":\"social\"},{\"series\":\"social\"},{\"series\":\"social\"},{\"series\":\"social\"},{\"series\":\"social\"},{\"series\":\"social\"},{\"series\":\"social\"},{\"series\":\"social\"},{\"series\":\"social\"},{\"series\":\"social\"},{\"series\":\"social\"},{\"series\":\"social\"},{\"series\":\"social\"},{\"series\":\"social\"},{\"series\":\"social\"},{\"series\":\"social\"},{\"series\":\"social\"},{\"series\":\"social\"},{\"series\":\"social\"},{\"series\":\"social\"},{\"series\":\"social\"},{\"series\":\"social\"},{\"series\":\"social\"},{\"series\":\"social\"},{\"series\":\"social\"},{\"series\":\"social\"},{\"series\":\"social\"},{\"series\":\"social\"},{\"series\":\"social\"},{\"series\":\"social\"},{\"series\":\"social\"},{\"series\":\"social\"},{\"series\":\"social\"},{\"series\":\"social\"},{\"series\":\"social\"},{\"series\":\"social\"},{\"series\":\"social\"},{\"series\":\"social\"},{\"series\":\"social\"},{\"series\":\"social\"},{\"series\":\"social\"},{\"series\":\"social\"},{\"series\":\"social\"},{\"series\":\"social\"},{\"series\":\"social\"},{\"series\":\"social\"},{\"series\":\"social\"},{\"series\":\"social\"},{\"series\":\"social\"},{\"series\":\"social\"},{\"series\":\"social\"},{\"series\":\"social\"},{\"series\":\"social\"},{\"series\":\"social\"},{\"series\":\"social\"},{\"series\":\"social\"},{\"series\":\"social\"},{\"series\":\"social\"},{\"series\":\"social\"},{\"series\":\"social\"},{\"series\":\"social\"},{\"series\":\"social\"},{\"series\":\"social\"},{\"series\":\"social\"},{\"series\":\"social\"},{\"series\":\"social\"},{\"series\":\"social\"},{\"series\":\"social\"},{\"series\":\"social\"},{\"series\":\"social\"},{\"series\":\"social\"},{\"series\":\"social\"},{\"series\":\"social\"},{\"series\":\"social\"},{\"series\":\"social\"},{\"series\":\"social\"},{\"series\":\"social\"},{\"series\":\"social\"},{\"series\":\"social\"},{\"series\":\"social\"},{\"series\":\"social\"},{\"series\":\"social\"},{\"series\":\"social\"},{\"series\":\"social\"},{\"series\":\"social\"},{\"series\":\"social\"},{\"series\":\"social\"},{\"series\":\"social\"},{\"series\":\"social\"},{\"series\":\"social\"},{\"series\":\"social\"},{\"series\":\"social\"},{\"series\":\"social\"},{\"series\":\"social\"},{\"series\":\"social\"},{\"series\":\"social\"},{\"series\":\"social\"},{\"series\":\"social\"},{\"series\":\"social\"},{\"series\":\"social\"},{\"series\":\"social\"},{\"series\":\"social\"},{\"series\":\"social\"},{\"series\":\"social\"},{\"series\":\"social\"},{\"series\":\"social\"},{\"series\":\"social\"},{\"series\":\"social\"},{\"series\":\"social\"},{\"series\":\"social\"},{\"series\":\"social\"},{\"series\":\"social\"},{\"series\":\"social\"},{\"series\":\"social\"},{\"series\":\"social\"},{\"series\":\"social\"},{\"series\":\"social\"},{\"series\":\"social\"},{\"series\":\"social\"},{\"series\":\"social\"},{\"series\":\"social\"},{\"series\":\"social\"},{\"series\":\"social\"},{\"series\":\"social\"},{\"series\":\"social\"},{\"series\":\"social\"},{\"series\":\"social\"},{\"series\":\"social\"},{\"series\":\"social\"},{\"series\":\"social\"},{\"series\":\"social\"},{\"series\":\"social\"},{\"series\":\"social\"},{\"series\":\"social\"},{\"series\":\"social\"},{\"series\":\"social\"},{\"series\":\"social\"},{\"series\":\"social\"},{\"series\":\"social\"},{\"series\":\"social\"},{\"series\":\"social\"},{\"series\":\"social\"},{\"series\":\"social\"},{\"series\":\"social\"},{\"series\":\"social\"},{\"series\":\"social\"},{\"series\":\"social\"},{\"series\":\"social\"},{\"series\":\"social\"},{\"series\":\"social\"},{\"series\":\"social\"},{\"series\":\"social\"},{\"series\":\"social\"},{\"series\":\"social\"},{\"series\":\"social\"},{\"series\":\"social\"},{\"series\":\"social\"},{\"series\":\"social\"},{\"series\":\"social\"},{\"series\":\"social\"},{\"series\":\"social\"},{\"series\":\"social\"},{\"series\":\"social\"},{\"series\":\"social\"},{\"series\":\"social\"},{\"series\":\"social\"},{\"series\":\"social\"},{\"series\":\"social\"},{\"series\":\"social\"},{\"series\":\"social\"},{\"series\":\"social\"},{\"series\":\"social\"},{\"series\":\"social\"},{\"series\":\"social\"},{\"series\":\"social\"},{\"series\":\"social\"},{\"series\":\"social\"},{\"series\":\"social\"},{\"series\":\"social\"},{\"series\":\"social\"},{\"series\":\"social\"},{\"series\":\"social\"}],\"series\":[\"social\",\"social\",\"social\",\"social\",\"social\",\"social\",\"social\",\"social\",\"social\",\"social\",\"social\",\"social\",\"social\",\"social\",\"social\",\"social\",\"social\",\"social\",\"social\",\"social\",\"social\",\"social\",\"social\",\"social\",\"social\",\"social\",\"social\",\"social\",\"social\",\"social\",\"social\",\"social\",\"social\",\"social\",\"social\",\"social\",\"social\",\"social\",\"social\",\"social\",\"social\",\"social\",\"social\",\"social\",\"social\",\"social\",\"social\",\"social\",\"social\",\"social\",\"social\",\"social\",\"social\",\"social\",\"social\",\"social\",\"social\",\"social\",\"social\",\"social\",\"social\",\"social\",\"social\",\"social\",\"social\",\"social\",\"social\",\"social\",\"social\",\"social\",\"social\",\"social\",\"social\",\"social\",\"social\",\"social\",\"social\",\"social\",\"social\",\"social\",\"social\",\"social\",\"social\",\"social\",\"social\",\"social\",\"social\",\"social\",\"social\",\"social\",\"social\",\"social\",\"social\",\"social\",\"social\",\"social\",\"social\",\"social\",\"social\",\"social\",\"social\",\"social\",\"social\",\"social\",\"social\",\"social\",\"social\",\"social\",\"social\",\"social\",\"social\",\"social\",\"social\",\"social\",\"social\",\"social\",\"social\",\"social\",\"social\",\"social\",\"social\",\"social\",\"social\",\"social\",\"social\",\"social\",\"social\",\"social\",\"social\",\"social\",\"social\",\"social\",\"social\",\"social\",\"social\",\"social\",\"social\",\"social\",\"social\",\"social\",\"social\",\"social\",\"social\",\"social\",\"social\",\"social\",\"social\",\"social\",\"social\",\"social\",\"social\",\"social\",\"social\",\"social\",\"social\",\"social\",\"social\",\"social\",\"social\",\"social\",\"social\",\"social\",\"social\",\"social\",\"social\",\"social\",\"social\",\"social\",\"social\",\"social\",\"social\",\"social\",\"social\",\"social\",\"social\",\"social\",\"social\",\"social\",\"social\",\"social\",\"social\",\"social\",\"social\",\"social\",\"social\",\"social\",\"social\",\"social\",\"social\",\"social\",\"social\",\"social\",\"social\",\"social\"],\"x_values\":[0,1,2,3,4,5,6,7,8,9,10,11,12,13,14,15,16,17,18,19,20,21,22,23,24,25,26,27,28,29,30,31,32,33,34,35,36,37,38,39,40,41,42,43,44,45,46,47,48,49,50,51,52,53,54,55,56,57,58,59,60,61,62,63,64,65,66,67,68,69,70,71,72,73,74,75,76,77,78,79,80,81,82,83,84,85,86,87,88,89,90,91,92,93,94,95,96,97,98,99,100,101,102,103,104,105,106,107,108,109,110,111,112,113,114,115,116,117,118,119,120,121,122,123,124,125,126,127,128,129,130,131,132,133,134,135,136,137,138,139,140,141,142,143,144,145,146,147,148,149,150,151,152,153,154,155,156,157,158,159,160,161,162,163,164,165,166,167,168,169,170,171,172,173,174,175,176,177,178,179,180,181,182,183,184,185,186,187,188,189,190,191,192,193],\"y_values\":{\"__ndarray__\":\"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\",\"dtype\":\"float64\",\"shape\":[194]}}},\"id\":\"64c86827-c45c-4332-8eac-44cc3471e64d\",\"type\":\"ColumnDataSource\"},{\"attributes\":{\"line_color\":{\"value\":\"#5ab738\"},\"line_dash\":[6],\"line_width\":{\"value\":2},\"x\":{\"field\":\"x_values\"},\"y\":{\"field\":\"y_values\"}},\"id\":\"59dbebfb-989c-4b95-bf59-8738fa8fa05a\",\"type\":\"Line\"},{\"attributes\":{\"label\":{\"value\":\"baseline\"},\"renderers\":[{\"id\":\"50c8cb3c-4c16-4f7c-a9ab-87cf696cb913\",\"type\":\"GlyphRenderer\"}]},\"id\":\"36ff5002-1b8b-487f-85f5-a416a5912a7b\",\"type\":\"LegendItem\"},{\"attributes\":{\"bottom_units\":\"screen\",\"fill_alpha\":{\"value\":0.5},\"fill_color\":{\"value\":\"lightgrey\"},\"left_units\":\"screen\",\"level\":\"overlay\",\"line_alpha\":{\"value\":1.0},\"line_color\":{\"value\":\"black\"},\"line_dash\":[4,4],\"line_width\":{\"value\":2},\"plot\":null,\"render_mode\":\"css\",\"right_units\":\"screen\",\"top_units\":\"screen\"},\"id\":\"f35bfeb3-114b-46bf-8b79-e5ce714a608b\",\"type\":\"BoxAnnotation\"},{\"attributes\":{\"active_drag\":\"auto\",\"active_scroll\":\"auto\",\"active_tap\":\"auto\",\"tools\":[{\"id\":\"2bcb81de-36ac-4d94-b44c-a9aed16ec97f\",\"type\":\"PanTool\"},{\"id\":\"3b1eea7f-2db5-4d5e-ad22-2a665c1bfa85\",\"type\":\"WheelZoomTool\"},{\"id\":\"03842794-c63f-4be7-8f94-43539347eeb5\",\"type\":\"BoxZoomTool\"},{\"id\":\"5d8055e8-ce8d-459f-a5f1-12151cb4f47b\",\"type\":\"SaveTool\"},{\"id\":\"fb668e0e-071c-4c49-8e4b-3b5cf8de67ff\",\"type\":\"ResetTool\"},{\"id\":\"2af5b2e1-803d-4184-a9d5-74b1d4d88cd1\",\"type\":\"HelpTool\"}]},\"id\":\"791f4db9-6186-4a39-b7d5-c3ed1afc7f2a\",\"type\":\"Toolbar\"},{\"attributes\":{\"items\":[{\"id\":\"0b3ea44b-6e6f-4eda-9f26-be2e48edc154\",\"type\":\"LegendItem\"},{\"id\":\"36ff5002-1b8b-487f-85f5-a416a5912a7b\",\"type\":\"LegendItem\"}],\"location\":\"top_left\",\"plot\":{\"id\":\"9559b445-e7a4-430b-b7c8-6d63e0548589\",\"subtype\":\"Chart\",\"type\":\"Plot\"}},\"id\":\"26ee8aca-653c-4280-98de-7165adbf12f4\",\"type\":\"Legend\"},{\"attributes\":{\"plot\":{\"id\":\"9559b445-e7a4-430b-b7c8-6d63e0548589\",\"subtype\":\"Chart\",\"type\":\"Plot\"},\"ticker\":{\"id\":\"cbf0f4ac-3011-443f-a16d-1776b316bfb8\",\"type\":\"BasicTicker\"}},\"id\":\"a27d95a4-f56e-4967-a115-edf6ea8cb1f0\",\"type\":\"Grid\"},{\"attributes\":{\"below\":[{\"id\":\"17dce328-c3fb-41c5-9c84-d52f737566d4\",\"type\":\"LinearAxis\"}],\"css_classes\":null,\"left\":[{\"id\":\"6070cad8-385a-4217-bbb8-a08ab5f07215\",\"type\":\"LinearAxis\"}],\"renderers\":[{\"id\":\"f35bfeb3-114b-46bf-8b79-e5ce714a608b\",\"type\":\"BoxAnnotation\"},{\"id\":\"1e69dc16-c6c9-447b-871b-1a9254b69f9e\",\"type\":\"GlyphRenderer\"},{\"id\":\"50c8cb3c-4c16-4f7c-a9ab-87cf696cb913\",\"type\":\"GlyphRenderer\"},{\"id\":\"26ee8aca-653c-4280-98de-7165adbf12f4\",\"type\":\"Legend\"},{\"id\":\"17dce328-c3fb-41c5-9c84-d52f737566d4\",\"type\":\"LinearAxis\"},{\"id\":\"6070cad8-385a-4217-bbb8-a08ab5f07215\",\"type\":\"LinearAxis\"},{\"id\":\"a27d95a4-f56e-4967-a115-edf6ea8cb1f0\",\"type\":\"Grid\"},{\"id\":\"0089ab78-fc4a-472b-a51d-83782b8ff85e\",\"type\":\"Grid\"}],\"title\":{\"id\":\"d0325605-2253-4de3-aecd-d20fafc31bc2\",\"type\":\"Title\"},\"tool_events\":{\"id\":\"267247e7-f49e-41aa-a92b-f1dfe1dfb427\",\"type\":\"ToolEvents\"},\"toolbar\":{\"id\":\"791f4db9-6186-4a39-b7d5-c3ed1afc7f2a\",\"type\":\"Toolbar\"},\"x_mapper_type\":\"auto\",\"x_range\":{\"id\":\"bb01a3f7-be43-4042-b94e-2fdf8caa7d80\",\"type\":\"Range1d\"},\"y_mapper_type\":\"auto\",\"y_range\":{\"id\":\"e0e8001d-1cbe-46d1-9d86-2fdd2b91c413\",\"type\":\"Range1d\"}},\"id\":\"9559b445-e7a4-430b-b7c8-6d63e0548589\",\"subtype\":\"Chart\",\"type\":\"Plot\"},{\"attributes\":{},\"id\":\"cbf0f4ac-3011-443f-a16d-1776b316bfb8\",\"type\":\"BasicTicker\"},{\"attributes\":{\"dimension\":1,\"plot\":{\"id\":\"9559b445-e7a4-430b-b7c8-6d63e0548589\",\"subtype\":\"Chart\",\"type\":\"Plot\"},\"ticker\":{\"id\":\"ec8d7bf7-3836-47de-9a06-4bf1dad583c7\",\"type\":\"BasicTicker\"}},\"id\":\"0089ab78-fc4a-472b-a51d-83782b8ff85e\",\"type\":\"Grid\"},{\"attributes\":{},\"id\":\"f93bf616-9734-4d8d-bb8c-8ef3ac7fe297\",\"type\":\"BasicTickFormatter\"},{\"attributes\":{\"callback\":null,\"end\":1.1,\"start\":-0.1},\"id\":\"e0e8001d-1cbe-46d1-9d86-2fdd2b91c413\",\"type\":\"Range1d\"},{\"attributes\":{},\"id\":\"4709c929-c617-4126-9777-9f5a5cbb53a7\",\"type\":\"BasicTickFormatter\"},{\"attributes\":{\"axis_label\":\"usuario\",\"formatter\":{\"id\":\"4709c929-c617-4126-9777-9f5a5cbb53a7\",\"type\":\"BasicTickFormatter\"},\"plot\":{\"id\":\"9559b445-e7a4-430b-b7c8-6d63e0548589\",\"subtype\":\"Chart\",\"type\":\"Plot\"},\"ticker\":{\"id\":\"cbf0f4ac-3011-443f-a16d-1776b316bfb8\",\"type\":\"BasicTicker\"}},\"id\":\"17dce328-c3fb-41c5-9c84-d52f737566d4\",\"type\":\"LinearAxis\"},{\"attributes\":{\"plot\":null,\"text\":null},\"id\":\"d0325605-2253-4de3-aecd-d20fafc31bc2\",\"type\":\"Title\"},{\"attributes\":{\"data_source\":{\"id\":\"64c86827-c45c-4332-8eac-44cc3471e64d\",\"type\":\"ColumnDataSource\"},\"glyph\":{\"id\":\"59dbebfb-989c-4b95-bf59-8738fa8fa05a\",\"type\":\"Line\"},\"hover_glyph\":null,\"muted_glyph\":null},\"id\":\"1e69dc16-c6c9-447b-871b-1a9254b69f9e\",\"type\":\"GlyphRenderer\"},{\"attributes\":{},\"id\":\"ec8d7bf7-3836-47de-9a06-4bf1dad583c7\",\"type\":\"BasicTicker\"},{\"attributes\":{\"callback\":null,\"column_names\":[\"x_values\",\"y_values\"],\"data\":{\"chart_index\":[{\"series\":\"baseline\"},{\"series\":\"baseline\"},{\"series\":\"baseline\"},{\"series\":\"baseline\"},{\"series\":\"baseline\"},{\"series\":\"baseline\"},{\"series\":\"baseline\"},{\"series\":\"baseline\"},{\"series\":\"baseline\"},{\"series\":\"baseline\"},{\"series\":\"baseline\"},{\"series\":\"baseline\"},{\"series\":\"baseline\"},{\"series\":\"baseline\"},{\"series\":\"baseline\"},{\"series\":\"baseline\"},{\"series\":\"baseline\"},{\"series\":\"baseline\"},{\"series\":\"baseline\"},{\"series\":\"baseline\"},{\"series\":\"baseline\"},{\"series\":\"baseline\"},{\"series\":\"baseline\"},{\"series\":\"baseline\"},{\"series\":\"baseline\"},{\"series\":\"baseline\"},{\"series\":\"baseline\"},{\"series\":\"baseline\"},{\"series\":\"baseline\"},{\"series\":\"baseline\"},{\"series\":\"baseline\"},{\"series\":\"baseline\"},{\"series\":\"baseline\"},{\"series\":\"baseline\"},{\"series\":\"baseline\"},{\"series\":\"baseline\"},{\"series\":\"baseline\"},{\"series\":\"baseline\"},{\"series\":\"baseline\"},{\"series\":\"baseline\"},{\"series\":\"baseline\"},{\"series\":\"baseline\"},{\"series\":\"baseline\"},{\"series\":\"baseline\"},{\"series\":\"baseline\"},{\"series\":\"baseline\"},{\"series\":\"baseline\"},{\"series\":\"baseline\"},{\"series\":\"baseline\"},{\"series\":\"baseline\"},{\"series\":\"baseline\"},{\"series\":\"baseline\"},{\"series\":\"baseline\"},{\"series\":\"baseline\"},{\"series\":\"baseline\"},{\"series\":\"baseline\"},{\"series\":\"baseline\"},{\"series\":\"baseline\"},{\"series\":\"baseline\"},{\"series\":\"baseline\"},{\"series\":\"baseline\"},{\"series\":\"baseline\"},{\"series\":\"baseline\"},{\"series\":\"baseline\"},{\"series\":\"baseline\"},{\"series\":\"baseline\"},{\"series\":\"baseline\"},{\"series\":\"baseline\"},{\"series\":\"baseline\"},{\"series\":\"baseline\"},{\"series\":\"baseline\"},{\"series\":\"baseline\"},{\"series\":\"baseline\"},{\"series\":\"baseline\"},{\"series\":\"baseline\"},{\"series\":\"baseline\"},{\"series\":\"baseline\"},{\"series\":\"baseline\"},{\"series\":\"baseline\"},{\"series\":\"baseline\"},{\"series\":\"baseline\"},{\"series\":\"baseline\"},{\"series\":\"baseline\"},{\"series\":\"baseline\"},{\"series\":\"baseline\"},{\"series\":\"baseline\"},{\"series\":\"baseline\"},{\"series\":\"baseline\"},{\"series\":\"baseline\"},{\"series\":\"baseline\"},{\"series\":\"baseline\"},{\"series\":\"baseline\"},{\"series\":\"baseline\"},{\"series\":\"baseline\"},{\"series\":\"baseline\"},{\"series\":\"baseline\"},{\"series\":\"baseline\"},{\"series\":\"baseline\"},{\"series\":\"baseline\"},{\"series\":\"baseline\"},{\"series\":\"baseline\"},{\"series\":\"baseline\"},{\"series\":\"baseline\"},{\"series\":\"baseline\"},{\"series\":\"baseline\"},{\"series\":\"baseline\"},{\"series\":\"baseline\"},{\"series\":\"baseline\"},{\"series\":\"baseline\"},{\"series\":\"baseline\"},{\"series\":\"baseline\"},{\"series\":\"baseline\"},{\"series\":\"baseline\"},{\"series\":\"baseline\"},{\"series\":\"baseline\"},{\"series\":\"baseline\"},{\"series\":\"baseline\"},{\"series\":\"baseline\"},{\"series\":\"baseline\"},{\"series\":\"baseline\"},{\"series\":\"baseline\"},{\"series\":\"baseline\"},{\"series\":\"baseline\"},{\"series\":\"baseline\"},{\"series\":\"baseline\"},{\"series\":\"baseline\"},{\"series\":\"baseline\"},{\"series\":\"baseline\"},{\"series\":\"baseline\"},{\"series\":\"baseline\"},{\"series\":\"baseline\"},{\"series\":\"baseline\"},{\"series\":\"baseline\"},{\"series\":\"baseline\"},{\"series\":\"baseline\"},{\"series\":\"baseline\"},{\"series\":\"baseline\"},{\"series\":\"baseline\"},{\"series\":\"baseline\"},{\"series\":\"baseline\"},{\"series\":\"baseline\"},{\"series\":\"baseline\"},{\"series\":\"baseline\"},{\"series\":\"baseline\"},{\"series\":\"baseline\"},{\"series\":\"baseline\"},{\"series\":\"baseline\"},{\"series\":\"baseline\"},{\"series\":\"baseline\"},{\"series\":\"baseline\"},{\"series\":\"baseline\"},{\"series\":\"baseline\"},{\"series\":\"baseline\"},{\"series\":\"baseline\"},{\"series\":\"baseline\"},{\"series\":\"baseline\"},{\"series\":\"baseline\"},{\"series\":\"baseline\"},{\"series\":\"baseline\"},{\"series\":\"baseline\"},{\"series\":\"baseline\"},{\"series\":\"baseline\"},{\"series\":\"baseline\"},{\"series\":\"baseline\"},{\"series\":\"baseline\"},{\"series\":\"baseline\"},{\"series\":\"baseline\"},{\"series\":\"baseline\"},{\"series\":\"baseline\"},{\"series\":\"baseline\"},{\"series\":\"baseline\"},{\"series\":\"baseline\"},{\"series\":\"baseline\"},{\"series\":\"baseline\"},{\"series\":\"baseline\"},{\"series\":\"baseline\"},{\"series\":\"baseline\"},{\"series\":\"baseline\"},{\"series\":\"baseline\"},{\"series\":\"baseline\"},{\"series\":\"baseline\"},{\"series\":\"baseline\"},{\"series\":\"baseline\"},{\"series\":\"baseline\"},{\"series\":\"baseline\"},{\"series\":\"baseline\"},{\"series\":\"baseline\"},{\"series\":\"baseline\"},{\"series\":\"baseline\"},{\"series\":\"baseline\"},{\"series\":\"baseline\"},{\"series\":\"baseline\"},{\"series\":\"baseline\"},{\"series\":\"baseline\"}],\"series\":[\"baseline\",\"baseline\",\"baseline\",\"baseline\",\"baseline\",\"baseline\",\"baseline\",\"baseline\",\"baseline\",\"baseline\",\"baseline\",\"baseline\",\"baseline\",\"baseline\",\"baseline\",\"baseline\",\"baseline\",\"baseline\",\"baseline\",\"baseline\",\"baseline\",\"baseline\",\"baseline\",\"baseline\",\"baseline\",\"baseline\",\"baseline\",\"baseline\",\"baseline\",\"baseline\",\"baseline\",\"baseline\",\"baseline\",\"baseline\",\"baseline\",\"baseline\",\"baseline\",\"baseline\",\"baseline\",\"baseline\",\"baseline\",\"baseline\",\"baseline\",\"baseline\",\"baseline\",\"baseline\",\"baseline\",\"baseline\",\"baseline\",\"baseline\",\"baseline\",\"baseline\",\"baseline\",\"baseline\",\"baseline\",\"baseline\",\"baseline\",\"baseline\",\"baseline\",\"baseline\",\"baseline\",\"baseline\",\"baseline\",\"baseline\",\"baseline\",\"baseline\",\"baseline\",\"baseline\",\"baseline\",\"baseline\",\"baseline\",\"baseline\",\"baseline\",\"baseline\",\"baseline\",\"baseline\",\"baseline\",\"baseline\",\"baseline\",\"baseline\",\"baseline\",\"baseline\",\"baseline\",\"baseline\",\"baseline\",\"baseline\",\"baseline\",\"baseline\",\"baseline\",\"baseline\",\"baseline\",\"baseline\",\"baseline\",\"baseline\",\"baseline\",\"baseline\",\"baseline\",\"baseline\",\"baseline\",\"baseline\",\"baseline\",\"baseline\",\"baseline\",\"baseline\",\"baseline\",\"baseline\",\"baseline\",\"baseline\",\"baseline\",\"baseline\",\"baseline\",\"baseline\",\"baseline\",\"baseline\",\"baseline\",\"baseline\",\"baseline\",\"baseline\",\"baseline\",\"baseline\",\"baseline\",\"baseline\",\"baseline\",\"baseline\",\"baseline\",\"baseline\",\"baseline\",\"baseline\",\"baseline\",\"baseline\",\"baseline\",\"baseline\",\"baseline\",\"baseline\",\"baseline\",\"baseline\",\"baseline\",\"baseline\",\"baseline\",\"baseline\",\"baseline\",\"baseline\",\"baseline\",\"baseline\",\"baseline\",\"baseline\",\"baseline\",\"baseline\",\"baseline\",\"baseline\",\"baseline\",\"baseline\",\"baseline\",\"baseline\",\"baseline\",\"baseline\",\"baseline\",\"baseline\",\"baseline\",\"baseline\",\"baseline\",\"baseline\",\"baseline\",\"baseline\",\"baseline\",\"baseline\",\"baseline\",\"baseline\",\"baseline\",\"baseline\",\"baseline\",\"baseline\",\"baseline\",\"baseline\",\"baseline\",\"baseline\",\"baseline\",\"baseline\",\"baseline\",\"baseline\",\"baseline\",\"baseline\",\"baseline\",\"baseline\",\"baseline\",\"baseline\",\"baseline\",\"baseline\",\"baseline\",\"baseline\",\"baseline\",\"baseline\",\"baseline\",\"baseline\"],\"x_values\":[0,1,2,3,4,5,6,7,8,9,10,11,12,13,14,15,16,17,18,19,20,21,22,23,24,25,26,27,28,29,30,31,32,33,34,35,36,37,38,39,40,41,42,43,44,45,46,47,48,49,50,51,52,53,54,55,56,57,58,59,60,61,62,63,64,65,66,67,68,69,70,71,72,73,74,75,76,77,78,79,80,81,82,83,84,85,86,87,88,89,90,91,92,93,94,95,96,97,98,99,100,101,102,103,104,105,106,107,108,109,110,111,112,113,114,115,116,117,118,119,120,121,122,123,124,125,126,127,128,129,130,131,132,133,134,135,136,137,138,139,140,141,142,143,144,145,146,147,148,149,150,151,152,153,154,155,156,157,158,159,160,161,162,163,164,165,166,167,168,169,170,171,172,173,174,175,176,177,178,179,180,181,182,183,184,185,186,187,188,189,190,191,192,193],\"y_values\":{\"__ndarray__\":\"AAAAAAAAAAAQBEEQBEGgPxEEQRAEQaA/JngwT9S/oT+ZNGLZc6SiP8XEEeEiD6U/YGta4Neapj/dYVu55lSnP8tdMa5b+qc/GaRBGqRBqj/hehSuR+GqP23UdzbqO6s/QenJr8SArT98EboXoXuxP+oZkSyTnrE/lnsaYbmnsT+SJEmSJEmyP+miiy666LI/OL3pTW96sz/+8KXjVQO0P7RD4MYyKLU/VVVVVVVVtT9sos1KH3W1P9uVqF2J2rU/UjcHs9+ttj+3bNmyZcu2P3CBC1zgArc/XwWzpBwQuT+ZmZmZmZm5PwKh5E7Rwrk/rSYhir/IuT8vuuiiiy66PxukQRqkQbo/hrS98paEuj+9Y2pg75i6PyivobyG8ro/TxvotIFOuz+IG2644Ya7P+DAgQMHDrw/XHTRRRddvD8dx3Ecx3G8PyE1wXgr+7w/532KS4ZgvT/e3d3d3d29PxjnoWN4cb4/uR6F61G4vj9JWO5phOW+P037yRLYtL8/zxpyLTsFwD9OAnGh5iTAP5AGaZAGacA/kQZpkAZpwD9uEJzKhG3AP/Hw8PDw8MA/ERERERERwT9HfWejvrPBP8wRKYb6y8E/bfdWaYpfwj+fEuQpQZ7CP7wStStRu8I/bzBFPusGwz8kuzZRsmvDP6A4UBwoDsQ/n0Ls30tbxD9/3Lq8A47EP1q/UqDWr8Q/59DrG1XbxD/JEKyjzfvEP7RD4MYyKMU/VVVVVVVVxT9VVVVVVVXFP1ZVVVVVVcU/rg3T3AV/xT9ZyUpWspLFP6uSiiyFmMU/0HBS9+WxxT8AAAAAAADGP3waYbmnEcY/fBphuacRxj+MxWKxWCzGP/bdUuhPMsY/F+J1PnPfxj/lF0t+seTHP+qj1SRE8cc/HpTUYs09yD/EiBEjRozIP3YJl+cvBck/NZTXUF5DyT/g6db8sEjJP5eeb8WNzck/n1HiZ5T4yT8CS3r50xbKPyaaaKKJJso/YbmnEZZ7yj8pr6G8hvLKP2zUdzbqO8s/0LrBFPmsyz8fwX0E9xHMP1IdYgOfMcw/HcdxHMdxzD/qa4uDBSXNP7xIVuGcPM0/pTjXMYpzzT9xR9wRd8TNP9OdajcE0c0/hP1WG0PTzT8qSuMjE+jNPx7qoR7qoc4/sMfoZzXEzj9EAR2b74bPP312SmF7K9A/kAZpkAZp0D9QB3VQB3XQP3wH8R3Ed9A/hQoVKlSo0D+76KKLLrrQPzEMwzAMw9A/rcs74EjR0D/MRKGbkurQPwai0pE9A9E/N2CopmMu0T8UoQhFKELRP+MTSCXnZdE/dNFFF1100T+NyEZkI7LRPw5IkeiHuNE/5JFHHnnk0T+SavSRavTRP1wljWrLVdI/i5XhG1Fg0j+VUkoppZTSP7nV2PTwzdI/egL/mfXQ0j8S7RLtEu3SP5o0adKkSdM/ZZNNNtlk0z/jOI7jOI7TPxQ7sRM7sdM/Css9jbDc0z8mQ7CONu/TP+Q5lRSQ8NM/fTgNoZJu1D9VH0CXQa7UP4JtrHWf5NQ/F341JtID1T+T87KITyDVPzmVCdsgONU/NVdzNVdz1T8KcVZ+QpzVPwRE56t7pNU/1lzN1VzN1T/WXM3VXM3VPwge6a/nKtY/CR7pr+cq1j9kIQtZyELWP5eWlpaWltY/YrXegjKs1j8tJx3gmsbWP7JCCmQPFtc/RXMZzWU01z+N/kHF8DTXPxd6oRd6odc/96V9aV/a1z+yFUHDSd3XP////////9c/AAAAAAAA2D8oDa+P2kjYP4P3rZHVZdg/hznMYQ5z2D8l7og74o7YP9jq2SFwY9k/rQp+Arei2T+aXwaaXwbaP71jamDvmNo/eqBydgu/2j9XSqI6EDnbPwh8R/l4fts/yuPOEnbz2z+sPNU97wbcP+96G/2hkNw/F1100UUX3T+J+arrPQnePx8eHh4eHt4/+ydRWJwi3j/9zeXZ31zeP+CnM/x0ht8/oEUxTrnd3z91CEmlTYfgP5O2NXrw0OA/z+PSt78y4T9sKK+hvIbiP0g9lniC1OM/1D7t0z7t4z9valT8mxrlPw==\",\"dtype\":\"float64\",\"shape\":[194]}}},\"id\":\"112b80f5-018a-40a8-928e-8edd97393a99\",\"type\":\"ColumnDataSource\"},{\"attributes\":{\"plot\":{\"id\":\"9559b445-e7a4-430b-b7c8-6d63e0548589\",\"subtype\":\"Chart\",\"type\":\"Plot\"}},\"id\":\"3b1eea7f-2db5-4d5e-ad22-2a665c1bfa85\",\"type\":\"WheelZoomTool\"},{\"attributes\":{\"plot\":{\"id\":\"9559b445-e7a4-430b-b7c8-6d63e0548589\",\"subtype\":\"Chart\",\"type\":\"Plot\"}},\"id\":\"2af5b2e1-803d-4184-a9d5-74b1d4d88cd1\",\"type\":\"HelpTool\"},{\"attributes\":{},\"id\":\"267247e7-f49e-41aa-a92b-f1dfe1dfb427\",\"type\":\"ToolEvents\"},{\"attributes\":{\"plot\":{\"id\":\"9559b445-e7a4-430b-b7c8-6d63e0548589\",\"subtype\":\"Chart\",\"type\":\"Plot\"}},\"id\":\"2bcb81de-36ac-4d94-b44c-a9aed16ec97f\",\"type\":\"PanTool\"},{\"attributes\":{\"label\":{\"value\":\"social\"},\"renderers\":[{\"id\":\"1e69dc16-c6c9-447b-871b-1a9254b69f9e\",\"type\":\"GlyphRenderer\"}]},\"id\":\"0b3ea44b-6e6f-4eda-9f26-be2e48edc154\",\"type\":\"LegendItem\"},{\"attributes\":{\"data_source\":{\"id\":\"112b80f5-018a-40a8-928e-8edd97393a99\",\"type\":\"ColumnDataSource\"},\"glyph\":{\"id\":\"6d65b7a4-cf45-4da5-a594-85a82f185d04\",\"type\":\"Line\"},\"hover_glyph\":null,\"muted_glyph\":null},\"id\":\"50c8cb3c-4c16-4f7c-a9ab-87cf696cb913\",\"type\":\"GlyphRenderer\"},{\"attributes\":{\"plot\":{\"id\":\"9559b445-e7a4-430b-b7c8-6d63e0548589\",\"subtype\":\"Chart\",\"type\":\"Plot\"}},\"id\":\"5d8055e8-ce8d-459f-a5f1-12151cb4f47b\",\"type\":\"SaveTool\"}],\"root_ids\":[\"9559b445-e7a4-430b-b7c8-6d63e0548589\"]},\"title\":\"Bokeh Application\",\"version\":\"0.12.5\"}};\n",
       "            var render_items = [{\"docid\":\"c59b13e2-d101-4103-af33-c10683c3ce77\",\"elementid\":\"b8b4d0f8-916d-4a9b-a97e-0bc311bcf3ed\",\"modelid\":\"9559b445-e7a4-430b-b7c8-6d63e0548589\"}];\n",
       "            \n",
       "            Bokeh.embed.embed_items(docs_json, render_items);\n",
       "          };\n",
       "          if (document.readyState != \"loading\") fn();\n",
       "          else document.addEventListener(\"DOMContentLoaded\", fn);\n",
       "        })();\n",
       "      },\n",
       "      function(Bokeh) {\n",
       "      }\n",
       "    ];\n",
       "  \n",
       "    function run_inline_js() {\n",
       "      \n",
       "      if ((window.Bokeh !== undefined) || (force === true)) {\n",
       "        for (var i = 0; i < inline_js.length; i++) {\n",
       "          inline_js[i](window.Bokeh);\n",
       "        }if (force === true) {\n",
       "          display_loaded();\n",
       "        }} else if (Date.now() < window._bokeh_timeout) {\n",
       "        setTimeout(run_inline_js, 100);\n",
       "      } else if (!window._bokeh_failed_load) {\n",
       "        console.log(\"Bokeh: BokehJS failed to load within specified timeout.\");\n",
       "        window._bokeh_failed_load = true;\n",
       "      } else if (force !== true) {\n",
       "        var cell = $(document.getElementById(\"b8b4d0f8-916d-4a9b-a97e-0bc311bcf3ed\")).parents('.cell').data().cell;\n",
       "        cell.output_area.append_execute_result(NB_LOAD_WARNING)\n",
       "      }\n",
       "  \n",
       "    }\n",
       "  \n",
       "    if (window._bokeh_is_loading === 0) {\n",
       "      console.log(\"Bokeh: BokehJS loaded, going straight to plotting\");\n",
       "      run_inline_js();\n",
       "    } else {\n",
       "      load_libs(js_urls, function() {\n",
       "        console.log(\"Bokeh: BokehJS plotting callback run at\", now());\n",
       "        run_inline_js();\n",
       "      });\n",
       "    }\n",
       "  }(this));\n",
       "</script>"
      ]
     },
     "metadata": {},
     "output_type": "display_data"
    }
   ],
   "source": [
    "# build a dataset where multiple columns measure the same thing\n",
    "data = {\n",
    "    \"social\": f1s_s,\n",
    "    \"baseline\": f1s_b\n",
    "}\n",
    "\n",
    "labels = 'social baseline'.split()\n",
    "\n",
    "# create a line chart where each column of measures receives a unique color and dash style\n",
    "line = Line(data, y=labels,\n",
    "            dash=labels,\n",
    "            color=labels,\n",
    "            legend_sort_field = 'color',\n",
    "            legend_sort_direction = 'descending',\n",
    "            xlabel='usuario', ylabel='puntaje f1', legend=True)\n",
    "\n",
    "# output_file(\"line_single.html\", title=\"line_single.py example\")\n",
    "\n",
    "show(line)"
   ]
  }
 ],
 "metadata": {
  "kernelspec": {
   "display_name": "Python 2",
   "language": "python",
   "name": "python2"
  },
  "language_info": {
   "codemirror_mode": {
    "name": "ipython",
    "version": 2
   },
   "file_extension": ".py",
   "mimetype": "text/x-python",
   "name": "python",
   "nbconvert_exporter": "python",
   "pygments_lexer": "ipython2",
   "version": "2.7.11+"
  }
 },
 "nbformat": 4,
 "nbformat_minor": 2
}
