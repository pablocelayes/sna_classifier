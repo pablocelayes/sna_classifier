{
 "cells": [
  {
   "cell_type": "code",
   "execution_count": 2,
   "metadata": {
    "collapsed": true
   },
   "outputs": [],
   "source": [
    "from sklearn.metrics import f1_score"
   ]
  },
  {
   "cell_type": "markdown",
   "metadata": {},
   "source": [
    "# Comparación de f1s sobre set de evaluación"
   ]
  },
  {
   "cell_type": "code",
   "execution_count": 3,
   "metadata": {
    "collapsed": false
   },
   "outputs": [
    {
     "name": "stderr",
     "output_type": "stream",
     "text": [
      "/home/pablo/.virtualenvs/tesiscomp/local/lib/python2.7/site-packages/bokeh/util/deprecation.py:34: BokehDeprecationWarning: \n",
      "The bokeh.charts API has moved to a separate 'bkcharts' package.\n",
      "\n",
      "This compatibility shim will remain until Bokeh 1.0 is released.\n",
      "After that, if you want to use this API you will have to install\n",
      "the bkcharts package explicitly.\n",
      "\n",
      "  warn(message)\n"
     ]
    }
   ],
   "source": [
    "from bokeh.charts import Line, show, output_notebook"
   ]
  },
  {
   "cell_type": "code",
   "execution_count": 4,
   "metadata": {
    "collapsed": false
   },
   "outputs": [
    {
     "data": {
      "text/html": [
       "\n",
       "    <div class=\"bk-root\">\n",
       "        <a href=\"http://bokeh.pydata.org\" target=\"_blank\" class=\"bk-logo bk-logo-small bk-logo-notebook\"></a>\n",
       "        <span id=\"f2989515-ec1f-4f6d-8fde-9ebb6c7be5d0\">Loading BokehJS ...</span>\n",
       "    </div>"
      ]
     },
     "metadata": {},
     "output_type": "display_data"
    },
    {
     "data": {
      "application/javascript": [
       "\n",
       "(function(global) {\n",
       "  function now() {\n",
       "    return new Date();\n",
       "  }\n",
       "\n",
       "  var force = true;\n",
       "\n",
       "  if (typeof (window._bokeh_onload_callbacks) === \"undefined\" || force === true) {\n",
       "    window._bokeh_onload_callbacks = [];\n",
       "    window._bokeh_is_loading = undefined;\n",
       "  }\n",
       "\n",
       "\n",
       "  \n",
       "  if (typeof (window._bokeh_timeout) === \"undefined\" || force === true) {\n",
       "    window._bokeh_timeout = Date.now() + 5000;\n",
       "    window._bokeh_failed_load = false;\n",
       "  }\n",
       "\n",
       "  var NB_LOAD_WARNING = {'data': {'text/html':\n",
       "     \"<div style='background-color: #fdd'>\\n\"+\n",
       "     \"<p>\\n\"+\n",
       "     \"BokehJS does not appear to have successfully loaded. If loading BokehJS from CDN, this \\n\"+\n",
       "     \"may be due to a slow or bad network connection. Possible fixes:\\n\"+\n",
       "     \"</p>\\n\"+\n",
       "     \"<ul>\\n\"+\n",
       "     \"<li>re-rerun `output_notebook()` to attempt to load from CDN again, or</li>\\n\"+\n",
       "     \"<li>use INLINE resources instead, as so:</li>\\n\"+\n",
       "     \"</ul>\\n\"+\n",
       "     \"<code>\\n\"+\n",
       "     \"from bokeh.resources import INLINE\\n\"+\n",
       "     \"output_notebook(resources=INLINE)\\n\"+\n",
       "     \"</code>\\n\"+\n",
       "     \"</div>\"}};\n",
       "\n",
       "  function display_loaded() {\n",
       "    if (window.Bokeh !== undefined) {\n",
       "      var el = document.getElementById(\"f2989515-ec1f-4f6d-8fde-9ebb6c7be5d0\");\n",
       "      el.textContent = \"BokehJS \" + Bokeh.version + \" successfully loaded.\";\n",
       "    } else if (Date.now() < window._bokeh_timeout) {\n",
       "      setTimeout(display_loaded, 100)\n",
       "    }\n",
       "  }\n",
       "\n",
       "  function run_callbacks() {\n",
       "    try {\n",
       "      window._bokeh_onload_callbacks.forEach(function(callback) { callback() });\n",
       "    }\n",
       "    finally {\n",
       "      delete window._bokeh_onload_callbacks\n",
       "    }\n",
       "    console.info(\"Bokeh: all callbacks have finished\");\n",
       "  }\n",
       "\n",
       "  function load_libs(js_urls, callback) {\n",
       "    window._bokeh_onload_callbacks.push(callback);\n",
       "    if (window._bokeh_is_loading > 0) {\n",
       "      console.log(\"Bokeh: BokehJS is being loaded, scheduling callback at\", now());\n",
       "      return null;\n",
       "    }\n",
       "    if (js_urls == null || js_urls.length === 0) {\n",
       "      run_callbacks();\n",
       "      return null;\n",
       "    }\n",
       "    console.log(\"Bokeh: BokehJS not loaded, scheduling load and callback at\", now());\n",
       "    window._bokeh_is_loading = js_urls.length;\n",
       "    for (var i = 0; i < js_urls.length; i++) {\n",
       "      var url = js_urls[i];\n",
       "      var s = document.createElement('script');\n",
       "      s.src = url;\n",
       "      s.async = false;\n",
       "      s.onreadystatechange = s.onload = function() {\n",
       "        window._bokeh_is_loading--;\n",
       "        if (window._bokeh_is_loading === 0) {\n",
       "          console.log(\"Bokeh: all BokehJS libraries loaded\");\n",
       "          run_callbacks()\n",
       "        }\n",
       "      };\n",
       "      s.onerror = function() {\n",
       "        console.warn(\"failed to load library \" + url);\n",
       "      };\n",
       "      console.log(\"Bokeh: injecting script tag for BokehJS library: \", url);\n",
       "      document.getElementsByTagName(\"head\")[0].appendChild(s);\n",
       "    }\n",
       "  };var element = document.getElementById(\"f2989515-ec1f-4f6d-8fde-9ebb6c7be5d0\");\n",
       "  if (element == null) {\n",
       "    console.log(\"Bokeh: ERROR: autoload.js configured with elementid 'f2989515-ec1f-4f6d-8fde-9ebb6c7be5d0' but no matching script tag was found. \")\n",
       "    return false;\n",
       "  }\n",
       "\n",
       "  var js_urls = [\"https://cdn.pydata.org/bokeh/release/bokeh-0.12.6.min.js\", \"https://cdn.pydata.org/bokeh/release/bokeh-widgets-0.12.6.min.js\"];\n",
       "\n",
       "  var inline_js = [\n",
       "    function(Bokeh) {\n",
       "      Bokeh.set_log_level(\"info\");\n",
       "    },\n",
       "    \n",
       "    function(Bokeh) {\n",
       "      \n",
       "    },\n",
       "    \n",
       "    function(Bokeh) {\n",
       "      \n",
       "      document.getElementById(\"f2989515-ec1f-4f6d-8fde-9ebb6c7be5d0\").textContent = \"BokehJS is loading...\";\n",
       "    },\n",
       "    function(Bokeh) {\n",
       "      console.log(\"Bokeh: injecting CSS: https://cdn.pydata.org/bokeh/release/bokeh-0.12.6.min.css\");\n",
       "      Bokeh.embed.inject_css(\"https://cdn.pydata.org/bokeh/release/bokeh-0.12.6.min.css\");\n",
       "      console.log(\"Bokeh: injecting CSS: https://cdn.pydata.org/bokeh/release/bokeh-widgets-0.12.6.min.css\");\n",
       "      Bokeh.embed.inject_css(\"https://cdn.pydata.org/bokeh/release/bokeh-widgets-0.12.6.min.css\");\n",
       "    }\n",
       "  ];\n",
       "\n",
       "  function run_inline_js() {\n",
       "    \n",
       "    if ((window.Bokeh !== undefined) || (force === true)) {\n",
       "      for (var i = 0; i < inline_js.length; i++) {\n",
       "        inline_js[i](window.Bokeh);\n",
       "      }if (force === true) {\n",
       "        display_loaded();\n",
       "      }} else if (Date.now() < window._bokeh_timeout) {\n",
       "      setTimeout(run_inline_js, 100);\n",
       "    } else if (!window._bokeh_failed_load) {\n",
       "      console.log(\"Bokeh: BokehJS failed to load within specified timeout.\");\n",
       "      window._bokeh_failed_load = true;\n",
       "    } else if (force !== true) {\n",
       "      var cell = $(document.getElementById(\"f2989515-ec1f-4f6d-8fde-9ebb6c7be5d0\")).parents('.cell').data().cell;\n",
       "      cell.output_area.append_execute_result(NB_LOAD_WARNING)\n",
       "    }\n",
       "\n",
       "  }\n",
       "\n",
       "  if (window._bokeh_is_loading === 0) {\n",
       "    console.log(\"Bokeh: BokehJS loaded, going straight to plotting\");\n",
       "    run_inline_js();\n",
       "  } else {\n",
       "    load_libs(js_urls, function() {\n",
       "      console.log(\"Bokeh: BokehJS plotting callback run at\", now());\n",
       "      run_inline_js();\n",
       "    });\n",
       "  }\n",
       "}(this));"
      ]
     },
     "metadata": {},
     "output_type": "display_data"
    }
   ],
   "source": [
    "output_notebook()"
   ]
  },
  {
   "cell_type": "code",
   "execution_count": 5,
   "metadata": {
    "collapsed": false
   },
   "outputs": [],
   "source": [
    "import json\n",
    "f1s_social = json.load(open('./scores/f1s_testv_svc.json'))"
   ]
  },
  {
   "cell_type": "code",
   "execution_count": 6,
   "metadata": {
    "collapsed": true
   },
   "outputs": [],
   "source": [
    "f1s_baseline = json.load(open('./scores/baseline/f1s_testv_svc.json'))"
   ]
  },
  {
   "cell_type": "code",
   "execution_count": 7,
   "metadata": {
    "collapsed": true
   },
   "outputs": [],
   "source": [
    "sorted_uids = [u for u, f in sorted(f1s_baseline.items(), key=lambda x:x[1])]\n",
    "indices = range(len(sorted_uids))"
   ]
  },
  {
   "cell_type": "code",
   "execution_count": 8,
   "metadata": {
    "collapsed": true
   },
   "outputs": [],
   "source": [
    "import numpy as np"
   ]
  },
  {
   "cell_type": "code",
   "execution_count": 9,
   "metadata": {
    "collapsed": false
   },
   "outputs": [],
   "source": [
    "f1s_b = np.array([f1s_baseline[sorted_uids[i]] for i in indices])\n",
    "f1s_s = np.array([f1s_social[sorted_uids[i]] for i in indices])"
   ]
  },
  {
   "cell_type": "code",
   "execution_count": 11,
   "metadata": {
    "collapsed": false
   },
   "outputs": [
    {
     "data": {
      "text/html": [
       "\n",
       "\n",
       "    <div class=\"bk-root\">\n",
       "        <div class=\"bk-plotdiv\" id=\"e4e94675-2d24-4a6a-8936-5f8476917878\"></div>\n",
       "    </div>\n",
       "<script type=\"text/javascript\">\n",
       "  \n",
       "  (function(global) {\n",
       "    function now() {\n",
       "      return new Date();\n",
       "    }\n",
       "  \n",
       "    var force = false;\n",
       "  \n",
       "    if (typeof (window._bokeh_onload_callbacks) === \"undefined\" || force === true) {\n",
       "      window._bokeh_onload_callbacks = [];\n",
       "      window._bokeh_is_loading = undefined;\n",
       "    }\n",
       "  \n",
       "  \n",
       "    \n",
       "    if (typeof (window._bokeh_timeout) === \"undefined\" || force === true) {\n",
       "      window._bokeh_timeout = Date.now() + 0;\n",
       "      window._bokeh_failed_load = false;\n",
       "    }\n",
       "  \n",
       "    var NB_LOAD_WARNING = {'data': {'text/html':\n",
       "       \"<div style='background-color: #fdd'>\\n\"+\n",
       "       \"<p>\\n\"+\n",
       "       \"BokehJS does not appear to have successfully loaded. If loading BokehJS from CDN, this \\n\"+\n",
       "       \"may be due to a slow or bad network connection. Possible fixes:\\n\"+\n",
       "       \"</p>\\n\"+\n",
       "       \"<ul>\\n\"+\n",
       "       \"<li>re-rerun `output_notebook()` to attempt to load from CDN again, or</li>\\n\"+\n",
       "       \"<li>use INLINE resources instead, as so:</li>\\n\"+\n",
       "       \"</ul>\\n\"+\n",
       "       \"<code>\\n\"+\n",
       "       \"from bokeh.resources import INLINE\\n\"+\n",
       "       \"output_notebook(resources=INLINE)\\n\"+\n",
       "       \"</code>\\n\"+\n",
       "       \"</div>\"}};\n",
       "  \n",
       "    function display_loaded() {\n",
       "      if (window.Bokeh !== undefined) {\n",
       "        var el = document.getElementById(\"e4e94675-2d24-4a6a-8936-5f8476917878\");\n",
       "        el.textContent = \"BokehJS \" + Bokeh.version + \" successfully loaded.\";\n",
       "      } else if (Date.now() < window._bokeh_timeout) {\n",
       "        setTimeout(display_loaded, 100)\n",
       "      }\n",
       "    }\n",
       "  \n",
       "    function run_callbacks() {\n",
       "      try {\n",
       "        window._bokeh_onload_callbacks.forEach(function(callback) { callback() });\n",
       "      }\n",
       "      finally {\n",
       "        delete window._bokeh_onload_callbacks\n",
       "      }\n",
       "      console.info(\"Bokeh: all callbacks have finished\");\n",
       "    }\n",
       "  \n",
       "    function load_libs(js_urls, callback) {\n",
       "      window._bokeh_onload_callbacks.push(callback);\n",
       "      if (window._bokeh_is_loading > 0) {\n",
       "        console.log(\"Bokeh: BokehJS is being loaded, scheduling callback at\", now());\n",
       "        return null;\n",
       "      }\n",
       "      if (js_urls == null || js_urls.length === 0) {\n",
       "        run_callbacks();\n",
       "        return null;\n",
       "      }\n",
       "      console.log(\"Bokeh: BokehJS not loaded, scheduling load and callback at\", now());\n",
       "      window._bokeh_is_loading = js_urls.length;\n",
       "      for (var i = 0; i < js_urls.length; i++) {\n",
       "        var url = js_urls[i];\n",
       "        var s = document.createElement('script');\n",
       "        s.src = url;\n",
       "        s.async = false;\n",
       "        s.onreadystatechange = s.onload = function() {\n",
       "          window._bokeh_is_loading--;\n",
       "          if (window._bokeh_is_loading === 0) {\n",
       "            console.log(\"Bokeh: all BokehJS libraries loaded\");\n",
       "            run_callbacks()\n",
       "          }\n",
       "        };\n",
       "        s.onerror = function() {\n",
       "          console.warn(\"failed to load library \" + url);\n",
       "        };\n",
       "        console.log(\"Bokeh: injecting script tag for BokehJS library: \", url);\n",
       "        document.getElementsByTagName(\"head\")[0].appendChild(s);\n",
       "      }\n",
       "    };var element = document.getElementById(\"e4e94675-2d24-4a6a-8936-5f8476917878\");\n",
       "    if (element == null) {\n",
       "      console.log(\"Bokeh: ERROR: autoload.js configured with elementid 'e4e94675-2d24-4a6a-8936-5f8476917878' but no matching script tag was found. \")\n",
       "      return false;\n",
       "    }\n",
       "  \n",
       "    var js_urls = [];\n",
       "  \n",
       "    var inline_js = [\n",
       "      function(Bokeh) {\n",
       "        (function() {\n",
       "          var fn = function() {\n",
       "            var docs_json = {\"6972ee90-e021-4401-93be-1827ebc705cf\":{\"roots\":{\"references\":[{\"attributes\":{\"plot\":{\"id\":\"8448d594-de71-4770-9abf-5542f805cde7\",\"subtype\":\"Chart\",\"type\":\"Plot\"}},\"id\":\"0db9382f-0eec-4ee4-a95a-1fb3e50f0c2b\",\"type\":\"WheelZoomTool\"},{\"attributes\":{\"bottom_units\":\"screen\",\"fill_alpha\":{\"value\":0.5},\"fill_color\":{\"value\":\"lightgrey\"},\"left_units\":\"screen\",\"level\":\"overlay\",\"line_alpha\":{\"value\":1.0},\"line_color\":{\"value\":\"black\"},\"line_dash\":[4,4],\"line_width\":{\"value\":2},\"plot\":null,\"render_mode\":\"css\",\"right_units\":\"screen\",\"top_units\":\"screen\"},\"id\":\"a8e30b68-54d6-46be-be2d-ebdc22acc3bb\",\"type\":\"BoxAnnotation\"},{\"attributes\":{\"callback\":null,\"end\":212.3,\"start\":-19.3},\"id\":\"732115a7-ab0a-4689-baf0-96c58cafa6c6\",\"type\":\"Range1d\"},{\"attributes\":{\"label\":{\"value\":\"social\"},\"renderers\":[{\"id\":\"4880ea1f-ca47-46ae-8707-64645fcfb95c\",\"type\":\"GlyphRenderer\"}]},\"id\":\"f6375931-c85c-4cc7-beaf-2854ba06e1d1\",\"type\":\"LegendItem\"},{\"attributes\":{},\"id\":\"41d46c49-3ee0-4f35-ab6f-d51924157ed2\",\"type\":\"LinearScale\"},{\"attributes\":{},\"id\":\"2ec47ee3-55cd-48fd-a87a-26e7377e8d94\",\"type\":\"ToolEvents\"},{\"attributes\":{\"line_color\":{\"value\":\"#5ab738\"},\"line_dash\":[6],\"line_width\":{\"value\":2},\"x\":{\"field\":\"x_values\"},\"y\":{\"field\":\"y_values\"}},\"id\":\"4a3a583d-9a09-4046-a318-a58493ae898c\",\"type\":\"Line\"},{\"attributes\":{\"below\":[{\"id\":\"4e55c2c4-f7ee-4845-80b2-33d612c13461\",\"type\":\"LinearAxis\"}],\"css_classes\":null,\"left\":[{\"id\":\"e1e2ab7c-8621-4d44-95f8-4a501c6b561e\",\"type\":\"LinearAxis\"}],\"renderers\":[{\"id\":\"a8e30b68-54d6-46be-be2d-ebdc22acc3bb\",\"type\":\"BoxAnnotation\"},{\"id\":\"4880ea1f-ca47-46ae-8707-64645fcfb95c\",\"type\":\"GlyphRenderer\"},{\"id\":\"7b3b593d-a4dd-40c4-a003-88ee0724b553\",\"type\":\"GlyphRenderer\"},{\"id\":\"dc64f252-1494-4732-ab64-f56a9f38bc53\",\"type\":\"Legend\"},{\"id\":\"4e55c2c4-f7ee-4845-80b2-33d612c13461\",\"type\":\"LinearAxis\"},{\"id\":\"e1e2ab7c-8621-4d44-95f8-4a501c6b561e\",\"type\":\"LinearAxis\"},{\"id\":\"6ceec775-f9f6-4414-b000-f7cb5d7ee716\",\"type\":\"Grid\"},{\"id\":\"c1502967-990d-4e45-b2d0-1e5e1fdcb5d6\",\"type\":\"Grid\"}],\"title\":{\"id\":\"0cdb181c-59e7-4c89-846f-37876cf5c21f\",\"type\":\"Title\"},\"tool_events\":{\"id\":\"2ec47ee3-55cd-48fd-a87a-26e7377e8d94\",\"type\":\"ToolEvents\"},\"toolbar\":{\"id\":\"de7b6c95-083a-4731-a197-e94029aee675\",\"type\":\"Toolbar\"},\"x_range\":{\"id\":\"732115a7-ab0a-4689-baf0-96c58cafa6c6\",\"type\":\"Range1d\"},\"x_scale\":{\"id\":\"41d46c49-3ee0-4f35-ab6f-d51924157ed2\",\"type\":\"LinearScale\"},\"y_range\":{\"id\":\"568ded94-d5a8-4701-b978-c52999b9969b\",\"type\":\"Range1d\"},\"y_scale\":{\"id\":\"e0adfe8e-6748-4cb8-93d7-d17f625667a4\",\"type\":\"LinearScale\"}},\"id\":\"8448d594-de71-4770-9abf-5542f805cde7\",\"subtype\":\"Chart\",\"type\":\"Plot\"},{\"attributes\":{\"plot\":null,\"text\":null},\"id\":\"0cdb181c-59e7-4c89-846f-37876cf5c21f\",\"type\":\"Title\"},{\"attributes\":{\"overlay\":{\"id\":\"a8e30b68-54d6-46be-be2d-ebdc22acc3bb\",\"type\":\"BoxAnnotation\"},\"plot\":{\"id\":\"8448d594-de71-4770-9abf-5542f805cde7\",\"subtype\":\"Chart\",\"type\":\"Plot\"}},\"id\":\"4649f61a-2989-49de-913c-33c50415f069\",\"type\":\"BoxZoomTool\"},{\"attributes\":{},\"id\":\"c27785ab-7577-4e2c-bfec-097645baf7a0\",\"type\":\"BasicTickFormatter\"},{\"attributes\":{\"plot\":{\"id\":\"8448d594-de71-4770-9abf-5542f805cde7\",\"subtype\":\"Chart\",\"type\":\"Plot\"}},\"id\":\"0428f033-d88f-49f5-a939-50a42b1b260f\",\"type\":\"PanTool\"},{\"attributes\":{\"dimension\":1,\"plot\":{\"id\":\"8448d594-de71-4770-9abf-5542f805cde7\",\"subtype\":\"Chart\",\"type\":\"Plot\"},\"ticker\":{\"id\":\"361f7f04-35e6-4657-af86-fe41cbd77f8d\",\"type\":\"BasicTicker\"}},\"id\":\"c1502967-990d-4e45-b2d0-1e5e1fdcb5d6\",\"type\":\"Grid\"},{\"attributes\":{\"callback\":null,\"end\":1.1,\"start\":-0.1},\"id\":\"568ded94-d5a8-4701-b978-c52999b9969b\",\"type\":\"Range1d\"},{\"attributes\":{},\"id\":\"9a15e8f6-bad8-442e-ba34-a5d450bad04e\",\"type\":\"BasicTickFormatter\"},{\"attributes\":{\"items\":[{\"id\":\"f6375931-c85c-4cc7-beaf-2854ba06e1d1\",\"type\":\"LegendItem\"},{\"id\":\"ec068b5b-e88e-4301-bdbe-c37751ab6c0a\",\"type\":\"LegendItem\"}],\"label_text_font_size\":{\"value\":\"16pt\"},\"location\":\"bottom_right\",\"plot\":{\"id\":\"8448d594-de71-4770-9abf-5542f805cde7\",\"subtype\":\"Chart\",\"type\":\"Plot\"}},\"id\":\"dc64f252-1494-4732-ab64-f56a9f38bc53\",\"type\":\"Legend\"},{\"attributes\":{\"line_color\":{\"value\":\"#f22c40\"},\"line_width\":{\"value\":2},\"x\":{\"field\":\"x_values\"},\"y\":{\"field\":\"y_values\"}},\"id\":\"dfe503d6-8028-43a0-8980-88c36b664231\",\"type\":\"Line\"},{\"attributes\":{\"plot\":{\"id\":\"8448d594-de71-4770-9abf-5542f805cde7\",\"subtype\":\"Chart\",\"type\":\"Plot\"}},\"id\":\"70b3d7fd-c3ad-455c-923d-e0e50a5a53bc\",\"type\":\"ResetTool\"},{\"attributes\":{},\"id\":\"0be15067-dab9-4572-a086-e2135042c196\",\"type\":\"BasicTicker\"},{\"attributes\":{\"axis_label_text_font_size\":{\"value\":\"20pt\"},\"formatter\":{\"id\":\"9a15e8f6-bad8-442e-ba34-a5d450bad04e\",\"type\":\"BasicTickFormatter\"},\"major_label_text_font_size\":{\"value\":\"20pt\"},\"plot\":{\"id\":\"8448d594-de71-4770-9abf-5542f805cde7\",\"subtype\":\"Chart\",\"type\":\"Plot\"},\"ticker\":{\"id\":\"361f7f04-35e6-4657-af86-fe41cbd77f8d\",\"type\":\"BasicTicker\"}},\"id\":\"e1e2ab7c-8621-4d44-95f8-4a501c6b561e\",\"type\":\"LinearAxis\"},{\"attributes\":{\"callback\":null,\"column_names\":[\"x_values\",\"y_values\"],\"data\":{\"chart_index\":[{\"series\":\"baseline\"},{\"series\":\"baseline\"},{\"series\":\"baseline\"},{\"series\":\"baseline\"},{\"series\":\"baseline\"},{\"series\":\"baseline\"},{\"series\":\"baseline\"},{\"series\":\"baseline\"},{\"series\":\"baseline\"},{\"series\":\"baseline\"},{\"series\":\"baseline\"},{\"series\":\"baseline\"},{\"series\":\"baseline\"},{\"series\":\"baseline\"},{\"series\":\"baseline\"},{\"series\":\"baseline\"},{\"series\":\"baseline\"},{\"series\":\"baseline\"},{\"series\":\"baseline\"},{\"series\":\"baseline\"},{\"series\":\"baseline\"},{\"series\":\"baseline\"},{\"series\":\"baseline\"},{\"series\":\"baseline\"},{\"series\":\"baseline\"},{\"series\":\"baseline\"},{\"series\":\"baseline\"},{\"series\":\"baseline\"},{\"series\":\"baseline\"},{\"series\":\"baseline\"},{\"series\":\"baseline\"},{\"series\":\"baseline\"},{\"series\":\"baseline\"},{\"series\":\"baseline\"},{\"series\":\"baseline\"},{\"series\":\"baseline\"},{\"series\":\"baseline\"},{\"series\":\"baseline\"},{\"series\":\"baseline\"},{\"series\":\"baseline\"},{\"series\":\"baseline\"},{\"series\":\"baseline\"},{\"series\":\"baseline\"},{\"series\":\"baseline\"},{\"series\":\"baseline\"},{\"series\":\"baseline\"},{\"series\":\"baseline\"},{\"series\":\"baseline\"},{\"series\":\"baseline\"},{\"series\":\"baseline\"},{\"series\":\"baseline\"},{\"series\":\"baseline\"},{\"series\":\"baseline\"},{\"series\":\"baseline\"},{\"series\":\"baseline\"},{\"series\":\"baseline\"},{\"series\":\"baseline\"},{\"series\":\"baseline\"},{\"series\":\"baseline\"},{\"series\":\"baseline\"},{\"series\":\"baseline\"},{\"series\":\"baseline\"},{\"series\":\"baseline\"},{\"series\":\"baseline\"},{\"series\":\"baseline\"},{\"series\":\"baseline\"},{\"series\":\"baseline\"},{\"series\":\"baseline\"},{\"series\":\"baseline\"},{\"series\":\"baseline\"},{\"series\":\"baseline\"},{\"series\":\"baseline\"},{\"series\":\"baseline\"},{\"series\":\"baseline\"},{\"series\":\"baseline\"},{\"series\":\"baseline\"},{\"series\":\"baseline\"},{\"series\":\"baseline\"},{\"series\":\"baseline\"},{\"series\":\"baseline\"},{\"series\":\"baseline\"},{\"series\":\"baseline\"},{\"series\":\"baseline\"},{\"series\":\"baseline\"},{\"series\":\"baseline\"},{\"series\":\"baseline\"},{\"series\":\"baseline\"},{\"series\":\"baseline\"},{\"series\":\"baseline\"},{\"series\":\"baseline\"},{\"series\":\"baseline\"},{\"series\":\"baseline\"},{\"series\":\"baseline\"},{\"series\":\"baseline\"},{\"series\":\"baseline\"},{\"series\":\"baseline\"},{\"series\":\"baseline\"},{\"series\":\"baseline\"},{\"series\":\"baseline\"},{\"series\":\"baseline\"},{\"series\":\"baseline\"},{\"series\":\"baseline\"},{\"series\":\"baseline\"},{\"series\":\"baseline\"},{\"series\":\"baseline\"},{\"series\":\"baseline\"},{\"series\":\"baseline\"},{\"series\":\"baseline\"},{\"series\":\"baseline\"},{\"series\":\"baseline\"},{\"series\":\"baseline\"},{\"series\":\"baseline\"},{\"series\":\"baseline\"},{\"series\":\"baseline\"},{\"series\":\"baseline\"},{\"series\":\"baseline\"},{\"series\":\"baseline\"},{\"series\":\"baseline\"},{\"series\":\"baseline\"},{\"series\":\"baseline\"},{\"series\":\"baseline\"},{\"series\":\"baseline\"},{\"series\":\"baseline\"},{\"series\":\"baseline\"},{\"series\":\"baseline\"},{\"series\":\"baseline\"},{\"series\":\"baseline\"},{\"series\":\"baseline\"},{\"series\":\"baseline\"},{\"series\":\"baseline\"},{\"series\":\"baseline\"},{\"series\":\"baseline\"},{\"series\":\"baseline\"},{\"series\":\"baseline\"},{\"series\":\"baseline\"},{\"series\":\"baseline\"},{\"series\":\"baseline\"},{\"series\":\"baseline\"},{\"series\":\"baseline\"},{\"series\":\"baseline\"},{\"series\":\"baseline\"},{\"series\":\"baseline\"},{\"series\":\"baseline\"},{\"series\":\"baseline\"},{\"series\":\"baseline\"},{\"series\":\"baseline\"},{\"series\":\"baseline\"},{\"series\":\"baseline\"},{\"series\":\"baseline\"},{\"series\":\"baseline\"},{\"series\":\"baseline\"},{\"series\":\"baseline\"},{\"series\":\"baseline\"},{\"series\":\"baseline\"},{\"series\":\"baseline\"},{\"series\":\"baseline\"},{\"series\":\"baseline\"},{\"series\":\"baseline\"},{\"series\":\"baseline\"},{\"series\":\"baseline\"},{\"series\":\"baseline\"},{\"series\":\"baseline\"},{\"series\":\"baseline\"},{\"series\":\"baseline\"},{\"series\":\"baseline\"},{\"series\":\"baseline\"},{\"series\":\"baseline\"},{\"series\":\"baseline\"},{\"series\":\"baseline\"},{\"series\":\"baseline\"},{\"series\":\"baseline\"},{\"series\":\"baseline\"},{\"series\":\"baseline\"},{\"series\":\"baseline\"},{\"series\":\"baseline\"},{\"series\":\"baseline\"},{\"series\":\"baseline\"},{\"series\":\"baseline\"},{\"series\":\"baseline\"},{\"series\":\"baseline\"},{\"series\":\"baseline\"},{\"series\":\"baseline\"},{\"series\":\"baseline\"},{\"series\":\"baseline\"},{\"series\":\"baseline\"},{\"series\":\"baseline\"},{\"series\":\"baseline\"},{\"series\":\"baseline\"},{\"series\":\"baseline\"},{\"series\":\"baseline\"},{\"series\":\"baseline\"},{\"series\":\"baseline\"},{\"series\":\"baseline\"},{\"series\":\"baseline\"}],\"series\":[\"baseline\",\"baseline\",\"baseline\",\"baseline\",\"baseline\",\"baseline\",\"baseline\",\"baseline\",\"baseline\",\"baseline\",\"baseline\",\"baseline\",\"baseline\",\"baseline\",\"baseline\",\"baseline\",\"baseline\",\"baseline\",\"baseline\",\"baseline\",\"baseline\",\"baseline\",\"baseline\",\"baseline\",\"baseline\",\"baseline\",\"baseline\",\"baseline\",\"baseline\",\"baseline\",\"baseline\",\"baseline\",\"baseline\",\"baseline\",\"baseline\",\"baseline\",\"baseline\",\"baseline\",\"baseline\",\"baseline\",\"baseline\",\"baseline\",\"baseline\",\"baseline\",\"baseline\",\"baseline\",\"baseline\",\"baseline\",\"baseline\",\"baseline\",\"baseline\",\"baseline\",\"baseline\",\"baseline\",\"baseline\",\"baseline\",\"baseline\",\"baseline\",\"baseline\",\"baseline\",\"baseline\",\"baseline\",\"baseline\",\"baseline\",\"baseline\",\"baseline\",\"baseline\",\"baseline\",\"baseline\",\"baseline\",\"baseline\",\"baseline\",\"baseline\",\"baseline\",\"baseline\",\"baseline\",\"baseline\",\"baseline\",\"baseline\",\"baseline\",\"baseline\",\"baseline\",\"baseline\",\"baseline\",\"baseline\",\"baseline\",\"baseline\",\"baseline\",\"baseline\",\"baseline\",\"baseline\",\"baseline\",\"baseline\",\"baseline\",\"baseline\",\"baseline\",\"baseline\",\"baseline\",\"baseline\",\"baseline\",\"baseline\",\"baseline\",\"baseline\",\"baseline\",\"baseline\",\"baseline\",\"baseline\",\"baseline\",\"baseline\",\"baseline\",\"baseline\",\"baseline\",\"baseline\",\"baseline\",\"baseline\",\"baseline\",\"baseline\",\"baseline\",\"baseline\",\"baseline\",\"baseline\",\"baseline\",\"baseline\",\"baseline\",\"baseline\",\"baseline\",\"baseline\",\"baseline\",\"baseline\",\"baseline\",\"baseline\",\"baseline\",\"baseline\",\"baseline\",\"baseline\",\"baseline\",\"baseline\",\"baseline\",\"baseline\",\"baseline\",\"baseline\",\"baseline\",\"baseline\",\"baseline\",\"baseline\",\"baseline\",\"baseline\",\"baseline\",\"baseline\",\"baseline\",\"baseline\",\"baseline\",\"baseline\",\"baseline\",\"baseline\",\"baseline\",\"baseline\",\"baseline\",\"baseline\",\"baseline\",\"baseline\",\"baseline\",\"baseline\",\"baseline\",\"baseline\",\"baseline\",\"baseline\",\"baseline\",\"baseline\",\"baseline\",\"baseline\",\"baseline\",\"baseline\",\"baseline\",\"baseline\",\"baseline\",\"baseline\",\"baseline\",\"baseline\",\"baseline\",\"baseline\",\"baseline\",\"baseline\",\"baseline\",\"baseline\",\"baseline\",\"baseline\",\"baseline\",\"baseline\",\"baseline\",\"baseline\",\"baseline\",\"baseline\",\"baseline\"],\"x_values\":[0,1,2,3,4,5,6,7,8,9,10,11,12,13,14,15,16,17,18,19,20,21,22,23,24,25,26,27,28,29,30,31,32,33,34,35,36,37,38,39,40,41,42,43,44,45,46,47,48,49,50,51,52,53,54,55,56,57,58,59,60,61,62,63,64,65,66,67,68,69,70,71,72,73,74,75,76,77,78,79,80,81,82,83,84,85,86,87,88,89,90,91,92,93,94,95,96,97,98,99,100,101,102,103,104,105,106,107,108,109,110,111,112,113,114,115,116,117,118,119,120,121,122,123,124,125,126,127,128,129,130,131,132,133,134,135,136,137,138,139,140,141,142,143,144,145,146,147,148,149,150,151,152,153,154,155,156,157,158,159,160,161,162,163,164,165,166,167,168,169,170,171,172,173,174,175,176,177,178,179,180,181,182,183,184,185,186,187,188,189,190,191,192,193],\"y_values\":{\"__ndarray__\":\"AAAAAAAAAAAQBEEQBEGgPxEEQRAEQaA/JngwT9S/oT+ZNGLZc6SiP8XEEeEiD6U/YGta4Neapj/dYVu55lSnP8tdMa5b+qc/GaRBGqRBqj/hehSuR+GqP23UdzbqO6s/QenJr8SArT98EboXoXuxP+oZkSyTnrE/lnsaYbmnsT+SJEmSJEmyP+miiy666LI/OL3pTW96sz/+8KXjVQO0P7RD4MYyKLU/VVVVVVVVtT9sos1KH3W1P9uVqF2J2rU/UjcHs9+ttj+3bNmyZcu2P3CBC1zgArc/XwWzpBwQuT+ZmZmZmZm5PwKh5E7Rwrk/rSYhir/IuT8vuuiiiy66PxukQRqkQbo/hrS98paEuj+9Y2pg75i6PyivobyG8ro/TxvotIFOuz+IG2644Ya7P+DAgQMHDrw/XHTRRRddvD8dx3Ecx3G8PyE1wXgr+7w/532KS4ZgvT/e3d3d3d29PxjnoWN4cb4/uR6F61G4vj9JWO5phOW+P037yRLYtL8/zxpyLTsFwD9OAnGh5iTAP5AGaZAGacA/kQZpkAZpwD9uEJzKhG3AP/Hw8PDw8MA/ERERERERwT9HfWejvrPBP8wRKYb6y8E/bfdWaYpfwj+fEuQpQZ7CP7wStStRu8I/bzBFPusGwz8kuzZRsmvDP6A4UBwoDsQ/n0Ls30tbxD9/3Lq8A47EP1q/UqDWr8Q/59DrG1XbxD/JEKyjzfvEP7RD4MYyKMU/VVVVVVVVxT9VVVVVVVXFP1ZVVVVVVcU/rg3T3AV/xT9ZyUpWspLFP6uSiiyFmMU/0HBS9+WxxT8AAAAAAADGP3waYbmnEcY/fBphuacRxj+MxWKxWCzGP/bdUuhPMsY/F+J1PnPfxj/lF0t+seTHP+qj1SRE8cc/HpTUYs09yD/EiBEjRozIP3YJl+cvBck/NZTXUF5DyT/g6db8sEjJP5eeb8WNzck/n1HiZ5T4yT8CS3r50xbKPyaaaKKJJso/YbmnEZZ7yj8pr6G8hvLKP2zUdzbqO8s/0LrBFPmsyz8fwX0E9xHMP1IdYgOfMcw/HcdxHMdxzD/qa4uDBSXNP7xIVuGcPM0/pTjXMYpzzT9xR9wRd8TNP9OdajcE0c0/hP1WG0PTzT8qSuMjE+jNPx7qoR7qoc4/sMfoZzXEzj9EAR2b74bPP312SmF7K9A/kAZpkAZp0D9QB3VQB3XQP3wH8R3Ed9A/hQoVKlSo0D+76KKLLrrQPzEMwzAMw9A/rcs74EjR0D/MRKGbkurQPwai0pE9A9E/N2CopmMu0T8UoQhFKELRP+MTSCXnZdE/dNFFF1100T+NyEZkI7LRPw5IkeiHuNE/5JFHHnnk0T+SavSRavTRP1wljWrLVdI/i5XhG1Fg0j+VUkoppZTSP7nV2PTwzdI/egL/mfXQ0j8S7RLtEu3SP5o0adKkSdM/ZZNNNtlk0z/jOI7jOI7TPxQ7sRM7sdM/Css9jbDc0z8mQ7CONu/TP+Q5lRSQ8NM/fTgNoZJu1D9VH0CXQa7UP4JtrHWf5NQ/F341JtID1T+T87KITyDVPzmVCdsgONU/NVdzNVdz1T8KcVZ+QpzVPwRE56t7pNU/1lzN1VzN1T/WXM3VXM3VPwge6a/nKtY/CR7pr+cq1j9kIQtZyELWP5eWlpaWltY/YrXegjKs1j8tJx3gmsbWP7JCCmQPFtc/RXMZzWU01z+N/kHF8DTXPxd6oRd6odc/96V9aV/a1z+yFUHDSd3XP////////9c/AAAAAAAA2D8oDa+P2kjYP4P3rZHVZdg/hznMYQ5z2D8l7og74o7YP9jq2SFwY9k/rQp+Arei2T+aXwaaXwbaP71jamDvmNo/eqBydgu/2j9XSqI6EDnbPwh8R/l4fts/yuPOEnbz2z+sPNU97wbcP+96G/2hkNw/F1100UUX3T+J+arrPQnePx8eHh4eHt4/+ydRWJwi3j/9zeXZ31zeP+CnM/x0ht8/oEUxTrnd3z91CEmlTYfgP5O2NXrw0OA/z+PSt78y4T9sKK+hvIbiP0g9lniC1OM/1D7t0z7t4z9valT8mxrlPw==\",\"dtype\":\"float64\",\"shape\":[194]}}},\"id\":\"fa06d9ba-465d-4823-a031-cbc6ca9ef005\",\"type\":\"ColumnDataSource\"},{\"attributes\":{\"plot\":{\"id\":\"8448d594-de71-4770-9abf-5542f805cde7\",\"subtype\":\"Chart\",\"type\":\"Plot\"}},\"id\":\"a31a1943-0656-49c1-a46d-1e43aceb12fd\",\"type\":\"SaveTool\"},{\"attributes\":{\"axis_label\":\"user\",\"axis_label_text_font_size\":{\"value\":\"20pt\"},\"formatter\":{\"id\":\"c27785ab-7577-4e2c-bfec-097645baf7a0\",\"type\":\"BasicTickFormatter\"},\"major_label_text_font_size\":{\"value\":\"20pt\"},\"plot\":{\"id\":\"8448d594-de71-4770-9abf-5542f805cde7\",\"subtype\":\"Chart\",\"type\":\"Plot\"},\"ticker\":{\"id\":\"0be15067-dab9-4572-a086-e2135042c196\",\"type\":\"BasicTicker\"}},\"id\":\"4e55c2c4-f7ee-4845-80b2-33d612c13461\",\"type\":\"LinearAxis\"},{\"attributes\":{\"active_drag\":\"auto\",\"active_inspect\":\"auto\",\"active_scroll\":\"auto\",\"active_tap\":\"auto\",\"tools\":[{\"id\":\"0428f033-d88f-49f5-a939-50a42b1b260f\",\"type\":\"PanTool\"},{\"id\":\"0db9382f-0eec-4ee4-a95a-1fb3e50f0c2b\",\"type\":\"WheelZoomTool\"},{\"id\":\"4649f61a-2989-49de-913c-33c50415f069\",\"type\":\"BoxZoomTool\"},{\"id\":\"a31a1943-0656-49c1-a46d-1e43aceb12fd\",\"type\":\"SaveTool\"},{\"id\":\"70b3d7fd-c3ad-455c-923d-e0e50a5a53bc\",\"type\":\"ResetTool\"},{\"id\":\"f834aec6-4836-4ed9-8386-44afd5209c7d\",\"type\":\"HelpTool\"}]},\"id\":\"de7b6c95-083a-4731-a197-e94029aee675\",\"type\":\"Toolbar\"},{\"attributes\":{\"data_source\":{\"id\":\"fa06d9ba-465d-4823-a031-cbc6ca9ef005\",\"type\":\"ColumnDataSource\"},\"glyph\":{\"id\":\"dfe503d6-8028-43a0-8980-88c36b664231\",\"type\":\"Line\"},\"hover_glyph\":null,\"muted_glyph\":null},\"id\":\"7b3b593d-a4dd-40c4-a003-88ee0724b553\",\"type\":\"GlyphRenderer\"},{\"attributes\":{},\"id\":\"e0adfe8e-6748-4cb8-93d7-d17f625667a4\",\"type\":\"LinearScale\"},{\"attributes\":{},\"id\":\"361f7f04-35e6-4657-af86-fe41cbd77f8d\",\"type\":\"BasicTicker\"},{\"attributes\":{\"data_source\":{\"id\":\"2404df07-9ab8-47fa-8d10-37b249fce2a2\",\"type\":\"ColumnDataSource\"},\"glyph\":{\"id\":\"4a3a583d-9a09-4046-a318-a58493ae898c\",\"type\":\"Line\"},\"hover_glyph\":null,\"muted_glyph\":null},\"id\":\"4880ea1f-ca47-46ae-8707-64645fcfb95c\",\"type\":\"GlyphRenderer\"},{\"attributes\":{\"callback\":null,\"column_names\":[\"x_values\",\"y_values\"],\"data\":{\"chart_index\":[{\"series\":\"social\"},{\"series\":\"social\"},{\"series\":\"social\"},{\"series\":\"social\"},{\"series\":\"social\"},{\"series\":\"social\"},{\"series\":\"social\"},{\"series\":\"social\"},{\"series\":\"social\"},{\"series\":\"social\"},{\"series\":\"social\"},{\"series\":\"social\"},{\"series\":\"social\"},{\"series\":\"social\"},{\"series\":\"social\"},{\"series\":\"social\"},{\"series\":\"social\"},{\"series\":\"social\"},{\"series\":\"social\"},{\"series\":\"social\"},{\"series\":\"social\"},{\"series\":\"social\"},{\"series\":\"social\"},{\"series\":\"social\"},{\"series\":\"social\"},{\"series\":\"social\"},{\"series\":\"social\"},{\"series\":\"social\"},{\"series\":\"social\"},{\"series\":\"social\"},{\"series\":\"social\"},{\"series\":\"social\"},{\"series\":\"social\"},{\"series\":\"social\"},{\"series\":\"social\"},{\"series\":\"social\"},{\"series\":\"social\"},{\"series\":\"social\"},{\"series\":\"social\"},{\"series\":\"social\"},{\"series\":\"social\"},{\"series\":\"social\"},{\"series\":\"social\"},{\"series\":\"social\"},{\"series\":\"social\"},{\"series\":\"social\"},{\"series\":\"social\"},{\"series\":\"social\"},{\"series\":\"social\"},{\"series\":\"social\"},{\"series\":\"social\"},{\"series\":\"social\"},{\"series\":\"social\"},{\"series\":\"social\"},{\"series\":\"social\"},{\"series\":\"social\"},{\"series\":\"social\"},{\"series\":\"social\"},{\"series\":\"social\"},{\"series\":\"social\"},{\"series\":\"social\"},{\"series\":\"social\"},{\"series\":\"social\"},{\"series\":\"social\"},{\"series\":\"social\"},{\"series\":\"social\"},{\"series\":\"social\"},{\"series\":\"social\"},{\"series\":\"social\"},{\"series\":\"social\"},{\"series\":\"social\"},{\"series\":\"social\"},{\"series\":\"social\"},{\"series\":\"social\"},{\"series\":\"social\"},{\"series\":\"social\"},{\"series\":\"social\"},{\"series\":\"social\"},{\"series\":\"social\"},{\"series\":\"social\"},{\"series\":\"social\"},{\"series\":\"social\"},{\"series\":\"social\"},{\"series\":\"social\"},{\"series\":\"social\"},{\"series\":\"social\"},{\"series\":\"social\"},{\"series\":\"social\"},{\"series\":\"social\"},{\"series\":\"social\"},{\"series\":\"social\"},{\"series\":\"social\"},{\"series\":\"social\"},{\"series\":\"social\"},{\"series\":\"social\"},{\"series\":\"social\"},{\"series\":\"social\"},{\"series\":\"social\"},{\"series\":\"social\"},{\"series\":\"social\"},{\"series\":\"social\"},{\"series\":\"social\"},{\"series\":\"social\"},{\"series\":\"social\"},{\"series\":\"social\"},{\"series\":\"social\"},{\"series\":\"social\"},{\"series\":\"social\"},{\"series\":\"social\"},{\"series\":\"social\"},{\"series\":\"social\"},{\"series\":\"social\"},{\"series\":\"social\"},{\"series\":\"social\"},{\"series\":\"social\"},{\"series\":\"social\"},{\"series\":\"social\"},{\"series\":\"social\"},{\"series\":\"social\"},{\"series\":\"social\"},{\"series\":\"social\"},{\"series\":\"social\"},{\"series\":\"social\"},{\"series\":\"social\"},{\"series\":\"social\"},{\"series\":\"social\"},{\"series\":\"social\"},{\"series\":\"social\"},{\"series\":\"social\"},{\"series\":\"social\"},{\"series\":\"social\"},{\"series\":\"social\"},{\"series\":\"social\"},{\"series\":\"social\"},{\"series\":\"social\"},{\"series\":\"social\"},{\"series\":\"social\"},{\"series\":\"social\"},{\"series\":\"social\"},{\"series\":\"social\"},{\"series\":\"social\"},{\"series\":\"social\"},{\"series\":\"social\"},{\"series\":\"social\"},{\"series\":\"social\"},{\"series\":\"social\"},{\"series\":\"social\"},{\"series\":\"social\"},{\"series\":\"social\"},{\"series\":\"social\"},{\"series\":\"social\"},{\"series\":\"social\"},{\"series\":\"social\"},{\"series\":\"social\"},{\"series\":\"social\"},{\"series\":\"social\"},{\"series\":\"social\"},{\"series\":\"social\"},{\"series\":\"social\"},{\"series\":\"social\"},{\"series\":\"social\"},{\"series\":\"social\"},{\"series\":\"social\"},{\"series\":\"social\"},{\"series\":\"social\"},{\"series\":\"social\"},{\"series\":\"social\"},{\"series\":\"social\"},{\"series\":\"social\"},{\"series\":\"social\"},{\"series\":\"social\"},{\"series\":\"social\"},{\"series\":\"social\"},{\"series\":\"social\"},{\"series\":\"social\"},{\"series\":\"social\"},{\"series\":\"social\"},{\"series\":\"social\"},{\"series\":\"social\"},{\"series\":\"social\"},{\"series\":\"social\"},{\"series\":\"social\"},{\"series\":\"social\"},{\"series\":\"social\"},{\"series\":\"social\"},{\"series\":\"social\"},{\"series\":\"social\"},{\"series\":\"social\"},{\"series\":\"social\"},{\"series\":\"social\"},{\"series\":\"social\"},{\"series\":\"social\"},{\"series\":\"social\"},{\"series\":\"social\"}],\"series\":[\"social\",\"social\",\"social\",\"social\",\"social\",\"social\",\"social\",\"social\",\"social\",\"social\",\"social\",\"social\",\"social\",\"social\",\"social\",\"social\",\"social\",\"social\",\"social\",\"social\",\"social\",\"social\",\"social\",\"social\",\"social\",\"social\",\"social\",\"social\",\"social\",\"social\",\"social\",\"social\",\"social\",\"social\",\"social\",\"social\",\"social\",\"social\",\"social\",\"social\",\"social\",\"social\",\"social\",\"social\",\"social\",\"social\",\"social\",\"social\",\"social\",\"social\",\"social\",\"social\",\"social\",\"social\",\"social\",\"social\",\"social\",\"social\",\"social\",\"social\",\"social\",\"social\",\"social\",\"social\",\"social\",\"social\",\"social\",\"social\",\"social\",\"social\",\"social\",\"social\",\"social\",\"social\",\"social\",\"social\",\"social\",\"social\",\"social\",\"social\",\"social\",\"social\",\"social\",\"social\",\"social\",\"social\",\"social\",\"social\",\"social\",\"social\",\"social\",\"social\",\"social\",\"social\",\"social\",\"social\",\"social\",\"social\",\"social\",\"social\",\"social\",\"social\",\"social\",\"social\",\"social\",\"social\",\"social\",\"social\",\"social\",\"social\",\"social\",\"social\",\"social\",\"social\",\"social\",\"social\",\"social\",\"social\",\"social\",\"social\",\"social\",\"social\",\"social\",\"social\",\"social\",\"social\",\"social\",\"social\",\"social\",\"social\",\"social\",\"social\",\"social\",\"social\",\"social\",\"social\",\"social\",\"social\",\"social\",\"social\",\"social\",\"social\",\"social\",\"social\",\"social\",\"social\",\"social\",\"social\",\"social\",\"social\",\"social\",\"social\",\"social\",\"social\",\"social\",\"social\",\"social\",\"social\",\"social\",\"social\",\"social\",\"social\",\"social\",\"social\",\"social\",\"social\",\"social\",\"social\",\"social\",\"social\",\"social\",\"social\",\"social\",\"social\",\"social\",\"social\",\"social\",\"social\",\"social\",\"social\",\"social\",\"social\",\"social\",\"social\",\"social\",\"social\",\"social\",\"social\",\"social\",\"social\",\"social\",\"social\",\"social\",\"social\"],\"x_values\":[0,1,2,3,4,5,6,7,8,9,10,11,12,13,14,15,16,17,18,19,20,21,22,23,24,25,26,27,28,29,30,31,32,33,34,35,36,37,38,39,40,41,42,43,44,45,46,47,48,49,50,51,52,53,54,55,56,57,58,59,60,61,62,63,64,65,66,67,68,69,70,71,72,73,74,75,76,77,78,79,80,81,82,83,84,85,86,87,88,89,90,91,92,93,94,95,96,97,98,99,100,101,102,103,104,105,106,107,108,109,110,111,112,113,114,115,116,117,118,119,120,121,122,123,124,125,126,127,128,129,130,131,132,133,134,135,136,137,138,139,140,141,142,143,144,145,146,147,148,149,150,151,152,153,154,155,156,157,158,159,160,161,162,163,164,165,166,167,168,169,170,171,172,173,174,175,176,177,178,179,180,181,182,183,184,185,186,187,188,189,190,191,192,193],\"y_values\":{\"__ndarray__\":\"X/EVX/EV7z8AAAAAAADwP6qqqqqqquo/3/It3/It7z9f8RVf8RXvPwAAAAAAAPA/GpyPwfkY7D8AAAAAAADwPwAAAAAAAPA/AAAAAAAA8D+rqqqqqqruPxqcj8H5GOw/5n2KS4Zg7T9HWO5phOXuP+J6FK5H4eo/HLmRG7mR6z8E9xHcR3DvP2UW7qd5a7A/gkQrbA4k6j/btm3btm3rPwAAAAAAAPA/I591gyny6T9UA3vH1MDuP59EpmG7We4/+BklfkaJ7z/c29vb29vrP3g26jsb9e0/fWejvrNR7z8KxlvZ55DqP+HAgQMHDuw/AQAAAAAA7D/ctm3btm3rPyRJkiRJkuw/ML+rxU2Y7z+v7HNITTDuP9u2bdu2bes/Jptssskm6z+d2Imd2IntPyivobyG8uo/R1juaYTl7j+7u7u7u7vrPyOfdYMp8uk/0kUXXXTR5T/RF/QFfUHvPyB0VOCLq+8/ZSELWchC5j86sRM7sRPrP6/X6/V6ve4/J3ZiJ3Zi7z900UUXXXThP77pTW960+s/KVyPwvUo7D/d6173utftPyOfdYMp8uk/AAAAAAAA8D/G/bqk8mHsP8X7kdN8re4/SZIkSZIk7z/0BX1BX9DnP2UhC1nIQuY/+awbTJHP6j+d2Imd2IntP9QIyz2NsOw/nZycnJyc7D8aYbmnEZbrP1paWlpaWuo/z+fz+Xw+7z9X+4a1b1jrPyIxb2dIzOs/7MRO7MRO7D9HWO5phOXuP++999577+0/jbDc0wjL7T9XObTIdr7vP7PeL+v9su4/mpmZmZmZ6T99xVd8xVfsP8wiPoFUcu4/9AV9QV/Q5z+5HoXrUbjuP9u2bdu2bes/D61n/oEd6z+bq7maq7nqP9Qd7LfaGOo/Ij1QObuF7z+3GbUGcpLpPwAAAAAAAPA/btu2bdu27T/F+5HTfK3uP95AaN5AaO4/gt6pazm46T8BAAAAAADsP0PNSSAu1Ow/1ofG+tBY7z8fwX0E9xHsP0YXXXTRRec/btu2bdu27T/LnYQCjdjuP8prKK+hvOY/WrAFW7AF6z9xR9wRd8TtPzQ5yLyUCO4/ZSELWchC5j8cx3Ecx3HkPwAAAAAAAPA/fcVXfMVX7D/pynRlujLtP5IkSZIkSeo/6oPC6pYF7z/ozp07d+7sP1/ohV7ohe4/3dzc3Nzc7D/QcFL35bHlP71jamDvmOo/tZfQXkJ76T9tfDO0dh/uPwEAAAAAAOY/bdR3Nuo76z9ChsoOU5frP/Hw8PDw8Og/urm5ubm56T8up+DlFLzsP55J9J5J9O4/MzMzMzMz5z8o1ALGJA7uP5tXncPCZ+4/zR9sPJo/6D/H+tBYHxrrPwAAAAAAAPA/WMCd/ogF7D/HcRzHcRznP1yoOQnEheo/RhdddNFF7z804c+EPxPuP47jOI7jOO4/mqZpmqZp6j/H/L02Yl3qP8SyM1ec3+s//MAP/MAP7D+WlpaWlpbmP9mJndiJneg/NNaHxvrQ6D9777333nvvP1HrDtxtVO0/MUU+6wZT7D8CS3r50xbqP+r6dH26Pu0/nu3Znu3Z7j9aWlpaWlrqP++999577+0/wxFEWi9g6z83Nzc3NzfnP0YXXXTRRec/jUaj0Wg06j/Pyk+Is/LjP6wxkR6onO0/YGdXe2oQ6z/qTW9605vuP8ZACW80de4/VVVVVVVV6z8/Pz8/Pz/vP61Dv9k69Os/EUz0d7Ja7j+wobyG8hrqPxWXDME62uw/dzbqOxv17T+d2Imd2IntP6DBb6Knc+s/94DZA2YP6D+rjaHpDvbrPyCT4gUyKe4/yWfdYIp87j+3bdu2bdvuP77dlMOyM+c/BBu9KzJf6j8HibUUHabrPwTdOu6fYOo/vqInj4ml6T8FvQyvCnrpP4UVm8crTeg/1B3st9oY6j8AAAAAAADwPwAAAAAAAPA/gG9eTTwr6j/Wc+8maIPvP0FmU62x6+s/aLfwqzGR7j/HcRzHcRzvPw3wgqT8Q+8/H7Fy44rR7z86u4VfjYnkPyoQTXv48+8/sT401ofG6j+28i5rp+PvPw==\",\"dtype\":\"float64\",\"shape\":[194]}}},\"id\":\"2404df07-9ab8-47fa-8d10-37b249fce2a2\",\"type\":\"ColumnDataSource\"},{\"attributes\":{\"plot\":{\"id\":\"8448d594-de71-4770-9abf-5542f805cde7\",\"subtype\":\"Chart\",\"type\":\"Plot\"}},\"id\":\"f834aec6-4836-4ed9-8386-44afd5209c7d\",\"type\":\"HelpTool\"},{\"attributes\":{\"label\":{\"value\":\"baseline\"},\"renderers\":[{\"id\":\"7b3b593d-a4dd-40c4-a003-88ee0724b553\",\"type\":\"GlyphRenderer\"}]},\"id\":\"ec068b5b-e88e-4301-bdbe-c37751ab6c0a\",\"type\":\"LegendItem\"},{\"attributes\":{\"plot\":{\"id\":\"8448d594-de71-4770-9abf-5542f805cde7\",\"subtype\":\"Chart\",\"type\":\"Plot\"},\"ticker\":{\"id\":\"0be15067-dab9-4572-a086-e2135042c196\",\"type\":\"BasicTicker\"}},\"id\":\"6ceec775-f9f6-4414-b000-f7cb5d7ee716\",\"type\":\"Grid\"}],\"root_ids\":[\"8448d594-de71-4770-9abf-5542f805cde7\"]},\"title\":\"Bokeh Application\",\"version\":\"0.12.6\"}};\n",
       "            var render_items = [{\"docid\":\"6972ee90-e021-4401-93be-1827ebc705cf\",\"elementid\":\"e4e94675-2d24-4a6a-8936-5f8476917878\",\"modelid\":\"8448d594-de71-4770-9abf-5542f805cde7\"}];\n",
       "            \n",
       "            Bokeh.embed.embed_items(docs_json, render_items);\n",
       "          };\n",
       "          if (document.readyState != \"loading\") fn();\n",
       "          else document.addEventListener(\"DOMContentLoaded\", fn);\n",
       "        })();\n",
       "      },\n",
       "      function(Bokeh) {\n",
       "      }\n",
       "    ];\n",
       "  \n",
       "    function run_inline_js() {\n",
       "      \n",
       "      if ((window.Bokeh !== undefined) || (force === true)) {\n",
       "        for (var i = 0; i < inline_js.length; i++) {\n",
       "          inline_js[i](window.Bokeh);\n",
       "        }if (force === true) {\n",
       "          display_loaded();\n",
       "        }} else if (Date.now() < window._bokeh_timeout) {\n",
       "        setTimeout(run_inline_js, 100);\n",
       "      } else if (!window._bokeh_failed_load) {\n",
       "        console.log(\"Bokeh: BokehJS failed to load within specified timeout.\");\n",
       "        window._bokeh_failed_load = true;\n",
       "      } else if (force !== true) {\n",
       "        var cell = $(document.getElementById(\"e4e94675-2d24-4a6a-8936-5f8476917878\")).parents('.cell').data().cell;\n",
       "        cell.output_area.append_execute_result(NB_LOAD_WARNING)\n",
       "      }\n",
       "  \n",
       "    }\n",
       "  \n",
       "    if (window._bokeh_is_loading === 0) {\n",
       "      console.log(\"Bokeh: BokehJS loaded, going straight to plotting\");\n",
       "      run_inline_js();\n",
       "    } else {\n",
       "      load_libs(js_urls, function() {\n",
       "        console.log(\"Bokeh: BokehJS plotting callback run at\", now());\n",
       "        run_inline_js();\n",
       "      });\n",
       "    }\n",
       "  }(this));\n",
       "</script>"
      ]
     },
     "metadata": {},
     "output_type": "display_data"
    }
   ],
   "source": [
    "# build a dataset where multiple columns measure the same thing\n",
    "data = {\n",
    "    \"social\": f1s_s,\n",
    "    \"baseline\": f1s_b\n",
    "}\n",
    "\n",
    "labels = 'social baseline'.split()\n",
    "\n",
    "# create a line chart where each column of measures receives a unique color and dash style\n",
    "line = Line(data, y=labels,\n",
    "            dash=labels,\n",
    "            color=labels,\n",
    "            legend_sort_field = 'color',\n",
    "            legend_sort_direction = 'descending',\n",
    "            xlabel='user',\n",
    "            ylabel='',\n",
    "            legend=True)\n",
    "\n",
    "\n",
    "line.axis.major_label_text_font_size = \"20pt\"\n",
    "line.axis.axis_label_text_font_size = \"20pt\"\n",
    "line.legend.label_text_font_size = \"16pt\"\n",
    "line.legend.location = 'bottom_right'\n",
    "\n",
    "# output_file(\"line_single.html\", title=\"line_single.py example\")\n",
    "\n",
    "show(line)"
   ]
  },
  {
   "cell_type": "code",
   "execution_count": null,
   "metadata": {
    "collapsed": true
   },
   "outputs": [],
   "source": []
  }
 ],
 "metadata": {
  "kernelspec": {
   "display_name": "Python 2",
   "language": "python",
   "name": "python2"
  },
  "language_info": {
   "codemirror_mode": {
    "name": "ipython",
    "version": 2
   },
   "file_extension": ".py",
   "mimetype": "text/x-python",
   "name": "python",
   "nbconvert_exporter": "python",
   "pygments_lexer": "ipython2",
   "version": "2.7.11+"
  }
 },
 "nbformat": 4,
 "nbformat_minor": 2
}
