{
 "cells": [
  {
   "cell_type": "code",
   "execution_count": 1,
   "metadata": {
    "collapsed": false,
    "deletable": true,
    "editable": true
   },
   "outputs": [
    {
     "name": "stderr",
     "output_type": "stream",
     "text": [
      "2017-04-21 20:53:03,380 : INFO : Starting new HTTPS connection (1): api.twitter.com\n"
     ]
    },
    {
     "name": "stdout",
     "output_type": "stream",
     "text": [
      "Switching to API Credentials #1\n"
     ]
    }
   ],
   "source": [
    "import warnings\n",
    "warnings.filterwarnings(\"ignore\", category=DeprecationWarning) \n",
    "# fixes weird issue with pyLDAvis (?) warnings\n",
    "\n",
    "import pandas as pd\n",
    "import numpy as np\n",
    "import pickle\n",
    "import operator\n",
    "import re\n",
    "import gc\n",
    "import gensim\n",
    "# from gensim.similarities import WmdSimilarity\n",
    "\n",
    "import pyLDAvis\n",
    "import pyLDAvis.gensim\n",
    "\n",
    "# wtf\n",
    "warnings.filterwarnings(\"ignore\", category=DeprecationWarning)\n",
    "\n",
    "import logging\n",
    "logging.basicConfig(format='%(asctime)s : %(levelname)s : %(message)s', level=logging.INFO)\n",
    "\n",
    "import matplotlib\n",
    "import matplotlib.pyplot as plt\n",
    "%matplotlib inline\n",
    "\n",
    "from tw_dataset.dbmodels import *\n",
    "from random import sample\n",
    "import json"
   ]
  },
  {
   "cell_type": "code",
   "execution_count": 2,
   "metadata": {
    "collapsed": true,
    "deletable": true,
    "editable": true
   },
   "outputs": [],
   "source": [
    "s = open_session()\n",
    "all_tweets_es = [t for t in s.query(Tweet).all() if t.lang == 'es']\n",
    "all_tweets_text_es = [t.text for t in all_tweets_es]\n",
    "\n",
    "# with open('all_tweets_text_es.json', 'w') as f:\n",
    "#     json.dump(all_tweets_text_es, f)"
   ]
  },
  {
   "cell_type": "code",
   "execution_count": 3,
   "metadata": {
    "collapsed": true,
    "deletable": true,
    "editable": true
   },
   "outputs": [],
   "source": [
    "all_tweets_es_ids = [t.id for t in all_tweets_es]"
   ]
  },
  {
   "cell_type": "code",
   "execution_count": 4,
   "metadata": {
    "collapsed": false,
    "deletable": true,
    "editable": true
   },
   "outputs": [
    {
     "data": {
      "text/plain": [
       "109040"
      ]
     },
     "execution_count": 4,
     "metadata": {},
     "output_type": "execute_result"
    }
   ],
   "source": [
    "len(all_tweets_text_es)    "
   ]
  },
  {
   "cell_type": "code",
   "execution_count": 5,
   "metadata": {
    "collapsed": false,
    "deletable": true,
    "editable": true
   },
   "outputs": [],
   "source": [
    "tweets = all_tweets_text_es"
   ]
  },
  {
   "cell_type": "markdown",
   "metadata": {
    "deletable": true,
    "editable": true
   },
   "source": [
    "# OK, let's finally do some topic modelling"
   ]
  },
  {
   "cell_type": "code",
   "execution_count": 6,
   "metadata": {
    "collapsed": false,
    "deletable": true,
    "editable": true
   },
   "outputs": [
    {
     "name": "stderr",
     "output_type": "stream",
     "text": [
      "2017-04-21 20:53:33,373 : INFO : loading Dictionary object from tweets_es_bigvocab.dict\n"
     ]
    }
   ],
   "source": [
    "dictionary = gensim.corpora.Dictionary.load(\"tweets_es_bigvocab.dict\")"
   ]
  },
  {
   "cell_type": "code",
   "execution_count": 7,
   "metadata": {
    "collapsed": true,
    "deletable": true,
    "editable": true
   },
   "outputs": [],
   "source": [
    "with open('tweets_es_bow_bigvocab.pickle', 'rb') as f:\n",
    "    bow = pickle.load(f)"
   ]
  },
  {
   "cell_type": "code",
   "execution_count": 8,
   "metadata": {
    "collapsed": true,
    "deletable": true,
    "editable": true
   },
   "outputs": [],
   "source": [
    "from math import ceil"
   ]
  },
  {
   "cell_type": "code",
   "execution_count": null,
   "metadata": {
    "collapsed": true,
    "deletable": true,
    "editable": true
   },
   "outputs": [],
   "source": [
    "n_topics = 15\n",
    "iters = 100\n",
    "passes = 10\n",
    "workers = 8\n",
    "chunksize = int(ceil(len(bow)*1.0/workers))"
   ]
  },
  {
   "cell_type": "code",
   "execution_count": null,
   "metadata": {
    "collapsed": false,
    "deletable": true,
    "editable": true,
    "scrolled": true
   },
   "outputs": [
    {
     "name": "stderr",
     "output_type": "stream",
     "text": [
      "2017-04-21 20:53:56,621 : INFO : using serial LDA version on this node\n",
      "2017-04-21 20:54:02,665 : INFO : running online LDA training, 15 topics, 10 passes over the supplied corpus of 109040 documents, updating every 109040 documents, evaluating every ~109040 documents, iterating 100x with a convergence threshold of 0.001000\n",
      "2017-04-21 20:54:02,669 : INFO : training LDA model using 8 processes\n",
      "2017-04-21 20:54:03,254 : INFO : PROGRESS: pass 0, dispatched chunk #0 = documents up to #13630/109040, outstanding queue size 1\n",
      "2017-04-21 20:54:03,750 : INFO : PROGRESS: pass 0, dispatched chunk #1 = documents up to #27260/109040, outstanding queue size 2\n",
      "2017-04-21 20:54:04,189 : INFO : PROGRESS: pass 0, dispatched chunk #2 = documents up to #40890/109040, outstanding queue size 3\n",
      "2017-04-21 20:54:04,712 : INFO : PROGRESS: pass 0, dispatched chunk #3 = documents up to #54520/109040, outstanding queue size 4\n",
      "2017-04-21 20:54:04,977 : INFO : PROGRESS: pass 0, dispatched chunk #4 = documents up to #68150/109040, outstanding queue size 5\n",
      "2017-04-21 20:54:05,406 : INFO : PROGRESS: pass 0, dispatched chunk #5 = documents up to #81780/109040, outstanding queue size 6\n",
      "2017-04-21 20:54:05,813 : INFO : PROGRESS: pass 0, dispatched chunk #6 = documents up to #95410/109040, outstanding queue size 7\n",
      "2017-04-21 20:54:06,482 : INFO : PROGRESS: pass 0, dispatched chunk #7 = documents up to #109040/109040, outstanding queue size 8\n",
      "2017-04-21 20:55:28,430 : INFO : topic #0 (0.001): 0.013*mas + 0.007*hoy + 0.006*par + 0.005*gobiern + 0.005*polit + 0.005*… + 0.005*d + 0.004*hac + 0.004*habl + 0.004*sol\n",
      "2017-04-21 20:55:28,434 : INFO : topic #1 (0.001): 0.009*macri + 0.007*buen + 0.005*si + 0.005*esta + 0.005*mas + 0.005*gobiern + 0.005*argentin + 0.004*march + 0.004*par + 0.004*deb\n",
      "2017-04-21 20:55:28,449 : INFO : topic #2 (0.001): 0.007*que + 0.007*trabaj + 0.006*si + 0.006*esta + 0.006*q + 0.006*hac + 0.005*viv + 0.005*argentin + 0.005*pued + 0.004*años\n",
      "2017-04-21 20:55:28,453 : INFO : topic #3 (0.001): 0.010*mas + 0.010*q + 0.008*hoy + 0.008*si + 0.007*docent + 0.005*años + 0.005*nuev + 0.005*hac + 0.004*viv + 0.004*esta\n",
      "2017-04-21 20:55:28,456 : INFO : topic #4 (0.001): 0.006*que + 0.005*pued + 0.005*macri + 0.005*hoy + 0.005*program + 0.004*mas + 0.004*buen + 0.004*par + 0.004*si + 0.003*ser\n",
      "2017-04-21 20:55:28,460 : INFO : topic #5 (0.001): 0.007*mas + 0.007*… + 0.007*argentin + 0.007*hac + 0.006*hoy + 0.005*años + 0.005*nuev + 0.005*gobiern + 0.005*ahor + 0.005*pued\n",
      "2017-04-21 20:55:28,463 : INFO : topic #6 (0.001): 0.011*public + 0.009*mas + 0.008*trabaj + 0.006*docent + 0.006*… + 0.005*si + 0.005*sol + 0.005*esta + 0.005*macri + 0.004*ahor\n",
      "2017-04-21 20:55:28,467 : INFO : topic #7 (0.001): 0.017*par + 0.009*mas + 0.009*hac + 0.008*argentin + 0.007*gobiern + 0.007*nacional + 0.007*docent + 0.005*ahor + 0.004*trabaj + 0.004*…\n",
      "2017-04-21 20:55:28,470 : INFO : topic #8 (0.001): 0.009*q + 0.008*años + 0.007*si + 0.006*nacional + 0.006*viv + 0.006*par + 0.006*pas + 0.005*ahor + 0.005*mas + 0.005*gobiern\n",
      "2017-04-21 20:55:28,474 : INFO : topic #9 (0.001): 0.013*mas + 0.010*si + 0.007*… + 0.006*macri + 0.005*hoy + 0.005*trabaj + 0.005*ahor + 0.005*public + 0.005*par + 0.004*via\n",
      "2017-04-21 20:55:28,477 : INFO : topic #10 (0.001): 0.022*si + 0.008*mas + 0.006*hac + 0.006*… + 0.005*hoy + 0.004*via + 0.004*march + 0.004*graci + 0.003*buen + 0.003*pais\n",
      "2017-04-21 20:55:28,481 : INFO : topic #11 (0.001): 0.008*hoy + 0.007*mas + 0.006*graci + 0.005*argentin + 0.005*esta + 0.005*hac + 0.005*pas + 0.005*viv + 0.004*sol + 0.004*si\n",
      "2017-04-21 20:55:28,486 : INFO : topic #12 (0.001): 0.007*q + 0.007*buen + 0.006*mas + 0.005*macri + 0.004*d + 0.004*cre + 0.004*air + 0.004*aca + 0.004*quier + 0.004*x\n",
      "2017-04-21 20:55:28,489 : INFO : topic #13 (0.001): 0.008*argentin + 0.007*macri + 0.006*nuev + 0.006*mas + 0.006*si + 0.006*hoy + 0.005*ser + 0.005*buen + 0.005*ahor + 0.005*hac\n",
      "2017-04-21 20:55:28,499 : INFO : topic #14 (0.001): 0.009*… + 0.008*si + 0.007*mas + 0.006*hoy + 0.005*buen + 0.005*argentin + 0.005*hac + 0.004*via + 0.004*gobiern + 0.004*nacional\n",
      "2017-04-21 20:55:28,504 : INFO : topic diff=7.152715, rho=1.000000\n",
      "2017-04-21 20:56:15,717 : INFO : -8.673 per-word bound, 408.1 perplexity estimate based on a held-out corpus of 13630 documents with 108040 words\n",
      "2017-04-21 20:56:15,872 : INFO : PROGRESS: pass 1, dispatched chunk #0 = documents up to #13630/109040, outstanding queue size 1\n",
      "2017-04-21 20:56:16,556 : INFO : PROGRESS: pass 1, dispatched chunk #1 = documents up to #27260/109040, outstanding queue size 2\n",
      "2017-04-21 20:56:16,877 : INFO : PROGRESS: pass 1, dispatched chunk #2 = documents up to #40890/109040, outstanding queue size 3\n",
      "2017-04-21 20:56:17,033 : INFO : PROGRESS: pass 1, dispatched chunk #3 = documents up to #54520/109040, outstanding queue size 4\n",
      "2017-04-21 20:56:17,461 : INFO : PROGRESS: pass 1, dispatched chunk #4 = documents up to #68150/109040, outstanding queue size 5\n",
      "2017-04-21 20:56:18,225 : INFO : PROGRESS: pass 1, dispatched chunk #5 = documents up to #81780/109040, outstanding queue size 6\n",
      "2017-04-21 20:56:18,582 : INFO : PROGRESS: pass 1, dispatched chunk #6 = documents up to #95410/109040, outstanding queue size 7\n",
      "2017-04-21 20:56:19,167 : INFO : PROGRESS: pass 1, dispatched chunk #7 = documents up to #109040/109040, outstanding queue size 8\n",
      "2017-04-21 20:57:39,263 : INFO : topic #0 (0.001): 0.013*mas + 0.007*hoy + 0.006*polit + 0.006*gobiern + 0.005*d + 0.005*… + 0.005*par + 0.005*habl + 0.004*r + 0.004*sol\n",
      "2017-04-21 20:57:39,267 : INFO : topic #1 (0.001): 0.011*macri + 0.007*buen + 0.005*gobiern + 0.005*si + 0.005*president + 0.005*esta + 0.005*march + 0.005*deb + 0.004*mas + 0.004*argentin\n",
      "2017-04-21 20:57:39,271 : INFO : topic #2 (0.001): 0.008*que + 0.007*esta + 0.007*trabaj + 0.007*si + 0.007*q + 0.006*hac + 0.006*viv + 0.005*pued + 0.005*argentin + 0.004*bien\n",
      "2017-04-21 20:57:39,275 : INFO : topic #3 (0.001): 0.011*q + 0.011*mas + 0.008*hoy + 0.008*si + 0.007*docent + 0.005*nuev + 0.005*años + 0.005*hac + 0.005*esta + 0.004*argentin\n",
      "2017-04-21 20:57:39,278 : INFO : topic #4 (0.001): 0.006*que + 0.005*program + 0.005*pued + 0.005*macri + 0.005*hoy + 0.004*buen + 0.004*mas + 0.004*micael + 0.003*ser + 0.003*si\n",
      "2017-04-21 20:57:39,282 : INFO : topic #5 (0.001): 0.008*mas + 0.008*argentin + 0.007*… + 0.007*hac + 0.006*hoy + 0.005*nuev + 0.005*gobiern + 0.005*años + 0.005*ahor + 0.005*pued\n",
      "2017-04-21 20:57:39,286 : INFO : topic #6 (0.001): 0.013*public + 0.009*mas + 0.008*trabaj + 0.007*docent + 0.006*escuel + 0.006*… + 0.005*si + 0.005*sol + 0.005*esta + 0.005*macri\n",
      "2017-04-21 20:57:39,290 : INFO : topic #7 (0.001): 0.023*par + 0.010*nacional + 0.009*docent + 0.009*hac + 0.008*mas + 0.008*gobiern + 0.008*argentin + 0.005*ahor + 0.005*trabaj + 0.004*…\n",
      "2017-04-21 20:57:39,294 : INFO : topic #8 (0.001): 0.011*años + 0.009*q + 0.009*viv + 0.006*si + 0.006*nacional + 0.006*pas + 0.006*ahor + 0.005*par + 0.005*dic + 0.005*buen\n",
      "2017-04-21 20:57:39,297 : INFO : topic #9 (0.001): 0.014*mas + 0.010*si + 0.007*… + 0.006*macri + 0.005*hoy + 0.005*trabaj + 0.005*ahor + 0.005*plaz + 0.005*via + 0.005*public\n",
      "2017-04-21 20:57:39,301 : INFO : topic #10 (0.001): 0.026*si + 0.008*mas + 0.007*hac + 0.005*… + 0.005*hoy + 0.004*via + 0.004*escuch + 0.004*ver + 0.004*graci + 0.003*ser\n",
      "2017-04-21 20:57:39,305 : INFO : topic #11 (0.001): 0.009*hoy + 0.008*graci + 0.007*mas + 0.005*esta + 0.005*pas + 0.005*argentin + 0.005*hac + 0.004*sol + 0.004*si + 0.004*viv\n",
      "2017-04-21 20:57:39,309 : INFO : topic #12 (0.001): 0.007*q + 0.007*buen + 0.006*mas + 0.005*d + 0.005*macri + 0.004*air + 0.004*cre + 0.004*salud + 0.004*r + 0.004*x\n",
      "2017-04-21 20:57:39,317 : INFO : topic #13 (0.001): 0.009*argentin + 0.007*nuev + 0.007*macri + 0.006*buen + 0.006*hoy + 0.006*mas + 0.005*ahor + 0.005*ser + 0.005*si + 0.005*…\n",
      "2017-04-21 20:57:39,320 : INFO : topic #14 (0.001): 0.009*… + 0.008*si + 0.007*mas + 0.006*hoy + 0.005*buen + 0.005*argentin + 0.005*via + 0.004*plaz + 0.004*hac + 0.004*gobiern\n",
      "2017-04-21 20:57:39,323 : INFO : topic diff=0.162146, rho=0.333333\n",
      "2017-04-21 20:58:26,557 : INFO : -8.646 per-word bound, 400.5 perplexity estimate based on a held-out corpus of 13630 documents with 108040 words\n",
      "2017-04-21 20:58:26,863 : INFO : PROGRESS: pass 2, dispatched chunk #0 = documents up to #13630/109040, outstanding queue size 1\n",
      "2017-04-21 20:58:27,223 : INFO : PROGRESS: pass 2, dispatched chunk #1 = documents up to #27260/109040, outstanding queue size 2\n",
      "2017-04-21 20:58:27,607 : INFO : PROGRESS: pass 2, dispatched chunk #2 = documents up to #40890/109040, outstanding queue size 3\n",
      "2017-04-21 20:58:27,791 : INFO : PROGRESS: pass 2, dispatched chunk #3 = documents up to #54520/109040, outstanding queue size 4\n",
      "2017-04-21 20:58:28,178 : INFO : PROGRESS: pass 2, dispatched chunk #4 = documents up to #68150/109040, outstanding queue size 5\n",
      "2017-04-21 20:58:29,137 : INFO : PROGRESS: pass 2, dispatched chunk #5 = documents up to #81780/109040, outstanding queue size 6\n",
      "2017-04-21 20:58:29,617 : INFO : PROGRESS: pass 2, dispatched chunk #6 = documents up to #95410/109040, outstanding queue size 7\n",
      "2017-04-21 20:58:30,445 : INFO : PROGRESS: pass 2, dispatched chunk #7 = documents up to #109040/109040, outstanding queue size 8\n",
      "2017-04-21 20:59:50,886 : INFO : topic #0 (0.001): 0.014*mas + 0.007*hoy + 0.006*polit + 0.006*d + 0.006*gobiern + 0.005*… + 0.005*habl + 0.004*r + 0.004*par + 0.004*sol\n",
      "2017-04-21 20:59:50,892 : INFO : topic #1 (0.001): 0.012*macri + 0.007*buen + 0.005*president + 0.005*gobiern + 0.005*deb + 0.005*esta + 0.005*si + 0.005*march + 0.004*argentin + 0.004*ser\n",
      "2017-04-21 20:59:50,896 : INFO : topic #2 (0.001): 0.009*que + 0.008*esta + 0.007*trabaj + 0.007*si + 0.007*hac + 0.007*q + 0.005*viv + 0.005*pued + 0.005*bien + 0.004*argentin\n",
      "2017-04-21 20:59:50,902 : INFO : topic #3 (0.001): 0.013*q + 0.011*mas + 0.008*hoy + 0.007*si + 0.007*docent + 0.005*nuev + 0.005*hac + 0.005*rodolfoceniz + 0.005*via + 0.005*años\n",
      "2017-04-21 20:59:50,907 : INFO : topic #4 (0.001): 0.006*program + 0.005*que + 0.005*pued + 0.005*macri + 0.005*hoy + 0.004*buen + 0.004*micael + 0.004*mas + 0.004*ser + 0.003*pod\n",
      "2017-04-21 20:59:50,912 : INFO : topic #5 (0.001): 0.008*argentin + 0.008*mas + 0.008*… + 0.006*hac + 0.006*hoy + 0.005*march + 0.005*nuev + 0.005*gobiern + 0.005*años + 0.005*ahor\n",
      "2017-04-21 20:59:50,921 : INFO : topic #6 (0.001): 0.015*public + 0.009*mas + 0.008*trabaj + 0.007*docent + 0.007*escuel + 0.006*… + 0.005*si + 0.005*educ + 0.005*sol + 0.005*macri\n",
      "2017-04-21 20:59:50,926 : INFO : topic #7 (0.001): 0.027*par + 0.012*docent + 0.012*nacional + 0.009*gobiern + 0.009*hac + 0.008*argentin + 0.008*mas + 0.006*trabaj + 0.005*ahor + 0.004*estan\n",
      "2017-04-21 20:59:50,931 : INFO : topic #8 (0.001): 0.013*años + 0.011*viv + 0.009*q + 0.006*ahor + 0.006*pas + 0.005*cas + 0.005*dic + 0.005*si + 0.005*hij + 0.005*nacional\n",
      "2017-04-21 20:59:50,936 : INFO : topic #9 (0.001): 0.014*mas + 0.010*si + 0.007*… + 0.006*macri + 0.005*plaz + 0.005*hoy + 0.005*ahor + 0.005*trabaj + 0.005*via + 0.004*public\n",
      "2017-04-21 20:59:50,940 : INFO : topic #10 (0.001): 0.028*si + 0.008*mas + 0.007*hac + 0.005*hoy + 0.005*… + 0.004*escuch + 0.004*ver + 0.004*via + 0.004*ser + 0.004*graci\n",
      "2017-04-21 20:59:50,946 : INFO : topic #11 (0.001): 0.010*graci + 0.009*hoy + 0.007*mas + 0.005*esta + 0.005*pas + 0.005*argentin + 0.005*hac + 0.004*sol + 0.004*mal + 0.004*mejor\n",
      "2017-04-21 20:59:50,951 : INFO : topic #12 (0.001): 0.008*q + 0.008*buen + 0.006*d + 0.006*mas + 0.005*salud + 0.005*r + 0.005*air + 0.005*c + 0.005*x + 0.005*macri\n",
      "2017-04-21 20:59:50,956 : INFO : topic #13 (0.001): 0.010*argentin + 0.008*nuev + 0.007*macri + 0.006*buen + 0.006*hoy + 0.006*ahor + 0.005*mas + 0.005*ser + 0.005*i + 0.005*d\n",
      "2017-04-21 20:59:50,961 : INFO : topic #14 (0.001): 0.010*… + 0.007*mas + 0.007*si + 0.006*hoy + 0.005*argentin + 0.005*buen + 0.005*via + 0.005*plaz + 0.004*hac + 0.004*gobiern\n",
      "2017-04-21 20:59:50,968 : INFO : topic diff=0.125368, rho=0.242536\n",
      "2017-04-21 21:00:35,891 : INFO : -8.637 per-word bound, 398.0 perplexity estimate based on a held-out corpus of 13630 documents with 108040 words\n",
      "2017-04-21 21:00:36,007 : INFO : PROGRESS: pass 3, dispatched chunk #0 = documents up to #13630/109040, outstanding queue size 1\n",
      "2017-04-21 21:00:36,369 : INFO : PROGRESS: pass 3, dispatched chunk #1 = documents up to #27260/109040, outstanding queue size 2\n",
      "2017-04-21 21:00:36,852 : INFO : PROGRESS: pass 3, dispatched chunk #2 = documents up to #40890/109040, outstanding queue size 3\n",
      "2017-04-21 21:00:37,549 : INFO : PROGRESS: pass 3, dispatched chunk #3 = documents up to #54520/109040, outstanding queue size 4\n",
      "2017-04-21 21:00:37,912 : INFO : PROGRESS: pass 3, dispatched chunk #4 = documents up to #68150/109040, outstanding queue size 5\n",
      "2017-04-21 21:00:38,632 : INFO : PROGRESS: pass 3, dispatched chunk #5 = documents up to #81780/109040, outstanding queue size 6\n",
      "2017-04-21 21:00:39,604 : INFO : PROGRESS: pass 3, dispatched chunk #6 = documents up to #95410/109040, outstanding queue size 7\n",
      "2017-04-21 21:00:40,655 : INFO : PROGRESS: pass 3, dispatched chunk #7 = documents up to #109040/109040, outstanding queue size 8\n",
      "2017-04-21 21:01:56,265 : INFO : topic #0 (0.001): 0.014*mas + 0.007*hoy + 0.007*polit + 0.006*d + 0.006*gobiern + 0.005*… + 0.005*habl + 0.004*r + 0.004*macri + 0.004*sol\n",
      "2017-04-21 21:01:56,269 : INFO : topic #1 (0.001): 0.013*macri + 0.007*buen + 0.006*president + 0.006*gobiern + 0.005*deb + 0.005*esta + 0.005*march + 0.005*si + 0.004*ser + 0.004*argentin\n",
      "2017-04-21 21:01:56,273 : INFO : topic #2 (0.001): 0.010*que + 0.008*esta + 0.007*trabaj + 0.007*hac + 0.007*si + 0.007*q + 0.005*bien + 0.005*pued + 0.005*viv + 0.005*pas\n",
      "2017-04-21 21:01:56,277 : INFO : topic #3 (0.001): 0.014*q + 0.012*mas + 0.008*hoy + 0.007*si + 0.006*docent + 0.005*rodolfoceniz + 0.005*nuev + 0.005*via + 0.005*hac + 0.005*esta\n",
      "2017-04-21 21:01:56,281 : INFO : topic #4 (0.001): 0.006*program + 0.005*que + 0.005*pued + 0.005*macri + 0.005*hoy + 0.005*buen + 0.004*micael + 0.004*mas + 0.004*ser + 0.003*pod\n",
      "2017-04-21 21:01:56,285 : INFO : topic #5 (0.001): 0.008*argentin + 0.008*mas + 0.008*… + 0.006*hac + 0.006*march + 0.006*hoy + 0.005*nuev + 0.005*gobiern + 0.005*ahor + 0.005*años\n",
      "2017-04-21 21:01:56,289 : INFO : topic #6 (0.001): 0.017*public + 0.009*mas + 0.008*escuel + 0.008*trabaj + 0.008*docent + 0.006*educ + 0.005*… + 0.005*si + 0.005*sol + 0.005*macri\n",
      "2017-04-21 21:01:56,294 : INFO : topic #7 (0.001): 0.030*par + 0.014*docent + 0.014*nacional + 0.010*gobiern + 0.009*hac + 0.008*argentin + 0.008*mas + 0.006*trabaj + 0.005*ahor + 0.004*estan\n",
      "2017-04-21 21:01:56,298 : INFO : topic #8 (0.001): 0.015*años + 0.012*viv + 0.009*q + 0.006*cas + 0.006*hij + 0.006*ahor + 0.006*termin + 0.006*dic + 0.006*trabaj + 0.005*pas\n",
      "2017-04-21 21:01:56,302 : INFO : topic #9 (0.001): 0.015*mas + 0.010*si + 0.007*… + 0.006*macri + 0.006*plaz + 0.005*hoy + 0.005*ahor + 0.005*trabaj + 0.005*via + 0.005*memori\n",
      "2017-04-21 21:01:56,306 : INFO : topic #10 (0.001): 0.030*si + 0.007*mas + 0.007*hac + 0.005*hoy + 0.005*… + 0.004*escuch + 0.004*ver + 0.004*ser + 0.004*graci + 0.004*via\n",
      "2017-04-21 21:01:56,310 : INFO : topic #11 (0.001): 0.011*graci + 0.009*hoy + 0.007*mas + 0.005*esta + 0.005*pas + 0.005*argentin + 0.005*hac + 0.004*sol + 0.004*mal + 0.004*mejor\n",
      "2017-04-21 21:01:56,314 : INFO : topic #12 (0.001): 0.008*q + 0.008*buen + 0.006*d + 0.006*mas + 0.005*r + 0.005*c + 0.005*salud + 0.005*air + 0.005*u + 0.005*x\n",
      "2017-04-21 21:01:56,318 : INFO : topic #13 (0.001): 0.010*argentin + 0.008*nuev + 0.007*buen + 0.007*hoy + 0.006*macri + 0.006*i + 0.006*ahor + 0.006*d + 0.005*t + 0.005*ser\n",
      "2017-04-21 21:01:56,322 : INFO : topic #14 (0.001): 0.010*… + 0.007*mas + 0.007*si + 0.006*hoy + 0.005*argentin + 0.005*via + 0.005*buen + 0.005*plaz + 0.004*gobiern + 0.004*hac\n",
      "2017-04-21 21:01:56,325 : INFO : topic diff=0.109996, rho=0.200000\n",
      "2017-04-21 21:02:41,361 : INFO : -8.630 per-word bound, 396.3 perplexity estimate based on a held-out corpus of 13630 documents with 108040 words\n",
      "2017-04-21 21:02:41,508 : INFO : PROGRESS: pass 4, dispatched chunk #0 = documents up to #13630/109040, outstanding queue size 1\n",
      "2017-04-21 21:02:42,017 : INFO : PROGRESS: pass 4, dispatched chunk #1 = documents up to #27260/109040, outstanding queue size 2\n",
      "2017-04-21 21:02:42,189 : INFO : PROGRESS: pass 4, dispatched chunk #2 = documents up to #40890/109040, outstanding queue size 3\n",
      "2017-04-21 21:02:42,763 : INFO : PROGRESS: pass 4, dispatched chunk #3 = documents up to #54520/109040, outstanding queue size 4\n",
      "2017-04-21 21:02:42,990 : INFO : PROGRESS: pass 4, dispatched chunk #4 = documents up to #68150/109040, outstanding queue size 5\n",
      "2017-04-21 21:02:43,676 : INFO : PROGRESS: pass 4, dispatched chunk #5 = documents up to #81780/109040, outstanding queue size 6\n",
      "2017-04-21 21:02:44,716 : INFO : PROGRESS: pass 4, dispatched chunk #6 = documents up to #95410/109040, outstanding queue size 7\n",
      "2017-04-21 21:02:45,516 : INFO : PROGRESS: pass 4, dispatched chunk #7 = documents up to #109040/109040, outstanding queue size 8\n",
      "2017-04-21 21:03:59,134 : INFO : topic #0 (0.001): 0.014*mas + 0.007*polit + 0.007*hoy + 0.006*d + 0.006*gobiern + 0.005*… + 0.005*habl + 0.005*macri + 0.004*r + 0.004*sol\n",
      "2017-04-21 21:03:59,139 : INFO : topic #1 (0.001): 0.014*macri + 0.007*buen + 0.006*president + 0.006*gobiern + 0.005*deb + 0.005*esta + 0.005*march + 0.005*ser + 0.004*si + 0.004*argentin\n",
      "2017-04-21 21:03:59,144 : INFO : topic #2 (0.001): 0.011*que + 0.009*esta + 0.007*hac + 0.007*trabaj + 0.007*si + 0.007*q + 0.006*bien + 0.006*pued + 0.005*tod + 0.005*pas\n",
      "2017-04-21 21:03:59,152 : INFO : topic #3 (0.001): 0.015*q + 0.012*mas + 0.008*hoy + 0.007*si + 0.006*rodolfoceniz + 0.005*docent + 0.005*via + 0.005*nuev + 0.005*hac + 0.005*esta\n",
      "2017-04-21 21:03:59,158 : INFO : topic #4 (0.001): 0.006*program + 0.005*que + 0.005*pued + 0.005*buen + 0.005*micael + 0.005*hoy + 0.005*macri + 0.004*mas + 0.004*ser + 0.003*pod\n",
      "2017-04-21 21:03:59,163 : INFO : topic #5 (0.001): 0.009*argentin + 0.008*mas + 0.008*… + 0.007*march + 0.006*hac + 0.006*hoy + 0.005*nuev + 0.005*malvin + 0.005*gobiern + 0.005*federal\n",
      "2017-04-21 21:03:59,168 : INFO : topic #6 (0.001): 0.018*public + 0.009*escuel + 0.009*mas + 0.008*trabaj + 0.008*docent + 0.006*educ + 0.005*… + 0.005*si + 0.005*sol + 0.005*macri\n",
      "2017-04-21 21:03:59,173 : INFO : topic #7 (0.001): 0.032*par + 0.016*docent + 0.015*nacional + 0.011*gobiern + 0.009*hac + 0.008*argentin + 0.007*mas + 0.006*trabaj + 0.005*ahor + 0.005*macri\n",
      "2017-04-21 21:03:59,178 : INFO : topic #8 (0.001): 0.017*años + 0.014*viv + 0.009*q + 0.007*cas + 0.007*termin + 0.006*hij + 0.006*trabaj + 0.006*ahor + 0.006*dic + 0.006*buen\n",
      "2017-04-21 21:03:59,186 : INFO : topic #9 (0.001): 0.015*mas + 0.010*si + 0.007*… + 0.006*plaz + 0.006*macri + 0.005*hoy + 0.005*memori + 0.005*ahor + 0.005*trabaj + 0.005*via\n",
      "2017-04-21 21:03:59,192 : INFO : topic #10 (0.001): 0.032*si + 0.008*hac + 0.007*mas + 0.005*escuch + 0.005*hoy + 0.004*… + 0.004*ver + 0.004*ser + 0.004*graci + 0.003*asi\n",
      "2017-04-21 21:03:59,197 : INFO : topic #11 (0.001): 0.012*graci + 0.009*hoy + 0.007*mas + 0.005*esta + 0.005*pas + 0.005*argentin + 0.005*hac + 0.004*mejor + 0.004*sol + 0.004*mal\n",
      "2017-04-21 21:03:59,206 : INFO : topic #12 (0.001): 0.008*q + 0.008*buen + 0.007*d + 0.006*c + 0.006*r + 0.006*salud + 0.006*u + 0.005*mas + 0.005*air + 0.005*x\n",
      "2017-04-21 21:03:59,211 : INFO : topic #13 (0.001): 0.010*argentin + 0.009*nuev + 0.007*buen + 0.007*i + 0.007*hoy + 0.006*d + 0.006*macri + 0.006*ahor + 0.006*t + 0.005*…\n",
      "2017-04-21 21:03:59,220 : INFO : topic #14 (0.001): 0.010*… + 0.007*mas + 0.006*si + 0.006*hoy + 0.005*argentin + 0.005*via + 0.005*plaz + 0.005*buen + 0.004*millon + 0.004*gobiern\n",
      "2017-04-21 21:03:59,224 : INFO : topic diff=0.101595, rho=0.174078\n",
      "2017-04-21 21:04:34,971 : INFO : -8.628 per-word bound, 395.6 perplexity estimate based on a held-out corpus of 13630 documents with 108040 words\n",
      "2017-04-21 21:04:35,037 : INFO : PROGRESS: pass 5, dispatched chunk #0 = documents up to #13630/109040, outstanding queue size 1\n",
      "2017-04-21 21:04:35,314 : INFO : PROGRESS: pass 5, dispatched chunk #1 = documents up to #27260/109040, outstanding queue size 2\n",
      "2017-04-21 21:04:35,523 : INFO : PROGRESS: pass 5, dispatched chunk #2 = documents up to #40890/109040, outstanding queue size 3\n",
      "2017-04-21 21:04:35,725 : INFO : PROGRESS: pass 5, dispatched chunk #3 = documents up to #54520/109040, outstanding queue size 4\n",
      "2017-04-21 21:04:35,957 : INFO : PROGRESS: pass 5, dispatched chunk #4 = documents up to #68150/109040, outstanding queue size 5\n",
      "2017-04-21 21:04:36,286 : INFO : PROGRESS: pass 5, dispatched chunk #5 = documents up to #81780/109040, outstanding queue size 6\n",
      "2017-04-21 21:04:36,690 : INFO : PROGRESS: pass 5, dispatched chunk #6 = documents up to #95410/109040, outstanding queue size 7\n",
      "2017-04-21 21:04:37,076 : INFO : PROGRESS: pass 5, dispatched chunk #7 = documents up to #109040/109040, outstanding queue size 8\n",
      "2017-04-21 21:05:19,042 : INFO : topic #0 (0.001): 0.015*mas + 0.007*polit + 0.007*hoy + 0.006*d + 0.006*gobiern + 0.005*… + 0.005*habl + 0.005*macri + 0.004*carp + 0.004*r\n",
      "2017-04-21 21:05:19,044 : INFO : topic #1 (0.001): 0.015*macri + 0.007*buen + 0.007*president + 0.006*gobiern + 0.006*deb + 0.005*esta + 0.005*ser + 0.005*march + 0.004*argentin + 0.004*part\n",
      "2017-04-21 21:05:19,046 : INFO : topic #2 (0.001): 0.012*que + 0.009*esta + 0.008*hac + 0.007*trabaj + 0.007*si + 0.007*q + 0.006*bien + 0.006*pued + 0.005*tod + 0.005*pas\n",
      "2017-04-21 21:05:19,049 : INFO : topic #3 (0.001): 0.016*q + 0.013*mas + 0.008*hoy + 0.007*si + 0.007*rodolfoceniz + 0.005*via + 0.005*hac + 0.005*nuev + 0.005*docent + 0.005*esta\n",
      "2017-04-21 21:05:19,051 : INFO : topic #4 (0.001): 0.006*program + 0.005*que + 0.005*pued + 0.005*micael + 0.005*buen + 0.005*hoy + 0.004*macri + 0.004*mas + 0.004*ser + 0.004*pod\n",
      "2017-04-21 21:05:19,054 : INFO : topic #5 (0.001): 0.009*argentin + 0.008*mas + 0.008*… + 0.007*march + 0.006*hac + 0.006*hoy + 0.006*malvin + 0.005*nuev + 0.005*federal + 0.005*educ\n",
      "2017-04-21 21:05:19,056 : INFO : topic #6 (0.001): 0.019*public + 0.010*escuel + 0.009*mas + 0.008*trabaj + 0.008*docent + 0.007*educ + 0.005*… + 0.005*si + 0.005*sol + 0.005*macri\n",
      "2017-04-21 21:05:19,058 : INFO : topic #7 (0.001): 0.034*par + 0.018*docent + 0.016*nacional + 0.011*gobiern + 0.009*hac + 0.008*argentin + 0.007*mas + 0.007*trabaj + 0.005*ahor + 0.005*macri\n",
      "2017-04-21 21:05:19,060 : INFO : topic #8 (0.001): 0.018*años + 0.015*viv + 0.009*q + 0.008*cas + 0.007*termin + 0.007*hij + 0.006*trabaj + 0.006*ahor + 0.006*dic + 0.006*nac\n",
      "2017-04-21 21:05:19,062 : INFO : topic #9 (0.001): 0.016*mas + 0.010*si + 0.007*… + 0.007*plaz + 0.006*macri + 0.006*memori + 0.005*hoy + 0.005*ahor + 0.005*march + 0.005*dia\n",
      "2017-04-21 21:05:19,065 : INFO : topic #10 (0.001): 0.033*si + 0.008*hac + 0.007*mas + 0.005*escuch + 0.005*hoy + 0.004*ver + 0.004*… + 0.004*ser + 0.004*graci + 0.004*asi\n",
      "2017-04-21 21:05:19,067 : INFO : topic #11 (0.001): 0.013*graci + 0.009*hoy + 0.007*mas + 0.005*pas + 0.005*esta + 0.005*argentin + 0.005*abraz + 0.005*hac + 0.005*mejor + 0.004*mal\n",
      "2017-04-21 21:05:19,069 : INFO : topic #12 (0.001): 0.009*q + 0.008*buen + 0.007*d + 0.007*c + 0.006*r + 0.006*salud + 0.006*u + 0.005*air + 0.005*mas + 0.005*x\n",
      "2017-04-21 21:05:19,071 : INFO : topic #13 (0.001): 0.011*argentin + 0.009*nuev + 0.008*i + 0.008*buen + 0.007*hoy + 0.006*d + 0.006*t + 0.006*ahor + 0.006*macri + 0.006*r\n",
      "2017-04-21 21:05:19,074 : INFO : topic #14 (0.001): 0.011*… + 0.007*mas + 0.006*si + 0.006*hoy + 0.005*via + 0.005*argentin + 0.005*plaz + 0.005*buen + 0.004*millon + 0.004*gobiern\n",
      "2017-04-21 21:05:19,075 : INFO : topic diff=0.096417, rho=0.156174\n",
      "2017-04-21 21:05:42,922 : INFO : -8.628 per-word bound, 395.7 perplexity estimate based on a held-out corpus of 13630 documents with 108040 words\n",
      "2017-04-21 21:05:42,985 : INFO : PROGRESS: pass 6, dispatched chunk #0 = documents up to #13630/109040, outstanding queue size 1\n",
      "2017-04-21 21:05:43,144 : INFO : PROGRESS: pass 6, dispatched chunk #1 = documents up to #27260/109040, outstanding queue size 2\n",
      "2017-04-21 21:05:43,303 : INFO : PROGRESS: pass 6, dispatched chunk #2 = documents up to #40890/109040, outstanding queue size 3\n",
      "2017-04-21 21:05:43,499 : INFO : PROGRESS: pass 6, dispatched chunk #3 = documents up to #54520/109040, outstanding queue size 4\n",
      "2017-04-21 21:05:43,729 : INFO : PROGRESS: pass 6, dispatched chunk #4 = documents up to #68150/109040, outstanding queue size 5\n",
      "2017-04-21 21:05:44,114 : INFO : PROGRESS: pass 6, dispatched chunk #5 = documents up to #81780/109040, outstanding queue size 6\n",
      "2017-04-21 21:05:44,217 : INFO : PROGRESS: pass 6, dispatched chunk #6 = documents up to #95410/109040, outstanding queue size 7\n",
      "2017-04-21 21:05:44,544 : INFO : PROGRESS: pass 6, dispatched chunk #7 = documents up to #109040/109040, outstanding queue size 8\n",
      "2017-04-21 21:06:20,631 : INFO : topic #0 (0.001): 0.015*mas + 0.007*polit + 0.007*hoy + 0.006*d + 0.006*gobiern + 0.005*… + 0.005*habl + 0.005*macri + 0.005*carp + 0.004*via\n",
      "2017-04-21 21:06:20,636 : INFO : topic #1 (0.001): 0.015*macri + 0.007*buen + 0.007*president + 0.006*gobiern + 0.006*deb + 0.005*esta + 0.005*ser + 0.004*march + 0.004*argentin + 0.004*part\n",
      "2017-04-21 21:06:20,640 : INFO : topic #2 (0.001): 0.012*que + 0.009*esta + 0.008*hac + 0.007*trabaj + 0.007*si + 0.007*q + 0.006*bien + 0.006*pued + 0.005*tod + 0.005*pas\n",
      "2017-04-21 21:06:20,645 : INFO : topic #3 (0.001): 0.017*q + 0.013*mas + 0.008*hoy + 0.007*si + 0.007*rodolfoceniz + 0.006*via + 0.005*hac + 0.005*nuev + 0.005*esta + 0.005*docent\n",
      "2017-04-21 21:06:20,649 : INFO : topic #4 (0.001): 0.006*program + 0.005*micael + 0.005*pued + 0.005*que + 0.005*buen + 0.005*hoy + 0.004*macri + 0.004*ser + 0.004*mas + 0.004*pod\n",
      "2017-04-21 21:06:20,653 : INFO : topic #5 (0.001): 0.009*argentin + 0.008*mas + 0.008*… + 0.008*march + 0.006*malvin + 0.006*hac + 0.006*hoy + 0.006*federal + 0.005*nuev + 0.005*educ\n",
      "2017-04-21 21:06:20,658 : INFO : topic #6 (0.001): 0.020*public + 0.011*escuel + 0.009*mas + 0.008*docent + 0.008*trabaj + 0.008*educ + 0.005*… + 0.005*si + 0.005*sol + 0.005*macri\n",
      "2017-04-21 21:06:20,663 : INFO : topic #7 (0.001): 0.036*par + 0.020*docent + 0.017*nacional + 0.012*gobiern + 0.009*hac + 0.008*argentin + 0.007*trabaj + 0.007*mas + 0.005*represion + 0.005*macri\n",
      "2017-04-21 21:06:20,666 : INFO : topic #8 (0.001): 0.020*años + 0.016*viv + 0.009*q + 0.008*cas + 0.008*termin + 0.007*hij + 0.007*trabaj + 0.006*ahor + 0.006*nac + 0.006*dic\n",
      "2017-04-21 21:06:20,670 : INFO : topic #9 (0.001): 0.016*mas + 0.010*si + 0.007*… + 0.007*plaz + 0.006*memori + 0.006*macri + 0.006*hoy + 0.005*ahor + 0.005*march + 0.005*dia\n",
      "2017-04-21 21:06:20,674 : INFO : topic #10 (0.001): 0.034*si + 0.008*hac + 0.007*mas + 0.005*escuch + 0.005*ver + 0.004*hoy + 0.004*ser + 0.004*… + 0.004*graci + 0.004*asi\n",
      "2017-04-21 21:06:20,679 : INFO : topic #11 (0.001): 0.014*graci + 0.009*hoy + 0.007*mas + 0.005*pas + 0.005*esta + 0.005*abraz + 0.005*argentin + 0.005*hac + 0.005*mejor + 0.005*mal\n",
      "2017-04-21 21:06:20,684 : INFO : topic #12 (0.001): 0.009*q + 0.008*buen + 0.008*d + 0.007*c + 0.007*r + 0.006*salud + 0.006*u + 0.006*air + 0.006*x + 0.005*i\n",
      "2017-04-21 21:06:20,688 : INFO : topic #13 (0.001): 0.011*argentin + 0.009*nuev + 0.009*i + 0.008*buen + 0.008*hoy + 0.007*t + 0.007*d + 0.006*r + 0.006*ahor + 0.006*macri\n",
      "2017-04-21 21:06:20,694 : INFO : topic #14 (0.001): 0.011*… + 0.007*mas + 0.006*si + 0.006*via + 0.006*hoy + 0.005*argentin + 0.005*plaz + 0.005*buen + 0.005*millon + 0.004*gobiern\n",
      "2017-04-21 21:06:20,696 : INFO : topic diff=0.093499, rho=0.142857\n",
      "2017-04-21 21:07:06,571 : INFO : -8.624 per-word bound, 394.5 perplexity estimate based on a held-out corpus of 13630 documents with 108040 words\n",
      "2017-04-21 21:07:06,746 : INFO : PROGRESS: pass 7, dispatched chunk #0 = documents up to #13630/109040, outstanding queue size 1\n",
      "2017-04-21 21:07:07,261 : INFO : PROGRESS: pass 7, dispatched chunk #1 = documents up to #27260/109040, outstanding queue size 2\n",
      "2017-04-21 21:07:07,722 : INFO : PROGRESS: pass 7, dispatched chunk #2 = documents up to #40890/109040, outstanding queue size 3\n",
      "2017-04-21 21:07:08,378 : INFO : PROGRESS: pass 7, dispatched chunk #3 = documents up to #54520/109040, outstanding queue size 4\n",
      "2017-04-21 21:07:08,979 : INFO : PROGRESS: pass 7, dispatched chunk #4 = documents up to #68150/109040, outstanding queue size 5\n",
      "2017-04-21 21:07:09,269 : INFO : PROGRESS: pass 7, dispatched chunk #5 = documents up to #81780/109040, outstanding queue size 6\n",
      "2017-04-21 21:07:09,905 : INFO : PROGRESS: pass 7, dispatched chunk #6 = documents up to #95410/109040, outstanding queue size 7\n",
      "2017-04-21 21:07:10,672 : INFO : PROGRESS: pass 7, dispatched chunk #7 = documents up to #109040/109040, outstanding queue size 8\n",
      "2017-04-21 21:08:22,695 : INFO : topic #0 (0.001): 0.015*mas + 0.008*polit + 0.007*hoy + 0.006*d + 0.006*gobiern + 0.005*… + 0.005*carp + 0.005*habl + 0.005*macri + 0.004*via\n",
      "2017-04-21 21:08:22,701 : INFO : topic #1 (0.001): 0.016*macri + 0.007*president + 0.007*buen + 0.006*gobiern + 0.006*deb + 0.005*esta + 0.005*ser + 0.004*march + 0.004*part + 0.004*argentin\n",
      "2017-04-21 21:08:22,712 : INFO : topic #2 (0.001): 0.013*que + 0.010*esta + 0.008*hac + 0.007*si + 0.007*trabaj + 0.007*q + 0.007*bien + 0.006*pued + 0.006*tod + 0.005*pas\n",
      "2017-04-21 21:08:22,716 : INFO : topic #3 (0.001): 0.018*q + 0.013*mas + 0.008*rodolfoceniz + 0.008*hoy + 0.007*si + 0.006*via + 0.005*hac + 0.005*nuev + 0.005*esta + 0.005*argentin\n",
      "2017-04-21 21:08:22,722 : INFO : topic #4 (0.001): 0.006*program + 0.005*micael + 0.005*pued + 0.005*buen + 0.005*que + 0.005*hoy + 0.004*macri + 0.004*ser + 0.004*pod + 0.004*mas\n",
      "2017-04-21 21:08:22,727 : INFO : topic #5 (0.001): 0.010*argentin + 0.008*mas + 0.008*march + 0.008*… + 0.006*malvin + 0.006*hac + 0.006*federal + 0.006*hoy + 0.005*educ + 0.005*nuev\n",
      "2017-04-21 21:08:22,733 : INFO : topic #6 (0.001): 0.021*public + 0.012*escuel + 0.009*mas + 0.008*docent + 0.008*educ + 0.008*trabaj + 0.005*… + 0.005*macri + 0.005*sol + 0.005*si\n",
      "2017-04-21 21:08:22,738 : INFO : topic #7 (0.001): 0.037*par + 0.021*docent + 0.018*nacional + 0.012*gobiern + 0.008*hac + 0.008*argentin + 0.007*trabaj + 0.007*mas + 0.006*represion + 0.006*macri\n",
      "2017-04-21 21:08:22,749 : INFO : topic #8 (0.001): 0.021*años + 0.017*viv + 0.009*cas + 0.009*q + 0.008*termin + 0.008*hij + 0.007*trabaj + 0.007*nac + 0.006*ahor + 0.006*cumpl\n",
      "2017-04-21 21:08:22,755 : INFO : topic #9 (0.001): 0.017*mas + 0.010*si + 0.007*plaz + 0.007*… + 0.007*memori + 0.006*macri + 0.006*hoy + 0.005*march + 0.005*dia + 0.005*ahor\n",
      "2017-04-21 21:08:22,759 : INFO : topic #10 (0.001): 0.035*si + 0.008*hac + 0.007*mas + 0.005*escuch + 0.005*ver + 0.004*ser + 0.004*hoy + 0.004*… + 0.004*asi + 0.004*graci\n",
      "2017-04-21 21:08:22,763 : INFO : topic #11 (0.001): 0.015*graci + 0.009*hoy + 0.007*mas + 0.005*pas + 0.005*abraz + 0.005*esta + 0.005*mejor + 0.005*argentin + 0.005*hac + 0.005*mal\n",
      "2017-04-21 21:08:22,773 : INFO : topic #12 (0.001): 0.009*q + 0.008*buen + 0.008*d + 0.007*c + 0.007*salud + 0.007*r + 0.007*u + 0.006*x + 0.006*air + 0.006*i\n",
      "2017-04-21 21:08:22,777 : INFO : topic #13 (0.001): 0.011*argentin + 0.009*nuev + 0.009*i + 0.008*buen + 0.008*hoy + 0.007*t + 0.007*d + 0.007*r + 0.006*ahor + 0.006*…\n",
      "2017-04-21 21:08:22,781 : INFO : topic #14 (0.001): 0.011*… + 0.007*mas + 0.006*via + 0.006*hoy + 0.006*si + 0.005*argentin + 0.005*plaz + 0.005*millon + 0.005*buen + 0.004*sig\n",
      "2017-04-21 21:08:22,784 : INFO : topic diff=0.091321, rho=0.132453\n",
      "2017-04-21 21:09:06,535 : INFO : -8.626 per-word bound, 395.0 perplexity estimate based on a held-out corpus of 13630 documents with 108040 words\n",
      "2017-04-21 21:09:06,700 : INFO : PROGRESS: pass 8, dispatched chunk #0 = documents up to #13630/109040, outstanding queue size 1\n",
      "2017-04-21 21:09:07,153 : INFO : PROGRESS: pass 8, dispatched chunk #1 = documents up to #27260/109040, outstanding queue size 2\n",
      "2017-04-21 21:09:07,903 : INFO : PROGRESS: pass 8, dispatched chunk #2 = documents up to #40890/109040, outstanding queue size 3\n",
      "2017-04-21 21:09:08,561 : INFO : PROGRESS: pass 8, dispatched chunk #3 = documents up to #54520/109040, outstanding queue size 4\n",
      "2017-04-21 21:09:08,856 : INFO : PROGRESS: pass 8, dispatched chunk #4 = documents up to #68150/109040, outstanding queue size 5\n",
      "2017-04-21 21:09:09,692 : INFO : PROGRESS: pass 8, dispatched chunk #5 = documents up to #81780/109040, outstanding queue size 6\n",
      "2017-04-21 21:09:09,929 : INFO : PROGRESS: pass 8, dispatched chunk #6 = documents up to #95410/109040, outstanding queue size 7\n",
      "2017-04-21 21:09:10,570 : INFO : PROGRESS: pass 8, dispatched chunk #7 = documents up to #109040/109040, outstanding queue size 8\n",
      "2017-04-21 21:10:24,946 : INFO : topic #0 (0.001): 0.015*mas + 0.008*polit + 0.007*hoy + 0.006*d + 0.006*gobiern + 0.006*… + 0.005*carp + 0.005*habl + 0.005*macri + 0.005*blanc\n",
      "2017-04-21 21:10:24,951 : INFO : topic #1 (0.001): 0.017*macri + 0.008*president + 0.007*buen + 0.006*gobiern + 0.006*deb + 0.005*esta + 0.005*ser + 0.004*march + 0.004*argentin + 0.004*part\n",
      "2017-04-21 21:10:24,956 : INFO : topic #2 (0.001): 0.014*que + 0.010*esta + 0.008*hac + 0.007*si + 0.007*q + 0.007*trabaj + 0.007*bien + 0.006*pued + 0.006*tod + 0.006*pas\n",
      "2017-04-21 21:10:24,962 : INFO : topic #3 (0.001): 0.019*q + 0.014*mas + 0.008*rodolfoceniz + 0.007*hoy + 0.007*si + 0.006*via + 0.005*hac + 0.005*nuev + 0.005*esta + 0.005*argentin\n",
      "2017-04-21 21:10:24,967 : INFO : topic #4 (0.001): 0.006*program + 0.006*micael + 0.005*buen + 0.005*pued + 0.005*que + 0.005*hoy + 0.004*macri + 0.004*pod + 0.004*ser + 0.004*seleccion\n",
      "2017-04-21 21:10:24,973 : INFO : topic #5 (0.001): 0.010*argentin + 0.008*march + 0.008*mas + 0.008*… + 0.007*malvin + 0.006*federal + 0.006*hoy + 0.006*hac + 0.005*educ + 0.005*nuev\n",
      "2017-04-21 21:10:24,978 : INFO : topic #6 (0.001): 0.022*public + 0.013*escuel + 0.009*mas + 0.009*educ + 0.008*docent + 0.008*trabaj + 0.005*… + 0.005*macri + 0.005*sol + 0.005*si\n",
      "2017-04-21 21:10:24,983 : INFO : topic #7 (0.001): 0.038*par + 0.023*docent + 0.018*nacional + 0.013*gobiern + 0.008*hac + 0.008*argentin + 0.008*trabaj + 0.006*mas + 0.006*represion + 0.006*macri\n",
      "2017-04-21 21:10:24,988 : INFO : topic #8 (0.001): 0.022*años + 0.018*viv + 0.009*cas + 0.009*termin + 0.008*q + 0.008*hij + 0.007*trabaj + 0.007*nac + 0.006*ahor + 0.006*cumpl\n",
      "2017-04-21 21:10:24,993 : INFO : topic #9 (0.001): 0.017*mas + 0.009*si + 0.008*plaz + 0.008*memori + 0.007*… + 0.006*hoy + 0.006*macri + 0.005*march + 0.005*dia + 0.005*cn\n",
      "2017-04-21 21:10:24,998 : INFO : topic #10 (0.001): 0.036*si + 0.008*hac + 0.007*mas + 0.005*escuch + 0.005*ver + 0.004*ser + 0.004*hoy + 0.004*asi + 0.004*… + 0.004*graci\n",
      "2017-04-21 21:10:25,003 : INFO : topic #11 (0.001): 0.015*graci + 0.009*hoy + 0.007*mas + 0.005*abraz + 0.005*pas + 0.005*esta + 0.005*mejor + 0.005*mal + 0.005*hac + 0.005*argentin\n",
      "2017-04-21 21:10:25,008 : INFO : topic #12 (0.001): 0.009*q + 0.009*d + 0.008*buen + 0.008*c + 0.007*salud + 0.007*u + 0.007*r + 0.006*x + 0.006*air + 0.006*lenin\n",
      "2017-04-21 21:10:25,013 : INFO : topic #13 (0.001): 0.011*argentin + 0.010*i + 0.010*nuev + 0.008*buen + 0.008*hoy + 0.008*t + 0.007*r + 0.007*d + 0.006*c + 0.006*l\n",
      "2017-04-21 21:10:25,020 : INFO : topic #14 (0.001): 0.011*… + 0.007*mas + 0.006*via + 0.006*hoy + 0.005*argentin + 0.005*si + 0.005*millon + 0.005*plaz + 0.005*buen + 0.004*siri\n",
      "2017-04-21 21:10:25,023 : INFO : topic diff=0.089854, rho=0.124035\n"
     ]
    }
   ],
   "source": [
    "model = gensim.models.LdaMulticore(\n",
    "        corpus=bow,\n",
    "        id2word=dictionary,\n",
    "        num_topics=n_topics,\n",
    "        iterations=iters,\n",
    "        alpha=0.001,\n",
    "        passes=passes,\n",
    "        chunksize=chunksize,\n",
    "        workers=workers\n",
    ")\n",
    "model.save(\"tweets_es_%dtopics.lda\" % n_topics)"
   ]
  },
  {
   "cell_type": "code",
   "execution_count": 18,
   "metadata": {
    "collapsed": false,
    "deletable": true,
    "editable": true
   },
   "outputs": [
    {
     "name": "stderr",
     "output_type": "stream",
     "text": [
      "2017-04-21 19:58:38,615 : INFO : loading LdaModel object from tweets_es_20topics.lda\n",
      "2017-04-21 19:58:38,660 : INFO : setting ignored attribute state to None\n",
      "2017-04-21 19:58:38,661 : INFO : setting ignored attribute dispatcher to None\n",
      "2017-04-21 19:58:38,663 : INFO : loading LdaModel object from tweets_es_20topics.lda.state\n"
     ]
    }
   ],
   "source": [
    "model = gensim.models.LdaModel.load(\"tweets_es_%dtopics.lda\" % n_topics)"
   ]
  },
  {
   "cell_type": "code",
   "execution_count": null,
   "metadata": {
    "collapsed": false,
    "deletable": true,
    "editable": true
   },
   "outputs": [],
   "source": [
    "viz = pyLDAvis.gensim.prepare(model, [v for v in bow], model.id2word)\n",
    "pickle.dump(viz, open(\"tweets_es_%d.viz\" % n_topics,'wb'))"
   ]
  },
  {
   "cell_type": "code",
   "execution_count": 20,
   "metadata": {
    "collapsed": true,
    "deletable": true,
    "editable": true
   },
   "outputs": [],
   "source": [
    "viz = pickle.load(open(\"tweets_es_%d.viz\" % n_topics,'rb'))"
   ]
  },
  {
   "cell_type": "code",
   "execution_count": null,
   "metadata": {
    "collapsed": false,
    "deletable": true,
    "editable": true
   },
   "outputs": [],
   "source": [
    "pyLDAvis.display(viz)"
   ]
  },
  {
   "cell_type": "markdown",
   "metadata": {
    "deletable": true,
    "editable": true
   },
   "source": [
    "# Extracción de features LDA sobre tweets"
   ]
  },
  {
   "cell_type": "code",
   "execution_count": null,
   "metadata": {
    "collapsed": false,
    "deletable": true,
    "editable": true
   },
   "outputs": [],
   "source": [
    "tweets_lda = [model[t_bow] for t_bow in bow]"
   ]
  },
  {
   "cell_type": "code",
   "execution_count": null,
   "metadata": {
    "collapsed": false,
    "deletable": true,
    "editable": true
   },
   "outputs": [],
   "source": [
    "def rows_to_csc(rows):\n",
    "    data = []\n",
    "    row_ind = []\n",
    "    col_ind = []\n",
    "    for i, r in enumerate(rows):\n",
    "        for j, d in r:\n",
    "            row_ind.append(i)\n",
    "            col_ind.append(j)\n",
    "            data.append(d)\n",
    "    return csc_matrix((data, (row_ind, col_ind)))"
   ]
  },
  {
   "cell_type": "code",
   "execution_count": null,
   "metadata": {
    "collapsed": true,
    "deletable": true,
    "editable": true
   },
   "outputs": [],
   "source": [
    "from scipy.sparse import csc, csc_matrix"
   ]
  },
  {
   "cell_type": "code",
   "execution_count": null,
   "metadata": {
    "collapsed": false,
    "deletable": true,
    "editable": true
   },
   "outputs": [],
   "source": [
    "X_tweets_lda = rows_to_csc(tweets_lda)"
   ]
  },
  {
   "cell_type": "code",
   "execution_count": null,
   "metadata": {
    "collapsed": false,
    "deletable": true,
    "editable": true
   },
   "outputs": [],
   "source": [
    "X_tweets_lda_df = pd.DataFrame(index=all_tweets_es_ids, data=X_tweets_lda.todense())"
   ]
  },
  {
   "cell_type": "code",
   "execution_count": null,
   "metadata": {
    "collapsed": false,
    "deletable": true,
    "editable": true
   },
   "outputs": [],
   "source": [
    "X_tweets_lda_df"
   ]
  },
  {
   "cell_type": "code",
   "execution_count": null,
   "metadata": {
    "collapsed": true,
    "deletable": true,
    "editable": true
   },
   "outputs": [],
   "source": [
    "X_tweets_lda_df.to_pickle(\"alltweets_es_lda%d.pickle\" % n_topics)"
   ]
  }
 ],
 "metadata": {
  "kernelspec": {
   "display_name": "Python 2",
   "language": "python",
   "name": "python2"
  },
  "language_info": {
   "codemirror_mode": {
    "name": "ipython",
    "version": 2
   },
   "file_extension": ".py",
   "mimetype": "text/x-python",
   "name": "python",
   "nbconvert_exporter": "python",
   "pygments_lexer": "ipython2",
   "version": "2.7.12"
  }
 },
 "nbformat": 4,
 "nbformat_minor": 2
}
