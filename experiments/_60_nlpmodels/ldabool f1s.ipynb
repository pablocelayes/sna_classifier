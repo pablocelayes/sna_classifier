{
 "cells": [
  {
   "cell_type": "code",
   "execution_count": 139,
   "metadata": {
    "collapsed": true
   },
   "outputs": [],
   "source": [
    "nlp_model = 'ldabool'\n",
    "\n",
    "from experiments._60_nlpmodels.fit_social_nlp_models import *\n",
    "\n",
    "from sklearn.metrics import f1_score\n",
    "\n",
    "f1s_social = load_nlp_selected_users()\n",
    "\n",
    "nlp_uids = [x[0] for x in f1s_social]\n",
    "\n",
    "uid_pos = {uid: pos for pos, uid in enumerate(nlp_uids)}"
   ]
  },
  {
   "cell_type": "code",
   "execution_count": 140,
   "metadata": {
    "collapsed": true
   },
   "outputs": [],
   "source": [
    "# def scale(X_train, X_test):\n",
    "#     train_size = X_train.shape[0]\n",
    "#     X = np.concatenate((X_train, X_test))\n",
    "#     scaler = StandardScaler()\n",
    "#     scaler.fit(X)\n",
    "#     X = scaler.transform(X)\n",
    "#     X_train = X[:train_size,:]\n",
    "#     X_test = X[train_size:,:]\n",
    "\n",
    "#     return X_train, X_test, scaler\n",
    "\n",
    "# f1s_combined = {}\n",
    "\n",
    "# for n_topics in [10, 20]:\n",
    "#     f1s_n = {'train': [], 'valid': [], 'test': []}\n",
    "#     nlp_feats = pd.read_pickle('alltweets_es_%s%d.pickle' % (nlp_model, n_topics))\n",
    "\n",
    "#     for uid, f1 in f1s_social:\n",
    "#         uid = int(uid)\n",
    "#         clf = load_model(uid, 'svc' + nlp_model, n_topics=n_topics, subfolder='social_nlp')\n",
    "\n",
    "#         # Train classifiers only if not created already\n",
    "#         print \"==============================\" \n",
    "#         print \"Processing %d ( f1 %.2f %%)\" % (uid, 100 * f1)\n",
    "\n",
    "#         X_train, X_valid, X_test, y_train, y_valid, y_test = load_dataframe(uid)\n",
    "\n",
    "#         X_train_nlp = nlp_feats.loc[X_train.index]\n",
    "#         X_valid_nlp = nlp_feats.loc[X_valid.index]\n",
    "#         X_test_nlp = nlp_feats.loc[X_test.index]\n",
    "\n",
    "#         X_train_combined = np.hstack((X_train, X_train_nlp))\n",
    "#         X_valid_combined = np.hstack((X_valid, X_valid_nlp))\n",
    "#         X_test_combined = np.hstack((X_test, X_test_nlp))\n",
    "\n",
    "#         X_train_combined, X_valid_combined, scaler = scale(X_train_combined, X_valid_combined)\n",
    "#         # Aplicar mismo scaling a X_test\n",
    "#         X_test_combined = scaler.transform(X_test_combined)\n",
    "        \n",
    "#         y_true, y_pred = y_train, clf.predict(X_train_combined)\n",
    "#         f1s_n['train'].append(f1_score(y_true, y_pred))\n",
    "        \n",
    "#         y_true, y_pred = y_valid, clf.predict(X_valid_combined)\n",
    "#         f1s_n['valid'].append(f1_score(y_true, y_pred))\n",
    "        \n",
    "#         y_true, y_pred = y_test, clf.predict(X_test_combined)\n",
    "#         f1s_n['test'].append(f1_score(y_true, y_pred))\n",
    "        \n",
    "#     f1s_combined[n_topics] = f1s_n"
   ]
  },
  {
   "cell_type": "code",
   "execution_count": 141,
   "metadata": {
    "collapsed": true
   },
   "outputs": [],
   "source": [
    "# with open('f1s_combined_%s.json' % nlp_model, 'w') as f:\n",
    "#     json.dump(f1s_combined, f)"
   ]
  },
  {
   "cell_type": "code",
   "execution_count": 142,
   "metadata": {
    "collapsed": true
   },
   "outputs": [],
   "source": [
    "with open('f1s_combined_%s.json' % nlp_model) as f:\n",
    "    f1s_combined = json.load(f)"
   ]
  },
  {
   "cell_type": "markdown",
   "metadata": {},
   "source": [
    "# Comparación sobre set de prueba"
   ]
  },
  {
   "cell_type": "code",
   "execution_count": 143,
   "metadata": {
    "collapsed": true
   },
   "outputs": [],
   "source": [
    "from bokeh.charts import Line, show, output_notebook"
   ]
  },
  {
   "cell_type": "code",
   "execution_count": 144,
   "metadata": {
    "collapsed": false
   },
   "outputs": [
    {
     "data": {
      "text/html": [
       "\n",
       "    <div class=\"bk-root\">\n",
       "        <a href=\"http://bokeh.pydata.org\" target=\"_blank\" class=\"bk-logo bk-logo-small bk-logo-notebook\"></a>\n",
       "        <span id=\"1cb22a71-a60a-409e-a66e-8a9a87ffde3b\">Loading BokehJS ...</span>\n",
       "    </div>"
      ]
     },
     "metadata": {},
     "output_type": "display_data"
    },
    {
     "data": {
      "application/javascript": [
       "\n",
       "(function(global) {\n",
       "  function now() {\n",
       "    return new Date();\n",
       "  }\n",
       "\n",
       "  var force = true;\n",
       "\n",
       "  if (typeof (window._bokeh_onload_callbacks) === \"undefined\" || force === true) {\n",
       "    window._bokeh_onload_callbacks = [];\n",
       "    window._bokeh_is_loading = undefined;\n",
       "  }\n",
       "\n",
       "\n",
       "  \n",
       "  if (typeof (window._bokeh_timeout) === \"undefined\" || force === true) {\n",
       "    window._bokeh_timeout = Date.now() + 5000;\n",
       "    window._bokeh_failed_load = false;\n",
       "  }\n",
       "\n",
       "  var NB_LOAD_WARNING = {'data': {'text/html':\n",
       "     \"<div style='background-color: #fdd'>\\n\"+\n",
       "     \"<p>\\n\"+\n",
       "     \"BokehJS does not appear to have successfully loaded. If loading BokehJS from CDN, this \\n\"+\n",
       "     \"may be due to a slow or bad network connection. Possible fixes:\\n\"+\n",
       "     \"</p>\\n\"+\n",
       "     \"<ul>\\n\"+\n",
       "     \"<li>re-rerun `output_notebook()` to attempt to load from CDN again, or</li>\\n\"+\n",
       "     \"<li>use INLINE resources instead, as so:</li>\\n\"+\n",
       "     \"</ul>\\n\"+\n",
       "     \"<code>\\n\"+\n",
       "     \"from bokeh.resources import INLINE\\n\"+\n",
       "     \"output_notebook(resources=INLINE)\\n\"+\n",
       "     \"</code>\\n\"+\n",
       "     \"</div>\"}};\n",
       "\n",
       "  function display_loaded() {\n",
       "    if (window.Bokeh !== undefined) {\n",
       "      var el = document.getElementById(\"1cb22a71-a60a-409e-a66e-8a9a87ffde3b\");\n",
       "      el.textContent = \"BokehJS \" + Bokeh.version + \" successfully loaded.\";\n",
       "    } else if (Date.now() < window._bokeh_timeout) {\n",
       "      setTimeout(display_loaded, 100)\n",
       "    }\n",
       "  }\n",
       "\n",
       "  function run_callbacks() {\n",
       "    window._bokeh_onload_callbacks.forEach(function(callback) { callback() });\n",
       "    delete window._bokeh_onload_callbacks\n",
       "    console.info(\"Bokeh: all callbacks have finished\");\n",
       "  }\n",
       "\n",
       "  function load_libs(js_urls, callback) {\n",
       "    window._bokeh_onload_callbacks.push(callback);\n",
       "    if (window._bokeh_is_loading > 0) {\n",
       "      console.log(\"Bokeh: BokehJS is being loaded, scheduling callback at\", now());\n",
       "      return null;\n",
       "    }\n",
       "    if (js_urls == null || js_urls.length === 0) {\n",
       "      run_callbacks();\n",
       "      return null;\n",
       "    }\n",
       "    console.log(\"Bokeh: BokehJS not loaded, scheduling load and callback at\", now());\n",
       "    window._bokeh_is_loading = js_urls.length;\n",
       "    for (var i = 0; i < js_urls.length; i++) {\n",
       "      var url = js_urls[i];\n",
       "      var s = document.createElement('script');\n",
       "      s.src = url;\n",
       "      s.async = false;\n",
       "      s.onreadystatechange = s.onload = function() {\n",
       "        window._bokeh_is_loading--;\n",
       "        if (window._bokeh_is_loading === 0) {\n",
       "          console.log(\"Bokeh: all BokehJS libraries loaded\");\n",
       "          run_callbacks()\n",
       "        }\n",
       "      };\n",
       "      s.onerror = function() {\n",
       "        console.warn(\"failed to load library \" + url);\n",
       "      };\n",
       "      console.log(\"Bokeh: injecting script tag for BokehJS library: \", url);\n",
       "      document.getElementsByTagName(\"head\")[0].appendChild(s);\n",
       "    }\n",
       "  };var element = document.getElementById(\"1cb22a71-a60a-409e-a66e-8a9a87ffde3b\");\n",
       "  if (element == null) {\n",
       "    console.log(\"Bokeh: ERROR: autoload.js configured with elementid '1cb22a71-a60a-409e-a66e-8a9a87ffde3b' but no matching script tag was found. \")\n",
       "    return false;\n",
       "  }\n",
       "\n",
       "  var js_urls = [\"https://cdn.pydata.org/bokeh/release/bokeh-0.12.5.min.js\", \"https://cdn.pydata.org/bokeh/release/bokeh-widgets-0.12.5.min.js\"];\n",
       "\n",
       "  var inline_js = [\n",
       "    function(Bokeh) {\n",
       "      Bokeh.set_log_level(\"info\");\n",
       "    },\n",
       "    \n",
       "    function(Bokeh) {\n",
       "      \n",
       "    },\n",
       "    \n",
       "    function(Bokeh) {\n",
       "      \n",
       "      document.getElementById(\"1cb22a71-a60a-409e-a66e-8a9a87ffde3b\").textContent = \"BokehJS is loading...\";\n",
       "    },\n",
       "    function(Bokeh) {\n",
       "      console.log(\"Bokeh: injecting CSS: https://cdn.pydata.org/bokeh/release/bokeh-0.12.5.min.css\");\n",
       "      Bokeh.embed.inject_css(\"https://cdn.pydata.org/bokeh/release/bokeh-0.12.5.min.css\");\n",
       "      console.log(\"Bokeh: injecting CSS: https://cdn.pydata.org/bokeh/release/bokeh-widgets-0.12.5.min.css\");\n",
       "      Bokeh.embed.inject_css(\"https://cdn.pydata.org/bokeh/release/bokeh-widgets-0.12.5.min.css\");\n",
       "    }\n",
       "  ];\n",
       "\n",
       "  function run_inline_js() {\n",
       "    \n",
       "    if ((window.Bokeh !== undefined) || (force === true)) {\n",
       "      for (var i = 0; i < inline_js.length; i++) {\n",
       "        inline_js[i](window.Bokeh);\n",
       "      }if (force === true) {\n",
       "        display_loaded();\n",
       "      }} else if (Date.now() < window._bokeh_timeout) {\n",
       "      setTimeout(run_inline_js, 100);\n",
       "    } else if (!window._bokeh_failed_load) {\n",
       "      console.log(\"Bokeh: BokehJS failed to load within specified timeout.\");\n",
       "      window._bokeh_failed_load = true;\n",
       "    } else if (force !== true) {\n",
       "      var cell = $(document.getElementById(\"1cb22a71-a60a-409e-a66e-8a9a87ffde3b\")).parents('.cell').data().cell;\n",
       "      cell.output_area.append_execute_result(NB_LOAD_WARNING)\n",
       "    }\n",
       "\n",
       "  }\n",
       "\n",
       "  if (window._bokeh_is_loading === 0) {\n",
       "    console.log(\"Bokeh: BokehJS loaded, going straight to plotting\");\n",
       "    run_inline_js();\n",
       "  } else {\n",
       "    load_libs(js_urls, function() {\n",
       "      console.log(\"Bokeh: BokehJS plotting callback run at\", now());\n",
       "      run_inline_js();\n",
       "    });\n",
       "  }\n",
       "}(this));"
      ]
     },
     "metadata": {},
     "output_type": "display_data"
    }
   ],
   "source": [
    "output_notebook()"
   ]
  },
  {
   "cell_type": "code",
   "execution_count": 145,
   "metadata": {
    "collapsed": true
   },
   "outputs": [],
   "source": [
    "f1s_test_social = json.load(open('../_1_one_user_learn_neighbours/f1s_testv_svc.json'))\n",
    "f1s_test_social = {u: f for u, f in f1s_test_social.items() if u in nlp_uids}"
   ]
  },
  {
   "cell_type": "code",
   "execution_count": 146,
   "metadata": {
    "collapsed": true
   },
   "outputs": [],
   "source": [
    "sorted_uids = [u for u, f in sorted(f1s_test_social.items(), key=lambda x:x[1])]\n",
    "indices = range(len(sorted_uids))"
   ]
  },
  {
   "cell_type": "code",
   "execution_count": 147,
   "metadata": {
    "collapsed": true
   },
   "outputs": [],
   "source": [
    "f1s_10 = np.array([f1s_combined['10']['test'][uid_pos[sorted_uids[i]]] for i in indices])\n",
    "f1s_20 = np.array([f1s_combined['20']['test'][uid_pos[sorted_uids[i]]] for i in indices])\n",
    "f1s_s = np.array([f1s_test_social[sorted_uids[i]] for i in indices])"
   ]
  },
  {
   "cell_type": "code",
   "execution_count": 148,
   "metadata": {
    "collapsed": false
   },
   "outputs": [
    {
     "data": {
      "text/html": [
       "\n",
       "\n",
       "    <div class=\"bk-root\">\n",
       "        <div class=\"bk-plotdiv\" id=\"99819d78-fcbe-4c26-be26-d772c0b30694\"></div>\n",
       "    </div>\n",
       "<script type=\"text/javascript\">\n",
       "  \n",
       "  (function(global) {\n",
       "    function now() {\n",
       "      return new Date();\n",
       "    }\n",
       "  \n",
       "    var force = false;\n",
       "  \n",
       "    if (typeof (window._bokeh_onload_callbacks) === \"undefined\" || force === true) {\n",
       "      window._bokeh_onload_callbacks = [];\n",
       "      window._bokeh_is_loading = undefined;\n",
       "    }\n",
       "  \n",
       "  \n",
       "    \n",
       "    if (typeof (window._bokeh_timeout) === \"undefined\" || force === true) {\n",
       "      window._bokeh_timeout = Date.now() + 0;\n",
       "      window._bokeh_failed_load = false;\n",
       "    }\n",
       "  \n",
       "    var NB_LOAD_WARNING = {'data': {'text/html':\n",
       "       \"<div style='background-color: #fdd'>\\n\"+\n",
       "       \"<p>\\n\"+\n",
       "       \"BokehJS does not appear to have successfully loaded. If loading BokehJS from CDN, this \\n\"+\n",
       "       \"may be due to a slow or bad network connection. Possible fixes:\\n\"+\n",
       "       \"</p>\\n\"+\n",
       "       \"<ul>\\n\"+\n",
       "       \"<li>re-rerun `output_notebook()` to attempt to load from CDN again, or</li>\\n\"+\n",
       "       \"<li>use INLINE resources instead, as so:</li>\\n\"+\n",
       "       \"</ul>\\n\"+\n",
       "       \"<code>\\n\"+\n",
       "       \"from bokeh.resources import INLINE\\n\"+\n",
       "       \"output_notebook(resources=INLINE)\\n\"+\n",
       "       \"</code>\\n\"+\n",
       "       \"</div>\"}};\n",
       "  \n",
       "    function display_loaded() {\n",
       "      if (window.Bokeh !== undefined) {\n",
       "        var el = document.getElementById(\"99819d78-fcbe-4c26-be26-d772c0b30694\");\n",
       "        el.textContent = \"BokehJS \" + Bokeh.version + \" successfully loaded.\";\n",
       "      } else if (Date.now() < window._bokeh_timeout) {\n",
       "        setTimeout(display_loaded, 100)\n",
       "      }\n",
       "    }\n",
       "  \n",
       "    function run_callbacks() {\n",
       "      window._bokeh_onload_callbacks.forEach(function(callback) { callback() });\n",
       "      delete window._bokeh_onload_callbacks\n",
       "      console.info(\"Bokeh: all callbacks have finished\");\n",
       "    }\n",
       "  \n",
       "    function load_libs(js_urls, callback) {\n",
       "      window._bokeh_onload_callbacks.push(callback);\n",
       "      if (window._bokeh_is_loading > 0) {\n",
       "        console.log(\"Bokeh: BokehJS is being loaded, scheduling callback at\", now());\n",
       "        return null;\n",
       "      }\n",
       "      if (js_urls == null || js_urls.length === 0) {\n",
       "        run_callbacks();\n",
       "        return null;\n",
       "      }\n",
       "      console.log(\"Bokeh: BokehJS not loaded, scheduling load and callback at\", now());\n",
       "      window._bokeh_is_loading = js_urls.length;\n",
       "      for (var i = 0; i < js_urls.length; i++) {\n",
       "        var url = js_urls[i];\n",
       "        var s = document.createElement('script');\n",
       "        s.src = url;\n",
       "        s.async = false;\n",
       "        s.onreadystatechange = s.onload = function() {\n",
       "          window._bokeh_is_loading--;\n",
       "          if (window._bokeh_is_loading === 0) {\n",
       "            console.log(\"Bokeh: all BokehJS libraries loaded\");\n",
       "            run_callbacks()\n",
       "          }\n",
       "        };\n",
       "        s.onerror = function() {\n",
       "          console.warn(\"failed to load library \" + url);\n",
       "        };\n",
       "        console.log(\"Bokeh: injecting script tag for BokehJS library: \", url);\n",
       "        document.getElementsByTagName(\"head\")[0].appendChild(s);\n",
       "      }\n",
       "    };var element = document.getElementById(\"99819d78-fcbe-4c26-be26-d772c0b30694\");\n",
       "    if (element == null) {\n",
       "      console.log(\"Bokeh: ERROR: autoload.js configured with elementid '99819d78-fcbe-4c26-be26-d772c0b30694' but no matching script tag was found. \")\n",
       "      return false;\n",
       "    }\n",
       "  \n",
       "    var js_urls = [];\n",
       "  \n",
       "    var inline_js = [\n",
       "      function(Bokeh) {\n",
       "        (function() {\n",
       "          var fn = function() {\n",
       "            var docs_json = {\"2088171c-ddf5-4ec9-a7a5-623d8207b6d3\":{\"roots\":{\"references\":[{\"attributes\":{\"callback\":null,\"end\":1.049715838893007,\"start\":0.2425994563874475},\"id\":\"15b31351-a705-4c56-8763-1c54a7769f58\",\"type\":\"Range1d\"},{\"attributes\":{\"active_drag\":\"auto\",\"active_scroll\":\"auto\",\"active_tap\":\"auto\",\"tools\":[{\"id\":\"a2e74784-5cc5-45df-910f-16602fafac11\",\"type\":\"PanTool\"},{\"id\":\"4832dd36-2e1f-4896-bd58-1680ac551ec1\",\"type\":\"WheelZoomTool\"},{\"id\":\"9cb56469-cab6-4a50-9e0b-f1aa000092d7\",\"type\":\"BoxZoomTool\"},{\"id\":\"25d18912-1e66-4094-ae84-fc398c7232cd\",\"type\":\"SaveTool\"},{\"id\":\"01afcc3e-3a9a-423b-9e3f-1198f83d17f4\",\"type\":\"ResetTool\"},{\"id\":\"28476714-2f51-466f-af30-bea6d75960ec\",\"type\":\"HelpTool\"}]},\"id\":\"3e7dd28d-6e9c-42b3-900e-f04ea6c234b4\",\"type\":\"Toolbar\"},{\"attributes\":{\"data_source\":{\"id\":\"dbbcba30-af5b-4b21-ab63-1dc50be9a443\",\"type\":\"ColumnDataSource\"},\"glyph\":{\"id\":\"684a9317-7f03-4901-8e54-ae9e356602d3\",\"type\":\"Line\"},\"hover_glyph\":null,\"muted_glyph\":null},\"id\":\"8283192c-5247-4d23-926a-c64a99ccbf7b\",\"type\":\"GlyphRenderer\"},{\"attributes\":{\"below\":[{\"id\":\"b37cd1b6-4bfd-48dd-be9e-ee464880d995\",\"type\":\"LinearAxis\"}],\"css_classes\":null,\"left\":[{\"id\":\"7536a802-bf77-4995-b324-6bef7f2c7631\",\"type\":\"LinearAxis\"}],\"renderers\":[{\"id\":\"07335b1f-542f-4144-a82f-fbbe98fb4d24\",\"type\":\"BoxAnnotation\"},{\"id\":\"1a8acfa1-7e7d-4b94-9140-e09f860318b4\",\"type\":\"GlyphRenderer\"},{\"id\":\"21d0527b-3a8f-4fb7-ae89-269fe6054097\",\"type\":\"GlyphRenderer\"},{\"id\":\"8283192c-5247-4d23-926a-c64a99ccbf7b\",\"type\":\"GlyphRenderer\"},{\"id\":\"0f6824bf-f73a-4661-88de-841de57fdf2e\",\"type\":\"Legend\"},{\"id\":\"b37cd1b6-4bfd-48dd-be9e-ee464880d995\",\"type\":\"LinearAxis\"},{\"id\":\"7536a802-bf77-4995-b324-6bef7f2c7631\",\"type\":\"LinearAxis\"},{\"id\":\"ecf7d5a6-6b82-47ef-b331-2443034b258b\",\"type\":\"Grid\"},{\"id\":\"e999701c-ec61-475e-9c71-2c321298efd2\",\"type\":\"Grid\"}],\"title\":{\"id\":\"08f4526f-c186-4673-bef0-6f21afbe0d89\",\"type\":\"Title\"},\"tool_events\":{\"id\":\"57dd1be2-0289-4f3d-ab8e-11412e39b495\",\"type\":\"ToolEvents\"},\"toolbar\":{\"id\":\"3e7dd28d-6e9c-42b3-900e-f04ea6c234b4\",\"type\":\"Toolbar\"},\"x_mapper_type\":\"auto\",\"x_range\":{\"id\":\"8603bd6e-3068-4ba9-96c9-439f81452ff8\",\"type\":\"Range1d\"},\"y_mapper_type\":\"auto\",\"y_range\":{\"id\":\"15b31351-a705-4c56-8763-1c54a7769f58\",\"type\":\"Range1d\"}},\"id\":\"3d436443-cd94-465f-bb69-9cc977d7c273\",\"subtype\":\"Chart\",\"type\":\"Plot\"},{\"attributes\":{\"plot\":{\"id\":\"3d436443-cd94-465f-bb69-9cc977d7c273\",\"subtype\":\"Chart\",\"type\":\"Plot\"}},\"id\":\"25d18912-1e66-4094-ae84-fc398c7232cd\",\"type\":\"SaveTool\"},{\"attributes\":{\"plot\":{\"id\":\"3d436443-cd94-465f-bb69-9cc977d7c273\",\"subtype\":\"Chart\",\"type\":\"Plot\"},\"ticker\":{\"id\":\"e0ef46df-974b-4cec-85e6-795cc2aa1e63\",\"type\":\"BasicTicker\"}},\"id\":\"ecf7d5a6-6b82-47ef-b331-2443034b258b\",\"type\":\"Grid\"},{\"attributes\":{},\"id\":\"8bd2391b-c1ac-4093-8f55-1ca9b1e1117c\",\"type\":\"BasicTicker\"},{\"attributes\":{\"items\":[{\"id\":\"38ef3b83-a5ff-4470-9317-d75bc43cb6a4\",\"type\":\"LegendItem\"},{\"id\":\"4b208c7f-bd7f-4ca8-8cf2-ec888de472b9\",\"type\":\"LegendItem\"},{\"id\":\"a41ca021-1408-4d38-b381-9e10d1dfb8b4\",\"type\":\"LegendItem\"}],\"location\":\"top_left\",\"plot\":{\"id\":\"3d436443-cd94-465f-bb69-9cc977d7c273\",\"subtype\":\"Chart\",\"type\":\"Plot\"}},\"id\":\"0f6824bf-f73a-4661-88de-841de57fdf2e\",\"type\":\"Legend\"},{\"attributes\":{\"data_source\":{\"id\":\"23cd7c91-f7c0-43bd-b91f-0fb5a0119e03\",\"type\":\"ColumnDataSource\"},\"glyph\":{\"id\":\"fb82392a-9b98-4ae8-bdf6-f6124d2866e2\",\"type\":\"Line\"},\"hover_glyph\":null,\"muted_glyph\":null},\"id\":\"21d0527b-3a8f-4fb7-ae89-269fe6054097\",\"type\":\"GlyphRenderer\"},{\"attributes\":{\"dimension\":1,\"plot\":{\"id\":\"3d436443-cd94-465f-bb69-9cc977d7c273\",\"subtype\":\"Chart\",\"type\":\"Plot\"},\"ticker\":{\"id\":\"8bd2391b-c1ac-4093-8f55-1ca9b1e1117c\",\"type\":\"BasicTicker\"}},\"id\":\"e999701c-ec61-475e-9c71-2c321298efd2\",\"type\":\"Grid\"},{\"attributes\":{\"callback\":null,\"end\":35.2,\"start\":-3.2},\"id\":\"8603bd6e-3068-4ba9-96c9-439f81452ff8\",\"type\":\"Range1d\"},{\"attributes\":{\"line_color\":{\"value\":\"#5ab738\"},\"line_dash\":[6],\"line_width\":{\"value\":2},\"x\":{\"field\":\"x_values\"},\"y\":{\"field\":\"y_values\"}},\"id\":\"fb82392a-9b98-4ae8-bdf6-f6124d2866e2\",\"type\":\"Line\"},{\"attributes\":{\"plot\":{\"id\":\"3d436443-cd94-465f-bb69-9cc977d7c273\",\"subtype\":\"Chart\",\"type\":\"Plot\"}},\"id\":\"a2e74784-5cc5-45df-910f-16602fafac11\",\"type\":\"PanTool\"},{\"attributes\":{\"line_color\":{\"value\":\"#407ee7\"},\"line_dash\":[2,4],\"line_width\":{\"value\":2},\"x\":{\"field\":\"x_values\"},\"y\":{\"field\":\"y_values\"}},\"id\":\"684a9317-7f03-4901-8e54-ae9e356602d3\",\"type\":\"Line\"},{\"attributes\":{\"plot\":{\"id\":\"3d436443-cd94-465f-bb69-9cc977d7c273\",\"subtype\":\"Chart\",\"type\":\"Plot\"}},\"id\":\"01afcc3e-3a9a-423b-9e3f-1198f83d17f4\",\"type\":\"ResetTool\"},{\"attributes\":{},\"id\":\"0a756bba-4938-49aa-87d6-2ee41e057051\",\"type\":\"BasicTickFormatter\"},{\"attributes\":{\"callback\":null,\"column_names\":[\"x_values\",\"y_values\"],\"data\":{\"chart_index\":[{\"series\":\"social\"},{\"series\":\"social\"},{\"series\":\"social\"},{\"series\":\"social\"},{\"series\":\"social\"},{\"series\":\"social\"},{\"series\":\"social\"},{\"series\":\"social\"},{\"series\":\"social\"},{\"series\":\"social\"},{\"series\":\"social\"},{\"series\":\"social\"},{\"series\":\"social\"},{\"series\":\"social\"},{\"series\":\"social\"},{\"series\":\"social\"},{\"series\":\"social\"},{\"series\":\"social\"},{\"series\":\"social\"},{\"series\":\"social\"},{\"series\":\"social\"},{\"series\":\"social\"},{\"series\":\"social\"},{\"series\":\"social\"},{\"series\":\"social\"},{\"series\":\"social\"},{\"series\":\"social\"},{\"series\":\"social\"},{\"series\":\"social\"},{\"series\":\"social\"},{\"series\":\"social\"},{\"series\":\"social\"},{\"series\":\"social\"}],\"series\":[\"social\",\"social\",\"social\",\"social\",\"social\",\"social\",\"social\",\"social\",\"social\",\"social\",\"social\",\"social\",\"social\",\"social\",\"social\",\"social\",\"social\",\"social\",\"social\",\"social\",\"social\",\"social\",\"social\",\"social\",\"social\",\"social\",\"social\",\"social\",\"social\",\"social\",\"social\",\"social\",\"social\"],\"x_values\":[0,1,2,3,4,5,6,7,8,9,10,11,12,13,14,15,16,17,18,19,20,21,22,23,24,25,26,27,28,29,30,31,32],\"y_values\":{\"__ndarray__\":\"27Zt27Zt2z/3rgO6MU/fP1AHdVAHdeA/pSN7BqLS4T/poosuuujiP15DeQ3lNeQ/RURERERE5D9KzssiPoHkP18eWxE0nOQ/VVVVVVVV5T+lpaWlpaXlP6J2JWpXouY/RRdddNFF5z9GF1100UXnP0S8JCCciOc/8NS1HNzs5z+RhSxkIQvpP0iSJEmSJOk/qBGWexph6T+amZmZmZnpP4qd2Imd2Ok/ep7neZ7n6T/8FJcMwTrqPzqxEzuxE+s/xXQW01lM6z/btm3btm3rPx988MEHH+w/fcu3fMu37D+E/VYbQ9PtP4suuuiii+4/X/EVX/EV7z8q8lk3mCLvPwT3EdxHcO8/\",\"dtype\":\"float64\",\"shape\":[33]}}},\"id\":\"5a999a2e-7cad-4e47-9e00-40db164e84c2\",\"type\":\"ColumnDataSource\"},{\"attributes\":{\"plot\":null,\"text\":null},\"id\":\"08f4526f-c186-4673-bef0-6f21afbe0d89\",\"type\":\"Title\"},{\"attributes\":{\"axis_label\":\"puntaje f1\",\"formatter\":{\"id\":\"b04c9c90-246b-4fef-8726-ff34f8d2c1c4\",\"type\":\"BasicTickFormatter\"},\"plot\":{\"id\":\"3d436443-cd94-465f-bb69-9cc977d7c273\",\"subtype\":\"Chart\",\"type\":\"Plot\"},\"ticker\":{\"id\":\"8bd2391b-c1ac-4093-8f55-1ca9b1e1117c\",\"type\":\"BasicTicker\"}},\"id\":\"7536a802-bf77-4995-b324-6bef7f2c7631\",\"type\":\"LinearAxis\"},{\"attributes\":{\"label\":{\"value\":\"social+ldabool20\"},\"renderers\":[{\"id\":\"8283192c-5247-4d23-926a-c64a99ccbf7b\",\"type\":\"GlyphRenderer\"}]},\"id\":\"38ef3b83-a5ff-4470-9317-d75bc43cb6a4\",\"type\":\"LegendItem\"},{\"attributes\":{\"callback\":null,\"column_names\":[\"x_values\",\"y_values\"],\"data\":{\"chart_index\":[{\"series\":\"social+ldabool10\"},{\"series\":\"social+ldabool10\"},{\"series\":\"social+ldabool10\"},{\"series\":\"social+ldabool10\"},{\"series\":\"social+ldabool10\"},{\"series\":\"social+ldabool10\"},{\"series\":\"social+ldabool10\"},{\"series\":\"social+ldabool10\"},{\"series\":\"social+ldabool10\"},{\"series\":\"social+ldabool10\"},{\"series\":\"social+ldabool10\"},{\"series\":\"social+ldabool10\"},{\"series\":\"social+ldabool10\"},{\"series\":\"social+ldabool10\"},{\"series\":\"social+ldabool10\"},{\"series\":\"social+ldabool10\"},{\"series\":\"social+ldabool10\"},{\"series\":\"social+ldabool10\"},{\"series\":\"social+ldabool10\"},{\"series\":\"social+ldabool10\"},{\"series\":\"social+ldabool10\"},{\"series\":\"social+ldabool10\"},{\"series\":\"social+ldabool10\"},{\"series\":\"social+ldabool10\"},{\"series\":\"social+ldabool10\"},{\"series\":\"social+ldabool10\"},{\"series\":\"social+ldabool10\"},{\"series\":\"social+ldabool10\"},{\"series\":\"social+ldabool10\"},{\"series\":\"social+ldabool10\"},{\"series\":\"social+ldabool10\"},{\"series\":\"social+ldabool10\"},{\"series\":\"social+ldabool10\"}],\"series\":[\"social+ldabool10\",\"social+ldabool10\",\"social+ldabool10\",\"social+ldabool10\",\"social+ldabool10\",\"social+ldabool10\",\"social+ldabool10\",\"social+ldabool10\",\"social+ldabool10\",\"social+ldabool10\",\"social+ldabool10\",\"social+ldabool10\",\"social+ldabool10\",\"social+ldabool10\",\"social+ldabool10\",\"social+ldabool10\",\"social+ldabool10\",\"social+ldabool10\",\"social+ldabool10\",\"social+ldabool10\",\"social+ldabool10\",\"social+ldabool10\",\"social+ldabool10\",\"social+ldabool10\",\"social+ldabool10\",\"social+ldabool10\",\"social+ldabool10\",\"social+ldabool10\",\"social+ldabool10\",\"social+ldabool10\",\"social+ldabool10\",\"social+ldabool10\",\"social+ldabool10\"],\"x_values\":[0,1,2,3,4,5,6,7,8,9,10,11,12,13,14,15,16,17,18,19,20,21,22,23,24,25,26,27,28,29,30,31,32],\"y_values\":{\"__ndarray__\":\"YbmnEZZ72j+U8dulnozfPwAAAAAAAOA/LFG7ErUr4T9eQ3kN5TXkP3sUrkfheuQ/ZCELWchC5j8CqeS8LOLjP////////+I/L5BJ8QKZ5D+aNGnSpEnjP3waYbmnEeY/VVVVVVVV5T/////////jP5j1flnvl+U/TGgvob2E5j+VNWVNWVPmPxKWexphuec/ip3YiZ3Y6T+1iZJdmyjpPxtD0x3st+o/VNaUNWVN6T/XWmuttdbqP0iSJEmSJOk/Ln87x8dK6z/tG9a+Ye3rPx988MEHH+w/FjdhfleL6z8TIdWyDrTtP4suuuiii+4/X/EVX/EV7z8ffPDBBx/sP1gEDSd1X+4/\",\"dtype\":\"float64\",\"shape\":[33]}}},\"id\":\"23cd7c91-f7c0-43bd-b91f-0fb5a0119e03\",\"type\":\"ColumnDataSource\"},{\"attributes\":{\"label\":{\"value\":\"social\"},\"renderers\":[{\"id\":\"1a8acfa1-7e7d-4b94-9140-e09f860318b4\",\"type\":\"GlyphRenderer\"}]},\"id\":\"a41ca021-1408-4d38-b381-9e10d1dfb8b4\",\"type\":\"LegendItem\"},{\"attributes\":{\"axis_label\":\"usuario\",\"formatter\":{\"id\":\"0a756bba-4938-49aa-87d6-2ee41e057051\",\"type\":\"BasicTickFormatter\"},\"plot\":{\"id\":\"3d436443-cd94-465f-bb69-9cc977d7c273\",\"subtype\":\"Chart\",\"type\":\"Plot\"},\"ticker\":{\"id\":\"e0ef46df-974b-4cec-85e6-795cc2aa1e63\",\"type\":\"BasicTicker\"}},\"id\":\"b37cd1b6-4bfd-48dd-be9e-ee464880d995\",\"type\":\"LinearAxis\"},{\"attributes\":{\"data_source\":{\"id\":\"5a999a2e-7cad-4e47-9e00-40db164e84c2\",\"type\":\"ColumnDataSource\"},\"glyph\":{\"id\":\"2fa0f13e-1250-4ec9-a8eb-5a541b200f60\",\"type\":\"Line\"},\"hover_glyph\":null,\"muted_glyph\":null},\"id\":\"1a8acfa1-7e7d-4b94-9140-e09f860318b4\",\"type\":\"GlyphRenderer\"},{\"attributes\":{\"plot\":{\"id\":\"3d436443-cd94-465f-bb69-9cc977d7c273\",\"subtype\":\"Chart\",\"type\":\"Plot\"}},\"id\":\"4832dd36-2e1f-4896-bd58-1680ac551ec1\",\"type\":\"WheelZoomTool\"},{\"attributes\":{},\"id\":\"57dd1be2-0289-4f3d-ab8e-11412e39b495\",\"type\":\"ToolEvents\"},{\"attributes\":{\"line_color\":{\"value\":\"#f22c40\"},\"line_width\":{\"value\":2},\"x\":{\"field\":\"x_values\"},\"y\":{\"field\":\"y_values\"}},\"id\":\"2fa0f13e-1250-4ec9-a8eb-5a541b200f60\",\"type\":\"Line\"},{\"attributes\":{\"overlay\":{\"id\":\"07335b1f-542f-4144-a82f-fbbe98fb4d24\",\"type\":\"BoxAnnotation\"},\"plot\":{\"id\":\"3d436443-cd94-465f-bb69-9cc977d7c273\",\"subtype\":\"Chart\",\"type\":\"Plot\"}},\"id\":\"9cb56469-cab6-4a50-9e0b-f1aa000092d7\",\"type\":\"BoxZoomTool\"},{\"attributes\":{},\"id\":\"e0ef46df-974b-4cec-85e6-795cc2aa1e63\",\"type\":\"BasicTicker\"},{\"attributes\":{},\"id\":\"b04c9c90-246b-4fef-8726-ff34f8d2c1c4\",\"type\":\"BasicTickFormatter\"},{\"attributes\":{\"callback\":null,\"column_names\":[\"x_values\",\"y_values\"],\"data\":{\"chart_index\":[{\"series\":\"social+ldabool20\"},{\"series\":\"social+ldabool20\"},{\"series\":\"social+ldabool20\"},{\"series\":\"social+ldabool20\"},{\"series\":\"social+ldabool20\"},{\"series\":\"social+ldabool20\"},{\"series\":\"social+ldabool20\"},{\"series\":\"social+ldabool20\"},{\"series\":\"social+ldabool20\"},{\"series\":\"social+ldabool20\"},{\"series\":\"social+ldabool20\"},{\"series\":\"social+ldabool20\"},{\"series\":\"social+ldabool20\"},{\"series\":\"social+ldabool20\"},{\"series\":\"social+ldabool20\"},{\"series\":\"social+ldabool20\"},{\"series\":\"social+ldabool20\"},{\"series\":\"social+ldabool20\"},{\"series\":\"social+ldabool20\"},{\"series\":\"social+ldabool20\"},{\"series\":\"social+ldabool20\"},{\"series\":\"social+ldabool20\"},{\"series\":\"social+ldabool20\"},{\"series\":\"social+ldabool20\"},{\"series\":\"social+ldabool20\"},{\"series\":\"social+ldabool20\"},{\"series\":\"social+ldabool20\"},{\"series\":\"social+ldabool20\"},{\"series\":\"social+ldabool20\"},{\"series\":\"social+ldabool20\"},{\"series\":\"social+ldabool20\"},{\"series\":\"social+ldabool20\"},{\"series\":\"social+ldabool20\"}],\"series\":[\"social+ldabool20\",\"social+ldabool20\",\"social+ldabool20\",\"social+ldabool20\",\"social+ldabool20\",\"social+ldabool20\",\"social+ldabool20\",\"social+ldabool20\",\"social+ldabool20\",\"social+ldabool20\",\"social+ldabool20\",\"social+ldabool20\",\"social+ldabool20\",\"social+ldabool20\",\"social+ldabool20\",\"social+ldabool20\",\"social+ldabool20\",\"social+ldabool20\",\"social+ldabool20\",\"social+ldabool20\",\"social+ldabool20\",\"social+ldabool20\",\"social+ldabool20\",\"social+ldabool20\",\"social+ldabool20\",\"social+ldabool20\",\"social+ldabool20\",\"social+ldabool20\",\"social+ldabool20\",\"social+ldabool20\",\"social+ldabool20\",\"social+ldabool20\",\"social+ldabool20\"],\"x_values\":[0,1,2,3,4,5,6,7,8,9,10,11,12,13,14,15,16,17,18,19,20,21,22,23,24,25,26,27,28,29,30,31,32],\"y_values\":{\"__ndarray__\":\"mHoyfrvU0z9IWO5phOXePwAAAAAAAOA/aS+hvYT24j/UQR3UQR3kP3VQB3VQB+U/0gOVs1v45T9B0VaD5wjkP8oQrKPN++Q/VlVVVVVV5T9RUVFRUVHhP1Lf2ajvbOQ/VVVVVVVV5T9kIQtZyELmP9bR5n2KS+Y/VVVVVVVV5T8AAAAAAADgP2u8dJMYBOY/2HVd13Vd5z+Y7UKY7ULoP9s3rH3D2uc/TTDeyj6H5D+Uui+PrQjqP2dmZmZmZuo/Yj71Yj716j8yncV0FtPpP+Q4juM4jus/fcu3fMu37D+d2Imd2IntP+51r3vd6+4/6JCaYLyV7T81sHdMDeztP4pLhmAdbe4/\",\"dtype\":\"float64\",\"shape\":[33]}}},\"id\":\"dbbcba30-af5b-4b21-ab63-1dc50be9a443\",\"type\":\"ColumnDataSource\"},{\"attributes\":{\"plot\":{\"id\":\"3d436443-cd94-465f-bb69-9cc977d7c273\",\"subtype\":\"Chart\",\"type\":\"Plot\"}},\"id\":\"28476714-2f51-466f-af30-bea6d75960ec\",\"type\":\"HelpTool\"},{\"attributes\":{\"bottom_units\":\"screen\",\"fill_alpha\":{\"value\":0.5},\"fill_color\":{\"value\":\"lightgrey\"},\"left_units\":\"screen\",\"level\":\"overlay\",\"line_alpha\":{\"value\":1.0},\"line_color\":{\"value\":\"black\"},\"line_dash\":[4,4],\"line_width\":{\"value\":2},\"plot\":null,\"render_mode\":\"css\",\"right_units\":\"screen\",\"top_units\":\"screen\"},\"id\":\"07335b1f-542f-4144-a82f-fbbe98fb4d24\",\"type\":\"BoxAnnotation\"},{\"attributes\":{\"label\":{\"value\":\"social+ldabool10\"},\"renderers\":[{\"id\":\"21d0527b-3a8f-4fb7-ae89-269fe6054097\",\"type\":\"GlyphRenderer\"}]},\"id\":\"4b208c7f-bd7f-4ca8-8cf2-ec888de472b9\",\"type\":\"LegendItem\"}],\"root_ids\":[\"3d436443-cd94-465f-bb69-9cc977d7c273\"]},\"title\":\"Bokeh Application\",\"version\":\"0.12.5\"}};\n",
       "            var render_items = [{\"docid\":\"2088171c-ddf5-4ec9-a7a5-623d8207b6d3\",\"elementid\":\"99819d78-fcbe-4c26-be26-d772c0b30694\",\"modelid\":\"3d436443-cd94-465f-bb69-9cc977d7c273\"}];\n",
       "            \n",
       "            Bokeh.embed.embed_items(docs_json, render_items);\n",
       "          };\n",
       "          if (document.readyState != \"loading\") fn();\n",
       "          else document.addEventListener(\"DOMContentLoaded\", fn);\n",
       "        })();\n",
       "      },\n",
       "      function(Bokeh) {\n",
       "      }\n",
       "    ];\n",
       "  \n",
       "    function run_inline_js() {\n",
       "      \n",
       "      if ((window.Bokeh !== undefined) || (force === true)) {\n",
       "        for (var i = 0; i < inline_js.length; i++) {\n",
       "          inline_js[i](window.Bokeh);\n",
       "        }if (force === true) {\n",
       "          display_loaded();\n",
       "        }} else if (Date.now() < window._bokeh_timeout) {\n",
       "        setTimeout(run_inline_js, 100);\n",
       "      } else if (!window._bokeh_failed_load) {\n",
       "        console.log(\"Bokeh: BokehJS failed to load within specified timeout.\");\n",
       "        window._bokeh_failed_load = true;\n",
       "      } else if (force !== true) {\n",
       "        var cell = $(document.getElementById(\"99819d78-fcbe-4c26-be26-d772c0b30694\")).parents('.cell').data().cell;\n",
       "        cell.output_area.append_execute_result(NB_LOAD_WARNING)\n",
       "      }\n",
       "  \n",
       "    }\n",
       "  \n",
       "    if (window._bokeh_is_loading === 0) {\n",
       "      console.log(\"Bokeh: BokehJS loaded, going straight to plotting\");\n",
       "      run_inline_js();\n",
       "    } else {\n",
       "      load_libs(js_urls, function() {\n",
       "        console.log(\"Bokeh: BokehJS plotting callback run at\", now());\n",
       "        run_inline_js();\n",
       "      });\n",
       "    }\n",
       "  }(this));\n",
       "</script>"
      ]
     },
     "metadata": {},
     "output_type": "display_data"
    }
   ],
   "source": [
    "# build a dataset where multiple columns measure the same thing\n",
    "data = {\n",
    "    \"social\": f1s_s,\n",
    "    \"social+ldabool10\": f1s_10,\n",
    "    \"social+ldabool20\": f1s_20\n",
    "}\n",
    "\n",
    "labels = 'social social+ldabool10 social+ldabool20'.split()\n",
    "\n",
    "# create a line chart where each column of measures receives a unique color and dash style\n",
    "line = Line(data, y=labels,\n",
    "            dash=labels,\n",
    "            color=labels,\n",
    "            legend_sort_field = 'color',\n",
    "            legend_sort_direction = 'descending',\n",
    "            xlabel='usuario', ylabel='puntaje f1', legend=True)\n",
    "\n",
    "# output_file(\"line_single.html\", title=\"line_single.py example\")\n",
    "\n",
    "show(line)"
   ]
  },
  {
   "cell_type": "code",
   "execution_count": 149,
   "metadata": {
    "collapsed": false
   },
   "outputs": [
    {
     "data": {
      "text/plain": [
       "8"
      ]
     },
     "execution_count": 149,
     "metadata": {},
     "output_type": "execute_result"
    }
   ],
   "source": [
    "sum(f1s_10 > f1s_s)"
   ]
  },
  {
   "cell_type": "code",
   "execution_count": 150,
   "metadata": {
    "collapsed": false
   },
   "outputs": [
    {
     "data": {
      "text/plain": [
       "7"
      ]
     },
     "execution_count": 150,
     "metadata": {},
     "output_type": "execute_result"
    }
   ],
   "source": [
    "sum(f1s_20 > f1s_s)"
   ]
  },
  {
   "cell_type": "code",
   "execution_count": 151,
   "metadata": {
    "collapsed": false
   },
   "outputs": [
    {
     "data": {
      "text/plain": [
       "(0.73218909052513992, 0.71275150813029986)"
      ]
     },
     "execution_count": 151,
     "metadata": {},
     "output_type": "execute_result"
    }
   ],
   "source": [
    "(np.mean(f1s_10), np.mean(f1s_20))"
   ]
  },
  {
   "cell_type": "code",
   "execution_count": 152,
   "metadata": {
    "collapsed": false
   },
   "outputs": [
    {
     "name": "stdout",
     "output_type": "stream",
     "text": [
      "0.0239536041184\n",
      "0.0250724620218\n"
     ]
    }
   ],
   "source": [
    "for f in [f1s_10, f1s_20]:\n",
    "    better = f > f1s_s\n",
    "    mean_improvement = np.mean(f[better] - f1s_s[better])\n",
    "    print mean_improvement"
   ]
  },
  {
   "cell_type": "markdown",
   "metadata": {},
   "source": [
    "# Comparación en set de entrenamiento"
   ]
  },
  {
   "cell_type": "code",
   "execution_count": 153,
   "metadata": {
    "collapsed": true
   },
   "outputs": [],
   "source": [
    "f1s_train_social = json.load(open('../_1_one_user_learn_neighbours/f1s_train_svc.json'))"
   ]
  },
  {
   "cell_type": "code",
   "execution_count": 154,
   "metadata": {
    "collapsed": true
   },
   "outputs": [],
   "source": [
    "f1s_train_social = {u: f for u, f in f1s_train_social.items() if u in nlp_uids}"
   ]
  },
  {
   "cell_type": "code",
   "execution_count": 155,
   "metadata": {
    "collapsed": true
   },
   "outputs": [],
   "source": [
    "sorted_uids = [u for u, f in sorted(f1s_train_social.items(), key=lambda x:x[1])]\n",
    "indices = range(len(sorted_uids))"
   ]
  },
  {
   "cell_type": "code",
   "execution_count": 156,
   "metadata": {
    "collapsed": true
   },
   "outputs": [],
   "source": [
    "f1s_10 = np.array([f1s_combined['10']['train'][uid_pos[sorted_uids[i]]] for i in indices])\n",
    "f1s_20 = np.array([f1s_combined['20']['train'][uid_pos[sorted_uids[i]]] for i in indices])\n",
    "f1s_s = np.array([f1s_train_social[sorted_uids[i]] for i in indices])"
   ]
  },
  {
   "cell_type": "code",
   "execution_count": 157,
   "metadata": {
    "collapsed": false
   },
   "outputs": [
    {
     "data": {
      "text/html": [
       "\n",
       "\n",
       "    <div class=\"bk-root\">\n",
       "        <div class=\"bk-plotdiv\" id=\"0a63e9af-8c6e-4273-8fb2-1b4646f2a417\"></div>\n",
       "    </div>\n",
       "<script type=\"text/javascript\">\n",
       "  \n",
       "  (function(global) {\n",
       "    function now() {\n",
       "      return new Date();\n",
       "    }\n",
       "  \n",
       "    var force = false;\n",
       "  \n",
       "    if (typeof (window._bokeh_onload_callbacks) === \"undefined\" || force === true) {\n",
       "      window._bokeh_onload_callbacks = [];\n",
       "      window._bokeh_is_loading = undefined;\n",
       "    }\n",
       "  \n",
       "  \n",
       "    \n",
       "    if (typeof (window._bokeh_timeout) === \"undefined\" || force === true) {\n",
       "      window._bokeh_timeout = Date.now() + 0;\n",
       "      window._bokeh_failed_load = false;\n",
       "    }\n",
       "  \n",
       "    var NB_LOAD_WARNING = {'data': {'text/html':\n",
       "       \"<div style='background-color: #fdd'>\\n\"+\n",
       "       \"<p>\\n\"+\n",
       "       \"BokehJS does not appear to have successfully loaded. If loading BokehJS from CDN, this \\n\"+\n",
       "       \"may be due to a slow or bad network connection. Possible fixes:\\n\"+\n",
       "       \"</p>\\n\"+\n",
       "       \"<ul>\\n\"+\n",
       "       \"<li>re-rerun `output_notebook()` to attempt to load from CDN again, or</li>\\n\"+\n",
       "       \"<li>use INLINE resources instead, as so:</li>\\n\"+\n",
       "       \"</ul>\\n\"+\n",
       "       \"<code>\\n\"+\n",
       "       \"from bokeh.resources import INLINE\\n\"+\n",
       "       \"output_notebook(resources=INLINE)\\n\"+\n",
       "       \"</code>\\n\"+\n",
       "       \"</div>\"}};\n",
       "  \n",
       "    function display_loaded() {\n",
       "      if (window.Bokeh !== undefined) {\n",
       "        var el = document.getElementById(\"0a63e9af-8c6e-4273-8fb2-1b4646f2a417\");\n",
       "        el.textContent = \"BokehJS \" + Bokeh.version + \" successfully loaded.\";\n",
       "      } else if (Date.now() < window._bokeh_timeout) {\n",
       "        setTimeout(display_loaded, 100)\n",
       "      }\n",
       "    }\n",
       "  \n",
       "    function run_callbacks() {\n",
       "      window._bokeh_onload_callbacks.forEach(function(callback) { callback() });\n",
       "      delete window._bokeh_onload_callbacks\n",
       "      console.info(\"Bokeh: all callbacks have finished\");\n",
       "    }\n",
       "  \n",
       "    function load_libs(js_urls, callback) {\n",
       "      window._bokeh_onload_callbacks.push(callback);\n",
       "      if (window._bokeh_is_loading > 0) {\n",
       "        console.log(\"Bokeh: BokehJS is being loaded, scheduling callback at\", now());\n",
       "        return null;\n",
       "      }\n",
       "      if (js_urls == null || js_urls.length === 0) {\n",
       "        run_callbacks();\n",
       "        return null;\n",
       "      }\n",
       "      console.log(\"Bokeh: BokehJS not loaded, scheduling load and callback at\", now());\n",
       "      window._bokeh_is_loading = js_urls.length;\n",
       "      for (var i = 0; i < js_urls.length; i++) {\n",
       "        var url = js_urls[i];\n",
       "        var s = document.createElement('script');\n",
       "        s.src = url;\n",
       "        s.async = false;\n",
       "        s.onreadystatechange = s.onload = function() {\n",
       "          window._bokeh_is_loading--;\n",
       "          if (window._bokeh_is_loading === 0) {\n",
       "            console.log(\"Bokeh: all BokehJS libraries loaded\");\n",
       "            run_callbacks()\n",
       "          }\n",
       "        };\n",
       "        s.onerror = function() {\n",
       "          console.warn(\"failed to load library \" + url);\n",
       "        };\n",
       "        console.log(\"Bokeh: injecting script tag for BokehJS library: \", url);\n",
       "        document.getElementsByTagName(\"head\")[0].appendChild(s);\n",
       "      }\n",
       "    };var element = document.getElementById(\"0a63e9af-8c6e-4273-8fb2-1b4646f2a417\");\n",
       "    if (element == null) {\n",
       "      console.log(\"Bokeh: ERROR: autoload.js configured with elementid '0a63e9af-8c6e-4273-8fb2-1b4646f2a417' but no matching script tag was found. \")\n",
       "      return false;\n",
       "    }\n",
       "  \n",
       "    var js_urls = [];\n",
       "  \n",
       "    var inline_js = [\n",
       "      function(Bokeh) {\n",
       "        (function() {\n",
       "          var fn = function() {\n",
       "            var docs_json = {\"d23b1c80-abee-4bfb-9403-91a1976f1692\":{\"roots\":{\"references\":[{\"attributes\":{\"callback\":null,\"column_names\":[\"x_values\",\"y_values\"],\"data\":{\"chart_index\":[{\"series\":\"social\"},{\"series\":\"social\"},{\"series\":\"social\"},{\"series\":\"social\"},{\"series\":\"social\"},{\"series\":\"social\"},{\"series\":\"social\"},{\"series\":\"social\"},{\"series\":\"social\"},{\"series\":\"social\"},{\"series\":\"social\"},{\"series\":\"social\"},{\"series\":\"social\"},{\"series\":\"social\"},{\"series\":\"social\"},{\"series\":\"social\"},{\"series\":\"social\"},{\"series\":\"social\"},{\"series\":\"social\"},{\"series\":\"social\"},{\"series\":\"social\"},{\"series\":\"social\"},{\"series\":\"social\"},{\"series\":\"social\"},{\"series\":\"social\"},{\"series\":\"social\"},{\"series\":\"social\"},{\"series\":\"social\"},{\"series\":\"social\"},{\"series\":\"social\"},{\"series\":\"social\"},{\"series\":\"social\"},{\"series\":\"social\"}],\"series\":[\"social\",\"social\",\"social\",\"social\",\"social\",\"social\",\"social\",\"social\",\"social\",\"social\",\"social\",\"social\",\"social\",\"social\",\"social\",\"social\",\"social\",\"social\",\"social\",\"social\",\"social\",\"social\",\"social\",\"social\",\"social\",\"social\",\"social\",\"social\",\"social\",\"social\",\"social\",\"social\",\"social\"],\"x_values\":[0,1,2,3,4,5,6,7,8,9,10,11,12,13,14,15,16,17,18,19,20,21,22,23,24,25,26,27,28,29,30,31,32],\"y_values\":{\"__ndarray__\":\"mZmZmZmZ2T+d2Imd2IndPwAAAAAAAOE/mZmZmZmZ4T/SIA3SIA3iP5IkSZIkSeI/exSuR+F65D8lSZIkSZLkPyVJkiRJkuQ/w/UoXI/C5T98GmG5pxHmP431obE+NOY/ZCELWchC5j9nZmZmZmbmP8ln3WCKfOY/lpaWlpaW5j+XlpaWlpbmP0HDSd2Xx+Y/RhdddNFF5z9GF1100UXnP3vTm970puc/vXr16tWr5z/Z19fX19fnP1G4HoXrUeg/SJIkSZIk6T87sRM7sRPrP5BQeP/KS+s/vulNb3rT6z8gk+IFMinuP+pNb3rTm+4/t23btm3b7j9HWO5phOXuP5/0SZ/0Se8/\",\"dtype\":\"float64\",\"shape\":[33]}}},\"id\":\"2327f894-3ac9-408d-8f8c-f3f4813877e2\",\"type\":\"ColumnDataSource\"},{\"attributes\":{\"active_drag\":\"auto\",\"active_scroll\":\"auto\",\"active_tap\":\"auto\",\"tools\":[{\"id\":\"3390302e-cf14-4c60-851c-8795472bd462\",\"type\":\"PanTool\"},{\"id\":\"fde0383e-de62-49c6-9bd2-40a4bbd5fadc\",\"type\":\"WheelZoomTool\"},{\"id\":\"a6be215d-2ac1-49b0-8942-367f8485046e\",\"type\":\"BoxZoomTool\"},{\"id\":\"2010fe83-1bad-427c-a16e-31da3411bc75\",\"type\":\"SaveTool\"},{\"id\":\"5f1b821f-ea0b-4435-bfdd-c950fcd2ea93\",\"type\":\"ResetTool\"},{\"id\":\"0339033d-a492-4827-bd73-c3c30c18b01a\",\"type\":\"HelpTool\"}]},\"id\":\"83dd79d9-44d8-4f3b-a258-042d298f8efd\",\"type\":\"Toolbar\"},{\"attributes\":{\"callback\":null,\"column_names\":[\"x_values\",\"y_values\"],\"data\":{\"chart_index\":[{\"series\":\"social+ldabool10\"},{\"series\":\"social+ldabool10\"},{\"series\":\"social+ldabool10\"},{\"series\":\"social+ldabool10\"},{\"series\":\"social+ldabool10\"},{\"series\":\"social+ldabool10\"},{\"series\":\"social+ldabool10\"},{\"series\":\"social+ldabool10\"},{\"series\":\"social+ldabool10\"},{\"series\":\"social+ldabool10\"},{\"series\":\"social+ldabool10\"},{\"series\":\"social+ldabool10\"},{\"series\":\"social+ldabool10\"},{\"series\":\"social+ldabool10\"},{\"series\":\"social+ldabool10\"},{\"series\":\"social+ldabool10\"},{\"series\":\"social+ldabool10\"},{\"series\":\"social+ldabool10\"},{\"series\":\"social+ldabool10\"},{\"series\":\"social+ldabool10\"},{\"series\":\"social+ldabool10\"},{\"series\":\"social+ldabool10\"},{\"series\":\"social+ldabool10\"},{\"series\":\"social+ldabool10\"},{\"series\":\"social+ldabool10\"},{\"series\":\"social+ldabool10\"},{\"series\":\"social+ldabool10\"},{\"series\":\"social+ldabool10\"},{\"series\":\"social+ldabool10\"},{\"series\":\"social+ldabool10\"},{\"series\":\"social+ldabool10\"},{\"series\":\"social+ldabool10\"},{\"series\":\"social+ldabool10\"}],\"series\":[\"social+ldabool10\",\"social+ldabool10\",\"social+ldabool10\",\"social+ldabool10\",\"social+ldabool10\",\"social+ldabool10\",\"social+ldabool10\",\"social+ldabool10\",\"social+ldabool10\",\"social+ldabool10\",\"social+ldabool10\",\"social+ldabool10\",\"social+ldabool10\",\"social+ldabool10\",\"social+ldabool10\",\"social+ldabool10\",\"social+ldabool10\",\"social+ldabool10\",\"social+ldabool10\",\"social+ldabool10\",\"social+ldabool10\",\"social+ldabool10\",\"social+ldabool10\",\"social+ldabool10\",\"social+ldabool10\",\"social+ldabool10\",\"social+ldabool10\",\"social+ldabool10\",\"social+ldabool10\",\"social+ldabool10\",\"social+ldabool10\",\"social+ldabool10\",\"social+ldabool10\"],\"x_values\":[0,1,2,3,4,5,6,7,8,9,10,11,12,13,14,15,16,17,18,19,20,21,22,23,24,25,26,27,28,29,30,31,32],\"y_values\":{\"__ndarray__\":\"X0J7Ce0l5D9BnhLkKUHuPx0CTLDKgOw/3FgGpcLE6z+Kz5laLtzlP7ocjcvRuOw/Y4LuKsUE7T/iWHmcGo7lP53YiZ3Yie0/TuAETuAE7j/i1O+5JU7tP5DuE6Bt8Oo/3c/93M/97D/7zkZ9Z6PuPxi1/BsSZuw/4Hvvvffe6z/iQHGgOFDsP0Z1MSeOAe0/9w1r37D27T902kCnDXTqPwzQy10xrus/q2/HQwlh7T+7jioJ/qTsP459j8gJwu0/7RvWvmHt6z+tfcPaN6ztP9826gYRue0/kiRJkiRJ7j/1X07eUyHvPwAAAAAAAPA/OB+D8zE47z+oXYnalajtP19fX19fX+8/\",\"dtype\":\"float64\",\"shape\":[33]}}},\"id\":\"94f3ec24-20ed-4e60-97d9-037100f62670\",\"type\":\"ColumnDataSource\"},{\"attributes\":{},\"id\":\"a1dcf23f-7284-4afe-97d3-697fe816d871\",\"type\":\"BasicTicker\"},{\"attributes\":{\"data_source\":{\"id\":\"e2eca027-402c-4516-b9a6-a1247f4294fa\",\"type\":\"ColumnDataSource\"},\"glyph\":{\"id\":\"e6d775bf-677c-4cc6-a928-84038c2f0bc3\",\"type\":\"Line\"},\"hover_glyph\":null,\"muted_glyph\":null},\"id\":\"3abc4fad-a719-45a2-b693-a3d7883c06eb\",\"type\":\"GlyphRenderer\"},{\"attributes\":{\"plot\":null,\"text\":null},\"id\":\"605f64db-671d-4599-93da-66c66366aa9d\",\"type\":\"Title\"},{\"attributes\":{\"callback\":null,\"column_names\":[\"x_values\",\"y_values\"],\"data\":{\"chart_index\":[{\"series\":\"social+ldabool20\"},{\"series\":\"social+ldabool20\"},{\"series\":\"social+ldabool20\"},{\"series\":\"social+ldabool20\"},{\"series\":\"social+ldabool20\"},{\"series\":\"social+ldabool20\"},{\"series\":\"social+ldabool20\"},{\"series\":\"social+ldabool20\"},{\"series\":\"social+ldabool20\"},{\"series\":\"social+ldabool20\"},{\"series\":\"social+ldabool20\"},{\"series\":\"social+ldabool20\"},{\"series\":\"social+ldabool20\"},{\"series\":\"social+ldabool20\"},{\"series\":\"social+ldabool20\"},{\"series\":\"social+ldabool20\"},{\"series\":\"social+ldabool20\"},{\"series\":\"social+ldabool20\"},{\"series\":\"social+ldabool20\"},{\"series\":\"social+ldabool20\"},{\"series\":\"social+ldabool20\"},{\"series\":\"social+ldabool20\"},{\"series\":\"social+ldabool20\"},{\"series\":\"social+ldabool20\"},{\"series\":\"social+ldabool20\"},{\"series\":\"social+ldabool20\"},{\"series\":\"social+ldabool20\"},{\"series\":\"social+ldabool20\"},{\"series\":\"social+ldabool20\"},{\"series\":\"social+ldabool20\"},{\"series\":\"social+ldabool20\"},{\"series\":\"social+ldabool20\"},{\"series\":\"social+ldabool20\"}],\"series\":[\"social+ldabool20\",\"social+ldabool20\",\"social+ldabool20\",\"social+ldabool20\",\"social+ldabool20\",\"social+ldabool20\",\"social+ldabool20\",\"social+ldabool20\",\"social+ldabool20\",\"social+ldabool20\",\"social+ldabool20\",\"social+ldabool20\",\"social+ldabool20\",\"social+ldabool20\",\"social+ldabool20\",\"social+ldabool20\",\"social+ldabool20\",\"social+ldabool20\",\"social+ldabool20\",\"social+ldabool20\",\"social+ldabool20\",\"social+ldabool20\",\"social+ldabool20\",\"social+ldabool20\",\"social+ldabool20\",\"social+ldabool20\",\"social+ldabool20\",\"social+ldabool20\",\"social+ldabool20\",\"social+ldabool20\",\"social+ldabool20\",\"social+ldabool20\",\"social+ldabool20\"],\"x_values\":[0,1,2,3,4,5,6,7,8,9,10,11,12,13,14,15,16,17,18,19,20,21,22,23,24,25,26,27,28,29,30,31,32],\"y_values\":{\"__ndarray__\":\"lMWmk8Wm4z9Etc6+iGrtP3exVhGdUu0/QXp/rlU27D/yrGgk4JvnPyxK4yMT6O0/xUAJbzR17j/0lTlbYBfnPxiibgYtO+4/gaNmJC+V7j+qqqqqqqrtP6x9w9o3rO0/RKmxh1lA7j9fL6y7AoXuPz8G52NwPu4/ndiJndiJ7T+jONcxinPtP8xdY02yQO0/SeDthwTe7j8o4Y2mzq/tP4888sgjj+w/E4/z9bIG7j9LHSG2acXtP97d3d3d3e0/Lrrooosu7j+TJEmSJEnuP5luwTXOPO4/9urVq1ev7j8cWfzRVTnvPwAAAAAAAPA/a9+w9g1r7z+QOUq3r6zuP1ttDE13sO8/\",\"dtype\":\"float64\",\"shape\":[33]}}},\"id\":\"e2eca027-402c-4516-b9a6-a1247f4294fa\",\"type\":\"ColumnDataSource\"},{\"attributes\":{\"line_color\":{\"value\":\"#f22c40\"},\"line_width\":{\"value\":2},\"x\":{\"field\":\"x_values\"},\"y\":{\"field\":\"y_values\"}},\"id\":\"1bcd0333-55db-45f6-834c-45358968188a\",\"type\":\"Line\"},{\"attributes\":{},\"id\":\"5833a95e-8ac7-4ed2-b187-98628ba82101\",\"type\":\"ToolEvents\"},{\"attributes\":{\"plot\":{\"id\":\"6b018759-3124-4af2-b87a-a12a6d5f7295\",\"subtype\":\"Chart\",\"type\":\"Plot\"}},\"id\":\"2010fe83-1bad-427c-a16e-31da3411bc75\",\"type\":\"SaveTool\"},{\"attributes\":{\"data_source\":{\"id\":\"2327f894-3ac9-408d-8f8c-f3f4813877e2\",\"type\":\"ColumnDataSource\"},\"glyph\":{\"id\":\"1bcd0333-55db-45f6-834c-45358968188a\",\"type\":\"Line\"},\"hover_glyph\":null,\"muted_glyph\":null},\"id\":\"cda9c933-d71d-457b-b9b1-c826fad9fae3\",\"type\":\"GlyphRenderer\"},{\"attributes\":{\"label\":{\"value\":\"social\"},\"renderers\":[{\"id\":\"cda9c933-d71d-457b-b9b1-c826fad9fae3\",\"type\":\"GlyphRenderer\"}]},\"id\":\"75f82840-d345-4d8c-a532-341d1677b951\",\"type\":\"LegendItem\"},{\"attributes\":{\"line_color\":{\"value\":\"#407ee7\"},\"line_dash\":[2,4],\"line_width\":{\"value\":2},\"x\":{\"field\":\"x_values\"},\"y\":{\"field\":\"y_values\"}},\"id\":\"e6d775bf-677c-4cc6-a928-84038c2f0bc3\",\"type\":\"Line\"},{\"attributes\":{\"axis_label\":\"puntaje f1\",\"formatter\":{\"id\":\"b4de747e-7871-4434-a959-8f4097a55676\",\"type\":\"BasicTickFormatter\"},\"plot\":{\"id\":\"6b018759-3124-4af2-b87a-a12a6d5f7295\",\"subtype\":\"Chart\",\"type\":\"Plot\"},\"ticker\":{\"id\":\"b522954e-604b-4da9-a378-bc32362e0b56\",\"type\":\"BasicTicker\"}},\"id\":\"1664d849-20cf-4a95-ae1d-17fc381946d7\",\"type\":\"LinearAxis\"},{\"attributes\":{\"data_source\":{\"id\":\"94f3ec24-20ed-4e60-97d9-037100f62670\",\"type\":\"ColumnDataSource\"},\"glyph\":{\"id\":\"6b40edd4-cd6d-442a-b8f2-f167ae1bf72b\",\"type\":\"Line\"},\"hover_glyph\":null,\"muted_glyph\":null},\"id\":\"dab43021-2511-4821-8e0c-854d7b9128ce\",\"type\":\"GlyphRenderer\"},{\"attributes\":{\"items\":[{\"id\":\"c54d8113-55c4-4a37-804e-bfb27be9dc64\",\"type\":\"LegendItem\"},{\"id\":\"c7c9739a-7c0a-4af7-8c27-a033af9e96ba\",\"type\":\"LegendItem\"},{\"id\":\"75f82840-d345-4d8c-a532-341d1677b951\",\"type\":\"LegendItem\"}],\"location\":\"top_left\",\"plot\":{\"id\":\"6b018759-3124-4af2-b87a-a12a6d5f7295\",\"subtype\":\"Chart\",\"type\":\"Plot\"}},\"id\":\"0d895aac-0a68-4598-bf87-7172f5d46919\",\"type\":\"Legend\"},{\"attributes\":{\"plot\":{\"id\":\"6b018759-3124-4af2-b87a-a12a6d5f7295\",\"subtype\":\"Chart\",\"type\":\"Plot\"}},\"id\":\"0339033d-a492-4827-bd73-c3c30c18b01a\",\"type\":\"HelpTool\"},{\"attributes\":{\"plot\":{\"id\":\"6b018759-3124-4af2-b87a-a12a6d5f7295\",\"subtype\":\"Chart\",\"type\":\"Plot\"}},\"id\":\"3390302e-cf14-4c60-851c-8795472bd462\",\"type\":\"PanTool\"},{\"attributes\":{\"bottom_units\":\"screen\",\"fill_alpha\":{\"value\":0.5},\"fill_color\":{\"value\":\"lightgrey\"},\"left_units\":\"screen\",\"level\":\"overlay\",\"line_alpha\":{\"value\":1.0},\"line_color\":{\"value\":\"black\"},\"line_dash\":[4,4],\"line_width\":{\"value\":2},\"plot\":null,\"render_mode\":\"css\",\"right_units\":\"screen\",\"top_units\":\"screen\"},\"id\":\"42d2a19f-5913-4515-a3a2-f6138f2efe5b\",\"type\":\"BoxAnnotation\"},{\"attributes\":{},\"id\":\"b522954e-604b-4da9-a378-bc32362e0b56\",\"type\":\"BasicTicker\"},{\"attributes\":{\"label\":{\"value\":\"social+ldabool10\"},\"renderers\":[{\"id\":\"dab43021-2511-4821-8e0c-854d7b9128ce\",\"type\":\"GlyphRenderer\"}]},\"id\":\"c7c9739a-7c0a-4af7-8c27-a033af9e96ba\",\"type\":\"LegendItem\"},{\"attributes\":{\"callback\":null,\"end\":35.2,\"start\":-3.2},\"id\":\"fea14a21-982a-4d46-8b0c-6e0e384cb96c\",\"type\":\"Range1d\"},{\"attributes\":{\"line_color\":{\"value\":\"#5ab738\"},\"line_dash\":[6],\"line_width\":{\"value\":2},\"x\":{\"field\":\"x_values\"},\"y\":{\"field\":\"y_values\"}},\"id\":\"6b40edd4-cd6d-442a-b8f2-f167ae1bf72b\",\"type\":\"Line\"},{\"attributes\":{\"plot\":{\"id\":\"6b018759-3124-4af2-b87a-a12a6d5f7295\",\"subtype\":\"Chart\",\"type\":\"Plot\"}},\"id\":\"5f1b821f-ea0b-4435-bfdd-c950fcd2ea93\",\"type\":\"ResetTool\"},{\"attributes\":{\"callback\":null,\"end\":1.06,\"start\":0.33999999999999997},\"id\":\"6718dda1-6c9f-427e-b416-29ad2e81bf4d\",\"type\":\"Range1d\"},{\"attributes\":{\"label\":{\"value\":\"social+ldabool20\"},\"renderers\":[{\"id\":\"3abc4fad-a719-45a2-b693-a3d7883c06eb\",\"type\":\"GlyphRenderer\"}]},\"id\":\"c54d8113-55c4-4a37-804e-bfb27be9dc64\",\"type\":\"LegendItem\"},{\"attributes\":{\"plot\":{\"id\":\"6b018759-3124-4af2-b87a-a12a6d5f7295\",\"subtype\":\"Chart\",\"type\":\"Plot\"},\"ticker\":{\"id\":\"a1dcf23f-7284-4afe-97d3-697fe816d871\",\"type\":\"BasicTicker\"}},\"id\":\"c38dd538-83e0-4cad-aa42-e855c6a9410b\",\"type\":\"Grid\"},{\"attributes\":{\"axis_label\":\"usuario\",\"formatter\":{\"id\":\"968af243-88a4-4789-b9f7-fc13121c4b22\",\"type\":\"BasicTickFormatter\"},\"plot\":{\"id\":\"6b018759-3124-4af2-b87a-a12a6d5f7295\",\"subtype\":\"Chart\",\"type\":\"Plot\"},\"ticker\":{\"id\":\"a1dcf23f-7284-4afe-97d3-697fe816d871\",\"type\":\"BasicTicker\"}},\"id\":\"b312efc9-71d0-4864-8f12-1058226c68cb\",\"type\":\"LinearAxis\"},{\"attributes\":{\"dimension\":1,\"plot\":{\"id\":\"6b018759-3124-4af2-b87a-a12a6d5f7295\",\"subtype\":\"Chart\",\"type\":\"Plot\"},\"ticker\":{\"id\":\"b522954e-604b-4da9-a378-bc32362e0b56\",\"type\":\"BasicTicker\"}},\"id\":\"d5787cc5-2224-4fc6-a044-f252dfd1ede0\",\"type\":\"Grid\"},{\"attributes\":{\"below\":[{\"id\":\"b312efc9-71d0-4864-8f12-1058226c68cb\",\"type\":\"LinearAxis\"}],\"css_classes\":null,\"left\":[{\"id\":\"1664d849-20cf-4a95-ae1d-17fc381946d7\",\"type\":\"LinearAxis\"}],\"renderers\":[{\"id\":\"42d2a19f-5913-4515-a3a2-f6138f2efe5b\",\"type\":\"BoxAnnotation\"},{\"id\":\"cda9c933-d71d-457b-b9b1-c826fad9fae3\",\"type\":\"GlyphRenderer\"},{\"id\":\"dab43021-2511-4821-8e0c-854d7b9128ce\",\"type\":\"GlyphRenderer\"},{\"id\":\"3abc4fad-a719-45a2-b693-a3d7883c06eb\",\"type\":\"GlyphRenderer\"},{\"id\":\"0d895aac-0a68-4598-bf87-7172f5d46919\",\"type\":\"Legend\"},{\"id\":\"b312efc9-71d0-4864-8f12-1058226c68cb\",\"type\":\"LinearAxis\"},{\"id\":\"1664d849-20cf-4a95-ae1d-17fc381946d7\",\"type\":\"LinearAxis\"},{\"id\":\"c38dd538-83e0-4cad-aa42-e855c6a9410b\",\"type\":\"Grid\"},{\"id\":\"d5787cc5-2224-4fc6-a044-f252dfd1ede0\",\"type\":\"Grid\"}],\"title\":{\"id\":\"605f64db-671d-4599-93da-66c66366aa9d\",\"type\":\"Title\"},\"tool_events\":{\"id\":\"5833a95e-8ac7-4ed2-b187-98628ba82101\",\"type\":\"ToolEvents\"},\"toolbar\":{\"id\":\"83dd79d9-44d8-4f3b-a258-042d298f8efd\",\"type\":\"Toolbar\"},\"x_mapper_type\":\"auto\",\"x_range\":{\"id\":\"fea14a21-982a-4d46-8b0c-6e0e384cb96c\",\"type\":\"Range1d\"},\"y_mapper_type\":\"auto\",\"y_range\":{\"id\":\"6718dda1-6c9f-427e-b416-29ad2e81bf4d\",\"type\":\"Range1d\"}},\"id\":\"6b018759-3124-4af2-b87a-a12a6d5f7295\",\"subtype\":\"Chart\",\"type\":\"Plot\"},{\"attributes\":{},\"id\":\"968af243-88a4-4789-b9f7-fc13121c4b22\",\"type\":\"BasicTickFormatter\"},{\"attributes\":{\"overlay\":{\"id\":\"42d2a19f-5913-4515-a3a2-f6138f2efe5b\",\"type\":\"BoxAnnotation\"},\"plot\":{\"id\":\"6b018759-3124-4af2-b87a-a12a6d5f7295\",\"subtype\":\"Chart\",\"type\":\"Plot\"}},\"id\":\"a6be215d-2ac1-49b0-8942-367f8485046e\",\"type\":\"BoxZoomTool\"},{\"attributes\":{},\"id\":\"b4de747e-7871-4434-a959-8f4097a55676\",\"type\":\"BasicTickFormatter\"},{\"attributes\":{\"plot\":{\"id\":\"6b018759-3124-4af2-b87a-a12a6d5f7295\",\"subtype\":\"Chart\",\"type\":\"Plot\"}},\"id\":\"fde0383e-de62-49c6-9bd2-40a4bbd5fadc\",\"type\":\"WheelZoomTool\"}],\"root_ids\":[\"6b018759-3124-4af2-b87a-a12a6d5f7295\"]},\"title\":\"Bokeh Application\",\"version\":\"0.12.5\"}};\n",
       "            var render_items = [{\"docid\":\"d23b1c80-abee-4bfb-9403-91a1976f1692\",\"elementid\":\"0a63e9af-8c6e-4273-8fb2-1b4646f2a417\",\"modelid\":\"6b018759-3124-4af2-b87a-a12a6d5f7295\"}];\n",
       "            \n",
       "            Bokeh.embed.embed_items(docs_json, render_items);\n",
       "          };\n",
       "          if (document.readyState != \"loading\") fn();\n",
       "          else document.addEventListener(\"DOMContentLoaded\", fn);\n",
       "        })();\n",
       "      },\n",
       "      function(Bokeh) {\n",
       "      }\n",
       "    ];\n",
       "  \n",
       "    function run_inline_js() {\n",
       "      \n",
       "      if ((window.Bokeh !== undefined) || (force === true)) {\n",
       "        for (var i = 0; i < inline_js.length; i++) {\n",
       "          inline_js[i](window.Bokeh);\n",
       "        }if (force === true) {\n",
       "          display_loaded();\n",
       "        }} else if (Date.now() < window._bokeh_timeout) {\n",
       "        setTimeout(run_inline_js, 100);\n",
       "      } else if (!window._bokeh_failed_load) {\n",
       "        console.log(\"Bokeh: BokehJS failed to load within specified timeout.\");\n",
       "        window._bokeh_failed_load = true;\n",
       "      } else if (force !== true) {\n",
       "        var cell = $(document.getElementById(\"0a63e9af-8c6e-4273-8fb2-1b4646f2a417\")).parents('.cell').data().cell;\n",
       "        cell.output_area.append_execute_result(NB_LOAD_WARNING)\n",
       "      }\n",
       "  \n",
       "    }\n",
       "  \n",
       "    if (window._bokeh_is_loading === 0) {\n",
       "      console.log(\"Bokeh: BokehJS loaded, going straight to plotting\");\n",
       "      run_inline_js();\n",
       "    } else {\n",
       "      load_libs(js_urls, function() {\n",
       "        console.log(\"Bokeh: BokehJS plotting callback run at\", now());\n",
       "        run_inline_js();\n",
       "      });\n",
       "    }\n",
       "  }(this));\n",
       "</script>"
      ]
     },
     "metadata": {},
     "output_type": "display_data"
    }
   ],
   "source": [
    "# build a dataset where multiple columns measure the same thing\n",
    "data = {\n",
    "    \"social\": f1s_s,\n",
    "    \"social+ldabool10\": f1s_10,\n",
    "    \"social+ldabool20\": f1s_20\n",
    "}\n",
    "\n",
    "labels = 'social social+ldabool10 social+ldabool20'.split()\n",
    "\n",
    "# create a line chart where each column of measures receives a unique color and dash style\n",
    "line = Line(data, y=labels,\n",
    "            dash=labels,\n",
    "            color=labels,\n",
    "            legend_sort_field = 'color',\n",
    "            legend_sort_direction = 'descending',\n",
    "            xlabel='usuario', ylabel='puntaje f1', legend=True)\n",
    "\n",
    "# output_file(\"line_single.html\", title=\"line_single.py example\")\n",
    "\n",
    "show(line)"
   ]
  },
  {
   "cell_type": "code",
   "execution_count": 158,
   "metadata": {
    "collapsed": false
   },
   "outputs": [
    {
     "data": {
      "text/plain": [
       "32"
      ]
     },
     "execution_count": 158,
     "metadata": {},
     "output_type": "execute_result"
    }
   ],
   "source": [
    "sum(f1s_10 > f1s_s)"
   ]
  },
  {
   "cell_type": "code",
   "execution_count": 159,
   "metadata": {
    "collapsed": false
   },
   "outputs": [
    {
     "data": {
      "text/plain": [
       "32"
      ]
     },
     "execution_count": 159,
     "metadata": {},
     "output_type": "execute_result"
    }
   ],
   "source": [
    "sum(f1s_20 > f1s_s)"
   ]
  },
  {
   "cell_type": "code",
   "execution_count": 160,
   "metadata": {
    "collapsed": false
   },
   "outputs": [
    {
     "data": {
      "text/plain": [
       "(0.8917796346688398, 0.91879821536731221)"
      ]
     },
     "execution_count": 160,
     "metadata": {},
     "output_type": "execute_result"
    }
   ],
   "source": [
    "(np.mean(f1s_10), np.mean(f1s_20))"
   ]
  },
  {
   "cell_type": "code",
   "execution_count": 161,
   "metadata": {
    "collapsed": false
   },
   "outputs": [
    {
     "name": "stdout",
     "output_type": "stream",
     "text": [
      "0.174321835558\n",
      "0.201192540236\n"
     ]
    }
   ],
   "source": [
    "for f in [f1s_10, f1s_20]:\n",
    "    better = f > f1s_s\n",
    "    mean_improvement = np.mean(f[better] - f1s_s[better])\n",
    "    print mean_improvement"
   ]
  }
 ],
 "metadata": {
  "kernelspec": {
   "display_name": "Python 2",
   "language": "python",
   "name": "python2"
  },
  "language_info": {
   "codemirror_mode": {
    "name": "ipython",
    "version": 2
   },
   "file_extension": ".py",
   "mimetype": "text/x-python",
   "name": "python",
   "nbconvert_exporter": "python",
   "pygments_lexer": "ipython2",
   "version": "2.7.11+"
  }
 },
 "nbformat": 4,
 "nbformat_minor": 2
}
