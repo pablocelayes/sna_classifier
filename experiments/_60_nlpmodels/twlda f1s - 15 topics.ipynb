{
 "cells": [
  {
   "cell_type": "code",
   "execution_count": 1,
   "metadata": {
    "collapsed": false
   },
   "outputs": [
    {
     "name": "stdout",
     "output_type": "stream",
     "text": [
      "Switching to API Credentials #4\n"
     ]
    }
   ],
   "source": [
    "from experiments._60_nlpmodels.fit_social_twlda_models import *"
   ]
  },
  {
   "cell_type": "code",
   "execution_count": 2,
   "metadata": {
    "collapsed": true
   },
   "outputs": [],
   "source": [
    "n_topics = 15"
   ]
  },
  {
   "cell_type": "markdown",
   "metadata": {},
   "source": [
    "# Comparación sobre tuning set"
   ]
  },
  {
   "cell_type": "code",
   "execution_count": 3,
   "metadata": {
    "collapsed": false
   },
   "outputs": [
    {
     "data": {
      "text/html": [
       "\n",
       "    <div class=\"bk-root\">\n",
       "        <a href=\"http://bokeh.pydata.org\" target=\"_blank\" class=\"bk-logo bk-logo-small bk-logo-notebook\"></a>\n",
       "        <span id=\"07624bac-5306-4d11-a355-168c845f77f1\">Loading BokehJS ...</span>\n",
       "    </div>"
      ]
     },
     "metadata": {},
     "output_type": "display_data"
    },
    {
     "data": {
      "application/javascript": [
       "\n",
       "(function(global) {\n",
       "  function now() {\n",
       "    return new Date();\n",
       "  }\n",
       "\n",
       "  var force = true;\n",
       "\n",
       "  if (typeof (window._bokeh_onload_callbacks) === \"undefined\" || force === true) {\n",
       "    window._bokeh_onload_callbacks = [];\n",
       "    window._bokeh_is_loading = undefined;\n",
       "  }\n",
       "\n",
       "\n",
       "  \n",
       "  if (typeof (window._bokeh_timeout) === \"undefined\" || force === true) {\n",
       "    window._bokeh_timeout = Date.now() + 5000;\n",
       "    window._bokeh_failed_load = false;\n",
       "  }\n",
       "\n",
       "  var NB_LOAD_WARNING = {'data': {'text/html':\n",
       "     \"<div style='background-color: #fdd'>\\n\"+\n",
       "     \"<p>\\n\"+\n",
       "     \"BokehJS does not appear to have successfully loaded. If loading BokehJS from CDN, this \\n\"+\n",
       "     \"may be due to a slow or bad network connection. Possible fixes:\\n\"+\n",
       "     \"</p>\\n\"+\n",
       "     \"<ul>\\n\"+\n",
       "     \"<li>re-rerun `output_notebook()` to attempt to load from CDN again, or</li>\\n\"+\n",
       "     \"<li>use INLINE resources instead, as so:</li>\\n\"+\n",
       "     \"</ul>\\n\"+\n",
       "     \"<code>\\n\"+\n",
       "     \"from bokeh.resources import INLINE\\n\"+\n",
       "     \"output_notebook(resources=INLINE)\\n\"+\n",
       "     \"</code>\\n\"+\n",
       "     \"</div>\"}};\n",
       "\n",
       "  function display_loaded() {\n",
       "    if (window.Bokeh !== undefined) {\n",
       "      var el = document.getElementById(\"07624bac-5306-4d11-a355-168c845f77f1\");\n",
       "      el.textContent = \"BokehJS \" + Bokeh.version + \" successfully loaded.\";\n",
       "    } else if (Date.now() < window._bokeh_timeout) {\n",
       "      setTimeout(display_loaded, 100)\n",
       "    }\n",
       "  }\n",
       "\n",
       "  function run_callbacks() {\n",
       "    window._bokeh_onload_callbacks.forEach(function(callback) { callback() });\n",
       "    delete window._bokeh_onload_callbacks\n",
       "    console.info(\"Bokeh: all callbacks have finished\");\n",
       "  }\n",
       "\n",
       "  function load_libs(js_urls, callback) {\n",
       "    window._bokeh_onload_callbacks.push(callback);\n",
       "    if (window._bokeh_is_loading > 0) {\n",
       "      console.log(\"Bokeh: BokehJS is being loaded, scheduling callback at\", now());\n",
       "      return null;\n",
       "    }\n",
       "    if (js_urls == null || js_urls.length === 0) {\n",
       "      run_callbacks();\n",
       "      return null;\n",
       "    }\n",
       "    console.log(\"Bokeh: BokehJS not loaded, scheduling load and callback at\", now());\n",
       "    window._bokeh_is_loading = js_urls.length;\n",
       "    for (var i = 0; i < js_urls.length; i++) {\n",
       "      var url = js_urls[i];\n",
       "      var s = document.createElement('script');\n",
       "      s.src = url;\n",
       "      s.async = false;\n",
       "      s.onreadystatechange = s.onload = function() {\n",
       "        window._bokeh_is_loading--;\n",
       "        if (window._bokeh_is_loading === 0) {\n",
       "          console.log(\"Bokeh: all BokehJS libraries loaded\");\n",
       "          run_callbacks()\n",
       "        }\n",
       "      };\n",
       "      s.onerror = function() {\n",
       "        console.warn(\"failed to load library \" + url);\n",
       "      };\n",
       "      console.log(\"Bokeh: injecting script tag for BokehJS library: \", url);\n",
       "      document.getElementsByTagName(\"head\")[0].appendChild(s);\n",
       "    }\n",
       "  };var element = document.getElementById(\"07624bac-5306-4d11-a355-168c845f77f1\");\n",
       "  if (element == null) {\n",
       "    console.log(\"Bokeh: ERROR: autoload.js configured with elementid '07624bac-5306-4d11-a355-168c845f77f1' but no matching script tag was found. \")\n",
       "    return false;\n",
       "  }\n",
       "\n",
       "  var js_urls = [\"https://cdn.pydata.org/bokeh/release/bokeh-0.12.5.min.js\", \"https://cdn.pydata.org/bokeh/release/bokeh-widgets-0.12.5.min.js\"];\n",
       "\n",
       "  var inline_js = [\n",
       "    function(Bokeh) {\n",
       "      Bokeh.set_log_level(\"info\");\n",
       "    },\n",
       "    \n",
       "    function(Bokeh) {\n",
       "      \n",
       "    },\n",
       "    \n",
       "    function(Bokeh) {\n",
       "      \n",
       "      document.getElementById(\"07624bac-5306-4d11-a355-168c845f77f1\").textContent = \"BokehJS is loading...\";\n",
       "    },\n",
       "    function(Bokeh) {\n",
       "      console.log(\"Bokeh: injecting CSS: https://cdn.pydata.org/bokeh/release/bokeh-0.12.5.min.css\");\n",
       "      Bokeh.embed.inject_css(\"https://cdn.pydata.org/bokeh/release/bokeh-0.12.5.min.css\");\n",
       "      console.log(\"Bokeh: injecting CSS: https://cdn.pydata.org/bokeh/release/bokeh-widgets-0.12.5.min.css\");\n",
       "      Bokeh.embed.inject_css(\"https://cdn.pydata.org/bokeh/release/bokeh-widgets-0.12.5.min.css\");\n",
       "    }\n",
       "  ];\n",
       "\n",
       "  function run_inline_js() {\n",
       "    \n",
       "    if ((window.Bokeh !== undefined) || (force === true)) {\n",
       "      for (var i = 0; i < inline_js.length; i++) {\n",
       "        inline_js[i](window.Bokeh);\n",
       "      }if (force === true) {\n",
       "        display_loaded();\n",
       "      }} else if (Date.now() < window._bokeh_timeout) {\n",
       "      setTimeout(run_inline_js, 100);\n",
       "    } else if (!window._bokeh_failed_load) {\n",
       "      console.log(\"Bokeh: BokehJS failed to load within specified timeout.\");\n",
       "      window._bokeh_failed_load = true;\n",
       "    } else if (force !== true) {\n",
       "      var cell = $(document.getElementById(\"07624bac-5306-4d11-a355-168c845f77f1\")).parents('.cell').data().cell;\n",
       "      cell.output_area.append_execute_result(NB_LOAD_WARNING)\n",
       "    }\n",
       "\n",
       "  }\n",
       "\n",
       "  if (window._bokeh_is_loading === 0) {\n",
       "    console.log(\"Bokeh: BokehJS loaded, going straight to plotting\");\n",
       "    run_inline_js();\n",
       "  } else {\n",
       "    load_libs(js_urls, function() {\n",
       "      console.log(\"Bokeh: BokehJS plotting callback run at\", now());\n",
       "      run_inline_js();\n",
       "    });\n",
       "  }\n",
       "}(this));"
      ]
     },
     "metadata": {},
     "output_type": "display_data"
    }
   ],
   "source": [
    "from bokeh.charts import Line, show, output_notebook\n",
    "output_notebook()"
   ]
  },
  {
   "cell_type": "code",
   "execution_count": 4,
   "metadata": {
    "collapsed": false
   },
   "outputs": [],
   "source": [
    "nlp_uids = [u for u, f in load_nlp_selected_users()]"
   ]
  },
  {
   "cell_type": "code",
   "execution_count": 5,
   "metadata": {
    "collapsed": false
   },
   "outputs": [
    {
     "data": {
      "text/html": [
       "\n",
       "\n",
       "    <div class=\"bk-root\">\n",
       "        <div class=\"bk-plotdiv\" id=\"2cb45162-35ff-41b6-8ce7-fbd97625eed5\"></div>\n",
       "    </div>\n",
       "<script type=\"text/javascript\">\n",
       "  \n",
       "  (function(global) {\n",
       "    function now() {\n",
       "      return new Date();\n",
       "    }\n",
       "  \n",
       "    var force = false;\n",
       "  \n",
       "    if (typeof (window._bokeh_onload_callbacks) === \"undefined\" || force === true) {\n",
       "      window._bokeh_onload_callbacks = [];\n",
       "      window._bokeh_is_loading = undefined;\n",
       "    }\n",
       "  \n",
       "  \n",
       "    \n",
       "    if (typeof (window._bokeh_timeout) === \"undefined\" || force === true) {\n",
       "      window._bokeh_timeout = Date.now() + 0;\n",
       "      window._bokeh_failed_load = false;\n",
       "    }\n",
       "  \n",
       "    var NB_LOAD_WARNING = {'data': {'text/html':\n",
       "       \"<div style='background-color: #fdd'>\\n\"+\n",
       "       \"<p>\\n\"+\n",
       "       \"BokehJS does not appear to have successfully loaded. If loading BokehJS from CDN, this \\n\"+\n",
       "       \"may be due to a slow or bad network connection. Possible fixes:\\n\"+\n",
       "       \"</p>\\n\"+\n",
       "       \"<ul>\\n\"+\n",
       "       \"<li>re-rerun `output_notebook()` to attempt to load from CDN again, or</li>\\n\"+\n",
       "       \"<li>use INLINE resources instead, as so:</li>\\n\"+\n",
       "       \"</ul>\\n\"+\n",
       "       \"<code>\\n\"+\n",
       "       \"from bokeh.resources import INLINE\\n\"+\n",
       "       \"output_notebook(resources=INLINE)\\n\"+\n",
       "       \"</code>\\n\"+\n",
       "       \"</div>\"}};\n",
       "  \n",
       "    function display_loaded() {\n",
       "      if (window.Bokeh !== undefined) {\n",
       "        var el = document.getElementById(\"2cb45162-35ff-41b6-8ce7-fbd97625eed5\");\n",
       "        el.textContent = \"BokehJS \" + Bokeh.version + \" successfully loaded.\";\n",
       "      } else if (Date.now() < window._bokeh_timeout) {\n",
       "        setTimeout(display_loaded, 100)\n",
       "      }\n",
       "    }\n",
       "  \n",
       "    function run_callbacks() {\n",
       "      window._bokeh_onload_callbacks.forEach(function(callback) { callback() });\n",
       "      delete window._bokeh_onload_callbacks\n",
       "      console.info(\"Bokeh: all callbacks have finished\");\n",
       "    }\n",
       "  \n",
       "    function load_libs(js_urls, callback) {\n",
       "      window._bokeh_onload_callbacks.push(callback);\n",
       "      if (window._bokeh_is_loading > 0) {\n",
       "        console.log(\"Bokeh: BokehJS is being loaded, scheduling callback at\", now());\n",
       "        return null;\n",
       "      }\n",
       "      if (js_urls == null || js_urls.length === 0) {\n",
       "        run_callbacks();\n",
       "        return null;\n",
       "      }\n",
       "      console.log(\"Bokeh: BokehJS not loaded, scheduling load and callback at\", now());\n",
       "      window._bokeh_is_loading = js_urls.length;\n",
       "      for (var i = 0; i < js_urls.length; i++) {\n",
       "        var url = js_urls[i];\n",
       "        var s = document.createElement('script');\n",
       "        s.src = url;\n",
       "        s.async = false;\n",
       "        s.onreadystatechange = s.onload = function() {\n",
       "          window._bokeh_is_loading--;\n",
       "          if (window._bokeh_is_loading === 0) {\n",
       "            console.log(\"Bokeh: all BokehJS libraries loaded\");\n",
       "            run_callbacks()\n",
       "          }\n",
       "        };\n",
       "        s.onerror = function() {\n",
       "          console.warn(\"failed to load library \" + url);\n",
       "        };\n",
       "        console.log(\"Bokeh: injecting script tag for BokehJS library: \", url);\n",
       "        document.getElementsByTagName(\"head\")[0].appendChild(s);\n",
       "      }\n",
       "    };var element = document.getElementById(\"2cb45162-35ff-41b6-8ce7-fbd97625eed5\");\n",
       "    if (element == null) {\n",
       "      console.log(\"Bokeh: ERROR: autoload.js configured with elementid '2cb45162-35ff-41b6-8ce7-fbd97625eed5' but no matching script tag was found. \")\n",
       "      return false;\n",
       "    }\n",
       "  \n",
       "    var js_urls = [];\n",
       "  \n",
       "    var inline_js = [\n",
       "      function(Bokeh) {\n",
       "        (function() {\n",
       "          var fn = function() {\n",
       "            var docs_json = {\"e20f3bf6-6549-4804-8c0f-cb025192b1a7\":{\"roots\":{\"references\":[{\"attributes\":{},\"id\":\"292c82aa-c692-40f6-a490-81eac301c8d4\",\"type\":\"BasicTicker\"},{\"attributes\":{},\"id\":\"ef96a03b-a49d-482e-be68-827f8c292707\",\"type\":\"BasicTickFormatter\"},{\"attributes\":{\"callback\":null,\"column_names\":[\"x_values\",\"y_values\"],\"data\":{\"chart_index\":[{\"series\":\"social+twlda15\"},{\"series\":\"social+twlda15\"},{\"series\":\"social+twlda15\"},{\"series\":\"social+twlda15\"},{\"series\":\"social+twlda15\"},{\"series\":\"social+twlda15\"},{\"series\":\"social+twlda15\"},{\"series\":\"social+twlda15\"},{\"series\":\"social+twlda15\"},{\"series\":\"social+twlda15\"},{\"series\":\"social+twlda15\"},{\"series\":\"social+twlda15\"},{\"series\":\"social+twlda15\"},{\"series\":\"social+twlda15\"},{\"series\":\"social+twlda15\"},{\"series\":\"social+twlda15\"},{\"series\":\"social+twlda15\"},{\"series\":\"social+twlda15\"},{\"series\":\"social+twlda15\"},{\"series\":\"social+twlda15\"},{\"series\":\"social+twlda15\"},{\"series\":\"social+twlda15\"},{\"series\":\"social+twlda15\"},{\"series\":\"social+twlda15\"},{\"series\":\"social+twlda15\"},{\"series\":\"social+twlda15\"},{\"series\":\"social+twlda15\"},{\"series\":\"social+twlda15\"},{\"series\":\"social+twlda15\"},{\"series\":\"social+twlda15\"},{\"series\":\"social+twlda15\"},{\"series\":\"social+twlda15\"},{\"series\":\"social+twlda15\"},{\"series\":\"social+twlda15\"},{\"series\":\"social+twlda15\"},{\"series\":\"social+twlda15\"},{\"series\":\"social+twlda15\"}],\"series\":[\"social+twlda15\",\"social+twlda15\",\"social+twlda15\",\"social+twlda15\",\"social+twlda15\",\"social+twlda15\",\"social+twlda15\",\"social+twlda15\",\"social+twlda15\",\"social+twlda15\",\"social+twlda15\",\"social+twlda15\",\"social+twlda15\",\"social+twlda15\",\"social+twlda15\",\"social+twlda15\",\"social+twlda15\",\"social+twlda15\",\"social+twlda15\",\"social+twlda15\",\"social+twlda15\",\"social+twlda15\",\"social+twlda15\",\"social+twlda15\",\"social+twlda15\",\"social+twlda15\",\"social+twlda15\",\"social+twlda15\",\"social+twlda15\",\"social+twlda15\",\"social+twlda15\",\"social+twlda15\",\"social+twlda15\",\"social+twlda15\",\"social+twlda15\",\"social+twlda15\",\"social+twlda15\"],\"x_values\":[0,1,2,3,4,5,6,7,8,9,10,11,12,13,14,15,16,17,18,19,20,21,22,23,24,25,26,27,28,29,30,31,32,33,34,35,36],\"y_values\":{\"__ndarray__\":\"R1juaYTl7j900UUXXXThP0qSJEmSJOk/09LS0tLS4j/IU4I8JcjjP9u2bdu2bds/VVVVVVVV5T9JkiRJkiTlPyDRCpsDieY/VVVVVVVV5T+21lprrbXmP1VVVVVVVeU/XXTRRRdd5D9lIQtZyELmP5dlWZZlWeY/Z2ZmZmZm5j9WVVVVVVXlPwAAAAAAAOY/exSuR+F65D+qqqqqqqrmP7dt27Zt2+Y/UV5DeQ3l5T94d3d3d3fnP/ntUk/Gb+c/QnsJ7SW05z/0BX1BX9DnP////////+c/lpaWlpaW5j/TjhUII+3oPx3HcRzHcew/////////6j9yBTG5gpjsP5lnFTVGCuw/mpmZmZmZ6T97rGXogN3uP/jee++99+4/PF5sCb7N7z8=\",\"dtype\":\"float64\",\"shape\":[37]}}},\"id\":\"27aaa402-6c69-4d09-8e67-b364fa0a91e1\",\"type\":\"ColumnDataSource\"},{\"attributes\":{\"plot\":null,\"text\":null},\"id\":\"d2790683-3594-41ab-a114-28193a0cf238\",\"type\":\"Title\"},{\"attributes\":{\"line_color\":{\"value\":\"#5ab738\"},\"line_dash\":[6],\"line_width\":{\"value\":2},\"x\":{\"field\":\"x_values\"},\"y\":{\"field\":\"y_values\"}},\"id\":\"e210050c-58df-49fb-87b7-2c5585dea18a\",\"type\":\"Line\"},{\"attributes\":{\"plot\":{\"id\":\"ca2af10b-69ef-43e6-916b-2f9b78d03eab\",\"subtype\":\"Chart\",\"type\":\"Plot\"},\"ticker\":{\"id\":\"407d893f-9bd9-48a4-8551-156c92f85f16\",\"type\":\"BasicTicker\"}},\"id\":\"6dc43e5e-3f10-4bf6-a6e4-c72bf1871bc1\",\"type\":\"Grid\"},{\"attributes\":{\"callback\":null,\"end\":1.0874262910238848,\"start\":-0.035308833164572055},\"id\":\"88b2f6cb-cb44-4844-9bb3-ee7c20a687d8\",\"type\":\"Range1d\"},{\"attributes\":{\"data_source\":{\"id\":\"e715b595-92f9-4daf-8524-d73d0dd236a6\",\"type\":\"ColumnDataSource\"},\"glyph\":{\"id\":\"99de8cd6-810b-4183-aeb9-01611e2648b1\",\"type\":\"Line\"},\"hover_glyph\":null,\"muted_glyph\":null},\"id\":\"cbc143f5-1de1-4e34-b460-2d9d9aeda7e2\",\"type\":\"GlyphRenderer\"},{\"attributes\":{\"plot\":{\"id\":\"ca2af10b-69ef-43e6-916b-2f9b78d03eab\",\"subtype\":\"Chart\",\"type\":\"Plot\"}},\"id\":\"923a3f7c-8f7b-453f-bab1-b3a4ea58d967\",\"type\":\"WheelZoomTool\"},{\"attributes\":{\"label\":{\"value\":\"social\"},\"renderers\":[{\"id\":\"cbc143f5-1de1-4e34-b460-2d9d9aeda7e2\",\"type\":\"GlyphRenderer\"}]},\"id\":\"848ef2fd-7421-47a1-9f4f-bec0d383a1b0\",\"type\":\"LegendItem\"},{\"attributes\":{\"items\":[{\"id\":\"17cd7bf2-c464-4647-a29d-176a3fab641c\",\"type\":\"LegendItem\"},{\"id\":\"848ef2fd-7421-47a1-9f4f-bec0d383a1b0\",\"type\":\"LegendItem\"}],\"location\":\"top_left\",\"plot\":{\"id\":\"ca2af10b-69ef-43e6-916b-2f9b78d03eab\",\"subtype\":\"Chart\",\"type\":\"Plot\"}},\"id\":\"fd4b0c8c-251a-495c-b08c-e5330d0fddc7\",\"type\":\"Legend\"},{\"attributes\":{\"axis_label\":\"puntaje f1 sobre datos de evaluaci\\u00f3n\",\"formatter\":{\"id\":\"ef96a03b-a49d-482e-be68-827f8c292707\",\"type\":\"BasicTickFormatter\"},\"plot\":{\"id\":\"ca2af10b-69ef-43e6-916b-2f9b78d03eab\",\"subtype\":\"Chart\",\"type\":\"Plot\"},\"ticker\":{\"id\":\"292c82aa-c692-40f6-a490-81eac301c8d4\",\"type\":\"BasicTicker\"}},\"id\":\"a458ba56-75c3-49db-a293-bafaaa6a9ebf\",\"type\":\"LinearAxis\"},{\"attributes\":{\"plot\":{\"id\":\"ca2af10b-69ef-43e6-916b-2f9b78d03eab\",\"subtype\":\"Chart\",\"type\":\"Plot\"}},\"id\":\"ca7f5f62-684d-4d5e-be52-3e5d8a2b6350\",\"type\":\"ResetTool\"},{\"attributes\":{\"dimension\":1,\"plot\":{\"id\":\"ca2af10b-69ef-43e6-916b-2f9b78d03eab\",\"subtype\":\"Chart\",\"type\":\"Plot\"},\"ticker\":{\"id\":\"292c82aa-c692-40f6-a490-81eac301c8d4\",\"type\":\"BasicTicker\"}},\"id\":\"e30d9cd7-6604-43ef-9824-f4ad75d37fb2\",\"type\":\"Grid\"},{\"attributes\":{\"below\":[{\"id\":\"94c65e62-f14d-48fc-a5d5-73421bc65cf2\",\"type\":\"LinearAxis\"}],\"css_classes\":null,\"left\":[{\"id\":\"a458ba56-75c3-49db-a293-bafaaa6a9ebf\",\"type\":\"LinearAxis\"}],\"renderers\":[{\"id\":\"3d381f4d-63b1-4a96-8064-28dbd4066820\",\"type\":\"BoxAnnotation\"},{\"id\":\"cbc143f5-1de1-4e34-b460-2d9d9aeda7e2\",\"type\":\"GlyphRenderer\"},{\"id\":\"39d00e54-4f0f-4167-90a2-871826378141\",\"type\":\"GlyphRenderer\"},{\"id\":\"fd4b0c8c-251a-495c-b08c-e5330d0fddc7\",\"type\":\"Legend\"},{\"id\":\"94c65e62-f14d-48fc-a5d5-73421bc65cf2\",\"type\":\"LinearAxis\"},{\"id\":\"a458ba56-75c3-49db-a293-bafaaa6a9ebf\",\"type\":\"LinearAxis\"},{\"id\":\"6dc43e5e-3f10-4bf6-a6e4-c72bf1871bc1\",\"type\":\"Grid\"},{\"id\":\"e30d9cd7-6604-43ef-9824-f4ad75d37fb2\",\"type\":\"Grid\"}],\"title\":{\"id\":\"d2790683-3594-41ab-a114-28193a0cf238\",\"type\":\"Title\"},\"tool_events\":{\"id\":\"76521276-051a-4c48-97c7-b54557e6e87c\",\"type\":\"ToolEvents\"},\"toolbar\":{\"id\":\"933e4777-294b-4b25-a362-47ea8f43323c\",\"type\":\"Toolbar\"},\"x_mapper_type\":\"auto\",\"x_range\":{\"id\":\"fe634fb6-64d7-45c4-9fff-a17f6924d21a\",\"type\":\"Range1d\"},\"y_mapper_type\":\"auto\",\"y_range\":{\"id\":\"88b2f6cb-cb44-4844-9bb3-ee7c20a687d8\",\"type\":\"Range1d\"}},\"id\":\"ca2af10b-69ef-43e6-916b-2f9b78d03eab\",\"subtype\":\"Chart\",\"type\":\"Plot\"},{\"attributes\":{\"line_color\":{\"value\":\"#f22c40\"},\"line_width\":{\"value\":2},\"x\":{\"field\":\"x_values\"},\"y\":{\"field\":\"y_values\"}},\"id\":\"99de8cd6-810b-4183-aeb9-01611e2648b1\",\"type\":\"Line\"},{\"attributes\":{\"axis_label\":\"usuarios (ordenados por f1 del modelo social en datos de evaluaci\\u00f3n)\",\"formatter\":{\"id\":\"d9de8af3-b87c-4044-826f-3c69e1ccd6c7\",\"type\":\"BasicTickFormatter\"},\"plot\":{\"id\":\"ca2af10b-69ef-43e6-916b-2f9b78d03eab\",\"subtype\":\"Chart\",\"type\":\"Plot\"},\"ticker\":{\"id\":\"407d893f-9bd9-48a4-8551-156c92f85f16\",\"type\":\"BasicTicker\"}},\"id\":\"94c65e62-f14d-48fc-a5d5-73421bc65cf2\",\"type\":\"LinearAxis\"},{\"attributes\":{},\"id\":\"76521276-051a-4c48-97c7-b54557e6e87c\",\"type\":\"ToolEvents\"},{\"attributes\":{\"label\":{\"value\":\"social+twlda15\"},\"renderers\":[{\"id\":\"39d00e54-4f0f-4167-90a2-871826378141\",\"type\":\"GlyphRenderer\"}]},\"id\":\"17cd7bf2-c464-4647-a29d-176a3fab641c\",\"type\":\"LegendItem\"},{\"attributes\":{\"data_source\":{\"id\":\"27aaa402-6c69-4d09-8e67-b364fa0a91e1\",\"type\":\"ColumnDataSource\"},\"glyph\":{\"id\":\"e210050c-58df-49fb-87b7-2c5585dea18a\",\"type\":\"Line\"},\"hover_glyph\":null,\"muted_glyph\":null},\"id\":\"39d00e54-4f0f-4167-90a2-871826378141\",\"type\":\"GlyphRenderer\"},{\"attributes\":{\"overlay\":{\"id\":\"3d381f4d-63b1-4a96-8064-28dbd4066820\",\"type\":\"BoxAnnotation\"},\"plot\":{\"id\":\"ca2af10b-69ef-43e6-916b-2f9b78d03eab\",\"subtype\":\"Chart\",\"type\":\"Plot\"}},\"id\":\"782f02b4-2591-485d-8b9e-e1900ad178c0\",\"type\":\"BoxZoomTool\"},{\"attributes\":{\"callback\":null,\"end\":39.6,\"start\":-3.6},\"id\":\"fe634fb6-64d7-45c4-9fff-a17f6924d21a\",\"type\":\"Range1d\"},{\"attributes\":{\"callback\":null,\"column_names\":[\"x_values\",\"y_values\"],\"data\":{\"chart_index\":[{\"series\":\"social\"},{\"series\":\"social\"},{\"series\":\"social\"},{\"series\":\"social\"},{\"series\":\"social\"},{\"series\":\"social\"},{\"series\":\"social\"},{\"series\":\"social\"},{\"series\":\"social\"},{\"series\":\"social\"},{\"series\":\"social\"},{\"series\":\"social\"},{\"series\":\"social\"},{\"series\":\"social\"},{\"series\":\"social\"},{\"series\":\"social\"},{\"series\":\"social\"},{\"series\":\"social\"},{\"series\":\"social\"},{\"series\":\"social\"},{\"series\":\"social\"},{\"series\":\"social\"},{\"series\":\"social\"},{\"series\":\"social\"},{\"series\":\"social\"},{\"series\":\"social\"},{\"series\":\"social\"},{\"series\":\"social\"},{\"series\":\"social\"},{\"series\":\"social\"},{\"series\":\"social\"},{\"series\":\"social\"},{\"series\":\"social\"},{\"series\":\"social\"},{\"series\":\"social\"},{\"series\":\"social\"},{\"series\":\"social\"}],\"series\":[\"social\",\"social\",\"social\",\"social\",\"social\",\"social\",\"social\",\"social\",\"social\",\"social\",\"social\",\"social\",\"social\",\"social\",\"social\",\"social\",\"social\",\"social\",\"social\",\"social\",\"social\",\"social\",\"social\",\"social\",\"social\",\"social\",\"social\",\"social\",\"social\",\"social\",\"social\",\"social\",\"social\",\"social\",\"social\",\"social\",\"social\"],\"x_values\":[0,1,2,3,4,5,6,7,8,9,10,11,12,13,14,15,16,17,18,19,20,21,22,23,24,25,26,27,28,29,30,31,32,33,34,35,36],\"y_values\":{\"__ndarray__\":\"g/1WG0PTrT900UUXXXThP6uqqqqqquI/09LS0tLS4j/IU4I8JcjjPwAAAAAAAOQ/AAAAAAAA5D9VVVVVVVXlP1VVVVVVVeU/VVVVVVVV5T9VVVVVVVXlP1VVVVVVVeU/2pWoXYna5T9lIQtZyELmP5dlWZZlWeY/Z2ZmZmZm5j9nZmZmZmbmP5eWlpaWluY/qqqqqqqq5j+qqqqqqqrmP7dt27Zt2+Y/l2/5lm/55j94d3d3d3fnP7169erVq+c/QnsJ7SW05z/0BX1BX9DnP////////+c/OY7jOI7j6D/TjhUII+3oP5uZmZmZmek/////////6j9yBTG5gpjsP6DcAcodoOw/ntiJndiJ7T97rGXogN3uP/jee++99+4/PF5sCb7N7z8=\",\"dtype\":\"float64\",\"shape\":[37]}}},\"id\":\"e715b595-92f9-4daf-8524-d73d0dd236a6\",\"type\":\"ColumnDataSource\"},{\"attributes\":{\"plot\":{\"id\":\"ca2af10b-69ef-43e6-916b-2f9b78d03eab\",\"subtype\":\"Chart\",\"type\":\"Plot\"}},\"id\":\"d8654f94-054f-4130-a7f7-6ce757a0450f\",\"type\":\"PanTool\"},{\"attributes\":{\"plot\":{\"id\":\"ca2af10b-69ef-43e6-916b-2f9b78d03eab\",\"subtype\":\"Chart\",\"type\":\"Plot\"}},\"id\":\"92802ff3-f4a4-43e4-9ddf-768415fc11e8\",\"type\":\"SaveTool\"},{\"attributes\":{\"plot\":{\"id\":\"ca2af10b-69ef-43e6-916b-2f9b78d03eab\",\"subtype\":\"Chart\",\"type\":\"Plot\"}},\"id\":\"c8d1724c-cf83-4b87-af64-05df3dea10d4\",\"type\":\"HelpTool\"},{\"attributes\":{},\"id\":\"407d893f-9bd9-48a4-8551-156c92f85f16\",\"type\":\"BasicTicker\"},{\"attributes\":{\"active_drag\":\"auto\",\"active_scroll\":\"auto\",\"active_tap\":\"auto\",\"tools\":[{\"id\":\"d8654f94-054f-4130-a7f7-6ce757a0450f\",\"type\":\"PanTool\"},{\"id\":\"923a3f7c-8f7b-453f-bab1-b3a4ea58d967\",\"type\":\"WheelZoomTool\"},{\"id\":\"782f02b4-2591-485d-8b9e-e1900ad178c0\",\"type\":\"BoxZoomTool\"},{\"id\":\"92802ff3-f4a4-43e4-9ddf-768415fc11e8\",\"type\":\"SaveTool\"},{\"id\":\"ca7f5f62-684d-4d5e-be52-3e5d8a2b6350\",\"type\":\"ResetTool\"},{\"id\":\"c8d1724c-cf83-4b87-af64-05df3dea10d4\",\"type\":\"HelpTool\"}]},\"id\":\"933e4777-294b-4b25-a362-47ea8f43323c\",\"type\":\"Toolbar\"},{\"attributes\":{},\"id\":\"d9de8af3-b87c-4044-826f-3c69e1ccd6c7\",\"type\":\"BasicTickFormatter\"},{\"attributes\":{\"bottom_units\":\"screen\",\"fill_alpha\":{\"value\":0.5},\"fill_color\":{\"value\":\"lightgrey\"},\"left_units\":\"screen\",\"level\":\"overlay\",\"line_alpha\":{\"value\":1.0},\"line_color\":{\"value\":\"black\"},\"line_dash\":[4,4],\"line_width\":{\"value\":2},\"plot\":null,\"render_mode\":\"css\",\"right_units\":\"screen\",\"top_units\":\"screen\"},\"id\":\"3d381f4d-63b1-4a96-8064-28dbd4066820\",\"type\":\"BoxAnnotation\"}],\"root_ids\":[\"ca2af10b-69ef-43e6-916b-2f9b78d03eab\"]},\"title\":\"Bokeh Application\",\"version\":\"0.12.5\"}};\n",
       "            var render_items = [{\"docid\":\"e20f3bf6-6549-4804-8c0f-cb025192b1a7\",\"elementid\":\"2cb45162-35ff-41b6-8ce7-fbd97625eed5\",\"modelid\":\"ca2af10b-69ef-43e6-916b-2f9b78d03eab\"}];\n",
       "            \n",
       "            Bokeh.embed.embed_items(docs_json, render_items);\n",
       "          };\n",
       "          if (document.readyState != \"loading\") fn();\n",
       "          else document.addEventListener(\"DOMContentLoaded\", fn);\n",
       "        })();\n",
       "      },\n",
       "      function(Bokeh) {\n",
       "      }\n",
       "    ];\n",
       "  \n",
       "    function run_inline_js() {\n",
       "      \n",
       "      if ((window.Bokeh !== undefined) || (force === true)) {\n",
       "        for (var i = 0; i < inline_js.length; i++) {\n",
       "          inline_js[i](window.Bokeh);\n",
       "        }if (force === true) {\n",
       "          display_loaded();\n",
       "        }} else if (Date.now() < window._bokeh_timeout) {\n",
       "        setTimeout(run_inline_js, 100);\n",
       "      } else if (!window._bokeh_failed_load) {\n",
       "        console.log(\"Bokeh: BokehJS failed to load within specified timeout.\");\n",
       "        window._bokeh_failed_load = true;\n",
       "      } else if (force !== true) {\n",
       "        var cell = $(document.getElementById(\"2cb45162-35ff-41b6-8ce7-fbd97625eed5\")).parents('.cell').data().cell;\n",
       "        cell.output_area.append_execute_result(NB_LOAD_WARNING)\n",
       "      }\n",
       "  \n",
       "    }\n",
       "  \n",
       "    if (window._bokeh_is_loading === 0) {\n",
       "      console.log(\"Bokeh: BokehJS loaded, going straight to plotting\");\n",
       "      run_inline_js();\n",
       "    } else {\n",
       "      load_libs(js_urls, function() {\n",
       "        console.log(\"Bokeh: BokehJS plotting callback run at\", now());\n",
       "        run_inline_js();\n",
       "      });\n",
       "    }\n",
       "  }(this));\n",
       "</script>"
      ]
     },
     "metadata": {},
     "output_type": "display_data"
    }
   ],
   "source": [
    "with open('scores/tw_t%d_f1s_valid_svc.json' % n_topics) as f:\n",
    "    f1s_combined = json.load(f)\n",
    "\n",
    "f1s_social = json.load(open('../_1_one_user_learn_neighbours/scores/f1s_valid_svc.json'))\n",
    "f1s_social = {u: f for u, f in f1s_social.items() if u in nlp_uids}\n",
    "\n",
    "sorted_uids = [u for u, f in sorted(f1s_social.items(), key=lambda x:x[1])]\n",
    "indices = range(len(sorted_uids))\n",
    "\n",
    "f1s_lda = np.array([f1s_combined[sorted_uids[i]] for i in indices])\n",
    "f1s_s = np.array([f1s_social[sorted_uids[i]] for i in indices])\n",
    "\n",
    "# build a dataset where multiple columns measure the same thing\n",
    "data = {\n",
    "    \"social\": f1s_s,\n",
    "    \"social+twlda%d\" % n_topics: f1s_lda\n",
    "}\n",
    "\n",
    "labels = ['social', 'social+twlda%d' % n_topics]\n",
    "\n",
    "# create a line chart where each column of measures receives a unique color and dash style\n",
    "line = Line(data, y=labels,\n",
    "            dash=labels,\n",
    "            color=labels,\n",
    "            legend_sort_field = 'color',\n",
    "            legend_sort_direction = 'descending',\n",
    "            xlabel='usuarios (ordenados por f1 del modelo social en datos de evaluación)',\n",
    "            ylabel='puntaje f1 sobre datos de evaluación', legend=True)\n",
    "\n",
    "show(line)"
   ]
  },
  {
   "cell_type": "code",
   "execution_count": 6,
   "metadata": {
    "collapsed": false
   },
   "outputs": [
    {
     "data": {
      "text/plain": [
       "6"
      ]
     },
     "execution_count": 6,
     "metadata": {},
     "output_type": "execute_result"
    }
   ],
   "source": [
    "sum(f1s_lda > f1s_s)"
   ]
  },
  {
   "cell_type": "code",
   "execution_count": 7,
   "metadata": {
    "collapsed": false
   },
   "outputs": [
    {
     "data": {
      "text/plain": [
       "0.7365366673528444"
      ]
     },
     "execution_count": 7,
     "metadata": {},
     "output_type": "execute_result"
    }
   ],
   "source": [
    "np.mean(f1s_lda)"
   ]
  },
  {
   "cell_type": "code",
   "execution_count": 8,
   "metadata": {
    "collapsed": false
   },
   "outputs": [
    {
     "data": {
      "text/plain": [
       "0.71768682625332803"
      ]
     },
     "execution_count": 8,
     "metadata": {},
     "output_type": "execute_result"
    }
   ],
   "source": [
    "np.mean(f1s_s)"
   ]
  },
  {
   "cell_type": "markdown",
   "metadata": {},
   "source": [
    "# Comparación en test set"
   ]
  },
  {
   "cell_type": "code",
   "execution_count": 9,
   "metadata": {
    "collapsed": false
   },
   "outputs": [
    {
     "data": {
      "text/html": [
       "\n",
       "\n",
       "    <div class=\"bk-root\">\n",
       "        <div class=\"bk-plotdiv\" id=\"57c1dbd8-13b5-4b23-abe6-53a58763a414\"></div>\n",
       "    </div>\n",
       "<script type=\"text/javascript\">\n",
       "  \n",
       "  (function(global) {\n",
       "    function now() {\n",
       "      return new Date();\n",
       "    }\n",
       "  \n",
       "    var force = false;\n",
       "  \n",
       "    if (typeof (window._bokeh_onload_callbacks) === \"undefined\" || force === true) {\n",
       "      window._bokeh_onload_callbacks = [];\n",
       "      window._bokeh_is_loading = undefined;\n",
       "    }\n",
       "  \n",
       "  \n",
       "    \n",
       "    if (typeof (window._bokeh_timeout) === \"undefined\" || force === true) {\n",
       "      window._bokeh_timeout = Date.now() + 0;\n",
       "      window._bokeh_failed_load = false;\n",
       "    }\n",
       "  \n",
       "    var NB_LOAD_WARNING = {'data': {'text/html':\n",
       "       \"<div style='background-color: #fdd'>\\n\"+\n",
       "       \"<p>\\n\"+\n",
       "       \"BokehJS does not appear to have successfully loaded. If loading BokehJS from CDN, this \\n\"+\n",
       "       \"may be due to a slow or bad network connection. Possible fixes:\\n\"+\n",
       "       \"</p>\\n\"+\n",
       "       \"<ul>\\n\"+\n",
       "       \"<li>re-rerun `output_notebook()` to attempt to load from CDN again, or</li>\\n\"+\n",
       "       \"<li>use INLINE resources instead, as so:</li>\\n\"+\n",
       "       \"</ul>\\n\"+\n",
       "       \"<code>\\n\"+\n",
       "       \"from bokeh.resources import INLINE\\n\"+\n",
       "       \"output_notebook(resources=INLINE)\\n\"+\n",
       "       \"</code>\\n\"+\n",
       "       \"</div>\"}};\n",
       "  \n",
       "    function display_loaded() {\n",
       "      if (window.Bokeh !== undefined) {\n",
       "        var el = document.getElementById(\"57c1dbd8-13b5-4b23-abe6-53a58763a414\");\n",
       "        el.textContent = \"BokehJS \" + Bokeh.version + \" successfully loaded.\";\n",
       "      } else if (Date.now() < window._bokeh_timeout) {\n",
       "        setTimeout(display_loaded, 100)\n",
       "      }\n",
       "    }\n",
       "  \n",
       "    function run_callbacks() {\n",
       "      window._bokeh_onload_callbacks.forEach(function(callback) { callback() });\n",
       "      delete window._bokeh_onload_callbacks\n",
       "      console.info(\"Bokeh: all callbacks have finished\");\n",
       "    }\n",
       "  \n",
       "    function load_libs(js_urls, callback) {\n",
       "      window._bokeh_onload_callbacks.push(callback);\n",
       "      if (window._bokeh_is_loading > 0) {\n",
       "        console.log(\"Bokeh: BokehJS is being loaded, scheduling callback at\", now());\n",
       "        return null;\n",
       "      }\n",
       "      if (js_urls == null || js_urls.length === 0) {\n",
       "        run_callbacks();\n",
       "        return null;\n",
       "      }\n",
       "      console.log(\"Bokeh: BokehJS not loaded, scheduling load and callback at\", now());\n",
       "      window._bokeh_is_loading = js_urls.length;\n",
       "      for (var i = 0; i < js_urls.length; i++) {\n",
       "        var url = js_urls[i];\n",
       "        var s = document.createElement('script');\n",
       "        s.src = url;\n",
       "        s.async = false;\n",
       "        s.onreadystatechange = s.onload = function() {\n",
       "          window._bokeh_is_loading--;\n",
       "          if (window._bokeh_is_loading === 0) {\n",
       "            console.log(\"Bokeh: all BokehJS libraries loaded\");\n",
       "            run_callbacks()\n",
       "          }\n",
       "        };\n",
       "        s.onerror = function() {\n",
       "          console.warn(\"failed to load library \" + url);\n",
       "        };\n",
       "        console.log(\"Bokeh: injecting script tag for BokehJS library: \", url);\n",
       "        document.getElementsByTagName(\"head\")[0].appendChild(s);\n",
       "      }\n",
       "    };var element = document.getElementById(\"57c1dbd8-13b5-4b23-abe6-53a58763a414\");\n",
       "    if (element == null) {\n",
       "      console.log(\"Bokeh: ERROR: autoload.js configured with elementid '57c1dbd8-13b5-4b23-abe6-53a58763a414' but no matching script tag was found. \")\n",
       "      return false;\n",
       "    }\n",
       "  \n",
       "    var js_urls = [];\n",
       "  \n",
       "    var inline_js = [\n",
       "      function(Bokeh) {\n",
       "        (function() {\n",
       "          var fn = function() {\n",
       "            var docs_json = {\"c78cf701-93f6-48c0-b3f9-10b60859f0d8\":{\"roots\":{\"references\":[{\"attributes\":{\"label\":{\"value\":\"social\"},\"renderers\":[{\"id\":\"89f25c07-785c-4f85-af2d-e3d4f15f36c1\",\"type\":\"GlyphRenderer\"}]},\"id\":\"8f3bea3b-cbbb-41e5-986c-d3b677f5bfba\",\"type\":\"LegendItem\"},{\"attributes\":{\"callback\":null,\"column_names\":[\"x_values\",\"y_values\"],\"data\":{\"chart_index\":[{\"series\":\"social\"},{\"series\":\"social\"},{\"series\":\"social\"},{\"series\":\"social\"},{\"series\":\"social\"},{\"series\":\"social\"},{\"series\":\"social\"},{\"series\":\"social\"},{\"series\":\"social\"},{\"series\":\"social\"},{\"series\":\"social\"},{\"series\":\"social\"},{\"series\":\"social\"},{\"series\":\"social\"},{\"series\":\"social\"},{\"series\":\"social\"},{\"series\":\"social\"},{\"series\":\"social\"},{\"series\":\"social\"},{\"series\":\"social\"},{\"series\":\"social\"},{\"series\":\"social\"},{\"series\":\"social\"},{\"series\":\"social\"},{\"series\":\"social\"},{\"series\":\"social\"},{\"series\":\"social\"},{\"series\":\"social\"},{\"series\":\"social\"},{\"series\":\"social\"},{\"series\":\"social\"},{\"series\":\"social\"},{\"series\":\"social\"},{\"series\":\"social\"},{\"series\":\"social\"},{\"series\":\"social\"},{\"series\":\"social\"}],\"series\":[\"social\",\"social\",\"social\",\"social\",\"social\",\"social\",\"social\",\"social\",\"social\",\"social\",\"social\",\"social\",\"social\",\"social\",\"social\",\"social\",\"social\",\"social\",\"social\",\"social\",\"social\",\"social\",\"social\",\"social\",\"social\",\"social\",\"social\",\"social\",\"social\",\"social\",\"social\",\"social\",\"social\",\"social\",\"social\",\"social\",\"social\"],\"x_values\":[0,1,2,3,4,5,6,7,8,9,10,11,12,13,14,15,16,17,18,19,20,21,22,23,24,25,26,27,28,29,30,31,32,33,34,35,36],\"y_values\":{\"__ndarray__\":\"ZRbup3lrsD900UUXXXThP8/KT4iz8uM/HMdxHMdx5D86u4VfjYnkP9JFF1100eU/AQAAAAAA5j9lIQtZyELmP2UhC1nIQuY/ymsor6G85j/HcRzHcRznPzMzMzMzM+c/Nzc3Nzc35z9GF1100UXnP/QFfUFf0Oc/94DZA2YP6D/NH2w8mj/oP9mJndiJneg/NNaHxvrQ6D+1l9BeQnvpPyOfdYMp8uk/sKG8hvIa6j9aWlpaWlrqP6qqqqqqquo/YGdXe2oQ6z/H+tBYHxrrPyabbLLJJus/bdR3Nuo76z/btm3btm3rP9u2bdu2bes/HLmRG7mR6z8fwX0E9xHsP+zETuzETuw/1AjLPY2w7D9ot/CrMZHuP8dxHMdxHO8/3/It3/It7z8=\",\"dtype\":\"float64\",\"shape\":[37]}}},\"id\":\"fc276150-7783-4c67-80d5-f04500ec031c\",\"type\":\"ColumnDataSource\"},{\"attributes\":{\"callback\":null,\"column_names\":[\"x_values\",\"y_values\"],\"data\":{\"chart_index\":[{\"series\":\"social+twlda15\"},{\"series\":\"social+twlda15\"},{\"series\":\"social+twlda15\"},{\"series\":\"social+twlda15\"},{\"series\":\"social+twlda15\"},{\"series\":\"social+twlda15\"},{\"series\":\"social+twlda15\"},{\"series\":\"social+twlda15\"},{\"series\":\"social+twlda15\"},{\"series\":\"social+twlda15\"},{\"series\":\"social+twlda15\"},{\"series\":\"social+twlda15\"},{\"series\":\"social+twlda15\"},{\"series\":\"social+twlda15\"},{\"series\":\"social+twlda15\"},{\"series\":\"social+twlda15\"},{\"series\":\"social+twlda15\"},{\"series\":\"social+twlda15\"},{\"series\":\"social+twlda15\"},{\"series\":\"social+twlda15\"},{\"series\":\"social+twlda15\"},{\"series\":\"social+twlda15\"},{\"series\":\"social+twlda15\"},{\"series\":\"social+twlda15\"},{\"series\":\"social+twlda15\"},{\"series\":\"social+twlda15\"},{\"series\":\"social+twlda15\"},{\"series\":\"social+twlda15\"},{\"series\":\"social+twlda15\"},{\"series\":\"social+twlda15\"},{\"series\":\"social+twlda15\"},{\"series\":\"social+twlda15\"},{\"series\":\"social+twlda15\"},{\"series\":\"social+twlda15\"},{\"series\":\"social+twlda15\"},{\"series\":\"social+twlda15\"},{\"series\":\"social+twlda15\"}],\"series\":[\"social+twlda15\",\"social+twlda15\",\"social+twlda15\",\"social+twlda15\",\"social+twlda15\",\"social+twlda15\",\"social+twlda15\",\"social+twlda15\",\"social+twlda15\",\"social+twlda15\",\"social+twlda15\",\"social+twlda15\",\"social+twlda15\",\"social+twlda15\",\"social+twlda15\",\"social+twlda15\",\"social+twlda15\",\"social+twlda15\",\"social+twlda15\",\"social+twlda15\",\"social+twlda15\",\"social+twlda15\",\"social+twlda15\",\"social+twlda15\",\"social+twlda15\",\"social+twlda15\",\"social+twlda15\",\"social+twlda15\",\"social+twlda15\",\"social+twlda15\",\"social+twlda15\",\"social+twlda15\",\"social+twlda15\",\"social+twlda15\",\"social+twlda15\",\"social+twlda15\",\"social+twlda15\"],\"x_values\":[0,1,2,3,4,5,6,7,8,9,10,11,12,13,14,15,16,17,18,19,20,21,22,23,24,25,26,27,28,29,30,31,32,33,34,35,36],\"y_values\":{\"__ndarray__\":\"AAAAAAAA7z+pCcZb2efgPxM7sRM7seM/GgGnKCPg5D9eQ3kN5TXkPzZlTVlT1uQ/pZRSSiml5D9lIQtZyELmP2UhC1nIQuY/CtejcD0K5z/jIxPonbrmP/yuFjdhfuc/Ij6BVHJe5j9GF1100UXnP7dt27Zt2+Y/iIeHh4eH5z/NH2w8mj/oP9mJndiJneg/qqqqqqqq6D+1l9BeQnvpPyOfdYMp8uk/NpTXUF5D6T9aWlpaWlrqP6qqqqqqquo/OvGk48YO6z/H+tBYHxrrPyabbLLJJus/pze96U1v6j8vob2E9hLqP1qwBVuwBes/NSbSA5Wz6z/ZiZ3YiZ3oP+zETuzETuw/FtNZTGcx7T9ot/CrMZHuP0dY7mmE5e4/3/It3/It7z8=\",\"dtype\":\"float64\",\"shape\":[37]}}},\"id\":\"c949db7a-b33a-4d42-a347-e781dd0d3bb6\",\"type\":\"ColumnDataSource\"},{\"attributes\":{},\"id\":\"2a558e46-ed05-4530-a162-02145bc41999\",\"type\":\"BasicTickFormatter\"},{\"attributes\":{\"data_source\":{\"id\":\"c949db7a-b33a-4d42-a347-e781dd0d3bb6\",\"type\":\"ColumnDataSource\"},\"glyph\":{\"id\":\"1c263e54-c787-457f-8075-72d5b06cbf6a\",\"type\":\"Line\"},\"hover_glyph\":null,\"muted_glyph\":null},\"id\":\"5da8602d-185f-4c7d-a6b5-fe739aa04c2e\",\"type\":\"GlyphRenderer\"},{\"attributes\":{\"dimension\":1,\"plot\":{\"id\":\"96dee8a6-5749-4fdc-9271-5e28577c2110\",\"subtype\":\"Chart\",\"type\":\"Plot\"},\"ticker\":{\"id\":\"a7217409-517a-4ecf-9c09-5ae82c0ba382\",\"type\":\"BasicTicker\"}},\"id\":\"9d227bc0-2fba-4bef-8f55-adf6e911363a\",\"type\":\"Grid\"},{\"attributes\":{\"plot\":null,\"text\":null},\"id\":\"3ca0ba6a-fa7b-4d02-bd9f-ff111dc8eb28\",\"type\":\"Title\"},{\"attributes\":{\"label\":{\"value\":\"social+twlda15\"},\"renderers\":[{\"id\":\"5da8602d-185f-4c7d-a6b5-fe739aa04c2e\",\"type\":\"GlyphRenderer\"}]},\"id\":\"6910161e-7ea9-459a-8acb-1caaafd90155\",\"type\":\"LegendItem\"},{\"attributes\":{},\"id\":\"0c7d36a1-c348-4fb8-9d60-d9a4d6da6d30\",\"type\":\"BasicTicker\"},{\"attributes\":{\"plot\":{\"id\":\"96dee8a6-5749-4fdc-9271-5e28577c2110\",\"subtype\":\"Chart\",\"type\":\"Plot\"}},\"id\":\"8faedda8-5c26-4d14-8a36-c65fc724f2cc\",\"type\":\"PanTool\"},{\"attributes\":{\"axis_label\":\"usuarios (ordenados por f1 del modelo social en datos de evaluaci\\u00f3n)\",\"formatter\":{\"id\":\"2a558e46-ed05-4530-a162-02145bc41999\",\"type\":\"BasicTickFormatter\"},\"plot\":{\"id\":\"96dee8a6-5749-4fdc-9271-5e28577c2110\",\"subtype\":\"Chart\",\"type\":\"Plot\"},\"ticker\":{\"id\":\"0c7d36a1-c348-4fb8-9d60-d9a4d6da6d30\",\"type\":\"BasicTicker\"}},\"id\":\"d1f8750c-3fa4-4881-beb2-c4b2e59b71cd\",\"type\":\"LinearAxis\"},{\"attributes\":{},\"id\":\"a7217409-517a-4ecf-9c09-5ae82c0ba382\",\"type\":\"BasicTicker\"},{\"attributes\":{\"plot\":{\"id\":\"96dee8a6-5749-4fdc-9271-5e28577c2110\",\"subtype\":\"Chart\",\"type\":\"Plot\"}},\"id\":\"4f4cbdfa-8277-4a31-8123-c3804897b253\",\"type\":\"HelpTool\"},{\"attributes\":{\"callback\":null,\"end\":39.6,\"start\":-3.6},\"id\":\"701fdf25-29b0-4870-bdd0-1f2f51d47ba7\",\"type\":\"Range1d\"},{\"attributes\":{\"plot\":{\"id\":\"96dee8a6-5749-4fdc-9271-5e28577c2110\",\"subtype\":\"Chart\",\"type\":\"Plot\"}},\"id\":\"31b2103b-5d68-4f72-a5f0-71d54cd78c0e\",\"type\":\"ResetTool\"},{\"attributes\":{\"line_color\":{\"value\":\"#5ab738\"},\"line_dash\":[6],\"line_width\":{\"value\":2},\"x\":{\"field\":\"x_values\"},\"y\":{\"field\":\"y_values\"}},\"id\":\"1c263e54-c787-457f-8075-72d5b06cbf6a\",\"type\":\"Line\"},{\"attributes\":{\"below\":[{\"id\":\"d1f8750c-3fa4-4881-beb2-c4b2e59b71cd\",\"type\":\"LinearAxis\"}],\"css_classes\":null,\"left\":[{\"id\":\"f57f6fd6-37d4-40e7-aa2d-8a3f4c51a795\",\"type\":\"LinearAxis\"}],\"renderers\":[{\"id\":\"482fdfbf-011f-4b92-816e-a5d1193f2ebf\",\"type\":\"BoxAnnotation\"},{\"id\":\"89f25c07-785c-4f85-af2d-e3d4f15f36c1\",\"type\":\"GlyphRenderer\"},{\"id\":\"5da8602d-185f-4c7d-a6b5-fe739aa04c2e\",\"type\":\"GlyphRenderer\"},{\"id\":\"3ea48e70-5857-4999-83ce-965c3107a029\",\"type\":\"Legend\"},{\"id\":\"d1f8750c-3fa4-4881-beb2-c4b2e59b71cd\",\"type\":\"LinearAxis\"},{\"id\":\"f57f6fd6-37d4-40e7-aa2d-8a3f4c51a795\",\"type\":\"LinearAxis\"},{\"id\":\"5daf5b5e-804a-4ed5-8c92-79eaf10b86be\",\"type\":\"Grid\"},{\"id\":\"9d227bc0-2fba-4bef-8f55-adf6e911363a\",\"type\":\"Grid\"}],\"title\":{\"id\":\"3ca0ba6a-fa7b-4d02-bd9f-ff111dc8eb28\",\"type\":\"Title\"},\"tool_events\":{\"id\":\"883535ce-c251-4e9d-a96c-9665b705e04a\",\"type\":\"ToolEvents\"},\"toolbar\":{\"id\":\"f7937098-6a68-4add-a098-07c0b4ad27fa\",\"type\":\"Toolbar\"},\"x_mapper_type\":\"auto\",\"x_range\":{\"id\":\"701fdf25-29b0-4870-bdd0-1f2f51d47ba7\",\"type\":\"Range1d\"},\"y_mapper_type\":\"auto\",\"y_range\":{\"id\":\"900d1a4c-06b3-49fc-839d-cd6a9860338d\",\"type\":\"Range1d\"}},\"id\":\"96dee8a6-5749-4fdc-9271-5e28577c2110\",\"subtype\":\"Chart\",\"type\":\"Plot\"},{\"attributes\":{\"line_color\":{\"value\":\"#f22c40\"},\"line_width\":{\"value\":2},\"x\":{\"field\":\"x_values\"},\"y\":{\"field\":\"y_values\"}},\"id\":\"8444c098-1685-4448-8a54-2b18568358ac\",\"type\":\"Line\"},{\"attributes\":{\"data_source\":{\"id\":\"fc276150-7783-4c67-80d5-f04500ec031c\",\"type\":\"ColumnDataSource\"},\"glyph\":{\"id\":\"8444c098-1685-4448-8a54-2b18568358ac\",\"type\":\"Line\"},\"hover_glyph\":null,\"muted_glyph\":null},\"id\":\"89f25c07-785c-4f85-af2d-e3d4f15f36c1\",\"type\":\"GlyphRenderer\"},{\"attributes\":{\"bottom_units\":\"screen\",\"fill_alpha\":{\"value\":0.5},\"fill_color\":{\"value\":\"lightgrey\"},\"left_units\":\"screen\",\"level\":\"overlay\",\"line_alpha\":{\"value\":1.0},\"line_color\":{\"value\":\"black\"},\"line_dash\":[4,4],\"line_width\":{\"value\":2},\"plot\":null,\"render_mode\":\"css\",\"right_units\":\"screen\",\"top_units\":\"screen\"},\"id\":\"482fdfbf-011f-4b92-816e-a5d1193f2ebf\",\"type\":\"BoxAnnotation\"},{\"attributes\":{\"plot\":{\"id\":\"96dee8a6-5749-4fdc-9271-5e28577c2110\",\"subtype\":\"Chart\",\"type\":\"Plot\"},\"ticker\":{\"id\":\"0c7d36a1-c348-4fb8-9d60-d9a4d6da6d30\",\"type\":\"BasicTicker\"}},\"id\":\"5daf5b5e-804a-4ed5-8c92-79eaf10b86be\",\"type\":\"Grid\"},{\"attributes\":{\"plot\":{\"id\":\"96dee8a6-5749-4fdc-9271-5e28577c2110\",\"subtype\":\"Chart\",\"type\":\"Plot\"}},\"id\":\"e82e69ac-f9f2-442a-89a0-e43b636c0335\",\"type\":\"WheelZoomTool\"},{\"attributes\":{\"overlay\":{\"id\":\"482fdfbf-011f-4b92-816e-a5d1193f2ebf\",\"type\":\"BoxAnnotation\"},\"plot\":{\"id\":\"96dee8a6-5749-4fdc-9271-5e28577c2110\",\"subtype\":\"Chart\",\"type\":\"Plot\"}},\"id\":\"060fc29a-fa19-49ed-8263-20d92801b943\",\"type\":\"BoxZoomTool\"},{\"attributes\":{\"active_drag\":\"auto\",\"active_scroll\":\"auto\",\"active_tap\":\"auto\",\"tools\":[{\"id\":\"8faedda8-5c26-4d14-8a36-c65fc724f2cc\",\"type\":\"PanTool\"},{\"id\":\"e82e69ac-f9f2-442a-89a0-e43b636c0335\",\"type\":\"WheelZoomTool\"},{\"id\":\"060fc29a-fa19-49ed-8263-20d92801b943\",\"type\":\"BoxZoomTool\"},{\"id\":\"80f8affd-f459-45c5-93ca-431f8b0fc4d6\",\"type\":\"SaveTool\"},{\"id\":\"31b2103b-5d68-4f72-a5f0-71d54cd78c0e\",\"type\":\"ResetTool\"},{\"id\":\"4f4cbdfa-8277-4a31-8123-c3804897b253\",\"type\":\"HelpTool\"}]},\"id\":\"f7937098-6a68-4add-a098-07c0b4ad27fa\",\"type\":\"Toolbar\"},{\"attributes\":{},\"id\":\"a3ac667c-cf8c-433c-bf94-8d9d3027ab2d\",\"type\":\"BasicTickFormatter\"},{\"attributes\":{\"plot\":{\"id\":\"96dee8a6-5749-4fdc-9271-5e28577c2110\",\"subtype\":\"Chart\",\"type\":\"Plot\"}},\"id\":\"80f8affd-f459-45c5-93ca-431f8b0fc4d6\",\"type\":\"SaveTool\"},{\"attributes\":{},\"id\":\"883535ce-c251-4e9d-a96c-9665b705e04a\",\"type\":\"ToolEvents\"},{\"attributes\":{\"callback\":null,\"end\":1.0653808776257756,\"start\":-0.02688196157583911},\"id\":\"900d1a4c-06b3-49fc-839d-cd6a9860338d\",\"type\":\"Range1d\"},{\"attributes\":{\"items\":[{\"id\":\"6910161e-7ea9-459a-8acb-1caaafd90155\",\"type\":\"LegendItem\"},{\"id\":\"8f3bea3b-cbbb-41e5-986c-d3b677f5bfba\",\"type\":\"LegendItem\"}],\"location\":\"top_left\",\"plot\":{\"id\":\"96dee8a6-5749-4fdc-9271-5e28577c2110\",\"subtype\":\"Chart\",\"type\":\"Plot\"}},\"id\":\"3ea48e70-5857-4999-83ce-965c3107a029\",\"type\":\"Legend\"},{\"attributes\":{\"axis_label\":\"puntaje f1 sobre datos de evaluaci\\u00f3n\",\"formatter\":{\"id\":\"a3ac667c-cf8c-433c-bf94-8d9d3027ab2d\",\"type\":\"BasicTickFormatter\"},\"plot\":{\"id\":\"96dee8a6-5749-4fdc-9271-5e28577c2110\",\"subtype\":\"Chart\",\"type\":\"Plot\"},\"ticker\":{\"id\":\"a7217409-517a-4ecf-9c09-5ae82c0ba382\",\"type\":\"BasicTicker\"}},\"id\":\"f57f6fd6-37d4-40e7-aa2d-8a3f4c51a795\",\"type\":\"LinearAxis\"}],\"root_ids\":[\"96dee8a6-5749-4fdc-9271-5e28577c2110\"]},\"title\":\"Bokeh Application\",\"version\":\"0.12.5\"}};\n",
       "            var render_items = [{\"docid\":\"c78cf701-93f6-48c0-b3f9-10b60859f0d8\",\"elementid\":\"57c1dbd8-13b5-4b23-abe6-53a58763a414\",\"modelid\":\"96dee8a6-5749-4fdc-9271-5e28577c2110\"}];\n",
       "            \n",
       "            Bokeh.embed.embed_items(docs_json, render_items);\n",
       "          };\n",
       "          if (document.readyState != \"loading\") fn();\n",
       "          else document.addEventListener(\"DOMContentLoaded\", fn);\n",
       "        })();\n",
       "      },\n",
       "      function(Bokeh) {\n",
       "      }\n",
       "    ];\n",
       "  \n",
       "    function run_inline_js() {\n",
       "      \n",
       "      if ((window.Bokeh !== undefined) || (force === true)) {\n",
       "        for (var i = 0; i < inline_js.length; i++) {\n",
       "          inline_js[i](window.Bokeh);\n",
       "        }if (force === true) {\n",
       "          display_loaded();\n",
       "        }} else if (Date.now() < window._bokeh_timeout) {\n",
       "        setTimeout(run_inline_js, 100);\n",
       "      } else if (!window._bokeh_failed_load) {\n",
       "        console.log(\"Bokeh: BokehJS failed to load within specified timeout.\");\n",
       "        window._bokeh_failed_load = true;\n",
       "      } else if (force !== true) {\n",
       "        var cell = $(document.getElementById(\"57c1dbd8-13b5-4b23-abe6-53a58763a414\")).parents('.cell').data().cell;\n",
       "        cell.output_area.append_execute_result(NB_LOAD_WARNING)\n",
       "      }\n",
       "  \n",
       "    }\n",
       "  \n",
       "    if (window._bokeh_is_loading === 0) {\n",
       "      console.log(\"Bokeh: BokehJS loaded, going straight to plotting\");\n",
       "      run_inline_js();\n",
       "    } else {\n",
       "      load_libs(js_urls, function() {\n",
       "        console.log(\"Bokeh: BokehJS plotting callback run at\", now());\n",
       "        run_inline_js();\n",
       "      });\n",
       "    }\n",
       "  }(this));\n",
       "</script>"
      ]
     },
     "metadata": {},
     "output_type": "display_data"
    }
   ],
   "source": [
    "with open('scores/tw_t%d_f1s_test_svc.json' % n_topics) as f:    \n",
    "    f1s_combined = json.load(f)\n",
    "\n",
    "f1s_social = json.load(open('../_1_one_user_learn_neighbours/scores/f1s_testv_svc.json'))\n",
    "f1s_social = {u: f for u, f in f1s_social.items() if u in nlp_uids}\n",
    "\n",
    "sorted_uids = [u for u, f in sorted(f1s_social.items(), key=lambda x:x[1])]\n",
    "indices = range(len(sorted_uids))\n",
    "\n",
    "f1s_lda = np.array([f1s_combined[sorted_uids[i]] for i in indices])\n",
    "f1s_s = np.array([f1s_social[sorted_uids[i]] for i in indices])\n",
    "\n",
    "# build a dataset where multiple columns measure the same thing\n",
    "data = {\n",
    "    \"social\": f1s_s,\n",
    "    \"social+twlda%d\" % n_topics: f1s_lda\n",
    "}\n",
    "\n",
    "labels = ['social', 'social+twlda%d' % n_topics]\n",
    "\n",
    "# create a line chart where each column of measures receives a unique color and dash style\n",
    "line = Line(data, y=labels,\n",
    "            dash=labels,\n",
    "            color=labels,\n",
    "            legend_sort_field = 'color',\n",
    "            legend_sort_direction = 'descending',\n",
    "            xlabel='usuarios (ordenados por f1 del modelo social en datos de evaluación)',\n",
    "            ylabel='puntaje f1 sobre datos de evaluación', legend=True)\n",
    "\n",
    "show(line)"
   ]
  },
  {
   "cell_type": "code",
   "execution_count": 10,
   "metadata": {
    "collapsed": false
   },
   "outputs": [
    {
     "data": {
      "text/plain": [
       "6"
      ]
     },
     "execution_count": 10,
     "metadata": {},
     "output_type": "execute_result"
    }
   ],
   "source": [
    "sum(f1s_lda > f1s_s)"
   ]
  },
  {
   "cell_type": "code",
   "execution_count": 11,
   "metadata": {
    "collapsed": false
   },
   "outputs": [
    {
     "data": {
      "text/plain": [
       "0.77915777128770025"
      ]
     },
     "execution_count": 11,
     "metadata": {},
     "output_type": "execute_result"
    }
   ],
   "source": [
    "np.mean(f1s_lda)"
   ]
  },
  {
   "cell_type": "code",
   "execution_count": 12,
   "metadata": {
    "collapsed": false
   },
   "outputs": [
    {
     "data": {
      "text/plain": [
       "0.76463096629149319"
      ]
     },
     "execution_count": 12,
     "metadata": {},
     "output_type": "execute_result"
    }
   ],
   "source": [
    "np.mean(f1s_s)"
   ]
  },
  {
   "cell_type": "markdown",
   "metadata": {},
   "source": [
    "# Comparación en training set"
   ]
  },
  {
   "cell_type": "code",
   "execution_count": 13,
   "metadata": {
    "collapsed": false
   },
   "outputs": [
    {
     "data": {
      "text/html": [
       "\n",
       "\n",
       "    <div class=\"bk-root\">\n",
       "        <div class=\"bk-plotdiv\" id=\"e03b33bb-dbd8-4e5c-b1f9-538ec8080caa\"></div>\n",
       "    </div>\n",
       "<script type=\"text/javascript\">\n",
       "  \n",
       "  (function(global) {\n",
       "    function now() {\n",
       "      return new Date();\n",
       "    }\n",
       "  \n",
       "    var force = false;\n",
       "  \n",
       "    if (typeof (window._bokeh_onload_callbacks) === \"undefined\" || force === true) {\n",
       "      window._bokeh_onload_callbacks = [];\n",
       "      window._bokeh_is_loading = undefined;\n",
       "    }\n",
       "  \n",
       "  \n",
       "    \n",
       "    if (typeof (window._bokeh_timeout) === \"undefined\" || force === true) {\n",
       "      window._bokeh_timeout = Date.now() + 0;\n",
       "      window._bokeh_failed_load = false;\n",
       "    }\n",
       "  \n",
       "    var NB_LOAD_WARNING = {'data': {'text/html':\n",
       "       \"<div style='background-color: #fdd'>\\n\"+\n",
       "       \"<p>\\n\"+\n",
       "       \"BokehJS does not appear to have successfully loaded. If loading BokehJS from CDN, this \\n\"+\n",
       "       \"may be due to a slow or bad network connection. Possible fixes:\\n\"+\n",
       "       \"</p>\\n\"+\n",
       "       \"<ul>\\n\"+\n",
       "       \"<li>re-rerun `output_notebook()` to attempt to load from CDN again, or</li>\\n\"+\n",
       "       \"<li>use INLINE resources instead, as so:</li>\\n\"+\n",
       "       \"</ul>\\n\"+\n",
       "       \"<code>\\n\"+\n",
       "       \"from bokeh.resources import INLINE\\n\"+\n",
       "       \"output_notebook(resources=INLINE)\\n\"+\n",
       "       \"</code>\\n\"+\n",
       "       \"</div>\"}};\n",
       "  \n",
       "    function display_loaded() {\n",
       "      if (window.Bokeh !== undefined) {\n",
       "        var el = document.getElementById(\"e03b33bb-dbd8-4e5c-b1f9-538ec8080caa\");\n",
       "        el.textContent = \"BokehJS \" + Bokeh.version + \" successfully loaded.\";\n",
       "      } else if (Date.now() < window._bokeh_timeout) {\n",
       "        setTimeout(display_loaded, 100)\n",
       "      }\n",
       "    }\n",
       "  \n",
       "    function run_callbacks() {\n",
       "      window._bokeh_onload_callbacks.forEach(function(callback) { callback() });\n",
       "      delete window._bokeh_onload_callbacks\n",
       "      console.info(\"Bokeh: all callbacks have finished\");\n",
       "    }\n",
       "  \n",
       "    function load_libs(js_urls, callback) {\n",
       "      window._bokeh_onload_callbacks.push(callback);\n",
       "      if (window._bokeh_is_loading > 0) {\n",
       "        console.log(\"Bokeh: BokehJS is being loaded, scheduling callback at\", now());\n",
       "        return null;\n",
       "      }\n",
       "      if (js_urls == null || js_urls.length === 0) {\n",
       "        run_callbacks();\n",
       "        return null;\n",
       "      }\n",
       "      console.log(\"Bokeh: BokehJS not loaded, scheduling load and callback at\", now());\n",
       "      window._bokeh_is_loading = js_urls.length;\n",
       "      for (var i = 0; i < js_urls.length; i++) {\n",
       "        var url = js_urls[i];\n",
       "        var s = document.createElement('script');\n",
       "        s.src = url;\n",
       "        s.async = false;\n",
       "        s.onreadystatechange = s.onload = function() {\n",
       "          window._bokeh_is_loading--;\n",
       "          if (window._bokeh_is_loading === 0) {\n",
       "            console.log(\"Bokeh: all BokehJS libraries loaded\");\n",
       "            run_callbacks()\n",
       "          }\n",
       "        };\n",
       "        s.onerror = function() {\n",
       "          console.warn(\"failed to load library \" + url);\n",
       "        };\n",
       "        console.log(\"Bokeh: injecting script tag for BokehJS library: \", url);\n",
       "        document.getElementsByTagName(\"head\")[0].appendChild(s);\n",
       "      }\n",
       "    };var element = document.getElementById(\"e03b33bb-dbd8-4e5c-b1f9-538ec8080caa\");\n",
       "    if (element == null) {\n",
       "      console.log(\"Bokeh: ERROR: autoload.js configured with elementid 'e03b33bb-dbd8-4e5c-b1f9-538ec8080caa' but no matching script tag was found. \")\n",
       "      return false;\n",
       "    }\n",
       "  \n",
       "    var js_urls = [];\n",
       "  \n",
       "    var inline_js = [\n",
       "      function(Bokeh) {\n",
       "        (function() {\n",
       "          var fn = function() {\n",
       "            var docs_json = {\"56910224-c812-4b5c-bace-e555e3489e31\":{\"roots\":{\"references\":[{\"attributes\":{\"callback\":null,\"column_names\":[\"x_values\",\"y_values\"],\"data\":{\"chart_index\":[{\"series\":\"social\"},{\"series\":\"social\"},{\"series\":\"social\"},{\"series\":\"social\"},{\"series\":\"social\"},{\"series\":\"social\"},{\"series\":\"social\"},{\"series\":\"social\"},{\"series\":\"social\"},{\"series\":\"social\"},{\"series\":\"social\"},{\"series\":\"social\"},{\"series\":\"social\"},{\"series\":\"social\"},{\"series\":\"social\"},{\"series\":\"social\"},{\"series\":\"social\"},{\"series\":\"social\"},{\"series\":\"social\"},{\"series\":\"social\"},{\"series\":\"social\"},{\"series\":\"social\"},{\"series\":\"social\"},{\"series\":\"social\"},{\"series\":\"social\"},{\"series\":\"social\"},{\"series\":\"social\"},{\"series\":\"social\"},{\"series\":\"social\"},{\"series\":\"social\"},{\"series\":\"social\"},{\"series\":\"social\"},{\"series\":\"social\"},{\"series\":\"social\"},{\"series\":\"social\"},{\"series\":\"social\"},{\"series\":\"social\"}],\"series\":[\"social\",\"social\",\"social\",\"social\",\"social\",\"social\",\"social\",\"social\",\"social\",\"social\",\"social\",\"social\",\"social\",\"social\",\"social\",\"social\",\"social\",\"social\",\"social\",\"social\",\"social\",\"social\",\"social\",\"social\",\"social\",\"social\",\"social\",\"social\",\"social\",\"social\",\"social\",\"social\",\"social\",\"social\",\"social\",\"social\",\"social\"],\"x_values\":[0,1,2,3,4,5,6,7,8,9,10,11,12,13,14,15,16,17,18,19,20,21,22,23,24,25,26,27,28,29,30,31,32,33,34,35,36],\"y_values\":{\"__ndarray__\":\"MIyl0bABtD8UvS4UvS7kP72JetrcfeU/h7VvWPuG5T+yEdmIbETmPwnUjXjmg+Y/CtejcD0K5z8Qab2AbU7nP/IsI/qA6ug/gr1jamDv6D/yyCOPPPLoP02Rz7rBFOk/u2sCpKcd6T+PJ7OyrXbpP0kaAqT4wek/9+WxFUHD6T+OCOyDIQfqP5MkSZIkSeo/pze96U1v6j8JxlvZ55DqP3bTshJZmuo/K7tqosqu6j+YlUaPqCDrP04b6LSBTus/mpmZmZmZ6z/PusEU+azrP7u7u7u7u+s//ZDA2w8J7D/PeOERJSHsP1AglZyXRew/rKXAFs9w7D/k54pZjvzsPwAAAAAAAO4/dOUByTpX7j8qkDxt+r7uP///////T+8/J3ZiJ3Zi7z8=\",\"dtype\":\"float64\",\"shape\":[37]}}},\"id\":\"11290bbc-bb8f-46b7-9303-7b98331164d7\",\"type\":\"ColumnDataSource\"},{\"attributes\":{\"plot\":{\"id\":\"514fde29-a1d7-4fa2-b468-4e5eb49be2ed\",\"subtype\":\"Chart\",\"type\":\"Plot\"}},\"id\":\"2eaf2fa2-793e-4b5a-9a73-e9bf83bfff33\",\"type\":\"PanTool\"},{\"attributes\":{\"plot\":{\"id\":\"514fde29-a1d7-4fa2-b468-4e5eb49be2ed\",\"subtype\":\"Chart\",\"type\":\"Plot\"},\"ticker\":{\"id\":\"1b18f26a-94e8-4f00-b24c-474b58244e4a\",\"type\":\"BasicTicker\"}},\"id\":\"88f85843-94a5-4200-842e-932de44845e0\",\"type\":\"Grid\"},{\"attributes\":{\"bottom_units\":\"screen\",\"fill_alpha\":{\"value\":0.5},\"fill_color\":{\"value\":\"lightgrey\"},\"left_units\":\"screen\",\"level\":\"overlay\",\"line_alpha\":{\"value\":1.0},\"line_color\":{\"value\":\"black\"},\"line_dash\":[4,4],\"line_width\":{\"value\":2},\"plot\":null,\"render_mode\":\"css\",\"right_units\":\"screen\",\"top_units\":\"screen\"},\"id\":\"716ecf3d-27f7-49be-b9c3-8681df551d3c\",\"type\":\"BoxAnnotation\"},{\"attributes\":{\"label\":{\"value\":\"social+twlda15\"},\"renderers\":[{\"id\":\"53d34cda-3da3-468b-986a-ccc7990650bb\",\"type\":\"GlyphRenderer\"}]},\"id\":\"43097f00-1dcc-4fd5-898b-89866af3ec2a\",\"type\":\"LegendItem\"},{\"attributes\":{\"line_color\":{\"value\":\"#5ab738\"},\"line_dash\":[6],\"line_width\":{\"value\":2},\"x\":{\"field\":\"x_values\"},\"y\":{\"field\":\"y_values\"}},\"id\":\"4a15d8e5-7f6b-4d6c-a558-b529df5233bb\",\"type\":\"Line\"},{\"attributes\":{\"active_drag\":\"auto\",\"active_scroll\":\"auto\",\"active_tap\":\"auto\",\"tools\":[{\"id\":\"2eaf2fa2-793e-4b5a-9a73-e9bf83bfff33\",\"type\":\"PanTool\"},{\"id\":\"df80348d-73c1-4b18-afc3-73d0ba86116e\",\"type\":\"WheelZoomTool\"},{\"id\":\"580c5c1a-20c2-4334-8711-8c485b7e0ea3\",\"type\":\"BoxZoomTool\"},{\"id\":\"a49567b2-e52f-4ff8-8221-8c7daf129005\",\"type\":\"SaveTool\"},{\"id\":\"1881a765-f73b-419a-b51a-8c6effde0b47\",\"type\":\"ResetTool\"},{\"id\":\"eda84656-5ea7-45ba-9f21-7ac866e7653f\",\"type\":\"HelpTool\"}]},\"id\":\"ad381df3-1bcd-4b3a-aebe-18edd73c4f65\",\"type\":\"Toolbar\"},{\"attributes\":{\"below\":[{\"id\":\"8082e67e-89f2-46e8-8e7b-0eb91df03954\",\"type\":\"LinearAxis\"}],\"css_classes\":null,\"left\":[{\"id\":\"8b898a60-6795-493e-898c-37dcc7663a34\",\"type\":\"LinearAxis\"}],\"renderers\":[{\"id\":\"716ecf3d-27f7-49be-b9c3-8681df551d3c\",\"type\":\"BoxAnnotation\"},{\"id\":\"361a3104-2245-4dac-beb3-21a6011bf7ff\",\"type\":\"GlyphRenderer\"},{\"id\":\"53d34cda-3da3-468b-986a-ccc7990650bb\",\"type\":\"GlyphRenderer\"},{\"id\":\"46f3e492-0081-41eb-9d51-9881ac36c42b\",\"type\":\"Legend\"},{\"id\":\"8082e67e-89f2-46e8-8e7b-0eb91df03954\",\"type\":\"LinearAxis\"},{\"id\":\"8b898a60-6795-493e-898c-37dcc7663a34\",\"type\":\"LinearAxis\"},{\"id\":\"88f85843-94a5-4200-842e-932de44845e0\",\"type\":\"Grid\"},{\"id\":\"3e092a52-37c0-4f34-aa25-6268ecf871e6\",\"type\":\"Grid\"}],\"title\":{\"id\":\"38441b66-b639-46b6-97fa-cefedd090b75\",\"type\":\"Title\"},\"tool_events\":{\"id\":\"7b022b79-125e-4fda-bb4b-4b8109a8f9b2\",\"type\":\"ToolEvents\"},\"toolbar\":{\"id\":\"ad381df3-1bcd-4b3a-aebe-18edd73c4f65\",\"type\":\"Toolbar\"},\"x_mapper_type\":\"auto\",\"x_range\":{\"id\":\"14fe5a6c-58c3-4fc3-8cd1-3535afa34738\",\"type\":\"Range1d\"},\"y_mapper_type\":\"auto\",\"y_range\":{\"id\":\"33ef0602-8423-4a6a-93ad-d2e76ddd95aa\",\"type\":\"Range1d\"}},\"id\":\"514fde29-a1d7-4fa2-b468-4e5eb49be2ed\",\"subtype\":\"Chart\",\"type\":\"Plot\"},{\"attributes\":{\"plot\":{\"id\":\"514fde29-a1d7-4fa2-b468-4e5eb49be2ed\",\"subtype\":\"Chart\",\"type\":\"Plot\"}},\"id\":\"a49567b2-e52f-4ff8-8221-8c7daf129005\",\"type\":\"SaveTool\"},{\"attributes\":{\"items\":[{\"id\":\"43097f00-1dcc-4fd5-898b-89866af3ec2a\",\"type\":\"LegendItem\"},{\"id\":\"da171bf3-6ffb-4b90-843b-716c876fb799\",\"type\":\"LegendItem\"}],\"location\":\"top_left\",\"plot\":{\"id\":\"514fde29-a1d7-4fa2-b468-4e5eb49be2ed\",\"subtype\":\"Chart\",\"type\":\"Plot\"}},\"id\":\"46f3e492-0081-41eb-9d51-9881ac36c42b\",\"type\":\"Legend\"},{\"attributes\":{},\"id\":\"7b022b79-125e-4fda-bb4b-4b8109a8f9b2\",\"type\":\"ToolEvents\"},{\"attributes\":{\"label\":{\"value\":\"social\"},\"renderers\":[{\"id\":\"361a3104-2245-4dac-beb3-21a6011bf7ff\",\"type\":\"GlyphRenderer\"}]},\"id\":\"da171bf3-6ffb-4b90-843b-716c876fb799\",\"type\":\"LegendItem\"},{\"attributes\":{\"dimension\":1,\"plot\":{\"id\":\"514fde29-a1d7-4fa2-b468-4e5eb49be2ed\",\"subtype\":\"Chart\",\"type\":\"Plot\"},\"ticker\":{\"id\":\"53f69614-06b6-4191-8bc7-77d029e52270\",\"type\":\"BasicTicker\"}},\"id\":\"3e092a52-37c0-4f34-aa25-6268ecf871e6\",\"type\":\"Grid\"},{\"attributes\":{\"axis_label\":\"usuarios (ordenados por f1 del modelo social en datos de evaluaci\\u00f3n)\",\"formatter\":{\"id\":\"9a5d8ad8-4d0d-471c-a11d-419ccc75105e\",\"type\":\"BasicTickFormatter\"},\"plot\":{\"id\":\"514fde29-a1d7-4fa2-b468-4e5eb49be2ed\",\"subtype\":\"Chart\",\"type\":\"Plot\"},\"ticker\":{\"id\":\"1b18f26a-94e8-4f00-b24c-474b58244e4a\",\"type\":\"BasicTicker\"}},\"id\":\"8082e67e-89f2-46e8-8e7b-0eb91df03954\",\"type\":\"LinearAxis\"},{\"attributes\":{},\"id\":\"53f69614-06b6-4191-8bc7-77d029e52270\",\"type\":\"BasicTicker\"},{\"attributes\":{\"plot\":{\"id\":\"514fde29-a1d7-4fa2-b468-4e5eb49be2ed\",\"subtype\":\"Chart\",\"type\":\"Plot\"}},\"id\":\"eda84656-5ea7-45ba-9f21-7ac866e7653f\",\"type\":\"HelpTool\"},{\"attributes\":{\"plot\":{\"id\":\"514fde29-a1d7-4fa2-b468-4e5eb49be2ed\",\"subtype\":\"Chart\",\"type\":\"Plot\"}},\"id\":\"1881a765-f73b-419a-b51a-8c6effde0b47\",\"type\":\"ResetTool\"},{\"attributes\":{},\"id\":\"9a5d8ad8-4d0d-471c-a11d-419ccc75105e\",\"type\":\"BasicTickFormatter\"},{\"attributes\":{\"overlay\":{\"id\":\"716ecf3d-27f7-49be-b9c3-8681df551d3c\",\"type\":\"BoxAnnotation\"},\"plot\":{\"id\":\"514fde29-a1d7-4fa2-b468-4e5eb49be2ed\",\"subtype\":\"Chart\",\"type\":\"Plot\"}},\"id\":\"580c5c1a-20c2-4334-8711-8c485b7e0ea3\",\"type\":\"BoxZoomTool\"},{\"attributes\":{\"callback\":null,\"end\":1.0806059728297077,\"start\":-0.01298149060046927},\"id\":\"33ef0602-8423-4a6a-93ad-d2e76ddd95aa\",\"type\":\"Range1d\"},{\"attributes\":{\"callback\":null,\"column_names\":[\"x_values\",\"y_values\"],\"data\":{\"chart_index\":[{\"series\":\"social+twlda15\"},{\"series\":\"social+twlda15\"},{\"series\":\"social+twlda15\"},{\"series\":\"social+twlda15\"},{\"series\":\"social+twlda15\"},{\"series\":\"social+twlda15\"},{\"series\":\"social+twlda15\"},{\"series\":\"social+twlda15\"},{\"series\":\"social+twlda15\"},{\"series\":\"social+twlda15\"},{\"series\":\"social+twlda15\"},{\"series\":\"social+twlda15\"},{\"series\":\"social+twlda15\"},{\"series\":\"social+twlda15\"},{\"series\":\"social+twlda15\"},{\"series\":\"social+twlda15\"},{\"series\":\"social+twlda15\"},{\"series\":\"social+twlda15\"},{\"series\":\"social+twlda15\"},{\"series\":\"social+twlda15\"},{\"series\":\"social+twlda15\"},{\"series\":\"social+twlda15\"},{\"series\":\"social+twlda15\"},{\"series\":\"social+twlda15\"},{\"series\":\"social+twlda15\"},{\"series\":\"social+twlda15\"},{\"series\":\"social+twlda15\"},{\"series\":\"social+twlda15\"},{\"series\":\"social+twlda15\"},{\"series\":\"social+twlda15\"},{\"series\":\"social+twlda15\"},{\"series\":\"social+twlda15\"},{\"series\":\"social+twlda15\"},{\"series\":\"social+twlda15\"},{\"series\":\"social+twlda15\"},{\"series\":\"social+twlda15\"},{\"series\":\"social+twlda15\"}],\"series\":[\"social+twlda15\",\"social+twlda15\",\"social+twlda15\",\"social+twlda15\",\"social+twlda15\",\"social+twlda15\",\"social+twlda15\",\"social+twlda15\",\"social+twlda15\",\"social+twlda15\",\"social+twlda15\",\"social+twlda15\",\"social+twlda15\",\"social+twlda15\",\"social+twlda15\",\"social+twlda15\",\"social+twlda15\",\"social+twlda15\",\"social+twlda15\",\"social+twlda15\",\"social+twlda15\",\"social+twlda15\",\"social+twlda15\",\"social+twlda15\",\"social+twlda15\",\"social+twlda15\",\"social+twlda15\",\"social+twlda15\",\"social+twlda15\",\"social+twlda15\",\"social+twlda15\",\"social+twlda15\",\"social+twlda15\",\"social+twlda15\",\"social+twlda15\",\"social+twlda15\",\"social+twlda15\"],\"x_values\":[0,1,2,3,4,5,6,7,8,9,10,11,12,13,14,15,16,17,18,19,20,21,22,23,24,25,26,27,28,29,30,31,32,33,34,35,36],\"y_values\":{\"__ndarray__\":\"9q4DujFP7z9ddNFFF13kPxvKayivoew/h7VvWPuG5T81IN4wSHbnPwnUjXjmg+Y/yWfdYIp85j/////////nP/IsI/qA6ug/nfo9t8Sp7z8XXXTRRRftP02Rz7rBFOk/TRnmsn9M6T8nVxCTK4jpP8t6v6z3y+o/k2GDuHny7T8iIiIiIiLqP5MkSZIkSeo/pze96U1v6j88vgsH0ePrP3bTshJZmuo/K7tqosqu6j9TTR53lrDrP4XqM22Nv+s/adMhJJU27T/PusEU+azrP7u7u7u7u+s/rji/t5ty6D8Pyv0WRKLrP1AglZyXRew/wQ1ucIMb7D+RwNsPCbztPwAAAAAAAO4/aVGJ5Gvq7T8qkDxt+r7uP1T3yqULie8/J3ZiJ3Zi7z8=\",\"dtype\":\"float64\",\"shape\":[37]}}},\"id\":\"140d0085-1023-4d7c-90d0-4a67c9c963f8\",\"type\":\"ColumnDataSource\"},{\"attributes\":{\"plot\":null,\"text\":null},\"id\":\"38441b66-b639-46b6-97fa-cefedd090b75\",\"type\":\"Title\"},{\"attributes\":{\"data_source\":{\"id\":\"140d0085-1023-4d7c-90d0-4a67c9c963f8\",\"type\":\"ColumnDataSource\"},\"glyph\":{\"id\":\"4a15d8e5-7f6b-4d6c-a558-b529df5233bb\",\"type\":\"Line\"},\"hover_glyph\":null,\"muted_glyph\":null},\"id\":\"53d34cda-3da3-468b-986a-ccc7990650bb\",\"type\":\"GlyphRenderer\"},{\"attributes\":{\"callback\":null,\"end\":39.6,\"start\":-3.6},\"id\":\"14fe5a6c-58c3-4fc3-8cd1-3535afa34738\",\"type\":\"Range1d\"},{\"attributes\":{},\"id\":\"68657519-70bc-444d-8bc0-3522232b8b52\",\"type\":\"BasicTickFormatter\"},{\"attributes\":{\"line_color\":{\"value\":\"#f22c40\"},\"line_width\":{\"value\":2},\"x\":{\"field\":\"x_values\"},\"y\":{\"field\":\"y_values\"}},\"id\":\"d160ad51-25ec-4d65-ac19-bf7138a3a216\",\"type\":\"Line\"},{\"attributes\":{\"data_source\":{\"id\":\"11290bbc-bb8f-46b7-9303-7b98331164d7\",\"type\":\"ColumnDataSource\"},\"glyph\":{\"id\":\"d160ad51-25ec-4d65-ac19-bf7138a3a216\",\"type\":\"Line\"},\"hover_glyph\":null,\"muted_glyph\":null},\"id\":\"361a3104-2245-4dac-beb3-21a6011bf7ff\",\"type\":\"GlyphRenderer\"},{\"attributes\":{\"axis_label\":\"puntaje f1 sobre datos de evaluaci\\u00f3n\",\"formatter\":{\"id\":\"68657519-70bc-444d-8bc0-3522232b8b52\",\"type\":\"BasicTickFormatter\"},\"plot\":{\"id\":\"514fde29-a1d7-4fa2-b468-4e5eb49be2ed\",\"subtype\":\"Chart\",\"type\":\"Plot\"},\"ticker\":{\"id\":\"53f69614-06b6-4191-8bc7-77d029e52270\",\"type\":\"BasicTicker\"}},\"id\":\"8b898a60-6795-493e-898c-37dcc7663a34\",\"type\":\"LinearAxis\"},{\"attributes\":{},\"id\":\"1b18f26a-94e8-4f00-b24c-474b58244e4a\",\"type\":\"BasicTicker\"},{\"attributes\":{\"plot\":{\"id\":\"514fde29-a1d7-4fa2-b468-4e5eb49be2ed\",\"subtype\":\"Chart\",\"type\":\"Plot\"}},\"id\":\"df80348d-73c1-4b18-afc3-73d0ba86116e\",\"type\":\"WheelZoomTool\"}],\"root_ids\":[\"514fde29-a1d7-4fa2-b468-4e5eb49be2ed\"]},\"title\":\"Bokeh Application\",\"version\":\"0.12.5\"}};\n",
       "            var render_items = [{\"docid\":\"56910224-c812-4b5c-bace-e555e3489e31\",\"elementid\":\"e03b33bb-dbd8-4e5c-b1f9-538ec8080caa\",\"modelid\":\"514fde29-a1d7-4fa2-b468-4e5eb49be2ed\"}];\n",
       "            \n",
       "            Bokeh.embed.embed_items(docs_json, render_items);\n",
       "          };\n",
       "          if (document.readyState != \"loading\") fn();\n",
       "          else document.addEventListener(\"DOMContentLoaded\", fn);\n",
       "        })();\n",
       "      },\n",
       "      function(Bokeh) {\n",
       "      }\n",
       "    ];\n",
       "  \n",
       "    function run_inline_js() {\n",
       "      \n",
       "      if ((window.Bokeh !== undefined) || (force === true)) {\n",
       "        for (var i = 0; i < inline_js.length; i++) {\n",
       "          inline_js[i](window.Bokeh);\n",
       "        }if (force === true) {\n",
       "          display_loaded();\n",
       "        }} else if (Date.now() < window._bokeh_timeout) {\n",
       "        setTimeout(run_inline_js, 100);\n",
       "      } else if (!window._bokeh_failed_load) {\n",
       "        console.log(\"Bokeh: BokehJS failed to load within specified timeout.\");\n",
       "        window._bokeh_failed_load = true;\n",
       "      } else if (force !== true) {\n",
       "        var cell = $(document.getElementById(\"e03b33bb-dbd8-4e5c-b1f9-538ec8080caa\")).parents('.cell').data().cell;\n",
       "        cell.output_area.append_execute_result(NB_LOAD_WARNING)\n",
       "      }\n",
       "  \n",
       "    }\n",
       "  \n",
       "    if (window._bokeh_is_loading === 0) {\n",
       "      console.log(\"Bokeh: BokehJS loaded, going straight to plotting\");\n",
       "      run_inline_js();\n",
       "    } else {\n",
       "      load_libs(js_urls, function() {\n",
       "        console.log(\"Bokeh: BokehJS plotting callback run at\", now());\n",
       "        run_inline_js();\n",
       "      });\n",
       "    }\n",
       "  }(this));\n",
       "</script>"
      ]
     },
     "metadata": {},
     "output_type": "display_data"
    }
   ],
   "source": [
    "with open('scores/tw_t%d_f1s_train_svc.json' % n_topics) as f:        \n",
    "    f1s_combined = json.load(f)\n",
    "\n",
    "f1s_social = json.load(open('../_1_one_user_learn_neighbours/scores/f1s_train_svc.json'))\n",
    "f1s_social = {u: f for u, f in f1s_social.items() if u in nlp_uids}\n",
    "\n",
    "sorted_uids = [u for u, f in sorted(f1s_social.items(), key=lambda x:x[1])]\n",
    "indices = range(len(sorted_uids))\n",
    "\n",
    "f1s_lda = np.array([f1s_combined[sorted_uids[i]] for i in indices])\n",
    "f1s_s = np.array([f1s_social[sorted_uids[i]] for i in indices])\n",
    "\n",
    "# build a dataset where multiple columns measure the same thing\n",
    "data = {\n",
    "    \"social\": f1s_s,\n",
    "    \"social+twlda%d\" % n_topics: f1s_lda\n",
    "}\n",
    "\n",
    "labels = ['social', 'social+twlda%d' % n_topics]\n",
    "\n",
    "# create a line chart where each column of measures receives a unique color and dash style\n",
    "line = Line(data, y=labels,\n",
    "            dash=labels,\n",
    "            color=labels,\n",
    "            legend_sort_field = 'color',\n",
    "            legend_sort_direction = 'descending',\n",
    "            xlabel='usuarios (ordenados por f1 del modelo social en datos de evaluación)',\n",
    "            ylabel='puntaje f1 sobre datos de evaluación', legend=True)\n",
    "\n",
    "show(line)"
   ]
  },
  {
   "cell_type": "code",
   "execution_count": 14,
   "metadata": {
    "collapsed": false
   },
   "outputs": [
    {
     "data": {
      "text/plain": [
       "18"
      ]
     },
     "execution_count": 14,
     "metadata": {},
     "output_type": "execute_result"
    }
   ],
   "source": [
    "sum(f1s_lda > f1s_s)"
   ]
  },
  {
   "cell_type": "code",
   "execution_count": 15,
   "metadata": {
    "collapsed": false
   },
   "outputs": [
    {
     "data": {
      "text/plain": [
       "0.84838529140903496"
      ]
     },
     "execution_count": 15,
     "metadata": {},
     "output_type": "execute_result"
    }
   ],
   "source": [
    "np.mean(f1s_lda)"
   ]
  },
  {
   "cell_type": "code",
   "execution_count": 16,
   "metadata": {
    "collapsed": false
   },
   "outputs": [
    {
     "data": {
      "text/plain": [
       "0.80278764744705877"
      ]
     },
     "execution_count": 16,
     "metadata": {},
     "output_type": "execute_result"
    }
   ],
   "source": [
    "np.mean(f1s_s)"
   ]
  }
 ],
 "metadata": {
  "kernelspec": {
   "display_name": "Python 2",
   "language": "python",
   "name": "python2"
  },
  "language_info": {
   "codemirror_mode": {
    "name": "ipython",
    "version": 2
   },
   "file_extension": ".py",
   "mimetype": "text/x-python",
   "name": "python",
   "nbconvert_exporter": "python",
   "pygments_lexer": "ipython2",
   "version": "2.7.11+"
  }
 },
 "nbformat": 4,
 "nbformat_minor": 2
}
