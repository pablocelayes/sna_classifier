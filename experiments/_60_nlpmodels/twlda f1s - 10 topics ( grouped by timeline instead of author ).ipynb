{
 "cells": [
  {
   "cell_type": "code",
   "execution_count": 2,
   "metadata": {
    "collapsed": false
   },
   "outputs": [],
   "source": [
    "from experiments._60_nlpmodels.fit_social_twlda_models import *"
   ]
  },
  {
   "cell_type": "code",
   "execution_count": 3,
   "metadata": {
    "collapsed": true
   },
   "outputs": [],
   "source": [
    "n_topics = 10"
   ]
  },
  {
   "cell_type": "markdown",
   "metadata": {},
   "source": [
    "# Comparación sobre tuning set"
   ]
  },
  {
   "cell_type": "code",
   "execution_count": 4,
   "metadata": {
    "collapsed": false
   },
   "outputs": [
    {
     "data": {
      "text/html": [
       "\n",
       "    <div class=\"bk-root\">\n",
       "        <a href=\"http://bokeh.pydata.org\" target=\"_blank\" class=\"bk-logo bk-logo-small bk-logo-notebook\"></a>\n",
       "        <span id=\"8a08c931-401b-4dc0-b424-db74ad2399c4\">Loading BokehJS ...</span>\n",
       "    </div>"
      ]
     },
     "metadata": {},
     "output_type": "display_data"
    },
    {
     "data": {
      "application/javascript": [
       "\n",
       "(function(global) {\n",
       "  function now() {\n",
       "    return new Date();\n",
       "  }\n",
       "\n",
       "  var force = true;\n",
       "\n",
       "  if (typeof (window._bokeh_onload_callbacks) === \"undefined\" || force === true) {\n",
       "    window._bokeh_onload_callbacks = [];\n",
       "    window._bokeh_is_loading = undefined;\n",
       "  }\n",
       "\n",
       "\n",
       "  \n",
       "  if (typeof (window._bokeh_timeout) === \"undefined\" || force === true) {\n",
       "    window._bokeh_timeout = Date.now() + 5000;\n",
       "    window._bokeh_failed_load = false;\n",
       "  }\n",
       "\n",
       "  var NB_LOAD_WARNING = {'data': {'text/html':\n",
       "     \"<div style='background-color: #fdd'>\\n\"+\n",
       "     \"<p>\\n\"+\n",
       "     \"BokehJS does not appear to have successfully loaded. If loading BokehJS from CDN, this \\n\"+\n",
       "     \"may be due to a slow or bad network connection. Possible fixes:\\n\"+\n",
       "     \"</p>\\n\"+\n",
       "     \"<ul>\\n\"+\n",
       "     \"<li>re-rerun `output_notebook()` to attempt to load from CDN again, or</li>\\n\"+\n",
       "     \"<li>use INLINE resources instead, as so:</li>\\n\"+\n",
       "     \"</ul>\\n\"+\n",
       "     \"<code>\\n\"+\n",
       "     \"from bokeh.resources import INLINE\\n\"+\n",
       "     \"output_notebook(resources=INLINE)\\n\"+\n",
       "     \"</code>\\n\"+\n",
       "     \"</div>\"}};\n",
       "\n",
       "  function display_loaded() {\n",
       "    if (window.Bokeh !== undefined) {\n",
       "      var el = document.getElementById(\"8a08c931-401b-4dc0-b424-db74ad2399c4\");\n",
       "      el.textContent = \"BokehJS \" + Bokeh.version + \" successfully loaded.\";\n",
       "    } else if (Date.now() < window._bokeh_timeout) {\n",
       "      setTimeout(display_loaded, 100)\n",
       "    }\n",
       "  }\n",
       "\n",
       "  function run_callbacks() {\n",
       "    window._bokeh_onload_callbacks.forEach(function(callback) { callback() });\n",
       "    delete window._bokeh_onload_callbacks\n",
       "    console.info(\"Bokeh: all callbacks have finished\");\n",
       "  }\n",
       "\n",
       "  function load_libs(js_urls, callback) {\n",
       "    window._bokeh_onload_callbacks.push(callback);\n",
       "    if (window._bokeh_is_loading > 0) {\n",
       "      console.log(\"Bokeh: BokehJS is being loaded, scheduling callback at\", now());\n",
       "      return null;\n",
       "    }\n",
       "    if (js_urls == null || js_urls.length === 0) {\n",
       "      run_callbacks();\n",
       "      return null;\n",
       "    }\n",
       "    console.log(\"Bokeh: BokehJS not loaded, scheduling load and callback at\", now());\n",
       "    window._bokeh_is_loading = js_urls.length;\n",
       "    for (var i = 0; i < js_urls.length; i++) {\n",
       "      var url = js_urls[i];\n",
       "      var s = document.createElement('script');\n",
       "      s.src = url;\n",
       "      s.async = false;\n",
       "      s.onreadystatechange = s.onload = function() {\n",
       "        window._bokeh_is_loading--;\n",
       "        if (window._bokeh_is_loading === 0) {\n",
       "          console.log(\"Bokeh: all BokehJS libraries loaded\");\n",
       "          run_callbacks()\n",
       "        }\n",
       "      };\n",
       "      s.onerror = function() {\n",
       "        console.warn(\"failed to load library \" + url);\n",
       "      };\n",
       "      console.log(\"Bokeh: injecting script tag for BokehJS library: \", url);\n",
       "      document.getElementsByTagName(\"head\")[0].appendChild(s);\n",
       "    }\n",
       "  };var element = document.getElementById(\"8a08c931-401b-4dc0-b424-db74ad2399c4\");\n",
       "  if (element == null) {\n",
       "    console.log(\"Bokeh: ERROR: autoload.js configured with elementid '8a08c931-401b-4dc0-b424-db74ad2399c4' but no matching script tag was found. \")\n",
       "    return false;\n",
       "  }\n",
       "\n",
       "  var js_urls = [\"https://cdn.pydata.org/bokeh/release/bokeh-0.12.5.min.js\", \"https://cdn.pydata.org/bokeh/release/bokeh-widgets-0.12.5.min.js\"];\n",
       "\n",
       "  var inline_js = [\n",
       "    function(Bokeh) {\n",
       "      Bokeh.set_log_level(\"info\");\n",
       "    },\n",
       "    \n",
       "    function(Bokeh) {\n",
       "      \n",
       "    },\n",
       "    \n",
       "    function(Bokeh) {\n",
       "      \n",
       "      document.getElementById(\"8a08c931-401b-4dc0-b424-db74ad2399c4\").textContent = \"BokehJS is loading...\";\n",
       "    },\n",
       "    function(Bokeh) {\n",
       "      console.log(\"Bokeh: injecting CSS: https://cdn.pydata.org/bokeh/release/bokeh-0.12.5.min.css\");\n",
       "      Bokeh.embed.inject_css(\"https://cdn.pydata.org/bokeh/release/bokeh-0.12.5.min.css\");\n",
       "      console.log(\"Bokeh: injecting CSS: https://cdn.pydata.org/bokeh/release/bokeh-widgets-0.12.5.min.css\");\n",
       "      Bokeh.embed.inject_css(\"https://cdn.pydata.org/bokeh/release/bokeh-widgets-0.12.5.min.css\");\n",
       "    }\n",
       "  ];\n",
       "\n",
       "  function run_inline_js() {\n",
       "    \n",
       "    if ((window.Bokeh !== undefined) || (force === true)) {\n",
       "      for (var i = 0; i < inline_js.length; i++) {\n",
       "        inline_js[i](window.Bokeh);\n",
       "      }if (force === true) {\n",
       "        display_loaded();\n",
       "      }} else if (Date.now() < window._bokeh_timeout) {\n",
       "      setTimeout(run_inline_js, 100);\n",
       "    } else if (!window._bokeh_failed_load) {\n",
       "      console.log(\"Bokeh: BokehJS failed to load within specified timeout.\");\n",
       "      window._bokeh_failed_load = true;\n",
       "    } else if (force !== true) {\n",
       "      var cell = $(document.getElementById(\"8a08c931-401b-4dc0-b424-db74ad2399c4\")).parents('.cell').data().cell;\n",
       "      cell.output_area.append_execute_result(NB_LOAD_WARNING)\n",
       "    }\n",
       "\n",
       "  }\n",
       "\n",
       "  if (window._bokeh_is_loading === 0) {\n",
       "    console.log(\"Bokeh: BokehJS loaded, going straight to plotting\");\n",
       "    run_inline_js();\n",
       "  } else {\n",
       "    load_libs(js_urls, function() {\n",
       "      console.log(\"Bokeh: BokehJS plotting callback run at\", now());\n",
       "      run_inline_js();\n",
       "    });\n",
       "  }\n",
       "}(this));"
      ]
     },
     "metadata": {},
     "output_type": "display_data"
    }
   ],
   "source": [
    "from bokeh.charts import Line, show, output_notebook\n",
    "output_notebook()"
   ]
  },
  {
   "cell_type": "code",
   "execution_count": 5,
   "metadata": {
    "collapsed": false
   },
   "outputs": [],
   "source": [
    "nlp_uids = [u for u, f in load_nlp_selected_users()]"
   ]
  },
  {
   "cell_type": "code",
   "execution_count": 7,
   "metadata": {
    "collapsed": false
   },
   "outputs": [
    {
     "data": {
      "text/html": [
       "\n",
       "\n",
       "    <div class=\"bk-root\">\n",
       "        <div class=\"bk-plotdiv\" id=\"81193efe-bde3-482c-a7b7-e40ae6d9f245\"></div>\n",
       "    </div>\n",
       "<script type=\"text/javascript\">\n",
       "  \n",
       "  (function(global) {\n",
       "    function now() {\n",
       "      return new Date();\n",
       "    }\n",
       "  \n",
       "    var force = false;\n",
       "  \n",
       "    if (typeof (window._bokeh_onload_callbacks) === \"undefined\" || force === true) {\n",
       "      window._bokeh_onload_callbacks = [];\n",
       "      window._bokeh_is_loading = undefined;\n",
       "    }\n",
       "  \n",
       "  \n",
       "    \n",
       "    if (typeof (window._bokeh_timeout) === \"undefined\" || force === true) {\n",
       "      window._bokeh_timeout = Date.now() + 0;\n",
       "      window._bokeh_failed_load = false;\n",
       "    }\n",
       "  \n",
       "    var NB_LOAD_WARNING = {'data': {'text/html':\n",
       "       \"<div style='background-color: #fdd'>\\n\"+\n",
       "       \"<p>\\n\"+\n",
       "       \"BokehJS does not appear to have successfully loaded. If loading BokehJS from CDN, this \\n\"+\n",
       "       \"may be due to a slow or bad network connection. Possible fixes:\\n\"+\n",
       "       \"</p>\\n\"+\n",
       "       \"<ul>\\n\"+\n",
       "       \"<li>re-rerun `output_notebook()` to attempt to load from CDN again, or</li>\\n\"+\n",
       "       \"<li>use INLINE resources instead, as so:</li>\\n\"+\n",
       "       \"</ul>\\n\"+\n",
       "       \"<code>\\n\"+\n",
       "       \"from bokeh.resources import INLINE\\n\"+\n",
       "       \"output_notebook(resources=INLINE)\\n\"+\n",
       "       \"</code>\\n\"+\n",
       "       \"</div>\"}};\n",
       "  \n",
       "    function display_loaded() {\n",
       "      if (window.Bokeh !== undefined) {\n",
       "        var el = document.getElementById(\"81193efe-bde3-482c-a7b7-e40ae6d9f245\");\n",
       "        el.textContent = \"BokehJS \" + Bokeh.version + \" successfully loaded.\";\n",
       "      } else if (Date.now() < window._bokeh_timeout) {\n",
       "        setTimeout(display_loaded, 100)\n",
       "      }\n",
       "    }\n",
       "  \n",
       "    function run_callbacks() {\n",
       "      window._bokeh_onload_callbacks.forEach(function(callback) { callback() });\n",
       "      delete window._bokeh_onload_callbacks\n",
       "      console.info(\"Bokeh: all callbacks have finished\");\n",
       "    }\n",
       "  \n",
       "    function load_libs(js_urls, callback) {\n",
       "      window._bokeh_onload_callbacks.push(callback);\n",
       "      if (window._bokeh_is_loading > 0) {\n",
       "        console.log(\"Bokeh: BokehJS is being loaded, scheduling callback at\", now());\n",
       "        return null;\n",
       "      }\n",
       "      if (js_urls == null || js_urls.length === 0) {\n",
       "        run_callbacks();\n",
       "        return null;\n",
       "      }\n",
       "      console.log(\"Bokeh: BokehJS not loaded, scheduling load and callback at\", now());\n",
       "      window._bokeh_is_loading = js_urls.length;\n",
       "      for (var i = 0; i < js_urls.length; i++) {\n",
       "        var url = js_urls[i];\n",
       "        var s = document.createElement('script');\n",
       "        s.src = url;\n",
       "        s.async = false;\n",
       "        s.onreadystatechange = s.onload = function() {\n",
       "          window._bokeh_is_loading--;\n",
       "          if (window._bokeh_is_loading === 0) {\n",
       "            console.log(\"Bokeh: all BokehJS libraries loaded\");\n",
       "            run_callbacks()\n",
       "          }\n",
       "        };\n",
       "        s.onerror = function() {\n",
       "          console.warn(\"failed to load library \" + url);\n",
       "        };\n",
       "        console.log(\"Bokeh: injecting script tag for BokehJS library: \", url);\n",
       "        document.getElementsByTagName(\"head\")[0].appendChild(s);\n",
       "      }\n",
       "    };var element = document.getElementById(\"81193efe-bde3-482c-a7b7-e40ae6d9f245\");\n",
       "    if (element == null) {\n",
       "      console.log(\"Bokeh: ERROR: autoload.js configured with elementid '81193efe-bde3-482c-a7b7-e40ae6d9f245' but no matching script tag was found. \")\n",
       "      return false;\n",
       "    }\n",
       "  \n",
       "    var js_urls = [];\n",
       "  \n",
       "    var inline_js = [\n",
       "      function(Bokeh) {\n",
       "        (function() {\n",
       "          var fn = function() {\n",
       "            var docs_json = {\"1f3af09a-8f92-4136-88b9-a5cd0640feff\":{\"roots\":{\"references\":[{\"attributes\":{\"plot\":{\"id\":\"a86705d3-876c-4da9-a60c-8ac93c6fa83e\",\"subtype\":\"Chart\",\"type\":\"Plot\"}},\"id\":\"07ed7777-f08c-4c20-beab-fcb0792c1d5b\",\"type\":\"SaveTool\"},{\"attributes\":{},\"id\":\"f0bb94d2-18bc-481a-9bdb-6919b81e3c68\",\"type\":\"BasicTickFormatter\"},{\"attributes\":{},\"id\":\"56b65716-1b1a-4f2a-8818-fe0c6100deba\",\"type\":\"BasicTicker\"},{\"attributes\":{\"axis_label\":\"usuarios (ordenados por f1 del modelo social en datos de evaluaci\\u00f3n)\",\"formatter\":{\"id\":\"9f402497-7851-45ee-9cdd-5c6dd93d517c\",\"type\":\"BasicTickFormatter\"},\"plot\":{\"id\":\"a86705d3-876c-4da9-a60c-8ac93c6fa83e\",\"subtype\":\"Chart\",\"type\":\"Plot\"},\"ticker\":{\"id\":\"ade1e896-e264-45ef-aaf4-f9ba06809775\",\"type\":\"BasicTicker\"}},\"id\":\"e6988ffa-4e89-4a5b-9e13-193626edd284\",\"type\":\"LinearAxis\"},{\"attributes\":{},\"id\":\"e7287fbe-7475-400f-ab5d-ee6780c06393\",\"type\":\"ToolEvents\"},{\"attributes\":{\"data_source\":{\"id\":\"8435d69d-f700-4a93-b7d0-7aec225cb6d7\",\"type\":\"ColumnDataSource\"},\"glyph\":{\"id\":\"d7bfe9cc-744f-4c45-b425-630e5026ce42\",\"type\":\"Line\"},\"hover_glyph\":null,\"muted_glyph\":null},\"id\":\"7bb4f293-17e1-41ce-a340-c68d90381ee3\",\"type\":\"GlyphRenderer\"},{\"attributes\":{\"callback\":null,\"column_names\":[\"x_values\",\"y_values\"],\"data\":{\"chart_index\":[{\"series\":\"social+twlda10\"},{\"series\":\"social+twlda10\"},{\"series\":\"social+twlda10\"},{\"series\":\"social+twlda10\"},{\"series\":\"social+twlda10\"},{\"series\":\"social+twlda10\"},{\"series\":\"social+twlda10\"},{\"series\":\"social+twlda10\"},{\"series\":\"social+twlda10\"},{\"series\":\"social+twlda10\"},{\"series\":\"social+twlda10\"},{\"series\":\"social+twlda10\"},{\"series\":\"social+twlda10\"},{\"series\":\"social+twlda10\"},{\"series\":\"social+twlda10\"},{\"series\":\"social+twlda10\"},{\"series\":\"social+twlda10\"},{\"series\":\"social+twlda10\"},{\"series\":\"social+twlda10\"},{\"series\":\"social+twlda10\"},{\"series\":\"social+twlda10\"},{\"series\":\"social+twlda10\"},{\"series\":\"social+twlda10\"},{\"series\":\"social+twlda10\"},{\"series\":\"social+twlda10\"},{\"series\":\"social+twlda10\"},{\"series\":\"social+twlda10\"},{\"series\":\"social+twlda10\"},{\"series\":\"social+twlda10\"},{\"series\":\"social+twlda10\"},{\"series\":\"social+twlda10\"},{\"series\":\"social+twlda10\"},{\"series\":\"social+twlda10\"},{\"series\":\"social+twlda10\"},{\"series\":\"social+twlda10\"},{\"series\":\"social+twlda10\"},{\"series\":\"social+twlda10\"}],\"series\":[\"social+twlda10\",\"social+twlda10\",\"social+twlda10\",\"social+twlda10\",\"social+twlda10\",\"social+twlda10\",\"social+twlda10\",\"social+twlda10\",\"social+twlda10\",\"social+twlda10\",\"social+twlda10\",\"social+twlda10\",\"social+twlda10\",\"social+twlda10\",\"social+twlda10\",\"social+twlda10\",\"social+twlda10\",\"social+twlda10\",\"social+twlda10\",\"social+twlda10\",\"social+twlda10\",\"social+twlda10\",\"social+twlda10\",\"social+twlda10\",\"social+twlda10\",\"social+twlda10\",\"social+twlda10\",\"social+twlda10\",\"social+twlda10\",\"social+twlda10\",\"social+twlda10\",\"social+twlda10\",\"social+twlda10\",\"social+twlda10\",\"social+twlda10\",\"social+twlda10\",\"social+twlda10\"],\"x_values\":[0,1,2,3,4,5,6,7,8,9,10,11,12,13,14,15,16,17,18,19,20,21,22,23,24,25,26,27,28,29,30,31,32,33,34,35,36],\"y_values\":{\"__ndarray__\":\"R1juaYTl7j900UUXXXThP3h3d3d3d+c/09LS0tLS4j/IU4I8JcjjPwAAAAAAAOQ/VVVVVVVV5T9MZzGdxXTmPxVf8RVf8eU/FDuxEzux4z8lSZIkSZLkP9R3Nuo7G+U/NWVNWVPW5D9lIQtZyELmP8kQrKPN++Q/Z2ZmZmZm5j9nZmZmZmbmPwAAAAAAAOY/VVVVVVVV5T+qqqqqqqrmP3kN5TWU1+A/+Ricj8H56D94d3d3d3fnP7169erVq+c/d2IndmIn5j/0BX1BX9DnP////////+c/OY7jOI7j6D801ofG+tDoPx3HcRzHcew/////////6j9yBTG5gpjsP3RQB3VQB+0/L6G9hPYS6j9FzrDgUtnuP/jee++99+4/PF5sCb7N7z8=\",\"dtype\":\"float64\",\"shape\":[37]}}},\"id\":\"8435d69d-f700-4a93-b7d0-7aec225cb6d7\",\"type\":\"ColumnDataSource\"},{\"attributes\":{\"axis_label\":\"puntaje f1 sobre datos de evaluaci\\u00f3n\",\"formatter\":{\"id\":\"f0bb94d2-18bc-481a-9bdb-6919b81e3c68\",\"type\":\"BasicTickFormatter\"},\"plot\":{\"id\":\"a86705d3-876c-4da9-a60c-8ac93c6fa83e\",\"subtype\":\"Chart\",\"type\":\"Plot\"},\"ticker\":{\"id\":\"56b65716-1b1a-4f2a-8818-fe0c6100deba\",\"type\":\"BasicTicker\"}},\"id\":\"368334e5-f3b0-4089-9ac8-8e4c43c1862e\",\"type\":\"LinearAxis\"},{\"attributes\":{\"plot\":{\"id\":\"a86705d3-876c-4da9-a60c-8ac93c6fa83e\",\"subtype\":\"Chart\",\"type\":\"Plot\"}},\"id\":\"53d249dc-c7f0-42ea-bf45-8edd90c24005\",\"type\":\"HelpTool\"},{\"attributes\":{\"bottom_units\":\"screen\",\"fill_alpha\":{\"value\":0.5},\"fill_color\":{\"value\":\"lightgrey\"},\"left_units\":\"screen\",\"level\":\"overlay\",\"line_alpha\":{\"value\":1.0},\"line_color\":{\"value\":\"black\"},\"line_dash\":[4,4],\"line_width\":{\"value\":2},\"plot\":null,\"render_mode\":\"css\",\"right_units\":\"screen\",\"top_units\":\"screen\"},\"id\":\"1151482d-1813-465e-b45b-37afc51b15cb\",\"type\":\"BoxAnnotation\"},{\"attributes\":{\"plot\":null,\"text\":null},\"id\":\"2e20b28f-e37a-4f4e-849c-406b7385dbd0\",\"type\":\"Title\"},{\"attributes\":{\"overlay\":{\"id\":\"1151482d-1813-465e-b45b-37afc51b15cb\",\"type\":\"BoxAnnotation\"},\"plot\":{\"id\":\"a86705d3-876c-4da9-a60c-8ac93c6fa83e\",\"subtype\":\"Chart\",\"type\":\"Plot\"}},\"id\":\"7a364394-a58f-4c1e-9d68-abbc386d3bf1\",\"type\":\"BoxZoomTool\"},{\"attributes\":{\"items\":[{\"id\":\"758d7e87-d6b7-4d30-9a1a-28ad46bf759b\",\"type\":\"LegendItem\"},{\"id\":\"c0c5852f-f68f-4717-860b-3928c3aed9b7\",\"type\":\"LegendItem\"}],\"location\":\"top_left\",\"plot\":{\"id\":\"a86705d3-876c-4da9-a60c-8ac93c6fa83e\",\"subtype\":\"Chart\",\"type\":\"Plot\"}},\"id\":\"43cc6c0a-1205-4b38-9858-da54cb8983cd\",\"type\":\"Legend\"},{\"attributes\":{\"plot\":{\"id\":\"a86705d3-876c-4da9-a60c-8ac93c6fa83e\",\"subtype\":\"Chart\",\"type\":\"Plot\"}},\"id\":\"d0d97d77-cc28-4491-8b51-1246859774c6\",\"type\":\"PanTool\"},{\"attributes\":{\"label\":{\"value\":\"social\"},\"renderers\":[{\"id\":\"7a4cf75a-8d05-435c-8a62-eb6a17b7f1bc\",\"type\":\"GlyphRenderer\"}]},\"id\":\"c0c5852f-f68f-4717-860b-3928c3aed9b7\",\"type\":\"LegendItem\"},{\"attributes\":{\"label\":{\"value\":\"social+twlda10\"},\"renderers\":[{\"id\":\"7bb4f293-17e1-41ce-a340-c68d90381ee3\",\"type\":\"GlyphRenderer\"}]},\"id\":\"758d7e87-d6b7-4d30-9a1a-28ad46bf759b\",\"type\":\"LegendItem\"},{\"attributes\":{\"callback\":null,\"column_names\":[\"x_values\",\"y_values\"],\"data\":{\"chart_index\":[{\"series\":\"social\"},{\"series\":\"social\"},{\"series\":\"social\"},{\"series\":\"social\"},{\"series\":\"social\"},{\"series\":\"social\"},{\"series\":\"social\"},{\"series\":\"social\"},{\"series\":\"social\"},{\"series\":\"social\"},{\"series\":\"social\"},{\"series\":\"social\"},{\"series\":\"social\"},{\"series\":\"social\"},{\"series\":\"social\"},{\"series\":\"social\"},{\"series\":\"social\"},{\"series\":\"social\"},{\"series\":\"social\"},{\"series\":\"social\"},{\"series\":\"social\"},{\"series\":\"social\"},{\"series\":\"social\"},{\"series\":\"social\"},{\"series\":\"social\"},{\"series\":\"social\"},{\"series\":\"social\"},{\"series\":\"social\"},{\"series\":\"social\"},{\"series\":\"social\"},{\"series\":\"social\"},{\"series\":\"social\"},{\"series\":\"social\"},{\"series\":\"social\"},{\"series\":\"social\"},{\"series\":\"social\"},{\"series\":\"social\"}],\"series\":[\"social\",\"social\",\"social\",\"social\",\"social\",\"social\",\"social\",\"social\",\"social\",\"social\",\"social\",\"social\",\"social\",\"social\",\"social\",\"social\",\"social\",\"social\",\"social\",\"social\",\"social\",\"social\",\"social\",\"social\",\"social\",\"social\",\"social\",\"social\",\"social\",\"social\",\"social\",\"social\",\"social\",\"social\",\"social\",\"social\",\"social\"],\"x_values\":[0,1,2,3,4,5,6,7,8,9,10,11,12,13,14,15,16,17,18,19,20,21,22,23,24,25,26,27,28,29,30,31,32,33,34,35,36],\"y_values\":{\"__ndarray__\":\"g/1WG0PTrT900UUXXXThP6uqqqqqquI/09LS0tLS4j/IU4I8JcjjPwAAAAAAAOQ/AAAAAAAA5D9VVVVVVVXlP1VVVVVVVeU/VVVVVVVV5T9VVVVVVVXlP1VVVVVVVeU/2pWoXYna5T9lIQtZyELmP5dlWZZlWeY/Z2ZmZmZm5j9nZmZmZmbmP5eWlpaWluY/qqqqqqqq5j+qqqqqqqrmP7dt27Zt2+Y/l2/5lm/55j94d3d3d3fnP7169erVq+c/QnsJ7SW05z/0BX1BX9DnP////////+c/OY7jOI7j6D/TjhUII+3oP5uZmZmZmek/////////6j9yBTG5gpjsP6DcAcodoOw/ntiJndiJ7T97rGXogN3uP/jee++99+4/PF5sCb7N7z8=\",\"dtype\":\"float64\",\"shape\":[37]}}},\"id\":\"ae462b8b-6dda-4af6-8591-44885b22acf7\",\"type\":\"ColumnDataSource\"},{\"attributes\":{\"active_drag\":\"auto\",\"active_scroll\":\"auto\",\"active_tap\":\"auto\",\"tools\":[{\"id\":\"d0d97d77-cc28-4491-8b51-1246859774c6\",\"type\":\"PanTool\"},{\"id\":\"5c6fc907-65df-4494-820b-292e911afe27\",\"type\":\"WheelZoomTool\"},{\"id\":\"7a364394-a58f-4c1e-9d68-abbc386d3bf1\",\"type\":\"BoxZoomTool\"},{\"id\":\"07ed7777-f08c-4c20-beab-fcb0792c1d5b\",\"type\":\"SaveTool\"},{\"id\":\"7dfddd98-ae25-4f0a-bef7-354e086a83d0\",\"type\":\"ResetTool\"},{\"id\":\"53d249dc-c7f0-42ea-bf45-8edd90c24005\",\"type\":\"HelpTool\"}]},\"id\":\"d9030e56-d81b-43ef-a5d1-bdd6edbcc906\",\"type\":\"Toolbar\"},{\"attributes\":{\"line_color\":{\"value\":\"#5ab738\"},\"line_dash\":[6],\"line_width\":{\"value\":2},\"x\":{\"field\":\"x_values\"},\"y\":{\"field\":\"y_values\"}},\"id\":\"d7bfe9cc-744f-4c45-b425-630e5026ce42\",\"type\":\"Line\"},{\"attributes\":{\"line_color\":{\"value\":\"#f22c40\"},\"line_width\":{\"value\":2},\"x\":{\"field\":\"x_values\"},\"y\":{\"field\":\"y_values\"}},\"id\":\"83c46a08-6789-479c-9dcb-c6bb1020de98\",\"type\":\"Line\"},{\"attributes\":{\"plot\":{\"id\":\"a86705d3-876c-4da9-a60c-8ac93c6fa83e\",\"subtype\":\"Chart\",\"type\":\"Plot\"},\"ticker\":{\"id\":\"ade1e896-e264-45ef-aaf4-f9ba06809775\",\"type\":\"BasicTicker\"}},\"id\":\"0023e144-dbe8-4988-9ecd-0d29f6a558c7\",\"type\":\"Grid\"},{\"attributes\":{},\"id\":\"9f402497-7851-45ee-9cdd-5c6dd93d517c\",\"type\":\"BasicTickFormatter\"},{\"attributes\":{},\"id\":\"ade1e896-e264-45ef-aaf4-f9ba06809775\",\"type\":\"BasicTicker\"},{\"attributes\":{\"data_source\":{\"id\":\"ae462b8b-6dda-4af6-8591-44885b22acf7\",\"type\":\"ColumnDataSource\"},\"glyph\":{\"id\":\"83c46a08-6789-479c-9dcb-c6bb1020de98\",\"type\":\"Line\"},\"hover_glyph\":null,\"muted_glyph\":null},\"id\":\"7a4cf75a-8d05-435c-8a62-eb6a17b7f1bc\",\"type\":\"GlyphRenderer\"},{\"attributes\":{\"below\":[{\"id\":\"e6988ffa-4e89-4a5b-9e13-193626edd284\",\"type\":\"LinearAxis\"}],\"css_classes\":null,\"left\":[{\"id\":\"368334e5-f3b0-4089-9ac8-8e4c43c1862e\",\"type\":\"LinearAxis\"}],\"renderers\":[{\"id\":\"1151482d-1813-465e-b45b-37afc51b15cb\",\"type\":\"BoxAnnotation\"},{\"id\":\"7a4cf75a-8d05-435c-8a62-eb6a17b7f1bc\",\"type\":\"GlyphRenderer\"},{\"id\":\"7bb4f293-17e1-41ce-a340-c68d90381ee3\",\"type\":\"GlyphRenderer\"},{\"id\":\"43cc6c0a-1205-4b38-9858-da54cb8983cd\",\"type\":\"Legend\"},{\"id\":\"e6988ffa-4e89-4a5b-9e13-193626edd284\",\"type\":\"LinearAxis\"},{\"id\":\"368334e5-f3b0-4089-9ac8-8e4c43c1862e\",\"type\":\"LinearAxis\"},{\"id\":\"0023e144-dbe8-4988-9ecd-0d29f6a558c7\",\"type\":\"Grid\"},{\"id\":\"0f1cb41f-7a3a-4eee-9141-211ded53a7a5\",\"type\":\"Grid\"}],\"title\":{\"id\":\"2e20b28f-e37a-4f4e-849c-406b7385dbd0\",\"type\":\"Title\"},\"tool_events\":{\"id\":\"e7287fbe-7475-400f-ab5d-ee6780c06393\",\"type\":\"ToolEvents\"},\"toolbar\":{\"id\":\"d9030e56-d81b-43ef-a5d1-bdd6edbcc906\",\"type\":\"Toolbar\"},\"x_mapper_type\":\"auto\",\"x_range\":{\"id\":\"8c945495-ba80-4fec-8d88-235f6ca24c88\",\"type\":\"Range1d\"},\"y_mapper_type\":\"auto\",\"y_range\":{\"id\":\"67b424fb-0902-43cc-b0ab-1b2295de133e\",\"type\":\"Range1d\"}},\"id\":\"a86705d3-876c-4da9-a60c-8ac93c6fa83e\",\"subtype\":\"Chart\",\"type\":\"Plot\"},{\"attributes\":{\"callback\":null,\"end\":39.6,\"start\":-3.6},\"id\":\"8c945495-ba80-4fec-8d88-235f6ca24c88\",\"type\":\"Range1d\"},{\"attributes\":{\"callback\":null,\"end\":1.0874262910238848,\"start\":-0.035308833164572055},\"id\":\"67b424fb-0902-43cc-b0ab-1b2295de133e\",\"type\":\"Range1d\"},{\"attributes\":{\"plot\":{\"id\":\"a86705d3-876c-4da9-a60c-8ac93c6fa83e\",\"subtype\":\"Chart\",\"type\":\"Plot\"}},\"id\":\"7dfddd98-ae25-4f0a-bef7-354e086a83d0\",\"type\":\"ResetTool\"},{\"attributes\":{\"dimension\":1,\"plot\":{\"id\":\"a86705d3-876c-4da9-a60c-8ac93c6fa83e\",\"subtype\":\"Chart\",\"type\":\"Plot\"},\"ticker\":{\"id\":\"56b65716-1b1a-4f2a-8818-fe0c6100deba\",\"type\":\"BasicTicker\"}},\"id\":\"0f1cb41f-7a3a-4eee-9141-211ded53a7a5\",\"type\":\"Grid\"},{\"attributes\":{\"plot\":{\"id\":\"a86705d3-876c-4da9-a60c-8ac93c6fa83e\",\"subtype\":\"Chart\",\"type\":\"Plot\"}},\"id\":\"5c6fc907-65df-4494-820b-292e911afe27\",\"type\":\"WheelZoomTool\"}],\"root_ids\":[\"a86705d3-876c-4da9-a60c-8ac93c6fa83e\"]},\"title\":\"Bokeh Application\",\"version\":\"0.12.5\"}};\n",
       "            var render_items = [{\"docid\":\"1f3af09a-8f92-4136-88b9-a5cd0640feff\",\"elementid\":\"81193efe-bde3-482c-a7b7-e40ae6d9f245\",\"modelid\":\"a86705d3-876c-4da9-a60c-8ac93c6fa83e\"}];\n",
       "            \n",
       "            Bokeh.embed.embed_items(docs_json, render_items);\n",
       "          };\n",
       "          if (document.readyState != \"loading\") fn();\n",
       "          else document.addEventListener(\"DOMContentLoaded\", fn);\n",
       "        })();\n",
       "      },\n",
       "      function(Bokeh) {\n",
       "      }\n",
       "    ];\n",
       "  \n",
       "    function run_inline_js() {\n",
       "      \n",
       "      if ((window.Bokeh !== undefined) || (force === true)) {\n",
       "        for (var i = 0; i < inline_js.length; i++) {\n",
       "          inline_js[i](window.Bokeh);\n",
       "        }if (force === true) {\n",
       "          display_loaded();\n",
       "        }} else if (Date.now() < window._bokeh_timeout) {\n",
       "        setTimeout(run_inline_js, 100);\n",
       "      } else if (!window._bokeh_failed_load) {\n",
       "        console.log(\"Bokeh: BokehJS failed to load within specified timeout.\");\n",
       "        window._bokeh_failed_load = true;\n",
       "      } else if (force !== true) {\n",
       "        var cell = $(document.getElementById(\"81193efe-bde3-482c-a7b7-e40ae6d9f245\")).parents('.cell').data().cell;\n",
       "        cell.output_area.append_execute_result(NB_LOAD_WARNING)\n",
       "      }\n",
       "  \n",
       "    }\n",
       "  \n",
       "    if (window._bokeh_is_loading === 0) {\n",
       "      console.log(\"Bokeh: BokehJS loaded, going straight to plotting\");\n",
       "      run_inline_js();\n",
       "    } else {\n",
       "      load_libs(js_urls, function() {\n",
       "        console.log(\"Bokeh: BokehJS plotting callback run at\", now());\n",
       "        run_inline_js();\n",
       "      });\n",
       "    }\n",
       "  }(this));\n",
       "</script>"
      ]
     },
     "metadata": {},
     "output_type": "display_data"
    }
   ],
   "source": [
    "with open('scores/twlda_by_timeline/tw_t%d_f1s_valid_svc.json' % n_topics) as f:\n",
    "    f1s_combined = json.load(f)\n",
    "\n",
    "f1s_social = json.load(open('../_1_one_user_learn_neighbours/scores/f1s_valid_svc.json'))\n",
    "f1s_social = {u: f for u, f in f1s_social.items() if u in nlp_uids}\n",
    "\n",
    "sorted_uids = [u for u, f in sorted(f1s_social.items(), key=lambda x:x[1])]\n",
    "indices = range(len(sorted_uids))\n",
    "\n",
    "f1s_lda = np.array([f1s_combined[sorted_uids[i]] for i in indices])\n",
    "f1s_s = np.array([f1s_social[sorted_uids[i]] for i in indices])\n",
    "\n",
    "# build a dataset where multiple columns measure the same thing\n",
    "data = {\n",
    "    \"social\": f1s_s,\n",
    "    \"social+twlda%d\" % n_topics: f1s_lda\n",
    "}\n",
    "\n",
    "labels = ['social', 'social+twlda%d' % n_topics]\n",
    "\n",
    "# create a line chart where each column of measures receives a unique color and dash style\n",
    "line = Line(data, y=labels,\n",
    "            dash=labels,\n",
    "            color=labels,\n",
    "            legend_sort_field = 'color',\n",
    "            legend_sort_direction = 'descending',\n",
    "            xlabel='usuarios (ordenados por f1 del modelo social en datos de evaluación)',\n",
    "            ylabel='puntaje f1 sobre datos de evaluación', legend=True)\n",
    "\n",
    "show(line)"
   ]
  },
  {
   "cell_type": "code",
   "execution_count": 8,
   "metadata": {
    "collapsed": false
   },
   "outputs": [
    {
     "data": {
      "text/plain": [
       "8"
      ]
     },
     "execution_count": 8,
     "metadata": {},
     "output_type": "execute_result"
    }
   ],
   "source": [
    "sum(f1s_lda > f1s_s)"
   ]
  },
  {
   "cell_type": "code",
   "execution_count": 9,
   "metadata": {
    "collapsed": false
   },
   "outputs": [
    {
     "data": {
      "text/plain": [
       "0.73800595858620233"
      ]
     },
     "execution_count": 9,
     "metadata": {},
     "output_type": "execute_result"
    }
   ],
   "source": [
    "np.mean(f1s_lda)"
   ]
  },
  {
   "cell_type": "code",
   "execution_count": 10,
   "metadata": {
    "collapsed": false
   },
   "outputs": [
    {
     "data": {
      "text/plain": [
       "0.71768682625332803"
      ]
     },
     "execution_count": 10,
     "metadata": {},
     "output_type": "execute_result"
    }
   ],
   "source": [
    "np.mean(f1s_s)"
   ]
  },
  {
   "cell_type": "markdown",
   "metadata": {},
   "source": [
    "# Comparación en test set"
   ]
  },
  {
   "cell_type": "code",
   "execution_count": 11,
   "metadata": {
    "collapsed": false
   },
   "outputs": [
    {
     "data": {
      "text/html": [
       "\n",
       "\n",
       "    <div class=\"bk-root\">\n",
       "        <div class=\"bk-plotdiv\" id=\"b0446a3e-ca87-4482-8735-d28f8a98d710\"></div>\n",
       "    </div>\n",
       "<script type=\"text/javascript\">\n",
       "  \n",
       "  (function(global) {\n",
       "    function now() {\n",
       "      return new Date();\n",
       "    }\n",
       "  \n",
       "    var force = false;\n",
       "  \n",
       "    if (typeof (window._bokeh_onload_callbacks) === \"undefined\" || force === true) {\n",
       "      window._bokeh_onload_callbacks = [];\n",
       "      window._bokeh_is_loading = undefined;\n",
       "    }\n",
       "  \n",
       "  \n",
       "    \n",
       "    if (typeof (window._bokeh_timeout) === \"undefined\" || force === true) {\n",
       "      window._bokeh_timeout = Date.now() + 0;\n",
       "      window._bokeh_failed_load = false;\n",
       "    }\n",
       "  \n",
       "    var NB_LOAD_WARNING = {'data': {'text/html':\n",
       "       \"<div style='background-color: #fdd'>\\n\"+\n",
       "       \"<p>\\n\"+\n",
       "       \"BokehJS does not appear to have successfully loaded. If loading BokehJS from CDN, this \\n\"+\n",
       "       \"may be due to a slow or bad network connection. Possible fixes:\\n\"+\n",
       "       \"</p>\\n\"+\n",
       "       \"<ul>\\n\"+\n",
       "       \"<li>re-rerun `output_notebook()` to attempt to load from CDN again, or</li>\\n\"+\n",
       "       \"<li>use INLINE resources instead, as so:</li>\\n\"+\n",
       "       \"</ul>\\n\"+\n",
       "       \"<code>\\n\"+\n",
       "       \"from bokeh.resources import INLINE\\n\"+\n",
       "       \"output_notebook(resources=INLINE)\\n\"+\n",
       "       \"</code>\\n\"+\n",
       "       \"</div>\"}};\n",
       "  \n",
       "    function display_loaded() {\n",
       "      if (window.Bokeh !== undefined) {\n",
       "        var el = document.getElementById(\"b0446a3e-ca87-4482-8735-d28f8a98d710\");\n",
       "        el.textContent = \"BokehJS \" + Bokeh.version + \" successfully loaded.\";\n",
       "      } else if (Date.now() < window._bokeh_timeout) {\n",
       "        setTimeout(display_loaded, 100)\n",
       "      }\n",
       "    }\n",
       "  \n",
       "    function run_callbacks() {\n",
       "      window._bokeh_onload_callbacks.forEach(function(callback) { callback() });\n",
       "      delete window._bokeh_onload_callbacks\n",
       "      console.info(\"Bokeh: all callbacks have finished\");\n",
       "    }\n",
       "  \n",
       "    function load_libs(js_urls, callback) {\n",
       "      window._bokeh_onload_callbacks.push(callback);\n",
       "      if (window._bokeh_is_loading > 0) {\n",
       "        console.log(\"Bokeh: BokehJS is being loaded, scheduling callback at\", now());\n",
       "        return null;\n",
       "      }\n",
       "      if (js_urls == null || js_urls.length === 0) {\n",
       "        run_callbacks();\n",
       "        return null;\n",
       "      }\n",
       "      console.log(\"Bokeh: BokehJS not loaded, scheduling load and callback at\", now());\n",
       "      window._bokeh_is_loading = js_urls.length;\n",
       "      for (var i = 0; i < js_urls.length; i++) {\n",
       "        var url = js_urls[i];\n",
       "        var s = document.createElement('script');\n",
       "        s.src = url;\n",
       "        s.async = false;\n",
       "        s.onreadystatechange = s.onload = function() {\n",
       "          window._bokeh_is_loading--;\n",
       "          if (window._bokeh_is_loading === 0) {\n",
       "            console.log(\"Bokeh: all BokehJS libraries loaded\");\n",
       "            run_callbacks()\n",
       "          }\n",
       "        };\n",
       "        s.onerror = function() {\n",
       "          console.warn(\"failed to load library \" + url);\n",
       "        };\n",
       "        console.log(\"Bokeh: injecting script tag for BokehJS library: \", url);\n",
       "        document.getElementsByTagName(\"head\")[0].appendChild(s);\n",
       "      }\n",
       "    };var element = document.getElementById(\"b0446a3e-ca87-4482-8735-d28f8a98d710\");\n",
       "    if (element == null) {\n",
       "      console.log(\"Bokeh: ERROR: autoload.js configured with elementid 'b0446a3e-ca87-4482-8735-d28f8a98d710' but no matching script tag was found. \")\n",
       "      return false;\n",
       "    }\n",
       "  \n",
       "    var js_urls = [];\n",
       "  \n",
       "    var inline_js = [\n",
       "      function(Bokeh) {\n",
       "        (function() {\n",
       "          var fn = function() {\n",
       "            var docs_json = {\"7fefae7c-12ba-49a3-a5a9-e6fd49efa011\":{\"roots\":{\"references\":[{\"attributes\":{\"line_color\":{\"value\":\"#5ab738\"},\"line_dash\":[6],\"line_width\":{\"value\":2},\"x\":{\"field\":\"x_values\"},\"y\":{\"field\":\"y_values\"}},\"id\":\"2653ad8d-1ee6-48bc-b386-a9a29cb4e4d2\",\"type\":\"Line\"},{\"attributes\":{\"callback\":null,\"end\":1.0653808776257756,\"start\":-0.02688196157583911},\"id\":\"28074d3e-8145-4b1d-96ca-32f8623a686f\",\"type\":\"Range1d\"},{\"attributes\":{\"plot\":{\"id\":\"38d35e32-d6ab-4cf8-a897-b89b04d46707\",\"subtype\":\"Chart\",\"type\":\"Plot\"}},\"id\":\"e41ee6e4-43e5-43ad-96a4-3c2081fef108\",\"type\":\"WheelZoomTool\"},{\"attributes\":{\"overlay\":{\"id\":\"c46e5115-0394-4e0c-9a15-2b9ef7d92317\",\"type\":\"BoxAnnotation\"},\"plot\":{\"id\":\"38d35e32-d6ab-4cf8-a897-b89b04d46707\",\"subtype\":\"Chart\",\"type\":\"Plot\"}},\"id\":\"a698cd9f-d680-44b2-b71b-2d20a575b4a6\",\"type\":\"BoxZoomTool\"},{\"attributes\":{\"axis_label\":\"usuarios (ordenados por f1 del modelo social en datos de evaluaci\\u00f3n)\",\"formatter\":{\"id\":\"731b2728-bc8f-49a4-932c-2ac7f9fe120e\",\"type\":\"BasicTickFormatter\"},\"plot\":{\"id\":\"38d35e32-d6ab-4cf8-a897-b89b04d46707\",\"subtype\":\"Chart\",\"type\":\"Plot\"},\"ticker\":{\"id\":\"0982654a-18a5-48cb-b301-aaa0f64f7bfd\",\"type\":\"BasicTicker\"}},\"id\":\"4e8781d4-8e6f-402f-9e3a-38ec8d636b73\",\"type\":\"LinearAxis\"},{\"attributes\":{\"callback\":null,\"end\":39.6,\"start\":-3.6},\"id\":\"2f0ec72c-5608-4575-b925-9facf841ed1f\",\"type\":\"Range1d\"},{\"attributes\":{\"axis_label\":\"puntaje f1 sobre datos de evaluaci\\u00f3n\",\"formatter\":{\"id\":\"549d5ed5-6720-4568-9f88-4b286efdb719\",\"type\":\"BasicTickFormatter\"},\"plot\":{\"id\":\"38d35e32-d6ab-4cf8-a897-b89b04d46707\",\"subtype\":\"Chart\",\"type\":\"Plot\"},\"ticker\":{\"id\":\"f3dd0d8a-1c72-495d-ac16-32312fa4dacc\",\"type\":\"BasicTicker\"}},\"id\":\"028be1e3-aaf4-47de-8bbc-8f5ba0c29a2b\",\"type\":\"LinearAxis\"},{\"attributes\":{\"callback\":null,\"column_names\":[\"x_values\",\"y_values\"],\"data\":{\"chart_index\":[{\"series\":\"social+twlda10\"},{\"series\":\"social+twlda10\"},{\"series\":\"social+twlda10\"},{\"series\":\"social+twlda10\"},{\"series\":\"social+twlda10\"},{\"series\":\"social+twlda10\"},{\"series\":\"social+twlda10\"},{\"series\":\"social+twlda10\"},{\"series\":\"social+twlda10\"},{\"series\":\"social+twlda10\"},{\"series\":\"social+twlda10\"},{\"series\":\"social+twlda10\"},{\"series\":\"social+twlda10\"},{\"series\":\"social+twlda10\"},{\"series\":\"social+twlda10\"},{\"series\":\"social+twlda10\"},{\"series\":\"social+twlda10\"},{\"series\":\"social+twlda10\"},{\"series\":\"social+twlda10\"},{\"series\":\"social+twlda10\"},{\"series\":\"social+twlda10\"},{\"series\":\"social+twlda10\"},{\"series\":\"social+twlda10\"},{\"series\":\"social+twlda10\"},{\"series\":\"social+twlda10\"},{\"series\":\"social+twlda10\"},{\"series\":\"social+twlda10\"},{\"series\":\"social+twlda10\"},{\"series\":\"social+twlda10\"},{\"series\":\"social+twlda10\"},{\"series\":\"social+twlda10\"},{\"series\":\"social+twlda10\"},{\"series\":\"social+twlda10\"},{\"series\":\"social+twlda10\"},{\"series\":\"social+twlda10\"},{\"series\":\"social+twlda10\"},{\"series\":\"social+twlda10\"}],\"series\":[\"social+twlda10\",\"social+twlda10\",\"social+twlda10\",\"social+twlda10\",\"social+twlda10\",\"social+twlda10\",\"social+twlda10\",\"social+twlda10\",\"social+twlda10\",\"social+twlda10\",\"social+twlda10\",\"social+twlda10\",\"social+twlda10\",\"social+twlda10\",\"social+twlda10\",\"social+twlda10\",\"social+twlda10\",\"social+twlda10\",\"social+twlda10\",\"social+twlda10\",\"social+twlda10\",\"social+twlda10\",\"social+twlda10\",\"social+twlda10\",\"social+twlda10\",\"social+twlda10\",\"social+twlda10\",\"social+twlda10\",\"social+twlda10\",\"social+twlda10\",\"social+twlda10\",\"social+twlda10\",\"social+twlda10\",\"social+twlda10\",\"social+twlda10\",\"social+twlda10\",\"social+twlda10\"],\"x_values\":[0,1,2,3,4,5,6,7,8,9,10,11,12,13,14,15,16,17,18,19,20,21,22,23,24,25,26,27,28,29,30,31,32,33,34,35,36],\"y_values\":{\"__ndarray__\":\"AAAAAAAA7z+WWqmVWqnlP15DeQ3lNeQ/1Yv51Iv55D+/TTFq+NvkP9JFF1100eU/pZRSSiml5D9lIQtZyELmP2UhC1nIQuY/VlVVVVVV5T9HF1100UXnP5dv+ZZv+eY/Nzc3Nzc35z+3bdu2bdvmP4jG+tBYH+o/Q3kN5TWU5z+hnqlcd7zoPyPuiDvijug/VlVVVVVV6T+1l9BeQnvpPyOfdYMp8uk/y5YtW7Zs6T+amZmZmZnpP1qwBVuwBes/RMmuTZTs6j+D30RP5/bqPzw8PDw8POw/GRkZGRkZ6T/btm3btm3rP1qwBVuwBes/WmFzINEK6z8iaDip+/LoP+zETuzETuw/mZmZmZmZ6T9ot/CrMZHuP9XvuSVO/e4/3/It3/It7z8=\",\"dtype\":\"float64\",\"shape\":[37]}}},\"id\":\"c20f21fa-f6d2-41fa-a4c5-cb80e36571a4\",\"type\":\"ColumnDataSource\"},{\"attributes\":{\"label\":{\"value\":\"social\"},\"renderers\":[{\"id\":\"252e179c-1e8b-4124-8748-4985f335b848\",\"type\":\"GlyphRenderer\"}]},\"id\":\"1f47c5ee-609e-4921-a1b7-cf1a6c31239a\",\"type\":\"LegendItem\"},{\"attributes\":{\"active_drag\":\"auto\",\"active_scroll\":\"auto\",\"active_tap\":\"auto\",\"tools\":[{\"id\":\"6656b076-b6a9-46f1-a9ff-094f5c0c6e92\",\"type\":\"PanTool\"},{\"id\":\"e41ee6e4-43e5-43ad-96a4-3c2081fef108\",\"type\":\"WheelZoomTool\"},{\"id\":\"a698cd9f-d680-44b2-b71b-2d20a575b4a6\",\"type\":\"BoxZoomTool\"},{\"id\":\"f18b25b0-9fde-469f-af9d-b445644972f8\",\"type\":\"SaveTool\"},{\"id\":\"4f5c3b3c-4fac-467a-b32f-2d992accba1b\",\"type\":\"ResetTool\"},{\"id\":\"675d166a-0b6a-44c5-9e5d-c652fd23dcba\",\"type\":\"HelpTool\"}]},\"id\":\"8c65e5ee-ae28-4730-9ebc-d53f42aeb7ee\",\"type\":\"Toolbar\"},{\"attributes\":{},\"id\":\"f3dd0d8a-1c72-495d-ac16-32312fa4dacc\",\"type\":\"BasicTicker\"},{\"attributes\":{},\"id\":\"731b2728-bc8f-49a4-932c-2ac7f9fe120e\",\"type\":\"BasicTickFormatter\"},{\"attributes\":{},\"id\":\"0982654a-18a5-48cb-b301-aaa0f64f7bfd\",\"type\":\"BasicTicker\"},{\"attributes\":{\"plot\":null,\"text\":null},\"id\":\"7f6aae8f-7d66-4d35-9728-aa0d2366519d\",\"type\":\"Title\"},{\"attributes\":{\"label\":{\"value\":\"social+twlda10\"},\"renderers\":[{\"id\":\"8b148d5d-8f82-4b40-9db1-0cceda6a38eb\",\"type\":\"GlyphRenderer\"}]},\"id\":\"37728190-a870-4a16-b659-fb9df5034081\",\"type\":\"LegendItem\"},{\"attributes\":{},\"id\":\"549d5ed5-6720-4568-9f88-4b286efdb719\",\"type\":\"BasicTickFormatter\"},{\"attributes\":{\"plot\":{\"id\":\"38d35e32-d6ab-4cf8-a897-b89b04d46707\",\"subtype\":\"Chart\",\"type\":\"Plot\"}},\"id\":\"6656b076-b6a9-46f1-a9ff-094f5c0c6e92\",\"type\":\"PanTool\"},{\"attributes\":{\"plot\":{\"id\":\"38d35e32-d6ab-4cf8-a897-b89b04d46707\",\"subtype\":\"Chart\",\"type\":\"Plot\"}},\"id\":\"4f5c3b3c-4fac-467a-b32f-2d992accba1b\",\"type\":\"ResetTool\"},{\"attributes\":{\"data_source\":{\"id\":\"14cdfc81-76e4-48bb-ba40-8c4a1bc7dd7f\",\"type\":\"ColumnDataSource\"},\"glyph\":{\"id\":\"674f9259-c6ed-430d-8e76-b64e34d510e9\",\"type\":\"Line\"},\"hover_glyph\":null,\"muted_glyph\":null},\"id\":\"252e179c-1e8b-4124-8748-4985f335b848\",\"type\":\"GlyphRenderer\"},{\"attributes\":{\"bottom_units\":\"screen\",\"fill_alpha\":{\"value\":0.5},\"fill_color\":{\"value\":\"lightgrey\"},\"left_units\":\"screen\",\"level\":\"overlay\",\"line_alpha\":{\"value\":1.0},\"line_color\":{\"value\":\"black\"},\"line_dash\":[4,4],\"line_width\":{\"value\":2},\"plot\":null,\"render_mode\":\"css\",\"right_units\":\"screen\",\"top_units\":\"screen\"},\"id\":\"c46e5115-0394-4e0c-9a15-2b9ef7d92317\",\"type\":\"BoxAnnotation\"},{\"attributes\":{\"plot\":{\"id\":\"38d35e32-d6ab-4cf8-a897-b89b04d46707\",\"subtype\":\"Chart\",\"type\":\"Plot\"}},\"id\":\"f18b25b0-9fde-469f-af9d-b445644972f8\",\"type\":\"SaveTool\"},{\"attributes\":{\"data_source\":{\"id\":\"c20f21fa-f6d2-41fa-a4c5-cb80e36571a4\",\"type\":\"ColumnDataSource\"},\"glyph\":{\"id\":\"2653ad8d-1ee6-48bc-b386-a9a29cb4e4d2\",\"type\":\"Line\"},\"hover_glyph\":null,\"muted_glyph\":null},\"id\":\"8b148d5d-8f82-4b40-9db1-0cceda6a38eb\",\"type\":\"GlyphRenderer\"},{\"attributes\":{\"items\":[{\"id\":\"37728190-a870-4a16-b659-fb9df5034081\",\"type\":\"LegendItem\"},{\"id\":\"1f47c5ee-609e-4921-a1b7-cf1a6c31239a\",\"type\":\"LegendItem\"}],\"location\":\"top_left\",\"plot\":{\"id\":\"38d35e32-d6ab-4cf8-a897-b89b04d46707\",\"subtype\":\"Chart\",\"type\":\"Plot\"}},\"id\":\"09c09c54-ea32-4593-82ea-23a75b0cbb93\",\"type\":\"Legend\"},{\"attributes\":{\"dimension\":1,\"plot\":{\"id\":\"38d35e32-d6ab-4cf8-a897-b89b04d46707\",\"subtype\":\"Chart\",\"type\":\"Plot\"},\"ticker\":{\"id\":\"f3dd0d8a-1c72-495d-ac16-32312fa4dacc\",\"type\":\"BasicTicker\"}},\"id\":\"e30d51ef-b55b-49fb-9a2d-ada2ebab3689\",\"type\":\"Grid\"},{\"attributes\":{},\"id\":\"d1b1341a-52fa-4b37-8769-fa2cbbd65921\",\"type\":\"ToolEvents\"},{\"attributes\":{\"plot\":{\"id\":\"38d35e32-d6ab-4cf8-a897-b89b04d46707\",\"subtype\":\"Chart\",\"type\":\"Plot\"},\"ticker\":{\"id\":\"0982654a-18a5-48cb-b301-aaa0f64f7bfd\",\"type\":\"BasicTicker\"}},\"id\":\"ceaf9792-6a6e-4f75-b848-5d7a888ae6cc\",\"type\":\"Grid\"},{\"attributes\":{\"callback\":null,\"column_names\":[\"x_values\",\"y_values\"],\"data\":{\"chart_index\":[{\"series\":\"social\"},{\"series\":\"social\"},{\"series\":\"social\"},{\"series\":\"social\"},{\"series\":\"social\"},{\"series\":\"social\"},{\"series\":\"social\"},{\"series\":\"social\"},{\"series\":\"social\"},{\"series\":\"social\"},{\"series\":\"social\"},{\"series\":\"social\"},{\"series\":\"social\"},{\"series\":\"social\"},{\"series\":\"social\"},{\"series\":\"social\"},{\"series\":\"social\"},{\"series\":\"social\"},{\"series\":\"social\"},{\"series\":\"social\"},{\"series\":\"social\"},{\"series\":\"social\"},{\"series\":\"social\"},{\"series\":\"social\"},{\"series\":\"social\"},{\"series\":\"social\"},{\"series\":\"social\"},{\"series\":\"social\"},{\"series\":\"social\"},{\"series\":\"social\"},{\"series\":\"social\"},{\"series\":\"social\"},{\"series\":\"social\"},{\"series\":\"social\"},{\"series\":\"social\"},{\"series\":\"social\"},{\"series\":\"social\"}],\"series\":[\"social\",\"social\",\"social\",\"social\",\"social\",\"social\",\"social\",\"social\",\"social\",\"social\",\"social\",\"social\",\"social\",\"social\",\"social\",\"social\",\"social\",\"social\",\"social\",\"social\",\"social\",\"social\",\"social\",\"social\",\"social\",\"social\",\"social\",\"social\",\"social\",\"social\",\"social\",\"social\",\"social\",\"social\",\"social\",\"social\",\"social\"],\"x_values\":[0,1,2,3,4,5,6,7,8,9,10,11,12,13,14,15,16,17,18,19,20,21,22,23,24,25,26,27,28,29,30,31,32,33,34,35,36],\"y_values\":{\"__ndarray__\":\"ZRbup3lrsD900UUXXXThP8/KT4iz8uM/HMdxHMdx5D86u4VfjYnkP9JFF1100eU/AQAAAAAA5j9lIQtZyELmP2UhC1nIQuY/ymsor6G85j/HcRzHcRznPzMzMzMzM+c/Nzc3Nzc35z9GF1100UXnP/QFfUFf0Oc/94DZA2YP6D/NH2w8mj/oP9mJndiJneg/NNaHxvrQ6D+1l9BeQnvpPyOfdYMp8uk/sKG8hvIa6j9aWlpaWlrqP6qqqqqqquo/YGdXe2oQ6z/H+tBYHxrrPyabbLLJJus/bdR3Nuo76z/btm3btm3rP9u2bdu2bes/HLmRG7mR6z8fwX0E9xHsP+zETuzETuw/1AjLPY2w7D9ot/CrMZHuP8dxHMdxHO8/3/It3/It7z8=\",\"dtype\":\"float64\",\"shape\":[37]}}},\"id\":\"14cdfc81-76e4-48bb-ba40-8c4a1bc7dd7f\",\"type\":\"ColumnDataSource\"},{\"attributes\":{\"below\":[{\"id\":\"4e8781d4-8e6f-402f-9e3a-38ec8d636b73\",\"type\":\"LinearAxis\"}],\"css_classes\":null,\"left\":[{\"id\":\"028be1e3-aaf4-47de-8bbc-8f5ba0c29a2b\",\"type\":\"LinearAxis\"}],\"renderers\":[{\"id\":\"c46e5115-0394-4e0c-9a15-2b9ef7d92317\",\"type\":\"BoxAnnotation\"},{\"id\":\"252e179c-1e8b-4124-8748-4985f335b848\",\"type\":\"GlyphRenderer\"},{\"id\":\"8b148d5d-8f82-4b40-9db1-0cceda6a38eb\",\"type\":\"GlyphRenderer\"},{\"id\":\"09c09c54-ea32-4593-82ea-23a75b0cbb93\",\"type\":\"Legend\"},{\"id\":\"4e8781d4-8e6f-402f-9e3a-38ec8d636b73\",\"type\":\"LinearAxis\"},{\"id\":\"028be1e3-aaf4-47de-8bbc-8f5ba0c29a2b\",\"type\":\"LinearAxis\"},{\"id\":\"ceaf9792-6a6e-4f75-b848-5d7a888ae6cc\",\"type\":\"Grid\"},{\"id\":\"e30d51ef-b55b-49fb-9a2d-ada2ebab3689\",\"type\":\"Grid\"}],\"title\":{\"id\":\"7f6aae8f-7d66-4d35-9728-aa0d2366519d\",\"type\":\"Title\"},\"tool_events\":{\"id\":\"d1b1341a-52fa-4b37-8769-fa2cbbd65921\",\"type\":\"ToolEvents\"},\"toolbar\":{\"id\":\"8c65e5ee-ae28-4730-9ebc-d53f42aeb7ee\",\"type\":\"Toolbar\"},\"x_mapper_type\":\"auto\",\"x_range\":{\"id\":\"2f0ec72c-5608-4575-b925-9facf841ed1f\",\"type\":\"Range1d\"},\"y_mapper_type\":\"auto\",\"y_range\":{\"id\":\"28074d3e-8145-4b1d-96ca-32f8623a686f\",\"type\":\"Range1d\"}},\"id\":\"38d35e32-d6ab-4cf8-a897-b89b04d46707\",\"subtype\":\"Chart\",\"type\":\"Plot\"},{\"attributes\":{\"plot\":{\"id\":\"38d35e32-d6ab-4cf8-a897-b89b04d46707\",\"subtype\":\"Chart\",\"type\":\"Plot\"}},\"id\":\"675d166a-0b6a-44c5-9e5d-c652fd23dcba\",\"type\":\"HelpTool\"},{\"attributes\":{\"line_color\":{\"value\":\"#f22c40\"},\"line_width\":{\"value\":2},\"x\":{\"field\":\"x_values\"},\"y\":{\"field\":\"y_values\"}},\"id\":\"674f9259-c6ed-430d-8e76-b64e34d510e9\",\"type\":\"Line\"}],\"root_ids\":[\"38d35e32-d6ab-4cf8-a897-b89b04d46707\"]},\"title\":\"Bokeh Application\",\"version\":\"0.12.5\"}};\n",
       "            var render_items = [{\"docid\":\"7fefae7c-12ba-49a3-a5a9-e6fd49efa011\",\"elementid\":\"b0446a3e-ca87-4482-8735-d28f8a98d710\",\"modelid\":\"38d35e32-d6ab-4cf8-a897-b89b04d46707\"}];\n",
       "            \n",
       "            Bokeh.embed.embed_items(docs_json, render_items);\n",
       "          };\n",
       "          if (document.readyState != \"loading\") fn();\n",
       "          else document.addEventListener(\"DOMContentLoaded\", fn);\n",
       "        })();\n",
       "      },\n",
       "      function(Bokeh) {\n",
       "      }\n",
       "    ];\n",
       "  \n",
       "    function run_inline_js() {\n",
       "      \n",
       "      if ((window.Bokeh !== undefined) || (force === true)) {\n",
       "        for (var i = 0; i < inline_js.length; i++) {\n",
       "          inline_js[i](window.Bokeh);\n",
       "        }if (force === true) {\n",
       "          display_loaded();\n",
       "        }} else if (Date.now() < window._bokeh_timeout) {\n",
       "        setTimeout(run_inline_js, 100);\n",
       "      } else if (!window._bokeh_failed_load) {\n",
       "        console.log(\"Bokeh: BokehJS failed to load within specified timeout.\");\n",
       "        window._bokeh_failed_load = true;\n",
       "      } else if (force !== true) {\n",
       "        var cell = $(document.getElementById(\"b0446a3e-ca87-4482-8735-d28f8a98d710\")).parents('.cell').data().cell;\n",
       "        cell.output_area.append_execute_result(NB_LOAD_WARNING)\n",
       "      }\n",
       "  \n",
       "    }\n",
       "  \n",
       "    if (window._bokeh_is_loading === 0) {\n",
       "      console.log(\"Bokeh: BokehJS loaded, going straight to plotting\");\n",
       "      run_inline_js();\n",
       "    } else {\n",
       "      load_libs(js_urls, function() {\n",
       "        console.log(\"Bokeh: BokehJS plotting callback run at\", now());\n",
       "        run_inline_js();\n",
       "      });\n",
       "    }\n",
       "  }(this));\n",
       "</script>"
      ]
     },
     "metadata": {},
     "output_type": "display_data"
    }
   ],
   "source": [
    "with open('scores/twlda_by_timeline/tw_t%d_f1s_test_svc.json' % n_topics) as f:    \n",
    "    f1s_combined = json.load(f)\n",
    "\n",
    "f1s_social = json.load(open('../_1_one_user_learn_neighbours/scores/f1s_testv_svc.json'))\n",
    "f1s_social = {u: f for u, f in f1s_social.items() if u in nlp_uids}\n",
    "\n",
    "sorted_uids = [u for u, f in sorted(f1s_social.items(), key=lambda x:x[1])]\n",
    "indices = range(len(sorted_uids))\n",
    "\n",
    "f1s_lda = np.array([f1s_combined[sorted_uids[i]] for i in indices])\n",
    "f1s_s = np.array([f1s_social[sorted_uids[i]] for i in indices])\n",
    "\n",
    "# build a dataset where multiple columns measure the same thing\n",
    "data = {\n",
    "    \"social\": f1s_s,\n",
    "    \"social+twlda%d\" % n_topics: f1s_lda\n",
    "}\n",
    "\n",
    "labels = ['social', 'social+twlda%d' % n_topics]\n",
    "\n",
    "# create a line chart where each column of measures receives a unique color and dash style\n",
    "line = Line(data, y=labels,\n",
    "            dash=labels,\n",
    "            color=labels,\n",
    "            legend_sort_field = 'color',\n",
    "            legend_sort_direction = 'descending',\n",
    "            xlabel='usuarios (ordenados por f1 del modelo social en datos de evaluación)',\n",
    "            ylabel='puntaje f1 sobre datos de evaluación', legend=True)\n",
    "\n",
    "show(line)"
   ]
  },
  {
   "cell_type": "code",
   "execution_count": 12,
   "metadata": {
    "collapsed": false
   },
   "outputs": [
    {
     "data": {
      "text/plain": [
       "11"
      ]
     },
     "execution_count": 12,
     "metadata": {},
     "output_type": "execute_result"
    }
   ],
   "source": [
    "sum(f1s_lda > f1s_s)"
   ]
  },
  {
   "cell_type": "code",
   "execution_count": 13,
   "metadata": {
    "collapsed": false
   },
   "outputs": [
    {
     "data": {
      "text/plain": [
       "0.78501332175417349"
      ]
     },
     "execution_count": 13,
     "metadata": {},
     "output_type": "execute_result"
    }
   ],
   "source": [
    "np.mean(f1s_lda)"
   ]
  },
  {
   "cell_type": "code",
   "execution_count": 14,
   "metadata": {
    "collapsed": false
   },
   "outputs": [
    {
     "data": {
      "text/plain": [
       "0.76463096629149319"
      ]
     },
     "execution_count": 14,
     "metadata": {},
     "output_type": "execute_result"
    }
   ],
   "source": [
    "np.mean(f1s_s)"
   ]
  },
  {
   "cell_type": "markdown",
   "metadata": {},
   "source": [
    "# Comparación en training set"
   ]
  },
  {
   "cell_type": "code",
   "execution_count": 15,
   "metadata": {
    "collapsed": false
   },
   "outputs": [
    {
     "data": {
      "text/html": [
       "\n",
       "\n",
       "    <div class=\"bk-root\">\n",
       "        <div class=\"bk-plotdiv\" id=\"ad489e65-da2a-442b-9f7b-72b7b13b43d2\"></div>\n",
       "    </div>\n",
       "<script type=\"text/javascript\">\n",
       "  \n",
       "  (function(global) {\n",
       "    function now() {\n",
       "      return new Date();\n",
       "    }\n",
       "  \n",
       "    var force = false;\n",
       "  \n",
       "    if (typeof (window._bokeh_onload_callbacks) === \"undefined\" || force === true) {\n",
       "      window._bokeh_onload_callbacks = [];\n",
       "      window._bokeh_is_loading = undefined;\n",
       "    }\n",
       "  \n",
       "  \n",
       "    \n",
       "    if (typeof (window._bokeh_timeout) === \"undefined\" || force === true) {\n",
       "      window._bokeh_timeout = Date.now() + 0;\n",
       "      window._bokeh_failed_load = false;\n",
       "    }\n",
       "  \n",
       "    var NB_LOAD_WARNING = {'data': {'text/html':\n",
       "       \"<div style='background-color: #fdd'>\\n\"+\n",
       "       \"<p>\\n\"+\n",
       "       \"BokehJS does not appear to have successfully loaded. If loading BokehJS from CDN, this \\n\"+\n",
       "       \"may be due to a slow or bad network connection. Possible fixes:\\n\"+\n",
       "       \"</p>\\n\"+\n",
       "       \"<ul>\\n\"+\n",
       "       \"<li>re-rerun `output_notebook()` to attempt to load from CDN again, or</li>\\n\"+\n",
       "       \"<li>use INLINE resources instead, as so:</li>\\n\"+\n",
       "       \"</ul>\\n\"+\n",
       "       \"<code>\\n\"+\n",
       "       \"from bokeh.resources import INLINE\\n\"+\n",
       "       \"output_notebook(resources=INLINE)\\n\"+\n",
       "       \"</code>\\n\"+\n",
       "       \"</div>\"}};\n",
       "  \n",
       "    function display_loaded() {\n",
       "      if (window.Bokeh !== undefined) {\n",
       "        var el = document.getElementById(\"ad489e65-da2a-442b-9f7b-72b7b13b43d2\");\n",
       "        el.textContent = \"BokehJS \" + Bokeh.version + \" successfully loaded.\";\n",
       "      } else if (Date.now() < window._bokeh_timeout) {\n",
       "        setTimeout(display_loaded, 100)\n",
       "      }\n",
       "    }\n",
       "  \n",
       "    function run_callbacks() {\n",
       "      window._bokeh_onload_callbacks.forEach(function(callback) { callback() });\n",
       "      delete window._bokeh_onload_callbacks\n",
       "      console.info(\"Bokeh: all callbacks have finished\");\n",
       "    }\n",
       "  \n",
       "    function load_libs(js_urls, callback) {\n",
       "      window._bokeh_onload_callbacks.push(callback);\n",
       "      if (window._bokeh_is_loading > 0) {\n",
       "        console.log(\"Bokeh: BokehJS is being loaded, scheduling callback at\", now());\n",
       "        return null;\n",
       "      }\n",
       "      if (js_urls == null || js_urls.length === 0) {\n",
       "        run_callbacks();\n",
       "        return null;\n",
       "      }\n",
       "      console.log(\"Bokeh: BokehJS not loaded, scheduling load and callback at\", now());\n",
       "      window._bokeh_is_loading = js_urls.length;\n",
       "      for (var i = 0; i < js_urls.length; i++) {\n",
       "        var url = js_urls[i];\n",
       "        var s = document.createElement('script');\n",
       "        s.src = url;\n",
       "        s.async = false;\n",
       "        s.onreadystatechange = s.onload = function() {\n",
       "          window._bokeh_is_loading--;\n",
       "          if (window._bokeh_is_loading === 0) {\n",
       "            console.log(\"Bokeh: all BokehJS libraries loaded\");\n",
       "            run_callbacks()\n",
       "          }\n",
       "        };\n",
       "        s.onerror = function() {\n",
       "          console.warn(\"failed to load library \" + url);\n",
       "        };\n",
       "        console.log(\"Bokeh: injecting script tag for BokehJS library: \", url);\n",
       "        document.getElementsByTagName(\"head\")[0].appendChild(s);\n",
       "      }\n",
       "    };var element = document.getElementById(\"ad489e65-da2a-442b-9f7b-72b7b13b43d2\");\n",
       "    if (element == null) {\n",
       "      console.log(\"Bokeh: ERROR: autoload.js configured with elementid 'ad489e65-da2a-442b-9f7b-72b7b13b43d2' but no matching script tag was found. \")\n",
       "      return false;\n",
       "    }\n",
       "  \n",
       "    var js_urls = [];\n",
       "  \n",
       "    var inline_js = [\n",
       "      function(Bokeh) {\n",
       "        (function() {\n",
       "          var fn = function() {\n",
       "            var docs_json = {\"6dbf33a3-51b1-4810-849a-8473f9dd00a1\":{\"roots\":{\"references\":[{\"attributes\":{},\"id\":\"188463c4-fbf1-4a7f-9466-cf64395e0da2\",\"type\":\"ToolEvents\"},{\"attributes\":{\"axis_label\":\"puntaje f1 sobre datos de evaluaci\\u00f3n\",\"formatter\":{\"id\":\"7a5beefb-0a3f-41e9-b4e4-9d623cdcf5a3\",\"type\":\"BasicTickFormatter\"},\"plot\":{\"id\":\"fbd27f0c-5c70-44c2-b4a1-0c6fd17783f4\",\"subtype\":\"Chart\",\"type\":\"Plot\"},\"ticker\":{\"id\":\"f5d2d44b-31cd-4d82-978d-ba00c568efb5\",\"type\":\"BasicTicker\"}},\"id\":\"2d175684-ec9f-4139-88f3-c6077ba6c900\",\"type\":\"LinearAxis\"},{\"attributes\":{},\"id\":\"174bae35-8d1a-4244-8f51-6004c451f27c\",\"type\":\"BasicTicker\"},{\"attributes\":{\"plot\":{\"id\":\"fbd27f0c-5c70-44c2-b4a1-0c6fd17783f4\",\"subtype\":\"Chart\",\"type\":\"Plot\"}},\"id\":\"27235023-0b9b-4085-a6a8-a8a8aa352b6f\",\"type\":\"SaveTool\"},{\"attributes\":{\"label\":{\"value\":\"social+twlda10\"},\"renderers\":[{\"id\":\"e3ed496d-f3b7-4952-8008-b1f30825719a\",\"type\":\"GlyphRenderer\"}]},\"id\":\"1ed3c94d-7183-4f9f-94cc-15d175fbb1da\",\"type\":\"LegendItem\"},{\"attributes\":{\"active_drag\":\"auto\",\"active_scroll\":\"auto\",\"active_tap\":\"auto\",\"tools\":[{\"id\":\"c8ab1365-7e25-41b8-987f-2eeb23146eee\",\"type\":\"PanTool\"},{\"id\":\"f54209da-d105-431d-a200-ea188d4e364a\",\"type\":\"WheelZoomTool\"},{\"id\":\"bed08984-ebef-48d9-8fa1-104385337616\",\"type\":\"BoxZoomTool\"},{\"id\":\"27235023-0b9b-4085-a6a8-a8a8aa352b6f\",\"type\":\"SaveTool\"},{\"id\":\"34bbf4ae-51fb-488c-bed6-a278dd530d12\",\"type\":\"ResetTool\"},{\"id\":\"14c663f1-6082-4b7d-9ceb-6216424fe27d\",\"type\":\"HelpTool\"}]},\"id\":\"6939de58-9897-4fa8-855f-44d5af9ef2e4\",\"type\":\"Toolbar\"},{\"attributes\":{\"plot\":{\"id\":\"fbd27f0c-5c70-44c2-b4a1-0c6fd17783f4\",\"subtype\":\"Chart\",\"type\":\"Plot\"}},\"id\":\"34bbf4ae-51fb-488c-bed6-a278dd530d12\",\"type\":\"ResetTool\"},{\"attributes\":{\"callback\":null,\"end\":39.6,\"start\":-3.6},\"id\":\"c48fd76e-00ee-4eb2-b008-fe95b7ea0632\",\"type\":\"Range1d\"},{\"attributes\":{\"plot\":{\"id\":\"fbd27f0c-5c70-44c2-b4a1-0c6fd17783f4\",\"subtype\":\"Chart\",\"type\":\"Plot\"}},\"id\":\"14c663f1-6082-4b7d-9ceb-6216424fe27d\",\"type\":\"HelpTool\"},{\"attributes\":{\"dimension\":1,\"plot\":{\"id\":\"fbd27f0c-5c70-44c2-b4a1-0c6fd17783f4\",\"subtype\":\"Chart\",\"type\":\"Plot\"},\"ticker\":{\"id\":\"f5d2d44b-31cd-4d82-978d-ba00c568efb5\",\"type\":\"BasicTicker\"}},\"id\":\"2ca61918-e9df-4396-9bdb-3dc3e424b78a\",\"type\":\"Grid\"},{\"attributes\":{\"line_color\":{\"value\":\"#5ab738\"},\"line_dash\":[6],\"line_width\":{\"value\":2},\"x\":{\"field\":\"x_values\"},\"y\":{\"field\":\"y_values\"}},\"id\":\"b3dd3179-b70e-4673-94e2-785ac359a0a6\",\"type\":\"Line\"},{\"attributes\":{},\"id\":\"7a5beefb-0a3f-41e9-b4e4-9d623cdcf5a3\",\"type\":\"BasicTickFormatter\"},{\"attributes\":{},\"id\":\"f5d2d44b-31cd-4d82-978d-ba00c568efb5\",\"type\":\"BasicTicker\"},{\"attributes\":{\"bottom_units\":\"screen\",\"fill_alpha\":{\"value\":0.5},\"fill_color\":{\"value\":\"lightgrey\"},\"left_units\":\"screen\",\"level\":\"overlay\",\"line_alpha\":{\"value\":1.0},\"line_color\":{\"value\":\"black\"},\"line_dash\":[4,4],\"line_width\":{\"value\":2},\"plot\":null,\"render_mode\":\"css\",\"right_units\":\"screen\",\"top_units\":\"screen\"},\"id\":\"ef9944eb-a543-4a51-84e1-a6b120bda3a4\",\"type\":\"BoxAnnotation\"},{\"attributes\":{\"callback\":null,\"end\":1.077291303176852,\"start\":-0.012680156995664202},\"id\":\"069226f2-295d-41e9-b9e0-63dfdd520b08\",\"type\":\"Range1d\"},{\"attributes\":{\"axis_label\":\"usuarios (ordenados por f1 del modelo social en datos de evaluaci\\u00f3n)\",\"formatter\":{\"id\":\"ebcd951a-dc97-4b16-82d0-58ed51c3d2c7\",\"type\":\"BasicTickFormatter\"},\"plot\":{\"id\":\"fbd27f0c-5c70-44c2-b4a1-0c6fd17783f4\",\"subtype\":\"Chart\",\"type\":\"Plot\"},\"ticker\":{\"id\":\"174bae35-8d1a-4244-8f51-6004c451f27c\",\"type\":\"BasicTicker\"}},\"id\":\"b5bca9ab-959f-4f74-9bce-fc88b66c5e3a\",\"type\":\"LinearAxis\"},{\"attributes\":{\"data_source\":{\"id\":\"e91040c5-4db9-44a8-a48d-803be8683872\",\"type\":\"ColumnDataSource\"},\"glyph\":{\"id\":\"3ce92064-b59a-45dc-8610-3586c8e52cb4\",\"type\":\"Line\"},\"hover_glyph\":null,\"muted_glyph\":null},\"id\":\"92371236-3011-42a2-a75a-811644b5edcd\",\"type\":\"GlyphRenderer\"},{\"attributes\":{},\"id\":\"ebcd951a-dc97-4b16-82d0-58ed51c3d2c7\",\"type\":\"BasicTickFormatter\"},{\"attributes\":{\"callback\":null,\"column_names\":[\"x_values\",\"y_values\"],\"data\":{\"chart_index\":[{\"series\":\"social\"},{\"series\":\"social\"},{\"series\":\"social\"},{\"series\":\"social\"},{\"series\":\"social\"},{\"series\":\"social\"},{\"series\":\"social\"},{\"series\":\"social\"},{\"series\":\"social\"},{\"series\":\"social\"},{\"series\":\"social\"},{\"series\":\"social\"},{\"series\":\"social\"},{\"series\":\"social\"},{\"series\":\"social\"},{\"series\":\"social\"},{\"series\":\"social\"},{\"series\":\"social\"},{\"series\":\"social\"},{\"series\":\"social\"},{\"series\":\"social\"},{\"series\":\"social\"},{\"series\":\"social\"},{\"series\":\"social\"},{\"series\":\"social\"},{\"series\":\"social\"},{\"series\":\"social\"},{\"series\":\"social\"},{\"series\":\"social\"},{\"series\":\"social\"},{\"series\":\"social\"},{\"series\":\"social\"},{\"series\":\"social\"},{\"series\":\"social\"},{\"series\":\"social\"},{\"series\":\"social\"},{\"series\":\"social\"}],\"series\":[\"social\",\"social\",\"social\",\"social\",\"social\",\"social\",\"social\",\"social\",\"social\",\"social\",\"social\",\"social\",\"social\",\"social\",\"social\",\"social\",\"social\",\"social\",\"social\",\"social\",\"social\",\"social\",\"social\",\"social\",\"social\",\"social\",\"social\",\"social\",\"social\",\"social\",\"social\",\"social\",\"social\",\"social\",\"social\",\"social\",\"social\"],\"x_values\":[0,1,2,3,4,5,6,7,8,9,10,11,12,13,14,15,16,17,18,19,20,21,22,23,24,25,26,27,28,29,30,31,32,33,34,35,36],\"y_values\":{\"__ndarray__\":\"MIyl0bABtD8UvS4UvS7kP72JetrcfeU/h7VvWPuG5T+yEdmIbETmPwnUjXjmg+Y/CtejcD0K5z8Qab2AbU7nP/IsI/qA6ug/gr1jamDv6D/yyCOPPPLoP02Rz7rBFOk/u2sCpKcd6T+PJ7OyrXbpP0kaAqT4wek/9+WxFUHD6T+OCOyDIQfqP5MkSZIkSeo/pze96U1v6j8JxlvZ55DqP3bTshJZmuo/K7tqosqu6j+YlUaPqCDrP04b6LSBTus/mpmZmZmZ6z/PusEU+azrP7u7u7u7u+s//ZDA2w8J7D/PeOERJSHsP1AglZyXRew/rKXAFs9w7D/k54pZjvzsPwAAAAAAAO4/dOUByTpX7j8qkDxt+r7uP///////T+8/J3ZiJ3Zi7z8=\",\"dtype\":\"float64\",\"shape\":[37]}}},\"id\":\"e91040c5-4db9-44a8-a48d-803be8683872\",\"type\":\"ColumnDataSource\"},{\"attributes\":{\"plot\":null,\"text\":null},\"id\":\"a93de13e-306e-4620-86f1-2cbbbff75350\",\"type\":\"Title\"},{\"attributes\":{\"overlay\":{\"id\":\"ef9944eb-a543-4a51-84e1-a6b120bda3a4\",\"type\":\"BoxAnnotation\"},\"plot\":{\"id\":\"fbd27f0c-5c70-44c2-b4a1-0c6fd17783f4\",\"subtype\":\"Chart\",\"type\":\"Plot\"}},\"id\":\"bed08984-ebef-48d9-8fa1-104385337616\",\"type\":\"BoxZoomTool\"},{\"attributes\":{\"callback\":null,\"column_names\":[\"x_values\",\"y_values\"],\"data\":{\"chart_index\":[{\"series\":\"social+twlda10\"},{\"series\":\"social+twlda10\"},{\"series\":\"social+twlda10\"},{\"series\":\"social+twlda10\"},{\"series\":\"social+twlda10\"},{\"series\":\"social+twlda10\"},{\"series\":\"social+twlda10\"},{\"series\":\"social+twlda10\"},{\"series\":\"social+twlda10\"},{\"series\":\"social+twlda10\"},{\"series\":\"social+twlda10\"},{\"series\":\"social+twlda10\"},{\"series\":\"social+twlda10\"},{\"series\":\"social+twlda10\"},{\"series\":\"social+twlda10\"},{\"series\":\"social+twlda10\"},{\"series\":\"social+twlda10\"},{\"series\":\"social+twlda10\"},{\"series\":\"social+twlda10\"},{\"series\":\"social+twlda10\"},{\"series\":\"social+twlda10\"},{\"series\":\"social+twlda10\"},{\"series\":\"social+twlda10\"},{\"series\":\"social+twlda10\"},{\"series\":\"social+twlda10\"},{\"series\":\"social+twlda10\"},{\"series\":\"social+twlda10\"},{\"series\":\"social+twlda10\"},{\"series\":\"social+twlda10\"},{\"series\":\"social+twlda10\"},{\"series\":\"social+twlda10\"},{\"series\":\"social+twlda10\"},{\"series\":\"social+twlda10\"},{\"series\":\"social+twlda10\"},{\"series\":\"social+twlda10\"},{\"series\":\"social+twlda10\"},{\"series\":\"social+twlda10\"}],\"series\":[\"social+twlda10\",\"social+twlda10\",\"social+twlda10\",\"social+twlda10\",\"social+twlda10\",\"social+twlda10\",\"social+twlda10\",\"social+twlda10\",\"social+twlda10\",\"social+twlda10\",\"social+twlda10\",\"social+twlda10\",\"social+twlda10\",\"social+twlda10\",\"social+twlda10\",\"social+twlda10\",\"social+twlda10\",\"social+twlda10\",\"social+twlda10\",\"social+twlda10\",\"social+twlda10\",\"social+twlda10\",\"social+twlda10\",\"social+twlda10\",\"social+twlda10\",\"social+twlda10\",\"social+twlda10\",\"social+twlda10\",\"social+twlda10\",\"social+twlda10\",\"social+twlda10\",\"social+twlda10\",\"social+twlda10\",\"social+twlda10\",\"social+twlda10\",\"social+twlda10\",\"social+twlda10\"],\"x_values\":[0,1,2,3,4,5,6,7,8,9,10,11,12,13,14,15,16,17,18,19,20,21,22,23,24,25,26,27,28,29,30,31,32,33,34,35,36],\"y_values\":{\"__ndarray__\":\"9q4DujFP7z8Gnm7ND4vkP+lNb3rTm+Y/h7VvWPuG5T9y3Vq6/yToP+dqruZqruY/CtejcD0K5z9VVVVVVVXqP/IsI/qA6ug/oO3Znu3Z7j8P5on6N0LpP02Rz7rBFOk/lRt2sYhU6T+hyZcNmnzpPy+hvYT2Euo/4KXZd2n27T+OCOyDIQfqPymvobyG8uo/VDqyZyAq7T8lSZIkSZLsP95T6G3vzOo/K7tqosqu6j/ND4uUgafrP9KPfvSjH+0/xuHfvVlP5D/PusEU+azrP7u7u7u7u+s/TL7xQqSj6D8Pyv0WRKLrP1AglZyXRew/7L2RcIyV7D/iG1Fg0qnpPwAAAAAAAO4/wgsJQpXB7j8qkDxt+r7uP08TxUoVke8/J3ZiJ3Zi7z8=\",\"dtype\":\"float64\",\"shape\":[37]}}},\"id\":\"c20cc51c-29c4-49cb-85b5-d63761eb7330\",\"type\":\"ColumnDataSource\"},{\"attributes\":{\"label\":{\"value\":\"social\"},\"renderers\":[{\"id\":\"92371236-3011-42a2-a75a-811644b5edcd\",\"type\":\"GlyphRenderer\"}]},\"id\":\"9c776251-e6e5-4edb-aa3d-4dd52e35edb3\",\"type\":\"LegendItem\"},{\"attributes\":{\"line_color\":{\"value\":\"#f22c40\"},\"line_width\":{\"value\":2},\"x\":{\"field\":\"x_values\"},\"y\":{\"field\":\"y_values\"}},\"id\":\"3ce92064-b59a-45dc-8610-3586c8e52cb4\",\"type\":\"Line\"},{\"attributes\":{\"data_source\":{\"id\":\"c20cc51c-29c4-49cb-85b5-d63761eb7330\",\"type\":\"ColumnDataSource\"},\"glyph\":{\"id\":\"b3dd3179-b70e-4673-94e2-785ac359a0a6\",\"type\":\"Line\"},\"hover_glyph\":null,\"muted_glyph\":null},\"id\":\"e3ed496d-f3b7-4952-8008-b1f30825719a\",\"type\":\"GlyphRenderer\"},{\"attributes\":{\"plot\":{\"id\":\"fbd27f0c-5c70-44c2-b4a1-0c6fd17783f4\",\"subtype\":\"Chart\",\"type\":\"Plot\"}},\"id\":\"f54209da-d105-431d-a200-ea188d4e364a\",\"type\":\"WheelZoomTool\"},{\"attributes\":{\"plot\":{\"id\":\"fbd27f0c-5c70-44c2-b4a1-0c6fd17783f4\",\"subtype\":\"Chart\",\"type\":\"Plot\"}},\"id\":\"c8ab1365-7e25-41b8-987f-2eeb23146eee\",\"type\":\"PanTool\"},{\"attributes\":{\"below\":[{\"id\":\"b5bca9ab-959f-4f74-9bce-fc88b66c5e3a\",\"type\":\"LinearAxis\"}],\"css_classes\":null,\"left\":[{\"id\":\"2d175684-ec9f-4139-88f3-c6077ba6c900\",\"type\":\"LinearAxis\"}],\"renderers\":[{\"id\":\"ef9944eb-a543-4a51-84e1-a6b120bda3a4\",\"type\":\"BoxAnnotation\"},{\"id\":\"92371236-3011-42a2-a75a-811644b5edcd\",\"type\":\"GlyphRenderer\"},{\"id\":\"e3ed496d-f3b7-4952-8008-b1f30825719a\",\"type\":\"GlyphRenderer\"},{\"id\":\"6f2521a1-a97e-44c8-bdfa-aafc38e9843d\",\"type\":\"Legend\"},{\"id\":\"b5bca9ab-959f-4f74-9bce-fc88b66c5e3a\",\"type\":\"LinearAxis\"},{\"id\":\"2d175684-ec9f-4139-88f3-c6077ba6c900\",\"type\":\"LinearAxis\"},{\"id\":\"35ea1101-65db-43d5-a25a-b07a4a9f54e7\",\"type\":\"Grid\"},{\"id\":\"2ca61918-e9df-4396-9bdb-3dc3e424b78a\",\"type\":\"Grid\"}],\"title\":{\"id\":\"a93de13e-306e-4620-86f1-2cbbbff75350\",\"type\":\"Title\"},\"tool_events\":{\"id\":\"188463c4-fbf1-4a7f-9466-cf64395e0da2\",\"type\":\"ToolEvents\"},\"toolbar\":{\"id\":\"6939de58-9897-4fa8-855f-44d5af9ef2e4\",\"type\":\"Toolbar\"},\"x_mapper_type\":\"auto\",\"x_range\":{\"id\":\"c48fd76e-00ee-4eb2-b008-fe95b7ea0632\",\"type\":\"Range1d\"},\"y_mapper_type\":\"auto\",\"y_range\":{\"id\":\"069226f2-295d-41e9-b9e0-63dfdd520b08\",\"type\":\"Range1d\"}},\"id\":\"fbd27f0c-5c70-44c2-b4a1-0c6fd17783f4\",\"subtype\":\"Chart\",\"type\":\"Plot\"},{\"attributes\":{\"plot\":{\"id\":\"fbd27f0c-5c70-44c2-b4a1-0c6fd17783f4\",\"subtype\":\"Chart\",\"type\":\"Plot\"},\"ticker\":{\"id\":\"174bae35-8d1a-4244-8f51-6004c451f27c\",\"type\":\"BasicTicker\"}},\"id\":\"35ea1101-65db-43d5-a25a-b07a4a9f54e7\",\"type\":\"Grid\"},{\"attributes\":{\"items\":[{\"id\":\"1ed3c94d-7183-4f9f-94cc-15d175fbb1da\",\"type\":\"LegendItem\"},{\"id\":\"9c776251-e6e5-4edb-aa3d-4dd52e35edb3\",\"type\":\"LegendItem\"}],\"location\":\"top_left\",\"plot\":{\"id\":\"fbd27f0c-5c70-44c2-b4a1-0c6fd17783f4\",\"subtype\":\"Chart\",\"type\":\"Plot\"}},\"id\":\"6f2521a1-a97e-44c8-bdfa-aafc38e9843d\",\"type\":\"Legend\"}],\"root_ids\":[\"fbd27f0c-5c70-44c2-b4a1-0c6fd17783f4\"]},\"title\":\"Bokeh Application\",\"version\":\"0.12.5\"}};\n",
       "            var render_items = [{\"docid\":\"6dbf33a3-51b1-4810-849a-8473f9dd00a1\",\"elementid\":\"ad489e65-da2a-442b-9f7b-72b7b13b43d2\",\"modelid\":\"fbd27f0c-5c70-44c2-b4a1-0c6fd17783f4\"}];\n",
       "            \n",
       "            Bokeh.embed.embed_items(docs_json, render_items);\n",
       "          };\n",
       "          if (document.readyState != \"loading\") fn();\n",
       "          else document.addEventListener(\"DOMContentLoaded\", fn);\n",
       "        })();\n",
       "      },\n",
       "      function(Bokeh) {\n",
       "      }\n",
       "    ];\n",
       "  \n",
       "    function run_inline_js() {\n",
       "      \n",
       "      if ((window.Bokeh !== undefined) || (force === true)) {\n",
       "        for (var i = 0; i < inline_js.length; i++) {\n",
       "          inline_js[i](window.Bokeh);\n",
       "        }if (force === true) {\n",
       "          display_loaded();\n",
       "        }} else if (Date.now() < window._bokeh_timeout) {\n",
       "        setTimeout(run_inline_js, 100);\n",
       "      } else if (!window._bokeh_failed_load) {\n",
       "        console.log(\"Bokeh: BokehJS failed to load within specified timeout.\");\n",
       "        window._bokeh_failed_load = true;\n",
       "      } else if (force !== true) {\n",
       "        var cell = $(document.getElementById(\"ad489e65-da2a-442b-9f7b-72b7b13b43d2\")).parents('.cell').data().cell;\n",
       "        cell.output_area.append_execute_result(NB_LOAD_WARNING)\n",
       "      }\n",
       "  \n",
       "    }\n",
       "  \n",
       "    if (window._bokeh_is_loading === 0) {\n",
       "      console.log(\"Bokeh: BokehJS loaded, going straight to plotting\");\n",
       "      run_inline_js();\n",
       "    } else {\n",
       "      load_libs(js_urls, function() {\n",
       "        console.log(\"Bokeh: BokehJS plotting callback run at\", now());\n",
       "        run_inline_js();\n",
       "      });\n",
       "    }\n",
       "  }(this));\n",
       "</script>"
      ]
     },
     "metadata": {},
     "output_type": "display_data"
    }
   ],
   "source": [
    "with open('scores/twlda_by_timeline/tw_t%d_f1s_train_svc.json' % n_topics) as f:        \n",
    "    f1s_combined = json.load(f)\n",
    "\n",
    "f1s_social = json.load(open('../_1_one_user_learn_neighbours/scores/f1s_train_svc.json'))\n",
    "f1s_social = {u: f for u, f in f1s_social.items() if u in nlp_uids}\n",
    "\n",
    "sorted_uids = [u for u, f in sorted(f1s_social.items(), key=lambda x:x[1])]\n",
    "indices = range(len(sorted_uids))\n",
    "\n",
    "f1s_lda = np.array([f1s_combined[sorted_uids[i]] for i in indices])\n",
    "f1s_s = np.array([f1s_social[sorted_uids[i]] for i in indices])\n",
    "\n",
    "# build a dataset where multiple columns measure the same thing\n",
    "data = {\n",
    "    \"social\": f1s_s,\n",
    "    \"social+twlda%d\" % n_topics: f1s_lda\n",
    "}\n",
    "\n",
    "labels = ['social', 'social+twlda%d' % n_topics]\n",
    "\n",
    "# create a line chart where each column of measures receives a unique color and dash style\n",
    "line = Line(data, y=labels,\n",
    "            dash=labels,\n",
    "            color=labels,\n",
    "            legend_sort_field = 'color',\n",
    "            legend_sort_direction = 'descending',\n",
    "            xlabel='usuarios (ordenados por f1 del modelo social en datos de evaluación)',\n",
    "            ylabel='puntaje f1 sobre datos de evaluación', legend=True)\n",
    "\n",
    "show(line)"
   ]
  },
  {
   "cell_type": "code",
   "execution_count": 16,
   "metadata": {
    "collapsed": false
   },
   "outputs": [
    {
     "data": {
      "text/plain": [
       "21"
      ]
     },
     "execution_count": 16,
     "metadata": {},
     "output_type": "execute_result"
    }
   ],
   "source": [
    "sum(f1s_lda > f1s_s)"
   ]
  },
  {
   "cell_type": "code",
   "execution_count": 17,
   "metadata": {
    "collapsed": false
   },
   "outputs": [
    {
     "data": {
      "text/plain": [
       "0.8370656536584552"
      ]
     },
     "execution_count": 17,
     "metadata": {},
     "output_type": "execute_result"
    }
   ],
   "source": [
    "np.mean(f1s_lda)"
   ]
  },
  {
   "cell_type": "code",
   "execution_count": 18,
   "metadata": {
    "collapsed": false
   },
   "outputs": [
    {
     "data": {
      "text/plain": [
       "0.80278764744705877"
      ]
     },
     "execution_count": 18,
     "metadata": {},
     "output_type": "execute_result"
    }
   ],
   "source": [
    "np.mean(f1s_s)"
   ]
  }
 ],
 "metadata": {
  "kernelspec": {
   "display_name": "Python 2",
   "language": "python",
   "name": "python2"
  },
  "language_info": {
   "codemirror_mode": {
    "name": "ipython",
    "version": 2
   },
   "file_extension": ".py",
   "mimetype": "text/x-python",
   "name": "python",
   "nbconvert_exporter": "python",
   "pygments_lexer": "ipython2",
   "version": "2.7.11+"
  }
 },
 "nbformat": 4,
 "nbformat_minor": 2
}
