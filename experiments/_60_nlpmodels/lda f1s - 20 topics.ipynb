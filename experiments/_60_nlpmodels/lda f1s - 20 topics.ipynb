{
 "cells": [
  {
   "cell_type": "code",
   "execution_count": 14,
   "metadata": {
    "collapsed": false
   },
   "outputs": [],
   "source": [
    "from experiments._60_nlpmodels.fit_social_lda_models import *"
   ]
  },
  {
   "cell_type": "code",
   "execution_count": 15,
   "metadata": {
    "collapsed": true
   },
   "outputs": [],
   "source": [
    "n_topics = 20"
   ]
  },
  {
   "cell_type": "markdown",
   "metadata": {},
   "source": [
    "# Comparación sobre tuning set"
   ]
  },
  {
   "cell_type": "code",
   "execution_count": 16,
   "metadata": {
    "collapsed": false
   },
   "outputs": [
    {
     "data": {
      "text/html": [
       "\n",
       "    <div class=\"bk-root\">\n",
       "        <a href=\"http://bokeh.pydata.org\" target=\"_blank\" class=\"bk-logo bk-logo-small bk-logo-notebook\"></a>\n",
       "        <span id=\"1668ff41-d6dc-4b8f-9755-85bae733466d\">Loading BokehJS ...</span>\n",
       "    </div>"
      ]
     },
     "metadata": {},
     "output_type": "display_data"
    },
    {
     "data": {
      "application/javascript": [
       "\n",
       "(function(global) {\n",
       "  function now() {\n",
       "    return new Date();\n",
       "  }\n",
       "\n",
       "  var force = true;\n",
       "\n",
       "  if (typeof (window._bokeh_onload_callbacks) === \"undefined\" || force === true) {\n",
       "    window._bokeh_onload_callbacks = [];\n",
       "    window._bokeh_is_loading = undefined;\n",
       "  }\n",
       "\n",
       "\n",
       "  \n",
       "  if (typeof (window._bokeh_timeout) === \"undefined\" || force === true) {\n",
       "    window._bokeh_timeout = Date.now() + 5000;\n",
       "    window._bokeh_failed_load = false;\n",
       "  }\n",
       "\n",
       "  var NB_LOAD_WARNING = {'data': {'text/html':\n",
       "     \"<div style='background-color: #fdd'>\\n\"+\n",
       "     \"<p>\\n\"+\n",
       "     \"BokehJS does not appear to have successfully loaded. If loading BokehJS from CDN, this \\n\"+\n",
       "     \"may be due to a slow or bad network connection. Possible fixes:\\n\"+\n",
       "     \"</p>\\n\"+\n",
       "     \"<ul>\\n\"+\n",
       "     \"<li>re-rerun `output_notebook()` to attempt to load from CDN again, or</li>\\n\"+\n",
       "     \"<li>use INLINE resources instead, as so:</li>\\n\"+\n",
       "     \"</ul>\\n\"+\n",
       "     \"<code>\\n\"+\n",
       "     \"from bokeh.resources import INLINE\\n\"+\n",
       "     \"output_notebook(resources=INLINE)\\n\"+\n",
       "     \"</code>\\n\"+\n",
       "     \"</div>\"}};\n",
       "\n",
       "  function display_loaded() {\n",
       "    if (window.Bokeh !== undefined) {\n",
       "      var el = document.getElementById(\"1668ff41-d6dc-4b8f-9755-85bae733466d\");\n",
       "      el.textContent = \"BokehJS \" + Bokeh.version + \" successfully loaded.\";\n",
       "    } else if (Date.now() < window._bokeh_timeout) {\n",
       "      setTimeout(display_loaded, 100)\n",
       "    }\n",
       "  }\n",
       "\n",
       "  function run_callbacks() {\n",
       "    window._bokeh_onload_callbacks.forEach(function(callback) { callback() });\n",
       "    delete window._bokeh_onload_callbacks\n",
       "    console.info(\"Bokeh: all callbacks have finished\");\n",
       "  }\n",
       "\n",
       "  function load_libs(js_urls, callback) {\n",
       "    window._bokeh_onload_callbacks.push(callback);\n",
       "    if (window._bokeh_is_loading > 0) {\n",
       "      console.log(\"Bokeh: BokehJS is being loaded, scheduling callback at\", now());\n",
       "      return null;\n",
       "    }\n",
       "    if (js_urls == null || js_urls.length === 0) {\n",
       "      run_callbacks();\n",
       "      return null;\n",
       "    }\n",
       "    console.log(\"Bokeh: BokehJS not loaded, scheduling load and callback at\", now());\n",
       "    window._bokeh_is_loading = js_urls.length;\n",
       "    for (var i = 0; i < js_urls.length; i++) {\n",
       "      var url = js_urls[i];\n",
       "      var s = document.createElement('script');\n",
       "      s.src = url;\n",
       "      s.async = false;\n",
       "      s.onreadystatechange = s.onload = function() {\n",
       "        window._bokeh_is_loading--;\n",
       "        if (window._bokeh_is_loading === 0) {\n",
       "          console.log(\"Bokeh: all BokehJS libraries loaded\");\n",
       "          run_callbacks()\n",
       "        }\n",
       "      };\n",
       "      s.onerror = function() {\n",
       "        console.warn(\"failed to load library \" + url);\n",
       "      };\n",
       "      console.log(\"Bokeh: injecting script tag for BokehJS library: \", url);\n",
       "      document.getElementsByTagName(\"head\")[0].appendChild(s);\n",
       "    }\n",
       "  };var element = document.getElementById(\"1668ff41-d6dc-4b8f-9755-85bae733466d\");\n",
       "  if (element == null) {\n",
       "    console.log(\"Bokeh: ERROR: autoload.js configured with elementid '1668ff41-d6dc-4b8f-9755-85bae733466d' but no matching script tag was found. \")\n",
       "    return false;\n",
       "  }\n",
       "\n",
       "  var js_urls = [\"https://cdn.pydata.org/bokeh/release/bokeh-0.12.5.min.js\", \"https://cdn.pydata.org/bokeh/release/bokeh-widgets-0.12.5.min.js\"];\n",
       "\n",
       "  var inline_js = [\n",
       "    function(Bokeh) {\n",
       "      Bokeh.set_log_level(\"info\");\n",
       "    },\n",
       "    \n",
       "    function(Bokeh) {\n",
       "      \n",
       "    },\n",
       "    \n",
       "    function(Bokeh) {\n",
       "      \n",
       "      document.getElementById(\"1668ff41-d6dc-4b8f-9755-85bae733466d\").textContent = \"BokehJS is loading...\";\n",
       "    },\n",
       "    function(Bokeh) {\n",
       "      console.log(\"Bokeh: injecting CSS: https://cdn.pydata.org/bokeh/release/bokeh-0.12.5.min.css\");\n",
       "      Bokeh.embed.inject_css(\"https://cdn.pydata.org/bokeh/release/bokeh-0.12.5.min.css\");\n",
       "      console.log(\"Bokeh: injecting CSS: https://cdn.pydata.org/bokeh/release/bokeh-widgets-0.12.5.min.css\");\n",
       "      Bokeh.embed.inject_css(\"https://cdn.pydata.org/bokeh/release/bokeh-widgets-0.12.5.min.css\");\n",
       "    }\n",
       "  ];\n",
       "\n",
       "  function run_inline_js() {\n",
       "    \n",
       "    if ((window.Bokeh !== undefined) || (force === true)) {\n",
       "      for (var i = 0; i < inline_js.length; i++) {\n",
       "        inline_js[i](window.Bokeh);\n",
       "      }if (force === true) {\n",
       "        display_loaded();\n",
       "      }} else if (Date.now() < window._bokeh_timeout) {\n",
       "      setTimeout(run_inline_js, 100);\n",
       "    } else if (!window._bokeh_failed_load) {\n",
       "      console.log(\"Bokeh: BokehJS failed to load within specified timeout.\");\n",
       "      window._bokeh_failed_load = true;\n",
       "    } else if (force !== true) {\n",
       "      var cell = $(document.getElementById(\"1668ff41-d6dc-4b8f-9755-85bae733466d\")).parents('.cell').data().cell;\n",
       "      cell.output_area.append_execute_result(NB_LOAD_WARNING)\n",
       "    }\n",
       "\n",
       "  }\n",
       "\n",
       "  if (window._bokeh_is_loading === 0) {\n",
       "    console.log(\"Bokeh: BokehJS loaded, going straight to plotting\");\n",
       "    run_inline_js();\n",
       "  } else {\n",
       "    load_libs(js_urls, function() {\n",
       "      console.log(\"Bokeh: BokehJS plotting callback run at\", now());\n",
       "      run_inline_js();\n",
       "    });\n",
       "  }\n",
       "}(this));"
      ]
     },
     "metadata": {},
     "output_type": "display_data"
    }
   ],
   "source": [
    "from bokeh.charts import Line, show, output_notebook\n",
    "output_notebook()"
   ]
  },
  {
   "cell_type": "code",
   "execution_count": 17,
   "metadata": {
    "collapsed": false
   },
   "outputs": [],
   "source": [
    "nlp_uids = [u for u, f in load_nlp_selected_users()]"
   ]
  },
  {
   "cell_type": "code",
   "execution_count": 18,
   "metadata": {
    "collapsed": false
   },
   "outputs": [
    {
     "data": {
      "text/html": [
       "\n",
       "\n",
       "    <div class=\"bk-root\">\n",
       "        <div class=\"bk-plotdiv\" id=\"67c4c298-6e65-401c-a08a-1b0e2357558d\"></div>\n",
       "    </div>\n",
       "<script type=\"text/javascript\">\n",
       "  \n",
       "  (function(global) {\n",
       "    function now() {\n",
       "      return new Date();\n",
       "    }\n",
       "  \n",
       "    var force = false;\n",
       "  \n",
       "    if (typeof (window._bokeh_onload_callbacks) === \"undefined\" || force === true) {\n",
       "      window._bokeh_onload_callbacks = [];\n",
       "      window._bokeh_is_loading = undefined;\n",
       "    }\n",
       "  \n",
       "  \n",
       "    \n",
       "    if (typeof (window._bokeh_timeout) === \"undefined\" || force === true) {\n",
       "      window._bokeh_timeout = Date.now() + 0;\n",
       "      window._bokeh_failed_load = false;\n",
       "    }\n",
       "  \n",
       "    var NB_LOAD_WARNING = {'data': {'text/html':\n",
       "       \"<div style='background-color: #fdd'>\\n\"+\n",
       "       \"<p>\\n\"+\n",
       "       \"BokehJS does not appear to have successfully loaded. If loading BokehJS from CDN, this \\n\"+\n",
       "       \"may be due to a slow or bad network connection. Possible fixes:\\n\"+\n",
       "       \"</p>\\n\"+\n",
       "       \"<ul>\\n\"+\n",
       "       \"<li>re-rerun `output_notebook()` to attempt to load from CDN again, or</li>\\n\"+\n",
       "       \"<li>use INLINE resources instead, as so:</li>\\n\"+\n",
       "       \"</ul>\\n\"+\n",
       "       \"<code>\\n\"+\n",
       "       \"from bokeh.resources import INLINE\\n\"+\n",
       "       \"output_notebook(resources=INLINE)\\n\"+\n",
       "       \"</code>\\n\"+\n",
       "       \"</div>\"}};\n",
       "  \n",
       "    function display_loaded() {\n",
       "      if (window.Bokeh !== undefined) {\n",
       "        var el = document.getElementById(\"67c4c298-6e65-401c-a08a-1b0e2357558d\");\n",
       "        el.textContent = \"BokehJS \" + Bokeh.version + \" successfully loaded.\";\n",
       "      } else if (Date.now() < window._bokeh_timeout) {\n",
       "        setTimeout(display_loaded, 100)\n",
       "      }\n",
       "    }\n",
       "  \n",
       "    function run_callbacks() {\n",
       "      window._bokeh_onload_callbacks.forEach(function(callback) { callback() });\n",
       "      delete window._bokeh_onload_callbacks\n",
       "      console.info(\"Bokeh: all callbacks have finished\");\n",
       "    }\n",
       "  \n",
       "    function load_libs(js_urls, callback) {\n",
       "      window._bokeh_onload_callbacks.push(callback);\n",
       "      if (window._bokeh_is_loading > 0) {\n",
       "        console.log(\"Bokeh: BokehJS is being loaded, scheduling callback at\", now());\n",
       "        return null;\n",
       "      }\n",
       "      if (js_urls == null || js_urls.length === 0) {\n",
       "        run_callbacks();\n",
       "        return null;\n",
       "      }\n",
       "      console.log(\"Bokeh: BokehJS not loaded, scheduling load and callback at\", now());\n",
       "      window._bokeh_is_loading = js_urls.length;\n",
       "      for (var i = 0; i < js_urls.length; i++) {\n",
       "        var url = js_urls[i];\n",
       "        var s = document.createElement('script');\n",
       "        s.src = url;\n",
       "        s.async = false;\n",
       "        s.onreadystatechange = s.onload = function() {\n",
       "          window._bokeh_is_loading--;\n",
       "          if (window._bokeh_is_loading === 0) {\n",
       "            console.log(\"Bokeh: all BokehJS libraries loaded\");\n",
       "            run_callbacks()\n",
       "          }\n",
       "        };\n",
       "        s.onerror = function() {\n",
       "          console.warn(\"failed to load library \" + url);\n",
       "        };\n",
       "        console.log(\"Bokeh: injecting script tag for BokehJS library: \", url);\n",
       "        document.getElementsByTagName(\"head\")[0].appendChild(s);\n",
       "      }\n",
       "    };var element = document.getElementById(\"67c4c298-6e65-401c-a08a-1b0e2357558d\");\n",
       "    if (element == null) {\n",
       "      console.log(\"Bokeh: ERROR: autoload.js configured with elementid '67c4c298-6e65-401c-a08a-1b0e2357558d' but no matching script tag was found. \")\n",
       "      return false;\n",
       "    }\n",
       "  \n",
       "    var js_urls = [];\n",
       "  \n",
       "    var inline_js = [\n",
       "      function(Bokeh) {\n",
       "        (function() {\n",
       "          var fn = function() {\n",
       "            var docs_json = {\"b4549bf3-e31f-416b-b221-68be192bcfea\":{\"roots\":{\"references\":[{\"attributes\":{},\"id\":\"da3e93d8-768a-43fd-9927-67f8fe8368fc\",\"type\":\"BasicTickFormatter\"},{\"attributes\":{\"line_color\":{\"value\":\"#f22c40\"},\"line_width\":{\"value\":2},\"x\":{\"field\":\"x_values\"},\"y\":{\"field\":\"y_values\"}},\"id\":\"b7832644-94ce-4c7c-b324-ce8cf175aa38\",\"type\":\"Line\"},{\"attributes\":{\"plot\":{\"id\":\"0dc022d9-d8d9-4f62-8f38-3e68df4575cf\",\"subtype\":\"Chart\",\"type\":\"Plot\"}},\"id\":\"f7240ea9-a110-4513-8741-40b85ef68961\",\"type\":\"PanTool\"},{\"attributes\":{\"axis_label\":\"usuarios (ordenados por f1 del modelo social en datos de evaluaci\\u00f3n)\",\"formatter\":{\"id\":\"761f9b8d-8ee8-49b3-b504-b33b3104a9e5\",\"type\":\"BasicTickFormatter\"},\"plot\":{\"id\":\"0dc022d9-d8d9-4f62-8f38-3e68df4575cf\",\"subtype\":\"Chart\",\"type\":\"Plot\"},\"ticker\":{\"id\":\"a5a963f0-f62d-4c83-a521-998e9b8bcdd7\",\"type\":\"BasicTicker\"}},\"id\":\"292a1807-669b-4959-a83a-58ef7e1407cf\",\"type\":\"LinearAxis\"},{\"attributes\":{\"callback\":null,\"end\":1.0874262910238848,\"start\":-0.035308833164572055},\"id\":\"d46440cf-b627-46e4-b2fc-1bbdbb81ad73\",\"type\":\"Range1d\"},{\"attributes\":{\"callback\":null,\"column_names\":[\"x_values\",\"y_values\"],\"data\":{\"chart_index\":[{\"series\":\"social+lda20\"},{\"series\":\"social+lda20\"},{\"series\":\"social+lda20\"},{\"series\":\"social+lda20\"},{\"series\":\"social+lda20\"},{\"series\":\"social+lda20\"},{\"series\":\"social+lda20\"},{\"series\":\"social+lda20\"},{\"series\":\"social+lda20\"},{\"series\":\"social+lda20\"},{\"series\":\"social+lda20\"},{\"series\":\"social+lda20\"},{\"series\":\"social+lda20\"},{\"series\":\"social+lda20\"},{\"series\":\"social+lda20\"},{\"series\":\"social+lda20\"},{\"series\":\"social+lda20\"},{\"series\":\"social+lda20\"},{\"series\":\"social+lda20\"},{\"series\":\"social+lda20\"},{\"series\":\"social+lda20\"},{\"series\":\"social+lda20\"},{\"series\":\"social+lda20\"},{\"series\":\"social+lda20\"},{\"series\":\"social+lda20\"},{\"series\":\"social+lda20\"},{\"series\":\"social+lda20\"},{\"series\":\"social+lda20\"},{\"series\":\"social+lda20\"},{\"series\":\"social+lda20\"},{\"series\":\"social+lda20\"},{\"series\":\"social+lda20\"},{\"series\":\"social+lda20\"},{\"series\":\"social+lda20\"},{\"series\":\"social+lda20\"},{\"series\":\"social+lda20\"},{\"series\":\"social+lda20\"}],\"series\":[\"social+lda20\",\"social+lda20\",\"social+lda20\",\"social+lda20\",\"social+lda20\",\"social+lda20\",\"social+lda20\",\"social+lda20\",\"social+lda20\",\"social+lda20\",\"social+lda20\",\"social+lda20\",\"social+lda20\",\"social+lda20\",\"social+lda20\",\"social+lda20\",\"social+lda20\",\"social+lda20\",\"social+lda20\",\"social+lda20\",\"social+lda20\",\"social+lda20\",\"social+lda20\",\"social+lda20\",\"social+lda20\",\"social+lda20\",\"social+lda20\",\"social+lda20\",\"social+lda20\",\"social+lda20\",\"social+lda20\",\"social+lda20\",\"social+lda20\",\"social+lda20\",\"social+lda20\",\"social+lda20\",\"social+lda20\"],\"x_values\":[0,1,2,3,4,5,6,7,8,9,10,11,12,13,14,15,16,17,18,19,20,21,22,23,24,25,26,27,28,29,30,31,32,33,34,35,36],\"y_values\":{\"__ndarray__\":\"btu2bdu27T900UUXXXThP6uqqqqqquI/chzHcRzH4T/IU4I8JcjjPxEREREREeE/AAAAAAAA5D+Xx1YEDSflP0vUrkTtSuQ/HMdxHMdxzD9VVVVVVVXlP1VVVVVVVeU/2pWoXYna5T92Yid2YifmP6611lprreU/eQ3lNZTX4D9VVVVVVVXlP6WUUkoppeQ/0kUXXXTR5T9VVVVVVVXlP9PS0tLS0uI/chzHcRzH4T8lSZIkSZLkP/ntUk/Gb+c/AAAAAAAA5D/0BX1BX9DnP////////+c/lpaWlpaW5j/TjhUII+3oPzfZZJNNNuk/mZmZmZmZ6T++6U1vetPrPy7vgCNFQ+w/vulNb3rT6z97rGXogN3uP/jee++99+4/PF5sCb7N7z8=\",\"dtype\":\"float64\",\"shape\":[37]}}},\"id\":\"fbc7fea3-4dfa-41a9-b6e6-a172e3970acd\",\"type\":\"ColumnDataSource\"},{\"attributes\":{\"below\":[{\"id\":\"292a1807-669b-4959-a83a-58ef7e1407cf\",\"type\":\"LinearAxis\"}],\"css_classes\":null,\"left\":[{\"id\":\"f6068a55-c34e-48a7-a702-4727eb6133ef\",\"type\":\"LinearAxis\"}],\"renderers\":[{\"id\":\"1d5a27fb-a0e1-4861-bba2-07432b6af430\",\"type\":\"BoxAnnotation\"},{\"id\":\"6fb82d8e-a274-417b-9654-3c7bf15a875e\",\"type\":\"GlyphRenderer\"},{\"id\":\"17220a0e-fe92-4010-9b9f-537f5354a9ea\",\"type\":\"GlyphRenderer\"},{\"id\":\"6665ddde-81a9-4ebc-b023-e921beae8c8b\",\"type\":\"Legend\"},{\"id\":\"292a1807-669b-4959-a83a-58ef7e1407cf\",\"type\":\"LinearAxis\"},{\"id\":\"f6068a55-c34e-48a7-a702-4727eb6133ef\",\"type\":\"LinearAxis\"},{\"id\":\"65a79e7b-7e0b-41a3-aa6d-8e532c92d699\",\"type\":\"Grid\"},{\"id\":\"6ca41a29-c654-40b2-bdd2-8e2999626e90\",\"type\":\"Grid\"}],\"title\":{\"id\":\"e810cba4-1427-4308-a836-5d83a878c7b1\",\"type\":\"Title\"},\"tool_events\":{\"id\":\"1442c197-9438-458a-8856-f85c86b48238\",\"type\":\"ToolEvents\"},\"toolbar\":{\"id\":\"5b55b04f-d7d8-44b2-96a2-1c212061b5e8\",\"type\":\"Toolbar\"},\"x_mapper_type\":\"auto\",\"x_range\":{\"id\":\"818baf17-be4b-4e10-b87a-5d0f5837bfc5\",\"type\":\"Range1d\"},\"y_mapper_type\":\"auto\",\"y_range\":{\"id\":\"d46440cf-b627-46e4-b2fc-1bbdbb81ad73\",\"type\":\"Range1d\"}},\"id\":\"0dc022d9-d8d9-4f62-8f38-3e68df4575cf\",\"subtype\":\"Chart\",\"type\":\"Plot\"},{\"attributes\":{\"plot\":{\"id\":\"0dc022d9-d8d9-4f62-8f38-3e68df4575cf\",\"subtype\":\"Chart\",\"type\":\"Plot\"}},\"id\":\"871504ce-a681-44b3-9a83-c29becc1aa80\",\"type\":\"ResetTool\"},{\"attributes\":{\"data_source\":{\"id\":\"fbc7fea3-4dfa-41a9-b6e6-a172e3970acd\",\"type\":\"ColumnDataSource\"},\"glyph\":{\"id\":\"09bee37f-aed7-4e12-9ad7-f9ec37730489\",\"type\":\"Line\"},\"hover_glyph\":null,\"muted_glyph\":null},\"id\":\"17220a0e-fe92-4010-9b9f-537f5354a9ea\",\"type\":\"GlyphRenderer\"},{\"attributes\":{\"items\":[{\"id\":\"64647b98-b002-4d2d-ac78-50b6a49f2a34\",\"type\":\"LegendItem\"},{\"id\":\"5585e1ae-df09-4230-8482-911bcdad11ba\",\"type\":\"LegendItem\"}],\"location\":\"top_left\",\"plot\":{\"id\":\"0dc022d9-d8d9-4f62-8f38-3e68df4575cf\",\"subtype\":\"Chart\",\"type\":\"Plot\"}},\"id\":\"6665ddde-81a9-4ebc-b023-e921beae8c8b\",\"type\":\"Legend\"},{\"attributes\":{},\"id\":\"761f9b8d-8ee8-49b3-b504-b33b3104a9e5\",\"type\":\"BasicTickFormatter\"},{\"attributes\":{\"plot\":{\"id\":\"0dc022d9-d8d9-4f62-8f38-3e68df4575cf\",\"subtype\":\"Chart\",\"type\":\"Plot\"},\"ticker\":{\"id\":\"a5a963f0-f62d-4c83-a521-998e9b8bcdd7\",\"type\":\"BasicTicker\"}},\"id\":\"65a79e7b-7e0b-41a3-aa6d-8e532c92d699\",\"type\":\"Grid\"},{\"attributes\":{\"plot\":{\"id\":\"0dc022d9-d8d9-4f62-8f38-3e68df4575cf\",\"subtype\":\"Chart\",\"type\":\"Plot\"}},\"id\":\"e5464054-1b43-46a2-8fe6-587013354252\",\"type\":\"HelpTool\"},{\"attributes\":{\"active_drag\":\"auto\",\"active_scroll\":\"auto\",\"active_tap\":\"auto\",\"tools\":[{\"id\":\"f7240ea9-a110-4513-8741-40b85ef68961\",\"type\":\"PanTool\"},{\"id\":\"69746fb9-3466-4437-b0e2-bf6b24f44f5b\",\"type\":\"WheelZoomTool\"},{\"id\":\"6a2479d8-bc52-437c-9da6-a945d79b0e55\",\"type\":\"BoxZoomTool\"},{\"id\":\"4dbb821d-08c9-4156-9633-c11d752b36d6\",\"type\":\"SaveTool\"},{\"id\":\"871504ce-a681-44b3-9a83-c29becc1aa80\",\"type\":\"ResetTool\"},{\"id\":\"e5464054-1b43-46a2-8fe6-587013354252\",\"type\":\"HelpTool\"}]},\"id\":\"5b55b04f-d7d8-44b2-96a2-1c212061b5e8\",\"type\":\"Toolbar\"},{\"attributes\":{\"plot\":{\"id\":\"0dc022d9-d8d9-4f62-8f38-3e68df4575cf\",\"subtype\":\"Chart\",\"type\":\"Plot\"}},\"id\":\"69746fb9-3466-4437-b0e2-bf6b24f44f5b\",\"type\":\"WheelZoomTool\"},{\"attributes\":{\"label\":{\"value\":\"social+lda20\"},\"renderers\":[{\"id\":\"17220a0e-fe92-4010-9b9f-537f5354a9ea\",\"type\":\"GlyphRenderer\"}]},\"id\":\"64647b98-b002-4d2d-ac78-50b6a49f2a34\",\"type\":\"LegendItem\"},{\"attributes\":{\"line_color\":{\"value\":\"#5ab738\"},\"line_dash\":[6],\"line_width\":{\"value\":2},\"x\":{\"field\":\"x_values\"},\"y\":{\"field\":\"y_values\"}},\"id\":\"09bee37f-aed7-4e12-9ad7-f9ec37730489\",\"type\":\"Line\"},{\"attributes\":{},\"id\":\"d01df6ff-346d-46f5-a19f-56f41b40f104\",\"type\":\"BasicTicker\"},{\"attributes\":{},\"id\":\"a5a963f0-f62d-4c83-a521-998e9b8bcdd7\",\"type\":\"BasicTicker\"},{\"attributes\":{\"dimension\":1,\"plot\":{\"id\":\"0dc022d9-d8d9-4f62-8f38-3e68df4575cf\",\"subtype\":\"Chart\",\"type\":\"Plot\"},\"ticker\":{\"id\":\"d01df6ff-346d-46f5-a19f-56f41b40f104\",\"type\":\"BasicTicker\"}},\"id\":\"6ca41a29-c654-40b2-bdd2-8e2999626e90\",\"type\":\"Grid\"},{\"attributes\":{\"axis_label\":\"puntaje f1 sobre datos de evaluaci\\u00f3n\",\"formatter\":{\"id\":\"da3e93d8-768a-43fd-9927-67f8fe8368fc\",\"type\":\"BasicTickFormatter\"},\"plot\":{\"id\":\"0dc022d9-d8d9-4f62-8f38-3e68df4575cf\",\"subtype\":\"Chart\",\"type\":\"Plot\"},\"ticker\":{\"id\":\"d01df6ff-346d-46f5-a19f-56f41b40f104\",\"type\":\"BasicTicker\"}},\"id\":\"f6068a55-c34e-48a7-a702-4727eb6133ef\",\"type\":\"LinearAxis\"},{\"attributes\":{\"callback\":null,\"end\":39.6,\"start\":-3.6},\"id\":\"818baf17-be4b-4e10-b87a-5d0f5837bfc5\",\"type\":\"Range1d\"},{\"attributes\":{\"callback\":null,\"column_names\":[\"x_values\",\"y_values\"],\"data\":{\"chart_index\":[{\"series\":\"social\"},{\"series\":\"social\"},{\"series\":\"social\"},{\"series\":\"social\"},{\"series\":\"social\"},{\"series\":\"social\"},{\"series\":\"social\"},{\"series\":\"social\"},{\"series\":\"social\"},{\"series\":\"social\"},{\"series\":\"social\"},{\"series\":\"social\"},{\"series\":\"social\"},{\"series\":\"social\"},{\"series\":\"social\"},{\"series\":\"social\"},{\"series\":\"social\"},{\"series\":\"social\"},{\"series\":\"social\"},{\"series\":\"social\"},{\"series\":\"social\"},{\"series\":\"social\"},{\"series\":\"social\"},{\"series\":\"social\"},{\"series\":\"social\"},{\"series\":\"social\"},{\"series\":\"social\"},{\"series\":\"social\"},{\"series\":\"social\"},{\"series\":\"social\"},{\"series\":\"social\"},{\"series\":\"social\"},{\"series\":\"social\"},{\"series\":\"social\"},{\"series\":\"social\"},{\"series\":\"social\"},{\"series\":\"social\"}],\"series\":[\"social\",\"social\",\"social\",\"social\",\"social\",\"social\",\"social\",\"social\",\"social\",\"social\",\"social\",\"social\",\"social\",\"social\",\"social\",\"social\",\"social\",\"social\",\"social\",\"social\",\"social\",\"social\",\"social\",\"social\",\"social\",\"social\",\"social\",\"social\",\"social\",\"social\",\"social\",\"social\",\"social\",\"social\",\"social\",\"social\",\"social\"],\"x_values\":[0,1,2,3,4,5,6,7,8,9,10,11,12,13,14,15,16,17,18,19,20,21,22,23,24,25,26,27,28,29,30,31,32,33,34,35,36],\"y_values\":{\"__ndarray__\":\"g/1WG0PTrT900UUXXXThP6uqqqqqquI/09LS0tLS4j/IU4I8JcjjPwAAAAAAAOQ/AAAAAAAA5D9VVVVVVVXlP1VVVVVVVeU/VVVVVVVV5T9VVVVVVVXlP1VVVVVVVeU/2pWoXYna5T9lIQtZyELmP5dlWZZlWeY/Z2ZmZmZm5j9nZmZmZmbmP5eWlpaWluY/qqqqqqqq5j+qqqqqqqrmP7dt27Zt2+Y/l2/5lm/55j94d3d3d3fnP7169erVq+c/QnsJ7SW05z/0BX1BX9DnP////////+c/OY7jOI7j6D/TjhUII+3oP5uZmZmZmek/////////6j9yBTG5gpjsP6DcAcodoOw/ntiJndiJ7T97rGXogN3uP/jee++99+4/PF5sCb7N7z8=\",\"dtype\":\"float64\",\"shape\":[37]}}},\"id\":\"0ec6943c-ab39-4c4c-ae31-a5e2a0512978\",\"type\":\"ColumnDataSource\"},{\"attributes\":{\"label\":{\"value\":\"social\"},\"renderers\":[{\"id\":\"6fb82d8e-a274-417b-9654-3c7bf15a875e\",\"type\":\"GlyphRenderer\"}]},\"id\":\"5585e1ae-df09-4230-8482-911bcdad11ba\",\"type\":\"LegendItem\"},{\"attributes\":{\"bottom_units\":\"screen\",\"fill_alpha\":{\"value\":0.5},\"fill_color\":{\"value\":\"lightgrey\"},\"left_units\":\"screen\",\"level\":\"overlay\",\"line_alpha\":{\"value\":1.0},\"line_color\":{\"value\":\"black\"},\"line_dash\":[4,4],\"line_width\":{\"value\":2},\"plot\":null,\"render_mode\":\"css\",\"right_units\":\"screen\",\"top_units\":\"screen\"},\"id\":\"1d5a27fb-a0e1-4861-bba2-07432b6af430\",\"type\":\"BoxAnnotation\"},{\"attributes\":{\"data_source\":{\"id\":\"0ec6943c-ab39-4c4c-ae31-a5e2a0512978\",\"type\":\"ColumnDataSource\"},\"glyph\":{\"id\":\"b7832644-94ce-4c7c-b324-ce8cf175aa38\",\"type\":\"Line\"},\"hover_glyph\":null,\"muted_glyph\":null},\"id\":\"6fb82d8e-a274-417b-9654-3c7bf15a875e\",\"type\":\"GlyphRenderer\"},{\"attributes\":{},\"id\":\"1442c197-9438-458a-8856-f85c86b48238\",\"type\":\"ToolEvents\"},{\"attributes\":{\"plot\":null,\"text\":null},\"id\":\"e810cba4-1427-4308-a836-5d83a878c7b1\",\"type\":\"Title\"},{\"attributes\":{\"plot\":{\"id\":\"0dc022d9-d8d9-4f62-8f38-3e68df4575cf\",\"subtype\":\"Chart\",\"type\":\"Plot\"}},\"id\":\"4dbb821d-08c9-4156-9633-c11d752b36d6\",\"type\":\"SaveTool\"},{\"attributes\":{\"overlay\":{\"id\":\"1d5a27fb-a0e1-4861-bba2-07432b6af430\",\"type\":\"BoxAnnotation\"},\"plot\":{\"id\":\"0dc022d9-d8d9-4f62-8f38-3e68df4575cf\",\"subtype\":\"Chart\",\"type\":\"Plot\"}},\"id\":\"6a2479d8-bc52-437c-9da6-a945d79b0e55\",\"type\":\"BoxZoomTool\"}],\"root_ids\":[\"0dc022d9-d8d9-4f62-8f38-3e68df4575cf\"]},\"title\":\"Bokeh Application\",\"version\":\"0.12.5\"}};\n",
       "            var render_items = [{\"docid\":\"b4549bf3-e31f-416b-b221-68be192bcfea\",\"elementid\":\"67c4c298-6e65-401c-a08a-1b0e2357558d\",\"modelid\":\"0dc022d9-d8d9-4f62-8f38-3e68df4575cf\"}];\n",
       "            \n",
       "            Bokeh.embed.embed_items(docs_json, render_items);\n",
       "          };\n",
       "          if (document.readyState != \"loading\") fn();\n",
       "          else document.addEventListener(\"DOMContentLoaded\", fn);\n",
       "        })();\n",
       "      },\n",
       "      function(Bokeh) {\n",
       "      }\n",
       "    ];\n",
       "  \n",
       "    function run_inline_js() {\n",
       "      \n",
       "      if ((window.Bokeh !== undefined) || (force === true)) {\n",
       "        for (var i = 0; i < inline_js.length; i++) {\n",
       "          inline_js[i](window.Bokeh);\n",
       "        }if (force === true) {\n",
       "          display_loaded();\n",
       "        }} else if (Date.now() < window._bokeh_timeout) {\n",
       "        setTimeout(run_inline_js, 100);\n",
       "      } else if (!window._bokeh_failed_load) {\n",
       "        console.log(\"Bokeh: BokehJS failed to load within specified timeout.\");\n",
       "        window._bokeh_failed_load = true;\n",
       "      } else if (force !== true) {\n",
       "        var cell = $(document.getElementById(\"67c4c298-6e65-401c-a08a-1b0e2357558d\")).parents('.cell').data().cell;\n",
       "        cell.output_area.append_execute_result(NB_LOAD_WARNING)\n",
       "      }\n",
       "  \n",
       "    }\n",
       "  \n",
       "    if (window._bokeh_is_loading === 0) {\n",
       "      console.log(\"Bokeh: BokehJS loaded, going straight to plotting\");\n",
       "      run_inline_js();\n",
       "    } else {\n",
       "      load_libs(js_urls, function() {\n",
       "        console.log(\"Bokeh: BokehJS plotting callback run at\", now());\n",
       "        run_inline_js();\n",
       "      });\n",
       "    }\n",
       "  }(this));\n",
       "</script>"
      ]
     },
     "metadata": {},
     "output_type": "display_data"
    }
   ],
   "source": [
    "with open('scores/t%d_f1s_valid_svc.json' % n_topics) as f:\n",
    "    f1s_combined = json.load(f)\n",
    "\n",
    "f1s_social = json.load(open('../_1_one_user_learn_neighbours/scores/f1s_valid_svc.json'))\n",
    "f1s_social = {u: f for u, f in f1s_social.items() if u in nlp_uids}\n",
    "\n",
    "sorted_uids = [u for u, f in sorted(f1s_social.items(), key=lambda x:x[1])]\n",
    "indices = range(len(sorted_uids))\n",
    "\n",
    "f1s_lda = np.array([f1s_combined[sorted_uids[i]] for i in indices])\n",
    "f1s_s = np.array([f1s_social[sorted_uids[i]] for i in indices])\n",
    "\n",
    "# build a dataset where multiple columns measure the same thing\n",
    "data = {\n",
    "    \"social\": f1s_s,\n",
    "    \"social+lda%d\" % n_topics: f1s_lda\n",
    "}\n",
    "\n",
    "labels = ['social', 'social+lda%d' % n_topics]\n",
    "\n",
    "# create a line chart where each column of measures receives a unique color and dash style\n",
    "line = Line(data, y=labels,\n",
    "            dash=labels,\n",
    "            color=labels,\n",
    "            legend_sort_field = 'color',\n",
    "            legend_sort_direction = 'descending',\n",
    "            xlabel='usuarios (ordenados por f1 del modelo social en datos de evaluación)',\n",
    "            ylabel='puntaje f1 sobre datos de evaluación', legend=True)\n",
    "\n",
    "show(line)"
   ]
  },
  {
   "cell_type": "code",
   "execution_count": 19,
   "metadata": {
    "collapsed": false
   },
   "outputs": [
    {
     "data": {
      "text/plain": [
       "1"
      ]
     },
     "execution_count": 19,
     "metadata": {},
     "output_type": "execute_result"
    }
   ],
   "source": [
    "sum(f1s_lda > f1s_s)"
   ]
  },
  {
   "cell_type": "code",
   "execution_count": 20,
   "metadata": {
    "collapsed": false
   },
   "outputs": [
    {
     "data": {
      "text/plain": [
       "0.69564476576513012"
      ]
     },
     "execution_count": 20,
     "metadata": {},
     "output_type": "execute_result"
    }
   ],
   "source": [
    "np.mean(f1s_lda)"
   ]
  },
  {
   "cell_type": "code",
   "execution_count": 21,
   "metadata": {
    "collapsed": false
   },
   "outputs": [
    {
     "data": {
      "text/plain": [
       "0.71768682625332803"
      ]
     },
     "execution_count": 21,
     "metadata": {},
     "output_type": "execute_result"
    }
   ],
   "source": [
    "np.mean(f1s_s)"
   ]
  },
  {
   "cell_type": "markdown",
   "metadata": {},
   "source": [
    "# Comparación en test set"
   ]
  },
  {
   "cell_type": "code",
   "execution_count": 22,
   "metadata": {
    "collapsed": false
   },
   "outputs": [
    {
     "data": {
      "text/html": [
       "\n",
       "\n",
       "    <div class=\"bk-root\">\n",
       "        <div class=\"bk-plotdiv\" id=\"16a87853-37f0-4ad8-be6f-879e2cb3919a\"></div>\n",
       "    </div>\n",
       "<script type=\"text/javascript\">\n",
       "  \n",
       "  (function(global) {\n",
       "    function now() {\n",
       "      return new Date();\n",
       "    }\n",
       "  \n",
       "    var force = false;\n",
       "  \n",
       "    if (typeof (window._bokeh_onload_callbacks) === \"undefined\" || force === true) {\n",
       "      window._bokeh_onload_callbacks = [];\n",
       "      window._bokeh_is_loading = undefined;\n",
       "    }\n",
       "  \n",
       "  \n",
       "    \n",
       "    if (typeof (window._bokeh_timeout) === \"undefined\" || force === true) {\n",
       "      window._bokeh_timeout = Date.now() + 0;\n",
       "      window._bokeh_failed_load = false;\n",
       "    }\n",
       "  \n",
       "    var NB_LOAD_WARNING = {'data': {'text/html':\n",
       "       \"<div style='background-color: #fdd'>\\n\"+\n",
       "       \"<p>\\n\"+\n",
       "       \"BokehJS does not appear to have successfully loaded. If loading BokehJS from CDN, this \\n\"+\n",
       "       \"may be due to a slow or bad network connection. Possible fixes:\\n\"+\n",
       "       \"</p>\\n\"+\n",
       "       \"<ul>\\n\"+\n",
       "       \"<li>re-rerun `output_notebook()` to attempt to load from CDN again, or</li>\\n\"+\n",
       "       \"<li>use INLINE resources instead, as so:</li>\\n\"+\n",
       "       \"</ul>\\n\"+\n",
       "       \"<code>\\n\"+\n",
       "       \"from bokeh.resources import INLINE\\n\"+\n",
       "       \"output_notebook(resources=INLINE)\\n\"+\n",
       "       \"</code>\\n\"+\n",
       "       \"</div>\"}};\n",
       "  \n",
       "    function display_loaded() {\n",
       "      if (window.Bokeh !== undefined) {\n",
       "        var el = document.getElementById(\"16a87853-37f0-4ad8-be6f-879e2cb3919a\");\n",
       "        el.textContent = \"BokehJS \" + Bokeh.version + \" successfully loaded.\";\n",
       "      } else if (Date.now() < window._bokeh_timeout) {\n",
       "        setTimeout(display_loaded, 100)\n",
       "      }\n",
       "    }\n",
       "  \n",
       "    function run_callbacks() {\n",
       "      window._bokeh_onload_callbacks.forEach(function(callback) { callback() });\n",
       "      delete window._bokeh_onload_callbacks\n",
       "      console.info(\"Bokeh: all callbacks have finished\");\n",
       "    }\n",
       "  \n",
       "    function load_libs(js_urls, callback) {\n",
       "      window._bokeh_onload_callbacks.push(callback);\n",
       "      if (window._bokeh_is_loading > 0) {\n",
       "        console.log(\"Bokeh: BokehJS is being loaded, scheduling callback at\", now());\n",
       "        return null;\n",
       "      }\n",
       "      if (js_urls == null || js_urls.length === 0) {\n",
       "        run_callbacks();\n",
       "        return null;\n",
       "      }\n",
       "      console.log(\"Bokeh: BokehJS not loaded, scheduling load and callback at\", now());\n",
       "      window._bokeh_is_loading = js_urls.length;\n",
       "      for (var i = 0; i < js_urls.length; i++) {\n",
       "        var url = js_urls[i];\n",
       "        var s = document.createElement('script');\n",
       "        s.src = url;\n",
       "        s.async = false;\n",
       "        s.onreadystatechange = s.onload = function() {\n",
       "          window._bokeh_is_loading--;\n",
       "          if (window._bokeh_is_loading === 0) {\n",
       "            console.log(\"Bokeh: all BokehJS libraries loaded\");\n",
       "            run_callbacks()\n",
       "          }\n",
       "        };\n",
       "        s.onerror = function() {\n",
       "          console.warn(\"failed to load library \" + url);\n",
       "        };\n",
       "        console.log(\"Bokeh: injecting script tag for BokehJS library: \", url);\n",
       "        document.getElementsByTagName(\"head\")[0].appendChild(s);\n",
       "      }\n",
       "    };var element = document.getElementById(\"16a87853-37f0-4ad8-be6f-879e2cb3919a\");\n",
       "    if (element == null) {\n",
       "      console.log(\"Bokeh: ERROR: autoload.js configured with elementid '16a87853-37f0-4ad8-be6f-879e2cb3919a' but no matching script tag was found. \")\n",
       "      return false;\n",
       "    }\n",
       "  \n",
       "    var js_urls = [];\n",
       "  \n",
       "    var inline_js = [\n",
       "      function(Bokeh) {\n",
       "        (function() {\n",
       "          var fn = function() {\n",
       "            var docs_json = {\"8cbad9a6-8ccd-4e79-b370-27fc8cb8bba1\":{\"roots\":{\"references\":[{\"attributes\":{},\"id\":\"ff63a5b0-406f-4e3e-8f65-6b1d7847ff8c\",\"type\":\"BasicTicker\"},{\"attributes\":{\"plot\":{\"id\":\"cbfffe44-85dd-412a-9ae9-eb55101afdb6\",\"subtype\":\"Chart\",\"type\":\"Plot\"},\"ticker\":{\"id\":\"ff63a5b0-406f-4e3e-8f65-6b1d7847ff8c\",\"type\":\"BasicTicker\"}},\"id\":\"1cf237c3-6c30-4428-9555-0ec94fe46083\",\"type\":\"Grid\"},{\"attributes\":{\"data_source\":{\"id\":\"dd9ee11e-6390-4c65-bcdb-18354b4aa5b8\",\"type\":\"ColumnDataSource\"},\"glyph\":{\"id\":\"9ae50dae-9e20-453d-a87e-4108f1bdfb83\",\"type\":\"Line\"},\"hover_glyph\":null,\"muted_glyph\":null},\"id\":\"95cfa2fa-be77-467a-8820-98664d1ed5cf\",\"type\":\"GlyphRenderer\"},{\"attributes\":{\"active_drag\":\"auto\",\"active_scroll\":\"auto\",\"active_tap\":\"auto\",\"tools\":[{\"id\":\"ee2a05f8-3eac-47e4-ab2b-a2b3a3819dc1\",\"type\":\"PanTool\"},{\"id\":\"3960f3f4-f6d1-45f4-82dd-7c53d0b2dc29\",\"type\":\"WheelZoomTool\"},{\"id\":\"ea8c9d52-b517-46f4-9211-2d8a90843b03\",\"type\":\"BoxZoomTool\"},{\"id\":\"0d4eb650-73dd-4eb6-88f0-97d94886bd1f\",\"type\":\"SaveTool\"},{\"id\":\"918daa10-92ba-4cbe-9c79-476139d6e3d2\",\"type\":\"ResetTool\"},{\"id\":\"279043f2-bc63-4e0a-8db8-b070057b10d6\",\"type\":\"HelpTool\"}]},\"id\":\"3a798551-e492-448b-b31e-4959ece8ed3b\",\"type\":\"Toolbar\"},{\"attributes\":{\"overlay\":{\"id\":\"2c999d51-686f-49c2-9200-839f529ec607\",\"type\":\"BoxAnnotation\"},\"plot\":{\"id\":\"cbfffe44-85dd-412a-9ae9-eb55101afdb6\",\"subtype\":\"Chart\",\"type\":\"Plot\"}},\"id\":\"ea8c9d52-b517-46f4-9211-2d8a90843b03\",\"type\":\"BoxZoomTool\"},{\"attributes\":{\"plot\":{\"id\":\"cbfffe44-85dd-412a-9ae9-eb55101afdb6\",\"subtype\":\"Chart\",\"type\":\"Plot\"}},\"id\":\"918daa10-92ba-4cbe-9c79-476139d6e3d2\",\"type\":\"ResetTool\"},{\"attributes\":{\"below\":[{\"id\":\"7317ba34-c586-414a-805a-eb69278b7b6e\",\"type\":\"LinearAxis\"}],\"css_classes\":null,\"left\":[{\"id\":\"2047b368-488f-4d14-9bf8-7417d3a20d35\",\"type\":\"LinearAxis\"}],\"renderers\":[{\"id\":\"2c999d51-686f-49c2-9200-839f529ec607\",\"type\":\"BoxAnnotation\"},{\"id\":\"bdd73fe6-fd81-48d2-b47f-8ab5f8715c04\",\"type\":\"GlyphRenderer\"},{\"id\":\"95cfa2fa-be77-467a-8820-98664d1ed5cf\",\"type\":\"GlyphRenderer\"},{\"id\":\"62b4390c-dd3d-4422-b2a5-aef649fcb977\",\"type\":\"Legend\"},{\"id\":\"7317ba34-c586-414a-805a-eb69278b7b6e\",\"type\":\"LinearAxis\"},{\"id\":\"2047b368-488f-4d14-9bf8-7417d3a20d35\",\"type\":\"LinearAxis\"},{\"id\":\"1cf237c3-6c30-4428-9555-0ec94fe46083\",\"type\":\"Grid\"},{\"id\":\"6fdd0db4-253f-4018-b4b2-a29ab130beba\",\"type\":\"Grid\"}],\"title\":{\"id\":\"d6bf92d2-0f42-4446-9813-7e1443a383ab\",\"type\":\"Title\"},\"tool_events\":{\"id\":\"74798ffb-6bee-4de4-814d-741f541c5239\",\"type\":\"ToolEvents\"},\"toolbar\":{\"id\":\"3a798551-e492-448b-b31e-4959ece8ed3b\",\"type\":\"Toolbar\"},\"x_mapper_type\":\"auto\",\"x_range\":{\"id\":\"b26e128e-f1f5-4a4c-b53b-5082fde2c097\",\"type\":\"Range1d\"},\"y_mapper_type\":\"auto\",\"y_range\":{\"id\":\"4750d1a3-2316-4bed-89f6-972a4598da41\",\"type\":\"Range1d\"}},\"id\":\"cbfffe44-85dd-412a-9ae9-eb55101afdb6\",\"subtype\":\"Chart\",\"type\":\"Plot\"},{\"attributes\":{\"plot\":null,\"text\":null},\"id\":\"d6bf92d2-0f42-4446-9813-7e1443a383ab\",\"type\":\"Title\"},{\"attributes\":{\"plot\":{\"id\":\"cbfffe44-85dd-412a-9ae9-eb55101afdb6\",\"subtype\":\"Chart\",\"type\":\"Plot\"}},\"id\":\"0d4eb650-73dd-4eb6-88f0-97d94886bd1f\",\"type\":\"SaveTool\"},{\"attributes\":{\"callback\":null,\"column_names\":[\"x_values\",\"y_values\"],\"data\":{\"chart_index\":[{\"series\":\"social\"},{\"series\":\"social\"},{\"series\":\"social\"},{\"series\":\"social\"},{\"series\":\"social\"},{\"series\":\"social\"},{\"series\":\"social\"},{\"series\":\"social\"},{\"series\":\"social\"},{\"series\":\"social\"},{\"series\":\"social\"},{\"series\":\"social\"},{\"series\":\"social\"},{\"series\":\"social\"},{\"series\":\"social\"},{\"series\":\"social\"},{\"series\":\"social\"},{\"series\":\"social\"},{\"series\":\"social\"},{\"series\":\"social\"},{\"series\":\"social\"},{\"series\":\"social\"},{\"series\":\"social\"},{\"series\":\"social\"},{\"series\":\"social\"},{\"series\":\"social\"},{\"series\":\"social\"},{\"series\":\"social\"},{\"series\":\"social\"},{\"series\":\"social\"},{\"series\":\"social\"},{\"series\":\"social\"},{\"series\":\"social\"},{\"series\":\"social\"},{\"series\":\"social\"},{\"series\":\"social\"},{\"series\":\"social\"}],\"series\":[\"social\",\"social\",\"social\",\"social\",\"social\",\"social\",\"social\",\"social\",\"social\",\"social\",\"social\",\"social\",\"social\",\"social\",\"social\",\"social\",\"social\",\"social\",\"social\",\"social\",\"social\",\"social\",\"social\",\"social\",\"social\",\"social\",\"social\",\"social\",\"social\",\"social\",\"social\",\"social\",\"social\",\"social\",\"social\",\"social\",\"social\"],\"x_values\":[0,1,2,3,4,5,6,7,8,9,10,11,12,13,14,15,16,17,18,19,20,21,22,23,24,25,26,27,28,29,30,31,32,33,34,35,36],\"y_values\":{\"__ndarray__\":\"ZRbup3lrsD900UUXXXThP8/KT4iz8uM/HMdxHMdx5D86u4VfjYnkP9JFF1100eU/AQAAAAAA5j9lIQtZyELmP2UhC1nIQuY/ymsor6G85j/HcRzHcRznPzMzMzMzM+c/Nzc3Nzc35z9GF1100UXnP/QFfUFf0Oc/94DZA2YP6D/NH2w8mj/oP9mJndiJneg/NNaHxvrQ6D+1l9BeQnvpPyOfdYMp8uk/sKG8hvIa6j9aWlpaWlrqP6qqqqqqquo/YGdXe2oQ6z/H+tBYHxrrPyabbLLJJus/bdR3Nuo76z/btm3btm3rP9u2bdu2bes/HLmRG7mR6z8fwX0E9xHsP+zETuzETuw/1AjLPY2w7D9ot/CrMZHuP8dxHMdxHO8/3/It3/It7z8=\",\"dtype\":\"float64\",\"shape\":[37]}}},\"id\":\"8c8b77ef-0ded-424b-81d0-2b6a9b1194ce\",\"type\":\"ColumnDataSource\"},{\"attributes\":{\"axis_label\":\"usuarios (ordenados por f1 del modelo social en datos de evaluaci\\u00f3n)\",\"formatter\":{\"id\":\"a1032c01-77fe-4f43-bc2e-217836f7ccee\",\"type\":\"BasicTickFormatter\"},\"plot\":{\"id\":\"cbfffe44-85dd-412a-9ae9-eb55101afdb6\",\"subtype\":\"Chart\",\"type\":\"Plot\"},\"ticker\":{\"id\":\"ff63a5b0-406f-4e3e-8f65-6b1d7847ff8c\",\"type\":\"BasicTicker\"}},\"id\":\"7317ba34-c586-414a-805a-eb69278b7b6e\",\"type\":\"LinearAxis\"},{\"attributes\":{\"data_source\":{\"id\":\"8c8b77ef-0ded-424b-81d0-2b6a9b1194ce\",\"type\":\"ColumnDataSource\"},\"glyph\":{\"id\":\"698df9ae-4553-45fc-94d8-dfc11876da5d\",\"type\":\"Line\"},\"hover_glyph\":null,\"muted_glyph\":null},\"id\":\"bdd73fe6-fd81-48d2-b47f-8ab5f8715c04\",\"type\":\"GlyphRenderer\"},{\"attributes\":{\"plot\":{\"id\":\"cbfffe44-85dd-412a-9ae9-eb55101afdb6\",\"subtype\":\"Chart\",\"type\":\"Plot\"}},\"id\":\"3960f3f4-f6d1-45f4-82dd-7c53d0b2dc29\",\"type\":\"WheelZoomTool\"},{\"attributes\":{\"label\":{\"value\":\"social+lda20\"},\"renderers\":[{\"id\":\"95cfa2fa-be77-467a-8820-98664d1ed5cf\",\"type\":\"GlyphRenderer\"}]},\"id\":\"452b18ba-d672-4f13-bcb8-4ca9f6eb88b0\",\"type\":\"LegendItem\"},{\"attributes\":{\"items\":[{\"id\":\"452b18ba-d672-4f13-bcb8-4ca9f6eb88b0\",\"type\":\"LegendItem\"},{\"id\":\"3dc23891-0f73-4171-9d8a-ec1fd97e5114\",\"type\":\"LegendItem\"}],\"location\":\"top_left\",\"plot\":{\"id\":\"cbfffe44-85dd-412a-9ae9-eb55101afdb6\",\"subtype\":\"Chart\",\"type\":\"Plot\"}},\"id\":\"62b4390c-dd3d-4422-b2a5-aef649fcb977\",\"type\":\"Legend\"},{\"attributes\":{\"line_color\":{\"value\":\"#f22c40\"},\"line_width\":{\"value\":2},\"x\":{\"field\":\"x_values\"},\"y\":{\"field\":\"y_values\"}},\"id\":\"698df9ae-4553-45fc-94d8-dfc11876da5d\",\"type\":\"Line\"},{\"attributes\":{\"dimension\":1,\"plot\":{\"id\":\"cbfffe44-85dd-412a-9ae9-eb55101afdb6\",\"subtype\":\"Chart\",\"type\":\"Plot\"},\"ticker\":{\"id\":\"cd38ce4a-275c-4502-bdcc-75bbf7ae5083\",\"type\":\"BasicTicker\"}},\"id\":\"6fdd0db4-253f-4018-b4b2-a29ab130beba\",\"type\":\"Grid\"},{\"attributes\":{\"callback\":null,\"end\":39.6,\"start\":-3.6},\"id\":\"b26e128e-f1f5-4a4c-b53b-5082fde2c097\",\"type\":\"Range1d\"},{\"attributes\":{\"plot\":{\"id\":\"cbfffe44-85dd-412a-9ae9-eb55101afdb6\",\"subtype\":\"Chart\",\"type\":\"Plot\"}},\"id\":\"ee2a05f8-3eac-47e4-ab2b-a2b3a3819dc1\",\"type\":\"PanTool\"},{\"attributes\":{\"label\":{\"value\":\"social\"},\"renderers\":[{\"id\":\"bdd73fe6-fd81-48d2-b47f-8ab5f8715c04\",\"type\":\"GlyphRenderer\"}]},\"id\":\"3dc23891-0f73-4171-9d8a-ec1fd97e5114\",\"type\":\"LegendItem\"},{\"attributes\":{\"line_color\":{\"value\":\"#5ab738\"},\"line_dash\":[6],\"line_width\":{\"value\":2},\"x\":{\"field\":\"x_values\"},\"y\":{\"field\":\"y_values\"}},\"id\":\"9ae50dae-9e20-453d-a87e-4108f1bdfb83\",\"type\":\"Line\"},{\"attributes\":{\"callback\":null,\"column_names\":[\"x_values\",\"y_values\"],\"data\":{\"chart_index\":[{\"series\":\"social+lda20\"},{\"series\":\"social+lda20\"},{\"series\":\"social+lda20\"},{\"series\":\"social+lda20\"},{\"series\":\"social+lda20\"},{\"series\":\"social+lda20\"},{\"series\":\"social+lda20\"},{\"series\":\"social+lda20\"},{\"series\":\"social+lda20\"},{\"series\":\"social+lda20\"},{\"series\":\"social+lda20\"},{\"series\":\"social+lda20\"},{\"series\":\"social+lda20\"},{\"series\":\"social+lda20\"},{\"series\":\"social+lda20\"},{\"series\":\"social+lda20\"},{\"series\":\"social+lda20\"},{\"series\":\"social+lda20\"},{\"series\":\"social+lda20\"},{\"series\":\"social+lda20\"},{\"series\":\"social+lda20\"},{\"series\":\"social+lda20\"},{\"series\":\"social+lda20\"},{\"series\":\"social+lda20\"},{\"series\":\"social+lda20\"},{\"series\":\"social+lda20\"},{\"series\":\"social+lda20\"},{\"series\":\"social+lda20\"},{\"series\":\"social+lda20\"},{\"series\":\"social+lda20\"},{\"series\":\"social+lda20\"},{\"series\":\"social+lda20\"},{\"series\":\"social+lda20\"},{\"series\":\"social+lda20\"},{\"series\":\"social+lda20\"},{\"series\":\"social+lda20\"},{\"series\":\"social+lda20\"}],\"series\":[\"social+lda20\",\"social+lda20\",\"social+lda20\",\"social+lda20\",\"social+lda20\",\"social+lda20\",\"social+lda20\",\"social+lda20\",\"social+lda20\",\"social+lda20\",\"social+lda20\",\"social+lda20\",\"social+lda20\",\"social+lda20\",\"social+lda20\",\"social+lda20\",\"social+lda20\",\"social+lda20\",\"social+lda20\",\"social+lda20\",\"social+lda20\",\"social+lda20\",\"social+lda20\",\"social+lda20\",\"social+lda20\",\"social+lda20\",\"social+lda20\",\"social+lda20\",\"social+lda20\",\"social+lda20\",\"social+lda20\",\"social+lda20\",\"social+lda20\",\"social+lda20\",\"social+lda20\",\"social+lda20\",\"social+lda20\"],\"x_values\":[0,1,2,3,4,5,6,7,8,9,10,11,12,13,14,15,16,17,18,19,20,21,22,23,24,25,26,27,28,29,30,31,32,33,34,35,36],\"y_values\":{\"__ndarray__\":\"0UUXXXTR5T9KkKcEeUrgP2cgKh3ZM+A/0+8UEmGC4z9lKp5rVofhPw0ndV8eW+E/GIZhGIZh2D9aWlpaWlraP3kN5TWU1+A/AAAAAAAA4D9fQ3kN5TXkP01talOb2uQ/FBQUFBQU5D8zMzMzMzPjP5IkSZIkSeI/QKPEzyjx4z+i32wd+s3mP8dxHMdxHOc/TgJxoeYk4D/KoUW28/3kP5IkSZIkSeI/AAAAAAAA4j+2bdu2bdvmP/GrMZEeqNw/kAmScHFn6j/ZiZ3YiZ3oPxdswRZsweY/TyMs9zTC4j8b1r5h7RvmPxzWvmHtG+Y/NXV+7SGX5T8AAAAAAADgP+Q4juM4juM/lmVZlmVZ5j9rlhifMu3sP+3T9en6dO0/NNaHxvrQ6D8=\",\"dtype\":\"float64\",\"shape\":[37]}}},\"id\":\"dd9ee11e-6390-4c65-bcdb-18354b4aa5b8\",\"type\":\"ColumnDataSource\"},{\"attributes\":{},\"id\":\"a1032c01-77fe-4f43-bc2e-217836f7ccee\",\"type\":\"BasicTickFormatter\"},{\"attributes\":{\"plot\":{\"id\":\"cbfffe44-85dd-412a-9ae9-eb55101afdb6\",\"subtype\":\"Chart\",\"type\":\"Plot\"}},\"id\":\"279043f2-bc63-4e0a-8db8-b070057b10d6\",\"type\":\"HelpTool\"},{\"attributes\":{},\"id\":\"9f8c42a7-575d-4f23-ae7d-bb48309fe876\",\"type\":\"BasicTickFormatter\"},{\"attributes\":{},\"id\":\"74798ffb-6bee-4de4-814d-741f541c5239\",\"type\":\"ToolEvents\"},{\"attributes\":{\"callback\":null,\"end\":1.0653808776257756,\"start\":-0.02688196157583911},\"id\":\"4750d1a3-2316-4bed-89f6-972a4598da41\",\"type\":\"Range1d\"},{\"attributes\":{\"bottom_units\":\"screen\",\"fill_alpha\":{\"value\":0.5},\"fill_color\":{\"value\":\"lightgrey\"},\"left_units\":\"screen\",\"level\":\"overlay\",\"line_alpha\":{\"value\":1.0},\"line_color\":{\"value\":\"black\"},\"line_dash\":[4,4],\"line_width\":{\"value\":2},\"plot\":null,\"render_mode\":\"css\",\"right_units\":\"screen\",\"top_units\":\"screen\"},\"id\":\"2c999d51-686f-49c2-9200-839f529ec607\",\"type\":\"BoxAnnotation\"},{\"attributes\":{},\"id\":\"cd38ce4a-275c-4502-bdcc-75bbf7ae5083\",\"type\":\"BasicTicker\"},{\"attributes\":{\"axis_label\":\"puntaje f1 sobre datos de evaluaci\\u00f3n\",\"formatter\":{\"id\":\"9f8c42a7-575d-4f23-ae7d-bb48309fe876\",\"type\":\"BasicTickFormatter\"},\"plot\":{\"id\":\"cbfffe44-85dd-412a-9ae9-eb55101afdb6\",\"subtype\":\"Chart\",\"type\":\"Plot\"},\"ticker\":{\"id\":\"cd38ce4a-275c-4502-bdcc-75bbf7ae5083\",\"type\":\"BasicTicker\"}},\"id\":\"2047b368-488f-4d14-9bf8-7417d3a20d35\",\"type\":\"LinearAxis\"}],\"root_ids\":[\"cbfffe44-85dd-412a-9ae9-eb55101afdb6\"]},\"title\":\"Bokeh Application\",\"version\":\"0.12.5\"}};\n",
       "            var render_items = [{\"docid\":\"8cbad9a6-8ccd-4e79-b370-27fc8cb8bba1\",\"elementid\":\"16a87853-37f0-4ad8-be6f-879e2cb3919a\",\"modelid\":\"cbfffe44-85dd-412a-9ae9-eb55101afdb6\"}];\n",
       "            \n",
       "            Bokeh.embed.embed_items(docs_json, render_items);\n",
       "          };\n",
       "          if (document.readyState != \"loading\") fn();\n",
       "          else document.addEventListener(\"DOMContentLoaded\", fn);\n",
       "        })();\n",
       "      },\n",
       "      function(Bokeh) {\n",
       "      }\n",
       "    ];\n",
       "  \n",
       "    function run_inline_js() {\n",
       "      \n",
       "      if ((window.Bokeh !== undefined) || (force === true)) {\n",
       "        for (var i = 0; i < inline_js.length; i++) {\n",
       "          inline_js[i](window.Bokeh);\n",
       "        }if (force === true) {\n",
       "          display_loaded();\n",
       "        }} else if (Date.now() < window._bokeh_timeout) {\n",
       "        setTimeout(run_inline_js, 100);\n",
       "      } else if (!window._bokeh_failed_load) {\n",
       "        console.log(\"Bokeh: BokehJS failed to load within specified timeout.\");\n",
       "        window._bokeh_failed_load = true;\n",
       "      } else if (force !== true) {\n",
       "        var cell = $(document.getElementById(\"16a87853-37f0-4ad8-be6f-879e2cb3919a\")).parents('.cell').data().cell;\n",
       "        cell.output_area.append_execute_result(NB_LOAD_WARNING)\n",
       "      }\n",
       "  \n",
       "    }\n",
       "  \n",
       "    if (window._bokeh_is_loading === 0) {\n",
       "      console.log(\"Bokeh: BokehJS loaded, going straight to plotting\");\n",
       "      run_inline_js();\n",
       "    } else {\n",
       "      load_libs(js_urls, function() {\n",
       "        console.log(\"Bokeh: BokehJS plotting callback run at\", now());\n",
       "        run_inline_js();\n",
       "      });\n",
       "    }\n",
       "  }(this));\n",
       "</script>"
      ]
     },
     "metadata": {},
     "output_type": "display_data"
    }
   ],
   "source": [
    "with open('scores/t%d_f1s_test_svc.json' % n_topics) as f:    \n",
    "    f1s_combined = json.load(f)\n",
    "\n",
    "f1s_social = json.load(open('../_1_one_user_learn_neighbours/scores/f1s_testv_svc.json'))\n",
    "f1s_social = {u: f for u, f in f1s_social.items() if u in nlp_uids}\n",
    "\n",
    "sorted_uids = [u for u, f in sorted(f1s_social.items(), key=lambda x:x[1])]\n",
    "indices = range(len(sorted_uids))\n",
    "\n",
    "f1s_lda = np.array([f1s_combined[sorted_uids[i]] for i in indices])\n",
    "f1s_s = np.array([f1s_social[sorted_uids[i]] for i in indices])\n",
    "\n",
    "# build a dataset where multiple columns measure the same thing\n",
    "data = {\n",
    "    \"social\": f1s_s,\n",
    "    \"social+lda%d\" % n_topics: f1s_lda\n",
    "}\n",
    "\n",
    "labels = ['social', 'social+lda%d' % n_topics]\n",
    "\n",
    "# create a line chart where each column of measures receives a unique color and dash style\n",
    "line = Line(data, y=labels,\n",
    "            dash=labels,\n",
    "            color=labels,\n",
    "            legend_sort_field = 'color',\n",
    "            legend_sort_direction = 'descending',\n",
    "            xlabel='usuarios (ordenados por f1 del modelo social en datos de evaluación)',\n",
    "            ylabel='puntaje f1 sobre datos de evaluación', legend=True)\n",
    "\n",
    "show(line)"
   ]
  },
  {
   "cell_type": "code",
   "execution_count": 23,
   "metadata": {
    "collapsed": false
   },
   "outputs": [
    {
     "data": {
      "text/plain": [
       "1"
      ]
     },
     "execution_count": 23,
     "metadata": {},
     "output_type": "execute_result"
    }
   ],
   "source": [
    "sum(f1s_lda > f1s_s)"
   ]
  },
  {
   "cell_type": "code",
   "execution_count": 24,
   "metadata": {
    "collapsed": false
   },
   "outputs": [
    {
     "data": {
      "text/plain": [
       "0.62622891835318173"
      ]
     },
     "execution_count": 24,
     "metadata": {},
     "output_type": "execute_result"
    }
   ],
   "source": [
    "np.mean(f1s_lda)"
   ]
  },
  {
   "cell_type": "code",
   "execution_count": 25,
   "metadata": {
    "collapsed": false
   },
   "outputs": [
    {
     "data": {
      "text/plain": [
       "0.76463096629149319"
      ]
     },
     "execution_count": 25,
     "metadata": {},
     "output_type": "execute_result"
    }
   ],
   "source": [
    "np.mean(f1s_s)"
   ]
  },
  {
   "cell_type": "markdown",
   "metadata": {},
   "source": [
    "# Comparación en training set"
   ]
  },
  {
   "cell_type": "code",
   "execution_count": 26,
   "metadata": {
    "collapsed": false
   },
   "outputs": [
    {
     "data": {
      "text/html": [
       "\n",
       "\n",
       "    <div class=\"bk-root\">\n",
       "        <div class=\"bk-plotdiv\" id=\"922deb35-5f94-44bc-9210-b0fc978c8562\"></div>\n",
       "    </div>\n",
       "<script type=\"text/javascript\">\n",
       "  \n",
       "  (function(global) {\n",
       "    function now() {\n",
       "      return new Date();\n",
       "    }\n",
       "  \n",
       "    var force = false;\n",
       "  \n",
       "    if (typeof (window._bokeh_onload_callbacks) === \"undefined\" || force === true) {\n",
       "      window._bokeh_onload_callbacks = [];\n",
       "      window._bokeh_is_loading = undefined;\n",
       "    }\n",
       "  \n",
       "  \n",
       "    \n",
       "    if (typeof (window._bokeh_timeout) === \"undefined\" || force === true) {\n",
       "      window._bokeh_timeout = Date.now() + 0;\n",
       "      window._bokeh_failed_load = false;\n",
       "    }\n",
       "  \n",
       "    var NB_LOAD_WARNING = {'data': {'text/html':\n",
       "       \"<div style='background-color: #fdd'>\\n\"+\n",
       "       \"<p>\\n\"+\n",
       "       \"BokehJS does not appear to have successfully loaded. If loading BokehJS from CDN, this \\n\"+\n",
       "       \"may be due to a slow or bad network connection. Possible fixes:\\n\"+\n",
       "       \"</p>\\n\"+\n",
       "       \"<ul>\\n\"+\n",
       "       \"<li>re-rerun `output_notebook()` to attempt to load from CDN again, or</li>\\n\"+\n",
       "       \"<li>use INLINE resources instead, as so:</li>\\n\"+\n",
       "       \"</ul>\\n\"+\n",
       "       \"<code>\\n\"+\n",
       "       \"from bokeh.resources import INLINE\\n\"+\n",
       "       \"output_notebook(resources=INLINE)\\n\"+\n",
       "       \"</code>\\n\"+\n",
       "       \"</div>\"}};\n",
       "  \n",
       "    function display_loaded() {\n",
       "      if (window.Bokeh !== undefined) {\n",
       "        var el = document.getElementById(\"922deb35-5f94-44bc-9210-b0fc978c8562\");\n",
       "        el.textContent = \"BokehJS \" + Bokeh.version + \" successfully loaded.\";\n",
       "      } else if (Date.now() < window._bokeh_timeout) {\n",
       "        setTimeout(display_loaded, 100)\n",
       "      }\n",
       "    }\n",
       "  \n",
       "    function run_callbacks() {\n",
       "      window._bokeh_onload_callbacks.forEach(function(callback) { callback() });\n",
       "      delete window._bokeh_onload_callbacks\n",
       "      console.info(\"Bokeh: all callbacks have finished\");\n",
       "    }\n",
       "  \n",
       "    function load_libs(js_urls, callback) {\n",
       "      window._bokeh_onload_callbacks.push(callback);\n",
       "      if (window._bokeh_is_loading > 0) {\n",
       "        console.log(\"Bokeh: BokehJS is being loaded, scheduling callback at\", now());\n",
       "        return null;\n",
       "      }\n",
       "      if (js_urls == null || js_urls.length === 0) {\n",
       "        run_callbacks();\n",
       "        return null;\n",
       "      }\n",
       "      console.log(\"Bokeh: BokehJS not loaded, scheduling load and callback at\", now());\n",
       "      window._bokeh_is_loading = js_urls.length;\n",
       "      for (var i = 0; i < js_urls.length; i++) {\n",
       "        var url = js_urls[i];\n",
       "        var s = document.createElement('script');\n",
       "        s.src = url;\n",
       "        s.async = false;\n",
       "        s.onreadystatechange = s.onload = function() {\n",
       "          window._bokeh_is_loading--;\n",
       "          if (window._bokeh_is_loading === 0) {\n",
       "            console.log(\"Bokeh: all BokehJS libraries loaded\");\n",
       "            run_callbacks()\n",
       "          }\n",
       "        };\n",
       "        s.onerror = function() {\n",
       "          console.warn(\"failed to load library \" + url);\n",
       "        };\n",
       "        console.log(\"Bokeh: injecting script tag for BokehJS library: \", url);\n",
       "        document.getElementsByTagName(\"head\")[0].appendChild(s);\n",
       "      }\n",
       "    };var element = document.getElementById(\"922deb35-5f94-44bc-9210-b0fc978c8562\");\n",
       "    if (element == null) {\n",
       "      console.log(\"Bokeh: ERROR: autoload.js configured with elementid '922deb35-5f94-44bc-9210-b0fc978c8562' but no matching script tag was found. \")\n",
       "      return false;\n",
       "    }\n",
       "  \n",
       "    var js_urls = [];\n",
       "  \n",
       "    var inline_js = [\n",
       "      function(Bokeh) {\n",
       "        (function() {\n",
       "          var fn = function() {\n",
       "            var docs_json = {\"91f2dc4f-5ec9-4aeb-a5aa-311703ac0bca\":{\"roots\":{\"references\":[{\"attributes\":{\"plot\":{\"id\":\"ee4c1ee4-f14c-4b1c-9083-2e266496cebc\",\"subtype\":\"Chart\",\"type\":\"Plot\"}},\"id\":\"8c022752-0f3c-4b5f-82ce-80d7044f0399\",\"type\":\"WheelZoomTool\"},{\"attributes\":{\"callback\":null,\"end\":1.0858019414747244,\"start\":-0.013453851386379875},\"id\":\"e1506f32-db6d-4d92-8303-bca47e2d9906\",\"type\":\"Range1d\"},{\"attributes\":{},\"id\":\"7e605125-5cf6-44a7-9028-3ce721f2264e\",\"type\":\"BasicTicker\"},{\"attributes\":{},\"id\":\"b468a025-af09-4aa6-a9c6-8518eca0e58a\",\"type\":\"BasicTickFormatter\"},{\"attributes\":{\"plot\":{\"id\":\"ee4c1ee4-f14c-4b1c-9083-2e266496cebc\",\"subtype\":\"Chart\",\"type\":\"Plot\"}},\"id\":\"bbac1874-cc2e-4017-a6f4-07fc40d1142b\",\"type\":\"ResetTool\"},{\"attributes\":{},\"id\":\"2aad2416-875b-46f6-acc3-d5ac784e8e39\",\"type\":\"BasicTicker\"},{\"attributes\":{},\"id\":\"9bc4395a-ca34-4f69-b1ff-b346cdda6476\",\"type\":\"ToolEvents\"},{\"attributes\":{\"bottom_units\":\"screen\",\"fill_alpha\":{\"value\":0.5},\"fill_color\":{\"value\":\"lightgrey\"},\"left_units\":\"screen\",\"level\":\"overlay\",\"line_alpha\":{\"value\":1.0},\"line_color\":{\"value\":\"black\"},\"line_dash\":[4,4],\"line_width\":{\"value\":2},\"plot\":null,\"render_mode\":\"css\",\"right_units\":\"screen\",\"top_units\":\"screen\"},\"id\":\"5963e7eb-9408-47bc-8cad-901c28dce2ee\",\"type\":\"BoxAnnotation\"},{\"attributes\":{\"axis_label\":\"usuarios (ordenados por f1 del modelo social en datos de evaluaci\\u00f3n)\",\"formatter\":{\"id\":\"f1db8bb8-f398-4559-a5a7-a145a35bc22c\",\"type\":\"BasicTickFormatter\"},\"plot\":{\"id\":\"ee4c1ee4-f14c-4b1c-9083-2e266496cebc\",\"subtype\":\"Chart\",\"type\":\"Plot\"},\"ticker\":{\"id\":\"2aad2416-875b-46f6-acc3-d5ac784e8e39\",\"type\":\"BasicTicker\"}},\"id\":\"7593af8a-7149-4eb0-a171-060518a2f411\",\"type\":\"LinearAxis\"},{\"attributes\":{\"plot\":{\"id\":\"ee4c1ee4-f14c-4b1c-9083-2e266496cebc\",\"subtype\":\"Chart\",\"type\":\"Plot\"}},\"id\":\"d9b1d75d-2989-42d7-8668-1dc72d8d71dd\",\"type\":\"SaveTool\"},{\"attributes\":{\"label\":{\"value\":\"social+lda20\"},\"renderers\":[{\"id\":\"016518b7-8916-4d98-ab58-ea96fa01708b\",\"type\":\"GlyphRenderer\"}]},\"id\":\"025cfcf6-0a30-47ba-83a6-cf567cbca7cb\",\"type\":\"LegendItem\"},{\"attributes\":{\"callback\":null,\"column_names\":[\"x_values\",\"y_values\"],\"data\":{\"chart_index\":[{\"series\":\"social+lda20\"},{\"series\":\"social+lda20\"},{\"series\":\"social+lda20\"},{\"series\":\"social+lda20\"},{\"series\":\"social+lda20\"},{\"series\":\"social+lda20\"},{\"series\":\"social+lda20\"},{\"series\":\"social+lda20\"},{\"series\":\"social+lda20\"},{\"series\":\"social+lda20\"},{\"series\":\"social+lda20\"},{\"series\":\"social+lda20\"},{\"series\":\"social+lda20\"},{\"series\":\"social+lda20\"},{\"series\":\"social+lda20\"},{\"series\":\"social+lda20\"},{\"series\":\"social+lda20\"},{\"series\":\"social+lda20\"},{\"series\":\"social+lda20\"},{\"series\":\"social+lda20\"},{\"series\":\"social+lda20\"},{\"series\":\"social+lda20\"},{\"series\":\"social+lda20\"},{\"series\":\"social+lda20\"},{\"series\":\"social+lda20\"},{\"series\":\"social+lda20\"},{\"series\":\"social+lda20\"},{\"series\":\"social+lda20\"},{\"series\":\"social+lda20\"},{\"series\":\"social+lda20\"},{\"series\":\"social+lda20\"},{\"series\":\"social+lda20\"},{\"series\":\"social+lda20\"},{\"series\":\"social+lda20\"},{\"series\":\"social+lda20\"},{\"series\":\"social+lda20\"},{\"series\":\"social+lda20\"}],\"series\":[\"social+lda20\",\"social+lda20\",\"social+lda20\",\"social+lda20\",\"social+lda20\",\"social+lda20\",\"social+lda20\",\"social+lda20\",\"social+lda20\",\"social+lda20\",\"social+lda20\",\"social+lda20\",\"social+lda20\",\"social+lda20\",\"social+lda20\",\"social+lda20\",\"social+lda20\",\"social+lda20\",\"social+lda20\",\"social+lda20\",\"social+lda20\",\"social+lda20\",\"social+lda20\",\"social+lda20\",\"social+lda20\",\"social+lda20\",\"social+lda20\",\"social+lda20\",\"social+lda20\",\"social+lda20\",\"social+lda20\",\"social+lda20\",\"social+lda20\",\"social+lda20\",\"social+lda20\",\"social+lda20\",\"social+lda20\"],\"x_values\":[0,1,2,3,4,5,6,7,8,9,10,11,12,13,14,15,16,17,18,19,20,21,22,23,24,25,26,27,28,29,30,31,32,33,34,35,36],\"y_values\":{\"__ndarray__\":\"7woUeoqo7z8534Qq0HXrPx4eHh4eHu4/3jOJ3jOJ7j8JhhNpTwrvP6ir0RG+QO0/ndiJndiJ7T8ZlVEZlVHpP3zWDabIZ+0/fB2WcFR/7z/a55CaYLztP/vORn1no+4/24G5dmCu7T/d2GGLIyfuP4T9VhtD0+0/t8bfzSNU7z/VknpAa9jtP2F3JqPFK+8//fjx48eP7z+V11BeQ3ntP4K0NwEchO4/BluwBVuw7T/y6aR8OinvP2KghDeaOu8/YRiGYRiG7T9nZmZmZmbuP/gZJX5Gie8/UsIs9slW7T+0vyCuTEDvP/FUeCo8Fe4/b6JM0mQ47z9m14usreLtP2KghDeaOu8/9A44UjTE7z9ZbdkrcW7vPyK/5tZ20O8/vlPXcnCz7z8=\",\"dtype\":\"float64\",\"shape\":[37]}}},\"id\":\"2f2ae51a-2242-4a53-aa7f-c5d55f07c3cc\",\"type\":\"ColumnDataSource\"},{\"attributes\":{\"overlay\":{\"id\":\"5963e7eb-9408-47bc-8cad-901c28dce2ee\",\"type\":\"BoxAnnotation\"},\"plot\":{\"id\":\"ee4c1ee4-f14c-4b1c-9083-2e266496cebc\",\"subtype\":\"Chart\",\"type\":\"Plot\"}},\"id\":\"f8043933-4216-4df3-be60-9e79287abd33\",\"type\":\"BoxZoomTool\"},{\"attributes\":{\"dimension\":1,\"plot\":{\"id\":\"ee4c1ee4-f14c-4b1c-9083-2e266496cebc\",\"subtype\":\"Chart\",\"type\":\"Plot\"},\"ticker\":{\"id\":\"7e605125-5cf6-44a7-9028-3ce721f2264e\",\"type\":\"BasicTicker\"}},\"id\":\"0d000321-970b-4dca-a811-119219dd28c5\",\"type\":\"Grid\"},{\"attributes\":{\"below\":[{\"id\":\"7593af8a-7149-4eb0-a171-060518a2f411\",\"type\":\"LinearAxis\"}],\"css_classes\":null,\"left\":[{\"id\":\"fb0f6c9b-bb0e-41b7-b277-aaf885437d5d\",\"type\":\"LinearAxis\"}],\"renderers\":[{\"id\":\"5963e7eb-9408-47bc-8cad-901c28dce2ee\",\"type\":\"BoxAnnotation\"},{\"id\":\"c356c058-36d3-45ca-9bfc-c8c895904097\",\"type\":\"GlyphRenderer\"},{\"id\":\"016518b7-8916-4d98-ab58-ea96fa01708b\",\"type\":\"GlyphRenderer\"},{\"id\":\"31767a06-e041-4e64-817b-5cf2afbc9819\",\"type\":\"Legend\"},{\"id\":\"7593af8a-7149-4eb0-a171-060518a2f411\",\"type\":\"LinearAxis\"},{\"id\":\"fb0f6c9b-bb0e-41b7-b277-aaf885437d5d\",\"type\":\"LinearAxis\"},{\"id\":\"b9f01c97-ec17-47cc-a852-23c8f3513911\",\"type\":\"Grid\"},{\"id\":\"0d000321-970b-4dca-a811-119219dd28c5\",\"type\":\"Grid\"}],\"title\":{\"id\":\"7e9acdb2-2c3c-410c-8b6a-a5f5c07aa24e\",\"type\":\"Title\"},\"tool_events\":{\"id\":\"9bc4395a-ca34-4f69-b1ff-b346cdda6476\",\"type\":\"ToolEvents\"},\"toolbar\":{\"id\":\"520c9bd3-7a5d-479f-a67f-8d48d7cc2efa\",\"type\":\"Toolbar\"},\"x_mapper_type\":\"auto\",\"x_range\":{\"id\":\"3b290434-4cf0-46ef-9a00-1b5a16809c11\",\"type\":\"Range1d\"},\"y_mapper_type\":\"auto\",\"y_range\":{\"id\":\"e1506f32-db6d-4d92-8303-bca47e2d9906\",\"type\":\"Range1d\"}},\"id\":\"ee4c1ee4-f14c-4b1c-9083-2e266496cebc\",\"subtype\":\"Chart\",\"type\":\"Plot\"},{\"attributes\":{\"line_color\":{\"value\":\"#f22c40\"},\"line_width\":{\"value\":2},\"x\":{\"field\":\"x_values\"},\"y\":{\"field\":\"y_values\"}},\"id\":\"dd1ca354-f97c-4a3e-b878-1737848c37a1\",\"type\":\"Line\"},{\"attributes\":{\"data_source\":{\"id\":\"2f2ae51a-2242-4a53-aa7f-c5d55f07c3cc\",\"type\":\"ColumnDataSource\"},\"glyph\":{\"id\":\"3998526c-3513-4d14-aba4-1640ee60c0fa\",\"type\":\"Line\"},\"hover_glyph\":null,\"muted_glyph\":null},\"id\":\"016518b7-8916-4d98-ab58-ea96fa01708b\",\"type\":\"GlyphRenderer\"},{\"attributes\":{\"plot\":{\"id\":\"ee4c1ee4-f14c-4b1c-9083-2e266496cebc\",\"subtype\":\"Chart\",\"type\":\"Plot\"}},\"id\":\"2fac0fe8-9164-4abe-a3f2-15a34cf06962\",\"type\":\"HelpTool\"},{\"attributes\":{\"label\":{\"value\":\"social\"},\"renderers\":[{\"id\":\"c356c058-36d3-45ca-9bfc-c8c895904097\",\"type\":\"GlyphRenderer\"}]},\"id\":\"63ffec0e-e210-4940-9175-cc76667df9b1\",\"type\":\"LegendItem\"},{\"attributes\":{\"axis_label\":\"puntaje f1 sobre datos de evaluaci\\u00f3n\",\"formatter\":{\"id\":\"b468a025-af09-4aa6-a9c6-8518eca0e58a\",\"type\":\"BasicTickFormatter\"},\"plot\":{\"id\":\"ee4c1ee4-f14c-4b1c-9083-2e266496cebc\",\"subtype\":\"Chart\",\"type\":\"Plot\"},\"ticker\":{\"id\":\"7e605125-5cf6-44a7-9028-3ce721f2264e\",\"type\":\"BasicTicker\"}},\"id\":\"fb0f6c9b-bb0e-41b7-b277-aaf885437d5d\",\"type\":\"LinearAxis\"},{\"attributes\":{\"data_source\":{\"id\":\"eed0a049-6db5-4374-b94a-7c427d4dd4ee\",\"type\":\"ColumnDataSource\"},\"glyph\":{\"id\":\"dd1ca354-f97c-4a3e-b878-1737848c37a1\",\"type\":\"Line\"},\"hover_glyph\":null,\"muted_glyph\":null},\"id\":\"c356c058-36d3-45ca-9bfc-c8c895904097\",\"type\":\"GlyphRenderer\"},{\"attributes\":{\"plot\":null,\"text\":null},\"id\":\"7e9acdb2-2c3c-410c-8b6a-a5f5c07aa24e\",\"type\":\"Title\"},{\"attributes\":{\"plot\":{\"id\":\"ee4c1ee4-f14c-4b1c-9083-2e266496cebc\",\"subtype\":\"Chart\",\"type\":\"Plot\"},\"ticker\":{\"id\":\"2aad2416-875b-46f6-acc3-d5ac784e8e39\",\"type\":\"BasicTicker\"}},\"id\":\"b9f01c97-ec17-47cc-a852-23c8f3513911\",\"type\":\"Grid\"},{\"attributes\":{\"active_drag\":\"auto\",\"active_scroll\":\"auto\",\"active_tap\":\"auto\",\"tools\":[{\"id\":\"b034eb70-18a1-47d8-8079-1ef1bd58b4cd\",\"type\":\"PanTool\"},{\"id\":\"8c022752-0f3c-4b5f-82ce-80d7044f0399\",\"type\":\"WheelZoomTool\"},{\"id\":\"f8043933-4216-4df3-be60-9e79287abd33\",\"type\":\"BoxZoomTool\"},{\"id\":\"d9b1d75d-2989-42d7-8668-1dc72d8d71dd\",\"type\":\"SaveTool\"},{\"id\":\"bbac1874-cc2e-4017-a6f4-07fc40d1142b\",\"type\":\"ResetTool\"},{\"id\":\"2fac0fe8-9164-4abe-a3f2-15a34cf06962\",\"type\":\"HelpTool\"}]},\"id\":\"520c9bd3-7a5d-479f-a67f-8d48d7cc2efa\",\"type\":\"Toolbar\"},{\"attributes\":{},\"id\":\"f1db8bb8-f398-4559-a5a7-a145a35bc22c\",\"type\":\"BasicTickFormatter\"},{\"attributes\":{\"line_color\":{\"value\":\"#5ab738\"},\"line_dash\":[6],\"line_width\":{\"value\":2},\"x\":{\"field\":\"x_values\"},\"y\":{\"field\":\"y_values\"}},\"id\":\"3998526c-3513-4d14-aba4-1640ee60c0fa\",\"type\":\"Line\"},{\"attributes\":{\"plot\":{\"id\":\"ee4c1ee4-f14c-4b1c-9083-2e266496cebc\",\"subtype\":\"Chart\",\"type\":\"Plot\"}},\"id\":\"b034eb70-18a1-47d8-8079-1ef1bd58b4cd\",\"type\":\"PanTool\"},{\"attributes\":{\"callback\":null,\"end\":39.6,\"start\":-3.6},\"id\":\"3b290434-4cf0-46ef-9a00-1b5a16809c11\",\"type\":\"Range1d\"},{\"attributes\":{\"callback\":null,\"column_names\":[\"x_values\",\"y_values\"],\"data\":{\"chart_index\":[{\"series\":\"social\"},{\"series\":\"social\"},{\"series\":\"social\"},{\"series\":\"social\"},{\"series\":\"social\"},{\"series\":\"social\"},{\"series\":\"social\"},{\"series\":\"social\"},{\"series\":\"social\"},{\"series\":\"social\"},{\"series\":\"social\"},{\"series\":\"social\"},{\"series\":\"social\"},{\"series\":\"social\"},{\"series\":\"social\"},{\"series\":\"social\"},{\"series\":\"social\"},{\"series\":\"social\"},{\"series\":\"social\"},{\"series\":\"social\"},{\"series\":\"social\"},{\"series\":\"social\"},{\"series\":\"social\"},{\"series\":\"social\"},{\"series\":\"social\"},{\"series\":\"social\"},{\"series\":\"social\"},{\"series\":\"social\"},{\"series\":\"social\"},{\"series\":\"social\"},{\"series\":\"social\"},{\"series\":\"social\"},{\"series\":\"social\"},{\"series\":\"social\"},{\"series\":\"social\"},{\"series\":\"social\"},{\"series\":\"social\"}],\"series\":[\"social\",\"social\",\"social\",\"social\",\"social\",\"social\",\"social\",\"social\",\"social\",\"social\",\"social\",\"social\",\"social\",\"social\",\"social\",\"social\",\"social\",\"social\",\"social\",\"social\",\"social\",\"social\",\"social\",\"social\",\"social\",\"social\",\"social\",\"social\",\"social\",\"social\",\"social\",\"social\",\"social\",\"social\",\"social\",\"social\",\"social\"],\"x_values\":[0,1,2,3,4,5,6,7,8,9,10,11,12,13,14,15,16,17,18,19,20,21,22,23,24,25,26,27,28,29,30,31,32,33,34,35,36],\"y_values\":{\"__ndarray__\":\"MIyl0bABtD8UvS4UvS7kP72JetrcfeU/h7VvWPuG5T+yEdmIbETmPwnUjXjmg+Y/CtejcD0K5z8Qab2AbU7nP/IsI/qA6ug/gr1jamDv6D/yyCOPPPLoP02Rz7rBFOk/u2sCpKcd6T+PJ7OyrXbpP0kaAqT4wek/9+WxFUHD6T+OCOyDIQfqP5MkSZIkSeo/pze96U1v6j8JxlvZ55DqP3bTshJZmuo/K7tqosqu6j+YlUaPqCDrP04b6LSBTus/mpmZmZmZ6z/PusEU+azrP7u7u7u7u+s//ZDA2w8J7D/PeOERJSHsP1AglZyXRew/rKXAFs9w7D/k54pZjvzsPwAAAAAAAO4/dOUByTpX7j8qkDxt+r7uP///////T+8/J3ZiJ3Zi7z8=\",\"dtype\":\"float64\",\"shape\":[37]}}},\"id\":\"eed0a049-6db5-4374-b94a-7c427d4dd4ee\",\"type\":\"ColumnDataSource\"},{\"attributes\":{\"items\":[{\"id\":\"025cfcf6-0a30-47ba-83a6-cf567cbca7cb\",\"type\":\"LegendItem\"},{\"id\":\"63ffec0e-e210-4940-9175-cc76667df9b1\",\"type\":\"LegendItem\"}],\"location\":\"top_left\",\"plot\":{\"id\":\"ee4c1ee4-f14c-4b1c-9083-2e266496cebc\",\"subtype\":\"Chart\",\"type\":\"Plot\"}},\"id\":\"31767a06-e041-4e64-817b-5cf2afbc9819\",\"type\":\"Legend\"}],\"root_ids\":[\"ee4c1ee4-f14c-4b1c-9083-2e266496cebc\"]},\"title\":\"Bokeh Application\",\"version\":\"0.12.5\"}};\n",
       "            var render_items = [{\"docid\":\"91f2dc4f-5ec9-4aeb-a5aa-311703ac0bca\",\"elementid\":\"922deb35-5f94-44bc-9210-b0fc978c8562\",\"modelid\":\"ee4c1ee4-f14c-4b1c-9083-2e266496cebc\"}];\n",
       "            \n",
       "            Bokeh.embed.embed_items(docs_json, render_items);\n",
       "          };\n",
       "          if (document.readyState != \"loading\") fn();\n",
       "          else document.addEventListener(\"DOMContentLoaded\", fn);\n",
       "        })();\n",
       "      },\n",
       "      function(Bokeh) {\n",
       "      }\n",
       "    ];\n",
       "  \n",
       "    function run_inline_js() {\n",
       "      \n",
       "      if ((window.Bokeh !== undefined) || (force === true)) {\n",
       "        for (var i = 0; i < inline_js.length; i++) {\n",
       "          inline_js[i](window.Bokeh);\n",
       "        }if (force === true) {\n",
       "          display_loaded();\n",
       "        }} else if (Date.now() < window._bokeh_timeout) {\n",
       "        setTimeout(run_inline_js, 100);\n",
       "      } else if (!window._bokeh_failed_load) {\n",
       "        console.log(\"Bokeh: BokehJS failed to load within specified timeout.\");\n",
       "        window._bokeh_failed_load = true;\n",
       "      } else if (force !== true) {\n",
       "        var cell = $(document.getElementById(\"922deb35-5f94-44bc-9210-b0fc978c8562\")).parents('.cell').data().cell;\n",
       "        cell.output_area.append_execute_result(NB_LOAD_WARNING)\n",
       "      }\n",
       "  \n",
       "    }\n",
       "  \n",
       "    if (window._bokeh_is_loading === 0) {\n",
       "      console.log(\"Bokeh: BokehJS loaded, going straight to plotting\");\n",
       "      run_inline_js();\n",
       "    } else {\n",
       "      load_libs(js_urls, function() {\n",
       "        console.log(\"Bokeh: BokehJS plotting callback run at\", now());\n",
       "        run_inline_js();\n",
       "      });\n",
       "    }\n",
       "  }(this));\n",
       "</script>"
      ]
     },
     "metadata": {},
     "output_type": "display_data"
    }
   ],
   "source": [
    "with open('scores/t%d_f1s_train_svc.json' % n_topics) as f:        \n",
    "    f1s_combined = json.load(f)\n",
    "\n",
    "f1s_social = json.load(open('../_1_one_user_learn_neighbours/scores/f1s_train_svc.json'))\n",
    "f1s_social = {u: f for u, f in f1s_social.items() if u in nlp_uids}\n",
    "\n",
    "sorted_uids = [u for u, f in sorted(f1s_social.items(), key=lambda x:x[1])]\n",
    "indices = range(len(sorted_uids))\n",
    "\n",
    "f1s_lda = np.array([f1s_combined[sorted_uids[i]] for i in indices])\n",
    "f1s_s = np.array([f1s_social[sorted_uids[i]] for i in indices])\n",
    "\n",
    "# build a dataset where multiple columns measure the same thing\n",
    "data = {\n",
    "    \"social\": f1s_s,\n",
    "    \"social+lda%d\" % n_topics: f1s_lda\n",
    "}\n",
    "\n",
    "labels = ['social', 'social+lda%d' % n_topics]\n",
    "\n",
    "# create a line chart where each column of measures receives a unique color and dash style\n",
    "line = Line(data, y=labels,\n",
    "            dash=labels,\n",
    "            color=labels,\n",
    "            legend_sort_field = 'color',\n",
    "            legend_sort_direction = 'descending',\n",
    "            xlabel='usuarios (ordenados por f1 del modelo social en datos de evaluación)',\n",
    "            ylabel='puntaje f1 sobre datos de evaluación', legend=True)\n",
    "\n",
    "show(line)"
   ]
  },
  {
   "cell_type": "code",
   "execution_count": 27,
   "metadata": {
    "collapsed": false
   },
   "outputs": [
    {
     "data": {
      "text/plain": [
       "37"
      ]
     },
     "execution_count": 27,
     "metadata": {},
     "output_type": "execute_result"
    }
   ],
   "source": [
    "sum(f1s_lda > f1s_s)"
   ]
  },
  {
   "cell_type": "code",
   "execution_count": 28,
   "metadata": {
    "collapsed": false
   },
   "outputs": [
    {
     "data": {
      "text/plain": [
       "0.94849232568038211"
      ]
     },
     "execution_count": 28,
     "metadata": {},
     "output_type": "execute_result"
    }
   ],
   "source": [
    "np.mean(f1s_lda)"
   ]
  },
  {
   "cell_type": "code",
   "execution_count": 29,
   "metadata": {
    "collapsed": false
   },
   "outputs": [
    {
     "data": {
      "text/plain": [
       "0.80278764744705877"
      ]
     },
     "execution_count": 29,
     "metadata": {},
     "output_type": "execute_result"
    }
   ],
   "source": [
    "np.mean(f1s_s)"
   ]
  }
 ],
 "metadata": {
  "kernelspec": {
   "display_name": "Python 2",
   "language": "python",
   "name": "python2"
  },
  "language_info": {
   "codemirror_mode": {
    "name": "ipython",
    "version": 2
   },
   "file_extension": ".py",
   "mimetype": "text/x-python",
   "name": "python",
   "nbconvert_exporter": "python",
   "pygments_lexer": "ipython2",
   "version": "2.7.11+"
  }
 },
 "nbformat": 4,
 "nbformat_minor": 2
}
