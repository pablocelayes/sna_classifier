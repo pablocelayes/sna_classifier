{
 "cells": [
  {
   "cell_type": "code",
   "execution_count": 1,
   "metadata": {
    "collapsed": false
   },
   "outputs": [
    {
     "name": "stdout",
     "output_type": "stream",
     "text": [
      "Switching to API Credentials #8\n"
     ]
    }
   ],
   "source": [
    "from experiments._60_nlpmodels.fit_social_lda_models import *"
   ]
  },
  {
   "cell_type": "code",
   "execution_count": 2,
   "metadata": {
    "collapsed": true
   },
   "outputs": [],
   "source": [
    "n_topics = 10"
   ]
  },
  {
   "cell_type": "markdown",
   "metadata": {},
   "source": [
    "# Comparación sobre tuning set"
   ]
  },
  {
   "cell_type": "code",
   "execution_count": 3,
   "metadata": {
    "collapsed": false
   },
   "outputs": [
    {
     "data": {
      "text/html": [
       "\n",
       "    <div class=\"bk-root\">\n",
       "        <a href=\"http://bokeh.pydata.org\" target=\"_blank\" class=\"bk-logo bk-logo-small bk-logo-notebook\"></a>\n",
       "        <span id=\"1cfefdfc-d94e-4fab-b3e2-4883df4b3fae\">Loading BokehJS ...</span>\n",
       "    </div>"
      ]
     },
     "metadata": {},
     "output_type": "display_data"
    },
    {
     "data": {
      "application/javascript": [
       "\n",
       "(function(global) {\n",
       "  function now() {\n",
       "    return new Date();\n",
       "  }\n",
       "\n",
       "  var force = true;\n",
       "\n",
       "  if (typeof (window._bokeh_onload_callbacks) === \"undefined\" || force === true) {\n",
       "    window._bokeh_onload_callbacks = [];\n",
       "    window._bokeh_is_loading = undefined;\n",
       "  }\n",
       "\n",
       "\n",
       "  \n",
       "  if (typeof (window._bokeh_timeout) === \"undefined\" || force === true) {\n",
       "    window._bokeh_timeout = Date.now() + 5000;\n",
       "    window._bokeh_failed_load = false;\n",
       "  }\n",
       "\n",
       "  var NB_LOAD_WARNING = {'data': {'text/html':\n",
       "     \"<div style='background-color: #fdd'>\\n\"+\n",
       "     \"<p>\\n\"+\n",
       "     \"BokehJS does not appear to have successfully loaded. If loading BokehJS from CDN, this \\n\"+\n",
       "     \"may be due to a slow or bad network connection. Possible fixes:\\n\"+\n",
       "     \"</p>\\n\"+\n",
       "     \"<ul>\\n\"+\n",
       "     \"<li>re-rerun `output_notebook()` to attempt to load from CDN again, or</li>\\n\"+\n",
       "     \"<li>use INLINE resources instead, as so:</li>\\n\"+\n",
       "     \"</ul>\\n\"+\n",
       "     \"<code>\\n\"+\n",
       "     \"from bokeh.resources import INLINE\\n\"+\n",
       "     \"output_notebook(resources=INLINE)\\n\"+\n",
       "     \"</code>\\n\"+\n",
       "     \"</div>\"}};\n",
       "\n",
       "  function display_loaded() {\n",
       "    if (window.Bokeh !== undefined) {\n",
       "      var el = document.getElementById(\"1cfefdfc-d94e-4fab-b3e2-4883df4b3fae\");\n",
       "      el.textContent = \"BokehJS \" + Bokeh.version + \" successfully loaded.\";\n",
       "    } else if (Date.now() < window._bokeh_timeout) {\n",
       "      setTimeout(display_loaded, 100)\n",
       "    }\n",
       "  }\n",
       "\n",
       "  function run_callbacks() {\n",
       "    window._bokeh_onload_callbacks.forEach(function(callback) { callback() });\n",
       "    delete window._bokeh_onload_callbacks\n",
       "    console.info(\"Bokeh: all callbacks have finished\");\n",
       "  }\n",
       "\n",
       "  function load_libs(js_urls, callback) {\n",
       "    window._bokeh_onload_callbacks.push(callback);\n",
       "    if (window._bokeh_is_loading > 0) {\n",
       "      console.log(\"Bokeh: BokehJS is being loaded, scheduling callback at\", now());\n",
       "      return null;\n",
       "    }\n",
       "    if (js_urls == null || js_urls.length === 0) {\n",
       "      run_callbacks();\n",
       "      return null;\n",
       "    }\n",
       "    console.log(\"Bokeh: BokehJS not loaded, scheduling load and callback at\", now());\n",
       "    window._bokeh_is_loading = js_urls.length;\n",
       "    for (var i = 0; i < js_urls.length; i++) {\n",
       "      var url = js_urls[i];\n",
       "      var s = document.createElement('script');\n",
       "      s.src = url;\n",
       "      s.async = false;\n",
       "      s.onreadystatechange = s.onload = function() {\n",
       "        window._bokeh_is_loading--;\n",
       "        if (window._bokeh_is_loading === 0) {\n",
       "          console.log(\"Bokeh: all BokehJS libraries loaded\");\n",
       "          run_callbacks()\n",
       "        }\n",
       "      };\n",
       "      s.onerror = function() {\n",
       "        console.warn(\"failed to load library \" + url);\n",
       "      };\n",
       "      console.log(\"Bokeh: injecting script tag for BokehJS library: \", url);\n",
       "      document.getElementsByTagName(\"head\")[0].appendChild(s);\n",
       "    }\n",
       "  };var element = document.getElementById(\"1cfefdfc-d94e-4fab-b3e2-4883df4b3fae\");\n",
       "  if (element == null) {\n",
       "    console.log(\"Bokeh: ERROR: autoload.js configured with elementid '1cfefdfc-d94e-4fab-b3e2-4883df4b3fae' but no matching script tag was found. \")\n",
       "    return false;\n",
       "  }\n",
       "\n",
       "  var js_urls = [\"https://cdn.pydata.org/bokeh/release/bokeh-0.12.5.min.js\", \"https://cdn.pydata.org/bokeh/release/bokeh-widgets-0.12.5.min.js\"];\n",
       "\n",
       "  var inline_js = [\n",
       "    function(Bokeh) {\n",
       "      Bokeh.set_log_level(\"info\");\n",
       "    },\n",
       "    \n",
       "    function(Bokeh) {\n",
       "      \n",
       "    },\n",
       "    \n",
       "    function(Bokeh) {\n",
       "      \n",
       "      document.getElementById(\"1cfefdfc-d94e-4fab-b3e2-4883df4b3fae\").textContent = \"BokehJS is loading...\";\n",
       "    },\n",
       "    function(Bokeh) {\n",
       "      console.log(\"Bokeh: injecting CSS: https://cdn.pydata.org/bokeh/release/bokeh-0.12.5.min.css\");\n",
       "      Bokeh.embed.inject_css(\"https://cdn.pydata.org/bokeh/release/bokeh-0.12.5.min.css\");\n",
       "      console.log(\"Bokeh: injecting CSS: https://cdn.pydata.org/bokeh/release/bokeh-widgets-0.12.5.min.css\");\n",
       "      Bokeh.embed.inject_css(\"https://cdn.pydata.org/bokeh/release/bokeh-widgets-0.12.5.min.css\");\n",
       "    }\n",
       "  ];\n",
       "\n",
       "  function run_inline_js() {\n",
       "    \n",
       "    if ((window.Bokeh !== undefined) || (force === true)) {\n",
       "      for (var i = 0; i < inline_js.length; i++) {\n",
       "        inline_js[i](window.Bokeh);\n",
       "      }if (force === true) {\n",
       "        display_loaded();\n",
       "      }} else if (Date.now() < window._bokeh_timeout) {\n",
       "      setTimeout(run_inline_js, 100);\n",
       "    } else if (!window._bokeh_failed_load) {\n",
       "      console.log(\"Bokeh: BokehJS failed to load within specified timeout.\");\n",
       "      window._bokeh_failed_load = true;\n",
       "    } else if (force !== true) {\n",
       "      var cell = $(document.getElementById(\"1cfefdfc-d94e-4fab-b3e2-4883df4b3fae\")).parents('.cell').data().cell;\n",
       "      cell.output_area.append_execute_result(NB_LOAD_WARNING)\n",
       "    }\n",
       "\n",
       "  }\n",
       "\n",
       "  if (window._bokeh_is_loading === 0) {\n",
       "    console.log(\"Bokeh: BokehJS loaded, going straight to plotting\");\n",
       "    run_inline_js();\n",
       "  } else {\n",
       "    load_libs(js_urls, function() {\n",
       "      console.log(\"Bokeh: BokehJS plotting callback run at\", now());\n",
       "      run_inline_js();\n",
       "    });\n",
       "  }\n",
       "}(this));"
      ]
     },
     "metadata": {},
     "output_type": "display_data"
    }
   ],
   "source": [
    "from bokeh.charts import Line, show, output_notebook\n",
    "output_notebook()"
   ]
  },
  {
   "cell_type": "code",
   "execution_count": 4,
   "metadata": {
    "collapsed": false
   },
   "outputs": [],
   "source": [
    "nlp_uids = [u for u, f in load_nlp_selected_users()]"
   ]
  },
  {
   "cell_type": "code",
   "execution_count": 5,
   "metadata": {
    "collapsed": false
   },
   "outputs": [
    {
     "data": {
      "text/html": [
       "\n",
       "\n",
       "    <div class=\"bk-root\">\n",
       "        <div class=\"bk-plotdiv\" id=\"a508c0e2-88a2-4020-ad1e-fdeabc887f7f\"></div>\n",
       "    </div>\n",
       "<script type=\"text/javascript\">\n",
       "  \n",
       "  (function(global) {\n",
       "    function now() {\n",
       "      return new Date();\n",
       "    }\n",
       "  \n",
       "    var force = false;\n",
       "  \n",
       "    if (typeof (window._bokeh_onload_callbacks) === \"undefined\" || force === true) {\n",
       "      window._bokeh_onload_callbacks = [];\n",
       "      window._bokeh_is_loading = undefined;\n",
       "    }\n",
       "  \n",
       "  \n",
       "    \n",
       "    if (typeof (window._bokeh_timeout) === \"undefined\" || force === true) {\n",
       "      window._bokeh_timeout = Date.now() + 0;\n",
       "      window._bokeh_failed_load = false;\n",
       "    }\n",
       "  \n",
       "    var NB_LOAD_WARNING = {'data': {'text/html':\n",
       "       \"<div style='background-color: #fdd'>\\n\"+\n",
       "       \"<p>\\n\"+\n",
       "       \"BokehJS does not appear to have successfully loaded. If loading BokehJS from CDN, this \\n\"+\n",
       "       \"may be due to a slow or bad network connection. Possible fixes:\\n\"+\n",
       "       \"</p>\\n\"+\n",
       "       \"<ul>\\n\"+\n",
       "       \"<li>re-rerun `output_notebook()` to attempt to load from CDN again, or</li>\\n\"+\n",
       "       \"<li>use INLINE resources instead, as so:</li>\\n\"+\n",
       "       \"</ul>\\n\"+\n",
       "       \"<code>\\n\"+\n",
       "       \"from bokeh.resources import INLINE\\n\"+\n",
       "       \"output_notebook(resources=INLINE)\\n\"+\n",
       "       \"</code>\\n\"+\n",
       "       \"</div>\"}};\n",
       "  \n",
       "    function display_loaded() {\n",
       "      if (window.Bokeh !== undefined) {\n",
       "        var el = document.getElementById(\"a508c0e2-88a2-4020-ad1e-fdeabc887f7f\");\n",
       "        el.textContent = \"BokehJS \" + Bokeh.version + \" successfully loaded.\";\n",
       "      } else if (Date.now() < window._bokeh_timeout) {\n",
       "        setTimeout(display_loaded, 100)\n",
       "      }\n",
       "    }\n",
       "  \n",
       "    function run_callbacks() {\n",
       "      window._bokeh_onload_callbacks.forEach(function(callback) { callback() });\n",
       "      delete window._bokeh_onload_callbacks\n",
       "      console.info(\"Bokeh: all callbacks have finished\");\n",
       "    }\n",
       "  \n",
       "    function load_libs(js_urls, callback) {\n",
       "      window._bokeh_onload_callbacks.push(callback);\n",
       "      if (window._bokeh_is_loading > 0) {\n",
       "        console.log(\"Bokeh: BokehJS is being loaded, scheduling callback at\", now());\n",
       "        return null;\n",
       "      }\n",
       "      if (js_urls == null || js_urls.length === 0) {\n",
       "        run_callbacks();\n",
       "        return null;\n",
       "      }\n",
       "      console.log(\"Bokeh: BokehJS not loaded, scheduling load and callback at\", now());\n",
       "      window._bokeh_is_loading = js_urls.length;\n",
       "      for (var i = 0; i < js_urls.length; i++) {\n",
       "        var url = js_urls[i];\n",
       "        var s = document.createElement('script');\n",
       "        s.src = url;\n",
       "        s.async = false;\n",
       "        s.onreadystatechange = s.onload = function() {\n",
       "          window._bokeh_is_loading--;\n",
       "          if (window._bokeh_is_loading === 0) {\n",
       "            console.log(\"Bokeh: all BokehJS libraries loaded\");\n",
       "            run_callbacks()\n",
       "          }\n",
       "        };\n",
       "        s.onerror = function() {\n",
       "          console.warn(\"failed to load library \" + url);\n",
       "        };\n",
       "        console.log(\"Bokeh: injecting script tag for BokehJS library: \", url);\n",
       "        document.getElementsByTagName(\"head\")[0].appendChild(s);\n",
       "      }\n",
       "    };var element = document.getElementById(\"a508c0e2-88a2-4020-ad1e-fdeabc887f7f\");\n",
       "    if (element == null) {\n",
       "      console.log(\"Bokeh: ERROR: autoload.js configured with elementid 'a508c0e2-88a2-4020-ad1e-fdeabc887f7f' but no matching script tag was found. \")\n",
       "      return false;\n",
       "    }\n",
       "  \n",
       "    var js_urls = [];\n",
       "  \n",
       "    var inline_js = [\n",
       "      function(Bokeh) {\n",
       "        (function() {\n",
       "          var fn = function() {\n",
       "            var docs_json = {\"181fbbf2-d744-4a54-b537-78d029c0c751\":{\"roots\":{\"references\":[{\"attributes\":{\"data_source\":{\"id\":\"efe5e437-1e08-4caf-bf47-ebbe8b12653d\",\"type\":\"ColumnDataSource\"},\"glyph\":{\"id\":\"994b11b2-0dd6-4135-be68-f5c91f8b9113\",\"type\":\"Line\"},\"hover_glyph\":null,\"muted_glyph\":null},\"id\":\"50185ed1-852d-4983-a511-1fdca2f7644c\",\"type\":\"GlyphRenderer\"},{\"attributes\":{},\"id\":\"4d3ec5df-70de-4985-9d64-ab634d63171f\",\"type\":\"BasicTickFormatter\"},{\"attributes\":{\"below\":[{\"id\":\"6003157e-49a3-402f-830f-76cdbb912a16\",\"type\":\"LinearAxis\"}],\"css_classes\":null,\"left\":[{\"id\":\"72be7c01-bd15-4d27-aba4-8a696f974f64\",\"type\":\"LinearAxis\"}],\"renderers\":[{\"id\":\"f228a7ce-9936-46ff-98a1-3b8bcaf23f61\",\"type\":\"BoxAnnotation\"},{\"id\":\"50185ed1-852d-4983-a511-1fdca2f7644c\",\"type\":\"GlyphRenderer\"},{\"id\":\"3cdfcc9f-1947-4939-80ce-536ffd3f7695\",\"type\":\"GlyphRenderer\"},{\"id\":\"b89a07a9-e16f-4a20-9b7f-5ec9dc137e3b\",\"type\":\"Legend\"},{\"id\":\"6003157e-49a3-402f-830f-76cdbb912a16\",\"type\":\"LinearAxis\"},{\"id\":\"72be7c01-bd15-4d27-aba4-8a696f974f64\",\"type\":\"LinearAxis\"},{\"id\":\"f42ca3cd-d306-4d35-812e-33eba7352bed\",\"type\":\"Grid\"},{\"id\":\"74e2617c-c8b7-4793-a271-36ce30a679ae\",\"type\":\"Grid\"}],\"title\":{\"id\":\"d8ceeb3f-ad97-4a21-8531-dec168725aba\",\"type\":\"Title\"},\"tool_events\":{\"id\":\"c81f8093-a846-4a15-bb36-366c69dbf26d\",\"type\":\"ToolEvents\"},\"toolbar\":{\"id\":\"311e091f-149a-4409-ad5f-f78ced7c78d2\",\"type\":\"Toolbar\"},\"x_mapper_type\":\"auto\",\"x_range\":{\"id\":\"8b5725d0-6914-492c-a745-e7c788e97e13\",\"type\":\"Range1d\"},\"y_mapper_type\":\"auto\",\"y_range\":{\"id\":\"0b3aeb28-4d2b-49bb-8f4d-4268e6740ff4\",\"type\":\"Range1d\"}},\"id\":\"3cb311c9-9b0b-409a-9d2d-31120679ded3\",\"subtype\":\"Chart\",\"type\":\"Plot\"},{\"attributes\":{},\"id\":\"e25120c7-4b9c-4f95-adb7-be73969b0612\",\"type\":\"BasicTicker\"},{\"attributes\":{\"axis_label\":\"puntaje f1 sobre datos de evaluaci\\u00f3n\",\"formatter\":{\"id\":\"4d3ec5df-70de-4985-9d64-ab634d63171f\",\"type\":\"BasicTickFormatter\"},\"plot\":{\"id\":\"3cb311c9-9b0b-409a-9d2d-31120679ded3\",\"subtype\":\"Chart\",\"type\":\"Plot\"},\"ticker\":{\"id\":\"e25120c7-4b9c-4f95-adb7-be73969b0612\",\"type\":\"BasicTicker\"}},\"id\":\"72be7c01-bd15-4d27-aba4-8a696f974f64\",\"type\":\"LinearAxis\"},{\"attributes\":{\"plot\":{\"id\":\"3cb311c9-9b0b-409a-9d2d-31120679ded3\",\"subtype\":\"Chart\",\"type\":\"Plot\"}},\"id\":\"423a0004-0cfa-4ca3-ae0a-ef6bddeadc6b\",\"type\":\"HelpTool\"},{\"attributes\":{\"overlay\":{\"id\":\"f228a7ce-9936-46ff-98a1-3b8bcaf23f61\",\"type\":\"BoxAnnotation\"},\"plot\":{\"id\":\"3cb311c9-9b0b-409a-9d2d-31120679ded3\",\"subtype\":\"Chart\",\"type\":\"Plot\"}},\"id\":\"385ebee2-7d57-4cc2-887f-5f41ec3d221e\",\"type\":\"BoxZoomTool\"},{\"attributes\":{\"plot\":{\"id\":\"3cb311c9-9b0b-409a-9d2d-31120679ded3\",\"subtype\":\"Chart\",\"type\":\"Plot\"}},\"id\":\"421dc494-b929-47ec-ab85-9fb1c9cf565b\",\"type\":\"SaveTool\"},{\"attributes\":{\"data_source\":{\"id\":\"0f307c7c-dff0-43b3-8d6b-8967d55f242a\",\"type\":\"ColumnDataSource\"},\"glyph\":{\"id\":\"adc55bfd-3f82-4612-b554-a1646d9f470b\",\"type\":\"Line\"},\"hover_glyph\":null,\"muted_glyph\":null},\"id\":\"3cdfcc9f-1947-4939-80ce-536ffd3f7695\",\"type\":\"GlyphRenderer\"},{\"attributes\":{},\"id\":\"c81f8093-a846-4a15-bb36-366c69dbf26d\",\"type\":\"ToolEvents\"},{\"attributes\":{\"label\":{\"value\":\"social\"},\"renderers\":[{\"id\":\"50185ed1-852d-4983-a511-1fdca2f7644c\",\"type\":\"GlyphRenderer\"}]},\"id\":\"bc796d9f-6892-4540-aa37-8f8b1a64cbba\",\"type\":\"LegendItem\"},{\"attributes\":{\"bottom_units\":\"screen\",\"fill_alpha\":{\"value\":0.5},\"fill_color\":{\"value\":\"lightgrey\"},\"left_units\":\"screen\",\"level\":\"overlay\",\"line_alpha\":{\"value\":1.0},\"line_color\":{\"value\":\"black\"},\"line_dash\":[4,4],\"line_width\":{\"value\":2},\"plot\":null,\"render_mode\":\"css\",\"right_units\":\"screen\",\"top_units\":\"screen\"},\"id\":\"f228a7ce-9936-46ff-98a1-3b8bcaf23f61\",\"type\":\"BoxAnnotation\"},{\"attributes\":{\"line_color\":{\"value\":\"#5ab738\"},\"line_dash\":[6],\"line_width\":{\"value\":2},\"x\":{\"field\":\"x_values\"},\"y\":{\"field\":\"y_values\"}},\"id\":\"adc55bfd-3f82-4612-b554-a1646d9f470b\",\"type\":\"Line\"},{\"attributes\":{\"callback\":null,\"column_names\":[\"x_values\",\"y_values\"],\"data\":{\"chart_index\":[{\"series\":\"social\"},{\"series\":\"social\"},{\"series\":\"social\"},{\"series\":\"social\"},{\"series\":\"social\"},{\"series\":\"social\"},{\"series\":\"social\"},{\"series\":\"social\"},{\"series\":\"social\"},{\"series\":\"social\"},{\"series\":\"social\"},{\"series\":\"social\"},{\"series\":\"social\"},{\"series\":\"social\"},{\"series\":\"social\"},{\"series\":\"social\"},{\"series\":\"social\"},{\"series\":\"social\"},{\"series\":\"social\"},{\"series\":\"social\"},{\"series\":\"social\"},{\"series\":\"social\"},{\"series\":\"social\"},{\"series\":\"social\"},{\"series\":\"social\"},{\"series\":\"social\"},{\"series\":\"social\"},{\"series\":\"social\"},{\"series\":\"social\"},{\"series\":\"social\"},{\"series\":\"social\"},{\"series\":\"social\"},{\"series\":\"social\"},{\"series\":\"social\"},{\"series\":\"social\"},{\"series\":\"social\"},{\"series\":\"social\"}],\"series\":[\"social\",\"social\",\"social\",\"social\",\"social\",\"social\",\"social\",\"social\",\"social\",\"social\",\"social\",\"social\",\"social\",\"social\",\"social\",\"social\",\"social\",\"social\",\"social\",\"social\",\"social\",\"social\",\"social\",\"social\",\"social\",\"social\",\"social\",\"social\",\"social\",\"social\",\"social\",\"social\",\"social\",\"social\",\"social\",\"social\",\"social\"],\"x_values\":[0,1,2,3,4,5,6,7,8,9,10,11,12,13,14,15,16,17,18,19,20,21,22,23,24,25,26,27,28,29,30,31,32,33,34,35,36],\"y_values\":{\"__ndarray__\":\"g/1WG0PTrT900UUXXXThP6uqqqqqquI/09LS0tLS4j/IU4I8JcjjPwAAAAAAAOQ/AAAAAAAA5D9VVVVVVVXlP1VVVVVVVeU/VVVVVVVV5T9VVVVVVVXlP1VVVVVVVeU/2pWoXYna5T9lIQtZyELmP5dlWZZlWeY/Z2ZmZmZm5j9nZmZmZmbmP5eWlpaWluY/qqqqqqqq5j+qqqqqqqrmP7dt27Zt2+Y/l2/5lm/55j94d3d3d3fnP7169erVq+c/QnsJ7SW05z/0BX1BX9DnP////////+c/OY7jOI7j6D/TjhUII+3oP5uZmZmZmek/////////6j9yBTG5gpjsP6DcAcodoOw/ntiJndiJ7T97rGXogN3uP/jee++99+4/PF5sCb7N7z8=\",\"dtype\":\"float64\",\"shape\":[37]}}},\"id\":\"efe5e437-1e08-4caf-bf47-ebbe8b12653d\",\"type\":\"ColumnDataSource\"},{\"attributes\":{\"callback\":null,\"column_names\":[\"x_values\",\"y_values\"],\"data\":{\"chart_index\":[{\"series\":\"social+lda10\"},{\"series\":\"social+lda10\"},{\"series\":\"social+lda10\"},{\"series\":\"social+lda10\"},{\"series\":\"social+lda10\"},{\"series\":\"social+lda10\"},{\"series\":\"social+lda10\"},{\"series\":\"social+lda10\"},{\"series\":\"social+lda10\"},{\"series\":\"social+lda10\"},{\"series\":\"social+lda10\"},{\"series\":\"social+lda10\"},{\"series\":\"social+lda10\"},{\"series\":\"social+lda10\"},{\"series\":\"social+lda10\"},{\"series\":\"social+lda10\"},{\"series\":\"social+lda10\"},{\"series\":\"social+lda10\"},{\"series\":\"social+lda10\"},{\"series\":\"social+lda10\"},{\"series\":\"social+lda10\"},{\"series\":\"social+lda10\"},{\"series\":\"social+lda10\"},{\"series\":\"social+lda10\"},{\"series\":\"social+lda10\"},{\"series\":\"social+lda10\"},{\"series\":\"social+lda10\"},{\"series\":\"social+lda10\"},{\"series\":\"social+lda10\"},{\"series\":\"social+lda10\"},{\"series\":\"social+lda10\"},{\"series\":\"social+lda10\"},{\"series\":\"social+lda10\"},{\"series\":\"social+lda10\"},{\"series\":\"social+lda10\"},{\"series\":\"social+lda10\"},{\"series\":\"social+lda10\"}],\"series\":[\"social+lda10\",\"social+lda10\",\"social+lda10\",\"social+lda10\",\"social+lda10\",\"social+lda10\",\"social+lda10\",\"social+lda10\",\"social+lda10\",\"social+lda10\",\"social+lda10\",\"social+lda10\",\"social+lda10\",\"social+lda10\",\"social+lda10\",\"social+lda10\",\"social+lda10\",\"social+lda10\",\"social+lda10\",\"social+lda10\",\"social+lda10\",\"social+lda10\",\"social+lda10\",\"social+lda10\",\"social+lda10\",\"social+lda10\",\"social+lda10\",\"social+lda10\",\"social+lda10\",\"social+lda10\",\"social+lda10\",\"social+lda10\",\"social+lda10\",\"social+lda10\",\"social+lda10\",\"social+lda10\",\"social+lda10\"],\"x_values\":[0,1,2,3,4,5,6,7,8,9,10,11,12,13,14,15,16,17,18,19,20,21,22,23,24,25,26,27,28,29,30,31,32,33,34,35,36],\"y_values\":{\"__ndarray__\":\"R1juaYTl7j900UUXXXThP2G5pxGWe+o/09LS0tLS4j/ctm3btm3jPwAAAAAAAOQ/ZZNNNtlk4z80UjG3OiPlP7BevXr16uU/VVVVVVVV5T9VVVVVVVXlP1cQkyuIyeU/2pWoXYna5T9lIQtZyELmP5dlWZZlWeY/Z2ZmZmZm5j9nZmZmZmbmP1ZVVVVVVeU/Ut/ZqO9s5D+qqqqqqqrmP7dt27Zt2+Y/25WoXYna5T94d3d3d3fnP/ntUk/Gb+c/QnsJ7SW05z/0BX1BX9DnP////////+c/OY7jOI7j6D/TjhUII+3oP8+6wRT5rOs/eqBydgu/6j9yBTG5gpjsP9scu82x2+w/HcdxHMdx7D/2rgO6MU/vP/jee++99+4/PF5sCb7N7z8=\",\"dtype\":\"float64\",\"shape\":[37]}}},\"id\":\"0f307c7c-dff0-43b3-8d6b-8967d55f242a\",\"type\":\"ColumnDataSource\"},{\"attributes\":{\"callback\":null,\"end\":39.6,\"start\":-3.6},\"id\":\"8b5725d0-6914-492c-a745-e7c788e97e13\",\"type\":\"Range1d\"},{\"attributes\":{\"dimension\":1,\"plot\":{\"id\":\"3cb311c9-9b0b-409a-9d2d-31120679ded3\",\"subtype\":\"Chart\",\"type\":\"Plot\"},\"ticker\":{\"id\":\"e25120c7-4b9c-4f95-adb7-be73969b0612\",\"type\":\"BasicTicker\"}},\"id\":\"74e2617c-c8b7-4793-a271-36ce30a679ae\",\"type\":\"Grid\"},{\"attributes\":{\"label\":{\"value\":\"social+lda10\"},\"renderers\":[{\"id\":\"3cdfcc9f-1947-4939-80ce-536ffd3f7695\",\"type\":\"GlyphRenderer\"}]},\"id\":\"f486f5e3-8165-47ad-be8d-4f17a00ce8ff\",\"type\":\"LegendItem\"},{\"attributes\":{\"plot\":{\"id\":\"3cb311c9-9b0b-409a-9d2d-31120679ded3\",\"subtype\":\"Chart\",\"type\":\"Plot\"},\"ticker\":{\"id\":\"2b4097ab-531a-4d93-8464-f914ef2cac0f\",\"type\":\"BasicTicker\"}},\"id\":\"f42ca3cd-d306-4d35-812e-33eba7352bed\",\"type\":\"Grid\"},{\"attributes\":{},\"id\":\"d3d55e88-7a7f-43ce-b7a6-7fdb7151c096\",\"type\":\"BasicTickFormatter\"},{\"attributes\":{\"active_drag\":\"auto\",\"active_scroll\":\"auto\",\"active_tap\":\"auto\",\"tools\":[{\"id\":\"547e2934-f737-4dca-b66c-4dda21d2b845\",\"type\":\"PanTool\"},{\"id\":\"38656ad2-59e5-4398-aec6-4999603f893d\",\"type\":\"WheelZoomTool\"},{\"id\":\"385ebee2-7d57-4cc2-887f-5f41ec3d221e\",\"type\":\"BoxZoomTool\"},{\"id\":\"421dc494-b929-47ec-ab85-9fb1c9cf565b\",\"type\":\"SaveTool\"},{\"id\":\"0b79e37b-9ce7-4b9a-85c3-dcb41d31ab99\",\"type\":\"ResetTool\"},{\"id\":\"423a0004-0cfa-4ca3-ae0a-ef6bddeadc6b\",\"type\":\"HelpTool\"}]},\"id\":\"311e091f-149a-4409-ad5f-f78ced7c78d2\",\"type\":\"Toolbar\"},{\"attributes\":{\"plot\":{\"id\":\"3cb311c9-9b0b-409a-9d2d-31120679ded3\",\"subtype\":\"Chart\",\"type\":\"Plot\"}},\"id\":\"547e2934-f737-4dca-b66c-4dda21d2b845\",\"type\":\"PanTool\"},{\"attributes\":{\"plot\":{\"id\":\"3cb311c9-9b0b-409a-9d2d-31120679ded3\",\"subtype\":\"Chart\",\"type\":\"Plot\"}},\"id\":\"0b79e37b-9ce7-4b9a-85c3-dcb41d31ab99\",\"type\":\"ResetTool\"},{\"attributes\":{\"callback\":null,\"end\":1.0874262910238848,\"start\":-0.035308833164572055},\"id\":\"0b3aeb28-4d2b-49bb-8f4d-4268e6740ff4\",\"type\":\"Range1d\"},{\"attributes\":{\"line_color\":{\"value\":\"#f22c40\"},\"line_width\":{\"value\":2},\"x\":{\"field\":\"x_values\"},\"y\":{\"field\":\"y_values\"}},\"id\":\"994b11b2-0dd6-4135-be68-f5c91f8b9113\",\"type\":\"Line\"},{\"attributes\":{},\"id\":\"2b4097ab-531a-4d93-8464-f914ef2cac0f\",\"type\":\"BasicTicker\"},{\"attributes\":{\"axis_label\":\"usuarios (ordenados por f1 del modelo social en datos de evaluaci\\u00f3n)\",\"formatter\":{\"id\":\"d3d55e88-7a7f-43ce-b7a6-7fdb7151c096\",\"type\":\"BasicTickFormatter\"},\"plot\":{\"id\":\"3cb311c9-9b0b-409a-9d2d-31120679ded3\",\"subtype\":\"Chart\",\"type\":\"Plot\"},\"ticker\":{\"id\":\"2b4097ab-531a-4d93-8464-f914ef2cac0f\",\"type\":\"BasicTicker\"}},\"id\":\"6003157e-49a3-402f-830f-76cdbb912a16\",\"type\":\"LinearAxis\"},{\"attributes\":{\"items\":[{\"id\":\"f486f5e3-8165-47ad-be8d-4f17a00ce8ff\",\"type\":\"LegendItem\"},{\"id\":\"bc796d9f-6892-4540-aa37-8f8b1a64cbba\",\"type\":\"LegendItem\"}],\"location\":\"top_left\",\"plot\":{\"id\":\"3cb311c9-9b0b-409a-9d2d-31120679ded3\",\"subtype\":\"Chart\",\"type\":\"Plot\"}},\"id\":\"b89a07a9-e16f-4a20-9b7f-5ec9dc137e3b\",\"type\":\"Legend\"},{\"attributes\":{\"plot\":{\"id\":\"3cb311c9-9b0b-409a-9d2d-31120679ded3\",\"subtype\":\"Chart\",\"type\":\"Plot\"}},\"id\":\"38656ad2-59e5-4398-aec6-4999603f893d\",\"type\":\"WheelZoomTool\"},{\"attributes\":{\"plot\":null,\"text\":null},\"id\":\"d8ceeb3f-ad97-4a21-8531-dec168725aba\",\"type\":\"Title\"}],\"root_ids\":[\"3cb311c9-9b0b-409a-9d2d-31120679ded3\"]},\"title\":\"Bokeh Application\",\"version\":\"0.12.5\"}};\n",
       "            var render_items = [{\"docid\":\"181fbbf2-d744-4a54-b537-78d029c0c751\",\"elementid\":\"a508c0e2-88a2-4020-ad1e-fdeabc887f7f\",\"modelid\":\"3cb311c9-9b0b-409a-9d2d-31120679ded3\"}];\n",
       "            \n",
       "            Bokeh.embed.embed_items(docs_json, render_items);\n",
       "          };\n",
       "          if (document.readyState != \"loading\") fn();\n",
       "          else document.addEventListener(\"DOMContentLoaded\", fn);\n",
       "        })();\n",
       "      },\n",
       "      function(Bokeh) {\n",
       "      }\n",
       "    ];\n",
       "  \n",
       "    function run_inline_js() {\n",
       "      \n",
       "      if ((window.Bokeh !== undefined) || (force === true)) {\n",
       "        for (var i = 0; i < inline_js.length; i++) {\n",
       "          inline_js[i](window.Bokeh);\n",
       "        }if (force === true) {\n",
       "          display_loaded();\n",
       "        }} else if (Date.now() < window._bokeh_timeout) {\n",
       "        setTimeout(run_inline_js, 100);\n",
       "      } else if (!window._bokeh_failed_load) {\n",
       "        console.log(\"Bokeh: BokehJS failed to load within specified timeout.\");\n",
       "        window._bokeh_failed_load = true;\n",
       "      } else if (force !== true) {\n",
       "        var cell = $(document.getElementById(\"a508c0e2-88a2-4020-ad1e-fdeabc887f7f\")).parents('.cell').data().cell;\n",
       "        cell.output_area.append_execute_result(NB_LOAD_WARNING)\n",
       "      }\n",
       "  \n",
       "    }\n",
       "  \n",
       "    if (window._bokeh_is_loading === 0) {\n",
       "      console.log(\"Bokeh: BokehJS loaded, going straight to plotting\");\n",
       "      run_inline_js();\n",
       "    } else {\n",
       "      load_libs(js_urls, function() {\n",
       "        console.log(\"Bokeh: BokehJS plotting callback run at\", now());\n",
       "        run_inline_js();\n",
       "      });\n",
       "    }\n",
       "  }(this));\n",
       "</script>"
      ]
     },
     "metadata": {},
     "output_type": "display_data"
    }
   ],
   "source": [
    "with open('scores/t%d_f1s_valid_svc.json' % n_topics) as f:\n",
    "    f1s_combined = json.load(f)\n",
    "\n",
    "f1s_social = json.load(open('../_1_one_user_learn_neighbours/scores/f1s_valid_svc.json'))\n",
    "f1s_social = {u: f for u, f in f1s_social.items() if u in nlp_uids}\n",
    "\n",
    "sorted_uids = [u for u, f in sorted(f1s_social.items(), key=lambda x:x[1])]\n",
    "indices = range(len(sorted_uids))\n",
    "\n",
    "f1s_lda = np.array([f1s_combined[sorted_uids[i]] for i in indices])\n",
    "f1s_s = np.array([f1s_social[sorted_uids[i]] for i in indices])\n",
    "\n",
    "# build a dataset where multiple columns measure the same thing\n",
    "data = {\n",
    "    \"social\": f1s_s,\n",
    "    \"social+lda%d\" % n_topics: f1s_lda\n",
    "}\n",
    "\n",
    "labels = ['social', 'social+lda%d' % n_topics]\n",
    "\n",
    "# create a line chart where each column of measures receives a unique color and dash style\n",
    "line = Line(data, y=labels,\n",
    "            dash=labels,\n",
    "            color=labels,\n",
    "            legend_sort_field = 'color',\n",
    "            legend_sort_direction = 'descending',\n",
    "            xlabel='usuarios (ordenados por f1 del modelo social en datos de evaluación)',\n",
    "            ylabel='puntaje f1 sobre datos de evaluación', legend=True)\n",
    "\n",
    "show(line)"
   ]
  },
  {
   "cell_type": "code",
   "execution_count": 6,
   "metadata": {
    "collapsed": false
   },
   "outputs": [
    {
     "data": {
      "text/plain": [
       "7"
      ]
     },
     "execution_count": 6,
     "metadata": {},
     "output_type": "execute_result"
    }
   ],
   "source": [
    "sum(f1s_lda > f1s_s)"
   ]
  },
  {
   "cell_type": "code",
   "execution_count": 7,
   "metadata": {
    "collapsed": false
   },
   "outputs": [
    {
     "data": {
      "text/plain": [
       "0.7457994310531465"
      ]
     },
     "execution_count": 7,
     "metadata": {},
     "output_type": "execute_result"
    }
   ],
   "source": [
    "np.mean(f1s_lda)"
   ]
  },
  {
   "cell_type": "code",
   "execution_count": 8,
   "metadata": {
    "collapsed": false
   },
   "outputs": [
    {
     "data": {
      "text/plain": [
       "0.71768682625332803"
      ]
     },
     "execution_count": 8,
     "metadata": {},
     "output_type": "execute_result"
    }
   ],
   "source": [
    "np.mean(f1s_s)"
   ]
  },
  {
   "cell_type": "markdown",
   "metadata": {},
   "source": [
    "# Comparación en test set"
   ]
  },
  {
   "cell_type": "code",
   "execution_count": 9,
   "metadata": {
    "collapsed": false
   },
   "outputs": [
    {
     "data": {
      "text/html": [
       "\n",
       "\n",
       "    <div class=\"bk-root\">\n",
       "        <div class=\"bk-plotdiv\" id=\"cc343bab-1fa8-4626-9532-381128fc7d48\"></div>\n",
       "    </div>\n",
       "<script type=\"text/javascript\">\n",
       "  \n",
       "  (function(global) {\n",
       "    function now() {\n",
       "      return new Date();\n",
       "    }\n",
       "  \n",
       "    var force = false;\n",
       "  \n",
       "    if (typeof (window._bokeh_onload_callbacks) === \"undefined\" || force === true) {\n",
       "      window._bokeh_onload_callbacks = [];\n",
       "      window._bokeh_is_loading = undefined;\n",
       "    }\n",
       "  \n",
       "  \n",
       "    \n",
       "    if (typeof (window._bokeh_timeout) === \"undefined\" || force === true) {\n",
       "      window._bokeh_timeout = Date.now() + 0;\n",
       "      window._bokeh_failed_load = false;\n",
       "    }\n",
       "  \n",
       "    var NB_LOAD_WARNING = {'data': {'text/html':\n",
       "       \"<div style='background-color: #fdd'>\\n\"+\n",
       "       \"<p>\\n\"+\n",
       "       \"BokehJS does not appear to have successfully loaded. If loading BokehJS from CDN, this \\n\"+\n",
       "       \"may be due to a slow or bad network connection. Possible fixes:\\n\"+\n",
       "       \"</p>\\n\"+\n",
       "       \"<ul>\\n\"+\n",
       "       \"<li>re-rerun `output_notebook()` to attempt to load from CDN again, or</li>\\n\"+\n",
       "       \"<li>use INLINE resources instead, as so:</li>\\n\"+\n",
       "       \"</ul>\\n\"+\n",
       "       \"<code>\\n\"+\n",
       "       \"from bokeh.resources import INLINE\\n\"+\n",
       "       \"output_notebook(resources=INLINE)\\n\"+\n",
       "       \"</code>\\n\"+\n",
       "       \"</div>\"}};\n",
       "  \n",
       "    function display_loaded() {\n",
       "      if (window.Bokeh !== undefined) {\n",
       "        var el = document.getElementById(\"cc343bab-1fa8-4626-9532-381128fc7d48\");\n",
       "        el.textContent = \"BokehJS \" + Bokeh.version + \" successfully loaded.\";\n",
       "      } else if (Date.now() < window._bokeh_timeout) {\n",
       "        setTimeout(display_loaded, 100)\n",
       "      }\n",
       "    }\n",
       "  \n",
       "    function run_callbacks() {\n",
       "      window._bokeh_onload_callbacks.forEach(function(callback) { callback() });\n",
       "      delete window._bokeh_onload_callbacks\n",
       "      console.info(\"Bokeh: all callbacks have finished\");\n",
       "    }\n",
       "  \n",
       "    function load_libs(js_urls, callback) {\n",
       "      window._bokeh_onload_callbacks.push(callback);\n",
       "      if (window._bokeh_is_loading > 0) {\n",
       "        console.log(\"Bokeh: BokehJS is being loaded, scheduling callback at\", now());\n",
       "        return null;\n",
       "      }\n",
       "      if (js_urls == null || js_urls.length === 0) {\n",
       "        run_callbacks();\n",
       "        return null;\n",
       "      }\n",
       "      console.log(\"Bokeh: BokehJS not loaded, scheduling load and callback at\", now());\n",
       "      window._bokeh_is_loading = js_urls.length;\n",
       "      for (var i = 0; i < js_urls.length; i++) {\n",
       "        var url = js_urls[i];\n",
       "        var s = document.createElement('script');\n",
       "        s.src = url;\n",
       "        s.async = false;\n",
       "        s.onreadystatechange = s.onload = function() {\n",
       "          window._bokeh_is_loading--;\n",
       "          if (window._bokeh_is_loading === 0) {\n",
       "            console.log(\"Bokeh: all BokehJS libraries loaded\");\n",
       "            run_callbacks()\n",
       "          }\n",
       "        };\n",
       "        s.onerror = function() {\n",
       "          console.warn(\"failed to load library \" + url);\n",
       "        };\n",
       "        console.log(\"Bokeh: injecting script tag for BokehJS library: \", url);\n",
       "        document.getElementsByTagName(\"head\")[0].appendChild(s);\n",
       "      }\n",
       "    };var element = document.getElementById(\"cc343bab-1fa8-4626-9532-381128fc7d48\");\n",
       "    if (element == null) {\n",
       "      console.log(\"Bokeh: ERROR: autoload.js configured with elementid 'cc343bab-1fa8-4626-9532-381128fc7d48' but no matching script tag was found. \")\n",
       "      return false;\n",
       "    }\n",
       "  \n",
       "    var js_urls = [];\n",
       "  \n",
       "    var inline_js = [\n",
       "      function(Bokeh) {\n",
       "        (function() {\n",
       "          var fn = function() {\n",
       "            var docs_json = {\"e8c832dc-52fe-446f-82ec-a8aca1d33183\":{\"roots\":{\"references\":[{\"attributes\":{\"bottom_units\":\"screen\",\"fill_alpha\":{\"value\":0.5},\"fill_color\":{\"value\":\"lightgrey\"},\"left_units\":\"screen\",\"level\":\"overlay\",\"line_alpha\":{\"value\":1.0},\"line_color\":{\"value\":\"black\"},\"line_dash\":[4,4],\"line_width\":{\"value\":2},\"plot\":null,\"render_mode\":\"css\",\"right_units\":\"screen\",\"top_units\":\"screen\"},\"id\":\"d14b248b-fed3-4fe9-b11c-3400d4438a21\",\"type\":\"BoxAnnotation\"},{\"attributes\":{},\"id\":\"40640517-27c9-419a-892a-52c547b75bcf\",\"type\":\"BasicTicker\"},{\"attributes\":{\"plot\":{\"id\":\"cd847891-3a2f-461d-aec7-987a1eafea22\",\"subtype\":\"Chart\",\"type\":\"Plot\"}},\"id\":\"c545caaa-ca78-407b-bf63-a78fc146c01e\",\"type\":\"PanTool\"},{\"attributes\":{\"line_color\":{\"value\":\"#f22c40\"},\"line_width\":{\"value\":2},\"x\":{\"field\":\"x_values\"},\"y\":{\"field\":\"y_values\"}},\"id\":\"5d521a09-676f-4309-aee5-c53d80144a81\",\"type\":\"Line\"},{\"attributes\":{\"below\":[{\"id\":\"e185a89f-ad5a-4953-af83-2323f2a7a383\",\"type\":\"LinearAxis\"}],\"css_classes\":null,\"left\":[{\"id\":\"6a7724ff-82f9-43f9-bf8a-45c0166d855f\",\"type\":\"LinearAxis\"}],\"renderers\":[{\"id\":\"d14b248b-fed3-4fe9-b11c-3400d4438a21\",\"type\":\"BoxAnnotation\"},{\"id\":\"60fa7ad2-d167-4ad7-9b57-86e8d2ef2fac\",\"type\":\"GlyphRenderer\"},{\"id\":\"7147d354-223f-4c2a-9e02-6156955f9912\",\"type\":\"GlyphRenderer\"},{\"id\":\"28685ad3-aee2-414d-8377-0d2705119d3e\",\"type\":\"Legend\"},{\"id\":\"e185a89f-ad5a-4953-af83-2323f2a7a383\",\"type\":\"LinearAxis\"},{\"id\":\"6a7724ff-82f9-43f9-bf8a-45c0166d855f\",\"type\":\"LinearAxis\"},{\"id\":\"e7612dd8-11cf-42b0-80de-9f24a885ede3\",\"type\":\"Grid\"},{\"id\":\"4e70cf1a-5234-4073-a711-fe0d716fc5d5\",\"type\":\"Grid\"}],\"title\":{\"id\":\"d50360d2-aa6b-4750-8cba-32fc9f27de39\",\"type\":\"Title\"},\"tool_events\":{\"id\":\"7bfa33c3-d854-48a6-b3f2-51844561ba60\",\"type\":\"ToolEvents\"},\"toolbar\":{\"id\":\"5edee529-7dfb-490e-96ea-75668cdf0e3b\",\"type\":\"Toolbar\"},\"x_mapper_type\":\"auto\",\"x_range\":{\"id\":\"7e8257e7-fe0a-4b0a-a14e-530c9feb3af2\",\"type\":\"Range1d\"},\"y_mapper_type\":\"auto\",\"y_range\":{\"id\":\"f7cd1ff4-8558-4458-95d4-f4481bedc1dc\",\"type\":\"Range1d\"}},\"id\":\"cd847891-3a2f-461d-aec7-987a1eafea22\",\"subtype\":\"Chart\",\"type\":\"Plot\"},{\"attributes\":{\"plot\":{\"id\":\"cd847891-3a2f-461d-aec7-987a1eafea22\",\"subtype\":\"Chart\",\"type\":\"Plot\"}},\"id\":\"6971516a-14f0-46ba-9c52-241935352876\",\"type\":\"ResetTool\"},{\"attributes\":{},\"id\":\"7bfa33c3-d854-48a6-b3f2-51844561ba60\",\"type\":\"ToolEvents\"},{\"attributes\":{\"callback\":null,\"end\":1.0653808776257756,\"start\":-0.02688196157583911},\"id\":\"f7cd1ff4-8558-4458-95d4-f4481bedc1dc\",\"type\":\"Range1d\"},{\"attributes\":{\"axis_label\":\"puntaje f1 sobre datos de evaluaci\\u00f3n\",\"formatter\":{\"id\":\"1e1702cd-e667-4d80-8fd6-df9c213ef72d\",\"type\":\"BasicTickFormatter\"},\"plot\":{\"id\":\"cd847891-3a2f-461d-aec7-987a1eafea22\",\"subtype\":\"Chart\",\"type\":\"Plot\"},\"ticker\":{\"id\":\"40640517-27c9-419a-892a-52c547b75bcf\",\"type\":\"BasicTicker\"}},\"id\":\"6a7724ff-82f9-43f9-bf8a-45c0166d855f\",\"type\":\"LinearAxis\"},{\"attributes\":{\"plot\":{\"id\":\"cd847891-3a2f-461d-aec7-987a1eafea22\",\"subtype\":\"Chart\",\"type\":\"Plot\"}},\"id\":\"f33d58e0-fd62-48b1-873e-1b882fb2c714\",\"type\":\"SaveTool\"},{\"attributes\":{},\"id\":\"1e1702cd-e667-4d80-8fd6-df9c213ef72d\",\"type\":\"BasicTickFormatter\"},{\"attributes\":{\"plot\":{\"id\":\"cd847891-3a2f-461d-aec7-987a1eafea22\",\"subtype\":\"Chart\",\"type\":\"Plot\"},\"ticker\":{\"id\":\"c5f29c2d-854d-4368-8976-94225e35c9ce\",\"type\":\"BasicTicker\"}},\"id\":\"e7612dd8-11cf-42b0-80de-9f24a885ede3\",\"type\":\"Grid\"},{\"attributes\":{\"axis_label\":\"usuarios (ordenados por f1 del modelo social en datos de evaluaci\\u00f3n)\",\"formatter\":{\"id\":\"ab84beaf-f3fe-4313-9691-d977b25391f2\",\"type\":\"BasicTickFormatter\"},\"plot\":{\"id\":\"cd847891-3a2f-461d-aec7-987a1eafea22\",\"subtype\":\"Chart\",\"type\":\"Plot\"},\"ticker\":{\"id\":\"c5f29c2d-854d-4368-8976-94225e35c9ce\",\"type\":\"BasicTicker\"}},\"id\":\"e185a89f-ad5a-4953-af83-2323f2a7a383\",\"type\":\"LinearAxis\"},{\"attributes\":{\"active_drag\":\"auto\",\"active_scroll\":\"auto\",\"active_tap\":\"auto\",\"tools\":[{\"id\":\"c545caaa-ca78-407b-bf63-a78fc146c01e\",\"type\":\"PanTool\"},{\"id\":\"f3e118b3-0b7b-4f80-867e-e8d39664260f\",\"type\":\"WheelZoomTool\"},{\"id\":\"20ff4520-defe-4ae5-9334-342242da5799\",\"type\":\"BoxZoomTool\"},{\"id\":\"f33d58e0-fd62-48b1-873e-1b882fb2c714\",\"type\":\"SaveTool\"},{\"id\":\"6971516a-14f0-46ba-9c52-241935352876\",\"type\":\"ResetTool\"},{\"id\":\"a7c3fbe3-8e82-4b47-9422-d4919be18981\",\"type\":\"HelpTool\"}]},\"id\":\"5edee529-7dfb-490e-96ea-75668cdf0e3b\",\"type\":\"Toolbar\"},{\"attributes\":{\"label\":{\"value\":\"social+lda10\"},\"renderers\":[{\"id\":\"7147d354-223f-4c2a-9e02-6156955f9912\",\"type\":\"GlyphRenderer\"}]},\"id\":\"5759295d-3c0f-4214-9144-e6ce0504c949\",\"type\":\"LegendItem\"},{\"attributes\":{},\"id\":\"ab84beaf-f3fe-4313-9691-d977b25391f2\",\"type\":\"BasicTickFormatter\"},{\"attributes\":{\"line_color\":{\"value\":\"#5ab738\"},\"line_dash\":[6],\"line_width\":{\"value\":2},\"x\":{\"field\":\"x_values\"},\"y\":{\"field\":\"y_values\"}},\"id\":\"66d9ebef-6d12-49c2-8288-a4387617703b\",\"type\":\"Line\"},{\"attributes\":{\"callback\":null,\"column_names\":[\"x_values\",\"y_values\"],\"data\":{\"chart_index\":[{\"series\":\"social+lda10\"},{\"series\":\"social+lda10\"},{\"series\":\"social+lda10\"},{\"series\":\"social+lda10\"},{\"series\":\"social+lda10\"},{\"series\":\"social+lda10\"},{\"series\":\"social+lda10\"},{\"series\":\"social+lda10\"},{\"series\":\"social+lda10\"},{\"series\":\"social+lda10\"},{\"series\":\"social+lda10\"},{\"series\":\"social+lda10\"},{\"series\":\"social+lda10\"},{\"series\":\"social+lda10\"},{\"series\":\"social+lda10\"},{\"series\":\"social+lda10\"},{\"series\":\"social+lda10\"},{\"series\":\"social+lda10\"},{\"series\":\"social+lda10\"},{\"series\":\"social+lda10\"},{\"series\":\"social+lda10\"},{\"series\":\"social+lda10\"},{\"series\":\"social+lda10\"},{\"series\":\"social+lda10\"},{\"series\":\"social+lda10\"},{\"series\":\"social+lda10\"},{\"series\":\"social+lda10\"},{\"series\":\"social+lda10\"},{\"series\":\"social+lda10\"},{\"series\":\"social+lda10\"},{\"series\":\"social+lda10\"},{\"series\":\"social+lda10\"},{\"series\":\"social+lda10\"},{\"series\":\"social+lda10\"},{\"series\":\"social+lda10\"},{\"series\":\"social+lda10\"},{\"series\":\"social+lda10\"}],\"series\":[\"social+lda10\",\"social+lda10\",\"social+lda10\",\"social+lda10\",\"social+lda10\",\"social+lda10\",\"social+lda10\",\"social+lda10\",\"social+lda10\",\"social+lda10\",\"social+lda10\",\"social+lda10\",\"social+lda10\",\"social+lda10\",\"social+lda10\",\"social+lda10\",\"social+lda10\",\"social+lda10\",\"social+lda10\",\"social+lda10\",\"social+lda10\",\"social+lda10\",\"social+lda10\",\"social+lda10\",\"social+lda10\",\"social+lda10\",\"social+lda10\",\"social+lda10\",\"social+lda10\",\"social+lda10\",\"social+lda10\",\"social+lda10\",\"social+lda10\",\"social+lda10\",\"social+lda10\",\"social+lda10\",\"social+lda10\"],\"x_values\":[0,1,2,3,4,5,6,7,8,9,10,11,12,13,14,15,16,17,18,19,20,21,22,23,24,25,26,27,28,29,30,31,32,33,34,35,36],\"y_values\":{\"__ndarray__\":\"F2iBFmiB5j/43nvvvffeP1EZlVEZleE/VHexVhGd4j+aNGnSpEnjP93TCMs9jeA/n/RJn/RJ3z8pr6G8hvLaPzvavE9xyeA/vEAmxQtk4j+0Q+DGMijlPxQ7sRM7seM/E4y3ss8h5T8Iyz2NsNzjP3oUrkfheuQ/FH+RMyy45D/qoosuuujmP6dE8Eh/Pec/uacRlnsa4T8AAAAAAIDlPzbBeCv7HOI/Kjkvi/gE4j9CeQ3lNZTnP2dmZmZmZt4/5oo9ELaa6j9wWPuGtW/oPzaU11BeQ+k/oHJ2C78a4z8YhmEYhmHoP2RudUYq5uY/25WoXYna5T9H3BF3xB3hP2wor6G8huI/cu3AXDsw5z8LmwOJVtjsP+3T9en6dO0/e9Ob3vSm5z8=\",\"dtype\":\"float64\",\"shape\":[37]}}},\"id\":\"ca8f1c8c-c1bb-43a5-a078-2581a79db0dc\",\"type\":\"ColumnDataSource\"},{\"attributes\":{\"data_source\":{\"id\":\"ca8f1c8c-c1bb-43a5-a078-2581a79db0dc\",\"type\":\"ColumnDataSource\"},\"glyph\":{\"id\":\"66d9ebef-6d12-49c2-8288-a4387617703b\",\"type\":\"Line\"},\"hover_glyph\":null,\"muted_glyph\":null},\"id\":\"7147d354-223f-4c2a-9e02-6156955f9912\",\"type\":\"GlyphRenderer\"},{\"attributes\":{\"plot\":null,\"text\":null},\"id\":\"d50360d2-aa6b-4750-8cba-32fc9f27de39\",\"type\":\"Title\"},{\"attributes\":{\"data_source\":{\"id\":\"5395cd7f-b312-4eba-915c-4c55af0c322d\",\"type\":\"ColumnDataSource\"},\"glyph\":{\"id\":\"5d521a09-676f-4309-aee5-c53d80144a81\",\"type\":\"Line\"},\"hover_glyph\":null,\"muted_glyph\":null},\"id\":\"60fa7ad2-d167-4ad7-9b57-86e8d2ef2fac\",\"type\":\"GlyphRenderer\"},{\"attributes\":{},\"id\":\"c5f29c2d-854d-4368-8976-94225e35c9ce\",\"type\":\"BasicTicker\"},{\"attributes\":{\"callback\":null,\"end\":39.6,\"start\":-3.6},\"id\":\"7e8257e7-fe0a-4b0a-a14e-530c9feb3af2\",\"type\":\"Range1d\"},{\"attributes\":{\"overlay\":{\"id\":\"d14b248b-fed3-4fe9-b11c-3400d4438a21\",\"type\":\"BoxAnnotation\"},\"plot\":{\"id\":\"cd847891-3a2f-461d-aec7-987a1eafea22\",\"subtype\":\"Chart\",\"type\":\"Plot\"}},\"id\":\"20ff4520-defe-4ae5-9334-342242da5799\",\"type\":\"BoxZoomTool\"},{\"attributes\":{\"label\":{\"value\":\"social\"},\"renderers\":[{\"id\":\"60fa7ad2-d167-4ad7-9b57-86e8d2ef2fac\",\"type\":\"GlyphRenderer\"}]},\"id\":\"369de96c-394e-4abb-81cc-95ae2c16f842\",\"type\":\"LegendItem\"},{\"attributes\":{\"plot\":{\"id\":\"cd847891-3a2f-461d-aec7-987a1eafea22\",\"subtype\":\"Chart\",\"type\":\"Plot\"}},\"id\":\"a7c3fbe3-8e82-4b47-9422-d4919be18981\",\"type\":\"HelpTool\"},{\"attributes\":{\"items\":[{\"id\":\"5759295d-3c0f-4214-9144-e6ce0504c949\",\"type\":\"LegendItem\"},{\"id\":\"369de96c-394e-4abb-81cc-95ae2c16f842\",\"type\":\"LegendItem\"}],\"location\":\"top_left\",\"plot\":{\"id\":\"cd847891-3a2f-461d-aec7-987a1eafea22\",\"subtype\":\"Chart\",\"type\":\"Plot\"}},\"id\":\"28685ad3-aee2-414d-8377-0d2705119d3e\",\"type\":\"Legend\"},{\"attributes\":{\"dimension\":1,\"plot\":{\"id\":\"cd847891-3a2f-461d-aec7-987a1eafea22\",\"subtype\":\"Chart\",\"type\":\"Plot\"},\"ticker\":{\"id\":\"40640517-27c9-419a-892a-52c547b75bcf\",\"type\":\"BasicTicker\"}},\"id\":\"4e70cf1a-5234-4073-a711-fe0d716fc5d5\",\"type\":\"Grid\"},{\"attributes\":{\"callback\":null,\"column_names\":[\"x_values\",\"y_values\"],\"data\":{\"chart_index\":[{\"series\":\"social\"},{\"series\":\"social\"},{\"series\":\"social\"},{\"series\":\"social\"},{\"series\":\"social\"},{\"series\":\"social\"},{\"series\":\"social\"},{\"series\":\"social\"},{\"series\":\"social\"},{\"series\":\"social\"},{\"series\":\"social\"},{\"series\":\"social\"},{\"series\":\"social\"},{\"series\":\"social\"},{\"series\":\"social\"},{\"series\":\"social\"},{\"series\":\"social\"},{\"series\":\"social\"},{\"series\":\"social\"},{\"series\":\"social\"},{\"series\":\"social\"},{\"series\":\"social\"},{\"series\":\"social\"},{\"series\":\"social\"},{\"series\":\"social\"},{\"series\":\"social\"},{\"series\":\"social\"},{\"series\":\"social\"},{\"series\":\"social\"},{\"series\":\"social\"},{\"series\":\"social\"},{\"series\":\"social\"},{\"series\":\"social\"},{\"series\":\"social\"},{\"series\":\"social\"},{\"series\":\"social\"},{\"series\":\"social\"}],\"series\":[\"social\",\"social\",\"social\",\"social\",\"social\",\"social\",\"social\",\"social\",\"social\",\"social\",\"social\",\"social\",\"social\",\"social\",\"social\",\"social\",\"social\",\"social\",\"social\",\"social\",\"social\",\"social\",\"social\",\"social\",\"social\",\"social\",\"social\",\"social\",\"social\",\"social\",\"social\",\"social\",\"social\",\"social\",\"social\",\"social\",\"social\"],\"x_values\":[0,1,2,3,4,5,6,7,8,9,10,11,12,13,14,15,16,17,18,19,20,21,22,23,24,25,26,27,28,29,30,31,32,33,34,35,36],\"y_values\":{\"__ndarray__\":\"ZRbup3lrsD900UUXXXThP8/KT4iz8uM/HMdxHMdx5D86u4VfjYnkP9JFF1100eU/AQAAAAAA5j9lIQtZyELmP2UhC1nIQuY/ymsor6G85j/HcRzHcRznPzMzMzMzM+c/Nzc3Nzc35z9GF1100UXnP/QFfUFf0Oc/94DZA2YP6D/NH2w8mj/oP9mJndiJneg/NNaHxvrQ6D+1l9BeQnvpPyOfdYMp8uk/sKG8hvIa6j9aWlpaWlrqP6qqqqqqquo/YGdXe2oQ6z/H+tBYHxrrPyabbLLJJus/bdR3Nuo76z/btm3btm3rP9u2bdu2bes/HLmRG7mR6z8fwX0E9xHsP+zETuzETuw/1AjLPY2w7D9ot/CrMZHuP8dxHMdxHO8/3/It3/It7z8=\",\"dtype\":\"float64\",\"shape\":[37]}}},\"id\":\"5395cd7f-b312-4eba-915c-4c55af0c322d\",\"type\":\"ColumnDataSource\"},{\"attributes\":{\"plot\":{\"id\":\"cd847891-3a2f-461d-aec7-987a1eafea22\",\"subtype\":\"Chart\",\"type\":\"Plot\"}},\"id\":\"f3e118b3-0b7b-4f80-867e-e8d39664260f\",\"type\":\"WheelZoomTool\"}],\"root_ids\":[\"cd847891-3a2f-461d-aec7-987a1eafea22\"]},\"title\":\"Bokeh Application\",\"version\":\"0.12.5\"}};\n",
       "            var render_items = [{\"docid\":\"e8c832dc-52fe-446f-82ec-a8aca1d33183\",\"elementid\":\"cc343bab-1fa8-4626-9532-381128fc7d48\",\"modelid\":\"cd847891-3a2f-461d-aec7-987a1eafea22\"}];\n",
       "            \n",
       "            Bokeh.embed.embed_items(docs_json, render_items);\n",
       "          };\n",
       "          if (document.readyState != \"loading\") fn();\n",
       "          else document.addEventListener(\"DOMContentLoaded\", fn);\n",
       "        })();\n",
       "      },\n",
       "      function(Bokeh) {\n",
       "      }\n",
       "    ];\n",
       "  \n",
       "    function run_inline_js() {\n",
       "      \n",
       "      if ((window.Bokeh !== undefined) || (force === true)) {\n",
       "        for (var i = 0; i < inline_js.length; i++) {\n",
       "          inline_js[i](window.Bokeh);\n",
       "        }if (force === true) {\n",
       "          display_loaded();\n",
       "        }} else if (Date.now() < window._bokeh_timeout) {\n",
       "        setTimeout(run_inline_js, 100);\n",
       "      } else if (!window._bokeh_failed_load) {\n",
       "        console.log(\"Bokeh: BokehJS failed to load within specified timeout.\");\n",
       "        window._bokeh_failed_load = true;\n",
       "      } else if (force !== true) {\n",
       "        var cell = $(document.getElementById(\"cc343bab-1fa8-4626-9532-381128fc7d48\")).parents('.cell').data().cell;\n",
       "        cell.output_area.append_execute_result(NB_LOAD_WARNING)\n",
       "      }\n",
       "  \n",
       "    }\n",
       "  \n",
       "    if (window._bokeh_is_loading === 0) {\n",
       "      console.log(\"Bokeh: BokehJS loaded, going straight to plotting\");\n",
       "      run_inline_js();\n",
       "    } else {\n",
       "      load_libs(js_urls, function() {\n",
       "        console.log(\"Bokeh: BokehJS plotting callback run at\", now());\n",
       "        run_inline_js();\n",
       "      });\n",
       "    }\n",
       "  }(this));\n",
       "</script>"
      ]
     },
     "metadata": {},
     "output_type": "display_data"
    }
   ],
   "source": [
    "with open('scores/t%d_f1s_test_svc.json' % n_topics) as f:    \n",
    "    f1s_combined = json.load(f)\n",
    "\n",
    "f1s_social = json.load(open('../_1_one_user_learn_neighbours/scores/f1s_testv_svc.json'))\n",
    "f1s_social = {u: f for u, f in f1s_social.items() if u in nlp_uids}\n",
    "\n",
    "sorted_uids = [u for u, f in sorted(f1s_social.items(), key=lambda x:x[1])]\n",
    "indices = range(len(sorted_uids))\n",
    "\n",
    "f1s_lda = np.array([f1s_combined[sorted_uids[i]] for i in indices])\n",
    "f1s_s = np.array([f1s_social[sorted_uids[i]] for i in indices])\n",
    "\n",
    "# build a dataset where multiple columns measure the same thing\n",
    "data = {\n",
    "    \"social\": f1s_s,\n",
    "    \"social+lda%d\" % n_topics: f1s_lda\n",
    "}\n",
    "\n",
    "labels = ['social', 'social+lda%d' % n_topics]\n",
    "\n",
    "# create a line chart where each column of measures receives a unique color and dash style\n",
    "line = Line(data, y=labels,\n",
    "            dash=labels,\n",
    "            color=labels,\n",
    "            legend_sort_field = 'color',\n",
    "            legend_sort_direction = 'descending',\n",
    "            xlabel='usuarios (ordenados por f1 del modelo social en datos de evaluación)',\n",
    "            ylabel='puntaje f1 sobre datos de evaluación', legend=True)\n",
    "\n",
    "show(line)"
   ]
  },
  {
   "cell_type": "code",
   "execution_count": 10,
   "metadata": {
    "collapsed": false
   },
   "outputs": [
    {
     "data": {
      "text/plain": [
       "1"
      ]
     },
     "execution_count": 10,
     "metadata": {},
     "output_type": "execute_result"
    }
   ],
   "source": [
    "sum(f1s_lda > f1s_s)"
   ]
  },
  {
   "cell_type": "code",
   "execution_count": 11,
   "metadata": {
    "collapsed": false
   },
   "outputs": [
    {
     "data": {
      "text/plain": [
       "0.6438809214496406"
      ]
     },
     "execution_count": 11,
     "metadata": {},
     "output_type": "execute_result"
    }
   ],
   "source": [
    "np.mean(f1s_lda)"
   ]
  },
  {
   "cell_type": "code",
   "execution_count": 12,
   "metadata": {
    "collapsed": false
   },
   "outputs": [
    {
     "data": {
      "text/plain": [
       "0.76463096629149319"
      ]
     },
     "execution_count": 12,
     "metadata": {},
     "output_type": "execute_result"
    }
   ],
   "source": [
    "np.mean(f1s_s)"
   ]
  },
  {
   "cell_type": "markdown",
   "metadata": {},
   "source": [
    "# Comparación en training set"
   ]
  },
  {
   "cell_type": "code",
   "execution_count": 13,
   "metadata": {
    "collapsed": false
   },
   "outputs": [
    {
     "data": {
      "text/html": [
       "\n",
       "\n",
       "    <div class=\"bk-root\">\n",
       "        <div class=\"bk-plotdiv\" id=\"f2c19a4c-d43c-4dbb-9485-4e7aba11ec8d\"></div>\n",
       "    </div>\n",
       "<script type=\"text/javascript\">\n",
       "  \n",
       "  (function(global) {\n",
       "    function now() {\n",
       "      return new Date();\n",
       "    }\n",
       "  \n",
       "    var force = false;\n",
       "  \n",
       "    if (typeof (window._bokeh_onload_callbacks) === \"undefined\" || force === true) {\n",
       "      window._bokeh_onload_callbacks = [];\n",
       "      window._bokeh_is_loading = undefined;\n",
       "    }\n",
       "  \n",
       "  \n",
       "    \n",
       "    if (typeof (window._bokeh_timeout) === \"undefined\" || force === true) {\n",
       "      window._bokeh_timeout = Date.now() + 0;\n",
       "      window._bokeh_failed_load = false;\n",
       "    }\n",
       "  \n",
       "    var NB_LOAD_WARNING = {'data': {'text/html':\n",
       "       \"<div style='background-color: #fdd'>\\n\"+\n",
       "       \"<p>\\n\"+\n",
       "       \"BokehJS does not appear to have successfully loaded. If loading BokehJS from CDN, this \\n\"+\n",
       "       \"may be due to a slow or bad network connection. Possible fixes:\\n\"+\n",
       "       \"</p>\\n\"+\n",
       "       \"<ul>\\n\"+\n",
       "       \"<li>re-rerun `output_notebook()` to attempt to load from CDN again, or</li>\\n\"+\n",
       "       \"<li>use INLINE resources instead, as so:</li>\\n\"+\n",
       "       \"</ul>\\n\"+\n",
       "       \"<code>\\n\"+\n",
       "       \"from bokeh.resources import INLINE\\n\"+\n",
       "       \"output_notebook(resources=INLINE)\\n\"+\n",
       "       \"</code>\\n\"+\n",
       "       \"</div>\"}};\n",
       "  \n",
       "    function display_loaded() {\n",
       "      if (window.Bokeh !== undefined) {\n",
       "        var el = document.getElementById(\"f2c19a4c-d43c-4dbb-9485-4e7aba11ec8d\");\n",
       "        el.textContent = \"BokehJS \" + Bokeh.version + \" successfully loaded.\";\n",
       "      } else if (Date.now() < window._bokeh_timeout) {\n",
       "        setTimeout(display_loaded, 100)\n",
       "      }\n",
       "    }\n",
       "  \n",
       "    function run_callbacks() {\n",
       "      window._bokeh_onload_callbacks.forEach(function(callback) { callback() });\n",
       "      delete window._bokeh_onload_callbacks\n",
       "      console.info(\"Bokeh: all callbacks have finished\");\n",
       "    }\n",
       "  \n",
       "    function load_libs(js_urls, callback) {\n",
       "      window._bokeh_onload_callbacks.push(callback);\n",
       "      if (window._bokeh_is_loading > 0) {\n",
       "        console.log(\"Bokeh: BokehJS is being loaded, scheduling callback at\", now());\n",
       "        return null;\n",
       "      }\n",
       "      if (js_urls == null || js_urls.length === 0) {\n",
       "        run_callbacks();\n",
       "        return null;\n",
       "      }\n",
       "      console.log(\"Bokeh: BokehJS not loaded, scheduling load and callback at\", now());\n",
       "      window._bokeh_is_loading = js_urls.length;\n",
       "      for (var i = 0; i < js_urls.length; i++) {\n",
       "        var url = js_urls[i];\n",
       "        var s = document.createElement('script');\n",
       "        s.src = url;\n",
       "        s.async = false;\n",
       "        s.onreadystatechange = s.onload = function() {\n",
       "          window._bokeh_is_loading--;\n",
       "          if (window._bokeh_is_loading === 0) {\n",
       "            console.log(\"Bokeh: all BokehJS libraries loaded\");\n",
       "            run_callbacks()\n",
       "          }\n",
       "        };\n",
       "        s.onerror = function() {\n",
       "          console.warn(\"failed to load library \" + url);\n",
       "        };\n",
       "        console.log(\"Bokeh: injecting script tag for BokehJS library: \", url);\n",
       "        document.getElementsByTagName(\"head\")[0].appendChild(s);\n",
       "      }\n",
       "    };var element = document.getElementById(\"f2c19a4c-d43c-4dbb-9485-4e7aba11ec8d\");\n",
       "    if (element == null) {\n",
       "      console.log(\"Bokeh: ERROR: autoload.js configured with elementid 'f2c19a4c-d43c-4dbb-9485-4e7aba11ec8d' but no matching script tag was found. \")\n",
       "      return false;\n",
       "    }\n",
       "  \n",
       "    var js_urls = [];\n",
       "  \n",
       "    var inline_js = [\n",
       "      function(Bokeh) {\n",
       "        (function() {\n",
       "          var fn = function() {\n",
       "            var docs_json = {\"a5be743e-5cf2-4315-a8c1-e6a2c4c2c629\":{\"roots\":{\"references\":[{\"attributes\":{},\"id\":\"084d01d3-a919-42c9-9dab-f10df1234fd9\",\"type\":\"BasicTickFormatter\"},{\"attributes\":{\"plot\":{\"id\":\"ec2b1889-61c3-40fc-b2ff-36f24caa3f89\",\"subtype\":\"Chart\",\"type\":\"Plot\"}},\"id\":\"6ea5a78a-f810-42e3-98b9-1abb60970d10\",\"type\":\"PanTool\"},{\"attributes\":{\"dimension\":1,\"plot\":{\"id\":\"ec2b1889-61c3-40fc-b2ff-36f24caa3f89\",\"subtype\":\"Chart\",\"type\":\"Plot\"},\"ticker\":{\"id\":\"1b54ecd8-ed6a-4c30-a06e-47f8a2a14fc0\",\"type\":\"BasicTicker\"}},\"id\":\"6491f9fb-3266-4b7e-b811-0abc31ae40cd\",\"type\":\"Grid\"},{\"attributes\":{\"plot\":{\"id\":\"ec2b1889-61c3-40fc-b2ff-36f24caa3f89\",\"subtype\":\"Chart\",\"type\":\"Plot\"}},\"id\":\"d43eb5a4-44e7-4078-b59c-a2beba6c4d71\",\"type\":\"HelpTool\"},{\"attributes\":{\"axis_label\":\"puntaje f1 sobre datos de evaluaci\\u00f3n\",\"formatter\":{\"id\":\"084d01d3-a919-42c9-9dab-f10df1234fd9\",\"type\":\"BasicTickFormatter\"},\"plot\":{\"id\":\"ec2b1889-61c3-40fc-b2ff-36f24caa3f89\",\"subtype\":\"Chart\",\"type\":\"Plot\"},\"ticker\":{\"id\":\"1b54ecd8-ed6a-4c30-a06e-47f8a2a14fc0\",\"type\":\"BasicTicker\"}},\"id\":\"6e6cec54-5687-4bec-acec-cfc040b1483c\",\"type\":\"LinearAxis\"},{\"attributes\":{},\"id\":\"1b54ecd8-ed6a-4c30-a06e-47f8a2a14fc0\",\"type\":\"BasicTicker\"},{\"attributes\":{\"plot\":{\"id\":\"ec2b1889-61c3-40fc-b2ff-36f24caa3f89\",\"subtype\":\"Chart\",\"type\":\"Plot\"},\"ticker\":{\"id\":\"e40bf5c5-98e2-449f-952f-e0088510a1f0\",\"type\":\"BasicTicker\"}},\"id\":\"fbb415c5-db97-4d91-a234-c6b4a1e50b70\",\"type\":\"Grid\"},{\"attributes\":{\"items\":[{\"id\":\"31fe7402-05d6-4f3a-8bd2-228857c6bdbe\",\"type\":\"LegendItem\"},{\"id\":\"4aea03ce-ab35-4b10-9cd5-31666265f41a\",\"type\":\"LegendItem\"}],\"location\":\"top_left\",\"plot\":{\"id\":\"ec2b1889-61c3-40fc-b2ff-36f24caa3f89\",\"subtype\":\"Chart\",\"type\":\"Plot\"}},\"id\":\"3bbd0554-a5c0-404e-a8da-8ba142d6faa0\",\"type\":\"Legend\"},{\"attributes\":{},\"id\":\"118a0875-d185-468b-a750-6afe7d729437\",\"type\":\"BasicTickFormatter\"},{\"attributes\":{\"bottom_units\":\"screen\",\"fill_alpha\":{\"value\":0.5},\"fill_color\":{\"value\":\"lightgrey\"},\"left_units\":\"screen\",\"level\":\"overlay\",\"line_alpha\":{\"value\":1.0},\"line_color\":{\"value\":\"black\"},\"line_dash\":[4,4],\"line_width\":{\"value\":2},\"plot\":null,\"render_mode\":\"css\",\"right_units\":\"screen\",\"top_units\":\"screen\"},\"id\":\"f9745c9c-3c0d-4f91-ba5d-8b4794ac71d9\",\"type\":\"BoxAnnotation\"},{\"attributes\":{\"line_color\":{\"value\":\"#5ab738\"},\"line_dash\":[6],\"line_width\":{\"value\":2},\"x\":{\"field\":\"x_values\"},\"y\":{\"field\":\"y_values\"}},\"id\":\"0176588c-2669-4c74-9f4f-c76eae339c9c\",\"type\":\"Line\"},{\"attributes\":{\"callback\":null,\"end\":39.6,\"start\":-3.6},\"id\":\"cfa0cb6f-e572-4938-8bc5-bc3ea0b28c5f\",\"type\":\"Range1d\"},{\"attributes\":{\"label\":{\"value\":\"social\"},\"renderers\":[{\"id\":\"5a81fa35-ed1b-43d5-85ac-f2cf699e2b1c\",\"type\":\"GlyphRenderer\"}]},\"id\":\"4aea03ce-ab35-4b10-9cd5-31666265f41a\",\"type\":\"LegendItem\"},{\"attributes\":{\"axis_label\":\"usuarios (ordenados por f1 del modelo social en datos de evaluaci\\u00f3n)\",\"formatter\":{\"id\":\"118a0875-d185-468b-a750-6afe7d729437\",\"type\":\"BasicTickFormatter\"},\"plot\":{\"id\":\"ec2b1889-61c3-40fc-b2ff-36f24caa3f89\",\"subtype\":\"Chart\",\"type\":\"Plot\"},\"ticker\":{\"id\":\"e40bf5c5-98e2-449f-952f-e0088510a1f0\",\"type\":\"BasicTicker\"}},\"id\":\"0352df15-aefc-42b1-8099-01a763e445de\",\"type\":\"LinearAxis\"},{\"attributes\":{\"plot\":{\"id\":\"ec2b1889-61c3-40fc-b2ff-36f24caa3f89\",\"subtype\":\"Chart\",\"type\":\"Plot\"}},\"id\":\"fa5c0ccc-c001-4330-8318-6ae7407e15ee\",\"type\":\"ResetTool\"},{\"attributes\":{\"overlay\":{\"id\":\"f9745c9c-3c0d-4f91-ba5d-8b4794ac71d9\",\"type\":\"BoxAnnotation\"},\"plot\":{\"id\":\"ec2b1889-61c3-40fc-b2ff-36f24caa3f89\",\"subtype\":\"Chart\",\"type\":\"Plot\"}},\"id\":\"d40d2d8a-3194-4a37-a972-a7bead90a8e7\",\"type\":\"BoxZoomTool\"},{\"attributes\":{\"callback\":null,\"column_names\":[\"x_values\",\"y_values\"],\"data\":{\"chart_index\":[{\"series\":\"social+lda10\"},{\"series\":\"social+lda10\"},{\"series\":\"social+lda10\"},{\"series\":\"social+lda10\"},{\"series\":\"social+lda10\"},{\"series\":\"social+lda10\"},{\"series\":\"social+lda10\"},{\"series\":\"social+lda10\"},{\"series\":\"social+lda10\"},{\"series\":\"social+lda10\"},{\"series\":\"social+lda10\"},{\"series\":\"social+lda10\"},{\"series\":\"social+lda10\"},{\"series\":\"social+lda10\"},{\"series\":\"social+lda10\"},{\"series\":\"social+lda10\"},{\"series\":\"social+lda10\"},{\"series\":\"social+lda10\"},{\"series\":\"social+lda10\"},{\"series\":\"social+lda10\"},{\"series\":\"social+lda10\"},{\"series\":\"social+lda10\"},{\"series\":\"social+lda10\"},{\"series\":\"social+lda10\"},{\"series\":\"social+lda10\"},{\"series\":\"social+lda10\"},{\"series\":\"social+lda10\"},{\"series\":\"social+lda10\"},{\"series\":\"social+lda10\"},{\"series\":\"social+lda10\"},{\"series\":\"social+lda10\"},{\"series\":\"social+lda10\"},{\"series\":\"social+lda10\"},{\"series\":\"social+lda10\"},{\"series\":\"social+lda10\"},{\"series\":\"social+lda10\"},{\"series\":\"social+lda10\"}],\"series\":[\"social+lda10\",\"social+lda10\",\"social+lda10\",\"social+lda10\",\"social+lda10\",\"social+lda10\",\"social+lda10\",\"social+lda10\",\"social+lda10\",\"social+lda10\",\"social+lda10\",\"social+lda10\",\"social+lda10\",\"social+lda10\",\"social+lda10\",\"social+lda10\",\"social+lda10\",\"social+lda10\",\"social+lda10\",\"social+lda10\",\"social+lda10\",\"social+lda10\",\"social+lda10\",\"social+lda10\",\"social+lda10\",\"social+lda10\",\"social+lda10\",\"social+lda10\",\"social+lda10\",\"social+lda10\",\"social+lda10\",\"social+lda10\",\"social+lda10\",\"social+lda10\",\"social+lda10\",\"social+lda10\",\"social+lda10\"],\"x_values\":[0,1,2,3,4,5,6,7,8,9,10,11,12,13,14,15,16,17,18,19,20,21,22,23,24,25,26,27,28,29,30,31,32,33,34,35,36],\"y_values\":{\"__ndarray__\":\"sPiKr/iK7z8nmmiiiSbqPzpXHpCsc+U/ObTIdr6f6j/JagP8WezmP6NeRmI1XOw/27Zt27Zt6z+5qWieUAvoP+fOnTt37uw/YXcmo8Ur7z+0pOs+Jv7sPxdddNFFF+0/zmpntbPa6T+amZmZmZnpP8UKKZA9WOw/HeMc4xzj7D9TSimllFLqP/3SL/3SL+0/F1100UUX7T/RO3UtBzfrP3bTshJZmuo/56VE8Eh/7T/GV3zFV3ztP7dt27Zt2+4/xVgwgd8i7D8PPvjggw/uP2gZ0QdUx+4/t7DEzXSp6D+ZmZmZmRnvP3FH3BF3xO0/6il0mqJV7j/f0Stj+x3tP9SuRO1K1O4/9q4DujFP7z8tDQjMwz7vPwP5DeQ3kO8/A233VmmK7z8=\",\"dtype\":\"float64\",\"shape\":[37]}}},\"id\":\"89946909-780c-4aa3-8dba-94b3a3f3edfb\",\"type\":\"ColumnDataSource\"},{\"attributes\":{\"below\":[{\"id\":\"0352df15-aefc-42b1-8099-01a763e445de\",\"type\":\"LinearAxis\"}],\"css_classes\":null,\"left\":[{\"id\":\"6e6cec54-5687-4bec-acec-cfc040b1483c\",\"type\":\"LinearAxis\"}],\"renderers\":[{\"id\":\"f9745c9c-3c0d-4f91-ba5d-8b4794ac71d9\",\"type\":\"BoxAnnotation\"},{\"id\":\"5a81fa35-ed1b-43d5-85ac-f2cf699e2b1c\",\"type\":\"GlyphRenderer\"},{\"id\":\"93e4c167-f688-46f1-a092-624e191b77ac\",\"type\":\"GlyphRenderer\"},{\"id\":\"3bbd0554-a5c0-404e-a8da-8ba142d6faa0\",\"type\":\"Legend\"},{\"id\":\"0352df15-aefc-42b1-8099-01a763e445de\",\"type\":\"LinearAxis\"},{\"id\":\"6e6cec54-5687-4bec-acec-cfc040b1483c\",\"type\":\"LinearAxis\"},{\"id\":\"fbb415c5-db97-4d91-a234-c6b4a1e50b70\",\"type\":\"Grid\"},{\"id\":\"6491f9fb-3266-4b7e-b811-0abc31ae40cd\",\"type\":\"Grid\"}],\"title\":{\"id\":\"e3fe547f-0c2e-40c3-886f-219a2239588d\",\"type\":\"Title\"},\"tool_events\":{\"id\":\"8989dc9b-a5bd-4cbd-9a88-e40f25b015c0\",\"type\":\"ToolEvents\"},\"toolbar\":{\"id\":\"5163a45b-dde1-4588-be0d-6595aa3dd62d\",\"type\":\"Toolbar\"},\"x_mapper_type\":\"auto\",\"x_range\":{\"id\":\"cfa0cb6f-e572-4938-8bc5-bc3ea0b28c5f\",\"type\":\"Range1d\"},\"y_mapper_type\":\"auto\",\"y_range\":{\"id\":\"52dd1370-30cd-4206-869f-4c2ad56aec01\",\"type\":\"Range1d\"}},\"id\":\"ec2b1889-61c3-40fc-b2ff-36f24caa3f89\",\"subtype\":\"Chart\",\"type\":\"Plot\"},{\"attributes\":{},\"id\":\"8989dc9b-a5bd-4cbd-9a88-e40f25b015c0\",\"type\":\"ToolEvents\"},{\"attributes\":{\"plot\":{\"id\":\"ec2b1889-61c3-40fc-b2ff-36f24caa3f89\",\"subtype\":\"Chart\",\"type\":\"Plot\"}},\"id\":\"3b770cfa-743a-406b-a394-e28c0e0a3d5f\",\"type\":\"WheelZoomTool\"},{\"attributes\":{\"callback\":null,\"end\":1.0771751736094348,\"start\":-0.012669599762262618},\"id\":\"52dd1370-30cd-4206-869f-4c2ad56aec01\",\"type\":\"Range1d\"},{\"attributes\":{},\"id\":\"e40bf5c5-98e2-449f-952f-e0088510a1f0\",\"type\":\"BasicTicker\"},{\"attributes\":{\"line_color\":{\"value\":\"#f22c40\"},\"line_width\":{\"value\":2},\"x\":{\"field\":\"x_values\"},\"y\":{\"field\":\"y_values\"}},\"id\":\"b0230632-ccef-4753-b5ff-938bd75261de\",\"type\":\"Line\"},{\"attributes\":{\"data_source\":{\"id\":\"89946909-780c-4aa3-8dba-94b3a3f3edfb\",\"type\":\"ColumnDataSource\"},\"glyph\":{\"id\":\"0176588c-2669-4c74-9f4f-c76eae339c9c\",\"type\":\"Line\"},\"hover_glyph\":null,\"muted_glyph\":null},\"id\":\"93e4c167-f688-46f1-a092-624e191b77ac\",\"type\":\"GlyphRenderer\"},{\"attributes\":{\"data_source\":{\"id\":\"bca80f17-34ed-4c63-a336-b931676591ea\",\"type\":\"ColumnDataSource\"},\"glyph\":{\"id\":\"b0230632-ccef-4753-b5ff-938bd75261de\",\"type\":\"Line\"},\"hover_glyph\":null,\"muted_glyph\":null},\"id\":\"5a81fa35-ed1b-43d5-85ac-f2cf699e2b1c\",\"type\":\"GlyphRenderer\"},{\"attributes\":{\"callback\":null,\"column_names\":[\"x_values\",\"y_values\"],\"data\":{\"chart_index\":[{\"series\":\"social\"},{\"series\":\"social\"},{\"series\":\"social\"},{\"series\":\"social\"},{\"series\":\"social\"},{\"series\":\"social\"},{\"series\":\"social\"},{\"series\":\"social\"},{\"series\":\"social\"},{\"series\":\"social\"},{\"series\":\"social\"},{\"series\":\"social\"},{\"series\":\"social\"},{\"series\":\"social\"},{\"series\":\"social\"},{\"series\":\"social\"},{\"series\":\"social\"},{\"series\":\"social\"},{\"series\":\"social\"},{\"series\":\"social\"},{\"series\":\"social\"},{\"series\":\"social\"},{\"series\":\"social\"},{\"series\":\"social\"},{\"series\":\"social\"},{\"series\":\"social\"},{\"series\":\"social\"},{\"series\":\"social\"},{\"series\":\"social\"},{\"series\":\"social\"},{\"series\":\"social\"},{\"series\":\"social\"},{\"series\":\"social\"},{\"series\":\"social\"},{\"series\":\"social\"},{\"series\":\"social\"},{\"series\":\"social\"}],\"series\":[\"social\",\"social\",\"social\",\"social\",\"social\",\"social\",\"social\",\"social\",\"social\",\"social\",\"social\",\"social\",\"social\",\"social\",\"social\",\"social\",\"social\",\"social\",\"social\",\"social\",\"social\",\"social\",\"social\",\"social\",\"social\",\"social\",\"social\",\"social\",\"social\",\"social\",\"social\",\"social\",\"social\",\"social\",\"social\",\"social\",\"social\"],\"x_values\":[0,1,2,3,4,5,6,7,8,9,10,11,12,13,14,15,16,17,18,19,20,21,22,23,24,25,26,27,28,29,30,31,32,33,34,35,36],\"y_values\":{\"__ndarray__\":\"MIyl0bABtD8UvS4UvS7kP72JetrcfeU/h7VvWPuG5T+yEdmIbETmPwnUjXjmg+Y/CtejcD0K5z8Qab2AbU7nP/IsI/qA6ug/gr1jamDv6D/yyCOPPPLoP02Rz7rBFOk/u2sCpKcd6T+PJ7OyrXbpP0kaAqT4wek/9+WxFUHD6T+OCOyDIQfqP5MkSZIkSeo/pze96U1v6j8JxlvZ55DqP3bTshJZmuo/K7tqosqu6j+YlUaPqCDrP04b6LSBTus/mpmZmZmZ6z/PusEU+azrP7u7u7u7u+s//ZDA2w8J7D/PeOERJSHsP1AglZyXRew/rKXAFs9w7D/k54pZjvzsPwAAAAAAAO4/dOUByTpX7j8qkDxt+r7uP///////T+8/J3ZiJ3Zi7z8=\",\"dtype\":\"float64\",\"shape\":[37]}}},\"id\":\"bca80f17-34ed-4c63-a336-b931676591ea\",\"type\":\"ColumnDataSource\"},{\"attributes\":{\"label\":{\"value\":\"social+lda10\"},\"renderers\":[{\"id\":\"93e4c167-f688-46f1-a092-624e191b77ac\",\"type\":\"GlyphRenderer\"}]},\"id\":\"31fe7402-05d6-4f3a-8bd2-228857c6bdbe\",\"type\":\"LegendItem\"},{\"attributes\":{\"plot\":null,\"text\":null},\"id\":\"e3fe547f-0c2e-40c3-886f-219a2239588d\",\"type\":\"Title\"},{\"attributes\":{\"plot\":{\"id\":\"ec2b1889-61c3-40fc-b2ff-36f24caa3f89\",\"subtype\":\"Chart\",\"type\":\"Plot\"}},\"id\":\"fe4cfb75-ee35-45f5-b6b1-7bccb2dcffa4\",\"type\":\"SaveTool\"},{\"attributes\":{\"active_drag\":\"auto\",\"active_scroll\":\"auto\",\"active_tap\":\"auto\",\"tools\":[{\"id\":\"6ea5a78a-f810-42e3-98b9-1abb60970d10\",\"type\":\"PanTool\"},{\"id\":\"3b770cfa-743a-406b-a394-e28c0e0a3d5f\",\"type\":\"WheelZoomTool\"},{\"id\":\"d40d2d8a-3194-4a37-a972-a7bead90a8e7\",\"type\":\"BoxZoomTool\"},{\"id\":\"fe4cfb75-ee35-45f5-b6b1-7bccb2dcffa4\",\"type\":\"SaveTool\"},{\"id\":\"fa5c0ccc-c001-4330-8318-6ae7407e15ee\",\"type\":\"ResetTool\"},{\"id\":\"d43eb5a4-44e7-4078-b59c-a2beba6c4d71\",\"type\":\"HelpTool\"}]},\"id\":\"5163a45b-dde1-4588-be0d-6595aa3dd62d\",\"type\":\"Toolbar\"}],\"root_ids\":[\"ec2b1889-61c3-40fc-b2ff-36f24caa3f89\"]},\"title\":\"Bokeh Application\",\"version\":\"0.12.5\"}};\n",
       "            var render_items = [{\"docid\":\"a5be743e-5cf2-4315-a8c1-e6a2c4c2c629\",\"elementid\":\"f2c19a4c-d43c-4dbb-9485-4e7aba11ec8d\",\"modelid\":\"ec2b1889-61c3-40fc-b2ff-36f24caa3f89\"}];\n",
       "            \n",
       "            Bokeh.embed.embed_items(docs_json, render_items);\n",
       "          };\n",
       "          if (document.readyState != \"loading\") fn();\n",
       "          else document.addEventListener(\"DOMContentLoaded\", fn);\n",
       "        })();\n",
       "      },\n",
       "      function(Bokeh) {\n",
       "      }\n",
       "    ];\n",
       "  \n",
       "    function run_inline_js() {\n",
       "      \n",
       "      if ((window.Bokeh !== undefined) || (force === true)) {\n",
       "        for (var i = 0; i < inline_js.length; i++) {\n",
       "          inline_js[i](window.Bokeh);\n",
       "        }if (force === true) {\n",
       "          display_loaded();\n",
       "        }} else if (Date.now() < window._bokeh_timeout) {\n",
       "        setTimeout(run_inline_js, 100);\n",
       "      } else if (!window._bokeh_failed_load) {\n",
       "        console.log(\"Bokeh: BokehJS failed to load within specified timeout.\");\n",
       "        window._bokeh_failed_load = true;\n",
       "      } else if (force !== true) {\n",
       "        var cell = $(document.getElementById(\"f2c19a4c-d43c-4dbb-9485-4e7aba11ec8d\")).parents('.cell').data().cell;\n",
       "        cell.output_area.append_execute_result(NB_LOAD_WARNING)\n",
       "      }\n",
       "  \n",
       "    }\n",
       "  \n",
       "    if (window._bokeh_is_loading === 0) {\n",
       "      console.log(\"Bokeh: BokehJS loaded, going straight to plotting\");\n",
       "      run_inline_js();\n",
       "    } else {\n",
       "      load_libs(js_urls, function() {\n",
       "        console.log(\"Bokeh: BokehJS plotting callback run at\", now());\n",
       "        run_inline_js();\n",
       "      });\n",
       "    }\n",
       "  }(this));\n",
       "</script>"
      ]
     },
     "metadata": {},
     "output_type": "display_data"
    }
   ],
   "source": [
    "with open('scores/t%d_f1s_train_svc.json' % n_topics) as f:        \n",
    "    f1s_combined = json.load(f)\n",
    "\n",
    "f1s_social = json.load(open('../_1_one_user_learn_neighbours/scores/f1s_train_svc.json'))\n",
    "f1s_social = {u: f for u, f in f1s_social.items() if u in nlp_uids}\n",
    "\n",
    "sorted_uids = [u for u, f in sorted(f1s_social.items(), key=lambda x:x[1])]\n",
    "indices = range(len(sorted_uids))\n",
    "\n",
    "f1s_lda = np.array([f1s_combined[sorted_uids[i]] for i in indices])\n",
    "f1s_s = np.array([f1s_social[sorted_uids[i]] for i in indices])\n",
    "\n",
    "# build a dataset where multiple columns measure the same thing\n",
    "data = {\n",
    "    \"social\": f1s_s,\n",
    "    \"social+lda%d\" % n_topics: f1s_lda\n",
    "}\n",
    "\n",
    "labels = ['social', 'social+lda%d' % n_topics]\n",
    "\n",
    "# create a line chart where each column of measures receives a unique color and dash style\n",
    "line = Line(data, y=labels,\n",
    "            dash=labels,\n",
    "            color=labels,\n",
    "            legend_sort_field = 'color',\n",
    "            legend_sort_direction = 'descending',\n",
    "            xlabel='usuarios (ordenados por f1 del modelo social en datos de evaluación)',\n",
    "            ylabel='puntaje f1 sobre datos de evaluación', legend=True)\n",
    "\n",
    "show(line)"
   ]
  },
  {
   "cell_type": "code",
   "execution_count": 14,
   "metadata": {
    "collapsed": false
   },
   "outputs": [
    {
     "data": {
      "text/plain": [
       "34"
      ]
     },
     "execution_count": 14,
     "metadata": {},
     "output_type": "execute_result"
    }
   ],
   "source": [
    "sum(f1s_lda > f1s_s)"
   ]
  },
  {
   "cell_type": "code",
   "execution_count": 15,
   "metadata": {
    "collapsed": false
   },
   "outputs": [
    {
     "data": {
      "text/plain": [
       "0.89028741953607105"
      ]
     },
     "execution_count": 15,
     "metadata": {},
     "output_type": "execute_result"
    }
   ],
   "source": [
    "np.mean(f1s_lda)"
   ]
  },
  {
   "cell_type": "code",
   "execution_count": 16,
   "metadata": {
    "collapsed": false
   },
   "outputs": [
    {
     "data": {
      "text/plain": [
       "0.80278764744705877"
      ]
     },
     "execution_count": 16,
     "metadata": {},
     "output_type": "execute_result"
    }
   ],
   "source": [
    "np.mean(f1s_s)"
   ]
  }
 ],
 "metadata": {
  "kernelspec": {
   "display_name": "Python 2",
   "language": "python",
   "name": "python2"
  },
  "language_info": {
   "codemirror_mode": {
    "name": "ipython",
    "version": 2
   },
   "file_extension": ".py",
   "mimetype": "text/x-python",
   "name": "python",
   "nbconvert_exporter": "python",
   "pygments_lexer": "ipython2",
   "version": "2.7.11+"
  }
 },
 "nbformat": 4,
 "nbformat_minor": 2
}
