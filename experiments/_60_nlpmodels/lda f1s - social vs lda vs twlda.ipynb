{
 "cells": [
  {
   "cell_type": "code",
   "execution_count": 1,
   "metadata": {
    "collapsed": false
   },
   "outputs": [
    {
     "name": "stdout",
     "output_type": "stream",
     "text": [
      "Switching to API Credentials #3\n"
     ]
    }
   ],
   "source": [
    "from experiments._60_nlpmodels.fit_social_lda_models import *"
   ]
  },
  {
   "cell_type": "markdown",
   "metadata": {},
   "source": [
    "# Comparación en test set"
   ]
  },
  {
   "cell_type": "code",
   "execution_count": 2,
   "metadata": {
    "collapsed": false
   },
   "outputs": [
    {
     "name": "stderr",
     "output_type": "stream",
     "text": [
      "/home/pablo/.virtualenvs/tesiscomp/local/lib/python2.7/site-packages/bokeh/util/deprecation.py:34: BokehDeprecationWarning: \n",
      "The bokeh.charts API has moved to a separate 'bkcharts' package.\n",
      "\n",
      "This compatibility shim will remain until Bokeh 1.0 is released.\n",
      "After that, if you want to use this API you will have to install\n",
      "the bkcharts package explicitly.\n",
      "\n",
      "  warn(message)\n"
     ]
    },
    {
     "data": {
      "text/html": [
       "\n",
       "    <div class=\"bk-root\">\n",
       "        <a href=\"http://bokeh.pydata.org\" target=\"_blank\" class=\"bk-logo bk-logo-small bk-logo-notebook\"></a>\n",
       "        <span id=\"ed1ae949-13dc-48be-b606-7b0de8d00166\">Loading BokehJS ...</span>\n",
       "    </div>"
      ]
     },
     "metadata": {},
     "output_type": "display_data"
    },
    {
     "data": {
      "application/javascript": [
       "\n",
       "(function(global) {\n",
       "  function now() {\n",
       "    return new Date();\n",
       "  }\n",
       "\n",
       "  var force = true;\n",
       "\n",
       "  if (typeof (window._bokeh_onload_callbacks) === \"undefined\" || force === true) {\n",
       "    window._bokeh_onload_callbacks = [];\n",
       "    window._bokeh_is_loading = undefined;\n",
       "  }\n",
       "\n",
       "\n",
       "  \n",
       "  if (typeof (window._bokeh_timeout) === \"undefined\" || force === true) {\n",
       "    window._bokeh_timeout = Date.now() + 5000;\n",
       "    window._bokeh_failed_load = false;\n",
       "  }\n",
       "\n",
       "  var NB_LOAD_WARNING = {'data': {'text/html':\n",
       "     \"<div style='background-color: #fdd'>\\n\"+\n",
       "     \"<p>\\n\"+\n",
       "     \"BokehJS does not appear to have successfully loaded. If loading BokehJS from CDN, this \\n\"+\n",
       "     \"may be due to a slow or bad network connection. Possible fixes:\\n\"+\n",
       "     \"</p>\\n\"+\n",
       "     \"<ul>\\n\"+\n",
       "     \"<li>re-rerun `output_notebook()` to attempt to load from CDN again, or</li>\\n\"+\n",
       "     \"<li>use INLINE resources instead, as so:</li>\\n\"+\n",
       "     \"</ul>\\n\"+\n",
       "     \"<code>\\n\"+\n",
       "     \"from bokeh.resources import INLINE\\n\"+\n",
       "     \"output_notebook(resources=INLINE)\\n\"+\n",
       "     \"</code>\\n\"+\n",
       "     \"</div>\"}};\n",
       "\n",
       "  function display_loaded() {\n",
       "    if (window.Bokeh !== undefined) {\n",
       "      var el = document.getElementById(\"ed1ae949-13dc-48be-b606-7b0de8d00166\");\n",
       "      el.textContent = \"BokehJS \" + Bokeh.version + \" successfully loaded.\";\n",
       "    } else if (Date.now() < window._bokeh_timeout) {\n",
       "      setTimeout(display_loaded, 100)\n",
       "    }\n",
       "  }\n",
       "\n",
       "  function run_callbacks() {\n",
       "    try {\n",
       "      window._bokeh_onload_callbacks.forEach(function(callback) { callback() });\n",
       "    }\n",
       "    finally {\n",
       "      delete window._bokeh_onload_callbacks\n",
       "    }\n",
       "    console.info(\"Bokeh: all callbacks have finished\");\n",
       "  }\n",
       "\n",
       "  function load_libs(js_urls, callback) {\n",
       "    window._bokeh_onload_callbacks.push(callback);\n",
       "    if (window._bokeh_is_loading > 0) {\n",
       "      console.log(\"Bokeh: BokehJS is being loaded, scheduling callback at\", now());\n",
       "      return null;\n",
       "    }\n",
       "    if (js_urls == null || js_urls.length === 0) {\n",
       "      run_callbacks();\n",
       "      return null;\n",
       "    }\n",
       "    console.log(\"Bokeh: BokehJS not loaded, scheduling load and callback at\", now());\n",
       "    window._bokeh_is_loading = js_urls.length;\n",
       "    for (var i = 0; i < js_urls.length; i++) {\n",
       "      var url = js_urls[i];\n",
       "      var s = document.createElement('script');\n",
       "      s.src = url;\n",
       "      s.async = false;\n",
       "      s.onreadystatechange = s.onload = function() {\n",
       "        window._bokeh_is_loading--;\n",
       "        if (window._bokeh_is_loading === 0) {\n",
       "          console.log(\"Bokeh: all BokehJS libraries loaded\");\n",
       "          run_callbacks()\n",
       "        }\n",
       "      };\n",
       "      s.onerror = function() {\n",
       "        console.warn(\"failed to load library \" + url);\n",
       "      };\n",
       "      console.log(\"Bokeh: injecting script tag for BokehJS library: \", url);\n",
       "      document.getElementsByTagName(\"head\")[0].appendChild(s);\n",
       "    }\n",
       "  };var element = document.getElementById(\"ed1ae949-13dc-48be-b606-7b0de8d00166\");\n",
       "  if (element == null) {\n",
       "    console.log(\"Bokeh: ERROR: autoload.js configured with elementid 'ed1ae949-13dc-48be-b606-7b0de8d00166' but no matching script tag was found. \")\n",
       "    return false;\n",
       "  }\n",
       "\n",
       "  var js_urls = [\"https://cdn.pydata.org/bokeh/release/bokeh-0.12.6.min.js\", \"https://cdn.pydata.org/bokeh/release/bokeh-widgets-0.12.6.min.js\"];\n",
       "\n",
       "  var inline_js = [\n",
       "    function(Bokeh) {\n",
       "      Bokeh.set_log_level(\"info\");\n",
       "    },\n",
       "    \n",
       "    function(Bokeh) {\n",
       "      \n",
       "    },\n",
       "    \n",
       "    function(Bokeh) {\n",
       "      \n",
       "      document.getElementById(\"ed1ae949-13dc-48be-b606-7b0de8d00166\").textContent = \"BokehJS is loading...\";\n",
       "    },\n",
       "    function(Bokeh) {\n",
       "      console.log(\"Bokeh: injecting CSS: https://cdn.pydata.org/bokeh/release/bokeh-0.12.6.min.css\");\n",
       "      Bokeh.embed.inject_css(\"https://cdn.pydata.org/bokeh/release/bokeh-0.12.6.min.css\");\n",
       "      console.log(\"Bokeh: injecting CSS: https://cdn.pydata.org/bokeh/release/bokeh-widgets-0.12.6.min.css\");\n",
       "      Bokeh.embed.inject_css(\"https://cdn.pydata.org/bokeh/release/bokeh-widgets-0.12.6.min.css\");\n",
       "    }\n",
       "  ];\n",
       "\n",
       "  function run_inline_js() {\n",
       "    \n",
       "    if ((window.Bokeh !== undefined) || (force === true)) {\n",
       "      for (var i = 0; i < inline_js.length; i++) {\n",
       "        inline_js[i](window.Bokeh);\n",
       "      }if (force === true) {\n",
       "        display_loaded();\n",
       "      }} else if (Date.now() < window._bokeh_timeout) {\n",
       "      setTimeout(run_inline_js, 100);\n",
       "    } else if (!window._bokeh_failed_load) {\n",
       "      console.log(\"Bokeh: BokehJS failed to load within specified timeout.\");\n",
       "      window._bokeh_failed_load = true;\n",
       "    } else if (force !== true) {\n",
       "      var cell = $(document.getElementById(\"ed1ae949-13dc-48be-b606-7b0de8d00166\")).parents('.cell').data().cell;\n",
       "      cell.output_area.append_execute_result(NB_LOAD_WARNING)\n",
       "    }\n",
       "\n",
       "  }\n",
       "\n",
       "  if (window._bokeh_is_loading === 0) {\n",
       "    console.log(\"Bokeh: BokehJS loaded, going straight to plotting\");\n",
       "    run_inline_js();\n",
       "  } else {\n",
       "    load_libs(js_urls, function() {\n",
       "      console.log(\"Bokeh: BokehJS plotting callback run at\", now());\n",
       "      run_inline_js();\n",
       "    });\n",
       "  }\n",
       "}(this));"
      ]
     },
     "metadata": {},
     "output_type": "display_data"
    }
   ],
   "source": [
    "from bokeh.charts import Line, show, output_notebook\n",
    "output_notebook()"
   ]
  },
  {
   "cell_type": "code",
   "execution_count": 3,
   "metadata": {
    "collapsed": true
   },
   "outputs": [],
   "source": [
    "nlp_uids = [u for u, f in load_nlp_selected_users()]"
   ]
  },
  {
   "cell_type": "code",
   "execution_count": 30,
   "metadata": {
    "collapsed": false
   },
   "outputs": [
    {
     "data": {
      "text/html": [
       "\n",
       "\n",
       "    <div class=\"bk-root\">\n",
       "        <div class=\"bk-plotdiv\" id=\"2a5dc2d7-a6ae-4416-81c5-30cdc52d630c\"></div>\n",
       "    </div>\n",
       "<script type=\"text/javascript\">\n",
       "  \n",
       "  (function(global) {\n",
       "    function now() {\n",
       "      return new Date();\n",
       "    }\n",
       "  \n",
       "    var force = false;\n",
       "  \n",
       "    if (typeof (window._bokeh_onload_callbacks) === \"undefined\" || force === true) {\n",
       "      window._bokeh_onload_callbacks = [];\n",
       "      window._bokeh_is_loading = undefined;\n",
       "    }\n",
       "  \n",
       "  \n",
       "    \n",
       "    if (typeof (window._bokeh_timeout) === \"undefined\" || force === true) {\n",
       "      window._bokeh_timeout = Date.now() + 0;\n",
       "      window._bokeh_failed_load = false;\n",
       "    }\n",
       "  \n",
       "    var NB_LOAD_WARNING = {'data': {'text/html':\n",
       "       \"<div style='background-color: #fdd'>\\n\"+\n",
       "       \"<p>\\n\"+\n",
       "       \"BokehJS does not appear to have successfully loaded. If loading BokehJS from CDN, this \\n\"+\n",
       "       \"may be due to a slow or bad network connection. Possible fixes:\\n\"+\n",
       "       \"</p>\\n\"+\n",
       "       \"<ul>\\n\"+\n",
       "       \"<li>re-rerun `output_notebook()` to attempt to load from CDN again, or</li>\\n\"+\n",
       "       \"<li>use INLINE resources instead, as so:</li>\\n\"+\n",
       "       \"</ul>\\n\"+\n",
       "       \"<code>\\n\"+\n",
       "       \"from bokeh.resources import INLINE\\n\"+\n",
       "       \"output_notebook(resources=INLINE)\\n\"+\n",
       "       \"</code>\\n\"+\n",
       "       \"</div>\"}};\n",
       "  \n",
       "    function display_loaded() {\n",
       "      if (window.Bokeh !== undefined) {\n",
       "        var el = document.getElementById(\"2a5dc2d7-a6ae-4416-81c5-30cdc52d630c\");\n",
       "        el.textContent = \"BokehJS \" + Bokeh.version + \" successfully loaded.\";\n",
       "      } else if (Date.now() < window._bokeh_timeout) {\n",
       "        setTimeout(display_loaded, 100)\n",
       "      }\n",
       "    }\n",
       "  \n",
       "    function run_callbacks() {\n",
       "      try {\n",
       "        window._bokeh_onload_callbacks.forEach(function(callback) { callback() });\n",
       "      }\n",
       "      finally {\n",
       "        delete window._bokeh_onload_callbacks\n",
       "      }\n",
       "      console.info(\"Bokeh: all callbacks have finished\");\n",
       "    }\n",
       "  \n",
       "    function load_libs(js_urls, callback) {\n",
       "      window._bokeh_onload_callbacks.push(callback);\n",
       "      if (window._bokeh_is_loading > 0) {\n",
       "        console.log(\"Bokeh: BokehJS is being loaded, scheduling callback at\", now());\n",
       "        return null;\n",
       "      }\n",
       "      if (js_urls == null || js_urls.length === 0) {\n",
       "        run_callbacks();\n",
       "        return null;\n",
       "      }\n",
       "      console.log(\"Bokeh: BokehJS not loaded, scheduling load and callback at\", now());\n",
       "      window._bokeh_is_loading = js_urls.length;\n",
       "      for (var i = 0; i < js_urls.length; i++) {\n",
       "        var url = js_urls[i];\n",
       "        var s = document.createElement('script');\n",
       "        s.src = url;\n",
       "        s.async = false;\n",
       "        s.onreadystatechange = s.onload = function() {\n",
       "          window._bokeh_is_loading--;\n",
       "          if (window._bokeh_is_loading === 0) {\n",
       "            console.log(\"Bokeh: all BokehJS libraries loaded\");\n",
       "            run_callbacks()\n",
       "          }\n",
       "        };\n",
       "        s.onerror = function() {\n",
       "          console.warn(\"failed to load library \" + url);\n",
       "        };\n",
       "        console.log(\"Bokeh: injecting script tag for BokehJS library: \", url);\n",
       "        document.getElementsByTagName(\"head\")[0].appendChild(s);\n",
       "      }\n",
       "    };var element = document.getElementById(\"2a5dc2d7-a6ae-4416-81c5-30cdc52d630c\");\n",
       "    if (element == null) {\n",
       "      console.log(\"Bokeh: ERROR: autoload.js configured with elementid '2a5dc2d7-a6ae-4416-81c5-30cdc52d630c' but no matching script tag was found. \")\n",
       "      return false;\n",
       "    }\n",
       "  \n",
       "    var js_urls = [];\n",
       "  \n",
       "    var inline_js = [\n",
       "      function(Bokeh) {\n",
       "        (function() {\n",
       "          var fn = function() {\n",
       "            var docs_json = {\"407d84d9-872f-4886-a888-a834d69326d9\":{\"roots\":{\"references\":[{\"attributes\":{\"label\":{\"value\":\"social\"},\"renderers\":[{\"id\":\"a7b579fb-8723-48f9-a244-4fc3020e460c\",\"type\":\"GlyphRenderer\"}]},\"id\":\"6267d052-47b7-4559-bf32-93249fdc0c29\",\"type\":\"LegendItem\"},{\"attributes\":{\"plot\":{\"id\":\"23cabd2b-790b-460c-9152-e889e3d9f669\",\"subtype\":\"Chart\",\"type\":\"Plot\"}},\"id\":\"e88d6996-a8c2-4b8a-94a9-6a2e00d98cfa\",\"type\":\"SaveTool\"},{\"attributes\":{},\"id\":\"46d93771-e7d6-4ba4-bb0d-6cab65bb6f7f\",\"type\":\"LinearScale\"},{\"attributes\":{\"callback\":null,\"column_names\":[\"x_values\",\"y_values\"],\"data\":{\"chart_index\":[{\"series\":\"social+twlda20\"},{\"series\":\"social+twlda20\"},{\"series\":\"social+twlda20\"},{\"series\":\"social+twlda20\"},{\"series\":\"social+twlda20\"},{\"series\":\"social+twlda20\"},{\"series\":\"social+twlda20\"},{\"series\":\"social+twlda20\"},{\"series\":\"social+twlda20\"},{\"series\":\"social+twlda20\"},{\"series\":\"social+twlda20\"},{\"series\":\"social+twlda20\"},{\"series\":\"social+twlda20\"},{\"series\":\"social+twlda20\"},{\"series\":\"social+twlda20\"},{\"series\":\"social+twlda20\"},{\"series\":\"social+twlda20\"},{\"series\":\"social+twlda20\"},{\"series\":\"social+twlda20\"},{\"series\":\"social+twlda20\"},{\"series\":\"social+twlda20\"},{\"series\":\"social+twlda20\"},{\"series\":\"social+twlda20\"},{\"series\":\"social+twlda20\"},{\"series\":\"social+twlda20\"},{\"series\":\"social+twlda20\"},{\"series\":\"social+twlda20\"},{\"series\":\"social+twlda20\"},{\"series\":\"social+twlda20\"},{\"series\":\"social+twlda20\"},{\"series\":\"social+twlda20\"},{\"series\":\"social+twlda20\"},{\"series\":\"social+twlda20\"},{\"series\":\"social+twlda20\"},{\"series\":\"social+twlda20\"},{\"series\":\"social+twlda20\"},{\"series\":\"social+twlda20\"}],\"series\":[\"social+twlda20\",\"social+twlda20\",\"social+twlda20\",\"social+twlda20\",\"social+twlda20\",\"social+twlda20\",\"social+twlda20\",\"social+twlda20\",\"social+twlda20\",\"social+twlda20\",\"social+twlda20\",\"social+twlda20\",\"social+twlda20\",\"social+twlda20\",\"social+twlda20\",\"social+twlda20\",\"social+twlda20\",\"social+twlda20\",\"social+twlda20\",\"social+twlda20\",\"social+twlda20\",\"social+twlda20\",\"social+twlda20\",\"social+twlda20\",\"social+twlda20\",\"social+twlda20\",\"social+twlda20\",\"social+twlda20\",\"social+twlda20\",\"social+twlda20\",\"social+twlda20\",\"social+twlda20\",\"social+twlda20\",\"social+twlda20\",\"social+twlda20\",\"social+twlda20\",\"social+twlda20\"],\"x_values\":[0,1,2,3,4,5,6,7,8,9,10,11,12,13,14,15,16,17,18,19,20,21,22,23,24,25,26,27,28,29,30,31,32,33,34,35,36],\"y_values\":{\"__ndarray__\":\"AAAAAAAA7z9TK7VSK7XiP3oUrkfheuQ/9VAP9VAP5T86u4VfjYnkP9JFF1100eU/MzMzMzMz4z9ddNFFF13kP2UhC1nIQuY/CtejcD0K5z+fQ2qC8VbmP/yuFjdhfuc/Nzc3Nzc35z9GF1100UXnP5qZmZmZmek/SA9Uzm7h5z/NH2w8mj/oP4gB6VjKJOg/39mo72zU5z+1l9BeQnvpPzmO4ziO4+g/y5YtW7Zs6T+amZmZmZnpP6qqqqqqquo/nC1Smy1S6z+D30RP5/bqP5mZmZmZmek/aKO+s1Hf6T/btm3btm3rP1qwBVuwBes/HLmRG7mR6z+SJEmSJEnqP+zETuzETuw/RLCONu9T7D9ot/CrMZHuP1VVVVVVVe8/DuU1lNdQ7j8=\",\"dtype\":\"float64\",\"shape\":[37]}}},\"id\":\"a51e3cc0-7795-48fc-bef3-24a12b7bc9bb\",\"type\":\"ColumnDataSource\"},{\"attributes\":{},\"id\":\"06301ad2-6367-4248-b9bd-f643ffa61b6b\",\"type\":\"BasicTicker\"},{\"attributes\":{\"line_color\":{\"value\":\"#840317\"},\"line_width\":{\"value\":2},\"x\":{\"field\":\"x_values\"},\"y\":{\"field\":\"y_values\"}},\"id\":\"6a1a532b-6b96-4232-b2c8-9a7969dcd33c\",\"type\":\"Line\"},{\"attributes\":{},\"id\":\"3fd03146-6baa-4193-b9c3-cd32895ddd42\",\"type\":\"LinearScale\"},{\"attributes\":{\"line_width\":{\"value\":2},\"x\":{\"field\":\"x_values\"},\"y\":{\"field\":\"y_values\"}},\"id\":\"43d50ff1-6742-40e4-ab05-719e827e527f\",\"type\":\"Line\"},{\"attributes\":{\"dimension\":1,\"plot\":{\"id\":\"23cabd2b-790b-460c-9152-e889e3d9f669\",\"subtype\":\"Chart\",\"type\":\"Plot\"},\"ticker\":{\"id\":\"eac0c74f-3a74-4d79-ac75-82948db9ebdf\",\"type\":\"BasicTicker\"}},\"id\":\"74f8950d-12d7-4789-82c9-e6b02d838611\",\"type\":\"Grid\"},{\"attributes\":{},\"id\":\"6834a356-8f4b-40f2-9a5e-b0a4c84583a0\",\"type\":\"BasicTickFormatter\"},{\"attributes\":{\"items\":[{\"id\":\"6267d052-47b7-4559-bf32-93249fdc0c29\",\"type\":\"LegendItem\"},{\"id\":\"6ef8a66f-41b8-4fff-8fc0-a950e6fb4162\",\"type\":\"LegendItem\"},{\"id\":\"450026cd-01d9-4839-923b-b031410e81cf\",\"type\":\"LegendItem\"},{\"id\":\"5ac21bac-2f4c-4d04-ad82-0b4a8afff538\",\"type\":\"LegendItem\"},{\"id\":\"fd840de3-3f5b-459d-84b7-067ccccd2542\",\"type\":\"LegendItem\"}],\"label_text_font_size\":{\"value\":\"14pt\"},\"location\":\"bottom_right\",\"plot\":{\"id\":\"23cabd2b-790b-460c-9152-e889e3d9f669\",\"subtype\":\"Chart\",\"type\":\"Plot\"}},\"id\":\"77f21de0-b9f9-4f05-8057-cb5ba3d23d51\",\"type\":\"Legend\"},{\"attributes\":{\"plot\":{\"id\":\"23cabd2b-790b-460c-9152-e889e3d9f669\",\"subtype\":\"Chart\",\"type\":\"Plot\"}},\"id\":\"e1d00462-b0be-4853-8cc2-56ccf3114fd9\",\"type\":\"ResetTool\"},{\"attributes\":{\"below\":[{\"id\":\"cb8d04be-f16b-4026-9b6c-b558eb07a93b\",\"type\":\"LinearAxis\"}],\"css_classes\":null,\"left\":[{\"id\":\"c90f581f-f443-4276-b88f-4f36572afeef\",\"type\":\"LinearAxis\"}],\"renderers\":[{\"id\":\"d865f37c-81bc-4ad6-8331-0908fb1ef2b8\",\"type\":\"BoxAnnotation\"},{\"id\":\"a7b579fb-8723-48f9-a244-4fc3020e460c\",\"type\":\"GlyphRenderer\"},{\"id\":\"4d2803f2-4238-464f-85d4-4141e10d850b\",\"type\":\"GlyphRenderer\"},{\"id\":\"7997ea68-93de-47c2-9a2d-21c8310f1850\",\"type\":\"GlyphRenderer\"},{\"id\":\"5fb5335a-1410-404d-a726-ed3539a6dd2a\",\"type\":\"GlyphRenderer\"},{\"id\":\"c7b370bd-a6b9-4850-a228-1acf636af1cf\",\"type\":\"GlyphRenderer\"},{\"id\":\"77f21de0-b9f9-4f05-8057-cb5ba3d23d51\",\"type\":\"Legend\"},{\"id\":\"cb8d04be-f16b-4026-9b6c-b558eb07a93b\",\"type\":\"LinearAxis\"},{\"id\":\"c90f581f-f443-4276-b88f-4f36572afeef\",\"type\":\"LinearAxis\"},{\"id\":\"e68433f0-e66d-4bcb-8fc0-56b490b5c8c0\",\"type\":\"Grid\"},{\"id\":\"74f8950d-12d7-4789-82c9-e6b02d838611\",\"type\":\"Grid\"}],\"title\":{\"id\":\"0e562432-9296-4905-8f88-5d7b1f8f617b\",\"type\":\"Title\"},\"tool_events\":{\"id\":\"7d75052f-60c5-4a52-b3e8-0a07e882581a\",\"type\":\"ToolEvents\"},\"toolbar\":{\"id\":\"1a205bf5-bbfe-4775-a543-714719843947\",\"type\":\"Toolbar\"},\"x_range\":{\"id\":\"0568f48a-1604-405d-8ba2-560242cd443d\",\"type\":\"Range1d\"},\"x_scale\":{\"id\":\"46d93771-e7d6-4ba4-bb0d-6cab65bb6f7f\",\"type\":\"LinearScale\"},\"y_range\":{\"id\":\"1f70d66a-fd30-4e08-ba58-7d698f85662f\",\"type\":\"Range1d\"},\"y_scale\":{\"id\":\"3fd03146-6baa-4193-b9c3-cd32895ddd42\",\"type\":\"LinearScale\"}},\"id\":\"23cabd2b-790b-460c-9152-e889e3d9f669\",\"subtype\":\"Chart\",\"type\":\"Plot\"},{\"attributes\":{\"label\":{\"value\":\"social+twlda10\"},\"renderers\":[{\"id\":\"5fb5335a-1410-404d-a726-ed3539a6dd2a\",\"type\":\"GlyphRenderer\"}]},\"id\":\"5ac21bac-2f4c-4d04-ad82-0b4a8afff538\",\"type\":\"LegendItem\"},{\"attributes\":{\"data_source\":{\"id\":\"a51e3cc0-7795-48fc-bef3-24a12b7bc9bb\",\"type\":\"ColumnDataSource\"},\"glyph\":{\"id\":\"d4ec6db9-b644-4e85-8d5a-eaea0283be47\",\"type\":\"Line\"},\"hover_glyph\":null,\"muted_glyph\":null},\"id\":\"c7b370bd-a6b9-4850-a228-1acf636af1cf\",\"type\":\"GlyphRenderer\"},{\"attributes\":{\"plot\":null,\"text\":null},\"id\":\"0e562432-9296-4905-8f88-5d7b1f8f617b\",\"type\":\"Title\"},{\"attributes\":{\"data_source\":{\"id\":\"c64576bc-c5e9-406d-a86a-74c6df89197b\",\"type\":\"ColumnDataSource\"},\"glyph\":{\"id\":\"285e2ef5-2a83-4858-b72c-04039384ce97\",\"type\":\"Line\"},\"hover_glyph\":null,\"muted_glyph\":null},\"id\":\"7997ea68-93de-47c2-9a2d-21c8310f1850\",\"type\":\"GlyphRenderer\"},{\"attributes\":{\"active_drag\":\"auto\",\"active_inspect\":\"auto\",\"active_scroll\":\"auto\",\"active_tap\":\"auto\",\"tools\":[{\"id\":\"a2322618-cdf2-4361-8232-9d83cac21ede\",\"type\":\"PanTool\"},{\"id\":\"0050c27b-8274-48d2-b177-e76c51bd7fc9\",\"type\":\"WheelZoomTool\"},{\"id\":\"c1bd8922-621b-4ed8-88ee-366952a20baf\",\"type\":\"BoxZoomTool\"},{\"id\":\"e88d6996-a8c2-4b8a-94a9-6a2e00d98cfa\",\"type\":\"SaveTool\"},{\"id\":\"e1d00462-b0be-4853-8cc2-56ccf3114fd9\",\"type\":\"ResetTool\"},{\"id\":\"a88ce969-0694-40ad-8a89-45612380ae50\",\"type\":\"HelpTool\"}]},\"id\":\"1a205bf5-bbfe-4775-a543-714719843947\",\"type\":\"Toolbar\"},{\"attributes\":{\"data_source\":{\"id\":\"b40c3bb8-1145-4b85-a368-34eeb5805cdd\",\"type\":\"ColumnDataSource\"},\"glyph\":{\"id\":\"91e680f8-82d7-46d5-b41a-f09e6d352b6c\",\"type\":\"Line\"},\"hover_glyph\":null,\"muted_glyph\":null},\"id\":\"5fb5335a-1410-404d-a726-ed3539a6dd2a\",\"type\":\"GlyphRenderer\"},{\"attributes\":{\"axis_label\":\"user\",\"axis_label_text_font_size\":{\"value\":\"20pt\"},\"formatter\":{\"id\":\"6834a356-8f4b-40f2-9a5e-b0a4c84583a0\",\"type\":\"BasicTickFormatter\"},\"major_label_text_font_size\":{\"value\":\"20pt\"},\"plot\":{\"id\":\"23cabd2b-790b-460c-9152-e889e3d9f669\",\"subtype\":\"Chart\",\"type\":\"Plot\"},\"ticker\":{\"id\":\"06301ad2-6367-4248-b9bd-f643ffa61b6b\",\"type\":\"BasicTicker\"}},\"id\":\"cb8d04be-f16b-4026-9b6c-b558eb07a93b\",\"type\":\"LinearAxis\"},{\"attributes\":{\"callback\":null,\"end\":39.6,\"start\":-3.6},\"id\":\"0568f48a-1604-405d-8ba2-560242cd443d\",\"type\":\"Range1d\"},{\"attributes\":{\"plot\":{\"id\":\"23cabd2b-790b-460c-9152-e889e3d9f669\",\"subtype\":\"Chart\",\"type\":\"Plot\"}},\"id\":\"0050c27b-8274-48d2-b177-e76c51bd7fc9\",\"type\":\"WheelZoomTool\"},{\"attributes\":{\"callback\":null,\"column_names\":[\"x_values\",\"y_values\"],\"data\":{\"chart_index\":[{\"series\":\"social+lda10\"},{\"series\":\"social+lda10\"},{\"series\":\"social+lda10\"},{\"series\":\"social+lda10\"},{\"series\":\"social+lda10\"},{\"series\":\"social+lda10\"},{\"series\":\"social+lda10\"},{\"series\":\"social+lda10\"},{\"series\":\"social+lda10\"},{\"series\":\"social+lda10\"},{\"series\":\"social+lda10\"},{\"series\":\"social+lda10\"},{\"series\":\"social+lda10\"},{\"series\":\"social+lda10\"},{\"series\":\"social+lda10\"},{\"series\":\"social+lda10\"},{\"series\":\"social+lda10\"},{\"series\":\"social+lda10\"},{\"series\":\"social+lda10\"},{\"series\":\"social+lda10\"},{\"series\":\"social+lda10\"},{\"series\":\"social+lda10\"},{\"series\":\"social+lda10\"},{\"series\":\"social+lda10\"},{\"series\":\"social+lda10\"},{\"series\":\"social+lda10\"},{\"series\":\"social+lda10\"},{\"series\":\"social+lda10\"},{\"series\":\"social+lda10\"},{\"series\":\"social+lda10\"},{\"series\":\"social+lda10\"},{\"series\":\"social+lda10\"},{\"series\":\"social+lda10\"},{\"series\":\"social+lda10\"},{\"series\":\"social+lda10\"},{\"series\":\"social+lda10\"},{\"series\":\"social+lda10\"}],\"series\":[\"social+lda10\",\"social+lda10\",\"social+lda10\",\"social+lda10\",\"social+lda10\",\"social+lda10\",\"social+lda10\",\"social+lda10\",\"social+lda10\",\"social+lda10\",\"social+lda10\",\"social+lda10\",\"social+lda10\",\"social+lda10\",\"social+lda10\",\"social+lda10\",\"social+lda10\",\"social+lda10\",\"social+lda10\",\"social+lda10\",\"social+lda10\",\"social+lda10\",\"social+lda10\",\"social+lda10\",\"social+lda10\",\"social+lda10\",\"social+lda10\",\"social+lda10\",\"social+lda10\",\"social+lda10\",\"social+lda10\",\"social+lda10\",\"social+lda10\",\"social+lda10\",\"social+lda10\",\"social+lda10\",\"social+lda10\"],\"x_values\":[0,1,2,3,4,5,6,7,8,9,10,11,12,13,14,15,16,17,18,19,20,21,22,23,24,25,26,27,28,29,30,31,32,33,34,35,36],\"y_values\":{\"__ndarray__\":\"F2iBFmiB5j/43nvvvffeP1EZlVEZleE/VHexVhGd4j+aNGnSpEnjP93TCMs9jeA/n/RJn/RJ3z8pr6G8hvLaPzvavE9xyeA/vEAmxQtk4j+0Q+DGMijlPxQ7sRM7seM/E4y3ss8h5T8Iyz2NsNzjP3oUrkfheuQ/FH+RMyy45D/qoosuuujmP6dE8Eh/Pec/uacRlnsa4T8AAAAAAIDlPzbBeCv7HOI/Kjkvi/gE4j9CeQ3lNZTnP2dmZmZmZt4/5oo9ELaa6j9wWPuGtW/oPzaU11BeQ+k/oHJ2C78a4z8YhmEYhmHoP2RudUYq5uY/25WoXYna5T9H3BF3xB3hP2wor6G8huI/cu3AXDsw5z8LmwOJVtjsP+3T9en6dO0/e9Ob3vSm5z8=\",\"dtype\":\"float64\",\"shape\":[37]}}},\"id\":\"7d5435a0-ad23-45ae-a542-044d91fd3e88\",\"type\":\"ColumnDataSource\"},{\"attributes\":{\"callback\":null,\"column_names\":[\"x_values\",\"y_values\"],\"data\":{\"chart_index\":[{\"series\":\"social\"},{\"series\":\"social\"},{\"series\":\"social\"},{\"series\":\"social\"},{\"series\":\"social\"},{\"series\":\"social\"},{\"series\":\"social\"},{\"series\":\"social\"},{\"series\":\"social\"},{\"series\":\"social\"},{\"series\":\"social\"},{\"series\":\"social\"},{\"series\":\"social\"},{\"series\":\"social\"},{\"series\":\"social\"},{\"series\":\"social\"},{\"series\":\"social\"},{\"series\":\"social\"},{\"series\":\"social\"},{\"series\":\"social\"},{\"series\":\"social\"},{\"series\":\"social\"},{\"series\":\"social\"},{\"series\":\"social\"},{\"series\":\"social\"},{\"series\":\"social\"},{\"series\":\"social\"},{\"series\":\"social\"},{\"series\":\"social\"},{\"series\":\"social\"},{\"series\":\"social\"},{\"series\":\"social\"},{\"series\":\"social\"},{\"series\":\"social\"},{\"series\":\"social\"},{\"series\":\"social\"},{\"series\":\"social\"}],\"series\":[\"social\",\"social\",\"social\",\"social\",\"social\",\"social\",\"social\",\"social\",\"social\",\"social\",\"social\",\"social\",\"social\",\"social\",\"social\",\"social\",\"social\",\"social\",\"social\",\"social\",\"social\",\"social\",\"social\",\"social\",\"social\",\"social\",\"social\",\"social\",\"social\",\"social\",\"social\",\"social\",\"social\",\"social\",\"social\",\"social\",\"social\"],\"x_values\":[0,1,2,3,4,5,6,7,8,9,10,11,12,13,14,15,16,17,18,19,20,21,22,23,24,25,26,27,28,29,30,31,32,33,34,35,36],\"y_values\":{\"__ndarray__\":\"ZRbup3lrsD900UUXXXThP8/KT4iz8uM/HMdxHMdx5D86u4VfjYnkP9JFF1100eU/AQAAAAAA5j9lIQtZyELmP2UhC1nIQuY/ymsor6G85j/HcRzHcRznPzMzMzMzM+c/Nzc3Nzc35z9GF1100UXnP/QFfUFf0Oc/94DZA2YP6D/NH2w8mj/oP9mJndiJneg/NNaHxvrQ6D+1l9BeQnvpPyOfdYMp8uk/sKG8hvIa6j9aWlpaWlrqP6qqqqqqquo/YGdXe2oQ6z/H+tBYHxrrPyabbLLJJus/bdR3Nuo76z/btm3btm3rP9u2bdu2bes/HLmRG7mR6z8fwX0E9xHsP+zETuzETuw/1AjLPY2w7D9ot/CrMZHuP8dxHMdxHO8/3/It3/It7z8=\",\"dtype\":\"float64\",\"shape\":[37]}}},\"id\":\"c46ca77c-e50c-4826-a58f-b76bf3ec1461\",\"type\":\"ColumnDataSource\"},{\"attributes\":{\"line_color\":{\"value\":\"#fc6494\"},\"line_width\":{\"value\":2},\"x\":{\"field\":\"x_values\"},\"y\":{\"field\":\"y_values\"}},\"id\":\"285e2ef5-2a83-4858-b72c-04039384ce97\",\"type\":\"Line\"},{\"attributes\":{\"bottom_units\":\"screen\",\"fill_alpha\":{\"value\":0.5},\"fill_color\":{\"value\":\"lightgrey\"},\"left_units\":\"screen\",\"level\":\"overlay\",\"line_alpha\":{\"value\":1.0},\"line_color\":{\"value\":\"black\"},\"line_dash\":[4,4],\"line_width\":{\"value\":2},\"plot\":null,\"render_mode\":\"css\",\"right_units\":\"screen\",\"top_units\":\"screen\"},\"id\":\"d865f37c-81bc-4ad6-8331-0908fb1ef2b8\",\"type\":\"BoxAnnotation\"},{\"attributes\":{\"data_source\":{\"id\":\"7d5435a0-ad23-45ae-a542-044d91fd3e88\",\"type\":\"ColumnDataSource\"},\"glyph\":{\"id\":\"6a1a532b-6b96-4232-b2c8-9a7969dcd33c\",\"type\":\"Line\"},\"hover_glyph\":null,\"muted_glyph\":null},\"id\":\"4d2803f2-4238-464f-85d4-4141e10d850b\",\"type\":\"GlyphRenderer\"},{\"attributes\":{},\"id\":\"284ce6bf-3265-44a7-97f2-0054bc8102c9\",\"type\":\"BasicTickFormatter\"},{\"attributes\":{\"plot\":{\"id\":\"23cabd2b-790b-460c-9152-e889e3d9f669\",\"subtype\":\"Chart\",\"type\":\"Plot\"}},\"id\":\"a88ce969-0694-40ad-8a89-45612380ae50\",\"type\":\"HelpTool\"},{\"attributes\":{\"line_color\":{\"value\":\"#09ed51\"},\"line_width\":{\"value\":2},\"x\":{\"field\":\"x_values\"},\"y\":{\"field\":\"y_values\"}},\"id\":\"d4ec6db9-b644-4e85-8d5a-eaea0283be47\",\"type\":\"Line\"},{\"attributes\":{\"label\":{\"value\":\"social+lda10\"},\"renderers\":[{\"id\":\"4d2803f2-4238-464f-85d4-4141e10d850b\",\"type\":\"GlyphRenderer\"}]},\"id\":\"6ef8a66f-41b8-4fff-8fc0-a950e6fb4162\",\"type\":\"LegendItem\"},{\"attributes\":{\"label\":{\"value\":\"social+twlda20\"},\"renderers\":[{\"id\":\"c7b370bd-a6b9-4850-a228-1acf636af1cf\",\"type\":\"GlyphRenderer\"}]},\"id\":\"fd840de3-3f5b-459d-84b7-067ccccd2542\",\"type\":\"LegendItem\"},{\"attributes\":{\"plot\":{\"id\":\"23cabd2b-790b-460c-9152-e889e3d9f669\",\"subtype\":\"Chart\",\"type\":\"Plot\"}},\"id\":\"a2322618-cdf2-4361-8232-9d83cac21ede\",\"type\":\"PanTool\"},{\"attributes\":{\"callback\":null,\"column_names\":[\"x_values\",\"y_values\"],\"data\":{\"chart_index\":[{\"series\":\"social+twlda10\"},{\"series\":\"social+twlda10\"},{\"series\":\"social+twlda10\"},{\"series\":\"social+twlda10\"},{\"series\":\"social+twlda10\"},{\"series\":\"social+twlda10\"},{\"series\":\"social+twlda10\"},{\"series\":\"social+twlda10\"},{\"series\":\"social+twlda10\"},{\"series\":\"social+twlda10\"},{\"series\":\"social+twlda10\"},{\"series\":\"social+twlda10\"},{\"series\":\"social+twlda10\"},{\"series\":\"social+twlda10\"},{\"series\":\"social+twlda10\"},{\"series\":\"social+twlda10\"},{\"series\":\"social+twlda10\"},{\"series\":\"social+twlda10\"},{\"series\":\"social+twlda10\"},{\"series\":\"social+twlda10\"},{\"series\":\"social+twlda10\"},{\"series\":\"social+twlda10\"},{\"series\":\"social+twlda10\"},{\"series\":\"social+twlda10\"},{\"series\":\"social+twlda10\"},{\"series\":\"social+twlda10\"},{\"series\":\"social+twlda10\"},{\"series\":\"social+twlda10\"},{\"series\":\"social+twlda10\"},{\"series\":\"social+twlda10\"},{\"series\":\"social+twlda10\"},{\"series\":\"social+twlda10\"},{\"series\":\"social+twlda10\"},{\"series\":\"social+twlda10\"},{\"series\":\"social+twlda10\"},{\"series\":\"social+twlda10\"},{\"series\":\"social+twlda10\"}],\"series\":[\"social+twlda10\",\"social+twlda10\",\"social+twlda10\",\"social+twlda10\",\"social+twlda10\",\"social+twlda10\",\"social+twlda10\",\"social+twlda10\",\"social+twlda10\",\"social+twlda10\",\"social+twlda10\",\"social+twlda10\",\"social+twlda10\",\"social+twlda10\",\"social+twlda10\",\"social+twlda10\",\"social+twlda10\",\"social+twlda10\",\"social+twlda10\",\"social+twlda10\",\"social+twlda10\",\"social+twlda10\",\"social+twlda10\",\"social+twlda10\",\"social+twlda10\",\"social+twlda10\",\"social+twlda10\",\"social+twlda10\",\"social+twlda10\",\"social+twlda10\",\"social+twlda10\",\"social+twlda10\",\"social+twlda10\",\"social+twlda10\",\"social+twlda10\",\"social+twlda10\",\"social+twlda10\"],\"x_values\":[0,1,2,3,4,5,6,7,8,9,10,11,12,13,14,15,16,17,18,19,20,21,22,23,24,25,26,27,28,29,30,31,32,33,34,35,36],\"y_values\":{\"__ndarray__\":\"AAAAAAAA7z9oMZ3FdBbjP0U+6wZT5OM/SeXDuF+X5D+au+Cv4oTkP9JFF1100eU/MzMzMzMz4z9ddNFFF13kP2UhC1nIQuY/MJb8Yskv5j+fQ2qC8VbmP/yuFjdhfuc/ZZ9DaoLx5j9GF1100UXnP3vTm970puc/94DZA2YP6D/NH2w8mj/oP9nY2NjY2Og/39mo72zU5z+1l9BeQnvpPyOfdYMp8uk/y5YtW7Zs6T+amZmZmZnpP2zUdzbqO+s/JrSX0F5C6z/H+tBYHxrrPwEAAAAAAOo/bdR3Nuo76z/btm3btm3rP1qwBVuwBes/HLmRG7mR6z/D2jesfcPqP+zETuzETuw/dl8eWxE07D9ot/CrMZHuPzjg8YcDHu8/3/It3/It7z8=\",\"dtype\":\"float64\",\"shape\":[37]}}},\"id\":\"b40c3bb8-1145-4b85-a368-34eeb5805cdd\",\"type\":\"ColumnDataSource\"},{\"attributes\":{},\"id\":\"7d75052f-60c5-4a52-b3e8-0a07e882581a\",\"type\":\"ToolEvents\"},{\"attributes\":{\"plot\":{\"id\":\"23cabd2b-790b-460c-9152-e889e3d9f669\",\"subtype\":\"Chart\",\"type\":\"Plot\"},\"ticker\":{\"id\":\"06301ad2-6367-4248-b9bd-f643ffa61b6b\",\"type\":\"BasicTicker\"}},\"id\":\"e68433f0-e66d-4bcb-8fc0-56b490b5c8c0\",\"type\":\"Grid\"},{\"attributes\":{\"callback\":null,\"end\":1.070669339164237,\"start\":-0.027362730806608337},\"id\":\"1f70d66a-fd30-4e08-ba58-7d698f85662f\",\"type\":\"Range1d\"},{\"attributes\":{\"line_color\":{\"value\":\"#0899ed\"},\"line_width\":{\"value\":2},\"x\":{\"field\":\"x_values\"},\"y\":{\"field\":\"y_values\"}},\"id\":\"91e680f8-82d7-46d5-b41a-f09e6d352b6c\",\"type\":\"Line\"},{\"attributes\":{\"label\":{\"value\":\"social+lda20\"},\"renderers\":[{\"id\":\"7997ea68-93de-47c2-9a2d-21c8310f1850\",\"type\":\"GlyphRenderer\"}]},\"id\":\"450026cd-01d9-4839-923b-b031410e81cf\",\"type\":\"LegendItem\"},{\"attributes\":{\"data_source\":{\"id\":\"c46ca77c-e50c-4826-a58f-b76bf3ec1461\",\"type\":\"ColumnDataSource\"},\"glyph\":{\"id\":\"43d50ff1-6742-40e4-ab05-719e827e527f\",\"type\":\"Line\"},\"hover_glyph\":null,\"muted_glyph\":null},\"id\":\"a7b579fb-8723-48f9-a244-4fc3020e460c\",\"type\":\"GlyphRenderer\"},{\"attributes\":{\"overlay\":{\"id\":\"d865f37c-81bc-4ad6-8331-0908fb1ef2b8\",\"type\":\"BoxAnnotation\"},\"plot\":{\"id\":\"23cabd2b-790b-460c-9152-e889e3d9f669\",\"subtype\":\"Chart\",\"type\":\"Plot\"}},\"id\":\"c1bd8922-621b-4ed8-88ee-366952a20baf\",\"type\":\"BoxZoomTool\"},{\"attributes\":{},\"id\":\"eac0c74f-3a74-4d79-ac75-82948db9ebdf\",\"type\":\"BasicTicker\"},{\"attributes\":{\"axis_label_text_font_size\":{\"value\":\"20pt\"},\"formatter\":{\"id\":\"284ce6bf-3265-44a7-97f2-0054bc8102c9\",\"type\":\"BasicTickFormatter\"},\"major_label_text_font_size\":{\"value\":\"20pt\"},\"plot\":{\"id\":\"23cabd2b-790b-460c-9152-e889e3d9f669\",\"subtype\":\"Chart\",\"type\":\"Plot\"},\"ticker\":{\"id\":\"eac0c74f-3a74-4d79-ac75-82948db9ebdf\",\"type\":\"BasicTicker\"}},\"id\":\"c90f581f-f443-4276-b88f-4f36572afeef\",\"type\":\"LinearAxis\"},{\"attributes\":{\"callback\":null,\"column_names\":[\"x_values\",\"y_values\"],\"data\":{\"chart_index\":[{\"series\":\"social+lda20\"},{\"series\":\"social+lda20\"},{\"series\":\"social+lda20\"},{\"series\":\"social+lda20\"},{\"series\":\"social+lda20\"},{\"series\":\"social+lda20\"},{\"series\":\"social+lda20\"},{\"series\":\"social+lda20\"},{\"series\":\"social+lda20\"},{\"series\":\"social+lda20\"},{\"series\":\"social+lda20\"},{\"series\":\"social+lda20\"},{\"series\":\"social+lda20\"},{\"series\":\"social+lda20\"},{\"series\":\"social+lda20\"},{\"series\":\"social+lda20\"},{\"series\":\"social+lda20\"},{\"series\":\"social+lda20\"},{\"series\":\"social+lda20\"},{\"series\":\"social+lda20\"},{\"series\":\"social+lda20\"},{\"series\":\"social+lda20\"},{\"series\":\"social+lda20\"},{\"series\":\"social+lda20\"},{\"series\":\"social+lda20\"},{\"series\":\"social+lda20\"},{\"series\":\"social+lda20\"},{\"series\":\"social+lda20\"},{\"series\":\"social+lda20\"},{\"series\":\"social+lda20\"},{\"series\":\"social+lda20\"},{\"series\":\"social+lda20\"},{\"series\":\"social+lda20\"},{\"series\":\"social+lda20\"},{\"series\":\"social+lda20\"},{\"series\":\"social+lda20\"},{\"series\":\"social+lda20\"}],\"series\":[\"social+lda20\",\"social+lda20\",\"social+lda20\",\"social+lda20\",\"social+lda20\",\"social+lda20\",\"social+lda20\",\"social+lda20\",\"social+lda20\",\"social+lda20\",\"social+lda20\",\"social+lda20\",\"social+lda20\",\"social+lda20\",\"social+lda20\",\"social+lda20\",\"social+lda20\",\"social+lda20\",\"social+lda20\",\"social+lda20\",\"social+lda20\",\"social+lda20\",\"social+lda20\",\"social+lda20\",\"social+lda20\",\"social+lda20\",\"social+lda20\",\"social+lda20\",\"social+lda20\",\"social+lda20\",\"social+lda20\",\"social+lda20\",\"social+lda20\",\"social+lda20\",\"social+lda20\",\"social+lda20\",\"social+lda20\"],\"x_values\":[0,1,2,3,4,5,6,7,8,9,10,11,12,13,14,15,16,17,18,19,20,21,22,23,24,25,26,27,28,29,30,31,32,33,34,35,36],\"y_values\":{\"__ndarray__\":\"0UUXXXTR5T9KkKcEeUrgP2cgKh3ZM+A/0+8UEmGC4z9lKp5rVofhPw0ndV8eW+E/GIZhGIZh2D9aWlpaWlraP3kN5TWU1+A/AAAAAAAA4D9fQ3kN5TXkP01talOb2uQ/FBQUFBQU5D8zMzMzMzPjP5IkSZIkSeI/QKPEzyjx4z+i32wd+s3mP8dxHMdxHOc/TgJxoeYk4D/KoUW28/3kP5IkSZIkSeI/AAAAAAAA4j+2bdu2bdvmP/GrMZEeqNw/kAmScHFn6j/ZiZ3YiZ3oPxdswRZsweY/TyMs9zTC4j8b1r5h7RvmPxzWvmHtG+Y/NXV+7SGX5T8AAAAAAADgP+Q4juM4juM/lmVZlmVZ5j9rlhifMu3sP+3T9en6dO0/NNaHxvrQ6D8=\",\"dtype\":\"float64\",\"shape\":[37]}}},\"id\":\"c64576bc-c5e9-406d-a86a-74c6df89197b\",\"type\":\"ColumnDataSource\"}],\"root_ids\":[\"23cabd2b-790b-460c-9152-e889e3d9f669\"]},\"title\":\"Bokeh Application\",\"version\":\"0.12.6\"}};\n",
       "            var render_items = [{\"docid\":\"407d84d9-872f-4886-a888-a834d69326d9\",\"elementid\":\"2a5dc2d7-a6ae-4416-81c5-30cdc52d630c\",\"modelid\":\"23cabd2b-790b-460c-9152-e889e3d9f669\"}];\n",
       "            \n",
       "            Bokeh.embed.embed_items(docs_json, render_items);\n",
       "          };\n",
       "          if (document.readyState != \"loading\") fn();\n",
       "          else document.addEventListener(\"DOMContentLoaded\", fn);\n",
       "        })();\n",
       "      },\n",
       "      function(Bokeh) {\n",
       "      }\n",
       "    ];\n",
       "  \n",
       "    function run_inline_js() {\n",
       "      \n",
       "      if ((window.Bokeh !== undefined) || (force === true)) {\n",
       "        for (var i = 0; i < inline_js.length; i++) {\n",
       "          inline_js[i](window.Bokeh);\n",
       "        }if (force === true) {\n",
       "          display_loaded();\n",
       "        }} else if (Date.now() < window._bokeh_timeout) {\n",
       "        setTimeout(run_inline_js, 100);\n",
       "      } else if (!window._bokeh_failed_load) {\n",
       "        console.log(\"Bokeh: BokehJS failed to load within specified timeout.\");\n",
       "        window._bokeh_failed_load = true;\n",
       "      } else if (force !== true) {\n",
       "        var cell = $(document.getElementById(\"2a5dc2d7-a6ae-4416-81c5-30cdc52d630c\")).parents('.cell').data().cell;\n",
       "        cell.output_area.append_execute_result(NB_LOAD_WARNING)\n",
       "      }\n",
       "  \n",
       "    }\n",
       "  \n",
       "    if (window._bokeh_is_loading === 0) {\n",
       "      console.log(\"Bokeh: BokehJS loaded, going straight to plotting\");\n",
       "      run_inline_js();\n",
       "    } else {\n",
       "      load_libs(js_urls, function() {\n",
       "        console.log(\"Bokeh: BokehJS plotting callback run at\", now());\n",
       "        run_inline_js();\n",
       "      });\n",
       "    }\n",
       "  }(this));\n",
       "</script>"
      ]
     },
     "metadata": {},
     "output_type": "display_data"
    }
   ],
   "source": [
    "f1s_combined = {}\n",
    "for n_topics in [5, 10, 20]:\n",
    "    with open('scores/t%d_f1s_test_svc.json' % n_topics) as f:    \n",
    "        f1s_combined[n_topics] = json.load(f)\n",
    "\n",
    "f1s_social = json.load(open('../_1_one_user_learn_neighbours/scores/f1s_testv_svc.json'))\n",
    "f1s_social = {u: f for u, f in f1s_social.items() if u in nlp_uids}\n",
    "\n",
    "sorted_uids = [u for u, f in sorted(f1s_social.items(), key=lambda x:x[1]) if u in f1s_combined[5]]\n",
    "\n",
    "f1s_lda = {n_topics: np.array([f1s_combined[n_topics][uid] for uid in sorted_uids])\\\n",
    "              for n_topics in [10, 20]}\n",
    "\n",
    "f1s_twlda10 = json.load(open('./scores/tw_t10_f1s_test_svc.json'))\n",
    "f1s_twlda10 = np.array([f1s_twlda10[uid] for uid in sorted_uids])\n",
    "\n",
    "f1s_twlda20 = json.load(open('./scores/tw_t20_f1s_test_svc.json'))\n",
    "f1s_twlda20 = np.array([f1s_twlda20[uid] for uid in sorted_uids])\n",
    "\n",
    "f1s_s = np.array([f1s_social[uid] for uid in sorted_uids])\n",
    "\n",
    "# build a dataset where multiple columns measure the same thing\n",
    "data = {\n",
    "    \"social\": f1s_s,\n",
    "    \"social+lda10\": f1s_lda[10],\n",
    "    \"social+lda20\": f1s_lda[20],\n",
    "    \"social+twlda10\": f1s_twlda10,\n",
    "    \"social+twlda20\": f1s_twlda20\n",
    "}\n",
    "\n",
    "labels = ['social', 'social+lda10', 'social+lda20', 'social+twlda10', 'social+twlda20']\n",
    "\n",
    "from bokeh.palettes import brewer\n",
    "colors = brewer[\"Spectral\"][len(labels)]\n",
    "colors = ['black', '#840317', '#fc6494', '#0899ed', '#09ed51']\n",
    "# dashes = ['solid', 'dotted', 'dashed', 'dotted', 'dashed']\n",
    "# colors = labels\n",
    "        \n",
    "        \n",
    "# create a line chart where each column of measures receives a unique color and dash style\n",
    "line = Line(data, y=labels,\n",
    "#             dash=labels,\n",
    "#             dash=labels,\n",
    "            color=colors,\n",
    "#             legend_sort_field = 'color',\n",
    "            legend_sort_direction = 'descending',\n",
    "            xlabel='user',\n",
    "            ylabel='',\n",
    "            legend=True)\n",
    "\n",
    "line.axis.major_label_text_font_size = \"20pt\"\n",
    "line.axis.axis_label_text_font_size = \"20pt\"\n",
    "line.legend.label_text_font_size = \"14pt\"\n",
    "line.legend.location = 'bottom_right'\n",
    "\n",
    "\n",
    "\n",
    "show(line)"
   ]
  },
  {
   "cell_type": "code",
   "execution_count": 15,
   "metadata": {
    "collapsed": false
   },
   "outputs": [
    {
     "data": {
      "text/plain": [
       "<bound method Chart.column of Chart(id='45dfdcc3-e34f-4f8e-83a4-ff9f1deadb6d', ...)>"
      ]
     },
     "execution_count": 15,
     "metadata": {},
     "output_type": "execute_result"
    }
   ],
   "source": [
    "line.column"
   ]
  },
  {
   "cell_type": "code",
   "execution_count": 23,
   "metadata": {
    "collapsed": true
   },
   "outputs": [],
   "source": [
    "from bokeh.palettes import brewer\n",
    "colors = brewer[\"Spectral\"][len(labels)]"
   ]
  },
  {
   "cell_type": "code",
   "execution_count": 24,
   "metadata": {
    "collapsed": false
   },
   "outputs": [
    {
     "data": {
      "text/plain": [
       "['#2b83ba', '#abdda4', '#ffffbf', '#fdae61', '#d7191c']"
      ]
     },
     "execution_count": 24,
     "metadata": {},
     "output_type": "execute_result"
    }
   ],
   "source": [
    "colors"
   ]
  },
  {
   "cell_type": "code",
   "execution_count": 25,
   "metadata": {
    "collapsed": false
   },
   "outputs": [
    {
     "data": {
      "text/plain": [
       "['social', 'social+lda10', 'social+lda20', 'social+twlda10', 'social+twlda20']"
      ]
     },
     "execution_count": 25,
     "metadata": {},
     "output_type": "execute_result"
    }
   ],
   "source": [
    "labels"
   ]
  },
  {
   "cell_type": "code",
   "execution_count": 26,
   "metadata": {
    "collapsed": true
   },
   "outputs": [],
   "source": [
    "Line?"
   ]
  },
  {
   "cell_type": "code",
   "execution_count": 27,
   "metadata": {
    "collapsed": true
   },
   "outputs": [],
   "source": [
    "import bokeh"
   ]
  },
  {
   "cell_type": "code",
   "execution_count": 28,
   "metadata": {
    "collapsed": false
   },
   "outputs": [
    {
     "data": {
      "text/plain": [
       "u'0.12.5'"
      ]
     },
     "execution_count": 28,
     "metadata": {},
     "output_type": "execute_result"
    }
   ],
   "source": [
    "bokeh.__version__"
   ]
  },
  {
   "cell_type": "code",
   "execution_count": null,
   "metadata": {
    "collapsed": true
   },
   "outputs": [],
   "source": []
  }
 ],
 "metadata": {
  "kernelspec": {
   "display_name": "Python 2",
   "language": "python",
   "name": "python2"
  },
  "language_info": {
   "codemirror_mode": {
    "name": "ipython",
    "version": 2
   },
   "file_extension": ".py",
   "mimetype": "text/x-python",
   "name": "python",
   "nbconvert_exporter": "python",
   "pygments_lexer": "ipython2",
   "version": "2.7.11+"
  }
 },
 "nbformat": 4,
 "nbformat_minor": 2
}
