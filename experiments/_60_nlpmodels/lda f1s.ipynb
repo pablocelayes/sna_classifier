{
 "cells": [
  {
   "cell_type": "code",
   "execution_count": 2,
   "metadata": {
    "collapsed": true
   },
   "outputs": [],
   "source": [
    "nlp_model = 'lda'\n",
    "\n",
    "from experiments._60_nlpmodels.fit_social_nlp_models import *\n",
    "\n",
    "from sklearn.metrics import f1_score\n",
    "\n",
    "f1s_social = load_nlp_selected_users()\n",
    "\n",
    "nlp_uids = [x[0] for x in f1s_social]\n",
    "\n",
    "uid_pos = {uid: pos for pos, uid in enumerate(nlp_uids)}"
   ]
  },
  {
   "cell_type": "code",
   "execution_count": 3,
   "metadata": {
    "collapsed": true
   },
   "outputs": [],
   "source": [
    "# def scale(X_train, X_test):\n",
    "#     train_size = X_train.shape[0]\n",
    "#     X = np.concatenate((X_train, X_test))\n",
    "#     scaler = StandardScaler()\n",
    "#     scaler.fit(X)\n",
    "#     X = scaler.transform(X)\n",
    "#     X_train = X[:train_size,:]\n",
    "#     X_test = X[train_size:,:]\n",
    "\n",
    "#     return X_train, X_test, scaler\n",
    "\n",
    "# f1s_combined = {}\n",
    "\n",
    "# for n_topics in [10, 16, 20]:\n",
    "#     f1s_n = {'train': [], 'valid': [], 'test': []}\n",
    "#     nlp_feats = pd.read_pickle('alltweets_es_%s%d.pickle' % (nlp_model, n_topics))\n",
    "\n",
    "#     for uid, f1 in f1s_social:\n",
    "#         uid = int(uid)\n",
    "#         clf = load_model(uid, 'svc' + nlp_model, n_topics=n_topics, subfolder='social_nlp')\n",
    "\n",
    "#         # Train classifiers only if not created already\n",
    "#         print \"==============================\" \n",
    "#         print \"Processing %d ( f1 %.2f %%)\" % (uid, 100 * f1)\n",
    "\n",
    "#         X_train, X_valid, X_test, y_train, y_valid, y_test = load_dataframe(uid)\n",
    "\n",
    "#         X_train_nlp = nlp_feats.loc[X_train.index]\n",
    "#         X_valid_nlp = nlp_feats.loc[X_valid.index]\n",
    "#         X_test_nlp = nlp_feats.loc[X_test.index]\n",
    "\n",
    "#         X_train_combined = np.hstack((X_train, X_train_nlp))\n",
    "#         X_valid_combined = np.hstack((X_valid, X_valid_nlp))\n",
    "#         X_test_combined = np.hstack((X_test, X_test_nlp))\n",
    "\n",
    "#         X_train_combined, X_valid_combined, scaler = scale(X_train_combined, X_valid_combined)\n",
    "#         # Aplicar mismo scaling a X_test\n",
    "#         X_test_combined = scaler.transform(X_test_combined)\n",
    "        \n",
    "#         y_true, y_pred = y_train, clf.predict(X_train_combined)\n",
    "#         f1s_n['train'].append(f1_score(y_true, y_pred))\n",
    "        \n",
    "#         y_true, y_pred = y_valid, clf.predict(X_valid_combined)\n",
    "#         f1s_n['valid'].append(f1_score(y_true, y_pred))\n",
    "        \n",
    "#         y_true, y_pred = y_test, clf.predict(X_test_combined)\n",
    "#         f1s_n['test'].append(f1_score(y_true, y_pred))\n",
    "        \n",
    "#     f1s_combined[n_topics] = f1s_n"
   ]
  },
  {
   "cell_type": "code",
   "execution_count": 4,
   "metadata": {
    "collapsed": true
   },
   "outputs": [],
   "source": [
    "# with open('f1s_combined_%s.json' % nlp_model, 'w') as f:\n",
    "#     json.dump(f1s_combined, f)"
   ]
  },
  {
   "cell_type": "code",
   "execution_count": 5,
   "metadata": {
    "collapsed": true
   },
   "outputs": [],
   "source": [
    "with open('f1s_combined_%s.json' % nlp_model) as f:\n",
    "    f1s_combined = json.load(f)"
   ]
  },
  {
   "cell_type": "markdown",
   "metadata": {},
   "source": [
    "# Comparación sobre set de prueba"
   ]
  },
  {
   "cell_type": "code",
   "execution_count": 6,
   "metadata": {},
   "outputs": [
    {
     "data": {
      "text/html": [
       "\n",
       "    <div class=\"bk-root\">\n",
       "        <a href=\"http://bokeh.pydata.org\" target=\"_blank\" class=\"bk-logo bk-logo-small bk-logo-notebook\"></a>\n",
       "        <span id=\"d7dab634-73b4-4493-8efe-b5b15e1da7b9\">Loading BokehJS ...</span>\n",
       "    </div>"
      ]
     },
     "metadata": {},
     "output_type": "display_data"
    },
    {
     "data": {
      "application/javascript": [
       "\n",
       "(function(global) {\n",
       "  function now() {\n",
       "    return new Date();\n",
       "  }\n",
       "\n",
       "  var force = true;\n",
       "\n",
       "  if (typeof (window._bokeh_onload_callbacks) === \"undefined\" || force === true) {\n",
       "    window._bokeh_onload_callbacks = [];\n",
       "    window._bokeh_is_loading = undefined;\n",
       "  }\n",
       "\n",
       "\n",
       "  \n",
       "  if (typeof (window._bokeh_timeout) === \"undefined\" || force === true) {\n",
       "    window._bokeh_timeout = Date.now() + 5000;\n",
       "    window._bokeh_failed_load = false;\n",
       "  }\n",
       "\n",
       "  var NB_LOAD_WARNING = {'data': {'text/html':\n",
       "     \"<div style='background-color: #fdd'>\\n\"+\n",
       "     \"<p>\\n\"+\n",
       "     \"BokehJS does not appear to have successfully loaded. If loading BokehJS from CDN, this \\n\"+\n",
       "     \"may be due to a slow or bad network connection. Possible fixes:\\n\"+\n",
       "     \"</p>\\n\"+\n",
       "     \"<ul>\\n\"+\n",
       "     \"<li>re-rerun `output_notebook()` to attempt to load from CDN again, or</li>\\n\"+\n",
       "     \"<li>use INLINE resources instead, as so:</li>\\n\"+\n",
       "     \"</ul>\\n\"+\n",
       "     \"<code>\\n\"+\n",
       "     \"from bokeh.resources import INLINE\\n\"+\n",
       "     \"output_notebook(resources=INLINE)\\n\"+\n",
       "     \"</code>\\n\"+\n",
       "     \"</div>\"}};\n",
       "\n",
       "  function display_loaded() {\n",
       "    if (window.Bokeh !== undefined) {\n",
       "      var el = document.getElementById(\"d7dab634-73b4-4493-8efe-b5b15e1da7b9\");\n",
       "      el.textContent = \"BokehJS \" + Bokeh.version + \" successfully loaded.\";\n",
       "    } else if (Date.now() < window._bokeh_timeout) {\n",
       "      setTimeout(display_loaded, 100)\n",
       "    }\n",
       "  }\n",
       "\n",
       "  function run_callbacks() {\n",
       "    window._bokeh_onload_callbacks.forEach(function(callback) { callback() });\n",
       "    delete window._bokeh_onload_callbacks\n",
       "    console.info(\"Bokeh: all callbacks have finished\");\n",
       "  }\n",
       "\n",
       "  function load_libs(js_urls, callback) {\n",
       "    window._bokeh_onload_callbacks.push(callback);\n",
       "    if (window._bokeh_is_loading > 0) {\n",
       "      console.log(\"Bokeh: BokehJS is being loaded, scheduling callback at\", now());\n",
       "      return null;\n",
       "    }\n",
       "    if (js_urls == null || js_urls.length === 0) {\n",
       "      run_callbacks();\n",
       "      return null;\n",
       "    }\n",
       "    console.log(\"Bokeh: BokehJS not loaded, scheduling load and callback at\", now());\n",
       "    window._bokeh_is_loading = js_urls.length;\n",
       "    for (var i = 0; i < js_urls.length; i++) {\n",
       "      var url = js_urls[i];\n",
       "      var s = document.createElement('script');\n",
       "      s.src = url;\n",
       "      s.async = false;\n",
       "      s.onreadystatechange = s.onload = function() {\n",
       "        window._bokeh_is_loading--;\n",
       "        if (window._bokeh_is_loading === 0) {\n",
       "          console.log(\"Bokeh: all BokehJS libraries loaded\");\n",
       "          run_callbacks()\n",
       "        }\n",
       "      };\n",
       "      s.onerror = function() {\n",
       "        console.warn(\"failed to load library \" + url);\n",
       "      };\n",
       "      console.log(\"Bokeh: injecting script tag for BokehJS library: \", url);\n",
       "      document.getElementsByTagName(\"head\")[0].appendChild(s);\n",
       "    }\n",
       "  };var element = document.getElementById(\"d7dab634-73b4-4493-8efe-b5b15e1da7b9\");\n",
       "  if (element == null) {\n",
       "    console.log(\"Bokeh: ERROR: autoload.js configured with elementid 'd7dab634-73b4-4493-8efe-b5b15e1da7b9' but no matching script tag was found. \")\n",
       "    return false;\n",
       "  }\n",
       "\n",
       "  var js_urls = [\"https://cdn.pydata.org/bokeh/release/bokeh-0.12.5.min.js\", \"https://cdn.pydata.org/bokeh/release/bokeh-widgets-0.12.5.min.js\"];\n",
       "\n",
       "  var inline_js = [\n",
       "    function(Bokeh) {\n",
       "      Bokeh.set_log_level(\"info\");\n",
       "    },\n",
       "    \n",
       "    function(Bokeh) {\n",
       "      \n",
       "    },\n",
       "    \n",
       "    function(Bokeh) {\n",
       "      \n",
       "      document.getElementById(\"d7dab634-73b4-4493-8efe-b5b15e1da7b9\").textContent = \"BokehJS is loading...\";\n",
       "    },\n",
       "    function(Bokeh) {\n",
       "      console.log(\"Bokeh: injecting CSS: https://cdn.pydata.org/bokeh/release/bokeh-0.12.5.min.css\");\n",
       "      Bokeh.embed.inject_css(\"https://cdn.pydata.org/bokeh/release/bokeh-0.12.5.min.css\");\n",
       "      console.log(\"Bokeh: injecting CSS: https://cdn.pydata.org/bokeh/release/bokeh-widgets-0.12.5.min.css\");\n",
       "      Bokeh.embed.inject_css(\"https://cdn.pydata.org/bokeh/release/bokeh-widgets-0.12.5.min.css\");\n",
       "    }\n",
       "  ];\n",
       "\n",
       "  function run_inline_js() {\n",
       "    \n",
       "    if ((window.Bokeh !== undefined) || (force === true)) {\n",
       "      for (var i = 0; i < inline_js.length; i++) {\n",
       "        inline_js[i](window.Bokeh);\n",
       "      }if (force === true) {\n",
       "        display_loaded();\n",
       "      }} else if (Date.now() < window._bokeh_timeout) {\n",
       "      setTimeout(run_inline_js, 100);\n",
       "    } else if (!window._bokeh_failed_load) {\n",
       "      console.log(\"Bokeh: BokehJS failed to load within specified timeout.\");\n",
       "      window._bokeh_failed_load = true;\n",
       "    } else if (force !== true) {\n",
       "      var cell = $(document.getElementById(\"d7dab634-73b4-4493-8efe-b5b15e1da7b9\")).parents('.cell').data().cell;\n",
       "      cell.output_area.append_execute_result(NB_LOAD_WARNING)\n",
       "    }\n",
       "\n",
       "  }\n",
       "\n",
       "  if (window._bokeh_is_loading === 0) {\n",
       "    console.log(\"Bokeh: BokehJS loaded, going straight to plotting\");\n",
       "    run_inline_js();\n",
       "  } else {\n",
       "    load_libs(js_urls, function() {\n",
       "      console.log(\"Bokeh: BokehJS plotting callback run at\", now());\n",
       "      run_inline_js();\n",
       "    });\n",
       "  }\n",
       "}(this));"
      ]
     },
     "metadata": {},
     "output_type": "display_data"
    }
   ],
   "source": [
    "from bokeh.charts import Line, show, output_notebook\n",
    "\n",
    "output_notebook()"
   ]
  },
  {
   "cell_type": "code",
   "execution_count": 7,
   "metadata": {
    "collapsed": true
   },
   "outputs": [],
   "source": [
    "f1s_test_social = json.load(open('../_1_one_user_learn_neighbours/f1s_testv_svc.json'))\n",
    "f1s_test_social = {u: f for u, f in f1s_test_social.items() if u in nlp_uids}"
   ]
  },
  {
   "cell_type": "code",
   "execution_count": 8,
   "metadata": {
    "collapsed": true
   },
   "outputs": [],
   "source": [
    "sorted_uids = [u for u, f in sorted(f1s_test_social.items(), key=lambda x:x[1])]\n",
    "indices = range(len(sorted_uids))"
   ]
  },
  {
   "cell_type": "code",
   "execution_count": 9,
   "metadata": {
    "collapsed": true
   },
   "outputs": [],
   "source": [
    "f1s_10 = np.array([f1s_combined['10']['test'][uid_pos[sorted_uids[i]]] for i in indices])\n",
    "f1s_20 = np.array([f1s_combined['20']['test'][uid_pos[sorted_uids[i]]] for i in indices])\n",
    "f1s_s = np.array([f1s_test_social[sorted_uids[i]] for i in indices])"
   ]
  },
  {
   "cell_type": "code",
   "execution_count": 10,
   "metadata": {},
   "outputs": [
    {
     "data": {
      "text/html": [
       "\n",
       "\n",
       "    <div class=\"bk-root\">\n",
       "        <div class=\"bk-plotdiv\" id=\"4e0739d3-9a7e-48da-9695-404e9a66c4ab\"></div>\n",
       "    </div>\n",
       "<script type=\"text/javascript\">\n",
       "  \n",
       "  (function(global) {\n",
       "    function now() {\n",
       "      return new Date();\n",
       "    }\n",
       "  \n",
       "    var force = false;\n",
       "  \n",
       "    if (typeof (window._bokeh_onload_callbacks) === \"undefined\" || force === true) {\n",
       "      window._bokeh_onload_callbacks = [];\n",
       "      window._bokeh_is_loading = undefined;\n",
       "    }\n",
       "  \n",
       "  \n",
       "    \n",
       "    if (typeof (window._bokeh_timeout) === \"undefined\" || force === true) {\n",
       "      window._bokeh_timeout = Date.now() + 0;\n",
       "      window._bokeh_failed_load = false;\n",
       "    }\n",
       "  \n",
       "    var NB_LOAD_WARNING = {'data': {'text/html':\n",
       "       \"<div style='background-color: #fdd'>\\n\"+\n",
       "       \"<p>\\n\"+\n",
       "       \"BokehJS does not appear to have successfully loaded. If loading BokehJS from CDN, this \\n\"+\n",
       "       \"may be due to a slow or bad network connection. Possible fixes:\\n\"+\n",
       "       \"</p>\\n\"+\n",
       "       \"<ul>\\n\"+\n",
       "       \"<li>re-rerun `output_notebook()` to attempt to load from CDN again, or</li>\\n\"+\n",
       "       \"<li>use INLINE resources instead, as so:</li>\\n\"+\n",
       "       \"</ul>\\n\"+\n",
       "       \"<code>\\n\"+\n",
       "       \"from bokeh.resources import INLINE\\n\"+\n",
       "       \"output_notebook(resources=INLINE)\\n\"+\n",
       "       \"</code>\\n\"+\n",
       "       \"</div>\"}};\n",
       "  \n",
       "    function display_loaded() {\n",
       "      if (window.Bokeh !== undefined) {\n",
       "        var el = document.getElementById(\"4e0739d3-9a7e-48da-9695-404e9a66c4ab\");\n",
       "        el.textContent = \"BokehJS \" + Bokeh.version + \" successfully loaded.\";\n",
       "      } else if (Date.now() < window._bokeh_timeout) {\n",
       "        setTimeout(display_loaded, 100)\n",
       "      }\n",
       "    }\n",
       "  \n",
       "    function run_callbacks() {\n",
       "      window._bokeh_onload_callbacks.forEach(function(callback) { callback() });\n",
       "      delete window._bokeh_onload_callbacks\n",
       "      console.info(\"Bokeh: all callbacks have finished\");\n",
       "    }\n",
       "  \n",
       "    function load_libs(js_urls, callback) {\n",
       "      window._bokeh_onload_callbacks.push(callback);\n",
       "      if (window._bokeh_is_loading > 0) {\n",
       "        console.log(\"Bokeh: BokehJS is being loaded, scheduling callback at\", now());\n",
       "        return null;\n",
       "      }\n",
       "      if (js_urls == null || js_urls.length === 0) {\n",
       "        run_callbacks();\n",
       "        return null;\n",
       "      }\n",
       "      console.log(\"Bokeh: BokehJS not loaded, scheduling load and callback at\", now());\n",
       "      window._bokeh_is_loading = js_urls.length;\n",
       "      for (var i = 0; i < js_urls.length; i++) {\n",
       "        var url = js_urls[i];\n",
       "        var s = document.createElement('script');\n",
       "        s.src = url;\n",
       "        s.async = false;\n",
       "        s.onreadystatechange = s.onload = function() {\n",
       "          window._bokeh_is_loading--;\n",
       "          if (window._bokeh_is_loading === 0) {\n",
       "            console.log(\"Bokeh: all BokehJS libraries loaded\");\n",
       "            run_callbacks()\n",
       "          }\n",
       "        };\n",
       "        s.onerror = function() {\n",
       "          console.warn(\"failed to load library \" + url);\n",
       "        };\n",
       "        console.log(\"Bokeh: injecting script tag for BokehJS library: \", url);\n",
       "        document.getElementsByTagName(\"head\")[0].appendChild(s);\n",
       "      }\n",
       "    };var element = document.getElementById(\"4e0739d3-9a7e-48da-9695-404e9a66c4ab\");\n",
       "    if (element == null) {\n",
       "      console.log(\"Bokeh: ERROR: autoload.js configured with elementid '4e0739d3-9a7e-48da-9695-404e9a66c4ab' but no matching script tag was found. \")\n",
       "      return false;\n",
       "    }\n",
       "  \n",
       "    var js_urls = [];\n",
       "  \n",
       "    var inline_js = [\n",
       "      function(Bokeh) {\n",
       "        (function() {\n",
       "          var fn = function() {\n",
       "            var docs_json = {\"82e9aa5b-9b9f-4424-baf1-58b5b2a19b50\":{\"roots\":{\"references\":[{\"attributes\":{\"line_color\":{\"value\":\"#f22c40\"},\"line_width\":{\"value\":2},\"x\":{\"field\":\"x_values\"},\"y\":{\"field\":\"y_values\"}},\"id\":\"ba96c453-cb13-4733-bc60-a55050070181\",\"type\":\"Line\"},{\"attributes\":{\"label\":{\"value\":\"social+lda20\"},\"renderers\":[{\"id\":\"126e37dc-f2e0-43fb-bef4-6bd86df14449\",\"type\":\"GlyphRenderer\"}]},\"id\":\"b118956e-fed1-4687-84ec-461578787b6f\",\"type\":\"LegendItem\"},{\"attributes\":{\"axis_label\":\"puntaje f1 sobre datos de evaluaci\\u00f3n\",\"formatter\":{\"id\":\"f375faf7-7eeb-4ae4-9e88-3cc35fe50c0c\",\"type\":\"BasicTickFormatter\"},\"plot\":{\"id\":\"decd4434-d3d9-41bc-85a1-05032ff10342\",\"subtype\":\"Chart\",\"type\":\"Plot\"},\"ticker\":{\"id\":\"41532e5a-ecf7-4f0f-851e-9ea276c49635\",\"type\":\"BasicTicker\"}},\"id\":\"f688caec-7f42-4cc3-b19b-83bef9ee211c\",\"type\":\"LinearAxis\"},{\"attributes\":{\"dimension\":1,\"plot\":{\"id\":\"decd4434-d3d9-41bc-85a1-05032ff10342\",\"subtype\":\"Chart\",\"type\":\"Plot\"},\"ticker\":{\"id\":\"41532e5a-ecf7-4f0f-851e-9ea276c49635\",\"type\":\"BasicTicker\"}},\"id\":\"5757e6b6-4fa6-49c0-801c-bee8da366a2e\",\"type\":\"Grid\"},{\"attributes\":{\"plot\":{\"id\":\"decd4434-d3d9-41bc-85a1-05032ff10342\",\"subtype\":\"Chart\",\"type\":\"Plot\"}},\"id\":\"24453a0b-957b-4226-a690-0a34f16f138b\",\"type\":\"WheelZoomTool\"},{\"attributes\":{\"plot\":{\"id\":\"decd4434-d3d9-41bc-85a1-05032ff10342\",\"subtype\":\"Chart\",\"type\":\"Plot\"},\"ticker\":{\"id\":\"7c26fc60-ac0b-4b4d-b0c3-6faaf3aa28bc\",\"type\":\"BasicTicker\"}},\"id\":\"7ce52549-8fce-4815-9fc7-45d0dcd4bfc2\",\"type\":\"Grid\"},{\"attributes\":{\"callback\":null,\"column_names\":[\"x_values\",\"y_values\"],\"data\":{\"chart_index\":[{\"series\":\"social+lda20\"},{\"series\":\"social+lda20\"},{\"series\":\"social+lda20\"},{\"series\":\"social+lda20\"},{\"series\":\"social+lda20\"},{\"series\":\"social+lda20\"},{\"series\":\"social+lda20\"},{\"series\":\"social+lda20\"},{\"series\":\"social+lda20\"},{\"series\":\"social+lda20\"},{\"series\":\"social+lda20\"},{\"series\":\"social+lda20\"},{\"series\":\"social+lda20\"},{\"series\":\"social+lda20\"},{\"series\":\"social+lda20\"},{\"series\":\"social+lda20\"},{\"series\":\"social+lda20\"},{\"series\":\"social+lda20\"},{\"series\":\"social+lda20\"},{\"series\":\"social+lda20\"},{\"series\":\"social+lda20\"},{\"series\":\"social+lda20\"},{\"series\":\"social+lda20\"},{\"series\":\"social+lda20\"},{\"series\":\"social+lda20\"},{\"series\":\"social+lda20\"},{\"series\":\"social+lda20\"},{\"series\":\"social+lda20\"},{\"series\":\"social+lda20\"},{\"series\":\"social+lda20\"},{\"series\":\"social+lda20\"},{\"series\":\"social+lda20\"},{\"series\":\"social+lda20\"}],\"series\":[\"social+lda20\",\"social+lda20\",\"social+lda20\",\"social+lda20\",\"social+lda20\",\"social+lda20\",\"social+lda20\",\"social+lda20\",\"social+lda20\",\"social+lda20\",\"social+lda20\",\"social+lda20\",\"social+lda20\",\"social+lda20\",\"social+lda20\",\"social+lda20\",\"social+lda20\",\"social+lda20\",\"social+lda20\",\"social+lda20\",\"social+lda20\",\"social+lda20\",\"social+lda20\",\"social+lda20\",\"social+lda20\",\"social+lda20\",\"social+lda20\",\"social+lda20\",\"social+lda20\",\"social+lda20\",\"social+lda20\",\"social+lda20\",\"social+lda20\"],\"x_values\":[0,1,2,3,4,5,6,7,8,9,10,11,12,13,14,15,16,17,18,19,20,21,22,23,24,25,26,27,28,29,30,31,32],\"y_values\":{\"__ndarray__\":\"FDuxEzux0z90wG6PtQzdP9aHxvrQWN8/Xpso2bWJ4j8WFRUVFRXlP3CXejJ+u+Q/lpaWlpaW5j9FRERERETkPxVFURRFUeQ/1Hc26jsb5T9H3BF3xB3hP6uqqqqqquQ/y/CNKDDp5D9WVVVVVVXlP471obE+NOY/VVVVVVVV5T+bm5ubm5vbPxov3SQGgeU/OI7jOI7j6D+IV5F4FYnnP4r4BFLJeek/85QgTwny5D8BAAAAAADpP8L5GJyPwek/nspSHDL26j9ZR5v3KS7pPzN+u9ST8es/XL7lW77l6z8e1EEd1EHtP+51r3vd6+4/XMqlXMql7D++4iu+4ivuP4pLhmAdbe4/\",\"dtype\":\"float64\",\"shape\":[33]}}},\"id\":\"05c13e61-c876-4aa3-bafb-8f67d115da03\",\"type\":\"ColumnDataSource\"},{\"attributes\":{\"label\":{\"value\":\"social+lda10\"},\"renderers\":[{\"id\":\"218c0d8e-f9d9-4881-9c90-b21f13e3fd79\",\"type\":\"GlyphRenderer\"}]},\"id\":\"c4899051-1dbd-4efd-9c9f-9fb6cea9d5d4\",\"type\":\"LegendItem\"},{\"attributes\":{\"plot\":{\"id\":\"decd4434-d3d9-41bc-85a1-05032ff10342\",\"subtype\":\"Chart\",\"type\":\"Plot\"}},\"id\":\"4ffcf769-aaa9-4f46-b603-72ff05f1ead2\",\"type\":\"HelpTool\"},{\"attributes\":{\"below\":[{\"id\":\"3f960064-0eae-47c3-8f6e-4f951373068c\",\"type\":\"LinearAxis\"}],\"css_classes\":null,\"left\":[{\"id\":\"f688caec-7f42-4cc3-b19b-83bef9ee211c\",\"type\":\"LinearAxis\"}],\"renderers\":[{\"id\":\"53caedd4-b4a4-430b-b682-8889470eaf8c\",\"type\":\"BoxAnnotation\"},{\"id\":\"3d67d4d2-3515-4880-80d1-e413c345ecaf\",\"type\":\"GlyphRenderer\"},{\"id\":\"218c0d8e-f9d9-4881-9c90-b21f13e3fd79\",\"type\":\"GlyphRenderer\"},{\"id\":\"126e37dc-f2e0-43fb-bef4-6bd86df14449\",\"type\":\"GlyphRenderer\"},{\"id\":\"6574cf5a-b97a-4ac2-915c-530b3da4b6f5\",\"type\":\"Legend\"},{\"id\":\"3f960064-0eae-47c3-8f6e-4f951373068c\",\"type\":\"LinearAxis\"},{\"id\":\"f688caec-7f42-4cc3-b19b-83bef9ee211c\",\"type\":\"LinearAxis\"},{\"id\":\"7ce52549-8fce-4815-9fc7-45d0dcd4bfc2\",\"type\":\"Grid\"},{\"id\":\"5757e6b6-4fa6-49c0-801c-bee8da366a2e\",\"type\":\"Grid\"}],\"title\":{\"id\":\"c0e37498-d549-415e-971a-acfc120f2f7d\",\"type\":\"Title\"},\"tool_events\":{\"id\":\"67f55e3b-bd48-4281-bc29-7632d74cb1cc\",\"type\":\"ToolEvents\"},\"toolbar\":{\"id\":\"55a2257e-a17b-4925-af13-a4d53e7bbd5f\",\"type\":\"Toolbar\"},\"x_mapper_type\":\"auto\",\"x_range\":{\"id\":\"a9e36e3a-16f3-4e4f-8b9a-2ec5846cb663\",\"type\":\"Range1d\"},\"y_mapper_type\":\"auto\",\"y_range\":{\"id\":\"dd3a1a27-fdf1-4187-9255-d10e8d7b78e3\",\"type\":\"Range1d\"}},\"id\":\"decd4434-d3d9-41bc-85a1-05032ff10342\",\"subtype\":\"Chart\",\"type\":\"Plot\"},{\"attributes\":{\"plot\":{\"id\":\"decd4434-d3d9-41bc-85a1-05032ff10342\",\"subtype\":\"Chart\",\"type\":\"Plot\"}},\"id\":\"e21aac77-a566-4b9a-b616-c3f09adba2fd\",\"type\":\"ResetTool\"},{\"attributes\":{\"label\":{\"value\":\"social\"},\"renderers\":[{\"id\":\"3d67d4d2-3515-4880-80d1-e413c345ecaf\",\"type\":\"GlyphRenderer\"}]},\"id\":\"a7a0a528-a764-407f-bd84-568dce2085c1\",\"type\":\"LegendItem\"},{\"attributes\":{\"active_drag\":\"auto\",\"active_scroll\":\"auto\",\"active_tap\":\"auto\",\"tools\":[{\"id\":\"6ae32991-e279-4bed-bd25-fee300713183\",\"type\":\"PanTool\"},{\"id\":\"24453a0b-957b-4226-a690-0a34f16f138b\",\"type\":\"WheelZoomTool\"},{\"id\":\"fecce041-56ce-430b-9079-4cde05cd97a5\",\"type\":\"BoxZoomTool\"},{\"id\":\"74c2d6a1-db9e-465f-8706-514d324a1ac3\",\"type\":\"SaveTool\"},{\"id\":\"e21aac77-a566-4b9a-b616-c3f09adba2fd\",\"type\":\"ResetTool\"},{\"id\":\"4ffcf769-aaa9-4f46-b603-72ff05f1ead2\",\"type\":\"HelpTool\"}]},\"id\":\"55a2257e-a17b-4925-af13-a4d53e7bbd5f\",\"type\":\"Toolbar\"},{\"attributes\":{\"callback\":null,\"end\":35.2,\"start\":-3.2},\"id\":\"a9e36e3a-16f3-4e4f-8b9a-2ec5846cb663\",\"type\":\"Range1d\"},{\"attributes\":{},\"id\":\"fef06368-164a-4c7c-8e8b-189abd5c9f8f\",\"type\":\"BasicTickFormatter\"},{\"attributes\":{\"plot\":{\"id\":\"decd4434-d3d9-41bc-85a1-05032ff10342\",\"subtype\":\"Chart\",\"type\":\"Plot\"}},\"id\":\"6ae32991-e279-4bed-bd25-fee300713183\",\"type\":\"PanTool\"},{\"attributes\":{\"callback\":null,\"end\":1.0511562998405104,\"start\":0.2267543859649123},\"id\":\"dd3a1a27-fdf1-4187-9255-d10e8d7b78e3\",\"type\":\"Range1d\"},{\"attributes\":{},\"id\":\"f375faf7-7eeb-4ae4-9e88-3cc35fe50c0c\",\"type\":\"BasicTickFormatter\"},{\"attributes\":{\"bottom_units\":\"screen\",\"fill_alpha\":{\"value\":0.5},\"fill_color\":{\"value\":\"lightgrey\"},\"left_units\":\"screen\",\"level\":\"overlay\",\"line_alpha\":{\"value\":1.0},\"line_color\":{\"value\":\"black\"},\"line_dash\":[4,4],\"line_width\":{\"value\":2},\"plot\":null,\"render_mode\":\"css\",\"right_units\":\"screen\",\"top_units\":\"screen\"},\"id\":\"53caedd4-b4a4-430b-b682-8889470eaf8c\",\"type\":\"BoxAnnotation\"},{\"attributes\":{\"callback\":null,\"column_names\":[\"x_values\",\"y_values\"],\"data\":{\"chart_index\":[{\"series\":\"social+lda10\"},{\"series\":\"social+lda10\"},{\"series\":\"social+lda10\"},{\"series\":\"social+lda10\"},{\"series\":\"social+lda10\"},{\"series\":\"social+lda10\"},{\"series\":\"social+lda10\"},{\"series\":\"social+lda10\"},{\"series\":\"social+lda10\"},{\"series\":\"social+lda10\"},{\"series\":\"social+lda10\"},{\"series\":\"social+lda10\"},{\"series\":\"social+lda10\"},{\"series\":\"social+lda10\"},{\"series\":\"social+lda10\"},{\"series\":\"social+lda10\"},{\"series\":\"social+lda10\"},{\"series\":\"social+lda10\"},{\"series\":\"social+lda10\"},{\"series\":\"social+lda10\"},{\"series\":\"social+lda10\"},{\"series\":\"social+lda10\"},{\"series\":\"social+lda10\"},{\"series\":\"social+lda10\"},{\"series\":\"social+lda10\"},{\"series\":\"social+lda10\"},{\"series\":\"social+lda10\"},{\"series\":\"social+lda10\"},{\"series\":\"social+lda10\"},{\"series\":\"social+lda10\"},{\"series\":\"social+lda10\"},{\"series\":\"social+lda10\"},{\"series\":\"social+lda10\"}],\"series\":[\"social+lda10\",\"social+lda10\",\"social+lda10\",\"social+lda10\",\"social+lda10\",\"social+lda10\",\"social+lda10\",\"social+lda10\",\"social+lda10\",\"social+lda10\",\"social+lda10\",\"social+lda10\",\"social+lda10\",\"social+lda10\",\"social+lda10\",\"social+lda10\",\"social+lda10\",\"social+lda10\",\"social+lda10\",\"social+lda10\",\"social+lda10\",\"social+lda10\",\"social+lda10\",\"social+lda10\",\"social+lda10\",\"social+lda10\",\"social+lda10\",\"social+lda10\",\"social+lda10\",\"social+lda10\",\"social+lda10\",\"social+lda10\",\"social+lda10\"],\"x_values\":[0,1,2,3,4,5,6,7,8,9,10,11,12,13,14,15,16,17,18,19,20,21,22,23,24,25,26,27,28,29,30,31,32],\"y_values\":{\"__ndarray__\":\"6aKLLrro0j9IWO5phOXePxzHcRzHcdw/ysDTrflh4T/9+PHjx4/fP9hQXkN5DeU/ZCELWchC5j8CqeS8LOLjP6Bydgu/GuM/VVVVVVVV5T+aNGnSpEnjP1nJSlaykuU/ZCELWchC5j85BS+n4OXkP0HDSd2Xx+Y/yWfdYIp85j+VNWVNWVPmP1ihM1ihM+g/Mp3FdBbT6T+EJwXJn1fpP9Qd7LfaGOo/t23btm3b5j8YhmEYhmHoP0ZT59cecuk/PLETO7ET6z8yncV0FtPpP+Q4juM4jus/XL7lW77l6z8TIdWyDrTtPyCT4gUyKe4/X/EVX/EV7z8uLS0tLS3tP1gEDSd1X+4/\",\"dtype\":\"float64\",\"shape\":[33]}}},\"id\":\"1517ffcd-6d28-454a-9466-bdb1ca99f292\",\"type\":\"ColumnDataSource\"},{\"attributes\":{\"callback\":null,\"column_names\":[\"x_values\",\"y_values\"],\"data\":{\"chart_index\":[{\"series\":\"social\"},{\"series\":\"social\"},{\"series\":\"social\"},{\"series\":\"social\"},{\"series\":\"social\"},{\"series\":\"social\"},{\"series\":\"social\"},{\"series\":\"social\"},{\"series\":\"social\"},{\"series\":\"social\"},{\"series\":\"social\"},{\"series\":\"social\"},{\"series\":\"social\"},{\"series\":\"social\"},{\"series\":\"social\"},{\"series\":\"social\"},{\"series\":\"social\"},{\"series\":\"social\"},{\"series\":\"social\"},{\"series\":\"social\"},{\"series\":\"social\"},{\"series\":\"social\"},{\"series\":\"social\"},{\"series\":\"social\"},{\"series\":\"social\"},{\"series\":\"social\"},{\"series\":\"social\"},{\"series\":\"social\"},{\"series\":\"social\"},{\"series\":\"social\"},{\"series\":\"social\"},{\"series\":\"social\"},{\"series\":\"social\"}],\"series\":[\"social\",\"social\",\"social\",\"social\",\"social\",\"social\",\"social\",\"social\",\"social\",\"social\",\"social\",\"social\",\"social\",\"social\",\"social\",\"social\",\"social\",\"social\",\"social\",\"social\",\"social\",\"social\",\"social\",\"social\",\"social\",\"social\",\"social\",\"social\",\"social\",\"social\",\"social\",\"social\",\"social\"],\"x_values\":[0,1,2,3,4,5,6,7,8,9,10,11,12,13,14,15,16,17,18,19,20,21,22,23,24,25,26,27,28,29,30,31,32],\"y_values\":{\"__ndarray__\":\"27Zt27Zt2z/3rgO6MU/fP1AHdVAHdeA/pSN7BqLS4T/poosuuujiP15DeQ3lNeQ/RURERERE5D9KzssiPoHkP18eWxE0nOQ/VVVVVVVV5T+lpaWlpaXlP6J2JWpXouY/RRdddNFF5z9GF1100UXnP0S8JCCciOc/8NS1HNzs5z+RhSxkIQvpP0iSJEmSJOk/qBGWexph6T+amZmZmZnpP4qd2Imd2Ok/ep7neZ7n6T/8FJcMwTrqPzqxEzuxE+s/xXQW01lM6z/btm3btm3rPx988MEHH+w/fcu3fMu37D+E/VYbQ9PtP4suuuiii+4/X/EVX/EV7z8q8lk3mCLvPwT3EdxHcO8/\",\"dtype\":\"float64\",\"shape\":[33]}}},\"id\":\"3960a2cf-aa42-456d-a53b-82be086562f2\",\"type\":\"ColumnDataSource\"},{\"attributes\":{\"data_source\":{\"id\":\"1517ffcd-6d28-454a-9466-bdb1ca99f292\",\"type\":\"ColumnDataSource\"},\"glyph\":{\"id\":\"2d46457a-58f8-4498-be11-dca088c43844\",\"type\":\"Line\"},\"hover_glyph\":null,\"muted_glyph\":null},\"id\":\"218c0d8e-f9d9-4881-9c90-b21f13e3fd79\",\"type\":\"GlyphRenderer\"},{\"attributes\":{},\"id\":\"41532e5a-ecf7-4f0f-851e-9ea276c49635\",\"type\":\"BasicTicker\"},{\"attributes\":{\"items\":[{\"id\":\"b118956e-fed1-4687-84ec-461578787b6f\",\"type\":\"LegendItem\"},{\"id\":\"c4899051-1dbd-4efd-9c9f-9fb6cea9d5d4\",\"type\":\"LegendItem\"},{\"id\":\"a7a0a528-a764-407f-bd84-568dce2085c1\",\"type\":\"LegendItem\"}],\"location\":\"top_left\",\"plot\":{\"id\":\"decd4434-d3d9-41bc-85a1-05032ff10342\",\"subtype\":\"Chart\",\"type\":\"Plot\"}},\"id\":\"6574cf5a-b97a-4ac2-915c-530b3da4b6f5\",\"type\":\"Legend\"},{\"attributes\":{\"data_source\":{\"id\":\"05c13e61-c876-4aa3-bafb-8f67d115da03\",\"type\":\"ColumnDataSource\"},\"glyph\":{\"id\":\"196e6baa-fae6-4158-8a92-7cd1a1d55ccb\",\"type\":\"Line\"},\"hover_glyph\":null,\"muted_glyph\":null},\"id\":\"126e37dc-f2e0-43fb-bef4-6bd86df14449\",\"type\":\"GlyphRenderer\"},{\"attributes\":{},\"id\":\"7c26fc60-ac0b-4b4d-b0c3-6faaf3aa28bc\",\"type\":\"BasicTicker\"},{\"attributes\":{\"plot\":null,\"text\":null},\"id\":\"c0e37498-d549-415e-971a-acfc120f2f7d\",\"type\":\"Title\"},{\"attributes\":{\"line_color\":{\"value\":\"#407ee7\"},\"line_dash\":[2,4],\"line_width\":{\"value\":2},\"x\":{\"field\":\"x_values\"},\"y\":{\"field\":\"y_values\"}},\"id\":\"196e6baa-fae6-4158-8a92-7cd1a1d55ccb\",\"type\":\"Line\"},{\"attributes\":{\"data_source\":{\"id\":\"3960a2cf-aa42-456d-a53b-82be086562f2\",\"type\":\"ColumnDataSource\"},\"glyph\":{\"id\":\"ba96c453-cb13-4733-bc60-a55050070181\",\"type\":\"Line\"},\"hover_glyph\":null,\"muted_glyph\":null},\"id\":\"3d67d4d2-3515-4880-80d1-e413c345ecaf\",\"type\":\"GlyphRenderer\"},{\"attributes\":{\"line_color\":{\"value\":\"#5ab738\"},\"line_dash\":[6],\"line_width\":{\"value\":2},\"x\":{\"field\":\"x_values\"},\"y\":{\"field\":\"y_values\"}},\"id\":\"2d46457a-58f8-4498-be11-dca088c43844\",\"type\":\"Line\"},{\"attributes\":{\"overlay\":{\"id\":\"53caedd4-b4a4-430b-b682-8889470eaf8c\",\"type\":\"BoxAnnotation\"},\"plot\":{\"id\":\"decd4434-d3d9-41bc-85a1-05032ff10342\",\"subtype\":\"Chart\",\"type\":\"Plot\"}},\"id\":\"fecce041-56ce-430b-9079-4cde05cd97a5\",\"type\":\"BoxZoomTool\"},{\"attributes\":{\"plot\":{\"id\":\"decd4434-d3d9-41bc-85a1-05032ff10342\",\"subtype\":\"Chart\",\"type\":\"Plot\"}},\"id\":\"74c2d6a1-db9e-465f-8706-514d324a1ac3\",\"type\":\"SaveTool\"},{\"attributes\":{\"axis_label\":\"usuarios (ordenados por f1 del modelo social en datos de evaluaci\\u00f3n)\",\"formatter\":{\"id\":\"fef06368-164a-4c7c-8e8b-189abd5c9f8f\",\"type\":\"BasicTickFormatter\"},\"plot\":{\"id\":\"decd4434-d3d9-41bc-85a1-05032ff10342\",\"subtype\":\"Chart\",\"type\":\"Plot\"},\"ticker\":{\"id\":\"7c26fc60-ac0b-4b4d-b0c3-6faaf3aa28bc\",\"type\":\"BasicTicker\"}},\"id\":\"3f960064-0eae-47c3-8f6e-4f951373068c\",\"type\":\"LinearAxis\"},{\"attributes\":{},\"id\":\"67f55e3b-bd48-4281-bc29-7632d74cb1cc\",\"type\":\"ToolEvents\"}],\"root_ids\":[\"decd4434-d3d9-41bc-85a1-05032ff10342\"]},\"title\":\"Bokeh Application\",\"version\":\"0.12.5\"}};\n",
       "            var render_items = [{\"docid\":\"82e9aa5b-9b9f-4424-baf1-58b5b2a19b50\",\"elementid\":\"4e0739d3-9a7e-48da-9695-404e9a66c4ab\",\"modelid\":\"decd4434-d3d9-41bc-85a1-05032ff10342\"}];\n",
       "            \n",
       "            Bokeh.embed.embed_items(docs_json, render_items);\n",
       "          };\n",
       "          if (document.readyState != \"loading\") fn();\n",
       "          else document.addEventListener(\"DOMContentLoaded\", fn);\n",
       "        })();\n",
       "      },\n",
       "      function(Bokeh) {\n",
       "      }\n",
       "    ];\n",
       "  \n",
       "    function run_inline_js() {\n",
       "      \n",
       "      if ((window.Bokeh !== undefined) || (force === true)) {\n",
       "        for (var i = 0; i < inline_js.length; i++) {\n",
       "          inline_js[i](window.Bokeh);\n",
       "        }if (force === true) {\n",
       "          display_loaded();\n",
       "        }} else if (Date.now() < window._bokeh_timeout) {\n",
       "        setTimeout(run_inline_js, 100);\n",
       "      } else if (!window._bokeh_failed_load) {\n",
       "        console.log(\"Bokeh: BokehJS failed to load within specified timeout.\");\n",
       "        window._bokeh_failed_load = true;\n",
       "      } else if (force !== true) {\n",
       "        var cell = $(document.getElementById(\"4e0739d3-9a7e-48da-9695-404e9a66c4ab\")).parents('.cell').data().cell;\n",
       "        cell.output_area.append_execute_result(NB_LOAD_WARNING)\n",
       "      }\n",
       "  \n",
       "    }\n",
       "  \n",
       "    if (window._bokeh_is_loading === 0) {\n",
       "      console.log(\"Bokeh: BokehJS loaded, going straight to plotting\");\n",
       "      run_inline_js();\n",
       "    } else {\n",
       "      load_libs(js_urls, function() {\n",
       "        console.log(\"Bokeh: BokehJS plotting callback run at\", now());\n",
       "        run_inline_js();\n",
       "      });\n",
       "    }\n",
       "  }(this));\n",
       "</script>"
      ]
     },
     "metadata": {},
     "output_type": "display_data"
    }
   ],
   "source": [
    "# build a dataset where multiple columns measure the same thing\n",
    "data = {\n",
    "    \"social\": f1s_s,\n",
    "    \"social+lda10\": f1s_10,\n",
    "    \"social+lda20\": f1s_20\n",
    "}\n",
    "\n",
    "labels = 'social social+lda10 social+lda20'.split()\n",
    "\n",
    "# create a line chart where each column of measures receives a unique color and dash style\n",
    "line = Line(data, y=labels,\n",
    "            dash=labels,\n",
    "            color=labels,\n",
    "            legend_sort_field = 'color',\n",
    "            legend_sort_direction = 'descending',\n",
    "            xlabel='usuarios (ordenados por f1 del modelo social en datos de evaluación)',\n",
    "            ylabel='puntaje f1 sobre datos de evaluación', legend=True)\n",
    "\n",
    "# output_file(\"line_single.html\", title=\"line_single.py example\")\n",
    "\n",
    "show(line)"
   ]
  },
  {
   "cell_type": "code",
   "execution_count": 11,
   "metadata": {},
   "outputs": [
    {
     "data": {
      "text/plain": [
       "4"
      ]
     },
     "execution_count": 11,
     "metadata": {},
     "output_type": "execute_result"
    }
   ],
   "source": [
    "sum(f1s_10 > f1s_s)"
   ]
  },
  {
   "cell_type": "code",
   "execution_count": 12,
   "metadata": {},
   "outputs": [
    {
     "data": {
      "text/plain": [
       "5"
      ]
     },
     "execution_count": 12,
     "metadata": {},
     "output_type": "execute_result"
    }
   ],
   "source": [
    "sum(f1s_20 > f1s_s)"
   ]
  },
  {
   "cell_type": "code",
   "execution_count": 13,
   "metadata": {},
   "outputs": [
    {
     "data": {
      "text/plain": [
       "(0.72020639395793973, 0.70696678542391889)"
      ]
     },
     "execution_count": 13,
     "metadata": {},
     "output_type": "execute_result"
    }
   ],
   "source": [
    "(np.mean(f1s_10), np.mean(f1s_20))"
   ]
  },
  {
   "cell_type": "code",
   "execution_count": 14,
   "metadata": {},
   "outputs": [
    {
     "name": "stdout",
     "output_type": "stream",
     "text": [
      "0.0275975996318\n",
      "0.0381733668966\n"
     ]
    }
   ],
   "source": [
    "for f in [f1s_10, f1s_20]:\n",
    "    better = f > f1s_s\n",
    "    mean_improvement = np.mean(f[better] - f1s_s[better])\n",
    "    print mean_improvement"
   ]
  },
  {
   "cell_type": "markdown",
   "metadata": {},
   "source": [
    "# Comparación en set de entrenamiento"
   ]
  },
  {
   "cell_type": "code",
   "execution_count": 15,
   "metadata": {},
   "outputs": [],
   "source": [
    "f1s_train_social = json.load(open('../_1_one_user_learn_neighbours/f1s_train_svc.json'))"
   ]
  },
  {
   "cell_type": "code",
   "execution_count": 16,
   "metadata": {
    "collapsed": true
   },
   "outputs": [],
   "source": [
    "f1s_train_social = {u: f for u, f in f1s_train_social.items() if u in nlp_uids}"
   ]
  },
  {
   "cell_type": "code",
   "execution_count": 17,
   "metadata": {
    "collapsed": true
   },
   "outputs": [],
   "source": [
    "sorted_uids = [u for u, f in sorted(f1s_train_social.items(), key=lambda x:x[1])]\n",
    "indices = range(len(sorted_uids))"
   ]
  },
  {
   "cell_type": "code",
   "execution_count": 18,
   "metadata": {
    "collapsed": true
   },
   "outputs": [],
   "source": [
    "f1s_10 = np.array([f1s_combined['10']['train'][uid_pos[sorted_uids[i]]] for i in indices])\n",
    "f1s_20 = np.array([f1s_combined['20']['train'][uid_pos[sorted_uids[i]]] for i in indices])\n",
    "f1s_s = np.array([f1s_train_social[sorted_uids[i]] for i in indices])"
   ]
  },
  {
   "cell_type": "code",
   "execution_count": 19,
   "metadata": {},
   "outputs": [
    {
     "data": {
      "text/html": [
       "\n",
       "\n",
       "    <div class=\"bk-root\">\n",
       "        <div class=\"bk-plotdiv\" id=\"68ad47e5-ad63-4659-9276-3533d8effe71\"></div>\n",
       "    </div>\n",
       "<script type=\"text/javascript\">\n",
       "  \n",
       "  (function(global) {\n",
       "    function now() {\n",
       "      return new Date();\n",
       "    }\n",
       "  \n",
       "    var force = false;\n",
       "  \n",
       "    if (typeof (window._bokeh_onload_callbacks) === \"undefined\" || force === true) {\n",
       "      window._bokeh_onload_callbacks = [];\n",
       "      window._bokeh_is_loading = undefined;\n",
       "    }\n",
       "  \n",
       "  \n",
       "    \n",
       "    if (typeof (window._bokeh_timeout) === \"undefined\" || force === true) {\n",
       "      window._bokeh_timeout = Date.now() + 0;\n",
       "      window._bokeh_failed_load = false;\n",
       "    }\n",
       "  \n",
       "    var NB_LOAD_WARNING = {'data': {'text/html':\n",
       "       \"<div style='background-color: #fdd'>\\n\"+\n",
       "       \"<p>\\n\"+\n",
       "       \"BokehJS does not appear to have successfully loaded. If loading BokehJS from CDN, this \\n\"+\n",
       "       \"may be due to a slow or bad network connection. Possible fixes:\\n\"+\n",
       "       \"</p>\\n\"+\n",
       "       \"<ul>\\n\"+\n",
       "       \"<li>re-rerun `output_notebook()` to attempt to load from CDN again, or</li>\\n\"+\n",
       "       \"<li>use INLINE resources instead, as so:</li>\\n\"+\n",
       "       \"</ul>\\n\"+\n",
       "       \"<code>\\n\"+\n",
       "       \"from bokeh.resources import INLINE\\n\"+\n",
       "       \"output_notebook(resources=INLINE)\\n\"+\n",
       "       \"</code>\\n\"+\n",
       "       \"</div>\"}};\n",
       "  \n",
       "    function display_loaded() {\n",
       "      if (window.Bokeh !== undefined) {\n",
       "        var el = document.getElementById(\"68ad47e5-ad63-4659-9276-3533d8effe71\");\n",
       "        el.textContent = \"BokehJS \" + Bokeh.version + \" successfully loaded.\";\n",
       "      } else if (Date.now() < window._bokeh_timeout) {\n",
       "        setTimeout(display_loaded, 100)\n",
       "      }\n",
       "    }\n",
       "  \n",
       "    function run_callbacks() {\n",
       "      window._bokeh_onload_callbacks.forEach(function(callback) { callback() });\n",
       "      delete window._bokeh_onload_callbacks\n",
       "      console.info(\"Bokeh: all callbacks have finished\");\n",
       "    }\n",
       "  \n",
       "    function load_libs(js_urls, callback) {\n",
       "      window._bokeh_onload_callbacks.push(callback);\n",
       "      if (window._bokeh_is_loading > 0) {\n",
       "        console.log(\"Bokeh: BokehJS is being loaded, scheduling callback at\", now());\n",
       "        return null;\n",
       "      }\n",
       "      if (js_urls == null || js_urls.length === 0) {\n",
       "        run_callbacks();\n",
       "        return null;\n",
       "      }\n",
       "      console.log(\"Bokeh: BokehJS not loaded, scheduling load and callback at\", now());\n",
       "      window._bokeh_is_loading = js_urls.length;\n",
       "      for (var i = 0; i < js_urls.length; i++) {\n",
       "        var url = js_urls[i];\n",
       "        var s = document.createElement('script');\n",
       "        s.src = url;\n",
       "        s.async = false;\n",
       "        s.onreadystatechange = s.onload = function() {\n",
       "          window._bokeh_is_loading--;\n",
       "          if (window._bokeh_is_loading === 0) {\n",
       "            console.log(\"Bokeh: all BokehJS libraries loaded\");\n",
       "            run_callbacks()\n",
       "          }\n",
       "        };\n",
       "        s.onerror = function() {\n",
       "          console.warn(\"failed to load library \" + url);\n",
       "        };\n",
       "        console.log(\"Bokeh: injecting script tag for BokehJS library: \", url);\n",
       "        document.getElementsByTagName(\"head\")[0].appendChild(s);\n",
       "      }\n",
       "    };var element = document.getElementById(\"68ad47e5-ad63-4659-9276-3533d8effe71\");\n",
       "    if (element == null) {\n",
       "      console.log(\"Bokeh: ERROR: autoload.js configured with elementid '68ad47e5-ad63-4659-9276-3533d8effe71' but no matching script tag was found. \")\n",
       "      return false;\n",
       "    }\n",
       "  \n",
       "    var js_urls = [];\n",
       "  \n",
       "    var inline_js = [\n",
       "      function(Bokeh) {\n",
       "        (function() {\n",
       "          var fn = function() {\n",
       "            var docs_json = {\"c4638ca7-9599-4dd3-89d4-53a42fac9d80\":{\"roots\":{\"references\":[{\"attributes\":{},\"id\":\"73d8208b-c60d-4578-b41a-88e4621449ae\",\"type\":\"BasicTickFormatter\"},{\"attributes\":{\"label\":{\"value\":\"social+lda20\"},\"renderers\":[{\"id\":\"f05ec316-05e5-4ea2-b5bb-ca3f785453e6\",\"type\":\"GlyphRenderer\"}]},\"id\":\"8e002269-bfa5-4be6-b6dd-9eb6286d0a29\",\"type\":\"LegendItem\"},{\"attributes\":{\"axis_label\":\"usuarios (ordenados por f1 del modelo social en datos de entrenamiento)\",\"formatter\":{\"id\":\"755b02e4-61a9-4327-a74a-7cb93b95aa88\",\"type\":\"BasicTickFormatter\"},\"plot\":{\"id\":\"940eec86-612a-4829-bf3e-a3164f995fe5\",\"subtype\":\"Chart\",\"type\":\"Plot\"},\"ticker\":{\"id\":\"2b492e3c-9465-4593-a772-d6df42fee06c\",\"type\":\"BasicTicker\"}},\"id\":\"ee804b89-692c-47ad-bb24-153dd61e068b\",\"type\":\"LinearAxis\"},{\"attributes\":{\"line_color\":{\"value\":\"#5ab738\"},\"line_dash\":[6],\"line_width\":{\"value\":2},\"x\":{\"field\":\"x_values\"},\"y\":{\"field\":\"y_values\"}},\"id\":\"23dc8f2d-a927-4ba1-9203-54d76665038d\",\"type\":\"Line\"},{\"attributes\":{\"label\":{\"value\":\"social+lda10\"},\"renderers\":[{\"id\":\"8ae03e1b-8409-4597-b201-22980939398d\",\"type\":\"GlyphRenderer\"}]},\"id\":\"7dd3a9b2-515a-42bc-b39a-b3249f29e3ef\",\"type\":\"LegendItem\"},{\"attributes\":{\"plot\":{\"id\":\"940eec86-612a-4829-bf3e-a3164f995fe5\",\"subtype\":\"Chart\",\"type\":\"Plot\"}},\"id\":\"e5b8de13-2c20-40aa-8f33-c61fec55ba70\",\"type\":\"ResetTool\"},{\"attributes\":{\"callback\":null,\"column_names\":[\"x_values\",\"y_values\"],\"data\":{\"chart_index\":[{\"series\":\"social\"},{\"series\":\"social\"},{\"series\":\"social\"},{\"series\":\"social\"},{\"series\":\"social\"},{\"series\":\"social\"},{\"series\":\"social\"},{\"series\":\"social\"},{\"series\":\"social\"},{\"series\":\"social\"},{\"series\":\"social\"},{\"series\":\"social\"},{\"series\":\"social\"},{\"series\":\"social\"},{\"series\":\"social\"},{\"series\":\"social\"},{\"series\":\"social\"},{\"series\":\"social\"},{\"series\":\"social\"},{\"series\":\"social\"},{\"series\":\"social\"},{\"series\":\"social\"},{\"series\":\"social\"},{\"series\":\"social\"},{\"series\":\"social\"},{\"series\":\"social\"},{\"series\":\"social\"},{\"series\":\"social\"},{\"series\":\"social\"},{\"series\":\"social\"},{\"series\":\"social\"},{\"series\":\"social\"},{\"series\":\"social\"}],\"series\":[\"social\",\"social\",\"social\",\"social\",\"social\",\"social\",\"social\",\"social\",\"social\",\"social\",\"social\",\"social\",\"social\",\"social\",\"social\",\"social\",\"social\",\"social\",\"social\",\"social\",\"social\",\"social\",\"social\",\"social\",\"social\",\"social\",\"social\",\"social\",\"social\",\"social\",\"social\",\"social\",\"social\"],\"x_values\":[0,1,2,3,4,5,6,7,8,9,10,11,12,13,14,15,16,17,18,19,20,21,22,23,24,25,26,27,28,29,30,31,32],\"y_values\":{\"__ndarray__\":\"mZmZmZmZ2T+d2Imd2IndPwAAAAAAAOE/mZmZmZmZ4T/SIA3SIA3iP5IkSZIkSeI/exSuR+F65D8lSZIkSZLkPyVJkiRJkuQ/w/UoXI/C5T98GmG5pxHmP431obE+NOY/ZCELWchC5j9nZmZmZmbmP8ln3WCKfOY/lpaWlpaW5j+XlpaWlpbmP0HDSd2Xx+Y/RhdddNFF5z9GF1100UXnP3vTm970puc/vXr16tWr5z/Z19fX19fnP1G4HoXrUeg/SJIkSZIk6T87sRM7sRPrP5BQeP/KS+s/vulNb3rT6z8gk+IFMinuP+pNb3rTm+4/t23btm3b7j9HWO5phOXuP5/0SZ/0Se8/\",\"dtype\":\"float64\",\"shape\":[33]}}},\"id\":\"1e240fe1-d995-4234-b0db-88a02734dfb1\",\"type\":\"ColumnDataSource\"},{\"attributes\":{\"plot\":{\"id\":\"940eec86-612a-4829-bf3e-a3164f995fe5\",\"subtype\":\"Chart\",\"type\":\"Plot\"}},\"id\":\"ef8c265d-c1b1-425b-ba7d-f691d49951d6\",\"type\":\"PanTool\"},{\"attributes\":{\"plot\":{\"id\":\"940eec86-612a-4829-bf3e-a3164f995fe5\",\"subtype\":\"Chart\",\"type\":\"Plot\"}},\"id\":\"02498980-4c48-4c1b-9dfa-89d228965819\",\"type\":\"HelpTool\"},{\"attributes\":{\"below\":[{\"id\":\"ee804b89-692c-47ad-bb24-153dd61e068b\",\"type\":\"LinearAxis\"}],\"css_classes\":null,\"left\":[{\"id\":\"ef277521-ca77-4ce9-a1ea-785791f7da6e\",\"type\":\"LinearAxis\"}],\"renderers\":[{\"id\":\"c106a547-0cea-46ff-87c5-c9e18ec54dac\",\"type\":\"BoxAnnotation\"},{\"id\":\"da85a301-a45e-45bf-95df-49fe61a84fbd\",\"type\":\"GlyphRenderer\"},{\"id\":\"8ae03e1b-8409-4597-b201-22980939398d\",\"type\":\"GlyphRenderer\"},{\"id\":\"f05ec316-05e5-4ea2-b5bb-ca3f785453e6\",\"type\":\"GlyphRenderer\"},{\"id\":\"08ad5b6a-4a95-41fe-8905-c1897e77852c\",\"type\":\"Legend\"},{\"id\":\"ee804b89-692c-47ad-bb24-153dd61e068b\",\"type\":\"LinearAxis\"},{\"id\":\"ef277521-ca77-4ce9-a1ea-785791f7da6e\",\"type\":\"LinearAxis\"},{\"id\":\"17026652-89b8-4a1d-955d-b1df98f7a326\",\"type\":\"Grid\"},{\"id\":\"2a088971-f9a4-45c7-98ef-37f44f707caa\",\"type\":\"Grid\"}],\"title\":{\"id\":\"b3f12c11-75c5-41ce-bff5-36ac5d384fa4\",\"type\":\"Title\"},\"tool_events\":{\"id\":\"0673a4a0-fe9d-49c1-a0a1-b5c4a6016183\",\"type\":\"ToolEvents\"},\"toolbar\":{\"id\":\"7f0152fd-240a-44d7-b5b5-a18e094558cf\",\"type\":\"Toolbar\"},\"x_mapper_type\":\"auto\",\"x_range\":{\"id\":\"b7b9225a-592b-47a8-bc67-7132ded9a43c\",\"type\":\"Range1d\"},\"y_mapper_type\":\"auto\",\"y_range\":{\"id\":\"de166519-79a7-44f7-98f4-87cb77edef31\",\"type\":\"Range1d\"}},\"id\":\"940eec86-612a-4829-bf3e-a3164f995fe5\",\"subtype\":\"Chart\",\"type\":\"Plot\"},{\"attributes\":{\"plot\":{\"id\":\"940eec86-612a-4829-bf3e-a3164f995fe5\",\"subtype\":\"Chart\",\"type\":\"Plot\"}},\"id\":\"67016156-3b8c-48da-a40a-f7eef721de7f\",\"type\":\"SaveTool\"},{\"attributes\":{\"data_source\":{\"id\":\"98dfca9d-063e-47d3-88e5-82654620049a\",\"type\":\"ColumnDataSource\"},\"glyph\":{\"id\":\"23dc8f2d-a927-4ba1-9203-54d76665038d\",\"type\":\"Line\"},\"hover_glyph\":null,\"muted_glyph\":null},\"id\":\"8ae03e1b-8409-4597-b201-22980939398d\",\"type\":\"GlyphRenderer\"},{\"attributes\":{\"axis_label\":\"puntaje f1 sobre datos de entrenamiento\",\"formatter\":{\"id\":\"73d8208b-c60d-4578-b41a-88e4621449ae\",\"type\":\"BasicTickFormatter\"},\"plot\":{\"id\":\"940eec86-612a-4829-bf3e-a3164f995fe5\",\"subtype\":\"Chart\",\"type\":\"Plot\"},\"ticker\":{\"id\":\"01b34f05-809f-4192-97e1-455c57e5edea\",\"type\":\"BasicTicker\"}},\"id\":\"ef277521-ca77-4ce9-a1ea-785791f7da6e\",\"type\":\"LinearAxis\"},{\"attributes\":{\"plot\":{\"id\":\"940eec86-612a-4829-bf3e-a3164f995fe5\",\"subtype\":\"Chart\",\"type\":\"Plot\"}},\"id\":\"f23facf8-e7cb-45c9-8c61-6d1c43781faf\",\"type\":\"WheelZoomTool\"},{\"attributes\":{},\"id\":\"2b492e3c-9465-4593-a772-d6df42fee06c\",\"type\":\"BasicTicker\"},{\"attributes\":{\"line_color\":{\"value\":\"#f22c40\"},\"line_width\":{\"value\":2},\"x\":{\"field\":\"x_values\"},\"y\":{\"field\":\"y_values\"}},\"id\":\"a830af6b-821e-4cda-9122-4cfd49644c27\",\"type\":\"Line\"},{\"attributes\":{\"label\":{\"value\":\"social\"},\"renderers\":[{\"id\":\"da85a301-a45e-45bf-95df-49fe61a84fbd\",\"type\":\"GlyphRenderer\"}]},\"id\":\"1c5be227-1210-44e8-b293-08c916aab8db\",\"type\":\"LegendItem\"},{\"attributes\":{\"data_source\":{\"id\":\"df2914d8-eec7-4b83-9c19-9ab1feac6d35\",\"type\":\"ColumnDataSource\"},\"glyph\":{\"id\":\"f5c71a0a-879f-4953-a6cb-0cb189713f1a\",\"type\":\"Line\"},\"hover_glyph\":null,\"muted_glyph\":null},\"id\":\"f05ec316-05e5-4ea2-b5bb-ca3f785453e6\",\"type\":\"GlyphRenderer\"},{\"attributes\":{\"active_drag\":\"auto\",\"active_scroll\":\"auto\",\"active_tap\":\"auto\",\"tools\":[{\"id\":\"ef8c265d-c1b1-425b-ba7d-f691d49951d6\",\"type\":\"PanTool\"},{\"id\":\"f23facf8-e7cb-45c9-8c61-6d1c43781faf\",\"type\":\"WheelZoomTool\"},{\"id\":\"466e370c-23c3-44e1-889f-42d0f2634520\",\"type\":\"BoxZoomTool\"},{\"id\":\"67016156-3b8c-48da-a40a-f7eef721de7f\",\"type\":\"SaveTool\"},{\"id\":\"e5b8de13-2c20-40aa-8f33-c61fec55ba70\",\"type\":\"ResetTool\"},{\"id\":\"02498980-4c48-4c1b-9dfa-89d228965819\",\"type\":\"HelpTool\"}]},\"id\":\"7f0152fd-240a-44d7-b5b5-a18e094558cf\",\"type\":\"Toolbar\"},{\"attributes\":{\"dimension\":1,\"plot\":{\"id\":\"940eec86-612a-4829-bf3e-a3164f995fe5\",\"subtype\":\"Chart\",\"type\":\"Plot\"},\"ticker\":{\"id\":\"01b34f05-809f-4192-97e1-455c57e5edea\",\"type\":\"BasicTicker\"}},\"id\":\"2a088971-f9a4-45c7-98ef-37f44f707caa\",\"type\":\"Grid\"},{\"attributes\":{\"callback\":null,\"column_names\":[\"x_values\",\"y_values\"],\"data\":{\"chart_index\":[{\"series\":\"social+lda10\"},{\"series\":\"social+lda10\"},{\"series\":\"social+lda10\"},{\"series\":\"social+lda10\"},{\"series\":\"social+lda10\"},{\"series\":\"social+lda10\"},{\"series\":\"social+lda10\"},{\"series\":\"social+lda10\"},{\"series\":\"social+lda10\"},{\"series\":\"social+lda10\"},{\"series\":\"social+lda10\"},{\"series\":\"social+lda10\"},{\"series\":\"social+lda10\"},{\"series\":\"social+lda10\"},{\"series\":\"social+lda10\"},{\"series\":\"social+lda10\"},{\"series\":\"social+lda10\"},{\"series\":\"social+lda10\"},{\"series\":\"social+lda10\"},{\"series\":\"social+lda10\"},{\"series\":\"social+lda10\"},{\"series\":\"social+lda10\"},{\"series\":\"social+lda10\"},{\"series\":\"social+lda10\"},{\"series\":\"social+lda10\"},{\"series\":\"social+lda10\"},{\"series\":\"social+lda10\"},{\"series\":\"social+lda10\"},{\"series\":\"social+lda10\"},{\"series\":\"social+lda10\"},{\"series\":\"social+lda10\"},{\"series\":\"social+lda10\"},{\"series\":\"social+lda10\"}],\"series\":[\"social+lda10\",\"social+lda10\",\"social+lda10\",\"social+lda10\",\"social+lda10\",\"social+lda10\",\"social+lda10\",\"social+lda10\",\"social+lda10\",\"social+lda10\",\"social+lda10\",\"social+lda10\",\"social+lda10\",\"social+lda10\",\"social+lda10\",\"social+lda10\",\"social+lda10\",\"social+lda10\",\"social+lda10\",\"social+lda10\",\"social+lda10\",\"social+lda10\",\"social+lda10\",\"social+lda10\",\"social+lda10\",\"social+lda10\",\"social+lda10\",\"social+lda10\",\"social+lda10\",\"social+lda10\",\"social+lda10\",\"social+lda10\",\"social+lda10\"],\"x_values\":[0,1,2,3,4,5,6,7,8,9,10,11,12,13,14,15,16,17,18,19,20,21,22,23,24,25,26,27,28,29,30,31,32],\"y_values\":{\"__ndarray__\":\"xq9RcFr82j/FQAlvNHXuP5w9Jpw9Juw/0oS8sFVQ6z+Kz5laLtzlPyB3/WyxMuw/3t3d3d3d7T9GCc5wddzkP53YiZ3Yie0/VBea5UrG7T9vk+4ypnztPweqGahmoOo/EnfEHXFH7D/f9KY3ventPzI1sHdMDew/KVyPwvUo7D+AoZqOuUToPx7wIrNCbew/JUmSJEmS7j/WzmpntbPqP6y5mqu5mus/vdALvdAL7T8wp+DlFLzsP459j8gJwu0/7RvWvmHt6z9C2AVhF4TtPweVsu9Upe0/9rB6WD2s7j8JJvo7WS3vPwAAAAAAAPA/4llwjG9L7j+oXYnalajtP19fX19fX+8/\",\"dtype\":\"float64\",\"shape\":[33]}}},\"id\":\"98dfca9d-063e-47d3-88e5-82654620049a\",\"type\":\"ColumnDataSource\"},{\"attributes\":{},\"id\":\"0673a4a0-fe9d-49c1-a0a1-b5c4a6016183\",\"type\":\"ToolEvents\"},{\"attributes\":{},\"id\":\"01b34f05-809f-4192-97e1-455c57e5edea\",\"type\":\"BasicTicker\"},{\"attributes\":{\"bottom_units\":\"screen\",\"fill_alpha\":{\"value\":0.5},\"fill_color\":{\"value\":\"lightgrey\"},\"left_units\":\"screen\",\"level\":\"overlay\",\"line_alpha\":{\"value\":1.0},\"line_color\":{\"value\":\"black\"},\"line_dash\":[4,4],\"line_width\":{\"value\":2},\"plot\":null,\"render_mode\":\"css\",\"right_units\":\"screen\",\"top_units\":\"screen\"},\"id\":\"c106a547-0cea-46ff-87c5-c9e18ec54dac\",\"type\":\"BoxAnnotation\"},{\"attributes\":{\"plot\":null,\"text\":null},\"id\":\"b3f12c11-75c5-41ce-bff5-36ac5d384fa4\",\"type\":\"Title\"},{\"attributes\":{\"line_color\":{\"value\":\"#407ee7\"},\"line_dash\":[2,4],\"line_width\":{\"value\":2},\"x\":{\"field\":\"x_values\"},\"y\":{\"field\":\"y_values\"}},\"id\":\"f5c71a0a-879f-4953-a6cb-0cb189713f1a\",\"type\":\"Line\"},{\"attributes\":{\"callback\":null,\"column_names\":[\"x_values\",\"y_values\"],\"data\":{\"chart_index\":[{\"series\":\"social+lda20\"},{\"series\":\"social+lda20\"},{\"series\":\"social+lda20\"},{\"series\":\"social+lda20\"},{\"series\":\"social+lda20\"},{\"series\":\"social+lda20\"},{\"series\":\"social+lda20\"},{\"series\":\"social+lda20\"},{\"series\":\"social+lda20\"},{\"series\":\"social+lda20\"},{\"series\":\"social+lda20\"},{\"series\":\"social+lda20\"},{\"series\":\"social+lda20\"},{\"series\":\"social+lda20\"},{\"series\":\"social+lda20\"},{\"series\":\"social+lda20\"},{\"series\":\"social+lda20\"},{\"series\":\"social+lda20\"},{\"series\":\"social+lda20\"},{\"series\":\"social+lda20\"},{\"series\":\"social+lda20\"},{\"series\":\"social+lda20\"},{\"series\":\"social+lda20\"},{\"series\":\"social+lda20\"},{\"series\":\"social+lda20\"},{\"series\":\"social+lda20\"},{\"series\":\"social+lda20\"},{\"series\":\"social+lda20\"},{\"series\":\"social+lda20\"},{\"series\":\"social+lda20\"},{\"series\":\"social+lda20\"},{\"series\":\"social+lda20\"},{\"series\":\"social+lda20\"}],\"series\":[\"social+lda20\",\"social+lda20\",\"social+lda20\",\"social+lda20\",\"social+lda20\",\"social+lda20\",\"social+lda20\",\"social+lda20\",\"social+lda20\",\"social+lda20\",\"social+lda20\",\"social+lda20\",\"social+lda20\",\"social+lda20\",\"social+lda20\",\"social+lda20\",\"social+lda20\",\"social+lda20\",\"social+lda20\",\"social+lda20\",\"social+lda20\",\"social+lda20\",\"social+lda20\",\"social+lda20\",\"social+lda20\",\"social+lda20\",\"social+lda20\",\"social+lda20\",\"social+lda20\",\"social+lda20\",\"social+lda20\",\"social+lda20\",\"social+lda20\"],\"x_values\":[0,1,2,3,4,5,6,7,8,9,10,11,12,13,14,15,16,17,18,19,20,21,22,23,24,25,26,27,28,29,30,31,32],\"y_values\":{\"__ndarray__\":\"ga7bCDZj4D+RDKhnKtftP3fUpaCDR+0/vN8ou98o6z8gEnj7IYHnP/bq1atXr+4/QZ4S5ClB7j9ypfzGNqPmP2dmZmZmZu4/saI0PjKB7j/e3d3d3d3tP23Q5MsGTe4/3OmPWMCd7j/V77klTv3uP1FFiLer7u0/aLfwqzGR7j+U4BlUUQjrP0Z1MSeOAe0/uR6F61G47j8Q30F8B/HtPxK+FcUj4es/NIG8wy7F7T/c9bPFyvDtP459j8gJwu0/eSv7HFIT7D+TJEmSJEnuPx3HcRzH8e0/cbQgATW77j8JJvo7WS3vPwAAAAAAAPA/fWejvrNR7z+QOUq3r6zuP7XdavpG5+4/\",\"dtype\":\"float64\",\"shape\":[33]}}},\"id\":\"df2914d8-eec7-4b83-9c19-9ab1feac6d35\",\"type\":\"ColumnDataSource\"},{\"attributes\":{},\"id\":\"755b02e4-61a9-4327-a74a-7cb93b95aa88\",\"type\":\"BasicTickFormatter\"},{\"attributes\":{\"callback\":null,\"end\":1.06,\"start\":0.33999999999999997},\"id\":\"de166519-79a7-44f7-98f4-87cb77edef31\",\"type\":\"Range1d\"},{\"attributes\":{\"callback\":null,\"end\":35.2,\"start\":-3.2},\"id\":\"b7b9225a-592b-47a8-bc67-7132ded9a43c\",\"type\":\"Range1d\"},{\"attributes\":{\"items\":[{\"id\":\"8e002269-bfa5-4be6-b6dd-9eb6286d0a29\",\"type\":\"LegendItem\"},{\"id\":\"7dd3a9b2-515a-42bc-b39a-b3249f29e3ef\",\"type\":\"LegendItem\"},{\"id\":\"1c5be227-1210-44e8-b293-08c916aab8db\",\"type\":\"LegendItem\"}],\"location\":\"top_left\",\"plot\":{\"id\":\"940eec86-612a-4829-bf3e-a3164f995fe5\",\"subtype\":\"Chart\",\"type\":\"Plot\"}},\"id\":\"08ad5b6a-4a95-41fe-8905-c1897e77852c\",\"type\":\"Legend\"},{\"attributes\":{\"overlay\":{\"id\":\"c106a547-0cea-46ff-87c5-c9e18ec54dac\",\"type\":\"BoxAnnotation\"},\"plot\":{\"id\":\"940eec86-612a-4829-bf3e-a3164f995fe5\",\"subtype\":\"Chart\",\"type\":\"Plot\"}},\"id\":\"466e370c-23c3-44e1-889f-42d0f2634520\",\"type\":\"BoxZoomTool\"},{\"attributes\":{\"data_source\":{\"id\":\"1e240fe1-d995-4234-b0db-88a02734dfb1\",\"type\":\"ColumnDataSource\"},\"glyph\":{\"id\":\"a830af6b-821e-4cda-9122-4cfd49644c27\",\"type\":\"Line\"},\"hover_glyph\":null,\"muted_glyph\":null},\"id\":\"da85a301-a45e-45bf-95df-49fe61a84fbd\",\"type\":\"GlyphRenderer\"},{\"attributes\":{\"plot\":{\"id\":\"940eec86-612a-4829-bf3e-a3164f995fe5\",\"subtype\":\"Chart\",\"type\":\"Plot\"},\"ticker\":{\"id\":\"2b492e3c-9465-4593-a772-d6df42fee06c\",\"type\":\"BasicTicker\"}},\"id\":\"17026652-89b8-4a1d-955d-b1df98f7a326\",\"type\":\"Grid\"}],\"root_ids\":[\"940eec86-612a-4829-bf3e-a3164f995fe5\"]},\"title\":\"Bokeh Application\",\"version\":\"0.12.5\"}};\n",
       "            var render_items = [{\"docid\":\"c4638ca7-9599-4dd3-89d4-53a42fac9d80\",\"elementid\":\"68ad47e5-ad63-4659-9276-3533d8effe71\",\"modelid\":\"940eec86-612a-4829-bf3e-a3164f995fe5\"}];\n",
       "            \n",
       "            Bokeh.embed.embed_items(docs_json, render_items);\n",
       "          };\n",
       "          if (document.readyState != \"loading\") fn();\n",
       "          else document.addEventListener(\"DOMContentLoaded\", fn);\n",
       "        })();\n",
       "      },\n",
       "      function(Bokeh) {\n",
       "      }\n",
       "    ];\n",
       "  \n",
       "    function run_inline_js() {\n",
       "      \n",
       "      if ((window.Bokeh !== undefined) || (force === true)) {\n",
       "        for (var i = 0; i < inline_js.length; i++) {\n",
       "          inline_js[i](window.Bokeh);\n",
       "        }if (force === true) {\n",
       "          display_loaded();\n",
       "        }} else if (Date.now() < window._bokeh_timeout) {\n",
       "        setTimeout(run_inline_js, 100);\n",
       "      } else if (!window._bokeh_failed_load) {\n",
       "        console.log(\"Bokeh: BokehJS failed to load within specified timeout.\");\n",
       "        window._bokeh_failed_load = true;\n",
       "      } else if (force !== true) {\n",
       "        var cell = $(document.getElementById(\"68ad47e5-ad63-4659-9276-3533d8effe71\")).parents('.cell').data().cell;\n",
       "        cell.output_area.append_execute_result(NB_LOAD_WARNING)\n",
       "      }\n",
       "  \n",
       "    }\n",
       "  \n",
       "    if (window._bokeh_is_loading === 0) {\n",
       "      console.log(\"Bokeh: BokehJS loaded, going straight to plotting\");\n",
       "      run_inline_js();\n",
       "    } else {\n",
       "      load_libs(js_urls, function() {\n",
       "        console.log(\"Bokeh: BokehJS plotting callback run at\", now());\n",
       "        run_inline_js();\n",
       "      });\n",
       "    }\n",
       "  }(this));\n",
       "</script>"
      ]
     },
     "metadata": {},
     "output_type": "display_data"
    }
   ],
   "source": [
    "# build a dataset where multiple columns measure the same thing\n",
    "data = {\n",
    "    \"social\": f1s_s,\n",
    "    \"social+lda10\": f1s_10,\n",
    "    \"social+lda20\": f1s_20\n",
    "}\n",
    "\n",
    "labels = 'social social+lda10 social+lda20'.split()\n",
    "\n",
    "# create a line chart where each column of measures receives a unique color and dash style\n",
    "line = Line(data, y=labels,\n",
    "            dash=labels,\n",
    "            color=labels,\n",
    "            legend_sort_field = 'color',\n",
    "            legend_sort_direction = 'descending',\n",
    "            ylabel='puntaje f1 sobre datos de entrenamiento',\n",
    "            xlabel='usuarios (ordenados por f1 del modelo social en datos de entrenamiento)',\n",
    "            legend=True)\n",
    "\n",
    "# output_file(\"line_single.html\", title=\"line_single.py example\")\n",
    "\n",
    "show(line)"
   ]
  },
  {
   "cell_type": "code",
   "execution_count": 20,
   "metadata": {},
   "outputs": [
    {
     "data": {
      "text/plain": [
       "31"
      ]
     },
     "execution_count": 20,
     "metadata": {},
     "output_type": "execute_result"
    }
   ],
   "source": [
    "sum(f1s_10 > f1s_s)"
   ]
  },
  {
   "cell_type": "code",
   "execution_count": 21,
   "metadata": {},
   "outputs": [
    {
     "data": {
      "text/plain": [
       "31"
      ]
     },
     "execution_count": 21,
     "metadata": {},
     "output_type": "execute_result"
    }
   ],
   "source": [
    "sum(f1s_20 > f1s_s)"
   ]
  },
  {
   "cell_type": "code",
   "execution_count": 22,
   "metadata": {},
   "outputs": [
    {
     "data": {
      "text/plain": [
       "(0.87822639983730644, 0.9110657339143291)"
      ]
     },
     "execution_count": 22,
     "metadata": {},
     "output_type": "execute_result"
    }
   ],
   "source": [
    "(np.mean(f1s_10), np.mean(f1s_20))"
   ]
  },
  {
   "cell_type": "code",
   "execution_count": 23,
   "metadata": {},
   "outputs": [
    {
     "name": "stdout",
     "output_type": "stream",
     "text": [
      "0.166084491573\n",
      "0.199839841618\n"
     ]
    }
   ],
   "source": [
    "for f in [f1s_10, f1s_20]:\n",
    "    better = f > f1s_s\n",
    "    mean_improvement = np.mean(f[better] - f1s_s[better])\n",
    "    print mean_improvement"
   ]
  }
 ],
 "metadata": {
  "kernelspec": {
   "display_name": "Python 2",
   "language": "python",
   "name": "python2"
  },
  "language_info": {
   "codemirror_mode": {
    "name": "ipython",
    "version": 2
   },
   "file_extension": ".py",
   "mimetype": "text/x-python",
   "name": "python",
   "nbconvert_exporter": "python",
   "pygments_lexer": "ipython2",
   "version": "2.7.12"
  }
 },
 "nbformat": 4,
 "nbformat_minor": 2
}
