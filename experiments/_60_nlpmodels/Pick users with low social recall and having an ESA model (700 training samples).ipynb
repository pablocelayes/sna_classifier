{
 "cells": [
  {
   "cell_type": "code",
   "execution_count": null,
   "metadata": {
    "collapsed": false,
    "deletable": true,
    "editable": true
   },
   "outputs": [],
   "source": [
    "from create_clesa_datasets import load_low_recall_users"
   ]
  },
  {
   "cell_type": "code",
   "execution_count": 2,
   "metadata": {
    "collapsed": true,
    "deletable": true,
    "editable": true
   },
   "outputs": [],
   "source": [
    "users = load_low_recall_users()"
   ]
  },
  {
   "cell_type": "code",
   "execution_count": 3,
   "metadata": {
    "collapsed": false,
    "deletable": true,
    "editable": true
   },
   "outputs": [
    {
     "data": {
      "text/plain": [
       "[(u'42976687', 0.0),\n",
       " (u'241991145', 0.09852216748768473),\n",
       " (u'1383498264', 0.2962962962962963),\n",
       " (u'125363239', 0.38235294117647056),\n",
       " (u'157523545', 0.47333333333333333),\n",
       " (u'152613501', 0.47417840375586856),\n",
       " (u'186595337', 0.48),\n",
       " (u'199982337', 0.4857142857142857),\n",
       " (u'356464236', 0.5),\n",
       " (u'196478764', 0.5)]"
      ]
     },
     "execution_count": 3,
     "metadata": {},
     "output_type": "execute_result"
    }
   ],
   "source": [
    "users[:10]"
   ]
  },
  {
   "cell_type": "code",
   "execution_count": 4,
   "metadata": {
    "collapsed": false,
    "deletable": true,
    "editable": true
   },
   "outputs": [],
   "source": [
    "uids_with_esa = ['110325813',\n",
    " '1311735576',\n",
    " '142800528',\n",
    " '1566310694',\n",
    " '18623370',\n",
    " '195412602',\n",
    " '228252737',\n",
    " '254316467',\n",
    " '263780425',\n",
    " '37226353',\n",
    " '54943340',\n",
    " '54987976',\n",
    " '59857143',\n",
    " '80462161',\n",
    " '85123028']"
   ]
  },
  {
   "cell_type": "code",
   "execution_count": 5,
   "metadata": {
    "collapsed": true,
    "deletable": true,
    "editable": true
   },
   "outputs": [],
   "source": [
    "recalls = dict(users)"
   ]
  },
  {
   "cell_type": "code",
   "execution_count": 6,
   "metadata": {
    "collapsed": false,
    "deletable": true,
    "editable": true
   },
   "outputs": [
    {
     "data": {
      "text/plain": [
       "[('110325813', 0.8033175355450237),\n",
       " ('1311735576', 0.6533613445378151),\n",
       " ('142800528', 0.8022875816993464),\n",
       " ('18623370', 0.876425855513308),\n",
       " ('195412602', 0.7784679089026915),\n",
       " ('228252737', 0.7620481927710844),\n",
       " ('254316467', 0.6407322654462243),\n",
       " ('37226353', 0.6018867924528302),\n",
       " ('54987976', 0.7272727272727273),\n",
       " ('80462161', 0.7043478260869566),\n",
       " ('85123028', 0.5675675675675675)]"
      ]
     },
     "execution_count": 6,
     "metadata": {},
     "output_type": "execute_result"
    }
   ],
   "source": [
    "[(u, recalls[u]) for u in uids_with_esa if u in recalls]"
   ]
  }
 ],
 "metadata": {
  "kernelspec": {
   "display_name": "Python 2",
   "language": "python",
   "name": "python2"
  },
  "language_info": {
   "codemirror_mode": {
    "name": "ipython",
    "version": 2
   },
   "file_extension": ".py",
   "mimetype": "text/x-python",
   "name": "python",
   "nbconvert_exporter": "python",
   "pygments_lexer": "ipython2",
   "version": "2.7.11+"
  }
 },
 "nbformat": 4,
 "nbformat_minor": 0
}
