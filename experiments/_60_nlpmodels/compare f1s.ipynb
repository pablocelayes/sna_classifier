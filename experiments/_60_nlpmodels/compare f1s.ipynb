{
 "cells": [
  {
   "cell_type": "code",
   "execution_count": 1,
   "metadata": {
    "collapsed": false,
    "deletable": true,
    "editable": true
   },
   "outputs": [
    {
     "name": "stdout",
     "output_type": "stream",
     "text": [
      "Switching to API Credentials #5\n"
     ]
    }
   ],
   "source": [
    "from create_twlda_datasets_25 import *\n",
    "# from experiments._1_one_user_learn_neighbours.try_some_users import *\n",
    "from sklearn.externals import joblib\n",
    "from sklearn.metrics import classification_report\n",
    "\n",
    "from experiments._1_one_user_learn_neighbours.classifiers import model_select_svc2\n",
    "from sklearn.preprocessing import StandardScaler"
   ]
  },
  {
   "cell_type": "code",
   "execution_count": 4,
   "metadata": {
    "collapsed": true,
    "deletable": true,
    "editable": true
   },
   "outputs": [],
   "source": [
    "from sklearn.metrics import f1_score"
   ]
  },
  {
   "cell_type": "code",
   "execution_count": 8,
   "metadata": {
    "collapsed": true,
    "deletable": true,
    "editable": true
   },
   "outputs": [],
   "source": [
    "MODELS_FOLDER = \"/media/pablo/data/Tesis/models/\"\n",
    "\n",
    "def load_model_small(user_id, model_type, feat_space='', n_topics=None):\n",
    "    n_topics_str = 't%d' % n_topics if n_topics else ''\n",
    "    fname = '_'.join(x for x in [model_type, str(user_id), 'small', feat_space, n_topics_str] if x)\n",
    "    model_path = join(MODELS_FOLDER, \"%s.pickle\" % fname)\n",
    "\n",
    "    clf = joblib.load(model_path)\n",
    "    return clf"
   ]
  },
  {
   "cell_type": "code",
   "execution_count": 36,
   "metadata": {
    "collapsed": false,
    "deletable": true,
    "editable": true
   },
   "outputs": [],
   "source": [
    "def load_lda_dataset(uid, n_topics, twitter=False):\n",
    "    fname = join(DATASETS_FOLDER, 'es_%slda%dds_%d.npz' % ('tw' if twitter else '', n_topics, uid))\n",
    "    z = np.load(open(fname,'rb'))\n",
    "    X_train = z['arr_0'].item()\n",
    "    X_valid = z['arr_1'].item()\n",
    "    X_test = z['arr_2'].item()\n",
    "\n",
    "    # X_train = csc.csc_matrix(X_train.tolist())\n",
    "    # X_valid = csc.csc_matrix(X_train.tolist())\n",
    "    # X_test = csc.csc_matrix(X_test.tolist())\n",
    "\n",
    "    cols_train = X_train.shape[1]\n",
    "    cols_valid = X_valid.shape[1]\n",
    "    cols_test = X_test.shape[1]\n",
    "\n",
    "    maxcols = max(cols_train, cols_valid, cols_test)\n",
    "\n",
    "    if cols_train < maxcols:\n",
    "        missing_cols = csc_matrix((X_train.shape[0], maxcols - cols_train), dtype=np.float64)\n",
    "        X_train = sp.hstack((X_train, missing_cols))\n",
    "\n",
    "    if cols_valid < maxcols:\n",
    "        missing_cols = csc_matrix((X_valid.shape[0], maxcols - cols_valid), dtype=np.float64)\n",
    "        X_valid = sp.hstack((X_valid, missing_cols))\n",
    "\n",
    "    if cols_test < maxcols:\n",
    "        missing_cols = csc_matrix((X_test.shape[0], maxcols - cols_test), dtype=np.float64)\n",
    "        X_test = sp.hstack((X_test, missing_cols))\n",
    "\n",
    "    ys_fname = join(DATAFRAMES_FOLDER, \"ysv_%d_small.pickle\" % uid)\n",
    "    y_train, y_valid, y_test = pickle.load(open(ys_fname, 'rb'))\n",
    "\n",
    "    return X_train, X_valid, X_test, y_train, y_valid, y_test"
   ]
  },
  {
   "cell_type": "code",
   "execution_count": 9,
   "metadata": {
    "collapsed": true,
    "deletable": true,
    "editable": true
   },
   "outputs": [],
   "source": [
    "f1s = load_nlp_selected_users()"
   ]
  },
  {
   "cell_type": "code",
   "execution_count": 44,
   "metadata": {
    "collapsed": true,
    "deletable": true,
    "editable": true
   },
   "outputs": [],
   "source": [
    "test_f1s = {\n",
    "    'sna': {},\n",
    "    'lda100': {},\n",
    "    'twlda25': {}, \n",
    "    'twlda15': {},\n",
    "    'twlda10': {},\n",
    "    'twlda_unscaled10': {}\n",
    "}"
   ]
  },
  {
   "cell_type": "code",
   "execution_count": 82,
   "metadata": {
    "collapsed": true,
    "deletable": true,
    "editable": true
   },
   "outputs": [],
   "source": [
    "test_f1s['twlda_unscaled10'] = {}"
   ]
  },
  {
   "cell_type": "code",
   "execution_count": 83,
   "metadata": {
    "collapsed": false,
    "deletable": true,
    "editable": true
   },
   "outputs": [],
   "source": [
    "for uid, f1 in f1s:\n",
    "    uid = int(uid)\n",
    "#     print \"==============================\" \n",
    "#     print \"Processing %d ( f1 %.2f %%)\" % (uid, 100 * f1)\n",
    "\n",
    "    X_train, X_valid, X_test, y_train, y_valid, y_test = load_small_validation_dataframe(uid)\n",
    "    \n",
    "#     sna_clf = load_model_small(uid, 'svc')\n",
    "#     y_true, y_pred = y_test, sna_clf.predict(X_test)\n",
    "#     test_f1s['sna'][uid] = f1_score(y_true, y_pred)\n",
    "    \n",
    "#     X_train_lda, X_valid_lda, X_test_lda, y_train, y_valid, y_test = load_lda_dataset(uid, n_topics=100)\n",
    "\n",
    "#     X_train_combined = sp.hstack((X_train, X_train_lda))\n",
    "#     X_valid_combined = sp.hstack((X_valid, X_valid_lda))\n",
    "#     X_test_combined = sp.hstack((X_test, X_test_lda))\n",
    "\n",
    "#     scaler = StandardScaler() \n",
    "#     X = np.concatenate((X_train_combined.todense(), X_valid_combined.todense()))\n",
    "#     scaler.fit(X)\n",
    "\n",
    "#     X_train_combined = scaler.transform(X_train_combined.todense())\n",
    "#     X_valid_combined = scaler.transform(X_valid_combined.todense())\n",
    "#     X_test_combined = scaler.transform(X_test_combined.todense())\n",
    "\n",
    "#     try:\n",
    "#         comb_clf = load_model_small(uid, 'svc', 'comb', n_topics=100)\n",
    "#         y_true, y_pred = y_test, comb_clf.predict(X_test_combined)\n",
    "#         test_f1s['lda100'][uid] = f1_score(y_true, y_pred)\n",
    "#     except Exception as e:\n",
    "#         pass\n",
    "\n",
    "#     for n_topics in [10, 15, 25]:\n",
    "#     for n_topics in [10]:\n",
    "#         X_train_lda, X_valid_lda, X_test_lda, y_train, y_valid, y_test = load_lda_dataset(uid, n_topics=n_topics, twitter=True)\n",
    "\n",
    "#         X_train_combined = sp.hstack((X_train, X_train_lda))\n",
    "#         X_valid_combined = sp.hstack((X_valid, X_valid_lda))\n",
    "#         X_test_combined = sp.hstack((X_test, X_test_lda))\n",
    "\n",
    "#         scaler = StandardScaler() \n",
    "#         X = np.concatenate((X_train_combined.todense(), X_valid_combined.todense()))\n",
    "#         scaler.fit(X)\n",
    "\n",
    "#         X_train_combined = scaler.transform(X_train_combined.todense())\n",
    "#         X_valid_combined = scaler.transform(X_valid_combined.todense())\n",
    "#         X_test_combined = scaler.transform(X_test_combined.todense())\n",
    "\n",
    "#         try:\n",
    "#             comb_clf = load_model_small(uid, 'svc', 'combtwlda', n_topics=n_topics)\n",
    "#             y_true, y_pred = y_test, comb_clf.predict(X_test_combined)\n",
    "#             test_f1s['twlda%d' % n_topics][uid] = f1_score(y_true, y_pred)\n",
    "#         except Exception as e:\n",
    "#             pass\n",
    "\n",
    "    for n_topics in [10]:\n",
    "        X_train_lda, X_valid_lda, X_test_lda, y_train, y_valid, y_test = load_lda_dataset(uid, n_topics=n_topics, twitter=True)\n",
    "\n",
    "        X_train_combined = sp.hstack((X_train, X_train_lda))\n",
    "        X_valid_combined = sp.hstack((X_valid, X_valid_lda))\n",
    "        X_test_combined = sp.hstack((X_test, X_test_lda))\n",
    "\n",
    "        scaler = StandardScaler() \n",
    "        X = np.concatenate((X_train_combined.todense(), X_valid_combined.todense()))\n",
    "        scaler.fit(X)\n",
    "\n",
    "        X_train_combined = scaler.transform(X_train_combined.todense())\n",
    "        X_valid_combined = scaler.transform(X_valid_combined.todense())\n",
    "        X_test_combined = scaler.transform(X_test_combined.todense())\n",
    "\n",
    "        try:\n",
    "            comb_clf = load_model_small(uid, 'svc', 'combtwlda_unscaled', n_topics=n_topics)\n",
    "            y_true, y_pred = y_test, comb_clf.predict(X_test_combined)\n",
    "            test_f1s['twlda_unscaled%d' % n_topics][uid] = f1_score(y_true, y_pred)\n",
    "        except Exception as e:\n",
    "            pass"
   ]
  },
  {
   "cell_type": "code",
   "execution_count": 2,
   "metadata": {
    "collapsed": true
   },
   "outputs": [],
   "source": [
    "import json"
   ]
  },
  {
   "cell_type": "code",
   "execution_count": 87,
   "metadata": {
    "collapsed": true,
    "deletable": true,
    "editable": true
   },
   "outputs": [],
   "source": [
    "with open('test_f1s','w') as f:\n",
    "    json.dump(test_f1s, f)"
   ]
  },
  {
   "cell_type": "code",
   "execution_count": 4,
   "metadata": {
    "collapsed": false,
    "deletable": true,
    "editable": true
   },
   "outputs": [],
   "source": [
    "with open('test_f1s') as f:\n",
    "    test_f1s = json.load(f)"
   ]
  },
  {
   "cell_type": "code",
   "execution_count": 5,
   "metadata": {
    "collapsed": true,
    "deletable": true,
    "editable": true
   },
   "outputs": [],
   "source": [
    "import matplotlib.pyplot as plt\n",
    "%matplotlib inline"
   ]
  },
  {
   "cell_type": "code",
   "execution_count": 11,
   "metadata": {
    "collapsed": false,
    "deletable": true,
    "editable": true
   },
   "outputs": [
    {
     "data": {
      "text/plain": [
       "[<matplotlib.lines.Line2D at 0x7f4e71836c50>,\n",
       " <matplotlib.lines.Line2D at 0x7f4e71836ed0>]"
      ]
     },
     "execution_count": 11,
     "metadata": {},
     "output_type": "execute_result"
    },
    {
     "data": {
      "image/png": "[encoded data removed]",
      "text/plain": [
       "<matplotlib.figure.Figure at 0x7f4e71a35d10>"
      ]
     },
     "metadata": {},
     "output_type": "display_data"
    }
   ],
   "source": [
    "sorted_uids = [u for u, f in sorted(test_f1s['sna'].items(), key=lambda x:x[1])]\n",
    "indices = range(len(sorted_uids))\n",
    "plot_data = [\n",
    "    indices, [test_f1s['sna'][sorted_uids[i]] for i in indices], 'ro',\n",
    "#     indices, [test_f1s['lda100'][sorted_uids[i]] for i in indices], 'go',\n",
    "#     indices, [test_f1s['twlda25'][sorted_uids[i]] for i in indices], 'bo',\n",
    "    indices, [test_f1s['twlda15'][sorted_uids[i]] for i in indices], 'yo',\n",
    "#     indices, [test_f1s['twlda10'][sorted_uids[i]] for i in indices], 'co',\n",
    "#     indices, [test_f1s['twlda_unscaled10'][sorted_uids[i]] for i in indices], 'mo',\n",
    "]\n",
    "plt.plot(*plot_data)"
   ]
  },
  {
   "cell_type": "code",
   "execution_count": 93,
   "metadata": {
    "collapsed": false,
    "deletable": true,
    "editable": true
   },
   "outputs": [
    {
     "data": {
      "text/plain": [
       "0.62821379072594219"
      ]
     },
     "execution_count": 93,
     "metadata": {},
     "output_type": "execute_result"
    }
   ],
   "source": [
    "np.mean(test_f1s['twlda25'].values())"
   ]
  },
  {
   "cell_type": "code",
   "execution_count": 91,
   "metadata": {
    "collapsed": false,
    "deletable": true,
    "editable": true
   },
   "outputs": [
    {
     "data": {
      "text/plain": [
       "0.66514574927401637"
      ]
     },
     "execution_count": 91,
     "metadata": {},
     "output_type": "execute_result"
    }
   ],
   "source": [
    "np.mean(test_f1s['twlda15'].values())"
   ]
  },
  {
   "cell_type": "code",
   "execution_count": 92,
   "metadata": {
    "collapsed": false,
    "deletable": true,
    "editable": true
   },
   "outputs": [
    {
     "data": {
      "text/plain": [
       "0.66256647189410545"
      ]
     },
     "execution_count": 92,
     "metadata": {},
     "output_type": "execute_result"
    }
   ],
   "source": [
    "np.mean(test_f1s['twlda10'].values())"
   ]
  },
  {
   "cell_type": "code",
   "execution_count": null,
   "metadata": {
    "collapsed": true,
    "deletable": true,
    "editable": true
   },
   "outputs": [],
   "source": []
  }
 ],
 "metadata": {
  "kernelspec": {
   "display_name": "Python 2",
   "language": "python",
   "name": "python2"
  },
  "language_info": {
   "codemirror_mode": {
    "name": "ipython",
    "version": 2
   },
   "file_extension": ".py",
   "mimetype": "text/x-python",
   "name": "python",
   "nbconvert_exporter": "python",
   "pygments_lexer": "ipython2",
   "version": "2.7.12"
  }
 },
 "nbformat": 4,
 "nbformat_minor": 2
}
