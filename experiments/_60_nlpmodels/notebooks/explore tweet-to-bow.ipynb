{
 "cells": [
  {
   "cell_type": "code",
   "execution_count": 1,
   "metadata": {
    "collapsed": true
   },
   "outputs": [],
   "source": [
    "# input\n",
    "n_topics = 10"
   ]
  },
  {
   "cell_type": "code",
   "execution_count": 2,
   "metadata": {
    "collapsed": true
   },
   "outputs": [],
   "source": [
    "import warnings\n",
    "warnings.filterwarnings(\"ignore\", category=DeprecationWarning) \n",
    "# fixes weird issue with pyLDAvis (?) warnings\n",
    "\n",
    "import pandas as pd\n",
    "import numpy as np\n",
    "import pickle\n",
    "import operator\n",
    "import re\n",
    "import gc\n",
    "import gensim\n",
    "# from gensim.similarities import WmdSimilarity\n",
    "\n",
    "import pyLDAvis\n",
    "import pyLDAvis.gensim\n",
    "\n",
    "# wtf\n",
    "warnings.filterwarnings(\"ignore\", category=DeprecationWarning)\n",
    "\n",
    "import logging\n",
    "logging.basicConfig(format='%(asctime)s : %(levelname)s : %(message)s', level=logging.INFO)\n",
    "\n",
    "import matplotlib\n",
    "import matplotlib.pyplot as plt\n",
    "%matplotlib inline\n",
    "\n",
    "# from tw_dataset.dbmodels import *\n",
    "from random import sample\n",
    "import json"
   ]
  },
  {
   "cell_type": "code",
   "execution_count": 4,
   "metadata": {
    "collapsed": false
   },
   "outputs": [
    {
     "name": "stdout",
     "output_type": "stream",
     "text": [
      "Switching to API Credentials #7\n"
     ]
    }
   ],
   "source": [
    "from tw_dataset.dbmodels import *"
   ]
  },
  {
   "cell_type": "code",
   "execution_count": 5,
   "metadata": {
    "collapsed": false
   },
   "outputs": [],
   "source": [
    "s = open_session()\n",
    "all_tweets_es = [t for t in s.query(Tweet).all() if t.lang == 'es']\n",
    "all_tweets_text_es = [t.text for t in all_tweets_es]\n",
    "all_tweets_es_ids = [t.id for t in all_tweets_es]\n"
   ]
  },
  {
   "cell_type": "code",
   "execution_count": 6,
   "metadata": {
    "collapsed": false
   },
   "outputs": [
    {
     "data": {
      "text/plain": [
       "109040"
      ]
     },
     "execution_count": 6,
     "metadata": {},
     "output_type": "execute_result"
    }
   ],
   "source": [
    "len(all_tweets_text_es)    "
   ]
  },
  {
   "cell_type": "code",
   "execution_count": 7,
   "metadata": {
    "collapsed": true
   },
   "outputs": [],
   "source": [
    "tweets = all_tweets_text_es"
   ]
  },
  {
   "cell_type": "markdown",
   "metadata": {},
   "source": [
    "# OK, let's finally do some topic modelling"
   ]
  },
  {
   "cell_type": "code",
   "execution_count": 8,
   "metadata": {
    "collapsed": false
   },
   "outputs": [],
   "source": [
    "dictionary = gensim.corpora.Dictionary.load(\"../tweets_es.dict\")\n",
    "\n",
    "with open('../tweets_es_bow.pickle', 'rb') as f:\n",
    "    bow = pickle.load(f)"
   ]
  },
  {
   "cell_type": "code",
   "execution_count": 14,
   "metadata": {
    "collapsed": false
   },
   "outputs": [
    {
     "data": {
      "text/plain": [
       "[(0, u'moreauleopold'),\n",
       " (1, u'nachnop_mjoliv'),\n",
       " (2, u'lacocinadlmied'),\n",
       " (3, u'insolit'),\n",
       " (4, u'acusticazonacional'),\n",
       " (5, u'audienci_public'),\n",
       " (6, u'ciudadel'),\n",
       " (7, u'indignacion'),\n",
       " (8, u'hector_daer'),\n",
       " (9, u'hermand')]"
      ]
     },
     "execution_count": 14,
     "metadata": {},
     "output_type": "execute_result"
    }
   ],
   "source": [
    "dictionary.items()[:10]"
   ]
  },
  {
   "cell_type": "code",
   "execution_count": 6,
   "metadata": {
    "collapsed": false
   },
   "outputs": [
    {
     "name": "stdout",
     "output_type": "stream",
     "text": [
      "0: moreauleopold\n",
      "1: nachnop_mjoliv\n",
      "2: lacocinadlmied\n",
      "3: insolit\n",
      "4: acusticazonacional\n",
      "5: audienci_public\n",
      "6: ciudadel\n",
      "7: indignacion\n",
      "8: hector_daer\n",
      "9: hermand\n",
      "10: caus_inund\n",
      "11: canel\n",
      "12: soni_aless\n",
      "13: gmilm\n",
      "14: tom_decision\n",
      "15: convocatori_evalu\n",
      "16: medicament\n",
      "17: monsenor\n",
      "18: elgaf\n",
      "19: elrastaok\n"
     ]
    }
   ],
   "source": [
    "for i, t in dictionary.items()[:20]:\n",
    "    print \"%d: %s\" % (i, t)"
   ]
  },
  {
   "cell_type": "code",
   "execution_count": 16,
   "metadata": {
    "collapsed": true
   },
   "outputs": [],
   "source": [
    "phrases = [x for x in dictionary.items() if '_' in x[1]]"
   ]
  },
  {
   "cell_type": "code",
   "execution_count": 19,
   "metadata": {
    "collapsed": false
   },
   "outputs": [
    {
     "data": {
      "text/plain": [
       "[(1, u'nachnop_mjoliv'),\n",
       " (5, u'audienci_public'),\n",
       " (8, u'hector_daer'),\n",
       " (10, u'caus_inund'),\n",
       " (12, u'soni_aless'),\n",
       " (14, u'tom_decision'),\n",
       " (15, u'convocatori_evalu'),\n",
       " (32, u'cicl_cin'),\n",
       " (55, u'ministr_segur'),\n",
       " (57, u'inici_juici'),\n",
       " (59, u'mendoz_efect'),\n",
       " (70, u'nin_nin'),\n",
       " (72, u'millon_judi'),\n",
       " (74, u'indi_solari'),\n",
       " (81, u'mastardeimp_\\xa1quedat'),\n",
       " (82, u'conden_anos'),\n",
       " (85, u'si_cres'),\n",
       " (102, u'menor_anos'),\n",
       " (107, u'reflexion_caus'),\n",
       " (115, u'curr_ddhh'),\n",
       " (121, u'dan_clas'),\n",
       " (152, u'habi_hech'),\n",
       " (163, u'estamosd_radi'),\n",
       " (164, u'daniel_scioli'),\n",
       " (168, u'desp_indec'),\n",
       " (170, u'pagin_web'),\n",
       " (172, u'martintetaz_alfiemart'),\n",
       " (173, u'twets_retwitt'),\n",
       " (180, u'canciller_mercosur'),\n",
       " (182, u'via_agenciaelvigi'),\n",
       " (184, u'hij_hij'),\n",
       " (189, u'hac_rat'),\n",
       " (190, u'ex_pte'),\n",
       " (192, u'cn_navarroencn'),\n",
       " (194, u'gast_plat'),\n",
       " (208, u'\\xbfpod_ayud'),\n",
       " (210, u'vill_urquiz'),\n",
       " (221, u'represion_policial'),\n",
       " (222, u'felic_pascu'),\n",
       " (232, u'litr_agu'),\n",
       " (233, u'acto_homenaj'),\n",
       " (238, u'intent_desesper'),\n",
       " (241, u'jos_luis'),\n",
       " (248, u'segund_tiemp'),\n",
       " (251, u'dirigent_capaz'),\n",
       " (256, u'empresari_favorit'),\n",
       " (258, u'maquin_romp'),\n",
       " (259, u'chuck_berry'),\n",
       " (261, u'silvi_sold'),\n",
       " (262, u'ahor_juezari')]"
      ]
     },
     "execution_count": 19,
     "metadata": {},
     "output_type": "execute_result"
    }
   ],
   "source": [
    "phrases[:50]"
   ]
  },
  {
   "cell_type": "code",
   "execution_count": 9,
   "metadata": {
    "collapsed": true
   },
   "outputs": [],
   "source": [
    "tweets_rp_inds = [i for i, x in enumerate(bow) if 221 in [ind for (ind,c) in x]]"
   ]
  },
  {
   "cell_type": "code",
   "execution_count": 10,
   "metadata": {
    "collapsed": true
   },
   "outputs": [],
   "source": [
    "tweets_rp = [(i, all_tweets_text_es[i]) for i in tweets_rp_inds]"
   ]
  },
  {
   "cell_type": "code",
   "execution_count": 11,
   "metadata": {
    "collapsed": false
   },
   "outputs": [
    {
     "data": {
      "text/plain": [
       "[(2326,\n",
       "  u'Investigar\\xe1n la represi\\xf3n policial del 8M. @MPFCABA @FiscalesGobAr #NiunaMenos #Vivasnosqueremos\\u2026 https://t.co/AX20NkveUw'),\n",
       " (17152,\n",
       "  u'URGENTE: Fuerte represi\\xf3n policial en La Boca ante una protesta de vecinos. (\\U0001f4f9: @diariofuturo) https://t.co/Qgv9w2UAbQ'),\n",
       " (17155,\n",
       "  u'La Coordinadora contra la Represi\\xf3n Policial e Institucional confirma la muerte de una vecina de La Boca. https://t.co/poXpCXoOEM'),\n",
       " (17203,\n",
       "  u'Represi\\xf3n policial en Bs. AS. La Boca sitiada. Esta noche. Hay heridos graves. Difundir. Contacto. Luciano: 1163972\\u2026 https://t.co/T0HyDPQ6Dp'),\n",
       " (17647,\n",
       "  u'La Boca: una mujer muerta y represi\\xf3n policial https://t.co/TUPV86xPst https://t.co/6M9vDThX8H'),\n",
       " (19865,\n",
       "  u'La PutySe\\xf1al una APP contra la violencia institucional, para bajarla en el celular y frenar la represi\\xf3n policial. https://t.co/sJxmSVBXaK'),\n",
       " (21048,\n",
       "  u'[IMPACTANTE] Represi\\xf3n policial en Ministerio de trabajo a empleados de Call Center Task Solution (Telecom) C\\xf3rdoba\\u2026 https://t.co/Qa6z07Qkhh'),\n",
       " (35203,\n",
       "  u'Seamos los ojos de lo que quieren ocultar! Basta de represi\\xf3n policial! https://t.co/CVmPr0fjlI'),\n",
       " (48874,\n",
       "  u'Denuncian represi\\xf3n policial con balas de goma y gas pimienta en el comedor Los Cartoneritos de Lan\\xfas. https://t.co/q3ZiLqwJNq'),\n",
       " (48906,\n",
       "  u'#AHORA Represi\\xf3n policial en un merendero de #Lan\\xfas, perteneciente al Movimiento de Trabajadores Excluidos (MTE). P\\u2026 https://t.co/NLFxEgQjqT'),\n",
       " (48994,\n",
       "  u'Queremos un r\\xe1pido esclarecimiento de la represi\\xf3n policial en el comedor de Villa Diamante #Lanus'),\n",
       " (49016,\n",
       "  u'#URGENTE  Lanus. Villa Caraza. \\nRepresi\\xf3n policial en el merendero \"Cartoneritos\". Hay lastimados y detenidos.    https://t.co/5xzRqzJ75v'),\n",
       " (49102,\n",
       "  u'Denuncian represi\\xf3n policial con gas pimienta en merendero \\u201cCartoneritos\\u201d, de Villa Caraza, Lan\\xfas. Hay ni\\xf1os y j\\xf3ve\\u2026 https://t.co/U2FP4vQKBn'),\n",
       " (49231,\n",
       "  u'Cocinera del comedor \\u201cCartoneritos\\u201d de Villa Caraza, relata como fue la represi\\xf3n policial: https://t.co/j2Ao2A5Qis v\\xeda @YouTube'),\n",
       " (49778,\n",
       "  u'Lan\\xfas: denuncian represi\\xf3n policial en un operativo. #ElNotiDeLaMa\\xf1ana https://t.co/FAfFMLmXHR'),\n",
       " (51492,\n",
       "  u'Denuncian represi\\xf3n policial con balas de goma y gas pimienta en el comedor Los Cartoneritos de Lan\\xfas. https://t.co/CjPt1KkfgC'),\n",
       " (52604,\n",
       "  u'Preocupaci\\xf3n de Amnist\\xeda Internacional ante la represi\\xf3n policial en el comedor popular https://t.co/jXlMwYPJMb'),\n",
       " (68106,\n",
       "  u'Una multitud record\\xf3 a Carlos Fuentealba a 10 a\\xf1os de la represi\\xf3n policial. https://t.co/84UXLE7QQL https://t.co/bAXIs0RfnO'),\n",
       " (70090,\n",
       "  u'Grave: perdi\\xf3 su embarazo despu\\xe9s de una represi\\xf3n policial en Lan\\xfas https://t.co/fJdKc7z1ni'),\n",
       " (70135,\n",
       "  u'Denuncian que cocinera del comedor de Lan\\xfas perdi\\xf3 su embarazo debido a represi\\xf3n policial https://t.co/fJdKc7z1ni'),\n",
       " (70258,\n",
       "  u'una embarazada perdi\\xf3 su pibe por una represi\\xf3n policial en un comedor comunitario, se dimensiona o se van a seguir haciendo los pelotudos?'),\n",
       " (70431,\n",
       "  u'#Urgente: El MTE informa que la cocinera del comedor Laura Zaracho perdio su embarazo como consecuencia de la represi\\xf3n policial.'),\n",
       " (73307,\n",
       "  u'V\\xedctima de la represi\\xf3n policial, una mujer del comedor en Lan\\xfas perdi\\xf3 a su beb\\xe9 https://t.co/FZQlMXdD0p https://t.co/uortV6yq1b'),\n",
       " (75943,\n",
       "  u'Denuncian que cocinera del comedor de Lan\\xfas perdi\\xf3 su embarazo debido a represi\\xf3n policial https://t.co/5Mh8FpFmy7'),\n",
       " (85490,\n",
       "  u'#AHORA Tensi\\xf3n: #docentes denuncian #represi\\xf3n policial mientras instalaban la #CarpaBlanca en el #Congreso \\u27a1\\ufe0f\\xa0\\u2026 https://t.co/3BRKeHjaTg'),\n",
       " (85496,\n",
       "  u'#AHORA Tano Catalano de @ATECapitalOk en Congreso. Represi\\xf3n policial a docentes. #ParitariasDocentesYa https://t.co/z98Sba0KNc'),\n",
       " (85548,\n",
       "  u'Los docentes resisten pac\\xedficamente en la Plaza del Congreso frente a la represi\\xf3n policial y el intento de desaloj\\u2026 https://t.co/PcqKRY1FPx'),\n",
       " (85647,\n",
       "  u'Prohibici\\xf3n de protesta, detenciones, gas pimienta, represi\\xf3n. \\nEl Estado policial de Macri contra los docentes. \\nA\\u2026 https://t.co/Pcg1IrsV5U'),\n",
       " (85685,\n",
       "  u'Minutos antes de la represi\\xf3n policial. Sin caras tapadas, sin cortar calles ni nada. Simplemente educadores manife\\u2026 https://t.co/u0pN6WQq19'),\n",
       " (85831,\n",
       "  u'Retweeted Hamartia (@RevistaHamartia):\\n\\n#AHORA Tano Catalano de @ATECapitalOk en Congreso. Represi\\xf3n policial a... https://t.co/L6QmVwqWGd'),\n",
       " (86033,\n",
       "  u'Mi m\\xe1s en\\xe9rgico repudio a la represi\\xf3n policial contra los docentes que instalaban una escuela itinerante frente al\\u2026 https://t.co/e3N5jcM0UW'),\n",
       " (87298,\n",
       "  u'Fuerte rechazo por la represi\\xf3n policial a docentes que instalaban una escuela p\\xfablica frente al Congreso:\\n\\n\\u25ba\\u2026 https://t.co/srwfHhUVuS'),\n",
       " (90172,\n",
       "  u'#HaceInstantes Abrazo al Congreso organizado por gremios docentes despu\\xe9s de la represi\\xf3n policial de ayer. https://t.co/ToyertpI70'),\n",
       " (91163,\n",
       "  u'Fuerte testimonio de docente frente a las fuerzas policiales (video): \\nDurante la represi\\xf3n policial del pasado... https://t.co/rIWCym8suD'),\n",
       " (102616,\n",
       "  u'. @AngelMosquito dibuj\\xf3 a los docentes, que sufrieron la represi\\xf3n policial esta semana por defender su trabajo.\\u2026 https://t.co/Y1gYBNBIzx')]"
      ]
     },
     "execution_count": 11,
     "metadata": {},
     "output_type": "execute_result"
    }
   ],
   "source": [
    "tweets_rp[:50]"
   ]
  },
  {
   "cell_type": "code",
   "execution_count": 12,
   "metadata": {
    "collapsed": false
   },
   "outputs": [],
   "source": [
    "tweet =  all_tweets_text_es[75943]"
   ]
  },
  {
   "cell_type": "code",
   "execution_count": 13,
   "metadata": {
    "collapsed": false
   },
   "outputs": [
    {
     "name": "stdout",
     "output_type": "stream",
     "text": [
      "Denuncian que cocinera del comedor de Lanús perdió su embarazo debido a represión policial https://t.co/5Mh8FpFmy7\n"
     ]
    }
   ],
   "source": [
    "print tweet"
   ]
  },
  {
   "cell_type": "code",
   "execution_count": null,
   "metadata": {
    "collapsed": true
   },
   "outputs": [],
   "source": []
  },
  {
   "cell_type": "code",
   "execution_count": 7,
   "metadata": {
    "collapsed": false
   },
   "outputs": [
    {
     "name": "stdout",
     "output_type": "stream",
     "text": [
      "[u'represion_policial', u'cociner_comedor', u'denunci', u'deb', u'perdi_embaraz', u'lanus']\n"
     ]
    }
   ],
   "source": [
    "print [dictionary[i] for (i,c) in bow[75943]]"
   ]
  },
  {
   "cell_type": "code",
   "execution_count": 8,
   "metadata": {
    "collapsed": false
   },
   "outputs": [
    {
     "data": {
      "text/plain": [
       "[(221, 1), (4789, 1), (6205, 1), (10694, 1), (12627, 1), (22029, 1)]"
      ]
     },
     "execution_count": 8,
     "metadata": {},
     "output_type": "execute_result"
    }
   ],
   "source": [
    "bow[75943]"
   ]
  },
  {
   "cell_type": "code",
   "execution_count": 14,
   "metadata": {
    "collapsed": true
   },
   "outputs": [],
   "source": [
    "ind = 90172\n",
    "tweet = all_tweets_text_es[ind]"
   ]
  },
  {
   "cell_type": "code",
   "execution_count": 15,
   "metadata": {
    "collapsed": false
   },
   "outputs": [
    {
     "name": "stdout",
     "output_type": "stream",
     "text": [
      "#HaceInstantes Abrazo al Congreso organizado por gremios docentes después de la represión policial de ayer. https://t.co/ToyertpI70\n"
     ]
    }
   ],
   "source": [
    "print tweet"
   ]
  },
  {
   "cell_type": "code",
   "execution_count": null,
   "metadata": {
    "collapsed": true
   },
   "outputs": [],
   "source": []
  },
  {
   "cell_type": "code",
   "execution_count": 13,
   "metadata": {
    "collapsed": false
   },
   "outputs": [
    {
     "name": "stdout",
     "output_type": "stream",
     "text": [
      "[u'represion_policial', u'gremi_docent', u'ayer', u'organiz', u'abraz_congres', u'despu']\n"
     ]
    }
   ],
   "source": [
    "print [dictionary[i] for (i,c) in bow[ind]]"
   ]
  },
  {
   "cell_type": "code",
   "execution_count": 14,
   "metadata": {
    "collapsed": false
   },
   "outputs": [
    {
     "name": "stdout",
     "output_type": "stream",
     "text": [
      "[(221, 1), (1176, 1), (3055, 1), (6257, 1), (14203, 1), (25141, 1)]\n"
     ]
    }
   ],
   "source": [
    "print bow[ind]"
   ]
  },
  {
   "cell_type": "code",
   "execution_count": 40,
   "metadata": {
    "collapsed": true
   },
   "outputs": [],
   "source": [
    "ind = 70431"
   ]
  },
  {
   "cell_type": "code",
   "execution_count": 41,
   "metadata": {
    "collapsed": false
   },
   "outputs": [
    {
     "name": "stdout",
     "output_type": "stream",
     "text": [
      "#Urgente: El MTE informa que la cocinera del comedor Laura Zaracho perdio su embarazo como consecuencia de la represión policial.\n"
     ]
    }
   ],
   "source": [
    "print all_tweets_text_es[ind]"
   ]
  },
  {
   "cell_type": "code",
   "execution_count": 42,
   "metadata": {
    "collapsed": false
   },
   "outputs": [
    {
     "data": {
      "text/plain": [
       "[u'represion_policial',\n",
       " u'cociner_comedor',\n",
       " u'inform',\n",
       " u'laur_zarach',\n",
       " u'perdi_embaraz',\n",
       " u'consecuent',\n",
       " u'mte',\n",
       " u'urgent']"
      ]
     },
     "execution_count": 42,
     "metadata": {},
     "output_type": "execute_result"
    }
   ],
   "source": [
    "[dictionary[i] for (i,c) in bow[ind]]"
   ]
  },
  {
   "cell_type": "code",
   "execution_count": null,
   "metadata": {
    "collapsed": true
   },
   "outputs": [],
   "source": [
    "trigram[tokenize(preprocess(tweet), remove_stopwords=True, stem=True)]"
   ]
  },
  {
   "cell_type": "code",
   "execution_count": 24,
   "metadata": {
    "collapsed": false
   },
   "outputs": [
    {
     "data": {
      "text/plain": [
       "[2326,\n",
       " 17152,\n",
       " 17155,\n",
       " 17203,\n",
       " 17647,\n",
       " 19865,\n",
       " 21048,\n",
       " 35203,\n",
       " 48874,\n",
       " 48906,\n",
       " 48994,\n",
       " 49016,\n",
       " 49102,\n",
       " 49231,\n",
       " 49778,\n",
       " 51492,\n",
       " 52604,\n",
       " 68106,\n",
       " 70090,\n",
       " 70135,\n",
       " 70258,\n",
       " 70431,\n",
       " 73307,\n",
       " 75943,\n",
       " 85490,\n",
       " 85496,\n",
       " 85548,\n",
       " 85647,\n",
       " 85685,\n",
       " 85831,\n",
       " 86033,\n",
       " 87298,\n",
       " 90172,\n",
       " 91163,\n",
       " 102616]"
      ]
     },
     "execution_count": 24,
     "metadata": {},
     "output_type": "execute_result"
    }
   ],
   "source": [
    "tweets_rp_inds"
   ]
  },
  {
   "cell_type": "code",
   "execution_count": 22,
   "metadata": {
    "collapsed": false
   },
   "outputs": [
    {
     "data": {
      "text/plain": [
       "[[(221, 1), (16799, 1), (19559, 1), (24794, 1), (25649, 1)],\n",
       " [(33, 1), (221, 1), (3708, 1), (9755, 1), (21124, 1), (22308, 1)],\n",
       " [(221, 1), (3121, 1), (3741, 1), (7321, 1), (7847, 1), (17122, 1)],\n",
       " [(221, 1),\n",
       "  (3708, 1),\n",
       "  (4790, 1),\n",
       "  (6741, 1),\n",
       "  (8576, 1),\n",
       "  (8946, 1),\n",
       "  (13819, 1),\n",
       "  (15026, 1),\n",
       "  (16153, 1),\n",
       "  (17053, 1)],\n",
       " [(221, 1), (3708, 1), (5131, 1), (7321, 1)],\n",
       " [(221, 1), (5333, 1), (12201, 1), (22558, 1), (23056, 1), (24691, 1)],\n",
       " [(221, 1),\n",
       "  (4383, 1),\n",
       "  (6610, 1),\n",
       "  (7510, 1),\n",
       "  (10229, 1),\n",
       "  (12490, 1),\n",
       "  (19741, 1),\n",
       "  (22287, 1),\n",
       "  (23905, 1)],\n",
       " [(221, 1), (2468, 1), (5552, 1), (12594, 1), (23915, 1)],\n",
       " [(221, 1), (6205, 1), (10850, 1), (13493, 1), (22029, 1), (23091, 1)],\n",
       " [(221, 1),\n",
       "  (3785, 1),\n",
       "  (7555, 1),\n",
       "  (7704, 1),\n",
       "  (10525, 1),\n",
       "  (13084, 1),\n",
       "  (20719, 1),\n",
       "  (20910, 1),\n",
       "  (21523, 1)],\n",
       " [(221, 1),\n",
       "  (2652, 1),\n",
       "  (6026, 1),\n",
       "  (17195, 1),\n",
       "  (19174, 1),\n",
       "  (22029, 1),\n",
       "  (23584, 1),\n",
       "  (24736, 1)],\n",
       " [(221, 1),\n",
       "  (2082, 1),\n",
       "  (11313, 1),\n",
       "  (12269, 1),\n",
       "  (22029, 1),\n",
       "  (22241, 1),\n",
       "  (22308, 1)],\n",
       " [(221, 1),\n",
       "  (3534, 1),\n",
       "  (4674, 1),\n",
       "  (6205, 1),\n",
       "  (10850, 1),\n",
       "  (12269, 1),\n",
       "  (22029, 1),\n",
       "  (24680, 1)],\n",
       " [(221, 1), (3534, 1), (4789, 1), (6558, 1), (12269, 1), (19034, 1)],\n",
       " [(221, 1), (4307, 1), (6205, 1), (13564, 1), (22029, 1)],\n",
       " [(221, 1), (6205, 1), (10850, 1), (13493, 1), (22029, 1), (23091, 1)],\n",
       " [(221, 1), (10117, 1), (17423, 1), (22606, 1), (23584, 1)],\n",
       " [(221, 1), (6289, 1), (9142, 1), (9225, 1), (13026, 1)],\n",
       " [(221, 1), (12627, 1), (16153, 1), (22029, 1), (25141, 1)],\n",
       " [(221, 1), (4789, 1), (6205, 1), (10694, 1), (12627, 1), (22029, 1)],\n",
       " [(221, 1),\n",
       "  (318, 1),\n",
       "  (714, 1),\n",
       "  (6272, 1),\n",
       "  (19576, 1),\n",
       "  (21065, 1),\n",
       "  (21674, 1),\n",
       "  (23243, 1),\n",
       "  (23584, 1),\n",
       "  (24524, 1),\n",
       "  (26113, 1)],\n",
       " [(221, 1),\n",
       "  (4789, 1),\n",
       "  (5409, 1),\n",
       "  (6667, 1),\n",
       "  (12627, 1),\n",
       "  (14840, 1),\n",
       "  (21523, 1),\n",
       "  (22308, 1)],\n",
       " [(221, 1), (5131, 1), (8426, 1), (9862, 1), (21459, 1)],\n",
       " [(221, 1), (4789, 1), (6205, 1), (10694, 1), (12627, 1), (22029, 1)],\n",
       " [(221, 1),\n",
       "  (3280, 1),\n",
       "  (6205, 1),\n",
       "  (7001, 1),\n",
       "  (7555, 1),\n",
       "  (10080, 1),\n",
       "  (22794, 1),\n",
       "  (24277, 1)],\n",
       " [(221, 1),\n",
       "  (3280, 1),\n",
       "  (7555, 1),\n",
       "  (8900, 1),\n",
       "  (10080, 1),\n",
       "  (25675, 1),\n",
       "  (26195, 1)],\n",
       " [(221, 1),\n",
       "  (418, 1),\n",
       "  (2481, 1),\n",
       "  (3280, 1),\n",
       "  (11668, 1),\n",
       "  (14426, 1),\n",
       "  (20409, 1)],\n",
       " [(221, 1),\n",
       "  (3280, 1),\n",
       "  (8884, 1),\n",
       "  (9755, 1),\n",
       "  (10850, 1),\n",
       "  (15854, 1),\n",
       "  (17071, 1),\n",
       "  (19322, 1)],\n",
       " [(221, 1), (7125, 1), (14901, 1), (20661, 1), (22771, 1), (24810, 1)],\n",
       " [(221, 1),\n",
       "  (2840, 1),\n",
       "  (7555, 1),\n",
       "  (8900, 1),\n",
       "  (10080, 1),\n",
       "  (21219, 1),\n",
       "  (21717, 1),\n",
       "  (25675, 1),\n",
       "  (26195, 1)],\n",
       " [(221, 1),\n",
       "  (3524, 1),\n",
       "  (5060, 1),\n",
       "  (14426, 1),\n",
       "  (16854, 1),\n",
       "  (17211, 1),\n",
       "  (19832, 1)],\n",
       " [(33, 1), (221, 1), (4627, 1), (5060, 1), (7483, 1), (13484, 1), (16229, 1)],\n",
       " [(221, 1), (1176, 1), (3055, 1), (6257, 1), (14203, 1), (25141, 1)],\n",
       " [(33, 1),\n",
       "  (221, 1),\n",
       "  (3280, 1),\n",
       "  (3882, 1),\n",
       "  (10706, 1),\n",
       "  (14426, 1),\n",
       "  (16251, 1),\n",
       "  (21911, 1)],\n",
       " [(221, 1),\n",
       "  (3280, 1),\n",
       "  (11177, 1),\n",
       "  (12341, 1),\n",
       "  (16244, 1),\n",
       "  (20910, 1),\n",
       "  (23544, 1)]]"
      ]
     },
     "execution_count": 22,
     "metadata": {},
     "output_type": "execute_result"
    }
   ],
   "source": [
    "tweets_rp"
   ]
  },
  {
   "cell_type": "code",
   "execution_count": 13,
   "metadata": {
    "collapsed": false
   },
   "outputs": [
    {
     "data": {
      "text/plain": [
       "u'monsenor'"
      ]
     },
     "execution_count": 13,
     "metadata": {},
     "output_type": "execute_result"
    }
   ],
   "source": [
    "dictionary[17]"
   ]
  },
  {
   "cell_type": "code",
   "execution_count": 9,
   "metadata": {
    "collapsed": false
   },
   "outputs": [
    {
     "data": {
      "text/plain": [
       "[]"
      ]
     },
     "execution_count": 9,
     "metadata": {},
     "output_type": "execute_result"
    }
   ],
   "source": [
    "dictionary.id2token.items()[:10]"
   ]
  },
  {
   "cell_type": "code",
   "execution_count": 17,
   "metadata": {
    "collapsed": false
   },
   "outputs": [
    {
     "data": {
      "text/plain": [
       "5156"
      ]
     },
     "execution_count": 17,
     "metadata": {},
     "output_type": "execute_result"
    }
   ],
   "source": [
    "len(phrases)"
   ]
  }
 ],
 "metadata": {
  "kernelspec": {
   "display_name": "Python 2",
   "language": "python",
   "name": "python2"
  },
  "language_info": {
   "codemirror_mode": {
    "name": "ipython",
    "version": 2
   },
   "file_extension": ".py",
   "mimetype": "text/x-python",
   "name": "python",
   "nbconvert_exporter": "python",
   "pygments_lexer": "ipython2",
   "version": "2.7.11+"
  }
 },
 "nbformat": 4,
 "nbformat_minor": 2
}
