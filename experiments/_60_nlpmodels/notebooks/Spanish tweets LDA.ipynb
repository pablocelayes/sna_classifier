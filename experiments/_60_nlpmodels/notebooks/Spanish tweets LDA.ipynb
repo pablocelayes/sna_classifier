{
 "cells": [
  {
   "cell_type": "code",
   "execution_count": 1,
   "metadata": {
    "collapsed": true
   },
   "outputs": [],
   "source": [
    "# input\n",
    "n_topics = 5"
   ]
  },
  {
   "cell_type": "code",
   "execution_count": 2,
   "metadata": {
    "collapsed": false
   },
   "outputs": [
    {
     "name": "stdout",
     "output_type": "stream",
     "text": [
      "Switching to API Credentials #1\n"
     ]
    }
   ],
   "source": [
    "import warnings\n",
    "warnings.filterwarnings(\"ignore\", category=DeprecationWarning) \n",
    "# fixes weird issue with pyLDAvis (?) warnings\n",
    "\n",
    "import pandas as pd\n",
    "import numpy as np\n",
    "import pickle\n",
    "import operator\n",
    "import re\n",
    "import gc\n",
    "import gensim\n",
    "# from gensim.similarities import WmdSimilarity\n",
    "\n",
    "import pyLDAvis\n",
    "import pyLDAvis.gensim\n",
    "\n",
    "# wtf\n",
    "warnings.filterwarnings(\"ignore\", category=DeprecationWarning)\n",
    "\n",
    "import logging\n",
    "logging.basicConfig(format='%(asctime)s : %(levelname)s : %(message)s', level=logging.INFO)\n",
    "\n",
    "import matplotlib\n",
    "import matplotlib.pyplot as plt\n",
    "%matplotlib inline\n",
    "\n",
    "from tw_dataset.dbmodels import *\n",
    "from random import sample\n",
    "import json"
   ]
  },
  {
   "cell_type": "markdown",
   "metadata": {},
   "source": [
    "# OK, let's finally do some topic modelling"
   ]
  },
  {
   "cell_type": "code",
   "execution_count": 3,
   "metadata": {
    "collapsed": true
   },
   "outputs": [],
   "source": [
    "TM_MODELS_PATH = '/media/pablo/data/Tesis/models/old/tm_feats/'\n",
    "from os.path import join"
   ]
  },
  {
   "cell_type": "code",
   "execution_count": 4,
   "metadata": {
    "collapsed": false
   },
   "outputs": [],
   "source": [
    "dictionary = gensim.corpora.Dictionary.load(join(TM_MODELS_PATH,\"tweets_es.dict\"))\n",
    "\n",
    "with open(join(TM_MODELS_PATH,'./tweets_es_bow.pickle'), 'rb') as f:\n",
    "    bow = pickle.load(f)"
   ]
  },
  {
   "cell_type": "code",
   "execution_count": 5,
   "metadata": {
    "collapsed": false
   },
   "outputs": [
    {
     "data": {
      "text/plain": [
       "11238"
      ]
     },
     "execution_count": 5,
     "metadata": {},
     "output_type": "execute_result"
    }
   ],
   "source": [
    "len(dictionary.dfs)"
   ]
  },
  {
   "cell_type": "code",
   "execution_count": 5,
   "metadata": {
    "collapsed": true
   },
   "outputs": [],
   "source": [
    "from math import ceil\n",
    "iters = 100\n",
    "passes = 10\n",
    "workers = 7\n",
    "chunksize = int(ceil(len(bow)*1.0/workers))"
   ]
  },
  {
   "cell_type": "code",
   "execution_count": 6,
   "metadata": {
    "collapsed": true
   },
   "outputs": [],
   "source": [
    "model_path = join(TM_MODELS_PATH,\"./tweets_es_%dtopics.lda\" % n_topics) "
   ]
  },
  {
   "cell_type": "code",
   "execution_count": null,
   "metadata": {
    "collapsed": true
   },
   "outputs": [],
   "source": [
    "model = gensim.models.LdaMulticore(\n",
    "        corpus=bow,\n",
    "        id2word=dictionary,\n",
    "        num_topics=n_topics,\n",
    "        iterations=iters,\n",
    "        alpha=0.001,\n",
    "        passes=passes,\n",
    "        chunksize=chunksize,\n",
    "        workers=workers\n",
    ")\n",
    "model.save(model_path)"
   ]
  },
  {
   "cell_type": "code",
   "execution_count": 7,
   "metadata": {
    "collapsed": false
   },
   "outputs": [],
   "source": [
    "model = gensim.models.LdaModel.load(model_path)"
   ]
  },
  {
   "cell_type": "code",
   "execution_count": null,
   "metadata": {
    "collapsed": false
   },
   "outputs": [],
   "source": [
    "viz = pyLDAvis.gensim.prepare(model, [v for v in bow], model.id2word)\n",
    "pickle.dump(viz, open(\"../tweets_es_%d.viz\" % n_topics,'wb'))"
   ]
  },
  {
   "cell_type": "code",
   "execution_count": null,
   "metadata": {
    "collapsed": true
   },
   "outputs": [],
   "source": [
    "viz = pickle.load(open(\"../tweets_es_%d.viz\" % n_topics,'rb'))"
   ]
  },
  {
   "cell_type": "code",
   "execution_count": null,
   "metadata": {
    "collapsed": false
   },
   "outputs": [],
   "source": [
    "pyLDAvis.display(viz)"
   ]
  },
  {
   "cell_type": "markdown",
   "metadata": {},
   "source": [
    "# Términos relevantes por tema"
   ]
  },
  {
   "cell_type": "code",
   "execution_count": 8,
   "metadata": {
    "collapsed": true
   },
   "outputs": [],
   "source": [
    "feature_names = [dictionary[i] for i in range(len(dictionary))]"
   ]
  },
  {
   "cell_type": "code",
   "execution_count": 9,
   "metadata": {
    "collapsed": false
   },
   "outputs": [
    {
     "data": {
      "text/plain": [
       "[(0,\n",
       "  u'0.015*\"dia\" + 0.010*\"mas\" + 0.008*\"via\" + 0.006*\"nuev\" + 0.006*\"buen\" + 0.006*\"graci\" + 0.006*\"hoy\" + 0.005*\"ser\" + 0.005*\"vide\" + 0.005*\"lleg\"'),\n",
       " (1,\n",
       "  u'0.007*\"niembr\" + 0.006*\"macri\" + 0.006*\"dic\" + 0.006*\"mas\" + 0.006*\"si\" + 0.005*\"tucum\" + 0.005*\"ahor\" + 0.005*\"ser\" + 0.005*\"via\" + 0.004*\"pro\"'),\n",
       " (2,\n",
       "  u'0.011*\"argentin\" + 0.009*\"ahor\" + 0.008*\"mas\" + 0.007*\"mejor\" + 0.007*\"part\" + 0.006*\"libr\" + 0.006*\"buen\" + 0.006*\"vot\" + 0.005*\"si\" + 0.005*\"gan\"'),\n",
       " (3,\n",
       "  u'0.009*\"buen\" + 0.008*\"hoy\" + 0.006*\"ahor\" + 0.006*\"mas\" + 0.006*\"fot\" + 0.006*\"nuev\" + 0.005*\"pas\" + 0.005*\"air\" + 0.005*\"vos\" + 0.005*\"graci\"'),\n",
       " (4,\n",
       "  u'0.022*\"si\" + 0.017*\"hac\" + 0.014*\"mas\" + 0.009*\"graci\" + 0.007*\"pued\" + 0.006*\"quier\" + 0.006*\"buen\" + 0.005*\"pas\" + 0.005*\"bien\" + 0.005*\"mal\"')]"
      ]
     },
     "execution_count": 9,
     "metadata": {},
     "output_type": "execute_result"
    }
   ],
   "source": [
    "model.show_topics(n_topics)"
   ]
  },
  {
   "cell_type": "markdown",
   "metadata": {},
   "source": [
    "# Extracción de features LDA sobre tweets"
   ]
  },
  {
   "cell_type": "code",
   "execution_count": 10,
   "metadata": {
    "collapsed": true
   },
   "outputs": [],
   "source": [
    "tweets_lda = [model[t_bow] for t_bow in bow]"
   ]
  },
  {
   "cell_type": "code",
   "execution_count": 11,
   "metadata": {
    "collapsed": true
   },
   "outputs": [],
   "source": [
    "def rows_to_csc(rows):\n",
    "    data = []\n",
    "    row_ind = []\n",
    "    col_ind = []\n",
    "    for i, r in enumerate(rows):\n",
    "        for j, d in r:\n",
    "            row_ind.append(i)\n",
    "            col_ind.append(j)\n",
    "            data.append(d)\n",
    "    return csc_matrix((data, (row_ind, col_ind)))"
   ]
  },
  {
   "cell_type": "code",
   "execution_count": 12,
   "metadata": {
    "collapsed": true
   },
   "outputs": [],
   "source": [
    "from scipy.sparse import csc, csc_matrix"
   ]
  },
  {
   "cell_type": "code",
   "execution_count": 13,
   "metadata": {
    "collapsed": true
   },
   "outputs": [],
   "source": [
    "X_tweets_lda = rows_to_csc(tweets_lda)"
   ]
  },
  {
   "cell_type": "code",
   "execution_count": 14,
   "metadata": {
    "collapsed": false
   },
   "outputs": [
    {
     "data": {
      "text/plain": [
       "1636480"
      ]
     },
     "execution_count": 14,
     "metadata": {},
     "output_type": "execute_result"
    }
   ],
   "source": [
    "s = open_session()\n",
    "all_tweets_es_ids = [t[0] for t in s.query(Tweet.id, Tweet.lang).all() if t.lang == 'es']\n",
    "len(all_tweets_es_ids)    "
   ]
  },
  {
   "cell_type": "code",
   "execution_count": 15,
   "metadata": {
    "collapsed": true
   },
   "outputs": [],
   "source": [
    "X_tweets_lda_df = pd.DataFrame(index=all_tweets_es_ids, data=X_tweets_lda.todense())\n",
    "\n",
    "X_tweets_lda_df.to_pickle(join(TM_MODELS_PATH, \"./alltweets_es_lda%d.pickle\" % n_topics))"
   ]
  }
 ],
 "metadata": {
  "kernelspec": {
   "display_name": "Python 2",
   "language": "python",
   "name": "python2"
  },
  "language_info": {
   "codemirror_mode": {
    "name": "ipython",
    "version": 2
   },
   "file_extension": ".py",
   "mimetype": "text/x-python",
   "name": "python",
   "nbconvert_exporter": "python",
   "pygments_lexer": "ipython2",
   "version": "2.7.11+"
  }
 },
 "nbformat": 4,
 "nbformat_minor": 2
}
