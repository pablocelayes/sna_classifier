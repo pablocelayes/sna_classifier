{
 "cells": [
  {
   "cell_type": "code",
   "execution_count": 2,
   "metadata": {
    "collapsed": false,
    "deletable": true,
    "editable": true
   },
   "outputs": [
    {
     "name": "stdout",
     "output_type": "stream",
     "text": [
      "Switching to API Credentials #3\n"
     ]
    }
   ],
   "source": [
    "from experiments._1_one_user_learn_neighbours.try_some_users import *\n",
    "from experiments.utils import *\n",
    "from experiments.datasets import *\n",
    "import json"
   ]
  },
  {
   "cell_type": "code",
   "execution_count": 3,
   "metadata": {
    "collapsed": true,
    "deletable": true,
    "editable": true
   },
   "outputs": [],
   "source": [
    "X_train, X_test, y_train, y_test = load_or_create_dataframe(uid)"
   ]
  },
  {
   "cell_type": "code",
   "execution_count": 4,
   "metadata": {
    "collapsed": true,
    "deletable": true,
    "editable": true
   },
   "outputs": [],
   "source": [
    "s = open_session()\n",
    "\n",
    "train_tweets = [s.query(Tweet).get(twid) for twid in X_train.index]\n",
    "\n",
    "test_tweets = [s.query(Tweet).get(twid) for twid in X_test.index]"
   ]
  },
  {
   "cell_type": "code",
   "execution_count": 5,
   "metadata": {
    "collapsed": true,
    "deletable": true,
    "editable": true
   },
   "outputs": [],
   "source": [
    "pos_train_tweets = [t for i, t in enumerate(train_tweets) if y_train[i]]"
   ]
  },
  {
   "cell_type": "code",
   "execution_count": 6,
   "metadata": {
    "collapsed": true,
    "deletable": true,
    "editable": true
   },
   "outputs": [],
   "source": [
    "neg_train_tweets = [t for i, t in enumerate(train_tweets) if not y_train[i]]"
   ]
  },
  {
   "cell_type": "code",
   "execution_count": 34,
   "metadata": {
    "collapsed": false,
    "deletable": true,
    "editable": true
   },
   "outputs": [
    {
     "data": {
      "text/plain": [
       "[u'Los jueces de Tucuman que frenaron las elecciones. Que sepan que les vamos a regalar pasajes a donde quieran #JulietaZylberbergEnTVR @TVRok',\n",
       " u'@orgullozombie Yo puedo decirlo. Vos no. Sorry. Es la pol\\xedtica. No te pongas los ruleros. As\\xed se dice,no?',\n",
       " u'@luisnovaresio http://t.co/3JB12ZXRHx',\n",
       " u'\\u201cObviamente (la muerte del ni\\xf1o qom) nos duele pero no podemos decir que el Estado no estuvo presente\\u201d http://t.co/IV1yegjlCw',\n",
       " u'FernandezAnibal: A las medidas adoptadas por la provincia se suma AFIP, Banco Naci\\xf3n y cr\\xe9ditos del BID y la C... http://t.co/24dhMhRXoU',\n",
       " u'Memoria incompleta o solo bussines? https://t.co/EyuRftjafp',\n",
       " u'Video | Evacuaron el Luna Park por un principio de incendio http://t.co/0UOeUMETWN http://t.co/U8kX1rlapi',\n",
       " u'.@berlich .@nofumarx http://t.co/iYgqFhH3ae',\n",
       " u'CR\\xd3NICA: tapa de la edici\\xf3n impresa http://t.co/rrImQTCGmR',\n",
       " u'Capitanich reconoci\\xf3 que en cuatro a\\xf1os murieron 1.800 ni\\xf1os a causa de la pobreza http://t.co/pNUgXSGu46']"
      ]
     },
     "execution_count": 34,
     "metadata": {},
     "output_type": "execute_result"
    }
   ],
   "source": [
    "[t.text for t in neg_train_tweets[:10]]"
   ]
  },
  {
   "cell_type": "markdown",
   "metadata": {
    "deletable": true,
    "editable": true
   },
   "source": [
    "# Create Tf IDF model"
   ]
  },
  {
   "cell_type": "code",
   "execution_count": 8,
   "metadata": {
    "collapsed": true,
    "deletable": true,
    "editable": true
   },
   "outputs": [],
   "source": [
    "from sklearn.feature_extraction.text import CountVectorizer\n",
    "from sklearn.feature_extraction.text import TfidfTransformer\n",
    "from tokenizer import tokenize, spanish_stopwords\n",
    "from random import sample"
   ]
  },
  {
   "cell_type": "code",
   "execution_count": null,
   "metadata": {
    "collapsed": true,
    "deletable": true,
    "editable": true
   },
   "outputs": [],
   "source": [
    "all_tweets_text_es = [t.text for t in s.query(Tweet).all() if t.lang == 'es']"
   ]
  },
  {
   "cell_type": "code",
   "execution_count": 18,
   "metadata": {
    "collapsed": true,
    "deletable": true,
    "editable": true
   },
   "outputs": [],
   "source": [
    "vec = CountVectorizer(tokenizer=tokenize, min_df=30, max_df=0.5, stop_words=spanish_stopwords)"
   ]
  },
  {
   "cell_type": "code",
   "execution_count": 19,
   "metadata": {
    "collapsed": false,
    "deletable": true,
    "editable": true
   },
   "outputs": [],
   "source": [
    "counts = vec.fit_transform(sample(all_tweets_text_es, 300000))"
   ]
  },
  {
   "cell_type": "code",
   "execution_count": 20,
   "metadata": {
    "collapsed": false,
    "deletable": true,
    "editable": true
   },
   "outputs": [
    {
     "data": {
      "text/plain": [
       "8067"
      ]
     },
     "execution_count": 20,
     "metadata": {},
     "output_type": "execute_result"
    }
   ],
   "source": [
    "len(vec.vocabulary_)"
   ]
  },
  {
   "cell_type": "code",
   "execution_count": 21,
   "metadata": {
    "collapsed": false,
    "deletable": true,
    "editable": true
   },
   "outputs": [
    {
     "data": {
      "text/plain": [
       "{u'igual': 3740,\n",
       " u'canel': 1158,\n",
       " u'dni': 2337,\n",
       " u'dinosauri': 2268,\n",
       " u'fir': 3095,\n",
       " u'fit': 3101,\n",
       " u'fib': 3060,\n",
       " u'fif': 3074,\n",
       " u'fij': 3077,\n",
       " u'fin': 3084,\n",
       " u'fil': 3079,\n",
       " u'unanim': 7485,\n",
       " u'conmemor': 1674,\n",
       " u'restaur': 6421,\n",
       " u'guille': 3466,\n",
       " u'\\xbfquien': 7977,\n",
       " u'\\xbfquier': 7978,\n",
       " u'despiert': 2161,\n",
       " u'frut': 3207,\n",
       " u'ballen': 752,\n",
       " u'exact': 2854,\n",
       " u'maltrat': 4595,\n",
       " u'httptcospywbwoeb': 3681,\n",
       " u'corazon': 1777,\n",
       " u'performanc': 5708,\n",
       " u'sistemat': 6888,\n",
       " u'petroler': 5753,\n",
       " u'aprob': 505,\n",
       " u'afp': 161,\n",
       " u'sangarciacorr': 6659,\n",
       " u'info': 3848,\n",
       " u'buenmiercol': 1017,\n",
       " u'incomod': 3799,\n",
       " u'seguidor': 6728,\n",
       " u'dieripoll': 2240,\n",
       " u'longobardim': 4478,\n",
       " u'holaf': 3619,\n",
       " u'rossi': 6563,\n",
       " u'peatonal': 5647,\n",
       " u'with': 7824,\n",
       " u'goleador': 3375,\n",
       " u'inexplic': 3833,\n",
       " u'nort': 5271,\n",
       " u'oto\\xf1': 5456,\n",
       " u'norm': 5268,\n",
       " u'sant': 6667,\n",
       " u'sanz': 6681,\n",
       " u'hast': 3543,\n",
       " u'mors': 5029,\n",
       " u'silvi': 6850,\n",
       " u'mori': 5023,\n",
       " u'morb': 5019,\n",
       " u'morf': 5022,\n",
       " u'mord': 5020,\n",
       " u'bendig': 836,\n",
       " u'bendit': 837,\n",
       " u'gabunat': 3257,\n",
       " u'chifl': 1406,\n",
       " u'undiacomohoy': 7492,\n",
       " u'verdader': 7649,\n",
       " u'sbba': 6693,\n",
       " u'fernandocarnot': 3042,\n",
       " u'analog': 395,\n",
       " u'chinonavarr': 1411,\n",
       " u'bell': 831,\n",
       " u'irrespons': 3978,\n",
       " u'olmos': 5385,\n",
       " u'niembraa': 5220,\n",
       " u'jornad': 4087,\n",
       " u'influenci': 3847,\n",
       " u'revision': 6452,\n",
       " u'videl': 7696,\n",
       " u'victor': 7691,\n",
       " u'sabbatell': 6607,\n",
       " u'techoarg': 7160,\n",
       " u'sustanci': 7091,\n",
       " u'disp': 2302,\n",
       " u'leonxxxiii': 4364,\n",
       " u'agravi': 186,\n",
       " u'axelkuschevatzk': 709,\n",
       " u'matiask': 4744,\n",
       " u'miembr': 4897,\n",
       " u'lluisrabell': 4453,\n",
       " u'liderazg': 4399,\n",
       " u'incent': 3793,\n",
       " u'asient': 611,\n",
       " u'tromenp': 7407,\n",
       " u'candidatur': 1157,\n",
       " u'mati': 4742,\n",
       " u'bri': 983,\n",
       " u'encabez': 2583,\n",
       " u'majogm': 4578,\n",
       " u'contador': 1717,\n",
       " u'trafic': 7347,\n",
       " u'cereal': 1341,\n",
       " u'lacampor': 4217,\n",
       " u'joven': 4095,\n",
       " u'runn': 6590,\n",
       " u'infografi': 3852,\n",
       " u'elmat': 2520,\n",
       " u'night': 5227,\n",
       " u'destruccion': 2174,\n",
       " u'reabr': 6245,\n",
       " u'arrastr': 563,\n",
       " u'lastim': 4285,\n",
       " u'tranc': 7359,\n",
       " u'trans': 7362,\n",
       " u'biograf': 890,\n",
       " u'councilarg': 1828,\n",
       " u'multipl': 5078,\n",
       " u'hsbc': 3658,\n",
       " u'anti': 458,\n",
       " u'patagoni': 5601,\n",
       " u'zarat': 7876,\n",
       " u'europ': 2837,\n",
       " u'haran': 3538,\n",
       " u'grondon': 3437,\n",
       " u'hernanpabl': 3572,\n",
       " u'stalin': 6992,\n",
       " u'afront': 164,\n",
       " u'fabisb': 2929,\n",
       " u'velader': 7617,\n",
       " u'advirt': 143,\n",
       " u'zagizquierd': 7869,\n",
       " u'exmodositt': 2876,\n",
       " u'matibertolotti': 4748,\n",
       " u'jhegui': 4052,\n",
       " u'hcapril': 3546,\n",
       " u'consagr': 1687,\n",
       " u'silenci': 6842,\n",
       " u'frdezavali': 3191,\n",
       " u'similar': 6854,\n",
       " u'salari': 6629,\n",
       " u'abces': 6,\n",
       " u'viviend': 7751,\n",
       " u'narr': 5138,\n",
       " u'narc': 5135,\n",
       " u'carlostom': 1217,\n",
       " u'depresion': 2090,\n",
       " u'indi': 3815,\n",
       " u'humed': 3697,\n",
       " u'dibujit': 2216,\n",
       " u'elector': 2491,\n",
       " u'vascaarisnavarr': 7594,\n",
       " u'decepcion': 2015,\n",
       " u'goril': 3390,\n",
       " u'beatl': 819,\n",
       " u'\\xaa': 7934,\n",
       " u'aparezc': 474,\n",
       " u'nicojoseisol': 5211,\n",
       " u'cintur': 1460,\n",
       " u'sufragi': 7050,\n",
       " u'crem': 1845,\n",
       " u'crec': 1839,\n",
       " u'optic': 5413,\n",
       " u'debil': 2009,\n",
       " u'rodolf': 6524,\n",
       " u'avion': 700,\n",
       " u'inaugur': 3789,\n",
       " u'guidoc': 3463,\n",
       " u'ello': 2517,\n",
       " u'agot': 179,\n",
       " u'extrem': 2919,\n",
       " u'racingclub': 6185,\n",
       " u'federicotiberti': 3005,\n",
       " u'interior': 3927,\n",
       " u'fedeseeb': 3006,\n",
       " u'travesti': 7384,\n",
       " u'gea': 3308,\n",
       " u'gen': 3312,\n",
       " u'infograf': 3851,\n",
       " u'seam': 6702,\n",
       " u'despreci': 2165,\n",
       " u'august': 665,\n",
       " u'hungar': 3703,\n",
       " u'reconoc': 6280,\n",
       " u'sosten': 6967,\n",
       " u'turqu': 7444,\n",
       " u'\\xbfdond': 7954,\n",
       " u'hous': 3649,\n",
       " u'explot': 2893,\n",
       " u'explor': 2890,\n",
       " u'supong': 7074,\n",
       " u'dragon': 2383,\n",
       " u'haciend': 3519,\n",
       " u'acompa\\xf1': 64,\n",
       " u'kurdi': 4208,\n",
       " u'vigent': 7713,\n",
       " u'riquelm': 6491,\n",
       " u'monta\\xf1': 5005,\n",
       " u'visualiz': 7745,\n",
       " u'lujan': 4527,\n",
       " u'redessocial': 6299,\n",
       " u'encim': 2591,\n",
       " u'habit': 3501,\n",
       " u'venezolan': 7632,\n",
       " u'habil': 3499,\n",
       " u'brunahusky': 1000,\n",
       " u'circunst': 1467,\n",
       " u'\\U0001f602\\U0001f602\\U0001f602': 8051,\n",
       " u'circul': 1466,\n",
       " u'buenlun': 1015,\n",
       " u'direct': 2279,\n",
       " u'preparat': 5978,\n",
       " u'interactu': 3924,\n",
       " u'antigu': 462,\n",
       " u'carolin': 1226,\n",
       " u'mut': 5105,\n",
       " u'mus': 5095,\n",
       " u'mur': 5091,\n",
       " u'mud': 5063,\n",
       " u'muf': 5070,\n",
       " u'muj': 5071,\n",
       " u'escolar': 2710,\n",
       " u'ocean': 5335,\n",
       " u'mstupeneng': 5054,\n",
       " u'aylan': 713,\n",
       " u'comentari': 1576,\n",
       " u'feri': 3034,\n",
       " u'fern': 3037,\n",
       " u'ferr': 3046,\n",
       " u'discurs': 2290,\n",
       " u'crisis': 1856,\n",
       " u'ando': 408,\n",
       " u'anda': 400,\n",
       " u'todav': 7292,\n",
       " u'garantiz': 3282,\n",
       " u'agrup': 194,\n",
       " u'escup': 2730,\n",
       " u'escud': 2728,\n",
       " u'subestim': 7024,\n",
       " u'donant': 2367,\n",
       " u'icon': 3719,\n",
       " u'lulapelobrasil': 4530,\n",
       " u'edenentr': 2438,\n",
       " u'fundament': 3232,\n",
       " u'casc': 1252,\n",
       " u'casl': 1259,\n",
       " u'casi': 1254,\n",
       " u'oscur': 5449,\n",
       " u'dalesmm': 1953,\n",
       " u'tesor': 7237,\n",
       " u'busqued': 1039,\n",
       " u'aliverti': 300,\n",
       " u'inedit': 3829,\n",
       " u'bizarr': 894,\n",
       " u'susan': 7080,\n",
       " u'particul': 5578,\n",
       " u'chubut': 1434,\n",
       " u'esteeselshowok': 2795,\n",
       " u'emprendedor': 2575,\n",
       " u'rally': 6213,\n",
       " u'acid': 57,\n",
       " u'conmig': 1675,\n",
       " u'fisic': 3100,\n",
       " u'pizarr': 5810,\n",
       " u'ayosmon': 715,\n",
       " u'ferespinozaok': 3033,\n",
       " u'cubr': 1898,\n",
       " u'nestorsbari': 5187,\n",
       " u'diagonalnort': 2206,\n",
       " u'romer': 6541,\n",
       " u'nadal': 5126,\n",
       " u'hernaniib': 3571,\n",
       " u'fabiomb': 2928,\n",
       " u'regional': 6327,\n",
       " u'resum': 6427,\n",
       " u'recopil': 6284,\n",
       " u'ment': 4833,\n",
       " u'menc': 4821,\n",
       " u'best': 859,\n",
       " u'comoanilloalded': 1591,\n",
       " u'preserv': 5982,\n",
       " u'sanlorenz': 6665,\n",
       " u'peritoperon': 5716,\n",
       " u'chukiut': 1436,\n",
       " u'cabell': 1051,\n",
       " u'difam': 2245,\n",
       " u'clarincom': 1485,\n",
       " u'records': 6286,\n",
       " u'madison': 4554,\n",
       " u'iabspain': 3711,\n",
       " u'ambient': 360,\n",
       " u'perlit': 5720,\n",
       " u'cultiv': 1920,\n",
       " u'categor': 1280,\n",
       " u'ac': 34,\n",
       " u'ad': 97,\n",
       " u'ag': 166,\n",
       " u'ah': 206,\n",
       " u'am': 337,\n",
       " u'an': 387,\n",
       " u'as': 591,\n",
       " u'ar': 519,\n",
       " u'at': 631,\n",
       " u'av': 689,\n",
       " u'ay': 710,\n",
       " u'describ': 2122,\n",
       " u'federicoarreol': 3003,\n",
       " u'inadi': 3788,\n",
       " u'expresion': 2901,\n",
       " u'qualityespaci': 6150,\n",
       " u'tognettidaniel': 7299,\n",
       " u'se\\xf1': 6804,\n",
       " u'diegorottm': 2234,\n",
       " u'set': 6796,\n",
       " u'ser': 6775,\n",
       " u'sep': 6769,\n",
       " u'sex': 6800,\n",
       " u'see': 6724,\n",
       " u'sed': 6721,\n",
       " u'sec': 6712,\n",
       " u'seb': 6703,\n",
       " u'seo': 6768,\n",
       " u'sen': 6755,\n",
       " u'sel': 6737,\n",
       " u'community': 1590,\n",
       " u'fund': 3228,\n",
       " u'judicial': 4123,\n",
       " u'audi': 659,\n",
       " u'vital': 7746,\n",
       " u'sietec': 6828,\n",
       " u'daleviejaok': 1954,\n",
       " u'propied': 6070,\n",
       " u'cnne': 1517,\n",
       " u'indec': 3810,\n",
       " u'ministeri': 4932,\n",
       " u'\\xbfvieron': 7990,\n",
       " u'garr': 3288,\n",
       " u'rabolinikarin': 6182,\n",
       " u'juanmarcost': 4117,\n",
       " u'jesus': 4049,\n",
       " u'dialogocaf': 2208,\n",
       " u'plantel': 5826,\n",
       " u'showmatch': 6815,\n",
       " u'reprim': 6388,\n",
       " u'vanoli': 7584,\n",
       " u'pelot': 5668,\n",
       " u'xec': 7833,\n",
       " u'lejan': 4350,\n",
       " u'sergioranieri': 6784,\n",
       " u'pte': 6107,\n",
       " u'inmobiliari': 3878,\n",
       " u'memorex': 4818,\n",
       " u'fragmentari': 3174,\n",
       " u'offic': 5352,\n",
       " u'fragment': 3173,\n",
       " u'ypf': 7863,\n",
       " u'guit': 3475,\n",
       " u'guis': 3474,\n",
       " u'guid': 3462,\n",
       " u'convivent': 1759,\n",
       " u'libermanenline': 4385,\n",
       " u'gui\\xf1': 3477,\n",
       " u'opo': 5408,\n",
       " u'arab': 520,\n",
       " u'ara\\xf1': 524,\n",
       " u'kemp': 4179,\n",
       " u'a\\xf1os': 727,\n",
       " u'pech': 5649,\n",
       " u'colombi': 1557,\n",
       " u'internacional': 3929,\n",
       " u'identif': 3725,\n",
       " u'captainbluecb': 1181,\n",
       " u'carreter': 1236,\n",
       " u'claudiozlotnik': 1498,\n",
       " u'elexpedient': 2503,\n",
       " u'precios': 5956,\n",
       " u'gallard': 3269,\n",
       " u'universitari': 7508,\n",
       " u'gourmet': 3393,\n",
       " u'usain': 7530,\n",
       " u'sensual': 6763,\n",
       " u'gremi': 3426,\n",
       " u'marcelocostamz': 4653,\n",
       " u'basquet': 794,\n",
       " u'\\u27a1': 8032,\n",
       " u'nancypaz': 5132,\n",
       " u'nunc': 5304,\n",
       " u'baron': 782,\n",
       " u'cdo': 1304,\n",
       " u'repet': 6375,\n",
       " u'lavozcom': 4310,\n",
       " u'nuestr': 5299,\n",
       " u'entreg': 2649,\n",
       " u'entren': 2650,\n",
       " u'entrev': 2654,\n",
       " u'eticayrepubl': 2831,\n",
       " u'eco': 2425,\n",
       " u'cuant': 1890,\n",
       " u'cuand': 1889,\n",
       " u'encarcel': 2586,\n",
       " u'destac': 2168,\n",
       " u'destap': 2169,\n",
       " u'aceit': 48,\n",
       " u'perfeccion': 5704,\n",
       " u'tiend': 7259,\n",
       " u'neuron': 5194,\n",
       " u'taller': 7116,\n",
       " u'expansion': 2879,\n",
       " u'dmi': 2335,\n",
       " u'bariloch': 780,\n",
       " u'diadelaradi': 2204,\n",
       " u'ajust': 226,\n",
       " u'cadavezmask': 1070,\n",
       " u'combust': 1571,\n",
       " u'reafirm': 6247,\n",
       " u'decret': 2027,\n",
       " u'rendimient': 6362,\n",
       " u'masacr': 4719,\n",
       " u'mierd': 4901,\n",
       " u'dias': 2213,\n",
       " u'healeyparer': 3549,\n",
       " u'is': 3982,\n",
       " u'ir': 3968,\n",
       " u'it': 3992,\n",
       " u'iv': 3995,\n",
       " u'ii': 3744,\n",
       " u'im': 3751,\n",
       " u'eternacadent': 2829,\n",
       " u'burg': 1028,\n",
       " u'burl': 1030,\n",
       " u'burr': 1031,\n",
       " u'janeir': 4025,\n",
       " u'caig': 1085,\n",
       " u'tumb': 7434,\n",
       " u'signif': 6832,\n",
       " u'biciclet': 871,\n",
       " u'estigmatiz': 2803,\n",
       " u'cucarach': 1899,\n",
       " u'financi': 3088,\n",
       " u'peque\\xf1': 5688,\n",
       " u'historiet': 3610,\n",
       " u'custodi': 1939,\n",
       " u'espionaj': 2761,\n",
       " u'joac': 4064,\n",
       " u'lagrim': 4237,\n",
       " u'infraestructur': 3860,\n",
       " u'maradon': 4643,\n",
       " u'saenz': 6623,\n",
       " u'intimid': 3939,\n",
       " u'destefanoc': 2170,\n",
       " u'eeuu': 2454,\n",
       " u'norteamerican': 5272,\n",
       " u'individual': 3825,\n",
       " u'pameladav': 5518,\n",
       " u'retr': 6433,\n",
       " u'andresmalamud': 415,\n",
       " u'sangr': 6660,\n",
       " u'hernanpanessi': 3573,\n",
       " u'reproduc': 6389,\n",
       " u'afa': 150,\n",
       " u'santiagodelmor': 6677,\n",
       " u'defend': 2032,\n",
       " u'defens': 2033,\n",
       " u'manzan': 4634,\n",
       " u'horari': 3638,\n",
       " u'iguald': 3741,\n",
       " u'tmb': 7287,\n",
       " u'cfcornej': 1353,\n",
       " u'ngmagaldi': 5204,\n",
       " u'ballesterdani': 753,\n",
       " u'bus': 1034,\n",
       " u'but': 1041,\n",
       " u'juliogarr': 4144,\n",
       " u'bue': 1007,\n",
       " u'federaliz': 3002,\n",
       " u'semis': 6754,\n",
       " u'echa': 2420,\n",
       " u'deslegitim': 2141,\n",
       " u'expuls': 2905,\n",
       " u'consejer': 1693,\n",
       " u'diplom': 2272,\n",
       " u'srodriguezrey': 6988,\n",
       " u'geminis': 3311,\n",
       " u'carism': 1208,\n",
       " u'acontec': 67,\n",
       " u'libonatti': 4390,\n",
       " u'vanguardi': 7583,\n",
       " u'den': 2079,\n",
       " u'panamarev': 5525,\n",
       " u'triheredi': 7398,\n",
       " u'\\xbac': 7941,\n",
       " u'anunci': 469,\n",
       " u'r': 6179,\n",
       " u'\\u201d': 8015,\n",
       " u'adjet': 117,\n",
       " u'veronicasupp': 7663,\n",
       " u'jug': 4129,\n",
       " u'jud': 4121,\n",
       " u'jue': 4124,\n",
       " u'juj': 4133,\n",
       " u'jur': 4153,\n",
       " u'simpsons': 6860,\n",
       " u'\\xbfestas': 7959,\n",
       " u'damianpacht': 1957,\n",
       " u'fiac': 3059,\n",
       " u'vuestr': 7785,\n",
       " u'remot': 6358,\n",
       " u'nippur': 5232,\n",
       " u'flavi': 3109,\n",
       " u'derrumb': 2098,\n",
       " u'marmolpac': 4701,\n",
       " u'desinform': 2140,\n",
       " u'nmavrakis': 5240,\n",
       " u'\\U0001f600': 8047,\n",
       " u'semestr': 6749,\n",
       " u'neces': 5168,\n",
       " u'inmortal': 3880,\n",
       " u'vazquezn': 7599,\n",
       " u'gustsaldan': 3489,\n",
       " u'ines': 3830,\n",
       " u'hijoscapital': 3590,\n",
       " u'\\u266a': 8027,\n",
       " u'qe': 6148,\n",
       " u'brofelad': 992,\n",
       " u'respect': 6413,\n",
       " u'literal': 4431,\n",
       " u'dieron': 2241,\n",
       " u'vuel': 7782,\n",
       " u'extension': 2908,\n",
       " u'timerm': 7267,\n",
       " u'celest': 1316,\n",
       " u'jald': 4019,\n",
       " u'anduv': 420,\n",
       " u'mudanz': 5064,\n",
       " u'muer': 5066,\n",
       " u'superclas': 7065,\n",
       " u'country': 1829,\n",
       " u'privilegi': 6024,\n",
       " u'inmigr': 3876,\n",
       " u'distint': 2315,\n",
       " u'disting': 2313,\n",
       " u'lucianobancher': 4512,\n",
       " u'unfollowers': 7496,\n",
       " u'cautiv': 1286,\n",
       " u'cosovschi': 1819,\n",
       " u'ciudadan': 1474,\n",
       " u'provincial': 6091,\n",
       " u'dijer': 2259,\n",
       " u'oper': 5403,\n",
       " u'open': 5402,\n",
       " u'ingres': 3867,\n",
       " u'argument': 539,\n",
       " u'creacion': 1836,\n",
       " u'tucaramesuen': 7424,\n",
       " u'guillelob': 3467,\n",
       " u'kjohans': 4198,\n",
       " u'her': 3560,\n",
       " u'hey': 3580,\n",
       " u'heb': 3550,\n",
       " u'hel': 3554,\n",
       " u'hem': 3559,\n",
       " u'masc': 4720,\n",
       " u'mast': 4730,\n",
       " u'mass': 4727,\n",
       " u'normaliz': 5270,\n",
       " u'mecan': 4786,\n",
       " u'barrionuev': 788,\n",
       " u'buscan': 1036,\n",
       " u'caroglasberg': 1225,\n",
       " u'anoch': 445,\n",
       " u'microsoft': 4893,\n",
       " u'discapacit': 2286,\n",
       " u'startup': 6998,\n",
       " u'pian': 5761,\n",
       " u'elploski': 2532,\n",
       " u'd': 1944,\n",
       " u'volcan': 7761,\n",
       " u'suic': 7055,\n",
       " u'campeon': 1132,\n",
       " u'suiz': 7058,\n",
       " u'jonatanvial': 4074,\n",
       " u'cambiari': 1116,\n",
       " u'malvin': 4596,\n",
       " u'frent': 3197,\n",
       " u'lili': 4406,\n",
       " u'noir': 5253,\n",
       " u'nosotr': 5274,\n",
       " u'pistol': 5806,\n",
       " u'peluqu': 5673,\n",
       " u'cianur': 1440,\n",
       " u'soylage': 6975,\n",
       " u'vocacion': 7756,\n",
       " u'mostr': 5034,\n",
       " u'villatagraciel': 7719,\n",
       " u'australi': 676,\n",
       " u'jorhurt': 4085,\n",
       " u'hindelit': 3596,\n",
       " u'\\U0001f60e': 8057,\n",
       " u'transmit': 7369,\n",
       " u'chicag': 1401,\n",
       " u'chican': 1402,\n",
       " u'mercosur': 4844,\n",
       " u'fest': 3051,\n",
       " u'contact': 1716,\n",
       " u'gerarfernandez': 3331,\n",
       " u'trum': 7416,\n",
       " u'truc': 7414,\n",
       " u'dler': 2332,\n",
       " u'caz': 1293,\n",
       " u'cay': 1289,\n",
       " u'cas': 1248,\n",
       " u'car': 1185,\n",
       " u'cap': 1168,\n",
       " u'cav': 1287,\n",
       " u'cat': 1268,\n",
       " u'caj': 1087,\n",
       " u'cai': 1083,\n",
       " u'can': 1136,\n",
       " u'cam': 1110,\n",
       " u'cal': 1090,\n",
       " u'cab': 1046,\n",
       " u'cag': 1081,\n",
       " u'caf': 1079,\n",
       " u'cae': 1076,\n",
       " u'cad': 1067,\n",
       " u'ca\\xf1': 1294,\n",
       " u'tiempoarg': 7257,\n",
       " u'carr': 1232,\n",
       " u'carp': 1228,\n",
       " u'cart': 1240,\n",
       " u'carn': 1222,\n",
       " u'carl': 1211,\n",
       " u'carm': 1220,\n",
       " u'carb': 1195,\n",
       " u'carg': 1203,\n",
       " u'multitudinari': 5081,\n",
       " u'testig': 7239,\n",
       " u'marcelaramay': 4651,\n",
       " u'llos': 4450,\n",
       " u'llor': 4449,\n",
       " u'llov': 4451,\n",
       " u'angelsoter': 432,\n",
       " u'argent': 537,\n",
       " u'futbolpermit': 3241,\n",
       " u'glorios': 3360,\n",
       " u'gracios': 3404,\n",
       " u'calendari': 1094,\n",
       " u'piol': 5799,\n",
       " u'pichustrane': 5767,\n",
       " u'contenci': 1727,\n",
       " u'limon': 4412,\n",
       " u'vamospum': 7580,\n",
       " u'expuest': 2904,\n",
       " u'invasion': 3950,\n",
       " u'sugerent': 7053,\n",
       " u'difusion': 2252,\n",
       " u'labi': 4211,\n",
       " u'palestin': 5510,\n",
       " u'cientif': 1450,\n",
       " u'mediod': 4807,\n",
       " u'femin': 3025,\n",
       " u'terraz': 7227,\n",
       " u'chore': 1423,\n",
       " u'chorr': 1428,\n",
       " u'migratori': 4906,\n",
       " u'resolv': 6411,\n",
       " u'convocatori': 1761,\n",
       " u'uber': 7466,\n",
       " u'lectur': 4328,\n",
       " u'tambi': 7120,\n",
       " u'stius': 7008,\n",
       " u'egres': 2461,\n",
       " u'cuan': 1888,\n",
       " u'cuad': 1884,\n",
       " u'sztajnszrajb': 7100,\n",
       " u'hameijeir': 3533,\n",
       " u'cuerd': 1907,\n",
       " u'cuerv': 1909,\n",
       " u'cuerp': 1908,\n",
       " u'paulabertol': 5626,\n",
       " u'cierr': 1451,\n",
       " u'folklor': 3137,\n",
       " u'capitanintrig': 1176,\n",
       " u'vide': 7695,\n",
       " u'zamor': 7870,\n",
       " u'fabian': 2926,\n",
       " u'washington': 7799,\n",
       " u'santiagomarin': 6678,\n",
       " u'plenari': 5839,\n",
       " u'adult': 140,\n",
       " u'alegri': 257,\n",
       " u'bruffinelli': 997,\n",
       " u'todosgronch': 7297,\n",
       " u'catedral': 1279,\n",
       " u'haces': 3514,\n",
       " u'hacet': 3515,\n",
       " u'hacel': 3510,\n",
       " u'hacem': 3511,\n",
       " u'intern': 3928,\n",
       " u'\\xa1no': 7919,\n",
       " u'rt': 6573,\n",
       " u'catedr': 1278,\n",
       " u'telefon': 7175,\n",
       " u'cadenaenv': 1074,\n",
       " u'bartolomerulli': 789,\n",
       " u'artist': 588,\n",
       " u'rating': 6234,\n",
       " u'mariposaponti': 4691,\n",
       " u'maikem': 4573,\n",
       " u'percepcion': 5691,\n",
       " u'consej': 1692,\n",
       " u'hotesur': 3648,\n",
       " u'ahhhh': 209,\n",
       " u'negropolis': 5178,\n",
       " u'laoncediez': 4266,\n",
       " u'parrill': 5574,\n",
       " u'manuelarist': 4632,\n",
       " u'abandon': 3,\n",
       " u'luisitocorbach': 4524,\n",
       " u'suprem': 7075,\n",
       " u'holguin': 3622,\n",
       " u'pelotudec': 5670,\n",
       " u'igcultural': 3734,\n",
       " u'sector': 6717,\n",
       " u'jpatriciomussi': 4098,\n",
       " u'silv': 6848,\n",
       " u'sill': 6843,\n",
       " u'milic': 4916,\n",
       " u'frecuenci': 3193,\n",
       " u'llant': 4443,\n",
       " u'libr': 4391,\n",
       " u'tsunami': 7420,\n",
       " u'entendes': 2628,\n",
       " u'amonest': 380,\n",
       " u'iii': 3745,\n",
       " u'rojkes': 6534,\n",
       " u'jbetiquetanegr': 4035,\n",
       " u'charli': 1378,\n",
       " u'resist': 6408,\n",
       " u'\\U0001f61c': 8060,\n",
       " u'parch': 5557,\n",
       " u'castelopi': 1262,\n",
       " u'fusil': 3237,\n",
       " u'rockandpopcb': 6518,\n",
       " u'actual': 87,\n",
       " u'balaz': 748,\n",
       " u'marcosschiavi': 4664,\n",
       " u'balotaj': 757,\n",
       " u'urban': 7515,\n",
       " u'declar': 2024,\n",
       " u'julioburdm': 4142,\n",
       " u'brandoni': 973,\n",
       " u'atiend': 645,\n",
       " u'hung': 3702,\n",
       " u'gratuit': 3418,\n",
       " u'plum': 5843,\n",
       " u'plus': 5845,\n",
       " u'desestabiliz': 2132,\n",
       " u'exigent': 2870,\n",
       " u'valentin': 7566,\n",
       " u'pedr': 5656,\n",
       " u'fascist': 2974,\n",
       " u'saban': 6606,\n",
       " u'temperley': 7194,\n",
       " u'aracalacan': 522,\n",
       " u'copi': 1772,\n",
       " u'michell': 4887,\n",
       " u'poz': 5945,\n",
       " u'pow': 5944,\n",
       " u'pot': 5937,\n",
       " u'pos': 5923,\n",
       " u'pop': 5901,\n",
       " u'pon': 5889,\n",
       " u'pol': 5873,\n",
       " u'pod': 5859,\n",
       " u'higien': 3585,\n",
       " u'muchisim': 5062,\n",
       " u'lagomarsin': 4236,\n",
       " u'atropell': 657,\n",
       " u'saldr': 6633,\n",
       " u'comotevaok': 1594,\n",
       " u'rosh': 6561,\n",
       " u'rosc': 6560,\n",
       " u'ross': 6562,\n",
       " u'sentimental': 6766,\n",
       " u'salvador': 6645,\n",
       " u'divid': 2322,\n",
       " u'divin': 2324,\n",
       " u'equipobulat': 2678,\n",
       " u'expect': 2880,\n",
       " u'esclav': 2707,\n",
       " u'hotel': 3647,\n",
       " u'prestigi': 5990,\n",
       " u'trayectori': 7385,\n",
       " u'asoci': 617,\n",
       " u'fedelow': 2999,\n",
       " u'edu': 2445,\n",
       " u'simon': 6855,\n",
       " u'radioconvosok': 6194,\n",
       " u'miser': 4950,\n",
       " u'confi': 1660,\n",
       " u'aument': 668,\n",
       " u'\\U0001f449': 8034,\n",
       " u'sopl': 6954,\n",
       " u'dupl': 2406,\n",
       " u'estupend': 2820,\n",
       " u'tvcanalc': 7449,\n",
       " u'hsxtras': 3659,\n",
       " u'madr': 4555,\n",
       " u'diplomat': 2273,\n",
       " u'zeinicient': 7878,\n",
       " u'terremotochil': 7229,\n",
       " u'elprocur': 2533,\n",
       " u'unic': 7499,\n",
       " u'unid': 7500,\n",
       " u'unir': 7504,\n",
       " u'unit': 7505,\n",
       " u'sucesor': 7032,\n",
       " u'mcwelsch': 4778,\n",
       " u'bush': 1037,\n",
       " u'busc': 1035,\n",
       " u'alfons': 284,\n",
       " u'pity': 5808,\n",
       " u'ferreyr': 3050,\n",
       " u'enterr': 2632,\n",
       " u'matiildaxd': 4750,\n",
       " u'problemat': 6030,\n",
       " u'caminat': 1122,\n",
       " u'permanec': 5721,\n",
       " u'peregrin': 5697,\n",
       " u'financier': 3089,\n",
       " u'feroz': 3045,\n",
       " u'sald': 6632,\n",
       " u'salg': 6634,\n",
       " u'sals': 6639,\n",
       " u'salt': 6640,\n",
       " u'salu': 6642,\n",
       " u'pasill': 5593,\n",
       " u'jobs': 4067,\n",
       " u'estatal': 2788,\n",
       " u'bernardi': 851,\n",
       " u'porcion': 5908,\n",
       " u'mchefoficial': 4777,\n",
       " u'descuent': 2126,\n",
       " u'enlac': 2614,\n",
       " u'analiz': 394,\n",
       " u'revistamongoli': 6455,\n",
       " u'desopil': 2151,\n",
       " u'reun': 6441,\n",
       " u'gaby': 3258,\n",
       " u'javienradi': 4031,\n",
       " u'albertodefazi': 241,\n",
       " u'reencuentr': 6308,\n",
       " u'requier': 6395,\n",
       " u'juvenil': 4162,\n",
       " u'materi': 4739,\n",
       " u'matern': 4741,\n",
       " u'libert': 4387,\n",
       " u'locur': 4464,\n",
       " u'islam': 3988,\n",
       " u'atom': 649,\n",
       " u'pacienci': 5486,\n",
       " u'agu': 195,\n",
       " u'aprend': 501,\n",
       " u'porqu': 5915,\n",
       " u'cta': 1882,\n",
       " u'phot': 5759,\n",
       " u'criatur': 1849,\n",
       " u'insuper': 3911,\n",
       " u'persig': 5734,\n",
       " u'resguard': 6404,\n",
       " u'templ': 7195,\n",
       " u'pajaritatw': 5504,\n",
       " u'flandiv': 3106,\n",
       " u'marcelopascu': 4654,\n",
       " u'sinhashtag': 6870,\n",
       " u'boliv': 924,\n",
       " u'gigant': 3342,\n",
       " u'cafeesamor': 1080,\n",
       " u'cristobal': 1863,\n",
       " u'tet': 7241,\n",
       " u'aldo': 249,\n",
       " u'descens': 2118,\n",
       " u'descend': 2117,\n",
       " u'independent': 3812,\n",
       " u'infojusnotici': 3854,\n",
       " u'arrobanfwtv': 571,\n",
       " u'estebanbullrich': 2792,\n",
       " u'administr': 118,\n",
       " u'regres': 6331,\n",
       " u'ortograf': 5444,\n",
       " u'adquir': 129,\n",
       " u'condicion': 1645,\n",
       " u'zaf': 7867,\n",
       " u'zap': 7873,\n",
       " u'ningun': 5231,\n",
       " u'lalig': 4247,\n",
       " u'caract': 1187,\n",
       " u'pastill': 5598,\n",
       " u'metrobus': 4867,\n",
       " u'estructural': 2816,\n",
       " u'raul': 6237,\n",
       " u'clandestin': 1480,\n",
       " u'jorgeramosnews': 4084,\n",
       " u'you': 7860,\n",
       " u'charosky': 1380,\n",
       " u'resac': 6398,\n",
       " u'casual': 1267,\n",
       " u'cupul': 1932,\n",
       " u'papelem': 5542,\n",
       " u'\\xbfqueres': 7975,\n",
       " u'bor': 952,\n",
       " u'prevencion': 5997,\n",
       " u'amarl': 350,\n",
       " u'amarg': 348,\n",
       " u'block': 902,\n",
       " u'suplent': 7072,\n",
       " u'\\u203a': 8018,\n",
       " u'resign': 6407,\n",
       " u'antecedent': 453,\n",
       " u'diviert': 2323,\n",
       " u'ilumin': 3748,\n",
       " u'sivakm': 6892,\n",
       " u'medall': 4789,\n",
       " u'infonews': 3855,\n",
       " u'okeycomput': 5371,\n",
       " u'empeor': 2569,\n",
       " u'apell': 480,\n",
       " u'u\\xf1as': 7553,\n",
       " u'vecin': 7607,\n",
       " u'usan': 7532,\n",
       " u'usam': 7531,\n",
       " u'usab': 7528,\n",
       " u'usad': 7529,\n",
       " u'usas': 7537,\n",
       " u'usar': 7534,\n",
       " u'autoriz': 687,\n",
       " u'enfermed': 2605,\n",
       " u'simplement': 6858,\n",
       " u'pj': 5813,\n",
       " u'feedly': 3012,\n",
       " u'cruel': 1878,\n",
       " u'andre': 409,\n",
       " u'andro': 419,\n",
       " u'tuitutil': 7433,\n",
       " u'beabusanich': 818,\n",
       " u'recepcion': 6262,\n",
       " u'futboler': 3240,\n",
       " u'\\xa1hol': 7912,\n",
       " u'tvpublic': 7452,\n",
       " u'elabor': 2476,\n",
       " u'super': 7064,\n",
       " u'lapiz': 4270,\n",
       " u'simul': 6861,\n",
       " u'lapic': 4268,\n",
       " u'sobreviv': 6907,\n",
       " u'segu': 6726,\n",
       " u'menor': 4830,\n",
       " u'guatemal': 3455,\n",
       " u'discut': 2292,\n",
       " u'avanc': 691,\n",
       " u'gradual': 3407,\n",
       " u'living': 4438,\n",
       " u'ranking': 6223,\n",
       " u'merkel': 4851,\n",
       " u'angulomartin': 435,\n",
       " u'marg': 4667,\n",
       " u'marc': 4646,\n",
       " u'mari': 4670,\n",
       " u'mark': 4696,\n",
       " u'mart': 4705,\n",
       " u'maru': 4715,\n",
       " u'mary': 4716,\n",
       " u'marz': 4717,\n",
       " u'hdp': 3548,\n",
       " u'comedor': 1573,\n",
       " u'fvallejoss': 3246,\n",
       " u'smartphon': 6897,\n",
       " u'hoyeshoy': 3652,\n",
       " u'titacostamagn': 7281,\n",
       " u'sacal': 6617,\n",
       " u'magnif': 4570,\n",
       " u'necesari': 5169,\n",
       " u'edugor': 2452,\n",
       " u'quinch': 6171,\n",
       " u'ensay': 2624,\n",
       " u'ensal': 2623,\n",
       " u'contrari': 1741,\n",
       " u'eltreceoficial': 2537,\n",
       " u'legrand': 4343,\n",
       " u'ocult': 5340,\n",
       " u'esencial': 2735,\n",
       " u'solit': 6937,\n",
       " u'gentedederech': 3324,\n",
       " u'follows': 3140,\n",
       " u'impon': 3769,\n",
       " u'impos': 3771,\n",
       " u'fea': 2993,\n",
       " u'gracielaocan': 3403,\n",
       " u'finanz': 3090,\n",
       " u'nicolasmadur': 5215,\n",
       " u'elbosni': 2479,\n",
       " u'correspond': 1804,\n",
       " u'tucumanaz': 7427,\n",
       " u'lesion': 4370,\n",
       " u'encerr': 2589,\n",
       " u'namirit': 5130,\n",
       " u'drapignat': 2386,\n",
       " ...}"
      ]
     },
     "execution_count": 21,
     "metadata": {},
     "output_type": "execute_result"
    }
   ],
   "source": [
    "vec.vocabulary_"
   ]
  },
  {
   "cell_type": "code",
   "execution_count": 22,
   "metadata": {
    "collapsed": true,
    "deletable": true,
    "editable": true
   },
   "outputs": [],
   "source": [
    "tfidf = TfidfTransformer()"
   ]
  },
  {
   "cell_type": "code",
   "execution_count": 23,
   "metadata": {
    "collapsed": false,
    "deletable": true,
    "editable": true
   },
   "outputs": [
    {
     "data": {
      "text/plain": [
       "TfidfTransformer(norm=u'l2', smooth_idf=True, sublinear_tf=False,\n",
       "         use_idf=True)"
      ]
     },
     "execution_count": 23,
     "metadata": {},
     "output_type": "execute_result"
    }
   ],
   "source": [
    "tfidf.fit(counts)"
   ]
  },
  {
   "cell_type": "code",
   "execution_count": 24,
   "metadata": {
    "collapsed": true,
    "deletable": true,
    "editable": true
   },
   "outputs": [],
   "source": [
    "import pickle\n",
    "with open('tfidf.pickle', 'wb') as f:\n",
    "    pickle.dump(tfidf, f)\n",
    "\n",
    "with open('vec.pickle', 'wb') as f:\n",
    "    pickle.dump(vec, f)"
   ]
  },
  {
   "cell_type": "markdown",
   "metadata": {
    "deletable": true,
    "editable": true
   },
   "source": [
    "# Load TFIDF model"
   ]
  },
  {
   "cell_type": "code",
   "execution_count": 7,
   "metadata": {
    "collapsed": true,
    "deletable": true,
    "editable": true
   },
   "outputs": [],
   "source": [
    "import pickle\n",
    "with open('tfidf.pickle', 'rb') as f:\n",
    "    tfidf = pickle.load(f)\n",
    "\n",
    "with open('vec.pickle', 'rb') as f:\n",
    "    vec = pickle.load(f)"
   ]
  },
  {
   "cell_type": "markdown",
   "metadata": {
    "deletable": true,
    "editable": true
   },
   "source": [
    "## explore tfidf features"
   ]
  },
  {
   "cell_type": "code",
   "execution_count": 35,
   "metadata": {
    "collapsed": false,
    "deletable": true,
    "editable": true
   },
   "outputs": [],
   "source": [
    "text = neg_train_tweets[0].text"
   ]
  },
  {
   "cell_type": "code",
   "execution_count": 36,
   "metadata": {
    "collapsed": false,
    "deletable": true,
    "editable": true
   },
   "outputs": [],
   "source": [
    "tvec = tfidf.transform(vec.transform([text]))"
   ]
  },
  {
   "cell_type": "code",
   "execution_count": 66,
   "metadata": {
    "collapsed": false,
    "deletable": true,
    "editable": true
   },
   "outputs": [
    {
     "data": {
      "text/plain": [
       "scipy.sparse.csr.csr_matrix"
      ]
     },
     "execution_count": 66,
     "metadata": {},
     "output_type": "execute_result"
    }
   ],
   "source": [
    "type(tvec)"
   ]
  },
  {
   "cell_type": "code",
   "execution_count": 38,
   "metadata": {
    "collapsed": false,
    "deletable": true,
    "editable": true
   },
   "outputs": [
    {
     "data": {
      "text/plain": [
       "{u'dond': 5.8105590157083755,\n",
       " u'eleccion': 5.7517419064040061,\n",
       " u'fren': 8.3750991241361668,\n",
       " u'juec': 7.7479099113680183,\n",
       " u'pasaj': 8.7673540005075239,\n",
       " u'quier': 4.903231791074429,\n",
       " u'regal': 6.8925279325808564,\n",
       " u'sep': 7.5089824923525468,\n",
       " u'tucum': 6.9834997107865826,\n",
       " u'tvrok': 9.2048218397018626,\n",
       " u'vam': 5.7779408633050124}"
      ]
     },
     "execution_count": 38,
     "metadata": {},
     "output_type": "execute_result"
    }
   ],
   "source": [
    "def tfidf_feats(text):\n",
    "    tvec = tfidf.transform(vec.transform([text]))\n",
    "\n",
    "    ivocab = {i: w for (w,i) in vec.vocabulary_.items()}\n",
    "\n",
    "    return dict(zip([ivocab[i] for i in tvec.indices], tfidf.idf_[tvec.indices]))\n",
    "\n",
    "tfidf_feats(neg_train_tweets[0].text)\n"
   ]
  },
  {
   "cell_type": "markdown",
   "metadata": {
    "deletable": true,
    "editable": true
   },
   "source": [
    "# Generate TFIDF features"
   ]
  },
  {
   "cell_type": "code",
   "execution_count": 6,
   "metadata": {
    "collapsed": false,
    "deletable": true,
    "editable": true
   },
   "outputs": [],
   "source": [
    "X_train_f = tfidf.transform(vec.transform([t.text for t in train_tweets]))"
   ]
  },
  {
   "cell_type": "code",
   "execution_count": 7,
   "metadata": {
    "collapsed": true,
    "deletable": true,
    "editable": true
   },
   "outputs": [],
   "source": [
    "X_test_f = tfidf.transform(vec.transform([t.text for t in test_tweets]))"
   ]
  },
  {
   "cell_type": "code",
   "execution_count": 8,
   "metadata": {
    "collapsed": false,
    "deletable": true,
    "editable": true
   },
   "outputs": [
    {
     "data": {
      "text/plain": [
       "(80434, 8067)"
      ]
     },
     "execution_count": 8,
     "metadata": {},
     "output_type": "execute_result"
    }
   ],
   "source": [
    "X_train_f.shape"
   ]
  },
  {
   "cell_type": "code",
   "execution_count": 9,
   "metadata": {
    "collapsed": false,
    "deletable": true,
    "editable": true
   },
   "outputs": [
    {
     "data": {
      "text/plain": [
       "(34472, 8067)"
      ]
     },
     "execution_count": 9,
     "metadata": {},
     "output_type": "execute_result"
    }
   ],
   "source": [
    "X_test_f.shape"
   ]
  },
  {
   "cell_type": "code",
   "execution_count": 10,
   "metadata": {
    "collapsed": true,
    "deletable": true,
    "editable": true
   },
   "outputs": [],
   "source": [
    "fname = join(DATASETS_FOLDER, \"tfidf_%d.pickle\" % uid)\n",
    "dataset = (X_train, X_test, y_train, y_test)\n",
    "pickle.dump(dataset, open(fname, 'wb'))"
   ]
  },
  {
   "cell_type": "code",
   "execution_count": null,
   "metadata": {
    "collapsed": true,
    "deletable": true,
    "editable": true
   },
   "outputs": [],
   "source": [
    "dataset = pickle.load(open(fname, 'rb'))\n",
    "X_train, X_test, y_train, y_test = dataset"
   ]
  },
  {
   "cell_type": "markdown",
   "metadata": {
    "deletable": true,
    "editable": true
   },
   "source": [
    "## normalize features"
   ]
  },
  {
   "cell_type": "code",
   "execution_count": 22,
   "metadata": {
    "collapsed": false,
    "deletable": true,
    "editable": true
   },
   "outputs": [
    {
     "data": {
      "text/plain": [
       "scipy.sparse.csr.csr_matrix"
      ]
     },
     "execution_count": 22,
     "metadata": {},
     "output_type": "execute_result"
    }
   ],
   "source": [
    "type(X_train_f)"
   ]
  },
  {
   "cell_type": "code",
   "execution_count": 13,
   "metadata": {
    "collapsed": true,
    "deletable": true,
    "editable": true
   },
   "outputs": [],
   "source": [
    "from sklearn.preprocessing import StandardScaler"
   ]
  },
  {
   "cell_type": "code",
   "execution_count": 11,
   "metadata": {
    "collapsed": true,
    "deletable": true,
    "editable": true
   },
   "outputs": [],
   "source": [
    "from scipy.sparse import vstack\n",
    "\n",
    "\n",
    "\n",
    "def _calculate_mean_and_std_deviation(X):\n",
    "    \"\"\"\n",
    "    Calculates mean and standard deviation of sample features.\n",
    "\n",
    "    Parameters\n",
    "    ----------\n",
    "    X : array-like, samples, shape = (n_samples, n_features)\n",
    "    \"\"\"\n",
    "\n",
    "    n_samples, n_features = X.shape\n",
    "\n",
    "    sigma_ = np.zeros((n_features))\n",
    "    epsilon = 1e-9\n",
    "\n",
    "    theta_ = X.mean(axis=0)\n",
    "    \n",
    "    for i in range(n_features):\n",
    "        col = X.getcol(i)\n",
    "\n",
    "        sqr = col.copy() # take a copy of the col\n",
    "        sqr.data **= 2 # square the data, i.e. just the non-zero data\n",
    "        variance = sqr.sum()/n_samples - col.mean()**2\n",
    "\n",
    "        sigma_[i] = variance + epsilon\n",
    "\n",
    "    return theta_, sigma_\n",
    "\n",
    "def _normalize(X):\n",
    "    \"\"\"\n",
    "    Normalizes sample features.\n",
    "\n",
    "    self.theta_ and self.sigma_ have to be set.\n",
    "\n",
    "    Parameters\n",
    "    ----------\n",
    "    X : array-like, samples, shape = (n_samples, n_features)\n",
    "    \"\"\"\n",
    "\n",
    "    n_samples, n_features = X.shape\n",
    "\n",
    "    theta_, sigma_ = _calculate_mean_and_std_deviation(X)   \n",
    "\n",
    "    new_X = np.zeros(shape=(n_samples, n_features), dtype=np.float32)\n",
    "\n",
    "    new_X[:, :] = (X[:, :] - theta_[:]) / sigma_[:]\n",
    "\n",
    "    return new_X\n",
    "\n",
    "def normalize(X_train, X_test):\n",
    "    train_size = X_train.shape[0]\n",
    "    X = vstack((X_train, X_test))\n",
    "    X = _normalize(X)\n",
    "\n",
    "    X_train = X[:train_size,:]\n",
    "    X_test = X[train_size:,:]\n",
    "\n",
    "    return X_train, X_test\n",
    "\n",
    "def scale(X_train, X_test):\n",
    "    train_size = X_train.shape[0]\n",
    "    X = vstack((X_train, X_test))\n",
    "    X = StandardScaler(with_mean=False).fit_transform(X)\n",
    "    X_train = X[:train_size,:]\n",
    "    X_test = X[train_size:,:]\n",
    "\n",
    "    return X_train, X_test"
   ]
  },
  {
   "cell_type": "code",
   "execution_count": 14,
   "metadata": {
    "collapsed": false,
    "deletable": true,
    "editable": true
   },
   "outputs": [],
   "source": [
    "# X_train, X_test = normalize(X_train_f, X_test_f)\n",
    "X_train_s, X_test_s = scale(X_train_f, X_test_f)"
   ]
  },
  {
   "cell_type": "markdown",
   "metadata": {
    "deletable": true,
    "editable": true
   },
   "source": [
    "## class balancing sample weights"
   ]
  },
  {
   "cell_type": "code",
   "execution_count": 15,
   "metadata": {
    "collapsed": true,
    "deletable": true,
    "editable": true
   },
   "outputs": [],
   "source": [
    "# weights for class balancing\n",
    "w1 = sum(y_train)/len(y_train)\n",
    "w0 = 1 - w1\n",
    "sample_weights = np.array([w0 if x==0 else w1 for x in y_train])\n"
   ]
  },
  {
   "cell_type": "code",
   "execution_count": 16,
   "metadata": {
    "collapsed": true,
    "deletable": true,
    "editable": true
   },
   "outputs": [],
   "source": [
    "from sklearn.svm import SVC"
   ]
  },
  {
   "cell_type": "code",
   "execution_count": 17,
   "metadata": {
    "collapsed": true,
    "deletable": true,
    "editable": true
   },
   "outputs": [],
   "source": [
    "svc=SVC()"
   ]
  },
  {
   "cell_type": "markdown",
   "metadata": {
    "deletable": true,
    "editable": true
   },
   "source": [
    "## sin normalizar"
   ]
  },
  {
   "cell_type": "code",
   "execution_count": 22,
   "metadata": {
    "collapsed": false,
    "deletable": true,
    "editable": true
   },
   "outputs": [
    {
     "name": "stdout",
     "output_type": "stream",
     "text": [
      "Detailed classification report:\n",
      "\n",
      "Scores on training set.\n",
      "\n",
      "             precision    recall  f1-score   support\n",
      "\n",
      "        0.0       0.98      1.00      0.99     79167\n",
      "        1.0       0.00      0.00      0.00      1267\n",
      "\n",
      "avg / total       0.97      0.98      0.98     80434\n",
      "\n",
      "Scores on test set.\n",
      "\n",
      "             precision    recall  f1-score   support\n",
      "\n",
      "        0.0       0.98      1.00      0.99     33942\n",
      "        1.0       0.00      0.00      0.00       530\n",
      "\n",
      "avg / total       0.97      0.98      0.98     34472\n",
      "\n"
     ]
    }
   ],
   "source": [
    "svc.fit(X_train_f, y_train, sample_weight=sample_weights)\n",
    "evaluate_model(svc, X_train_f, X_test_f, y_train, y_test)"
   ]
  },
  {
   "cell_type": "markdown",
   "metadata": {
    "deletable": true,
    "editable": true
   },
   "source": [
    "## normalizado"
   ]
  },
  {
   "cell_type": "code",
   "execution_count": 18,
   "metadata": {
    "collapsed": false,
    "deletable": true,
    "editable": true
   },
   "outputs": [
    {
     "name": "stdout",
     "output_type": "stream",
     "text": [
      "Detailed classification report:\n",
      "\n",
      "Scores on training set.\n",
      "\n",
      "             precision    recall  f1-score   support\n",
      "\n",
      "        0.0       0.98      1.00      0.99     79167\n",
      "        1.0       0.00      0.00      0.00      1267\n",
      "\n",
      "avg / total       0.97      0.98      0.98     80434\n",
      "\n",
      "Scores on test set.\n",
      "\n",
      "             precision    recall  f1-score   support\n",
      "\n",
      "        0.0       0.98      1.00      0.99     33942\n",
      "        1.0       0.00      0.00      0.00       530\n",
      "\n",
      "avg / total       0.97      0.98      0.98     34472\n",
      "\n"
     ]
    }
   ],
   "source": [
    "svc=SVC()\n",
    "svc.fit(X_train_s, y_train, sample_weight=sample_weights)\n",
    "evaluate_model(svc, X_train_s, X_test_s, y_train, y_test)"
   ]
  },
  {
   "cell_type": "code",
   "execution_count": 23,
   "metadata": {
    "collapsed": true,
    "deletable": true,
    "editable": true
   },
   "outputs": [],
   "source": []
  },
  {
   "cell_type": "markdown",
   "metadata": {
    "deletable": true,
    "editable": true
   },
   "source": [
    "## sin normalizar"
   ]
  },
  {
   "cell_type": "code",
   "execution_count": 24,
   "metadata": {
    "collapsed": false,
    "deletable": true,
    "editable": true
   },
   "outputs": [
    {
     "name": "stdout",
     "output_type": "stream",
     "text": [
      "Detailed classification report:\n",
      "\n",
      "Scores on training set.\n",
      "\n",
      "             precision    recall  f1-score   support\n",
      "\n",
      "        0.0       1.00      1.00      1.00     79167\n",
      "        1.0       1.00      0.96      0.98      1267\n",
      "\n",
      "avg / total       1.00      1.00      1.00     80434\n",
      "\n",
      "Scores on test set.\n",
      "\n",
      "             precision    recall  f1-score   support\n",
      "\n",
      "        0.0       0.99      0.99      0.99     33942\n",
      "        1.0       0.21      0.14      0.17       530\n",
      "\n",
      "avg / total       0.97      0.98      0.98     34472\n",
      "\n"
     ]
    }
   ],
   "source": [
    "from sklearn.tree import DecisionTreeClassifier\n",
    "clf = DecisionTreeClassifier()     \n",
    "clf.fit(X_train_f, y_train, sample_weight=sample_weights)\n",
    "evaluate_model(clf, X_train_f, X_test_f, y_train, y_test)"
   ]
  },
  {
   "cell_type": "markdown",
   "metadata": {
    "deletable": true,
    "editable": true
   },
   "source": [
    "## normalizado"
   ]
  },
  {
   "cell_type": "code",
   "execution_count": 19,
   "metadata": {
    "collapsed": false,
    "deletable": true,
    "editable": true
   },
   "outputs": [
    {
     "name": "stdout",
     "output_type": "stream",
     "text": [
      "Detailed classification report:\n",
      "\n",
      "Scores on training set.\n",
      "\n",
      "             precision    recall  f1-score   support\n",
      "\n",
      "        0.0       1.00      1.00      1.00     79167\n",
      "        1.0       1.00      0.96      0.98      1267\n",
      "\n",
      "avg / total       1.00      1.00      1.00     80434\n",
      "\n",
      "Scores on test set.\n",
      "\n",
      "             precision    recall  f1-score   support\n",
      "\n",
      "        0.0       0.99      0.99      0.99     33942\n",
      "        1.0       0.21      0.13      0.16       530\n",
      "\n",
      "avg / total       0.97      0.98      0.98     34472\n",
      "\n"
     ]
    }
   ],
   "source": [
    "clf = DecisionTreeClassifier()     \n",
    "clf.fit(X_train_s, y_train, sample_weight=sample_weights)\n",
    "evaluate_model(clf, X_train_s, X_test_s, y_train, y_test)"
   ]
  },
  {
   "cell_type": "markdown",
   "metadata": {
    "deletable": true,
    "editable": true
   },
   "source": [
    "## sin normalizar"
   ]
  },
  {
   "cell_type": "code",
   "execution_count": 72,
   "metadata": {
    "collapsed": false,
    "deletable": true,
    "editable": true
   },
   "outputs": [
    {
     "name": "stdout",
     "output_type": "stream",
     "text": [
      "Detailed classification report:\n",
      "\n",
      "Scores on training set.\n",
      "\n",
      "             precision    recall  f1-score   support\n",
      "\n",
      "        0.0       1.00      1.00      1.00     83716\n",
      "        1.0       1.00      0.81      0.90      1393\n",
      "\n",
      "avg / total       1.00      1.00      1.00     85109\n",
      "\n",
      "Scores on test set.\n",
      "\n",
      "             precision    recall  f1-score   support\n",
      "\n",
      "        0.0       0.99      1.00      0.99     35902\n",
      "        1.0       0.53      0.11      0.18       574\n",
      "\n",
      "avg / total       0.98      0.98      0.98     36476\n",
      "\n",
      "Detailed classification report:\n",
      "\n",
      "Scores on training set.\n",
      "\n",
      "             precision    recall  f1-score   support\n",
      "\n",
      "        0.0       0.99      1.00      1.00     83716\n",
      "        1.0       1.00      0.62      0.77      1393\n",
      "\n",
      "avg / total       0.99      0.99      0.99     85109\n",
      "\n",
      "Scores on test set.\n",
      "\n",
      "             precision    recall  f1-score   support\n",
      "\n",
      "        0.0       0.99      1.00      1.00     35902\n",
      "        1.0       0.96      0.64      0.77       574\n",
      "\n",
      "avg / total       0.99      0.99      0.99     36476\n",
      "\n"
     ]
    }
   ],
   "source": [
    "clf = RandomForestClassifier(n_jobs=-1, n_estimators=20)     \n",
    "clf.fit(X_train_f, y_train, sample_weight=sample_weights)\n",
    "evaluate_model(clf, X_train_f, X_test_f, y_train, y_test)\n",
    "\n",
    "clf = RandomForestClassifier(n_jobs=-1, n_estimators=20)     \n",
    "clf.fit(X_train, y_train, sample_weight=sample_weights)\n",
    "evaluate_model(clf, X_train, X_test, y_train, y_test)"
   ]
  },
  {
   "cell_type": "markdown",
   "metadata": {
    "deletable": true,
    "editable": true
   },
   "source": [
    "## normalizado"
   ]
  },
  {
   "cell_type": "code",
   "execution_count": 20,
   "metadata": {
    "collapsed": false,
    "deletable": true,
    "editable": true
   },
   "outputs": [
    {
     "name": "stdout",
     "output_type": "stream",
     "text": [
      "Detailed classification report:\n",
      "\n",
      "Scores on training set.\n",
      "\n",
      "             precision    recall  f1-score   support\n",
      "\n",
      "        0.0       1.00      1.00      1.00     79167\n",
      "        1.0       1.00      0.84      0.91      1267\n",
      "\n",
      "avg / total       1.00      1.00      1.00     80434\n",
      "\n",
      "Scores on test set.\n",
      "\n",
      "             precision    recall  f1-score   support\n",
      "\n",
      "        0.0       0.99      1.00      0.99     33942\n",
      "        1.0       0.36      0.06      0.10       530\n",
      "\n",
      "avg / total       0.98      0.98      0.98     34472\n",
      "\n"
     ]
    }
   ],
   "source": [
    "clf = RandomForestClassifier(n_jobs=-1, n_estimators=20)     \n",
    "clf.fit(X_train_s, y_train, sample_weight=sample_weights)\n",
    "evaluate_model(clf, X_train_s, X_test_s, y_train, y_test)"
   ]
  },
  {
   "cell_type": "code",
   "execution_count": 27,
   "metadata": {
    "collapsed": false,
    "deletable": true,
    "editable": true
   },
   "outputs": [],
   "source": [
    "import scipy.sparse as sp\n",
    "\n",
    "X_train_combined = sp.hstack((X_train,X_train_f), format='csr')"
   ]
  },
  {
   "cell_type": "code",
   "execution_count": 29,
   "metadata": {
    "collapsed": true,
    "deletable": true,
    "editable": true
   },
   "outputs": [],
   "source": [
    "X_test_combined = sp.hstack((X_test,X_test_f), format='csr')"
   ]
  },
  {
   "cell_type": "code",
   "execution_count": 75,
   "metadata": {
    "collapsed": false,
    "deletable": true,
    "editable": true
   },
   "outputs": [
    {
     "name": "stdout",
     "output_type": "stream",
     "text": [
      "Detailed classification report:\n",
      "\n",
      "Scores on training set.\n",
      "\n",
      "             precision    recall  f1-score   support\n",
      "\n",
      "        0.0       1.00      1.00      1.00     83716\n",
      "        1.0       1.00      0.96      0.98      1393\n",
      "\n",
      "avg / total       1.00      1.00      1.00     85109\n",
      "\n",
      "Scores on test set.\n",
      "\n",
      "             precision    recall  f1-score   support\n",
      "\n",
      "        0.0       0.99      1.00      0.99     35902\n",
      "        1.0       0.52      0.17      0.26       574\n",
      "\n",
      "avg / total       0.98      0.98      0.98     36476\n",
      "\n"
     ]
    }
   ],
   "source": [
    "clf = RandomForestClassifier(n_jobs=-1, n_estimators=50)     \n",
    "clf.fit(X_train_combined, y_train, sample_weight=sample_weights)\n",
    "evaluate_model(clf, X_train_combined, X_test_combined, y_train, y_test)"
   ]
  },
  {
   "cell_type": "code",
   "execution_count": 30,
   "metadata": {
    "collapsed": false,
    "deletable": true,
    "editable": true
   },
   "outputs": [
    {
     "name": "stdout",
     "output_type": "stream",
     "text": [
      "Detailed classification report:\n",
      "\n",
      "Scores on training set.\n",
      "\n",
      "             precision    recall  f1-score   support\n",
      "\n",
      "        0.0       1.00      1.00      1.00     79167\n",
      "        1.0       1.00      0.99      0.99      1267\n",
      "\n",
      "avg / total       1.00      1.00      1.00     80434\n",
      "\n",
      "Scores on test set.\n",
      "\n",
      "             precision    recall  f1-score   support\n",
      "\n",
      "        0.0       0.99      0.99      0.99     33942\n",
      "        1.0       0.26      0.17      0.21       530\n",
      "\n",
      "avg / total       0.98      0.98      0.98     34472\n",
      "\n"
     ]
    }
   ],
   "source": [
    "clf = DecisionTreeClassifier()     \n",
    "clf.fit(X_train_combined, y_train, sample_weight=sample_weights)\n",
    "evaluate_model(clf, X_train_combined, X_test_combined, y_train, y_test)"
   ]
  },
  {
   "cell_type": "markdown",
   "metadata": {
    "deletable": true,
    "editable": true
   },
   "source": [
    "Muy mala calidad en caso NLP puro. Quizás mejore con algo de topic modelling.\n",
    "\n",
    "Muchísimo overfitting en el caso combinado."
   ]
  },
  {
   "cell_type": "code",
   "execution_count": 44,
   "metadata": {
    "collapsed": true,
    "deletable": true,
    "editable": true
   },
   "outputs": [],
   "source": [
    "from sklearn.linear_model import LogisticRegression"
   ]
  },
  {
   "cell_type": "code",
   "execution_count": 76,
   "metadata": {
    "collapsed": false,
    "deletable": true,
    "editable": true
   },
   "outputs": [
    {
     "name": "stdout",
     "output_type": "stream",
     "text": [
      "Detailed classification report:\n",
      "\n",
      "Scores on training set.\n",
      "\n",
      "             precision    recall  f1-score   support\n",
      "\n",
      "        0.0       0.99      1.00      0.99     83716\n",
      "        1.0       1.00      0.10      0.19      1393\n",
      "\n",
      "avg / total       0.99      0.99      0.98     85109\n",
      "\n",
      "Scores on test set.\n",
      "\n",
      "             precision    recall  f1-score   support\n",
      "\n",
      "        0.0       0.99      1.00      0.99     35902\n",
      "        1.0       0.79      0.09      0.16       574\n",
      "\n",
      "avg / total       0.98      0.99      0.98     36476\n",
      "\n"
     ]
    }
   ],
   "source": [
    "clf2 = LogisticRegression(penalty='l1', n_jobs=-1, C=500.0)     \n",
    "clf2.fit(X_train_f, y_train, sample_weight=sample_weights)\n",
    "\n",
    "evaluate_model(clf2, X_train_f, X_test_f, y_train, y_test)\n"
   ]
  },
  {
   "cell_type": "code",
   "execution_count": 77,
   "metadata": {
    "collapsed": false,
    "deletable": true,
    "editable": true
   },
   "outputs": [
    {
     "name": "stdout",
     "output_type": "stream",
     "text": [
      "Detailed classification report:\n",
      "\n",
      "Scores on training set.\n",
      "\n",
      "             precision    recall  f1-score   support\n",
      "\n",
      "        0.0       0.98      1.00      0.99     83716\n",
      "        1.0       0.00      0.00      0.00      1393\n",
      "\n",
      "avg / total       0.97      0.98      0.98     85109\n",
      "\n",
      "Scores on test set.\n",
      "\n",
      "             precision    recall  f1-score   support\n",
      "\n",
      "        0.0       0.98      1.00      0.99     35902\n",
      "        1.0       0.00      0.00      0.00       574\n",
      "\n",
      "avg / total       0.97      0.98      0.98     36476\n",
      "\n"
     ]
    }
   ],
   "source": [
    "clf3 = LogisticRegression(penalty='l1', n_jobs=-1, C=1.0)     \n",
    "clf3.fit(X_train_f, y_train, sample_weight=sample_weights)\n",
    "\n",
    "evaluate_model(clf3, X_train_f, X_test_f, y_train, y_test)\n"
   ]
  },
  {
   "cell_type": "code",
   "execution_count": 90,
   "metadata": {
    "collapsed": false,
    "deletable": true,
    "editable": true
   },
   "outputs": [
    {
     "name": "stdout",
     "output_type": "stream",
     "text": [
      "Detailed classification report:\n",
      "\n",
      "Scores on training set.\n",
      "\n",
      "             precision    recall  f1-score   support\n",
      "\n",
      "        0.0       1.00      0.90      0.94     83716\n",
      "        1.0       0.13      0.96      0.23      1393\n",
      "\n",
      "avg / total       0.99      0.90      0.93     85109\n",
      "\n",
      "Scores on test set.\n",
      "\n",
      "             precision    recall  f1-score   support\n",
      "\n",
      "        0.0       0.99      0.89      0.94     35902\n",
      "        1.0       0.08      0.58      0.14       574\n",
      "\n",
      "avg / total       0.98      0.89      0.93     36476\n",
      "\n"
     ]
    }
   ],
   "source": [
    "clf4 = LogisticRegression(penalty='l2', class_weight='balanced', n_jobs=-1, C=0.5)     \n",
    "clf4.fit(X_train_f, y_train)\n",
    "\n",
    "evaluate_model(clf4, X_train_f, X_test_f, y_train, y_test)\n"
   ]
  },
  {
   "cell_type": "code",
   "execution_count": 48,
   "metadata": {
    "collapsed": true,
    "deletable": true,
    "editable": true
   },
   "outputs": [],
   "source": [
    "from sklearn.linear_model import SGDClassifier\n"
   ]
  },
  {
   "cell_type": "code",
   "execution_count": 86,
   "metadata": {
    "collapsed": false,
    "deletable": true,
    "editable": true
   },
   "outputs": [],
   "source": [
    "clf = SGDClassifier(loss='hinge', penalty='elasticnet', alpha=0.0001,\n",
    "                    l1_ratio=0.15, fit_intercept=True, n_iter=5,\n",
    "                    shuffle=True, verbose=0, epsilon=0.1, n_jobs=-1,\n",
    "                    random_state=None, learning_rate='optimal', eta0=0.0,\n",
    "                    power_t=0.5, class_weight='balanced', warm_start=False, average=False)"
   ]
  },
  {
   "cell_type": "code",
   "execution_count": 87,
   "metadata": {
    "collapsed": false,
    "deletable": true,
    "editable": true
   },
   "outputs": [
    {
     "name": "stdout",
     "output_type": "stream",
     "text": [
      "Detailed classification report:\n",
      "\n",
      "Scores on training set.\n",
      "\n",
      "             precision    recall  f1-score   support\n",
      "\n",
      "        0.0       1.00      0.86      0.92     83716\n",
      "        1.0       0.10      0.94      0.18      1393\n",
      "\n",
      "avg / total       0.98      0.86      0.91     85109\n",
      "\n",
      "Scores on test set.\n",
      "\n",
      "             precision    recall  f1-score   support\n",
      "\n",
      "        0.0       0.99      0.85      0.92     35902\n",
      "        1.0       0.06      0.62      0.11       574\n",
      "\n",
      "avg / total       0.98      0.85      0.90     36476\n",
      "\n"
     ]
    }
   ],
   "source": [
    "clf.fit(X_train_f, y_train)\n",
    "evaluate_model(clf, X_train_f, X_test_f, y_train, y_test)"
   ]
  },
  {
   "cell_type": "code",
   "execution_count": null,
   "metadata": {
    "collapsed": true,
    "deletable": true,
    "editable": true
   },
   "outputs": [],
   "source": []
  }
 ],
 "metadata": {
  "kernelspec": {
   "display_name": "Python 2",
   "language": "python",
   "name": "python2"
  },
  "language_info": {
   "codemirror_mode": {
    "name": "ipython",
    "version": 2
   },
   "file_extension": ".py",
   "mimetype": "text/x-python",
   "name": "python",
   "nbconvert_exporter": "python",
   "pygments_lexer": "ipython2",
   "version": "2.7.12"
  }
 },
 "nbformat": 4,
 "nbformat_minor": 0
}
