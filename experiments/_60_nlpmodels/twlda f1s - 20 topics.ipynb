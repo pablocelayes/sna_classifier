{
 "cells": [
  {
   "cell_type": "code",
   "execution_count": 1,
   "metadata": {
    "collapsed": false
   },
   "outputs": [
    {
     "name": "stdout",
     "output_type": "stream",
     "text": [
      "Switching to API Credentials #5\n"
     ]
    }
   ],
   "source": [
    "from experiments._60_nlpmodels.fit_social_twlda_models import *"
   ]
  },
  {
   "cell_type": "code",
   "execution_count": 2,
   "metadata": {
    "collapsed": true
   },
   "outputs": [],
   "source": [
    "n_topics = 10"
   ]
  },
  {
   "cell_type": "markdown",
   "metadata": {},
   "source": [
    "# Comparación sobre tuning set"
   ]
  },
  {
   "cell_type": "code",
   "execution_count": 3,
   "metadata": {
    "collapsed": false
   },
   "outputs": [
    {
     "data": {
      "text/html": [
       "\n",
       "    <div class=\"bk-root\">\n",
       "        <a href=\"http://bokeh.pydata.org\" target=\"_blank\" class=\"bk-logo bk-logo-small bk-logo-notebook\"></a>\n",
       "        <span id=\"2688fc66-0594-4cc0-a447-338bc7cba3ee\">Loading BokehJS ...</span>\n",
       "    </div>"
      ]
     },
     "metadata": {},
     "output_type": "display_data"
    },
    {
     "data": {
      "application/javascript": [
       "\n",
       "(function(global) {\n",
       "  function now() {\n",
       "    return new Date();\n",
       "  }\n",
       "\n",
       "  var force = true;\n",
       "\n",
       "  if (typeof (window._bokeh_onload_callbacks) === \"undefined\" || force === true) {\n",
       "    window._bokeh_onload_callbacks = [];\n",
       "    window._bokeh_is_loading = undefined;\n",
       "  }\n",
       "\n",
       "\n",
       "  \n",
       "  if (typeof (window._bokeh_timeout) === \"undefined\" || force === true) {\n",
       "    window._bokeh_timeout = Date.now() + 5000;\n",
       "    window._bokeh_failed_load = false;\n",
       "  }\n",
       "\n",
       "  var NB_LOAD_WARNING = {'data': {'text/html':\n",
       "     \"<div style='background-color: #fdd'>\\n\"+\n",
       "     \"<p>\\n\"+\n",
       "     \"BokehJS does not appear to have successfully loaded. If loading BokehJS from CDN, this \\n\"+\n",
       "     \"may be due to a slow or bad network connection. Possible fixes:\\n\"+\n",
       "     \"</p>\\n\"+\n",
       "     \"<ul>\\n\"+\n",
       "     \"<li>re-rerun `output_notebook()` to attempt to load from CDN again, or</li>\\n\"+\n",
       "     \"<li>use INLINE resources instead, as so:</li>\\n\"+\n",
       "     \"</ul>\\n\"+\n",
       "     \"<code>\\n\"+\n",
       "     \"from bokeh.resources import INLINE\\n\"+\n",
       "     \"output_notebook(resources=INLINE)\\n\"+\n",
       "     \"</code>\\n\"+\n",
       "     \"</div>\"}};\n",
       "\n",
       "  function display_loaded() {\n",
       "    if (window.Bokeh !== undefined) {\n",
       "      var el = document.getElementById(\"2688fc66-0594-4cc0-a447-338bc7cba3ee\");\n",
       "      el.textContent = \"BokehJS \" + Bokeh.version + \" successfully loaded.\";\n",
       "    } else if (Date.now() < window._bokeh_timeout) {\n",
       "      setTimeout(display_loaded, 100)\n",
       "    }\n",
       "  }\n",
       "\n",
       "  function run_callbacks() {\n",
       "    window._bokeh_onload_callbacks.forEach(function(callback) { callback() });\n",
       "    delete window._bokeh_onload_callbacks\n",
       "    console.info(\"Bokeh: all callbacks have finished\");\n",
       "  }\n",
       "\n",
       "  function load_libs(js_urls, callback) {\n",
       "    window._bokeh_onload_callbacks.push(callback);\n",
       "    if (window._bokeh_is_loading > 0) {\n",
       "      console.log(\"Bokeh: BokehJS is being loaded, scheduling callback at\", now());\n",
       "      return null;\n",
       "    }\n",
       "    if (js_urls == null || js_urls.length === 0) {\n",
       "      run_callbacks();\n",
       "      return null;\n",
       "    }\n",
       "    console.log(\"Bokeh: BokehJS not loaded, scheduling load and callback at\", now());\n",
       "    window._bokeh_is_loading = js_urls.length;\n",
       "    for (var i = 0; i < js_urls.length; i++) {\n",
       "      var url = js_urls[i];\n",
       "      var s = document.createElement('script');\n",
       "      s.src = url;\n",
       "      s.async = false;\n",
       "      s.onreadystatechange = s.onload = function() {\n",
       "        window._bokeh_is_loading--;\n",
       "        if (window._bokeh_is_loading === 0) {\n",
       "          console.log(\"Bokeh: all BokehJS libraries loaded\");\n",
       "          run_callbacks()\n",
       "        }\n",
       "      };\n",
       "      s.onerror = function() {\n",
       "        console.warn(\"failed to load library \" + url);\n",
       "      };\n",
       "      console.log(\"Bokeh: injecting script tag for BokehJS library: \", url);\n",
       "      document.getElementsByTagName(\"head\")[0].appendChild(s);\n",
       "    }\n",
       "  };var element = document.getElementById(\"2688fc66-0594-4cc0-a447-338bc7cba3ee\");\n",
       "  if (element == null) {\n",
       "    console.log(\"Bokeh: ERROR: autoload.js configured with elementid '2688fc66-0594-4cc0-a447-338bc7cba3ee' but no matching script tag was found. \")\n",
       "    return false;\n",
       "  }\n",
       "\n",
       "  var js_urls = [\"https://cdn.pydata.org/bokeh/release/bokeh-0.12.5.min.js\", \"https://cdn.pydata.org/bokeh/release/bokeh-widgets-0.12.5.min.js\"];\n",
       "\n",
       "  var inline_js = [\n",
       "    function(Bokeh) {\n",
       "      Bokeh.set_log_level(\"info\");\n",
       "    },\n",
       "    \n",
       "    function(Bokeh) {\n",
       "      \n",
       "    },\n",
       "    \n",
       "    function(Bokeh) {\n",
       "      \n",
       "      document.getElementById(\"2688fc66-0594-4cc0-a447-338bc7cba3ee\").textContent = \"BokehJS is loading...\";\n",
       "    },\n",
       "    function(Bokeh) {\n",
       "      console.log(\"Bokeh: injecting CSS: https://cdn.pydata.org/bokeh/release/bokeh-0.12.5.min.css\");\n",
       "      Bokeh.embed.inject_css(\"https://cdn.pydata.org/bokeh/release/bokeh-0.12.5.min.css\");\n",
       "      console.log(\"Bokeh: injecting CSS: https://cdn.pydata.org/bokeh/release/bokeh-widgets-0.12.5.min.css\");\n",
       "      Bokeh.embed.inject_css(\"https://cdn.pydata.org/bokeh/release/bokeh-widgets-0.12.5.min.css\");\n",
       "    }\n",
       "  ];\n",
       "\n",
       "  function run_inline_js() {\n",
       "    \n",
       "    if ((window.Bokeh !== undefined) || (force === true)) {\n",
       "      for (var i = 0; i < inline_js.length; i++) {\n",
       "        inline_js[i](window.Bokeh);\n",
       "      }if (force === true) {\n",
       "        display_loaded();\n",
       "      }} else if (Date.now() < window._bokeh_timeout) {\n",
       "      setTimeout(run_inline_js, 100);\n",
       "    } else if (!window._bokeh_failed_load) {\n",
       "      console.log(\"Bokeh: BokehJS failed to load within specified timeout.\");\n",
       "      window._bokeh_failed_load = true;\n",
       "    } else if (force !== true) {\n",
       "      var cell = $(document.getElementById(\"2688fc66-0594-4cc0-a447-338bc7cba3ee\")).parents('.cell').data().cell;\n",
       "      cell.output_area.append_execute_result(NB_LOAD_WARNING)\n",
       "    }\n",
       "\n",
       "  }\n",
       "\n",
       "  if (window._bokeh_is_loading === 0) {\n",
       "    console.log(\"Bokeh: BokehJS loaded, going straight to plotting\");\n",
       "    run_inline_js();\n",
       "  } else {\n",
       "    load_libs(js_urls, function() {\n",
       "      console.log(\"Bokeh: BokehJS plotting callback run at\", now());\n",
       "      run_inline_js();\n",
       "    });\n",
       "  }\n",
       "}(this));"
      ]
     },
     "metadata": {},
     "output_type": "display_data"
    }
   ],
   "source": [
    "from bokeh.charts import Line, show, output_notebook\n",
    "output_notebook()"
   ]
  },
  {
   "cell_type": "code",
   "execution_count": 4,
   "metadata": {
    "collapsed": false
   },
   "outputs": [],
   "source": [
    "nlp_uids = [u for u, f in load_nlp_selected_users()]"
   ]
  },
  {
   "cell_type": "code",
   "execution_count": 5,
   "metadata": {
    "collapsed": false
   },
   "outputs": [
    {
     "data": {
      "text/html": [
       "\n",
       "\n",
       "    <div class=\"bk-root\">\n",
       "        <div class=\"bk-plotdiv\" id=\"5e99fa3a-ef30-4bf4-a977-7d888646996c\"></div>\n",
       "    </div>\n",
       "<script type=\"text/javascript\">\n",
       "  \n",
       "  (function(global) {\n",
       "    function now() {\n",
       "      return new Date();\n",
       "    }\n",
       "  \n",
       "    var force = false;\n",
       "  \n",
       "    if (typeof (window._bokeh_onload_callbacks) === \"undefined\" || force === true) {\n",
       "      window._bokeh_onload_callbacks = [];\n",
       "      window._bokeh_is_loading = undefined;\n",
       "    }\n",
       "  \n",
       "  \n",
       "    \n",
       "    if (typeof (window._bokeh_timeout) === \"undefined\" || force === true) {\n",
       "      window._bokeh_timeout = Date.now() + 0;\n",
       "      window._bokeh_failed_load = false;\n",
       "    }\n",
       "  \n",
       "    var NB_LOAD_WARNING = {'data': {'text/html':\n",
       "       \"<div style='background-color: #fdd'>\\n\"+\n",
       "       \"<p>\\n\"+\n",
       "       \"BokehJS does not appear to have successfully loaded. If loading BokehJS from CDN, this \\n\"+\n",
       "       \"may be due to a slow or bad network connection. Possible fixes:\\n\"+\n",
       "       \"</p>\\n\"+\n",
       "       \"<ul>\\n\"+\n",
       "       \"<li>re-rerun `output_notebook()` to attempt to load from CDN again, or</li>\\n\"+\n",
       "       \"<li>use INLINE resources instead, as so:</li>\\n\"+\n",
       "       \"</ul>\\n\"+\n",
       "       \"<code>\\n\"+\n",
       "       \"from bokeh.resources import INLINE\\n\"+\n",
       "       \"output_notebook(resources=INLINE)\\n\"+\n",
       "       \"</code>\\n\"+\n",
       "       \"</div>\"}};\n",
       "  \n",
       "    function display_loaded() {\n",
       "      if (window.Bokeh !== undefined) {\n",
       "        var el = document.getElementById(\"5e99fa3a-ef30-4bf4-a977-7d888646996c\");\n",
       "        el.textContent = \"BokehJS \" + Bokeh.version + \" successfully loaded.\";\n",
       "      } else if (Date.now() < window._bokeh_timeout) {\n",
       "        setTimeout(display_loaded, 100)\n",
       "      }\n",
       "    }\n",
       "  \n",
       "    function run_callbacks() {\n",
       "      window._bokeh_onload_callbacks.forEach(function(callback) { callback() });\n",
       "      delete window._bokeh_onload_callbacks\n",
       "      console.info(\"Bokeh: all callbacks have finished\");\n",
       "    }\n",
       "  \n",
       "    function load_libs(js_urls, callback) {\n",
       "      window._bokeh_onload_callbacks.push(callback);\n",
       "      if (window._bokeh_is_loading > 0) {\n",
       "        console.log(\"Bokeh: BokehJS is being loaded, scheduling callback at\", now());\n",
       "        return null;\n",
       "      }\n",
       "      if (js_urls == null || js_urls.length === 0) {\n",
       "        run_callbacks();\n",
       "        return null;\n",
       "      }\n",
       "      console.log(\"Bokeh: BokehJS not loaded, scheduling load and callback at\", now());\n",
       "      window._bokeh_is_loading = js_urls.length;\n",
       "      for (var i = 0; i < js_urls.length; i++) {\n",
       "        var url = js_urls[i];\n",
       "        var s = document.createElement('script');\n",
       "        s.src = url;\n",
       "        s.async = false;\n",
       "        s.onreadystatechange = s.onload = function() {\n",
       "          window._bokeh_is_loading--;\n",
       "          if (window._bokeh_is_loading === 0) {\n",
       "            console.log(\"Bokeh: all BokehJS libraries loaded\");\n",
       "            run_callbacks()\n",
       "          }\n",
       "        };\n",
       "        s.onerror = function() {\n",
       "          console.warn(\"failed to load library \" + url);\n",
       "        };\n",
       "        console.log(\"Bokeh: injecting script tag for BokehJS library: \", url);\n",
       "        document.getElementsByTagName(\"head\")[0].appendChild(s);\n",
       "      }\n",
       "    };var element = document.getElementById(\"5e99fa3a-ef30-4bf4-a977-7d888646996c\");\n",
       "    if (element == null) {\n",
       "      console.log(\"Bokeh: ERROR: autoload.js configured with elementid '5e99fa3a-ef30-4bf4-a977-7d888646996c' but no matching script tag was found. \")\n",
       "      return false;\n",
       "    }\n",
       "  \n",
       "    var js_urls = [];\n",
       "  \n",
       "    var inline_js = [\n",
       "      function(Bokeh) {\n",
       "        (function() {\n",
       "          var fn = function() {\n",
       "            var docs_json = {\"d7874f66-7536-482c-8204-739dfeefa742\":{\"roots\":{\"references\":[{\"attributes\":{},\"id\":\"66c4f984-7f33-4d94-b55a-776a2df532ac\",\"type\":\"BasicTickFormatter\"},{\"attributes\":{\"plot\":{\"id\":\"4f49f1cf-5d74-482d-8cb0-ebe265f1a6db\",\"subtype\":\"Chart\",\"type\":\"Plot\"}},\"id\":\"df9930ef-45ae-4404-ba7c-811e00f42bfd\",\"type\":\"SaveTool\"},{\"attributes\":{\"callback\":null,\"end\":39.6,\"start\":-3.6},\"id\":\"8f99fd6f-3e9d-41fd-b79c-375517f8eebe\",\"type\":\"Range1d\"},{\"attributes\":{\"data_source\":{\"id\":\"9cc03641-484a-48e1-ad55-5486f9dd442e\",\"type\":\"ColumnDataSource\"},\"glyph\":{\"id\":\"5603f211-ed41-450b-96c2-3bdf343a7a98\",\"type\":\"Line\"},\"hover_glyph\":null,\"muted_glyph\":null},\"id\":\"b8d2ad37-d991-424c-8391-fe54ff19ac11\",\"type\":\"GlyphRenderer\"},{\"attributes\":{\"line_color\":{\"value\":\"#f22c40\"},\"line_width\":{\"value\":2},\"x\":{\"field\":\"x_values\"},\"y\":{\"field\":\"y_values\"}},\"id\":\"3da7cfe8-e0d8-4903-9c3a-4effa49f1162\",\"type\":\"Line\"},{\"attributes\":{\"below\":[{\"id\":\"9757ba4d-9aba-47b6-946d-e037d16bcd45\",\"type\":\"LinearAxis\"}],\"css_classes\":null,\"left\":[{\"id\":\"eafe5989-787c-44b5-8b70-01c8f84cbb63\",\"type\":\"LinearAxis\"}],\"renderers\":[{\"id\":\"735ec68d-b93c-4563-8349-7f0c39631b16\",\"type\":\"BoxAnnotation\"},{\"id\":\"4f11e9f4-aaca-418a-b178-8467492d0072\",\"type\":\"GlyphRenderer\"},{\"id\":\"b8d2ad37-d991-424c-8391-fe54ff19ac11\",\"type\":\"GlyphRenderer\"},{\"id\":\"e8e93f1d-86cf-4379-9f00-6737b2812178\",\"type\":\"Legend\"},{\"id\":\"9757ba4d-9aba-47b6-946d-e037d16bcd45\",\"type\":\"LinearAxis\"},{\"id\":\"eafe5989-787c-44b5-8b70-01c8f84cbb63\",\"type\":\"LinearAxis\"},{\"id\":\"dcd1bb39-23d9-4816-b48c-6697e5412c7d\",\"type\":\"Grid\"},{\"id\":\"bd601293-628f-4ed9-ac81-4298dc64f699\",\"type\":\"Grid\"}],\"title\":{\"id\":\"0d7c9b84-18cb-4a28-9345-78893af69c4a\",\"type\":\"Title\"},\"tool_events\":{\"id\":\"ba4da0b9-c8fc-429c-9e3c-452b346bf776\",\"type\":\"ToolEvents\"},\"toolbar\":{\"id\":\"aba06676-2f69-417d-bb3a-6dd938da4818\",\"type\":\"Toolbar\"},\"x_mapper_type\":\"auto\",\"x_range\":{\"id\":\"8f99fd6f-3e9d-41fd-b79c-375517f8eebe\",\"type\":\"Range1d\"},\"y_mapper_type\":\"auto\",\"y_range\":{\"id\":\"de34ada3-fd28-4d44-82b1-bb886334fc4e\",\"type\":\"Range1d\"}},\"id\":\"4f49f1cf-5d74-482d-8cb0-ebe265f1a6db\",\"subtype\":\"Chart\",\"type\":\"Plot\"},{\"attributes\":{\"plot\":{\"id\":\"4f49f1cf-5d74-482d-8cb0-ebe265f1a6db\",\"subtype\":\"Chart\",\"type\":\"Plot\"}},\"id\":\"8daf7ec9-a637-4c39-a0af-fc38f41c8f9d\",\"type\":\"PanTool\"},{\"attributes\":{\"axis_label\":\"usuarios (ordenados por f1 del modelo social en datos de evaluaci\\u00f3n)\",\"formatter\":{\"id\":\"66c4f984-7f33-4d94-b55a-776a2df532ac\",\"type\":\"BasicTickFormatter\"},\"plot\":{\"id\":\"4f49f1cf-5d74-482d-8cb0-ebe265f1a6db\",\"subtype\":\"Chart\",\"type\":\"Plot\"},\"ticker\":{\"id\":\"c6bf3228-fe29-441e-9ba6-15f3c4e475ee\",\"type\":\"BasicTicker\"}},\"id\":\"9757ba4d-9aba-47b6-946d-e037d16bcd45\",\"type\":\"LinearAxis\"},{\"attributes\":{\"plot\":null,\"text\":null},\"id\":\"0d7c9b84-18cb-4a28-9345-78893af69c4a\",\"type\":\"Title\"},{\"attributes\":{\"dimension\":1,\"plot\":{\"id\":\"4f49f1cf-5d74-482d-8cb0-ebe265f1a6db\",\"subtype\":\"Chart\",\"type\":\"Plot\"},\"ticker\":{\"id\":\"864c5ee8-a05c-484b-9ce7-b0cd16fbfb1d\",\"type\":\"BasicTicker\"}},\"id\":\"bd601293-628f-4ed9-ac81-4298dc64f699\",\"type\":\"Grid\"},{\"attributes\":{\"plot\":{\"id\":\"4f49f1cf-5d74-482d-8cb0-ebe265f1a6db\",\"subtype\":\"Chart\",\"type\":\"Plot\"}},\"id\":\"59c268a9-e71e-4e35-b348-19d995875e8e\",\"type\":\"WheelZoomTool\"},{\"attributes\":{\"label\":{\"value\":\"social+twlda10\"},\"renderers\":[{\"id\":\"b8d2ad37-d991-424c-8391-fe54ff19ac11\",\"type\":\"GlyphRenderer\"}]},\"id\":\"2bb41603-24cf-42de-8c13-32e7a9f8457c\",\"type\":\"LegendItem\"},{\"attributes\":{\"axis_label\":\"puntaje f1 sobre datos de evaluaci\\u00f3n\",\"formatter\":{\"id\":\"623879ff-b3e5-4988-8682-a0cb7374f21d\",\"type\":\"BasicTickFormatter\"},\"plot\":{\"id\":\"4f49f1cf-5d74-482d-8cb0-ebe265f1a6db\",\"subtype\":\"Chart\",\"type\":\"Plot\"},\"ticker\":{\"id\":\"864c5ee8-a05c-484b-9ce7-b0cd16fbfb1d\",\"type\":\"BasicTicker\"}},\"id\":\"eafe5989-787c-44b5-8b70-01c8f84cbb63\",\"type\":\"LinearAxis\"},{\"attributes\":{\"line_color\":{\"value\":\"#5ab738\"},\"line_dash\":[6],\"line_width\":{\"value\":2},\"x\":{\"field\":\"x_values\"},\"y\":{\"field\":\"y_values\"}},\"id\":\"5603f211-ed41-450b-96c2-3bdf343a7a98\",\"type\":\"Line\"},{\"attributes\":{\"items\":[{\"id\":\"2bb41603-24cf-42de-8c13-32e7a9f8457c\",\"type\":\"LegendItem\"},{\"id\":\"8de3d14d-1e59-48d7-9ec9-79f8c6250a04\",\"type\":\"LegendItem\"}],\"location\":\"top_left\",\"plot\":{\"id\":\"4f49f1cf-5d74-482d-8cb0-ebe265f1a6db\",\"subtype\":\"Chart\",\"type\":\"Plot\"}},\"id\":\"e8e93f1d-86cf-4379-9f00-6737b2812178\",\"type\":\"Legend\"},{\"attributes\":{\"callback\":null,\"column_names\":[\"x_values\",\"y_values\"],\"data\":{\"chart_index\":[{\"series\":\"social\"},{\"series\":\"social\"},{\"series\":\"social\"},{\"series\":\"social\"},{\"series\":\"social\"},{\"series\":\"social\"},{\"series\":\"social\"},{\"series\":\"social\"},{\"series\":\"social\"},{\"series\":\"social\"},{\"series\":\"social\"},{\"series\":\"social\"},{\"series\":\"social\"},{\"series\":\"social\"},{\"series\":\"social\"},{\"series\":\"social\"},{\"series\":\"social\"},{\"series\":\"social\"},{\"series\":\"social\"},{\"series\":\"social\"},{\"series\":\"social\"},{\"series\":\"social\"},{\"series\":\"social\"},{\"series\":\"social\"},{\"series\":\"social\"},{\"series\":\"social\"},{\"series\":\"social\"},{\"series\":\"social\"},{\"series\":\"social\"},{\"series\":\"social\"},{\"series\":\"social\"},{\"series\":\"social\"},{\"series\":\"social\"},{\"series\":\"social\"},{\"series\":\"social\"},{\"series\":\"social\"},{\"series\":\"social\"}],\"series\":[\"social\",\"social\",\"social\",\"social\",\"social\",\"social\",\"social\",\"social\",\"social\",\"social\",\"social\",\"social\",\"social\",\"social\",\"social\",\"social\",\"social\",\"social\",\"social\",\"social\",\"social\",\"social\",\"social\",\"social\",\"social\",\"social\",\"social\",\"social\",\"social\",\"social\",\"social\",\"social\",\"social\",\"social\",\"social\",\"social\",\"social\"],\"x_values\":[0,1,2,3,4,5,6,7,8,9,10,11,12,13,14,15,16,17,18,19,20,21,22,23,24,25,26,27,28,29,30,31,32,33,34,35,36],\"y_values\":{\"__ndarray__\":\"g/1WG0PTrT900UUXXXThP6uqqqqqquI/09LS0tLS4j/IU4I8JcjjPwAAAAAAAOQ/AAAAAAAA5D9VVVVVVVXlP1VVVVVVVeU/VVVVVVVV5T9VVVVVVVXlP1VVVVVVVeU/2pWoXYna5T9lIQtZyELmP5dlWZZlWeY/Z2ZmZmZm5j9nZmZmZmbmP5eWlpaWluY/qqqqqqqq5j+qqqqqqqrmP7dt27Zt2+Y/l2/5lm/55j94d3d3d3fnP7169erVq+c/QnsJ7SW05z/0BX1BX9DnP////////+c/OY7jOI7j6D/TjhUII+3oP5uZmZmZmek/////////6j9yBTG5gpjsP6DcAcodoOw/ntiJndiJ7T97rGXogN3uP/jee++99+4/PF5sCb7N7z8=\",\"dtype\":\"float64\",\"shape\":[37]}}},\"id\":\"d0dd7a55-82d6-4389-b03a-be5f3c3f47e8\",\"type\":\"ColumnDataSource\"},{\"attributes\":{\"callback\":null,\"end\":1.0874262910238848,\"start\":-0.035308833164572055},\"id\":\"de34ada3-fd28-4d44-82b1-bb886334fc4e\",\"type\":\"Range1d\"},{\"attributes\":{\"bottom_units\":\"screen\",\"fill_alpha\":{\"value\":0.5},\"fill_color\":{\"value\":\"lightgrey\"},\"left_units\":\"screen\",\"level\":\"overlay\",\"line_alpha\":{\"value\":1.0},\"line_color\":{\"value\":\"black\"},\"line_dash\":[4,4],\"line_width\":{\"value\":2},\"plot\":null,\"render_mode\":\"css\",\"right_units\":\"screen\",\"top_units\":\"screen\"},\"id\":\"735ec68d-b93c-4563-8349-7f0c39631b16\",\"type\":\"BoxAnnotation\"},{\"attributes\":{\"active_drag\":\"auto\",\"active_scroll\":\"auto\",\"active_tap\":\"auto\",\"tools\":[{\"id\":\"8daf7ec9-a637-4c39-a0af-fc38f41c8f9d\",\"type\":\"PanTool\"},{\"id\":\"59c268a9-e71e-4e35-b348-19d995875e8e\",\"type\":\"WheelZoomTool\"},{\"id\":\"f87767b3-18eb-4d55-9d55-39fd1faa4ea9\",\"type\":\"BoxZoomTool\"},{\"id\":\"df9930ef-45ae-4404-ba7c-811e00f42bfd\",\"type\":\"SaveTool\"},{\"id\":\"db4dad62-208b-44cb-8c71-cd521305c606\",\"type\":\"ResetTool\"},{\"id\":\"3fe43815-f158-4fa2-ad46-a95681097258\",\"type\":\"HelpTool\"}]},\"id\":\"aba06676-2f69-417d-bb3a-6dd938da4818\",\"type\":\"Toolbar\"},{\"attributes\":{\"data_source\":{\"id\":\"d0dd7a55-82d6-4389-b03a-be5f3c3f47e8\",\"type\":\"ColumnDataSource\"},\"glyph\":{\"id\":\"3da7cfe8-e0d8-4903-9c3a-4effa49f1162\",\"type\":\"Line\"},\"hover_glyph\":null,\"muted_glyph\":null},\"id\":\"4f11e9f4-aaca-418a-b178-8467492d0072\",\"type\":\"GlyphRenderer\"},{\"attributes\":{\"plot\":{\"id\":\"4f49f1cf-5d74-482d-8cb0-ebe265f1a6db\",\"subtype\":\"Chart\",\"type\":\"Plot\"}},\"id\":\"db4dad62-208b-44cb-8c71-cd521305c606\",\"type\":\"ResetTool\"},{\"attributes\":{},\"id\":\"c6bf3228-fe29-441e-9ba6-15f3c4e475ee\",\"type\":\"BasicTicker\"},{\"attributes\":{},\"id\":\"623879ff-b3e5-4988-8682-a0cb7374f21d\",\"type\":\"BasicTickFormatter\"},{\"attributes\":{\"overlay\":{\"id\":\"735ec68d-b93c-4563-8349-7f0c39631b16\",\"type\":\"BoxAnnotation\"},\"plot\":{\"id\":\"4f49f1cf-5d74-482d-8cb0-ebe265f1a6db\",\"subtype\":\"Chart\",\"type\":\"Plot\"}},\"id\":\"f87767b3-18eb-4d55-9d55-39fd1faa4ea9\",\"type\":\"BoxZoomTool\"},{\"attributes\":{\"plot\":{\"id\":\"4f49f1cf-5d74-482d-8cb0-ebe265f1a6db\",\"subtype\":\"Chart\",\"type\":\"Plot\"}},\"id\":\"3fe43815-f158-4fa2-ad46-a95681097258\",\"type\":\"HelpTool\"},{\"attributes\":{\"plot\":{\"id\":\"4f49f1cf-5d74-482d-8cb0-ebe265f1a6db\",\"subtype\":\"Chart\",\"type\":\"Plot\"},\"ticker\":{\"id\":\"c6bf3228-fe29-441e-9ba6-15f3c4e475ee\",\"type\":\"BasicTicker\"}},\"id\":\"dcd1bb39-23d9-4816-b48c-6697e5412c7d\",\"type\":\"Grid\"},{\"attributes\":{},\"id\":\"ba4da0b9-c8fc-429c-9e3c-452b346bf776\",\"type\":\"ToolEvents\"},{\"attributes\":{\"callback\":null,\"column_names\":[\"x_values\",\"y_values\"],\"data\":{\"chart_index\":[{\"series\":\"social+twlda10\"},{\"series\":\"social+twlda10\"},{\"series\":\"social+twlda10\"},{\"series\":\"social+twlda10\"},{\"series\":\"social+twlda10\"},{\"series\":\"social+twlda10\"},{\"series\":\"social+twlda10\"},{\"series\":\"social+twlda10\"},{\"series\":\"social+twlda10\"},{\"series\":\"social+twlda10\"},{\"series\":\"social+twlda10\"},{\"series\":\"social+twlda10\"},{\"series\":\"social+twlda10\"},{\"series\":\"social+twlda10\"},{\"series\":\"social+twlda10\"},{\"series\":\"social+twlda10\"},{\"series\":\"social+twlda10\"},{\"series\":\"social+twlda10\"},{\"series\":\"social+twlda10\"},{\"series\":\"social+twlda10\"},{\"series\":\"social+twlda10\"},{\"series\":\"social+twlda10\"},{\"series\":\"social+twlda10\"},{\"series\":\"social+twlda10\"},{\"series\":\"social+twlda10\"},{\"series\":\"social+twlda10\"},{\"series\":\"social+twlda10\"},{\"series\":\"social+twlda10\"},{\"series\":\"social+twlda10\"},{\"series\":\"social+twlda10\"},{\"series\":\"social+twlda10\"},{\"series\":\"social+twlda10\"},{\"series\":\"social+twlda10\"},{\"series\":\"social+twlda10\"},{\"series\":\"social+twlda10\"},{\"series\":\"social+twlda10\"},{\"series\":\"social+twlda10\"}],\"series\":[\"social+twlda10\",\"social+twlda10\",\"social+twlda10\",\"social+twlda10\",\"social+twlda10\",\"social+twlda10\",\"social+twlda10\",\"social+twlda10\",\"social+twlda10\",\"social+twlda10\",\"social+twlda10\",\"social+twlda10\",\"social+twlda10\",\"social+twlda10\",\"social+twlda10\",\"social+twlda10\",\"social+twlda10\",\"social+twlda10\",\"social+twlda10\",\"social+twlda10\",\"social+twlda10\",\"social+twlda10\",\"social+twlda10\",\"social+twlda10\",\"social+twlda10\",\"social+twlda10\",\"social+twlda10\",\"social+twlda10\",\"social+twlda10\",\"social+twlda10\",\"social+twlda10\",\"social+twlda10\",\"social+twlda10\",\"social+twlda10\",\"social+twlda10\",\"social+twlda10\",\"social+twlda10\"],\"x_values\":[0,1,2,3,4,5,6,7,8,9,10,11,12,13,14,15,16,17,18,19,20,21,22,23,24,25,26,27,28,29,30,31,32,33,34,35,36],\"y_values\":{\"__ndarray__\":\"R1juaYTl7j900UUXXXThP0J7Ce0ltOc/09LS0tLS4j/IU4I8JcjjPwAAAAAAAOQ/VVVVVVVV5T9JkiRJkiTlPxVf8RVf8eU/VVVVVVVV5T9VVVVVVVXlP9R3Nuo7G+U/2pWoXYna5T9lIQtZyELmP6611lprreU/Z2ZmZmZm5j9nZmZmZmbmP1ZVVVVVVeU/VxCTK4jJ5T+qqqqqqqrmP7dt27Zt2+Y/l2/5lm/55j94d3d3d3fnP////////+c/QnsJ7SW05z/0BX1BX9DnP////////+c/lpaWlpaW5j/TjhUII+3oPx3HcRzHcew/m6ZpmqZp6j9yBTG5gpjsP////////+s/L6G9hPYS6j8o47dLPRnvP/jee++99+4/PF5sCb7N7z8=\",\"dtype\":\"float64\",\"shape\":[37]}}},\"id\":\"9cc03641-484a-48e1-ad55-5486f9dd442e\",\"type\":\"ColumnDataSource\"},{\"attributes\":{},\"id\":\"864c5ee8-a05c-484b-9ce7-b0cd16fbfb1d\",\"type\":\"BasicTicker\"},{\"attributes\":{\"label\":{\"value\":\"social\"},\"renderers\":[{\"id\":\"4f11e9f4-aaca-418a-b178-8467492d0072\",\"type\":\"GlyphRenderer\"}]},\"id\":\"8de3d14d-1e59-48d7-9ec9-79f8c6250a04\",\"type\":\"LegendItem\"}],\"root_ids\":[\"4f49f1cf-5d74-482d-8cb0-ebe265f1a6db\"]},\"title\":\"Bokeh Application\",\"version\":\"0.12.5\"}};\n",
       "            var render_items = [{\"docid\":\"d7874f66-7536-482c-8204-739dfeefa742\",\"elementid\":\"5e99fa3a-ef30-4bf4-a977-7d888646996c\",\"modelid\":\"4f49f1cf-5d74-482d-8cb0-ebe265f1a6db\"}];\n",
       "            \n",
       "            Bokeh.embed.embed_items(docs_json, render_items);\n",
       "          };\n",
       "          if (document.readyState != \"loading\") fn();\n",
       "          else document.addEventListener(\"DOMContentLoaded\", fn);\n",
       "        })();\n",
       "      },\n",
       "      function(Bokeh) {\n",
       "      }\n",
       "    ];\n",
       "  \n",
       "    function run_inline_js() {\n",
       "      \n",
       "      if ((window.Bokeh !== undefined) || (force === true)) {\n",
       "        for (var i = 0; i < inline_js.length; i++) {\n",
       "          inline_js[i](window.Bokeh);\n",
       "        }if (force === true) {\n",
       "          display_loaded();\n",
       "        }} else if (Date.now() < window._bokeh_timeout) {\n",
       "        setTimeout(run_inline_js, 100);\n",
       "      } else if (!window._bokeh_failed_load) {\n",
       "        console.log(\"Bokeh: BokehJS failed to load within specified timeout.\");\n",
       "        window._bokeh_failed_load = true;\n",
       "      } else if (force !== true) {\n",
       "        var cell = $(document.getElementById(\"5e99fa3a-ef30-4bf4-a977-7d888646996c\")).parents('.cell').data().cell;\n",
       "        cell.output_area.append_execute_result(NB_LOAD_WARNING)\n",
       "      }\n",
       "  \n",
       "    }\n",
       "  \n",
       "    if (window._bokeh_is_loading === 0) {\n",
       "      console.log(\"Bokeh: BokehJS loaded, going straight to plotting\");\n",
       "      run_inline_js();\n",
       "    } else {\n",
       "      load_libs(js_urls, function() {\n",
       "        console.log(\"Bokeh: BokehJS plotting callback run at\", now());\n",
       "        run_inline_js();\n",
       "      });\n",
       "    }\n",
       "  }(this));\n",
       "</script>"
      ]
     },
     "metadata": {},
     "output_type": "display_data"
    }
   ],
   "source": [
    "with open('scores/tw_t%d_f1s_valid_svc.json' % n_topics) as f:\n",
    "    f1s_combined = json.load(f)\n",
    "\n",
    "f1s_social = json.load(open('../_1_one_user_learn_neighbours/scores/f1s_valid_svc.json'))\n",
    "f1s_social = {u: f for u, f in f1s_social.items() if u in nlp_uids}\n",
    "\n",
    "sorted_uids = [u for u, f in sorted(f1s_social.items(), key=lambda x:x[1])]\n",
    "indices = range(len(sorted_uids))\n",
    "\n",
    "f1s_lda = np.array([f1s_combined[sorted_uids[i]] for i in indices])\n",
    "f1s_s = np.array([f1s_social[sorted_uids[i]] for i in indices])\n",
    "\n",
    "# build a dataset where multiple columns measure the same thing\n",
    "data = {\n",
    "    \"social\": f1s_s,\n",
    "    \"social+twlda%d\" % n_topics: f1s_lda\n",
    "}\n",
    "\n",
    "labels = ['social', 'social+twlda%d' % n_topics]\n",
    "\n",
    "# create a line chart where each column of measures receives a unique color and dash style\n",
    "line = Line(data, y=labels,\n",
    "            dash=labels,\n",
    "            color=labels,\n",
    "            legend_sort_field = 'color',\n",
    "            legend_sort_direction = 'descending',\n",
    "            xlabel='usuarios (ordenados por f1 del modelo social en datos de evaluación)',\n",
    "            ylabel='puntaje f1 sobre datos de evaluación', legend=True)\n",
    "\n",
    "show(line)"
   ]
  },
  {
   "cell_type": "code",
   "execution_count": 6,
   "metadata": {
    "collapsed": false
   },
   "outputs": [
    {
     "data": {
      "text/plain": [
       "7"
      ]
     },
     "execution_count": 6,
     "metadata": {},
     "output_type": "execute_result"
    }
   ],
   "source": [
    "sum(f1s_lda > f1s_s)"
   ]
  },
  {
   "cell_type": "code",
   "execution_count": 7,
   "metadata": {
    "collapsed": false
   },
   "outputs": [
    {
     "data": {
      "text/plain": [
       "0.74236383453706145"
      ]
     },
     "execution_count": 7,
     "metadata": {},
     "output_type": "execute_result"
    }
   ],
   "source": [
    "np.mean(f1s_lda)"
   ]
  },
  {
   "cell_type": "code",
   "execution_count": 8,
   "metadata": {
    "collapsed": false
   },
   "outputs": [
    {
     "data": {
      "text/plain": [
       "0.71768682625332803"
      ]
     },
     "execution_count": 8,
     "metadata": {},
     "output_type": "execute_result"
    }
   ],
   "source": [
    "np.mean(f1s_s)"
   ]
  },
  {
   "cell_type": "markdown",
   "metadata": {},
   "source": [
    "# Comparación en test set"
   ]
  },
  {
   "cell_type": "code",
   "execution_count": 9,
   "metadata": {
    "collapsed": false
   },
   "outputs": [
    {
     "data": {
      "text/html": [
       "\n",
       "\n",
       "    <div class=\"bk-root\">\n",
       "        <div class=\"bk-plotdiv\" id=\"6dcc7641-9b5b-4844-a244-e573b06b87f8\"></div>\n",
       "    </div>\n",
       "<script type=\"text/javascript\">\n",
       "  \n",
       "  (function(global) {\n",
       "    function now() {\n",
       "      return new Date();\n",
       "    }\n",
       "  \n",
       "    var force = false;\n",
       "  \n",
       "    if (typeof (window._bokeh_onload_callbacks) === \"undefined\" || force === true) {\n",
       "      window._bokeh_onload_callbacks = [];\n",
       "      window._bokeh_is_loading = undefined;\n",
       "    }\n",
       "  \n",
       "  \n",
       "    \n",
       "    if (typeof (window._bokeh_timeout) === \"undefined\" || force === true) {\n",
       "      window._bokeh_timeout = Date.now() + 0;\n",
       "      window._bokeh_failed_load = false;\n",
       "    }\n",
       "  \n",
       "    var NB_LOAD_WARNING = {'data': {'text/html':\n",
       "       \"<div style='background-color: #fdd'>\\n\"+\n",
       "       \"<p>\\n\"+\n",
       "       \"BokehJS does not appear to have successfully loaded. If loading BokehJS from CDN, this \\n\"+\n",
       "       \"may be due to a slow or bad network connection. Possible fixes:\\n\"+\n",
       "       \"</p>\\n\"+\n",
       "       \"<ul>\\n\"+\n",
       "       \"<li>re-rerun `output_notebook()` to attempt to load from CDN again, or</li>\\n\"+\n",
       "       \"<li>use INLINE resources instead, as so:</li>\\n\"+\n",
       "       \"</ul>\\n\"+\n",
       "       \"<code>\\n\"+\n",
       "       \"from bokeh.resources import INLINE\\n\"+\n",
       "       \"output_notebook(resources=INLINE)\\n\"+\n",
       "       \"</code>\\n\"+\n",
       "       \"</div>\"}};\n",
       "  \n",
       "    function display_loaded() {\n",
       "      if (window.Bokeh !== undefined) {\n",
       "        var el = document.getElementById(\"6dcc7641-9b5b-4844-a244-e573b06b87f8\");\n",
       "        el.textContent = \"BokehJS \" + Bokeh.version + \" successfully loaded.\";\n",
       "      } else if (Date.now() < window._bokeh_timeout) {\n",
       "        setTimeout(display_loaded, 100)\n",
       "      }\n",
       "    }\n",
       "  \n",
       "    function run_callbacks() {\n",
       "      window._bokeh_onload_callbacks.forEach(function(callback) { callback() });\n",
       "      delete window._bokeh_onload_callbacks\n",
       "      console.info(\"Bokeh: all callbacks have finished\");\n",
       "    }\n",
       "  \n",
       "    function load_libs(js_urls, callback) {\n",
       "      window._bokeh_onload_callbacks.push(callback);\n",
       "      if (window._bokeh_is_loading > 0) {\n",
       "        console.log(\"Bokeh: BokehJS is being loaded, scheduling callback at\", now());\n",
       "        return null;\n",
       "      }\n",
       "      if (js_urls == null || js_urls.length === 0) {\n",
       "        run_callbacks();\n",
       "        return null;\n",
       "      }\n",
       "      console.log(\"Bokeh: BokehJS not loaded, scheduling load and callback at\", now());\n",
       "      window._bokeh_is_loading = js_urls.length;\n",
       "      for (var i = 0; i < js_urls.length; i++) {\n",
       "        var url = js_urls[i];\n",
       "        var s = document.createElement('script');\n",
       "        s.src = url;\n",
       "        s.async = false;\n",
       "        s.onreadystatechange = s.onload = function() {\n",
       "          window._bokeh_is_loading--;\n",
       "          if (window._bokeh_is_loading === 0) {\n",
       "            console.log(\"Bokeh: all BokehJS libraries loaded\");\n",
       "            run_callbacks()\n",
       "          }\n",
       "        };\n",
       "        s.onerror = function() {\n",
       "          console.warn(\"failed to load library \" + url);\n",
       "        };\n",
       "        console.log(\"Bokeh: injecting script tag for BokehJS library: \", url);\n",
       "        document.getElementsByTagName(\"head\")[0].appendChild(s);\n",
       "      }\n",
       "    };var element = document.getElementById(\"6dcc7641-9b5b-4844-a244-e573b06b87f8\");\n",
       "    if (element == null) {\n",
       "      console.log(\"Bokeh: ERROR: autoload.js configured with elementid '6dcc7641-9b5b-4844-a244-e573b06b87f8' but no matching script tag was found. \")\n",
       "      return false;\n",
       "    }\n",
       "  \n",
       "    var js_urls = [];\n",
       "  \n",
       "    var inline_js = [\n",
       "      function(Bokeh) {\n",
       "        (function() {\n",
       "          var fn = function() {\n",
       "            var docs_json = {\"d29df6cc-4e36-485d-86ad-973e69967e2b\":{\"roots\":{\"references\":[{\"attributes\":{\"data_source\":{\"id\":\"5ae77157-806d-4a95-8158-20bc74178a3a\",\"type\":\"ColumnDataSource\"},\"glyph\":{\"id\":\"9afd9efd-982c-4781-ac3b-ab7f977c407e\",\"type\":\"Line\"},\"hover_glyph\":null,\"muted_glyph\":null},\"id\":\"9dc4f678-7b6c-4ebc-85c7-6339ae5a75ff\",\"type\":\"GlyphRenderer\"},{\"attributes\":{\"plot\":{\"id\":\"b18620db-0c7b-4b23-83ff-1a36a65782c0\",\"subtype\":\"Chart\",\"type\":\"Plot\"}},\"id\":\"2abac546-efcf-4fd4-b0d0-d3b873846272\",\"type\":\"PanTool\"},{\"attributes\":{},\"id\":\"3df4b5f4-4a19-481f-8a6f-d8b9fcc7c964\",\"type\":\"BasicTicker\"},{\"attributes\":{\"plot\":null,\"text\":null},\"id\":\"d767ef23-9ca2-465f-8fde-de00c001df4e\",\"type\":\"Title\"},{\"attributes\":{\"callback\":null,\"end\":39.6,\"start\":-3.6},\"id\":\"e607b183-f2af-4dee-bb40-b86873caff48\",\"type\":\"Range1d\"},{\"attributes\":{\"axis_label\":\"usuarios (ordenados por f1 del modelo social en datos de evaluaci\\u00f3n)\",\"formatter\":{\"id\":\"49d3ca26-bd77-44ee-8433-d885500977f5\",\"type\":\"BasicTickFormatter\"},\"plot\":{\"id\":\"b18620db-0c7b-4b23-83ff-1a36a65782c0\",\"subtype\":\"Chart\",\"type\":\"Plot\"},\"ticker\":{\"id\":\"3df4b5f4-4a19-481f-8a6f-d8b9fcc7c964\",\"type\":\"BasicTicker\"}},\"id\":\"28cdb5e5-ad62-4afa-a79b-a9bf24dc20b9\",\"type\":\"LinearAxis\"},{\"attributes\":{\"active_drag\":\"auto\",\"active_scroll\":\"auto\",\"active_tap\":\"auto\",\"tools\":[{\"id\":\"2abac546-efcf-4fd4-b0d0-d3b873846272\",\"type\":\"PanTool\"},{\"id\":\"a6fdbf25-1c29-4e51-89cf-3ddfef483fa4\",\"type\":\"WheelZoomTool\"},{\"id\":\"0d75b8a9-c960-45ed-8160-22d0c220b026\",\"type\":\"BoxZoomTool\"},{\"id\":\"199865e0-6791-43fc-ae53-e610daf808f8\",\"type\":\"SaveTool\"},{\"id\":\"686409e1-c2a9-4291-8b01-7eb0d7b7fe94\",\"type\":\"ResetTool\"},{\"id\":\"e47d6f56-49dc-4665-9ced-094ca8c59881\",\"type\":\"HelpTool\"}]},\"id\":\"95233bad-6115-4dbf-954f-130df60334be\",\"type\":\"Toolbar\"},{\"attributes\":{\"below\":[{\"id\":\"28cdb5e5-ad62-4afa-a79b-a9bf24dc20b9\",\"type\":\"LinearAxis\"}],\"css_classes\":null,\"left\":[{\"id\":\"3b0152ed-b25f-4198-a672-1af33dc28063\",\"type\":\"LinearAxis\"}],\"renderers\":[{\"id\":\"7a9bffc4-5731-49d0-9b8b-30ebd679f332\",\"type\":\"BoxAnnotation\"},{\"id\":\"29674401-3cbc-4ba2-b309-fd1138e1f539\",\"type\":\"GlyphRenderer\"},{\"id\":\"9dc4f678-7b6c-4ebc-85c7-6339ae5a75ff\",\"type\":\"GlyphRenderer\"},{\"id\":\"5cb4cd8f-2d05-46eb-8550-e9627cb105d6\",\"type\":\"Legend\"},{\"id\":\"28cdb5e5-ad62-4afa-a79b-a9bf24dc20b9\",\"type\":\"LinearAxis\"},{\"id\":\"3b0152ed-b25f-4198-a672-1af33dc28063\",\"type\":\"LinearAxis\"},{\"id\":\"c7c39b1e-5818-42a2-a4bf-c1444a966dee\",\"type\":\"Grid\"},{\"id\":\"5d055638-96cd-4f63-8bc0-6485c8022802\",\"type\":\"Grid\"}],\"title\":{\"id\":\"d767ef23-9ca2-465f-8fde-de00c001df4e\",\"type\":\"Title\"},\"tool_events\":{\"id\":\"eaa57871-965d-4ca4-9a68-7397f0d859c9\",\"type\":\"ToolEvents\"},\"toolbar\":{\"id\":\"95233bad-6115-4dbf-954f-130df60334be\",\"type\":\"Toolbar\"},\"x_mapper_type\":\"auto\",\"x_range\":{\"id\":\"e607b183-f2af-4dee-bb40-b86873caff48\",\"type\":\"Range1d\"},\"y_mapper_type\":\"auto\",\"y_range\":{\"id\":\"74c7cb2f-0653-40d1-8f72-5c33bdf9b8a3\",\"type\":\"Range1d\"}},\"id\":\"b18620db-0c7b-4b23-83ff-1a36a65782c0\",\"subtype\":\"Chart\",\"type\":\"Plot\"},{\"attributes\":{\"line_color\":{\"value\":\"#f22c40\"},\"line_width\":{\"value\":2},\"x\":{\"field\":\"x_values\"},\"y\":{\"field\":\"y_values\"}},\"id\":\"dff4d96d-e1b9-485e-8494-d166703ff07f\",\"type\":\"Line\"},{\"attributes\":{\"label\":{\"value\":\"social+twlda10\"},\"renderers\":[{\"id\":\"9dc4f678-7b6c-4ebc-85c7-6339ae5a75ff\",\"type\":\"GlyphRenderer\"}]},\"id\":\"b82f442d-42f6-4a1b-a7dc-8978464514a0\",\"type\":\"LegendItem\"},{\"attributes\":{\"plot\":{\"id\":\"b18620db-0c7b-4b23-83ff-1a36a65782c0\",\"subtype\":\"Chart\",\"type\":\"Plot\"},\"ticker\":{\"id\":\"3df4b5f4-4a19-481f-8a6f-d8b9fcc7c964\",\"type\":\"BasicTicker\"}},\"id\":\"c7c39b1e-5818-42a2-a4bf-c1444a966dee\",\"type\":\"Grid\"},{\"attributes\":{},\"id\":\"49d3ca26-bd77-44ee-8433-d885500977f5\",\"type\":\"BasicTickFormatter\"},{\"attributes\":{\"axis_label\":\"puntaje f1 sobre datos de evaluaci\\u00f3n\",\"formatter\":{\"id\":\"016a91b0-ed90-48ef-9f8a-b5ccfa931df6\",\"type\":\"BasicTickFormatter\"},\"plot\":{\"id\":\"b18620db-0c7b-4b23-83ff-1a36a65782c0\",\"subtype\":\"Chart\",\"type\":\"Plot\"},\"ticker\":{\"id\":\"18bdb8b7-839e-4ffa-9340-b5ae5ba337f2\",\"type\":\"BasicTicker\"}},\"id\":\"3b0152ed-b25f-4198-a672-1af33dc28063\",\"type\":\"LinearAxis\"},{\"attributes\":{\"data_source\":{\"id\":\"7c7f2c53-933c-4ef8-a54f-85ec3fed194f\",\"type\":\"ColumnDataSource\"},\"glyph\":{\"id\":\"dff4d96d-e1b9-485e-8494-d166703ff07f\",\"type\":\"Line\"},\"hover_glyph\":null,\"muted_glyph\":null},\"id\":\"29674401-3cbc-4ba2-b309-fd1138e1f539\",\"type\":\"GlyphRenderer\"},{\"attributes\":{\"overlay\":{\"id\":\"7a9bffc4-5731-49d0-9b8b-30ebd679f332\",\"type\":\"BoxAnnotation\"},\"plot\":{\"id\":\"b18620db-0c7b-4b23-83ff-1a36a65782c0\",\"subtype\":\"Chart\",\"type\":\"Plot\"}},\"id\":\"0d75b8a9-c960-45ed-8160-22d0c220b026\",\"type\":\"BoxZoomTool\"},{\"attributes\":{\"plot\":{\"id\":\"b18620db-0c7b-4b23-83ff-1a36a65782c0\",\"subtype\":\"Chart\",\"type\":\"Plot\"}},\"id\":\"199865e0-6791-43fc-ae53-e610daf808f8\",\"type\":\"SaveTool\"},{\"attributes\":{},\"id\":\"18bdb8b7-839e-4ffa-9340-b5ae5ba337f2\",\"type\":\"BasicTicker\"},{\"attributes\":{\"callback\":null,\"end\":1.0653808776257756,\"start\":-0.02688196157583911},\"id\":\"74c7cb2f-0653-40d1-8f72-5c33bdf9b8a3\",\"type\":\"Range1d\"},{\"attributes\":{\"dimension\":1,\"plot\":{\"id\":\"b18620db-0c7b-4b23-83ff-1a36a65782c0\",\"subtype\":\"Chart\",\"type\":\"Plot\"},\"ticker\":{\"id\":\"18bdb8b7-839e-4ffa-9340-b5ae5ba337f2\",\"type\":\"BasicTicker\"}},\"id\":\"5d055638-96cd-4f63-8bc0-6485c8022802\",\"type\":\"Grid\"},{\"attributes\":{\"bottom_units\":\"screen\",\"fill_alpha\":{\"value\":0.5},\"fill_color\":{\"value\":\"lightgrey\"},\"left_units\":\"screen\",\"level\":\"overlay\",\"line_alpha\":{\"value\":1.0},\"line_color\":{\"value\":\"black\"},\"line_dash\":[4,4],\"line_width\":{\"value\":2},\"plot\":null,\"render_mode\":\"css\",\"right_units\":\"screen\",\"top_units\":\"screen\"},\"id\":\"7a9bffc4-5731-49d0-9b8b-30ebd679f332\",\"type\":\"BoxAnnotation\"},{\"attributes\":{\"callback\":null,\"column_names\":[\"x_values\",\"y_values\"],\"data\":{\"chart_index\":[{\"series\":\"social+twlda10\"},{\"series\":\"social+twlda10\"},{\"series\":\"social+twlda10\"},{\"series\":\"social+twlda10\"},{\"series\":\"social+twlda10\"},{\"series\":\"social+twlda10\"},{\"series\":\"social+twlda10\"},{\"series\":\"social+twlda10\"},{\"series\":\"social+twlda10\"},{\"series\":\"social+twlda10\"},{\"series\":\"social+twlda10\"},{\"series\":\"social+twlda10\"},{\"series\":\"social+twlda10\"},{\"series\":\"social+twlda10\"},{\"series\":\"social+twlda10\"},{\"series\":\"social+twlda10\"},{\"series\":\"social+twlda10\"},{\"series\":\"social+twlda10\"},{\"series\":\"social+twlda10\"},{\"series\":\"social+twlda10\"},{\"series\":\"social+twlda10\"},{\"series\":\"social+twlda10\"},{\"series\":\"social+twlda10\"},{\"series\":\"social+twlda10\"},{\"series\":\"social+twlda10\"},{\"series\":\"social+twlda10\"},{\"series\":\"social+twlda10\"},{\"series\":\"social+twlda10\"},{\"series\":\"social+twlda10\"},{\"series\":\"social+twlda10\"},{\"series\":\"social+twlda10\"},{\"series\":\"social+twlda10\"},{\"series\":\"social+twlda10\"},{\"series\":\"social+twlda10\"},{\"series\":\"social+twlda10\"},{\"series\":\"social+twlda10\"},{\"series\":\"social+twlda10\"}],\"series\":[\"social+twlda10\",\"social+twlda10\",\"social+twlda10\",\"social+twlda10\",\"social+twlda10\",\"social+twlda10\",\"social+twlda10\",\"social+twlda10\",\"social+twlda10\",\"social+twlda10\",\"social+twlda10\",\"social+twlda10\",\"social+twlda10\",\"social+twlda10\",\"social+twlda10\",\"social+twlda10\",\"social+twlda10\",\"social+twlda10\",\"social+twlda10\",\"social+twlda10\",\"social+twlda10\",\"social+twlda10\",\"social+twlda10\",\"social+twlda10\",\"social+twlda10\",\"social+twlda10\",\"social+twlda10\",\"social+twlda10\",\"social+twlda10\",\"social+twlda10\",\"social+twlda10\",\"social+twlda10\",\"social+twlda10\",\"social+twlda10\",\"social+twlda10\",\"social+twlda10\",\"social+twlda10\"],\"x_values\":[0,1,2,3,4,5,6,7,8,9,10,11,12,13,14,15,16,17,18,19,20,21,22,23,24,25,26,27,28,29,30,31,32,33,34,35,36],\"y_values\":{\"__ndarray__\":\"AAAAAAAA7z9oMZ3FdBbjP0U+6wZT5OM/SeXDuF+X5D+au+Cv4oTkP9JFF1100eU/MzMzMzMz4z9ddNFFF13kP2UhC1nIQuY/MJb8Yskv5j+fQ2qC8VbmP/yuFjdhfuc/ZZ9DaoLx5j9GF1100UXnP3vTm970puc/94DZA2YP6D/NH2w8mj/oP9nY2NjY2Og/39mo72zU5z+1l9BeQnvpPyOfdYMp8uk/y5YtW7Zs6T+amZmZmZnpP2zUdzbqO+s/JrSX0F5C6z/H+tBYHxrrPwEAAAAAAOo/bdR3Nuo76z/btm3btm3rP1qwBVuwBes/HLmRG7mR6z/D2jesfcPqP+zETuzETuw/dl8eWxE07D9ot/CrMZHuPzjg8YcDHu8/3/It3/It7z8=\",\"dtype\":\"float64\",\"shape\":[37]}}},\"id\":\"5ae77157-806d-4a95-8158-20bc74178a3a\",\"type\":\"ColumnDataSource\"},{\"attributes\":{\"label\":{\"value\":\"social\"},\"renderers\":[{\"id\":\"29674401-3cbc-4ba2-b309-fd1138e1f539\",\"type\":\"GlyphRenderer\"}]},\"id\":\"69c5115c-52e4-47d3-86cf-663b7532baa1\",\"type\":\"LegendItem\"},{\"attributes\":{},\"id\":\"eaa57871-965d-4ca4-9a68-7397f0d859c9\",\"type\":\"ToolEvents\"},{\"attributes\":{\"plot\":{\"id\":\"b18620db-0c7b-4b23-83ff-1a36a65782c0\",\"subtype\":\"Chart\",\"type\":\"Plot\"}},\"id\":\"e47d6f56-49dc-4665-9ced-094ca8c59881\",\"type\":\"HelpTool\"},{\"attributes\":{\"items\":[{\"id\":\"b82f442d-42f6-4a1b-a7dc-8978464514a0\",\"type\":\"LegendItem\"},{\"id\":\"69c5115c-52e4-47d3-86cf-663b7532baa1\",\"type\":\"LegendItem\"}],\"location\":\"top_left\",\"plot\":{\"id\":\"b18620db-0c7b-4b23-83ff-1a36a65782c0\",\"subtype\":\"Chart\",\"type\":\"Plot\"}},\"id\":\"5cb4cd8f-2d05-46eb-8550-e9627cb105d6\",\"type\":\"Legend\"},{\"attributes\":{\"callback\":null,\"column_names\":[\"x_values\",\"y_values\"],\"data\":{\"chart_index\":[{\"series\":\"social\"},{\"series\":\"social\"},{\"series\":\"social\"},{\"series\":\"social\"},{\"series\":\"social\"},{\"series\":\"social\"},{\"series\":\"social\"},{\"series\":\"social\"},{\"series\":\"social\"},{\"series\":\"social\"},{\"series\":\"social\"},{\"series\":\"social\"},{\"series\":\"social\"},{\"series\":\"social\"},{\"series\":\"social\"},{\"series\":\"social\"},{\"series\":\"social\"},{\"series\":\"social\"},{\"series\":\"social\"},{\"series\":\"social\"},{\"series\":\"social\"},{\"series\":\"social\"},{\"series\":\"social\"},{\"series\":\"social\"},{\"series\":\"social\"},{\"series\":\"social\"},{\"series\":\"social\"},{\"series\":\"social\"},{\"series\":\"social\"},{\"series\":\"social\"},{\"series\":\"social\"},{\"series\":\"social\"},{\"series\":\"social\"},{\"series\":\"social\"},{\"series\":\"social\"},{\"series\":\"social\"},{\"series\":\"social\"}],\"series\":[\"social\",\"social\",\"social\",\"social\",\"social\",\"social\",\"social\",\"social\",\"social\",\"social\",\"social\",\"social\",\"social\",\"social\",\"social\",\"social\",\"social\",\"social\",\"social\",\"social\",\"social\",\"social\",\"social\",\"social\",\"social\",\"social\",\"social\",\"social\",\"social\",\"social\",\"social\",\"social\",\"social\",\"social\",\"social\",\"social\",\"social\"],\"x_values\":[0,1,2,3,4,5,6,7,8,9,10,11,12,13,14,15,16,17,18,19,20,21,22,23,24,25,26,27,28,29,30,31,32,33,34,35,36],\"y_values\":{\"__ndarray__\":\"ZRbup3lrsD900UUXXXThP8/KT4iz8uM/HMdxHMdx5D86u4VfjYnkP9JFF1100eU/AQAAAAAA5j9lIQtZyELmP2UhC1nIQuY/ymsor6G85j/HcRzHcRznPzMzMzMzM+c/Nzc3Nzc35z9GF1100UXnP/QFfUFf0Oc/94DZA2YP6D/NH2w8mj/oP9mJndiJneg/NNaHxvrQ6D+1l9BeQnvpPyOfdYMp8uk/sKG8hvIa6j9aWlpaWlrqP6qqqqqqquo/YGdXe2oQ6z/H+tBYHxrrPyabbLLJJus/bdR3Nuo76z/btm3btm3rP9u2bdu2bes/HLmRG7mR6z8fwX0E9xHsP+zETuzETuw/1AjLPY2w7D9ot/CrMZHuP8dxHMdxHO8/3/It3/It7z8=\",\"dtype\":\"float64\",\"shape\":[37]}}},\"id\":\"7c7f2c53-933c-4ef8-a54f-85ec3fed194f\",\"type\":\"ColumnDataSource\"},{\"attributes\":{\"plot\":{\"id\":\"b18620db-0c7b-4b23-83ff-1a36a65782c0\",\"subtype\":\"Chart\",\"type\":\"Plot\"}},\"id\":\"686409e1-c2a9-4291-8b01-7eb0d7b7fe94\",\"type\":\"ResetTool\"},{\"attributes\":{},\"id\":\"016a91b0-ed90-48ef-9f8a-b5ccfa931df6\",\"type\":\"BasicTickFormatter\"},{\"attributes\":{\"plot\":{\"id\":\"b18620db-0c7b-4b23-83ff-1a36a65782c0\",\"subtype\":\"Chart\",\"type\":\"Plot\"}},\"id\":\"a6fdbf25-1c29-4e51-89cf-3ddfef483fa4\",\"type\":\"WheelZoomTool\"},{\"attributes\":{\"line_color\":{\"value\":\"#5ab738\"},\"line_dash\":[6],\"line_width\":{\"value\":2},\"x\":{\"field\":\"x_values\"},\"y\":{\"field\":\"y_values\"}},\"id\":\"9afd9efd-982c-4781-ac3b-ab7f977c407e\",\"type\":\"Line\"}],\"root_ids\":[\"b18620db-0c7b-4b23-83ff-1a36a65782c0\"]},\"title\":\"Bokeh Application\",\"version\":\"0.12.5\"}};\n",
       "            var render_items = [{\"docid\":\"d29df6cc-4e36-485d-86ad-973e69967e2b\",\"elementid\":\"6dcc7641-9b5b-4844-a244-e573b06b87f8\",\"modelid\":\"b18620db-0c7b-4b23-83ff-1a36a65782c0\"}];\n",
       "            \n",
       "            Bokeh.embed.embed_items(docs_json, render_items);\n",
       "          };\n",
       "          if (document.readyState != \"loading\") fn();\n",
       "          else document.addEventListener(\"DOMContentLoaded\", fn);\n",
       "        })();\n",
       "      },\n",
       "      function(Bokeh) {\n",
       "      }\n",
       "    ];\n",
       "  \n",
       "    function run_inline_js() {\n",
       "      \n",
       "      if ((window.Bokeh !== undefined) || (force === true)) {\n",
       "        for (var i = 0; i < inline_js.length; i++) {\n",
       "          inline_js[i](window.Bokeh);\n",
       "        }if (force === true) {\n",
       "          display_loaded();\n",
       "        }} else if (Date.now() < window._bokeh_timeout) {\n",
       "        setTimeout(run_inline_js, 100);\n",
       "      } else if (!window._bokeh_failed_load) {\n",
       "        console.log(\"Bokeh: BokehJS failed to load within specified timeout.\");\n",
       "        window._bokeh_failed_load = true;\n",
       "      } else if (force !== true) {\n",
       "        var cell = $(document.getElementById(\"6dcc7641-9b5b-4844-a244-e573b06b87f8\")).parents('.cell').data().cell;\n",
       "        cell.output_area.append_execute_result(NB_LOAD_WARNING)\n",
       "      }\n",
       "  \n",
       "    }\n",
       "  \n",
       "    if (window._bokeh_is_loading === 0) {\n",
       "      console.log(\"Bokeh: BokehJS loaded, going straight to plotting\");\n",
       "      run_inline_js();\n",
       "    } else {\n",
       "      load_libs(js_urls, function() {\n",
       "        console.log(\"Bokeh: BokehJS plotting callback run at\", now());\n",
       "        run_inline_js();\n",
       "      });\n",
       "    }\n",
       "  }(this));\n",
       "</script>"
      ]
     },
     "metadata": {},
     "output_type": "display_data"
    }
   ],
   "source": [
    "with open('scores/tw_t%d_f1s_test_svc.json' % n_topics) as f:    \n",
    "    f1s_combined = json.load(f)\n",
    "\n",
    "f1s_social = json.load(open('../_1_one_user_learn_neighbours/scores/f1s_testv_svc.json'))\n",
    "f1s_social = {u: f for u, f in f1s_social.items() if u in nlp_uids}\n",
    "\n",
    "sorted_uids = [u for u, f in sorted(f1s_social.items(), key=lambda x:x[1])]\n",
    "indices = range(len(sorted_uids))\n",
    "\n",
    "f1s_lda = np.array([f1s_combined[sorted_uids[i]] for i in indices])\n",
    "f1s_s = np.array([f1s_social[sorted_uids[i]] for i in indices])\n",
    "\n",
    "# build a dataset where multiple columns measure the same thing\n",
    "data = {\n",
    "    \"social\": f1s_s,\n",
    "    \"social+twlda%d\" % n_topics: f1s_lda\n",
    "}\n",
    "\n",
    "labels = ['social', 'social+twlda%d' % n_topics]\n",
    "\n",
    "# create a line chart where each column of measures receives a unique color and dash style\n",
    "line = Line(data, y=labels,\n",
    "            dash=labels,\n",
    "            color=labels,\n",
    "            legend_sort_field = 'color',\n",
    "            legend_sort_direction = 'descending',\n",
    "            xlabel='usuarios (ordenados por f1 del modelo social en datos de evaluación)',\n",
    "            ylabel='puntaje f1 sobre datos de evaluación', legend=True)\n",
    "\n",
    "show(line)"
   ]
  },
  {
   "cell_type": "code",
   "execution_count": 10,
   "metadata": {
    "collapsed": false
   },
   "outputs": [
    {
     "data": {
      "text/plain": [
       "8"
      ]
     },
     "execution_count": 10,
     "metadata": {},
     "output_type": "execute_result"
    }
   ],
   "source": [
    "sum(f1s_lda > f1s_s)"
   ]
  },
  {
   "cell_type": "code",
   "execution_count": 11,
   "metadata": {
    "collapsed": false
   },
   "outputs": [
    {
     "data": {
      "text/plain": [
       "0.78128926883681571"
      ]
     },
     "execution_count": 11,
     "metadata": {},
     "output_type": "execute_result"
    }
   ],
   "source": [
    "np.mean(f1s_lda)"
   ]
  },
  {
   "cell_type": "code",
   "execution_count": 12,
   "metadata": {
    "collapsed": false
   },
   "outputs": [
    {
     "data": {
      "text/plain": [
       "0.76463096629149319"
      ]
     },
     "execution_count": 12,
     "metadata": {},
     "output_type": "execute_result"
    }
   ],
   "source": [
    "np.mean(f1s_s)"
   ]
  },
  {
   "cell_type": "markdown",
   "metadata": {},
   "source": [
    "# Comparación en training set"
   ]
  },
  {
   "cell_type": "code",
   "execution_count": 13,
   "metadata": {
    "collapsed": false
   },
   "outputs": [
    {
     "data": {
      "text/html": [
       "\n",
       "\n",
       "    <div class=\"bk-root\">\n",
       "        <div class=\"bk-plotdiv\" id=\"ea63df1f-ca5e-4612-8a2e-6ccd4aaa3d8b\"></div>\n",
       "    </div>\n",
       "<script type=\"text/javascript\">\n",
       "  \n",
       "  (function(global) {\n",
       "    function now() {\n",
       "      return new Date();\n",
       "    }\n",
       "  \n",
       "    var force = false;\n",
       "  \n",
       "    if (typeof (window._bokeh_onload_callbacks) === \"undefined\" || force === true) {\n",
       "      window._bokeh_onload_callbacks = [];\n",
       "      window._bokeh_is_loading = undefined;\n",
       "    }\n",
       "  \n",
       "  \n",
       "    \n",
       "    if (typeof (window._bokeh_timeout) === \"undefined\" || force === true) {\n",
       "      window._bokeh_timeout = Date.now() + 0;\n",
       "      window._bokeh_failed_load = false;\n",
       "    }\n",
       "  \n",
       "    var NB_LOAD_WARNING = {'data': {'text/html':\n",
       "       \"<div style='background-color: #fdd'>\\n\"+\n",
       "       \"<p>\\n\"+\n",
       "       \"BokehJS does not appear to have successfully loaded. If loading BokehJS from CDN, this \\n\"+\n",
       "       \"may be due to a slow or bad network connection. Possible fixes:\\n\"+\n",
       "       \"</p>\\n\"+\n",
       "       \"<ul>\\n\"+\n",
       "       \"<li>re-rerun `output_notebook()` to attempt to load from CDN again, or</li>\\n\"+\n",
       "       \"<li>use INLINE resources instead, as so:</li>\\n\"+\n",
       "       \"</ul>\\n\"+\n",
       "       \"<code>\\n\"+\n",
       "       \"from bokeh.resources import INLINE\\n\"+\n",
       "       \"output_notebook(resources=INLINE)\\n\"+\n",
       "       \"</code>\\n\"+\n",
       "       \"</div>\"}};\n",
       "  \n",
       "    function display_loaded() {\n",
       "      if (window.Bokeh !== undefined) {\n",
       "        var el = document.getElementById(\"ea63df1f-ca5e-4612-8a2e-6ccd4aaa3d8b\");\n",
       "        el.textContent = \"BokehJS \" + Bokeh.version + \" successfully loaded.\";\n",
       "      } else if (Date.now() < window._bokeh_timeout) {\n",
       "        setTimeout(display_loaded, 100)\n",
       "      }\n",
       "    }\n",
       "  \n",
       "    function run_callbacks() {\n",
       "      window._bokeh_onload_callbacks.forEach(function(callback) { callback() });\n",
       "      delete window._bokeh_onload_callbacks\n",
       "      console.info(\"Bokeh: all callbacks have finished\");\n",
       "    }\n",
       "  \n",
       "    function load_libs(js_urls, callback) {\n",
       "      window._bokeh_onload_callbacks.push(callback);\n",
       "      if (window._bokeh_is_loading > 0) {\n",
       "        console.log(\"Bokeh: BokehJS is being loaded, scheduling callback at\", now());\n",
       "        return null;\n",
       "      }\n",
       "      if (js_urls == null || js_urls.length === 0) {\n",
       "        run_callbacks();\n",
       "        return null;\n",
       "      }\n",
       "      console.log(\"Bokeh: BokehJS not loaded, scheduling load and callback at\", now());\n",
       "      window._bokeh_is_loading = js_urls.length;\n",
       "      for (var i = 0; i < js_urls.length; i++) {\n",
       "        var url = js_urls[i];\n",
       "        var s = document.createElement('script');\n",
       "        s.src = url;\n",
       "        s.async = false;\n",
       "        s.onreadystatechange = s.onload = function() {\n",
       "          window._bokeh_is_loading--;\n",
       "          if (window._bokeh_is_loading === 0) {\n",
       "            console.log(\"Bokeh: all BokehJS libraries loaded\");\n",
       "            run_callbacks()\n",
       "          }\n",
       "        };\n",
       "        s.onerror = function() {\n",
       "          console.warn(\"failed to load library \" + url);\n",
       "        };\n",
       "        console.log(\"Bokeh: injecting script tag for BokehJS library: \", url);\n",
       "        document.getElementsByTagName(\"head\")[0].appendChild(s);\n",
       "      }\n",
       "    };var element = document.getElementById(\"ea63df1f-ca5e-4612-8a2e-6ccd4aaa3d8b\");\n",
       "    if (element == null) {\n",
       "      console.log(\"Bokeh: ERROR: autoload.js configured with elementid 'ea63df1f-ca5e-4612-8a2e-6ccd4aaa3d8b' but no matching script tag was found. \")\n",
       "      return false;\n",
       "    }\n",
       "  \n",
       "    var js_urls = [];\n",
       "  \n",
       "    var inline_js = [\n",
       "      function(Bokeh) {\n",
       "        (function() {\n",
       "          var fn = function() {\n",
       "            var docs_json = {\"3e194f64-c630-4d01-932f-292452debc76\":{\"roots\":{\"references\":[{\"attributes\":{\"plot\":{\"id\":\"26717f67-551b-4d29-b016-00f693a3203c\",\"subtype\":\"Chart\",\"type\":\"Plot\"}},\"id\":\"5ffca6e9-7d3f-439f-8918-1e3ec30ae2c7\",\"type\":\"SaveTool\"},{\"attributes\":{\"axis_label\":\"puntaje f1 sobre datos de evaluaci\\u00f3n\",\"formatter\":{\"id\":\"aa2dcccc-5f00-4e71-826c-859979143d98\",\"type\":\"BasicTickFormatter\"},\"plot\":{\"id\":\"26717f67-551b-4d29-b016-00f693a3203c\",\"subtype\":\"Chart\",\"type\":\"Plot\"},\"ticker\":{\"id\":\"3705d946-a709-449f-8ede-d0cce4bd18d4\",\"type\":\"BasicTicker\"}},\"id\":\"b12d52e3-ab29-4c33-860a-3d5511b66051\",\"type\":\"LinearAxis\"},{\"attributes\":{\"below\":[{\"id\":\"c9d52552-650a-48aa-b803-8c9ce0c7ba75\",\"type\":\"LinearAxis\"}],\"css_classes\":null,\"left\":[{\"id\":\"b12d52e3-ab29-4c33-860a-3d5511b66051\",\"type\":\"LinearAxis\"}],\"renderers\":[{\"id\":\"288ee9fd-14bd-4beb-b89d-4ab1238124ad\",\"type\":\"BoxAnnotation\"},{\"id\":\"99c26f17-3888-4135-84ae-92e60a049550\",\"type\":\"GlyphRenderer\"},{\"id\":\"f44e9926-d92a-4865-87f0-56189723169f\",\"type\":\"GlyphRenderer\"},{\"id\":\"eb9723d1-b446-4cfd-8e82-da54012f75ce\",\"type\":\"Legend\"},{\"id\":\"c9d52552-650a-48aa-b803-8c9ce0c7ba75\",\"type\":\"LinearAxis\"},{\"id\":\"b12d52e3-ab29-4c33-860a-3d5511b66051\",\"type\":\"LinearAxis\"},{\"id\":\"cf84c200-2c51-4a03-a2b8-1380df90b9ae\",\"type\":\"Grid\"},{\"id\":\"41645db4-d640-4cf5-9e29-1674fed99aba\",\"type\":\"Grid\"}],\"title\":{\"id\":\"47a36326-eb58-4345-b1b6-0a480aa1ad56\",\"type\":\"Title\"},\"tool_events\":{\"id\":\"8602c0ec-2d46-4879-8cd6-5986fd1280e5\",\"type\":\"ToolEvents\"},\"toolbar\":{\"id\":\"69ff4224-2bcf-4af9-b058-01be58822902\",\"type\":\"Toolbar\"},\"x_mapper_type\":\"auto\",\"x_range\":{\"id\":\"1e34b9dc-16ae-4aff-8ee7-3fae07fd63e0\",\"type\":\"Range1d\"},\"y_mapper_type\":\"auto\",\"y_range\":{\"id\":\"26727fca-8526-4549-8a82-5b923c23c8c1\",\"type\":\"Range1d\"}},\"id\":\"26717f67-551b-4d29-b016-00f693a3203c\",\"subtype\":\"Chart\",\"type\":\"Plot\"},{\"attributes\":{\"plot\":{\"id\":\"26717f67-551b-4d29-b016-00f693a3203c\",\"subtype\":\"Chart\",\"type\":\"Plot\"},\"ticker\":{\"id\":\"28460141-81ba-4400-aeaa-ec891f534cfc\",\"type\":\"BasicTicker\"}},\"id\":\"cf84c200-2c51-4a03-a2b8-1380df90b9ae\",\"type\":\"Grid\"},{\"attributes\":{\"callback\":null,\"column_names\":[\"x_values\",\"y_values\"],\"data\":{\"chart_index\":[{\"series\":\"social\"},{\"series\":\"social\"},{\"series\":\"social\"},{\"series\":\"social\"},{\"series\":\"social\"},{\"series\":\"social\"},{\"series\":\"social\"},{\"series\":\"social\"},{\"series\":\"social\"},{\"series\":\"social\"},{\"series\":\"social\"},{\"series\":\"social\"},{\"series\":\"social\"},{\"series\":\"social\"},{\"series\":\"social\"},{\"series\":\"social\"},{\"series\":\"social\"},{\"series\":\"social\"},{\"series\":\"social\"},{\"series\":\"social\"},{\"series\":\"social\"},{\"series\":\"social\"},{\"series\":\"social\"},{\"series\":\"social\"},{\"series\":\"social\"},{\"series\":\"social\"},{\"series\":\"social\"},{\"series\":\"social\"},{\"series\":\"social\"},{\"series\":\"social\"},{\"series\":\"social\"},{\"series\":\"social\"},{\"series\":\"social\"},{\"series\":\"social\"},{\"series\":\"social\"},{\"series\":\"social\"},{\"series\":\"social\"}],\"series\":[\"social\",\"social\",\"social\",\"social\",\"social\",\"social\",\"social\",\"social\",\"social\",\"social\",\"social\",\"social\",\"social\",\"social\",\"social\",\"social\",\"social\",\"social\",\"social\",\"social\",\"social\",\"social\",\"social\",\"social\",\"social\",\"social\",\"social\",\"social\",\"social\",\"social\",\"social\",\"social\",\"social\",\"social\",\"social\",\"social\",\"social\"],\"x_values\":[0,1,2,3,4,5,6,7,8,9,10,11,12,13,14,15,16,17,18,19,20,21,22,23,24,25,26,27,28,29,30,31,32,33,34,35,36],\"y_values\":{\"__ndarray__\":\"MIyl0bABtD8UvS4UvS7kP72JetrcfeU/h7VvWPuG5T+yEdmIbETmPwnUjXjmg+Y/CtejcD0K5z8Qab2AbU7nP/IsI/qA6ug/gr1jamDv6D/yyCOPPPLoP02Rz7rBFOk/u2sCpKcd6T+PJ7OyrXbpP0kaAqT4wek/9+WxFUHD6T+OCOyDIQfqP5MkSZIkSeo/pze96U1v6j8JxlvZ55DqP3bTshJZmuo/K7tqosqu6j+YlUaPqCDrP04b6LSBTus/mpmZmZmZ6z/PusEU+azrP7u7u7u7u+s//ZDA2w8J7D/PeOERJSHsP1AglZyXRew/rKXAFs9w7D/k54pZjvzsPwAAAAAAAO4/dOUByTpX7j8qkDxt+r7uP///////T+8/J3ZiJ3Zi7z8=\",\"dtype\":\"float64\",\"shape\":[37]}}},\"id\":\"09b48d1f-92a5-4974-b164-602a8898f94b\",\"type\":\"ColumnDataSource\"},{\"attributes\":{\"callback\":null,\"end\":1.0784744695749264,\"start\":-0.012787717577307331},\"id\":\"26727fca-8526-4549-8a82-5b923c23c8c1\",\"type\":\"Range1d\"},{\"attributes\":{\"plot\":null,\"text\":null},\"id\":\"47a36326-eb58-4345-b1b6-0a480aa1ad56\",\"type\":\"Title\"},{\"attributes\":{},\"id\":\"28460141-81ba-4400-aeaa-ec891f534cfc\",\"type\":\"BasicTicker\"},{\"attributes\":{\"axis_label\":\"usuarios (ordenados por f1 del modelo social en datos de evaluaci\\u00f3n)\",\"formatter\":{\"id\":\"12fcb420-6b0f-4e87-a609-d38bf06df95f\",\"type\":\"BasicTickFormatter\"},\"plot\":{\"id\":\"26717f67-551b-4d29-b016-00f693a3203c\",\"subtype\":\"Chart\",\"type\":\"Plot\"},\"ticker\":{\"id\":\"28460141-81ba-4400-aeaa-ec891f534cfc\",\"type\":\"BasicTicker\"}},\"id\":\"c9d52552-650a-48aa-b803-8c9ce0c7ba75\",\"type\":\"LinearAxis\"},{\"attributes\":{\"data_source\":{\"id\":\"738a29fd-a53b-4b33-abcb-074322dea3ff\",\"type\":\"ColumnDataSource\"},\"glyph\":{\"id\":\"acb8b244-e637-47f0-9a46-f71bde6d90a9\",\"type\":\"Line\"},\"hover_glyph\":null,\"muted_glyph\":null},\"id\":\"f44e9926-d92a-4865-87f0-56189723169f\",\"type\":\"GlyphRenderer\"},{\"attributes\":{\"bottom_units\":\"screen\",\"fill_alpha\":{\"value\":0.5},\"fill_color\":{\"value\":\"lightgrey\"},\"left_units\":\"screen\",\"level\":\"overlay\",\"line_alpha\":{\"value\":1.0},\"line_color\":{\"value\":\"black\"},\"line_dash\":[4,4],\"line_width\":{\"value\":2},\"plot\":null,\"render_mode\":\"css\",\"right_units\":\"screen\",\"top_units\":\"screen\"},\"id\":\"288ee9fd-14bd-4beb-b89d-4ab1238124ad\",\"type\":\"BoxAnnotation\"},{\"attributes\":{},\"id\":\"aa2dcccc-5f00-4e71-826c-859979143d98\",\"type\":\"BasicTickFormatter\"},{\"attributes\":{\"active_drag\":\"auto\",\"active_scroll\":\"auto\",\"active_tap\":\"auto\",\"tools\":[{\"id\":\"55318865-a4ee-4220-97c6-0b2307c22208\",\"type\":\"PanTool\"},{\"id\":\"2795b4b0-acb5-4c32-8ad2-dd5aef7da3b5\",\"type\":\"WheelZoomTool\"},{\"id\":\"c97d1629-13ac-480a-9890-9f475b9e76aa\",\"type\":\"BoxZoomTool\"},{\"id\":\"5ffca6e9-7d3f-439f-8918-1e3ec30ae2c7\",\"type\":\"SaveTool\"},{\"id\":\"95c37a1c-184a-41e9-8e05-42513409e410\",\"type\":\"ResetTool\"},{\"id\":\"3644cf63-bb84-4b9a-a851-2fc84610b551\",\"type\":\"HelpTool\"}]},\"id\":\"69ff4224-2bcf-4af9-b058-01be58822902\",\"type\":\"Toolbar\"},{\"attributes\":{\"callback\":null,\"end\":39.6,\"start\":-3.6},\"id\":\"1e34b9dc-16ae-4aff-8ee7-3fae07fd63e0\",\"type\":\"Range1d\"},{\"attributes\":{\"label\":{\"value\":\"social\"},\"renderers\":[{\"id\":\"99c26f17-3888-4135-84ae-92e60a049550\",\"type\":\"GlyphRenderer\"}]},\"id\":\"ebe16f3a-ad26-4cd5-bfa0-40b2242d63de\",\"type\":\"LegendItem\"},{\"attributes\":{\"plot\":{\"id\":\"26717f67-551b-4d29-b016-00f693a3203c\",\"subtype\":\"Chart\",\"type\":\"Plot\"}},\"id\":\"55318865-a4ee-4220-97c6-0b2307c22208\",\"type\":\"PanTool\"},{\"attributes\":{\"overlay\":{\"id\":\"288ee9fd-14bd-4beb-b89d-4ab1238124ad\",\"type\":\"BoxAnnotation\"},\"plot\":{\"id\":\"26717f67-551b-4d29-b016-00f693a3203c\",\"subtype\":\"Chart\",\"type\":\"Plot\"}},\"id\":\"c97d1629-13ac-480a-9890-9f475b9e76aa\",\"type\":\"BoxZoomTool\"},{\"attributes\":{},\"id\":\"8602c0ec-2d46-4879-8cd6-5986fd1280e5\",\"type\":\"ToolEvents\"},{\"attributes\":{\"line_color\":{\"value\":\"#5ab738\"},\"line_dash\":[6],\"line_width\":{\"value\":2},\"x\":{\"field\":\"x_values\"},\"y\":{\"field\":\"y_values\"}},\"id\":\"acb8b244-e637-47f0-9a46-f71bde6d90a9\",\"type\":\"Line\"},{\"attributes\":{\"items\":[{\"id\":\"8efc23e9-e8b8-403e-88e3-70e1ed9212f3\",\"type\":\"LegendItem\"},{\"id\":\"ebe16f3a-ad26-4cd5-bfa0-40b2242d63de\",\"type\":\"LegendItem\"}],\"location\":\"top_left\",\"plot\":{\"id\":\"26717f67-551b-4d29-b016-00f693a3203c\",\"subtype\":\"Chart\",\"type\":\"Plot\"}},\"id\":\"eb9723d1-b446-4cfd-8e82-da54012f75ce\",\"type\":\"Legend\"},{\"attributes\":{\"plot\":{\"id\":\"26717f67-551b-4d29-b016-00f693a3203c\",\"subtype\":\"Chart\",\"type\":\"Plot\"}},\"id\":\"3644cf63-bb84-4b9a-a851-2fc84610b551\",\"type\":\"HelpTool\"},{\"attributes\":{\"dimension\":1,\"plot\":{\"id\":\"26717f67-551b-4d29-b016-00f693a3203c\",\"subtype\":\"Chart\",\"type\":\"Plot\"},\"ticker\":{\"id\":\"3705d946-a709-449f-8ede-d0cce4bd18d4\",\"type\":\"BasicTicker\"}},\"id\":\"41645db4-d640-4cf5-9e29-1674fed99aba\",\"type\":\"Grid\"},{\"attributes\":{\"line_color\":{\"value\":\"#f22c40\"},\"line_width\":{\"value\":2},\"x\":{\"field\":\"x_values\"},\"y\":{\"field\":\"y_values\"}},\"id\":\"c8aa9dce-b3cb-47a0-a6e2-e276d6035009\",\"type\":\"Line\"},{\"attributes\":{},\"id\":\"3705d946-a709-449f-8ede-d0cce4bd18d4\",\"type\":\"BasicTicker\"},{\"attributes\":{\"plot\":{\"id\":\"26717f67-551b-4d29-b016-00f693a3203c\",\"subtype\":\"Chart\",\"type\":\"Plot\"}},\"id\":\"95c37a1c-184a-41e9-8e05-42513409e410\",\"type\":\"ResetTool\"},{\"attributes\":{\"callback\":null,\"column_names\":[\"x_values\",\"y_values\"],\"data\":{\"chart_index\":[{\"series\":\"social+twlda10\"},{\"series\":\"social+twlda10\"},{\"series\":\"social+twlda10\"},{\"series\":\"social+twlda10\"},{\"series\":\"social+twlda10\"},{\"series\":\"social+twlda10\"},{\"series\":\"social+twlda10\"},{\"series\":\"social+twlda10\"},{\"series\":\"social+twlda10\"},{\"series\":\"social+twlda10\"},{\"series\":\"social+twlda10\"},{\"series\":\"social+twlda10\"},{\"series\":\"social+twlda10\"},{\"series\":\"social+twlda10\"},{\"series\":\"social+twlda10\"},{\"series\":\"social+twlda10\"},{\"series\":\"social+twlda10\"},{\"series\":\"social+twlda10\"},{\"series\":\"social+twlda10\"},{\"series\":\"social+twlda10\"},{\"series\":\"social+twlda10\"},{\"series\":\"social+twlda10\"},{\"series\":\"social+twlda10\"},{\"series\":\"social+twlda10\"},{\"series\":\"social+twlda10\"},{\"series\":\"social+twlda10\"},{\"series\":\"social+twlda10\"},{\"series\":\"social+twlda10\"},{\"series\":\"social+twlda10\"},{\"series\":\"social+twlda10\"},{\"series\":\"social+twlda10\"},{\"series\":\"social+twlda10\"},{\"series\":\"social+twlda10\"},{\"series\":\"social+twlda10\"},{\"series\":\"social+twlda10\"},{\"series\":\"social+twlda10\"},{\"series\":\"social+twlda10\"}],\"series\":[\"social+twlda10\",\"social+twlda10\",\"social+twlda10\",\"social+twlda10\",\"social+twlda10\",\"social+twlda10\",\"social+twlda10\",\"social+twlda10\",\"social+twlda10\",\"social+twlda10\",\"social+twlda10\",\"social+twlda10\",\"social+twlda10\",\"social+twlda10\",\"social+twlda10\",\"social+twlda10\",\"social+twlda10\",\"social+twlda10\",\"social+twlda10\",\"social+twlda10\",\"social+twlda10\",\"social+twlda10\",\"social+twlda10\",\"social+twlda10\",\"social+twlda10\",\"social+twlda10\",\"social+twlda10\",\"social+twlda10\",\"social+twlda10\",\"social+twlda10\",\"social+twlda10\",\"social+twlda10\",\"social+twlda10\",\"social+twlda10\",\"social+twlda10\",\"social+twlda10\",\"social+twlda10\"],\"x_values\":[0,1,2,3,4,5,6,7,8,9,10,11,12,13,14,15,16,17,18,19,20,21,22,23,24,25,26,27,28,29,30,31,32,33,34,35,36],\"y_values\":{\"__ndarray__\":\"9q4DujFP7z8UvS4UvS7kP0EOxg3ZFeY/h7VvWPuG5T+d8Ex/g27nP7dt27Zt2+Y/uz5dn65P5z95j/d4j/foP/IsI/qA6ug/qll/Br+J7j/J/i0scTPtP02Rz7rBFOk/u2sCpKcd6T9MsXRtBY7pP7wfOc3X6uk/OoMVOoMV6j8iIiIiIiLqP5MkSZIkSeo/spo9yfex6j96V2S+NHHoP3bTshJZmuo/K7tqosqu6j8I1tHmfYrrP+DAgQMHDuw/JDdyIzdy4z/PusEU+azrP6KtBs8RKOo/SY7yV8tt7D8Pyv0WRKLrP1AglZyXRew/W77lW77l6z+BQ/O5/njpPwAAAAAAAO4/3cl8SHcy7z8qkDxt+r7uP4rVPgDlme8/J3ZiJ3Zi7z8=\",\"dtype\":\"float64\",\"shape\":[37]}}},\"id\":\"738a29fd-a53b-4b33-abcb-074322dea3ff\",\"type\":\"ColumnDataSource\"},{\"attributes\":{\"label\":{\"value\":\"social+twlda10\"},\"renderers\":[{\"id\":\"f44e9926-d92a-4865-87f0-56189723169f\",\"type\":\"GlyphRenderer\"}]},\"id\":\"8efc23e9-e8b8-403e-88e3-70e1ed9212f3\",\"type\":\"LegendItem\"},{\"attributes\":{\"data_source\":{\"id\":\"09b48d1f-92a5-4974-b164-602a8898f94b\",\"type\":\"ColumnDataSource\"},\"glyph\":{\"id\":\"c8aa9dce-b3cb-47a0-a6e2-e276d6035009\",\"type\":\"Line\"},\"hover_glyph\":null,\"muted_glyph\":null},\"id\":\"99c26f17-3888-4135-84ae-92e60a049550\",\"type\":\"GlyphRenderer\"},{\"attributes\":{},\"id\":\"12fcb420-6b0f-4e87-a609-d38bf06df95f\",\"type\":\"BasicTickFormatter\"},{\"attributes\":{\"plot\":{\"id\":\"26717f67-551b-4d29-b016-00f693a3203c\",\"subtype\":\"Chart\",\"type\":\"Plot\"}},\"id\":\"2795b4b0-acb5-4c32-8ad2-dd5aef7da3b5\",\"type\":\"WheelZoomTool\"}],\"root_ids\":[\"26717f67-551b-4d29-b016-00f693a3203c\"]},\"title\":\"Bokeh Application\",\"version\":\"0.12.5\"}};\n",
       "            var render_items = [{\"docid\":\"3e194f64-c630-4d01-932f-292452debc76\",\"elementid\":\"ea63df1f-ca5e-4612-8a2e-6ccd4aaa3d8b\",\"modelid\":\"26717f67-551b-4d29-b016-00f693a3203c\"}];\n",
       "            \n",
       "            Bokeh.embed.embed_items(docs_json, render_items);\n",
       "          };\n",
       "          if (document.readyState != \"loading\") fn();\n",
       "          else document.addEventListener(\"DOMContentLoaded\", fn);\n",
       "        })();\n",
       "      },\n",
       "      function(Bokeh) {\n",
       "      }\n",
       "    ];\n",
       "  \n",
       "    function run_inline_js() {\n",
       "      \n",
       "      if ((window.Bokeh !== undefined) || (force === true)) {\n",
       "        for (var i = 0; i < inline_js.length; i++) {\n",
       "          inline_js[i](window.Bokeh);\n",
       "        }if (force === true) {\n",
       "          display_loaded();\n",
       "        }} else if (Date.now() < window._bokeh_timeout) {\n",
       "        setTimeout(run_inline_js, 100);\n",
       "      } else if (!window._bokeh_failed_load) {\n",
       "        console.log(\"Bokeh: BokehJS failed to load within specified timeout.\");\n",
       "        window._bokeh_failed_load = true;\n",
       "      } else if (force !== true) {\n",
       "        var cell = $(document.getElementById(\"ea63df1f-ca5e-4612-8a2e-6ccd4aaa3d8b\")).parents('.cell').data().cell;\n",
       "        cell.output_area.append_execute_result(NB_LOAD_WARNING)\n",
       "      }\n",
       "  \n",
       "    }\n",
       "  \n",
       "    if (window._bokeh_is_loading === 0) {\n",
       "      console.log(\"Bokeh: BokehJS loaded, going straight to plotting\");\n",
       "      run_inline_js();\n",
       "    } else {\n",
       "      load_libs(js_urls, function() {\n",
       "        console.log(\"Bokeh: BokehJS plotting callback run at\", now());\n",
       "        run_inline_js();\n",
       "      });\n",
       "    }\n",
       "  }(this));\n",
       "</script>"
      ]
     },
     "metadata": {},
     "output_type": "display_data"
    }
   ],
   "source": [
    "with open('scores/tw_t%d_f1s_train_svc.json' % n_topics) as f:        \n",
    "    f1s_combined = json.load(f)\n",
    "\n",
    "f1s_social = json.load(open('../_1_one_user_learn_neighbours/scores/f1s_train_svc.json'))\n",
    "f1s_social = {u: f for u, f in f1s_social.items() if u in nlp_uids}\n",
    "\n",
    "sorted_uids = [u for u, f in sorted(f1s_social.items(), key=lambda x:x[1])]\n",
    "indices = range(len(sorted_uids))\n",
    "\n",
    "f1s_lda = np.array([f1s_combined[sorted_uids[i]] for i in indices])\n",
    "f1s_s = np.array([f1s_social[sorted_uids[i]] for i in indices])\n",
    "\n",
    "# build a dataset where multiple columns measure the same thing\n",
    "data = {\n",
    "    \"social\": f1s_s,\n",
    "    \"social+twlda%d\" % n_topics: f1s_lda\n",
    "}\n",
    "\n",
    "labels = ['social', 'social+twlda%d' % n_topics]\n",
    "\n",
    "# create a line chart where each column of measures receives a unique color and dash style\n",
    "line = Line(data, y=labels,\n",
    "            dash=labels,\n",
    "            color=labels,\n",
    "            legend_sort_field = 'color',\n",
    "            legend_sort_direction = 'descending',\n",
    "            xlabel='usuarios (ordenados por f1 del modelo social en datos de evaluación)',\n",
    "            ylabel='puntaje f1 sobre datos de evaluación', legend=True)\n",
    "\n",
    "show(line)"
   ]
  },
  {
   "cell_type": "code",
   "execution_count": 14,
   "metadata": {
    "collapsed": false
   },
   "outputs": [
    {
     "data": {
      "text/plain": [
       "18"
      ]
     },
     "execution_count": 14,
     "metadata": {},
     "output_type": "execute_result"
    }
   ],
   "source": [
    "sum(f1s_lda > f1s_s)"
   ]
  },
  {
   "cell_type": "code",
   "execution_count": 15,
   "metadata": {
    "collapsed": false
   },
   "outputs": [
    {
     "data": {
      "text/plain": [
       "0.82806556796400932"
      ]
     },
     "execution_count": 15,
     "metadata": {},
     "output_type": "execute_result"
    }
   ],
   "source": [
    "np.mean(f1s_lda)"
   ]
  },
  {
   "cell_type": "code",
   "execution_count": 16,
   "metadata": {
    "collapsed": false
   },
   "outputs": [
    {
     "data": {
      "text/plain": [
       "0.80278764744705877"
      ]
     },
     "execution_count": 16,
     "metadata": {},
     "output_type": "execute_result"
    }
   ],
   "source": [
    "np.mean(f1s_s)"
   ]
  }
 ],
 "metadata": {
  "kernelspec": {
   "display_name": "Python 2",
   "language": "python",
   "name": "python2"
  },
  "language_info": {
   "codemirror_mode": {
    "name": "ipython",
    "version": 2
   },
   "file_extension": ".py",
   "mimetype": "text/x-python",
   "name": "python",
   "nbconvert_exporter": "python",
   "pygments_lexer": "ipython2",
   "version": "2.7.11+"
  }
 },
 "nbformat": 4,
 "nbformat_minor": 2
}
