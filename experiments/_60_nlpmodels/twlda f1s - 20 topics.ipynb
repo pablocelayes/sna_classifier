{
 "cells": [
  {
   "cell_type": "code",
   "execution_count": 1,
   "metadata": {
    "collapsed": false
   },
   "outputs": [
    {
     "name": "stdout",
     "output_type": "stream",
     "text": [
      "Switching to API Credentials #8\n"
     ]
    }
   ],
   "source": [
    "from experiments._60_nlpmodels.fit_social_twlda_models import *"
   ]
  },
  {
   "cell_type": "code",
   "execution_count": 2,
   "metadata": {
    "collapsed": true
   },
   "outputs": [],
   "source": [
    "n_topics = 20"
   ]
  },
  {
   "cell_type": "markdown",
   "metadata": {},
   "source": [
    "# Comparación sobre tuning set"
   ]
  },
  {
   "cell_type": "code",
   "execution_count": 3,
   "metadata": {
    "collapsed": false
   },
   "outputs": [
    {
     "data": {
      "text/html": [
       "\n",
       "    <div class=\"bk-root\">\n",
       "        <a href=\"http://bokeh.pydata.org\" target=\"_blank\" class=\"bk-logo bk-logo-small bk-logo-notebook\"></a>\n",
       "        <span id=\"549dfbcf-f72f-48b0-8ce0-b4cc8882f3e0\">Loading BokehJS ...</span>\n",
       "    </div>"
      ]
     },
     "metadata": {},
     "output_type": "display_data"
    },
    {
     "data": {
      "application/javascript": [
       "\n",
       "(function(global) {\n",
       "  function now() {\n",
       "    return new Date();\n",
       "  }\n",
       "\n",
       "  var force = true;\n",
       "\n",
       "  if (typeof (window._bokeh_onload_callbacks) === \"undefined\" || force === true) {\n",
       "    window._bokeh_onload_callbacks = [];\n",
       "    window._bokeh_is_loading = undefined;\n",
       "  }\n",
       "\n",
       "\n",
       "  \n",
       "  if (typeof (window._bokeh_timeout) === \"undefined\" || force === true) {\n",
       "    window._bokeh_timeout = Date.now() + 5000;\n",
       "    window._bokeh_failed_load = false;\n",
       "  }\n",
       "\n",
       "  var NB_LOAD_WARNING = {'data': {'text/html':\n",
       "     \"<div style='background-color: #fdd'>\\n\"+\n",
       "     \"<p>\\n\"+\n",
       "     \"BokehJS does not appear to have successfully loaded. If loading BokehJS from CDN, this \\n\"+\n",
       "     \"may be due to a slow or bad network connection. Possible fixes:\\n\"+\n",
       "     \"</p>\\n\"+\n",
       "     \"<ul>\\n\"+\n",
       "     \"<li>re-rerun `output_notebook()` to attempt to load from CDN again, or</li>\\n\"+\n",
       "     \"<li>use INLINE resources instead, as so:</li>\\n\"+\n",
       "     \"</ul>\\n\"+\n",
       "     \"<code>\\n\"+\n",
       "     \"from bokeh.resources import INLINE\\n\"+\n",
       "     \"output_notebook(resources=INLINE)\\n\"+\n",
       "     \"</code>\\n\"+\n",
       "     \"</div>\"}};\n",
       "\n",
       "  function display_loaded() {\n",
       "    if (window.Bokeh !== undefined) {\n",
       "      var el = document.getElementById(\"549dfbcf-f72f-48b0-8ce0-b4cc8882f3e0\");\n",
       "      el.textContent = \"BokehJS \" + Bokeh.version + \" successfully loaded.\";\n",
       "    } else if (Date.now() < window._bokeh_timeout) {\n",
       "      setTimeout(display_loaded, 100)\n",
       "    }\n",
       "  }\n",
       "\n",
       "  function run_callbacks() {\n",
       "    window._bokeh_onload_callbacks.forEach(function(callback) { callback() });\n",
       "    delete window._bokeh_onload_callbacks\n",
       "    console.info(\"Bokeh: all callbacks have finished\");\n",
       "  }\n",
       "\n",
       "  function load_libs(js_urls, callback) {\n",
       "    window._bokeh_onload_callbacks.push(callback);\n",
       "    if (window._bokeh_is_loading > 0) {\n",
       "      console.log(\"Bokeh: BokehJS is being loaded, scheduling callback at\", now());\n",
       "      return null;\n",
       "    }\n",
       "    if (js_urls == null || js_urls.length === 0) {\n",
       "      run_callbacks();\n",
       "      return null;\n",
       "    }\n",
       "    console.log(\"Bokeh: BokehJS not loaded, scheduling load and callback at\", now());\n",
       "    window._bokeh_is_loading = js_urls.length;\n",
       "    for (var i = 0; i < js_urls.length; i++) {\n",
       "      var url = js_urls[i];\n",
       "      var s = document.createElement('script');\n",
       "      s.src = url;\n",
       "      s.async = false;\n",
       "      s.onreadystatechange = s.onload = function() {\n",
       "        window._bokeh_is_loading--;\n",
       "        if (window._bokeh_is_loading === 0) {\n",
       "          console.log(\"Bokeh: all BokehJS libraries loaded\");\n",
       "          run_callbacks()\n",
       "        }\n",
       "      };\n",
       "      s.onerror = function() {\n",
       "        console.warn(\"failed to load library \" + url);\n",
       "      };\n",
       "      console.log(\"Bokeh: injecting script tag for BokehJS library: \", url);\n",
       "      document.getElementsByTagName(\"head\")[0].appendChild(s);\n",
       "    }\n",
       "  };var element = document.getElementById(\"549dfbcf-f72f-48b0-8ce0-b4cc8882f3e0\");\n",
       "  if (element == null) {\n",
       "    console.log(\"Bokeh: ERROR: autoload.js configured with elementid '549dfbcf-f72f-48b0-8ce0-b4cc8882f3e0' but no matching script tag was found. \")\n",
       "    return false;\n",
       "  }\n",
       "\n",
       "  var js_urls = [\"https://cdn.pydata.org/bokeh/release/bokeh-0.12.5.min.js\", \"https://cdn.pydata.org/bokeh/release/bokeh-widgets-0.12.5.min.js\"];\n",
       "\n",
       "  var inline_js = [\n",
       "    function(Bokeh) {\n",
       "      Bokeh.set_log_level(\"info\");\n",
       "    },\n",
       "    \n",
       "    function(Bokeh) {\n",
       "      \n",
       "    },\n",
       "    \n",
       "    function(Bokeh) {\n",
       "      \n",
       "      document.getElementById(\"549dfbcf-f72f-48b0-8ce0-b4cc8882f3e0\").textContent = \"BokehJS is loading...\";\n",
       "    },\n",
       "    function(Bokeh) {\n",
       "      console.log(\"Bokeh: injecting CSS: https://cdn.pydata.org/bokeh/release/bokeh-0.12.5.min.css\");\n",
       "      Bokeh.embed.inject_css(\"https://cdn.pydata.org/bokeh/release/bokeh-0.12.5.min.css\");\n",
       "      console.log(\"Bokeh: injecting CSS: https://cdn.pydata.org/bokeh/release/bokeh-widgets-0.12.5.min.css\");\n",
       "      Bokeh.embed.inject_css(\"https://cdn.pydata.org/bokeh/release/bokeh-widgets-0.12.5.min.css\");\n",
       "    }\n",
       "  ];\n",
       "\n",
       "  function run_inline_js() {\n",
       "    \n",
       "    if ((window.Bokeh !== undefined) || (force === true)) {\n",
       "      for (var i = 0; i < inline_js.length; i++) {\n",
       "        inline_js[i](window.Bokeh);\n",
       "      }if (force === true) {\n",
       "        display_loaded();\n",
       "      }} else if (Date.now() < window._bokeh_timeout) {\n",
       "      setTimeout(run_inline_js, 100);\n",
       "    } else if (!window._bokeh_failed_load) {\n",
       "      console.log(\"Bokeh: BokehJS failed to load within specified timeout.\");\n",
       "      window._bokeh_failed_load = true;\n",
       "    } else if (force !== true) {\n",
       "      var cell = $(document.getElementById(\"549dfbcf-f72f-48b0-8ce0-b4cc8882f3e0\")).parents('.cell').data().cell;\n",
       "      cell.output_area.append_execute_result(NB_LOAD_WARNING)\n",
       "    }\n",
       "\n",
       "  }\n",
       "\n",
       "  if (window._bokeh_is_loading === 0) {\n",
       "    console.log(\"Bokeh: BokehJS loaded, going straight to plotting\");\n",
       "    run_inline_js();\n",
       "  } else {\n",
       "    load_libs(js_urls, function() {\n",
       "      console.log(\"Bokeh: BokehJS plotting callback run at\", now());\n",
       "      run_inline_js();\n",
       "    });\n",
       "  }\n",
       "}(this));"
      ]
     },
     "metadata": {},
     "output_type": "display_data"
    }
   ],
   "source": [
    "from bokeh.charts import Line, show, output_notebook\n",
    "output_notebook()"
   ]
  },
  {
   "cell_type": "code",
   "execution_count": 4,
   "metadata": {
    "collapsed": false
   },
   "outputs": [],
   "source": [
    "nlp_uids = [u for u, f in load_nlp_selected_users()]"
   ]
  },
  {
   "cell_type": "code",
   "execution_count": 5,
   "metadata": {
    "collapsed": false
   },
   "outputs": [
    {
     "data": {
      "text/html": [
       "\n",
       "\n",
       "    <div class=\"bk-root\">\n",
       "        <div class=\"bk-plotdiv\" id=\"534ae180-c6d6-4a5e-8f18-2b585a093981\"></div>\n",
       "    </div>\n",
       "<script type=\"text/javascript\">\n",
       "  \n",
       "  (function(global) {\n",
       "    function now() {\n",
       "      return new Date();\n",
       "    }\n",
       "  \n",
       "    var force = false;\n",
       "  \n",
       "    if (typeof (window._bokeh_onload_callbacks) === \"undefined\" || force === true) {\n",
       "      window._bokeh_onload_callbacks = [];\n",
       "      window._bokeh_is_loading = undefined;\n",
       "    }\n",
       "  \n",
       "  \n",
       "    \n",
       "    if (typeof (window._bokeh_timeout) === \"undefined\" || force === true) {\n",
       "      window._bokeh_timeout = Date.now() + 0;\n",
       "      window._bokeh_failed_load = false;\n",
       "    }\n",
       "  \n",
       "    var NB_LOAD_WARNING = {'data': {'text/html':\n",
       "       \"<div style='background-color: #fdd'>\\n\"+\n",
       "       \"<p>\\n\"+\n",
       "       \"BokehJS does not appear to have successfully loaded. If loading BokehJS from CDN, this \\n\"+\n",
       "       \"may be due to a slow or bad network connection. Possible fixes:\\n\"+\n",
       "       \"</p>\\n\"+\n",
       "       \"<ul>\\n\"+\n",
       "       \"<li>re-rerun `output_notebook()` to attempt to load from CDN again, or</li>\\n\"+\n",
       "       \"<li>use INLINE resources instead, as so:</li>\\n\"+\n",
       "       \"</ul>\\n\"+\n",
       "       \"<code>\\n\"+\n",
       "       \"from bokeh.resources import INLINE\\n\"+\n",
       "       \"output_notebook(resources=INLINE)\\n\"+\n",
       "       \"</code>\\n\"+\n",
       "       \"</div>\"}};\n",
       "  \n",
       "    function display_loaded() {\n",
       "      if (window.Bokeh !== undefined) {\n",
       "        var el = document.getElementById(\"534ae180-c6d6-4a5e-8f18-2b585a093981\");\n",
       "        el.textContent = \"BokehJS \" + Bokeh.version + \" successfully loaded.\";\n",
       "      } else if (Date.now() < window._bokeh_timeout) {\n",
       "        setTimeout(display_loaded, 100)\n",
       "      }\n",
       "    }\n",
       "  \n",
       "    function run_callbacks() {\n",
       "      window._bokeh_onload_callbacks.forEach(function(callback) { callback() });\n",
       "      delete window._bokeh_onload_callbacks\n",
       "      console.info(\"Bokeh: all callbacks have finished\");\n",
       "    }\n",
       "  \n",
       "    function load_libs(js_urls, callback) {\n",
       "      window._bokeh_onload_callbacks.push(callback);\n",
       "      if (window._bokeh_is_loading > 0) {\n",
       "        console.log(\"Bokeh: BokehJS is being loaded, scheduling callback at\", now());\n",
       "        return null;\n",
       "      }\n",
       "      if (js_urls == null || js_urls.length === 0) {\n",
       "        run_callbacks();\n",
       "        return null;\n",
       "      }\n",
       "      console.log(\"Bokeh: BokehJS not loaded, scheduling load and callback at\", now());\n",
       "      window._bokeh_is_loading = js_urls.length;\n",
       "      for (var i = 0; i < js_urls.length; i++) {\n",
       "        var url = js_urls[i];\n",
       "        var s = document.createElement('script');\n",
       "        s.src = url;\n",
       "        s.async = false;\n",
       "        s.onreadystatechange = s.onload = function() {\n",
       "          window._bokeh_is_loading--;\n",
       "          if (window._bokeh_is_loading === 0) {\n",
       "            console.log(\"Bokeh: all BokehJS libraries loaded\");\n",
       "            run_callbacks()\n",
       "          }\n",
       "        };\n",
       "        s.onerror = function() {\n",
       "          console.warn(\"failed to load library \" + url);\n",
       "        };\n",
       "        console.log(\"Bokeh: injecting script tag for BokehJS library: \", url);\n",
       "        document.getElementsByTagName(\"head\")[0].appendChild(s);\n",
       "      }\n",
       "    };var element = document.getElementById(\"534ae180-c6d6-4a5e-8f18-2b585a093981\");\n",
       "    if (element == null) {\n",
       "      console.log(\"Bokeh: ERROR: autoload.js configured with elementid '534ae180-c6d6-4a5e-8f18-2b585a093981' but no matching script tag was found. \")\n",
       "      return false;\n",
       "    }\n",
       "  \n",
       "    var js_urls = [];\n",
       "  \n",
       "    var inline_js = [\n",
       "      function(Bokeh) {\n",
       "        (function() {\n",
       "          var fn = function() {\n",
       "            var docs_json = {\"777f6ef1-498f-425e-839f-f078bd9f3e1c\":{\"roots\":{\"references\":[{\"attributes\":{\"data_source\":{\"id\":\"4c40d0c2-5f2e-4d0d-ad58-e35bc4dbcd5c\",\"type\":\"ColumnDataSource\"},\"glyph\":{\"id\":\"d568cc2c-624b-47f4-842a-44be12b3845d\",\"type\":\"Line\"},\"hover_glyph\":null,\"muted_glyph\":null},\"id\":\"ea455915-37d1-4db3-bcb9-6641cb250dd4\",\"type\":\"GlyphRenderer\"},{\"attributes\":{\"dimension\":1,\"plot\":{\"id\":\"240ca633-a83a-4977-8ba2-666b4ff2d495\",\"subtype\":\"Chart\",\"type\":\"Plot\"},\"ticker\":{\"id\":\"774d57ea-2b47-471d-a873-1bf7326f6b78\",\"type\":\"BasicTicker\"}},\"id\":\"a58fc91a-bbc2-4b59-82cd-27f31ab7719f\",\"type\":\"Grid\"},{\"attributes\":{\"bottom_units\":\"screen\",\"fill_alpha\":{\"value\":0.5},\"fill_color\":{\"value\":\"lightgrey\"},\"left_units\":\"screen\",\"level\":\"overlay\",\"line_alpha\":{\"value\":1.0},\"line_color\":{\"value\":\"black\"},\"line_dash\":[4,4],\"line_width\":{\"value\":2},\"plot\":null,\"render_mode\":\"css\",\"right_units\":\"screen\",\"top_units\":\"screen\"},\"id\":\"17b1854e-a105-4006-8b87-a141eece61fe\",\"type\":\"BoxAnnotation\"},{\"attributes\":{\"active_drag\":\"auto\",\"active_scroll\":\"auto\",\"active_tap\":\"auto\",\"tools\":[{\"id\":\"1f22b6d2-f58b-4406-a409-7ec6a53ebd71\",\"type\":\"PanTool\"},{\"id\":\"7fae5f27-9d49-4b8d-be88-209a099c63dd\",\"type\":\"WheelZoomTool\"},{\"id\":\"c498c9c6-42eb-4022-a448-fb4b6dc5e545\",\"type\":\"BoxZoomTool\"},{\"id\":\"1e65493a-6caa-42ff-a319-62b3030e48b7\",\"type\":\"SaveTool\"},{\"id\":\"41c719fc-3a94-4812-8536-63859a741c88\",\"type\":\"ResetTool\"},{\"id\":\"4780172e-093e-42ea-bad1-e9d43b2d034e\",\"type\":\"HelpTool\"}]},\"id\":\"9d9875d0-5e44-448c-9561-e70b03197597\",\"type\":\"Toolbar\"},{\"attributes\":{\"callback\":null,\"column_names\":[\"x_values\",\"y_values\"],\"data\":{\"chart_index\":[{\"series\":\"social\"},{\"series\":\"social\"},{\"series\":\"social\"},{\"series\":\"social\"},{\"series\":\"social\"},{\"series\":\"social\"},{\"series\":\"social\"},{\"series\":\"social\"},{\"series\":\"social\"},{\"series\":\"social\"},{\"series\":\"social\"},{\"series\":\"social\"},{\"series\":\"social\"},{\"series\":\"social\"},{\"series\":\"social\"},{\"series\":\"social\"},{\"series\":\"social\"},{\"series\":\"social\"},{\"series\":\"social\"},{\"series\":\"social\"},{\"series\":\"social\"},{\"series\":\"social\"},{\"series\":\"social\"},{\"series\":\"social\"},{\"series\":\"social\"},{\"series\":\"social\"},{\"series\":\"social\"},{\"series\":\"social\"},{\"series\":\"social\"},{\"series\":\"social\"},{\"series\":\"social\"},{\"series\":\"social\"},{\"series\":\"social\"},{\"series\":\"social\"},{\"series\":\"social\"},{\"series\":\"social\"},{\"series\":\"social\"}],\"series\":[\"social\",\"social\",\"social\",\"social\",\"social\",\"social\",\"social\",\"social\",\"social\",\"social\",\"social\",\"social\",\"social\",\"social\",\"social\",\"social\",\"social\",\"social\",\"social\",\"social\",\"social\",\"social\",\"social\",\"social\",\"social\",\"social\",\"social\",\"social\",\"social\",\"social\",\"social\",\"social\",\"social\",\"social\",\"social\",\"social\",\"social\"],\"x_values\":[0,1,2,3,4,5,6,7,8,9,10,11,12,13,14,15,16,17,18,19,20,21,22,23,24,25,26,27,28,29,30,31,32,33,34,35,36],\"y_values\":{\"__ndarray__\":\"g/1WG0PTrT900UUXXXThP6uqqqqqquI/09LS0tLS4j/IU4I8JcjjPwAAAAAAAOQ/AAAAAAAA5D9VVVVVVVXlP1VVVVVVVeU/VVVVVVVV5T9VVVVVVVXlP1VVVVVVVeU/2pWoXYna5T9lIQtZyELmP5dlWZZlWeY/Z2ZmZmZm5j9nZmZmZmbmP5eWlpaWluY/qqqqqqqq5j+qqqqqqqrmP7dt27Zt2+Y/l2/5lm/55j94d3d3d3fnP7169erVq+c/QnsJ7SW05z/0BX1BX9DnP////////+c/OY7jOI7j6D/TjhUII+3oP5uZmZmZmek/////////6j9yBTG5gpjsP6DcAcodoOw/ntiJndiJ7T97rGXogN3uP/jee++99+4/PF5sCb7N7z8=\",\"dtype\":\"float64\",\"shape\":[37]}}},\"id\":\"da48c8c7-1f7a-43cf-b313-55804fdecf0d\",\"type\":\"ColumnDataSource\"},{\"attributes\":{\"label\":{\"value\":\"social+twlda20\"},\"renderers\":[{\"id\":\"ea455915-37d1-4db3-bcb9-6641cb250dd4\",\"type\":\"GlyphRenderer\"}]},\"id\":\"44236c69-98db-4bc4-9f18-fe861cc75340\",\"type\":\"LegendItem\"},{\"attributes\":{\"below\":[{\"id\":\"da91480a-f9e1-455e-973c-26c09b239f19\",\"type\":\"LinearAxis\"}],\"css_classes\":null,\"left\":[{\"id\":\"e19c27d8-f3f3-4390-a1b8-dcb3737d3edc\",\"type\":\"LinearAxis\"}],\"renderers\":[{\"id\":\"17b1854e-a105-4006-8b87-a141eece61fe\",\"type\":\"BoxAnnotation\"},{\"id\":\"43718f48-d0b2-4785-8ca5-3bcc5b130070\",\"type\":\"GlyphRenderer\"},{\"id\":\"ea455915-37d1-4db3-bcb9-6641cb250dd4\",\"type\":\"GlyphRenderer\"},{\"id\":\"1e59c6a2-fbb0-4a05-a4ee-b003069f28de\",\"type\":\"Legend\"},{\"id\":\"da91480a-f9e1-455e-973c-26c09b239f19\",\"type\":\"LinearAxis\"},{\"id\":\"e19c27d8-f3f3-4390-a1b8-dcb3737d3edc\",\"type\":\"LinearAxis\"},{\"id\":\"d381da6c-ec89-4957-bcda-bf9c042f975c\",\"type\":\"Grid\"},{\"id\":\"a58fc91a-bbc2-4b59-82cd-27f31ab7719f\",\"type\":\"Grid\"}],\"title\":{\"id\":\"5b9b37bd-9996-4cf5-aaec-8628970829d6\",\"type\":\"Title\"},\"tool_events\":{\"id\":\"9f525867-496e-4baa-ba34-c6e4ae996d4f\",\"type\":\"ToolEvents\"},\"toolbar\":{\"id\":\"9d9875d0-5e44-448c-9561-e70b03197597\",\"type\":\"Toolbar\"},\"x_mapper_type\":\"auto\",\"x_range\":{\"id\":\"5eefd8be-c9d9-4010-8a01-84419e577ad5\",\"type\":\"Range1d\"},\"y_mapper_type\":\"auto\",\"y_range\":{\"id\":\"33f6c8ec-cc4d-4032-bed2-570f4d3a1cea\",\"type\":\"Range1d\"}},\"id\":\"240ca633-a83a-4977-8ba2-666b4ff2d495\",\"subtype\":\"Chart\",\"type\":\"Plot\"},{\"attributes\":{\"plot\":{\"id\":\"240ca633-a83a-4977-8ba2-666b4ff2d495\",\"subtype\":\"Chart\",\"type\":\"Plot\"}},\"id\":\"41c719fc-3a94-4812-8536-63859a741c88\",\"type\":\"ResetTool\"},{\"attributes\":{},\"id\":\"b442c8d0-72b7-437a-a112-c5c66700b780\",\"type\":\"BasicTickFormatter\"},{\"attributes\":{\"plot\":{\"id\":\"240ca633-a83a-4977-8ba2-666b4ff2d495\",\"subtype\":\"Chart\",\"type\":\"Plot\"},\"ticker\":{\"id\":\"f62427c8-006c-4af3-b13e-24d5619885af\",\"type\":\"BasicTicker\"}},\"id\":\"d381da6c-ec89-4957-bcda-bf9c042f975c\",\"type\":\"Grid\"},{\"attributes\":{\"plot\":{\"id\":\"240ca633-a83a-4977-8ba2-666b4ff2d495\",\"subtype\":\"Chart\",\"type\":\"Plot\"}},\"id\":\"1f22b6d2-f58b-4406-a409-7ec6a53ebd71\",\"type\":\"PanTool\"},{\"attributes\":{\"line_color\":{\"value\":\"#5ab738\"},\"line_dash\":[6],\"line_width\":{\"value\":2},\"x\":{\"field\":\"x_values\"},\"y\":{\"field\":\"y_values\"}},\"id\":\"d568cc2c-624b-47f4-842a-44be12b3845d\",\"type\":\"Line\"},{\"attributes\":{\"axis_label\":\"puntaje f1 sobre datos de evaluaci\\u00f3n\",\"formatter\":{\"id\":\"e167f16d-c892-4111-b17e-cd7531ceda82\",\"type\":\"BasicTickFormatter\"},\"plot\":{\"id\":\"240ca633-a83a-4977-8ba2-666b4ff2d495\",\"subtype\":\"Chart\",\"type\":\"Plot\"},\"ticker\":{\"id\":\"774d57ea-2b47-471d-a873-1bf7326f6b78\",\"type\":\"BasicTicker\"}},\"id\":\"e19c27d8-f3f3-4390-a1b8-dcb3737d3edc\",\"type\":\"LinearAxis\"},{\"attributes\":{\"callback\":null,\"column_names\":[\"x_values\",\"y_values\"],\"data\":{\"chart_index\":[{\"series\":\"social+twlda20\"},{\"series\":\"social+twlda20\"},{\"series\":\"social+twlda20\"},{\"series\":\"social+twlda20\"},{\"series\":\"social+twlda20\"},{\"series\":\"social+twlda20\"},{\"series\":\"social+twlda20\"},{\"series\":\"social+twlda20\"},{\"series\":\"social+twlda20\"},{\"series\":\"social+twlda20\"},{\"series\":\"social+twlda20\"},{\"series\":\"social+twlda20\"},{\"series\":\"social+twlda20\"},{\"series\":\"social+twlda20\"},{\"series\":\"social+twlda20\"},{\"series\":\"social+twlda20\"},{\"series\":\"social+twlda20\"},{\"series\":\"social+twlda20\"},{\"series\":\"social+twlda20\"},{\"series\":\"social+twlda20\"},{\"series\":\"social+twlda20\"},{\"series\":\"social+twlda20\"},{\"series\":\"social+twlda20\"},{\"series\":\"social+twlda20\"},{\"series\":\"social+twlda20\"},{\"series\":\"social+twlda20\"},{\"series\":\"social+twlda20\"},{\"series\":\"social+twlda20\"},{\"series\":\"social+twlda20\"},{\"series\":\"social+twlda20\"},{\"series\":\"social+twlda20\"},{\"series\":\"social+twlda20\"},{\"series\":\"social+twlda20\"},{\"series\":\"social+twlda20\"},{\"series\":\"social+twlda20\"},{\"series\":\"social+twlda20\"},{\"series\":\"social+twlda20\"}],\"series\":[\"social+twlda20\",\"social+twlda20\",\"social+twlda20\",\"social+twlda20\",\"social+twlda20\",\"social+twlda20\",\"social+twlda20\",\"social+twlda20\",\"social+twlda20\",\"social+twlda20\",\"social+twlda20\",\"social+twlda20\",\"social+twlda20\",\"social+twlda20\",\"social+twlda20\",\"social+twlda20\",\"social+twlda20\",\"social+twlda20\",\"social+twlda20\",\"social+twlda20\",\"social+twlda20\",\"social+twlda20\",\"social+twlda20\",\"social+twlda20\",\"social+twlda20\",\"social+twlda20\",\"social+twlda20\",\"social+twlda20\",\"social+twlda20\",\"social+twlda20\",\"social+twlda20\",\"social+twlda20\",\"social+twlda20\",\"social+twlda20\",\"social+twlda20\",\"social+twlda20\",\"social+twlda20\"],\"x_values\":[0,1,2,3,4,5,6,7,8,9,10,11,12,13,14,15,16,17,18,19,20,21,22,23,24,25,26,27,28,29,30,31,32,33,34,35,36],\"y_values\":{\"__ndarray__\":\"R1juaYTl7j900UUXXXThP2G5pxGWe+o/09LS0tLS4j/IU4I8JcjjPwAAAAAAAOQ/lVJKKaWU4j9QXkN5DeXlP3VQB3VQB+U/dNFFF1104T8TO7ETO7HjP1VVVVVVVeU/2pWoXYna5T9lIQtZyELmP5dlWZZlWeY/Z2ZmZmZm5j9nZmZmZmbmPwAAAAAAAOY/qqqqqqqq5j+qqqqqqqrmPxEREREREeE/VVVVVVVV5T94d3d3d3fnP/ntUk/Gb+c/VlVVVVVV5T/0BX1BX9DnP////////+c/OY7jOI7j6D+sqqqqqqroPx3HcRzHcew/////////6j9yBTG5gpjsPwpmSTkgMuw/KFyPwvUo7D97rGXogN3uP97d3d3d3e0/PF5sCb7N7z8=\",\"dtype\":\"float64\",\"shape\":[37]}}},\"id\":\"4c40d0c2-5f2e-4d0d-ad58-e35bc4dbcd5c\",\"type\":\"ColumnDataSource\"},{\"attributes\":{\"plot\":null,\"text\":null},\"id\":\"5b9b37bd-9996-4cf5-aaec-8628970829d6\",\"type\":\"Title\"},{\"attributes\":{\"items\":[{\"id\":\"44236c69-98db-4bc4-9f18-fe861cc75340\",\"type\":\"LegendItem\"},{\"id\":\"4222f94d-bfef-4844-a091-6188ae5665af\",\"type\":\"LegendItem\"}],\"location\":\"top_left\",\"plot\":{\"id\":\"240ca633-a83a-4977-8ba2-666b4ff2d495\",\"subtype\":\"Chart\",\"type\":\"Plot\"}},\"id\":\"1e59c6a2-fbb0-4a05-a4ee-b003069f28de\",\"type\":\"Legend\"},{\"attributes\":{\"plot\":{\"id\":\"240ca633-a83a-4977-8ba2-666b4ff2d495\",\"subtype\":\"Chart\",\"type\":\"Plot\"}},\"id\":\"4780172e-093e-42ea-bad1-e9d43b2d034e\",\"type\":\"HelpTool\"},{\"attributes\":{\"plot\":{\"id\":\"240ca633-a83a-4977-8ba2-666b4ff2d495\",\"subtype\":\"Chart\",\"type\":\"Plot\"}},\"id\":\"7fae5f27-9d49-4b8d-be88-209a099c63dd\",\"type\":\"WheelZoomTool\"},{\"attributes\":{\"overlay\":{\"id\":\"17b1854e-a105-4006-8b87-a141eece61fe\",\"type\":\"BoxAnnotation\"},\"plot\":{\"id\":\"240ca633-a83a-4977-8ba2-666b4ff2d495\",\"subtype\":\"Chart\",\"type\":\"Plot\"}},\"id\":\"c498c9c6-42eb-4022-a448-fb4b6dc5e545\",\"type\":\"BoxZoomTool\"},{\"attributes\":{\"plot\":{\"id\":\"240ca633-a83a-4977-8ba2-666b4ff2d495\",\"subtype\":\"Chart\",\"type\":\"Plot\"}},\"id\":\"1e65493a-6caa-42ff-a319-62b3030e48b7\",\"type\":\"SaveTool\"},{\"attributes\":{\"line_color\":{\"value\":\"#f22c40\"},\"line_width\":{\"value\":2},\"x\":{\"field\":\"x_values\"},\"y\":{\"field\":\"y_values\"}},\"id\":\"87d5247b-f9a9-478e-a217-200a804fe59e\",\"type\":\"Line\"},{\"attributes\":{},\"id\":\"f62427c8-006c-4af3-b13e-24d5619885af\",\"type\":\"BasicTicker\"},{\"attributes\":{\"axis_label\":\"usuarios (ordenados por f1 del modelo social en datos de evaluaci\\u00f3n)\",\"formatter\":{\"id\":\"b442c8d0-72b7-437a-a112-c5c66700b780\",\"type\":\"BasicTickFormatter\"},\"plot\":{\"id\":\"240ca633-a83a-4977-8ba2-666b4ff2d495\",\"subtype\":\"Chart\",\"type\":\"Plot\"},\"ticker\":{\"id\":\"f62427c8-006c-4af3-b13e-24d5619885af\",\"type\":\"BasicTicker\"}},\"id\":\"da91480a-f9e1-455e-973c-26c09b239f19\",\"type\":\"LinearAxis\"},{\"attributes\":{\"data_source\":{\"id\":\"da48c8c7-1f7a-43cf-b313-55804fdecf0d\",\"type\":\"ColumnDataSource\"},\"glyph\":{\"id\":\"87d5247b-f9a9-478e-a217-200a804fe59e\",\"type\":\"Line\"},\"hover_glyph\":null,\"muted_glyph\":null},\"id\":\"43718f48-d0b2-4785-8ca5-3bcc5b130070\",\"type\":\"GlyphRenderer\"},{\"attributes\":{},\"id\":\"e167f16d-c892-4111-b17e-cd7531ceda82\",\"type\":\"BasicTickFormatter\"},{\"attributes\":{\"callback\":null,\"end\":39.6,\"start\":-3.6},\"id\":\"5eefd8be-c9d9-4010-8a01-84419e577ad5\",\"type\":\"Range1d\"},{\"attributes\":{},\"id\":\"9f525867-496e-4baa-ba34-c6e4ae996d4f\",\"type\":\"ToolEvents\"},{\"attributes\":{\"label\":{\"value\":\"social\"},\"renderers\":[{\"id\":\"43718f48-d0b2-4785-8ca5-3bcc5b130070\",\"type\":\"GlyphRenderer\"}]},\"id\":\"4222f94d-bfef-4844-a091-6188ae5665af\",\"type\":\"LegendItem\"},{\"attributes\":{},\"id\":\"774d57ea-2b47-471d-a873-1bf7326f6b78\",\"type\":\"BasicTicker\"},{\"attributes\":{\"callback\":null,\"end\":1.0874262910238848,\"start\":-0.035308833164572055},\"id\":\"33f6c8ec-cc4d-4032-bed2-570f4d3a1cea\",\"type\":\"Range1d\"}],\"root_ids\":[\"240ca633-a83a-4977-8ba2-666b4ff2d495\"]},\"title\":\"Bokeh Application\",\"version\":\"0.12.5\"}};\n",
       "            var render_items = [{\"docid\":\"777f6ef1-498f-425e-839f-f078bd9f3e1c\",\"elementid\":\"534ae180-c6d6-4a5e-8f18-2b585a093981\",\"modelid\":\"240ca633-a83a-4977-8ba2-666b4ff2d495\"}];\n",
       "            \n",
       "            Bokeh.embed.embed_items(docs_json, render_items);\n",
       "          };\n",
       "          if (document.readyState != \"loading\") fn();\n",
       "          else document.addEventListener(\"DOMContentLoaded\", fn);\n",
       "        })();\n",
       "      },\n",
       "      function(Bokeh) {\n",
       "      }\n",
       "    ];\n",
       "  \n",
       "    function run_inline_js() {\n",
       "      \n",
       "      if ((window.Bokeh !== undefined) || (force === true)) {\n",
       "        for (var i = 0; i < inline_js.length; i++) {\n",
       "          inline_js[i](window.Bokeh);\n",
       "        }if (force === true) {\n",
       "          display_loaded();\n",
       "        }} else if (Date.now() < window._bokeh_timeout) {\n",
       "        setTimeout(run_inline_js, 100);\n",
       "      } else if (!window._bokeh_failed_load) {\n",
       "        console.log(\"Bokeh: BokehJS failed to load within specified timeout.\");\n",
       "        window._bokeh_failed_load = true;\n",
       "      } else if (force !== true) {\n",
       "        var cell = $(document.getElementById(\"534ae180-c6d6-4a5e-8f18-2b585a093981\")).parents('.cell').data().cell;\n",
       "        cell.output_area.append_execute_result(NB_LOAD_WARNING)\n",
       "      }\n",
       "  \n",
       "    }\n",
       "  \n",
       "    if (window._bokeh_is_loading === 0) {\n",
       "      console.log(\"Bokeh: BokehJS loaded, going straight to plotting\");\n",
       "      run_inline_js();\n",
       "    } else {\n",
       "      load_libs(js_urls, function() {\n",
       "        console.log(\"Bokeh: BokehJS plotting callback run at\", now());\n",
       "        run_inline_js();\n",
       "      });\n",
       "    }\n",
       "  }(this));\n",
       "</script>"
      ]
     },
     "metadata": {},
     "output_type": "display_data"
    }
   ],
   "source": [
    "with open('scores/tw_t%d_f1s_valid_svc.json' % n_topics) as f:\n",
    "    f1s_combined = json.load(f)\n",
    "\n",
    "f1s_social = json.load(open('../_1_one_user_learn_neighbours/scores/f1s_valid_svc.json'))\n",
    "f1s_social = {u: f for u, f in f1s_social.items() if u in nlp_uids}\n",
    "\n",
    "sorted_uids = [u for u, f in sorted(f1s_social.items(), key=lambda x:x[1])]\n",
    "indices = range(len(sorted_uids))\n",
    "\n",
    "f1s_lda = np.array([f1s_combined[sorted_uids[i]] for i in indices])\n",
    "f1s_s = np.array([f1s_social[sorted_uids[i]] for i in indices])\n",
    "\n",
    "# build a dataset where multiple columns measure the same thing\n",
    "data = {\n",
    "    \"social\": f1s_s,\n",
    "    \"social+twlda%d\" % n_topics: f1s_lda\n",
    "}\n",
    "\n",
    "labels = ['social', 'social+twlda%d' % n_topics]\n",
    "\n",
    "# create a line chart where each column of measures receives a unique color and dash style\n",
    "line = Line(data, y=labels,\n",
    "            dash=labels,\n",
    "            color=labels,\n",
    "            legend_sort_field = 'color',\n",
    "            legend_sort_direction = 'descending',\n",
    "            xlabel='usuarios (ordenados por f1 del modelo social en datos de evaluación)',\n",
    "            ylabel='puntaje f1 sobre datos de evaluación', legend=True)\n",
    "\n",
    "show(line)"
   ]
  },
  {
   "cell_type": "code",
   "execution_count": 6,
   "metadata": {
    "collapsed": false
   },
   "outputs": [
    {
     "data": {
      "text/plain": [
       "4"
      ]
     },
     "execution_count": 6,
     "metadata": {},
     "output_type": "execute_result"
    }
   ],
   "source": [
    "sum(f1s_lda > f1s_s)"
   ]
  },
  {
   "cell_type": "code",
   "execution_count": 7,
   "metadata": {
    "collapsed": false
   },
   "outputs": [
    {
     "data": {
      "text/plain": [
       "0.73391733872297393"
      ]
     },
     "execution_count": 7,
     "metadata": {},
     "output_type": "execute_result"
    }
   ],
   "source": [
    "np.mean(f1s_lda)"
   ]
  },
  {
   "cell_type": "code",
   "execution_count": 8,
   "metadata": {
    "collapsed": false
   },
   "outputs": [
    {
     "data": {
      "text/plain": [
       "0.71768682625332803"
      ]
     },
     "execution_count": 8,
     "metadata": {},
     "output_type": "execute_result"
    }
   ],
   "source": [
    "np.mean(f1s_s)"
   ]
  },
  {
   "cell_type": "markdown",
   "metadata": {},
   "source": [
    "# Comparación en test set"
   ]
  },
  {
   "cell_type": "code",
   "execution_count": 9,
   "metadata": {
    "collapsed": false
   },
   "outputs": [
    {
     "data": {
      "text/html": [
       "\n",
       "\n",
       "    <div class=\"bk-root\">\n",
       "        <div class=\"bk-plotdiv\" id=\"c3f85992-cd2a-4c02-bc9c-248c9b8ec576\"></div>\n",
       "    </div>\n",
       "<script type=\"text/javascript\">\n",
       "  \n",
       "  (function(global) {\n",
       "    function now() {\n",
       "      return new Date();\n",
       "    }\n",
       "  \n",
       "    var force = false;\n",
       "  \n",
       "    if (typeof (window._bokeh_onload_callbacks) === \"undefined\" || force === true) {\n",
       "      window._bokeh_onload_callbacks = [];\n",
       "      window._bokeh_is_loading = undefined;\n",
       "    }\n",
       "  \n",
       "  \n",
       "    \n",
       "    if (typeof (window._bokeh_timeout) === \"undefined\" || force === true) {\n",
       "      window._bokeh_timeout = Date.now() + 0;\n",
       "      window._bokeh_failed_load = false;\n",
       "    }\n",
       "  \n",
       "    var NB_LOAD_WARNING = {'data': {'text/html':\n",
       "       \"<div style='background-color: #fdd'>\\n\"+\n",
       "       \"<p>\\n\"+\n",
       "       \"BokehJS does not appear to have successfully loaded. If loading BokehJS from CDN, this \\n\"+\n",
       "       \"may be due to a slow or bad network connection. Possible fixes:\\n\"+\n",
       "       \"</p>\\n\"+\n",
       "       \"<ul>\\n\"+\n",
       "       \"<li>re-rerun `output_notebook()` to attempt to load from CDN again, or</li>\\n\"+\n",
       "       \"<li>use INLINE resources instead, as so:</li>\\n\"+\n",
       "       \"</ul>\\n\"+\n",
       "       \"<code>\\n\"+\n",
       "       \"from bokeh.resources import INLINE\\n\"+\n",
       "       \"output_notebook(resources=INLINE)\\n\"+\n",
       "       \"</code>\\n\"+\n",
       "       \"</div>\"}};\n",
       "  \n",
       "    function display_loaded() {\n",
       "      if (window.Bokeh !== undefined) {\n",
       "        var el = document.getElementById(\"c3f85992-cd2a-4c02-bc9c-248c9b8ec576\");\n",
       "        el.textContent = \"BokehJS \" + Bokeh.version + \" successfully loaded.\";\n",
       "      } else if (Date.now() < window._bokeh_timeout) {\n",
       "        setTimeout(display_loaded, 100)\n",
       "      }\n",
       "    }\n",
       "  \n",
       "    function run_callbacks() {\n",
       "      window._bokeh_onload_callbacks.forEach(function(callback) { callback() });\n",
       "      delete window._bokeh_onload_callbacks\n",
       "      console.info(\"Bokeh: all callbacks have finished\");\n",
       "    }\n",
       "  \n",
       "    function load_libs(js_urls, callback) {\n",
       "      window._bokeh_onload_callbacks.push(callback);\n",
       "      if (window._bokeh_is_loading > 0) {\n",
       "        console.log(\"Bokeh: BokehJS is being loaded, scheduling callback at\", now());\n",
       "        return null;\n",
       "      }\n",
       "      if (js_urls == null || js_urls.length === 0) {\n",
       "        run_callbacks();\n",
       "        return null;\n",
       "      }\n",
       "      console.log(\"Bokeh: BokehJS not loaded, scheduling load and callback at\", now());\n",
       "      window._bokeh_is_loading = js_urls.length;\n",
       "      for (var i = 0; i < js_urls.length; i++) {\n",
       "        var url = js_urls[i];\n",
       "        var s = document.createElement('script');\n",
       "        s.src = url;\n",
       "        s.async = false;\n",
       "        s.onreadystatechange = s.onload = function() {\n",
       "          window._bokeh_is_loading--;\n",
       "          if (window._bokeh_is_loading === 0) {\n",
       "            console.log(\"Bokeh: all BokehJS libraries loaded\");\n",
       "            run_callbacks()\n",
       "          }\n",
       "        };\n",
       "        s.onerror = function() {\n",
       "          console.warn(\"failed to load library \" + url);\n",
       "        };\n",
       "        console.log(\"Bokeh: injecting script tag for BokehJS library: \", url);\n",
       "        document.getElementsByTagName(\"head\")[0].appendChild(s);\n",
       "      }\n",
       "    };var element = document.getElementById(\"c3f85992-cd2a-4c02-bc9c-248c9b8ec576\");\n",
       "    if (element == null) {\n",
       "      console.log(\"Bokeh: ERROR: autoload.js configured with elementid 'c3f85992-cd2a-4c02-bc9c-248c9b8ec576' but no matching script tag was found. \")\n",
       "      return false;\n",
       "    }\n",
       "  \n",
       "    var js_urls = [];\n",
       "  \n",
       "    var inline_js = [\n",
       "      function(Bokeh) {\n",
       "        (function() {\n",
       "          var fn = function() {\n",
       "            var docs_json = {\"ff3f36b7-e6ba-461e-af5c-794bde5a4449\":{\"roots\":{\"references\":[{\"attributes\":{\"plot\":null,\"text\":null},\"id\":\"c0a5004d-f660-45f2-8103-b7ca557d23ec\",\"type\":\"Title\"},{\"attributes\":{\"plot\":{\"id\":\"d6344090-3758-4967-b8ef-1560bedb1389\",\"subtype\":\"Chart\",\"type\":\"Plot\"}},\"id\":\"4ceb8eb1-7c96-4a9d-8839-11e11e0300da\",\"type\":\"SaveTool\"},{\"attributes\":{\"plot\":{\"id\":\"d6344090-3758-4967-b8ef-1560bedb1389\",\"subtype\":\"Chart\",\"type\":\"Plot\"}},\"id\":\"5a38cfb1-ccb2-4f02-8fe2-88dfeac9d738\",\"type\":\"HelpTool\"},{\"attributes\":{\"callback\":null,\"end\":1.070669339164237,\"start\":-0.027362730806608337},\"id\":\"042424ff-b2c5-49e4-a5fe-1553d0811684\",\"type\":\"Range1d\"},{\"attributes\":{\"line_color\":{\"value\":\"#f22c40\"},\"line_width\":{\"value\":2},\"x\":{\"field\":\"x_values\"},\"y\":{\"field\":\"y_values\"}},\"id\":\"08993469-612e-4cce-ac98-e1457ccd3453\",\"type\":\"Line\"},{\"attributes\":{\"plot\":{\"id\":\"d6344090-3758-4967-b8ef-1560bedb1389\",\"subtype\":\"Chart\",\"type\":\"Plot\"}},\"id\":\"0a83691c-f5ad-4cb7-bef7-637465777b62\",\"type\":\"PanTool\"},{\"attributes\":{\"callback\":null,\"column_names\":[\"x_values\",\"y_values\"],\"data\":{\"chart_index\":[{\"series\":\"social\"},{\"series\":\"social\"},{\"series\":\"social\"},{\"series\":\"social\"},{\"series\":\"social\"},{\"series\":\"social\"},{\"series\":\"social\"},{\"series\":\"social\"},{\"series\":\"social\"},{\"series\":\"social\"},{\"series\":\"social\"},{\"series\":\"social\"},{\"series\":\"social\"},{\"series\":\"social\"},{\"series\":\"social\"},{\"series\":\"social\"},{\"series\":\"social\"},{\"series\":\"social\"},{\"series\":\"social\"},{\"series\":\"social\"},{\"series\":\"social\"},{\"series\":\"social\"},{\"series\":\"social\"},{\"series\":\"social\"},{\"series\":\"social\"},{\"series\":\"social\"},{\"series\":\"social\"},{\"series\":\"social\"},{\"series\":\"social\"},{\"series\":\"social\"},{\"series\":\"social\"},{\"series\":\"social\"},{\"series\":\"social\"},{\"series\":\"social\"},{\"series\":\"social\"},{\"series\":\"social\"},{\"series\":\"social\"}],\"series\":[\"social\",\"social\",\"social\",\"social\",\"social\",\"social\",\"social\",\"social\",\"social\",\"social\",\"social\",\"social\",\"social\",\"social\",\"social\",\"social\",\"social\",\"social\",\"social\",\"social\",\"social\",\"social\",\"social\",\"social\",\"social\",\"social\",\"social\",\"social\",\"social\",\"social\",\"social\",\"social\",\"social\",\"social\",\"social\",\"social\",\"social\"],\"x_values\":[0,1,2,3,4,5,6,7,8,9,10,11,12,13,14,15,16,17,18,19,20,21,22,23,24,25,26,27,28,29,30,31,32,33,34,35,36],\"y_values\":{\"__ndarray__\":\"ZRbup3lrsD900UUXXXThP8/KT4iz8uM/HMdxHMdx5D86u4VfjYnkP9JFF1100eU/AQAAAAAA5j9lIQtZyELmP2UhC1nIQuY/ymsor6G85j/HcRzHcRznPzMzMzMzM+c/Nzc3Nzc35z9GF1100UXnP/QFfUFf0Oc/94DZA2YP6D/NH2w8mj/oP9mJndiJneg/NNaHxvrQ6D+1l9BeQnvpPyOfdYMp8uk/sKG8hvIa6j9aWlpaWlrqP6qqqqqqquo/YGdXe2oQ6z/H+tBYHxrrPyabbLLJJus/bdR3Nuo76z/btm3btm3rP9u2bdu2bes/HLmRG7mR6z8fwX0E9xHsP+zETuzETuw/1AjLPY2w7D9ot/CrMZHuP8dxHMdxHO8/3/It3/It7z8=\",\"dtype\":\"float64\",\"shape\":[37]}}},\"id\":\"cf3b1f4f-b295-417d-b9e2-5263cf1fc4e2\",\"type\":\"ColumnDataSource\"},{\"attributes\":{\"below\":[{\"id\":\"0a3f1b40-a126-4a72-bbfa-baf9a7e826e5\",\"type\":\"LinearAxis\"}],\"css_classes\":null,\"left\":[{\"id\":\"b3fc2b0b-d89c-4af0-a28b-85be6d8d94a5\",\"type\":\"LinearAxis\"}],\"renderers\":[{\"id\":\"a61f02fa-6fa5-4c81-ac57-2619b303a3dd\",\"type\":\"BoxAnnotation\"},{\"id\":\"7d81476d-f989-4d29-baf3-a5c3b3cdc7d3\",\"type\":\"GlyphRenderer\"},{\"id\":\"96c7001f-ae9c-4c2b-ac97-8c95f99dc965\",\"type\":\"GlyphRenderer\"},{\"id\":\"8c20e92f-9cf6-482d-bdd9-0ff1afedc858\",\"type\":\"Legend\"},{\"id\":\"0a3f1b40-a126-4a72-bbfa-baf9a7e826e5\",\"type\":\"LinearAxis\"},{\"id\":\"b3fc2b0b-d89c-4af0-a28b-85be6d8d94a5\",\"type\":\"LinearAxis\"},{\"id\":\"417cc061-3331-4c7a-83b1-30ea700b2fd7\",\"type\":\"Grid\"},{\"id\":\"060875df-299b-4bb4-b883-fed2e8239a66\",\"type\":\"Grid\"}],\"title\":{\"id\":\"c0a5004d-f660-45f2-8103-b7ca557d23ec\",\"type\":\"Title\"},\"tool_events\":{\"id\":\"20611bc7-6985-400f-85e6-45e40b35e2d9\",\"type\":\"ToolEvents\"},\"toolbar\":{\"id\":\"6b7b02ba-926f-46cb-a860-ae6e53e6d7f5\",\"type\":\"Toolbar\"},\"x_mapper_type\":\"auto\",\"x_range\":{\"id\":\"21ff1f10-9fe1-4a13-9dd9-e236249b80ca\",\"type\":\"Range1d\"},\"y_mapper_type\":\"auto\",\"y_range\":{\"id\":\"042424ff-b2c5-49e4-a5fe-1553d0811684\",\"type\":\"Range1d\"}},\"id\":\"d6344090-3758-4967-b8ef-1560bedb1389\",\"subtype\":\"Chart\",\"type\":\"Plot\"},{\"attributes\":{\"plot\":{\"id\":\"d6344090-3758-4967-b8ef-1560bedb1389\",\"subtype\":\"Chart\",\"type\":\"Plot\"}},\"id\":\"8dad5cf3-9622-42a4-bc03-2865c9f47b67\",\"type\":\"ResetTool\"},{\"attributes\":{\"axis_label\":\"usuarios (ordenados por f1 del modelo social en datos de evaluaci\\u00f3n)\",\"formatter\":{\"id\":\"0e1727dd-4cd5-487d-a3f9-681400aff81d\",\"type\":\"BasicTickFormatter\"},\"plot\":{\"id\":\"d6344090-3758-4967-b8ef-1560bedb1389\",\"subtype\":\"Chart\",\"type\":\"Plot\"},\"ticker\":{\"id\":\"8301e539-164d-4580-8bbb-bdafc5317bcc\",\"type\":\"BasicTicker\"}},\"id\":\"0a3f1b40-a126-4a72-bbfa-baf9a7e826e5\",\"type\":\"LinearAxis\"},{\"attributes\":{\"label\":{\"value\":\"social+twlda20\"},\"renderers\":[{\"id\":\"96c7001f-ae9c-4c2b-ac97-8c95f99dc965\",\"type\":\"GlyphRenderer\"}]},\"id\":\"fd2fe68e-9a10-47ca-97af-3a0efd73e549\",\"type\":\"LegendItem\"},{\"attributes\":{\"line_color\":{\"value\":\"#5ab738\"},\"line_dash\":[6],\"line_width\":{\"value\":2},\"x\":{\"field\":\"x_values\"},\"y\":{\"field\":\"y_values\"}},\"id\":\"d42fd4ce-a612-4f74-96db-6b18163ba013\",\"type\":\"Line\"},{\"attributes\":{\"items\":[{\"id\":\"fd2fe68e-9a10-47ca-97af-3a0efd73e549\",\"type\":\"LegendItem\"},{\"id\":\"233500e8-3d89-45fb-a13e-50c00868815f\",\"type\":\"LegendItem\"}],\"location\":\"top_left\",\"plot\":{\"id\":\"d6344090-3758-4967-b8ef-1560bedb1389\",\"subtype\":\"Chart\",\"type\":\"Plot\"}},\"id\":\"8c20e92f-9cf6-482d-bdd9-0ff1afedc858\",\"type\":\"Legend\"},{\"attributes\":{},\"id\":\"0e1727dd-4cd5-487d-a3f9-681400aff81d\",\"type\":\"BasicTickFormatter\"},{\"attributes\":{\"bottom_units\":\"screen\",\"fill_alpha\":{\"value\":0.5},\"fill_color\":{\"value\":\"lightgrey\"},\"left_units\":\"screen\",\"level\":\"overlay\",\"line_alpha\":{\"value\":1.0},\"line_color\":{\"value\":\"black\"},\"line_dash\":[4,4],\"line_width\":{\"value\":2},\"plot\":null,\"render_mode\":\"css\",\"right_units\":\"screen\",\"top_units\":\"screen\"},\"id\":\"a61f02fa-6fa5-4c81-ac57-2619b303a3dd\",\"type\":\"BoxAnnotation\"},{\"attributes\":{},\"id\":\"20611bc7-6985-400f-85e6-45e40b35e2d9\",\"type\":\"ToolEvents\"},{\"attributes\":{\"callback\":null,\"end\":39.6,\"start\":-3.6},\"id\":\"21ff1f10-9fe1-4a13-9dd9-e236249b80ca\",\"type\":\"Range1d\"},{\"attributes\":{\"active_drag\":\"auto\",\"active_scroll\":\"auto\",\"active_tap\":\"auto\",\"tools\":[{\"id\":\"0a83691c-f5ad-4cb7-bef7-637465777b62\",\"type\":\"PanTool\"},{\"id\":\"df21ddd9-85ae-4da3-88cf-12e925b6c68c\",\"type\":\"WheelZoomTool\"},{\"id\":\"c13e38c4-9022-4c79-9acc-f5a188d602af\",\"type\":\"BoxZoomTool\"},{\"id\":\"4ceb8eb1-7c96-4a9d-8839-11e11e0300da\",\"type\":\"SaveTool\"},{\"id\":\"8dad5cf3-9622-42a4-bc03-2865c9f47b67\",\"type\":\"ResetTool\"},{\"id\":\"5a38cfb1-ccb2-4f02-8fe2-88dfeac9d738\",\"type\":\"HelpTool\"}]},\"id\":\"6b7b02ba-926f-46cb-a860-ae6e53e6d7f5\",\"type\":\"Toolbar\"},{\"attributes\":{\"plot\":{\"id\":\"d6344090-3758-4967-b8ef-1560bedb1389\",\"subtype\":\"Chart\",\"type\":\"Plot\"}},\"id\":\"df21ddd9-85ae-4da3-88cf-12e925b6c68c\",\"type\":\"WheelZoomTool\"},{\"attributes\":{},\"id\":\"df4744d1-42b2-4ff7-8351-9cd4a87a91a1\",\"type\":\"BasicTicker\"},{\"attributes\":{\"data_source\":{\"id\":\"5acbae78-3545-4181-9383-84478c57d3ba\",\"type\":\"ColumnDataSource\"},\"glyph\":{\"id\":\"d42fd4ce-a612-4f74-96db-6b18163ba013\",\"type\":\"Line\"},\"hover_glyph\":null,\"muted_glyph\":null},\"id\":\"96c7001f-ae9c-4c2b-ac97-8c95f99dc965\",\"type\":\"GlyphRenderer\"},{\"attributes\":{\"label\":{\"value\":\"social\"},\"renderers\":[{\"id\":\"7d81476d-f989-4d29-baf3-a5c3b3cdc7d3\",\"type\":\"GlyphRenderer\"}]},\"id\":\"233500e8-3d89-45fb-a13e-50c00868815f\",\"type\":\"LegendItem\"},{\"attributes\":{\"axis_label\":\"puntaje f1 sobre datos de evaluaci\\u00f3n\",\"formatter\":{\"id\":\"5316b7f1-bba7-4406-81b4-4feb07ff9d71\",\"type\":\"BasicTickFormatter\"},\"plot\":{\"id\":\"d6344090-3758-4967-b8ef-1560bedb1389\",\"subtype\":\"Chart\",\"type\":\"Plot\"},\"ticker\":{\"id\":\"df4744d1-42b2-4ff7-8351-9cd4a87a91a1\",\"type\":\"BasicTicker\"}},\"id\":\"b3fc2b0b-d89c-4af0-a28b-85be6d8d94a5\",\"type\":\"LinearAxis\"},{\"attributes\":{\"plot\":{\"id\":\"d6344090-3758-4967-b8ef-1560bedb1389\",\"subtype\":\"Chart\",\"type\":\"Plot\"},\"ticker\":{\"id\":\"8301e539-164d-4580-8bbb-bdafc5317bcc\",\"type\":\"BasicTicker\"}},\"id\":\"417cc061-3331-4c7a-83b1-30ea700b2fd7\",\"type\":\"Grid\"},{\"attributes\":{\"dimension\":1,\"plot\":{\"id\":\"d6344090-3758-4967-b8ef-1560bedb1389\",\"subtype\":\"Chart\",\"type\":\"Plot\"},\"ticker\":{\"id\":\"df4744d1-42b2-4ff7-8351-9cd4a87a91a1\",\"type\":\"BasicTicker\"}},\"id\":\"060875df-299b-4bb4-b883-fed2e8239a66\",\"type\":\"Grid\"},{\"attributes\":{\"callback\":null,\"column_names\":[\"x_values\",\"y_values\"],\"data\":{\"chart_index\":[{\"series\":\"social+twlda20\"},{\"series\":\"social+twlda20\"},{\"series\":\"social+twlda20\"},{\"series\":\"social+twlda20\"},{\"series\":\"social+twlda20\"},{\"series\":\"social+twlda20\"},{\"series\":\"social+twlda20\"},{\"series\":\"social+twlda20\"},{\"series\":\"social+twlda20\"},{\"series\":\"social+twlda20\"},{\"series\":\"social+twlda20\"},{\"series\":\"social+twlda20\"},{\"series\":\"social+twlda20\"},{\"series\":\"social+twlda20\"},{\"series\":\"social+twlda20\"},{\"series\":\"social+twlda20\"},{\"series\":\"social+twlda20\"},{\"series\":\"social+twlda20\"},{\"series\":\"social+twlda20\"},{\"series\":\"social+twlda20\"},{\"series\":\"social+twlda20\"},{\"series\":\"social+twlda20\"},{\"series\":\"social+twlda20\"},{\"series\":\"social+twlda20\"},{\"series\":\"social+twlda20\"},{\"series\":\"social+twlda20\"},{\"series\":\"social+twlda20\"},{\"series\":\"social+twlda20\"},{\"series\":\"social+twlda20\"},{\"series\":\"social+twlda20\"},{\"series\":\"social+twlda20\"},{\"series\":\"social+twlda20\"},{\"series\":\"social+twlda20\"},{\"series\":\"social+twlda20\"},{\"series\":\"social+twlda20\"},{\"series\":\"social+twlda20\"},{\"series\":\"social+twlda20\"}],\"series\":[\"social+twlda20\",\"social+twlda20\",\"social+twlda20\",\"social+twlda20\",\"social+twlda20\",\"social+twlda20\",\"social+twlda20\",\"social+twlda20\",\"social+twlda20\",\"social+twlda20\",\"social+twlda20\",\"social+twlda20\",\"social+twlda20\",\"social+twlda20\",\"social+twlda20\",\"social+twlda20\",\"social+twlda20\",\"social+twlda20\",\"social+twlda20\",\"social+twlda20\",\"social+twlda20\",\"social+twlda20\",\"social+twlda20\",\"social+twlda20\",\"social+twlda20\",\"social+twlda20\",\"social+twlda20\",\"social+twlda20\",\"social+twlda20\",\"social+twlda20\",\"social+twlda20\",\"social+twlda20\",\"social+twlda20\",\"social+twlda20\",\"social+twlda20\",\"social+twlda20\",\"social+twlda20\"],\"x_values\":[0,1,2,3,4,5,6,7,8,9,10,11,12,13,14,15,16,17,18,19,20,21,22,23,24,25,26,27,28,29,30,31,32,33,34,35,36],\"y_values\":{\"__ndarray__\":\"AAAAAAAA7z9TK7VSK7XiP3oUrkfheuQ/9VAP9VAP5T86u4VfjYnkP9JFF1100eU/MzMzMzMz4z9ddNFFF13kP2UhC1nIQuY/CtejcD0K5z+fQ2qC8VbmP/yuFjdhfuc/Nzc3Nzc35z9GF1100UXnP5qZmZmZmek/SA9Uzm7h5z/NH2w8mj/oP4gB6VjKJOg/39mo72zU5z+1l9BeQnvpPzmO4ziO4+g/y5YtW7Zs6T+amZmZmZnpP6qqqqqqquo/nC1Smy1S6z+D30RP5/bqP5mZmZmZmek/aKO+s1Hf6T/btm3btm3rP1qwBVuwBes/HLmRG7mR6z+SJEmSJEnqP+zETuzETuw/RLCONu9T7D9ot/CrMZHuP1VVVVVVVe8/DuU1lNdQ7j8=\",\"dtype\":\"float64\",\"shape\":[37]}}},\"id\":\"5acbae78-3545-4181-9383-84478c57d3ba\",\"type\":\"ColumnDataSource\"},{\"attributes\":{},\"id\":\"8301e539-164d-4580-8bbb-bdafc5317bcc\",\"type\":\"BasicTicker\"},{\"attributes\":{\"data_source\":{\"id\":\"cf3b1f4f-b295-417d-b9e2-5263cf1fc4e2\",\"type\":\"ColumnDataSource\"},\"glyph\":{\"id\":\"08993469-612e-4cce-ac98-e1457ccd3453\",\"type\":\"Line\"},\"hover_glyph\":null,\"muted_glyph\":null},\"id\":\"7d81476d-f989-4d29-baf3-a5c3b3cdc7d3\",\"type\":\"GlyphRenderer\"},{\"attributes\":{\"overlay\":{\"id\":\"a61f02fa-6fa5-4c81-ac57-2619b303a3dd\",\"type\":\"BoxAnnotation\"},\"plot\":{\"id\":\"d6344090-3758-4967-b8ef-1560bedb1389\",\"subtype\":\"Chart\",\"type\":\"Plot\"}},\"id\":\"c13e38c4-9022-4c79-9acc-f5a188d602af\",\"type\":\"BoxZoomTool\"},{\"attributes\":{},\"id\":\"5316b7f1-bba7-4406-81b4-4feb07ff9d71\",\"type\":\"BasicTickFormatter\"}],\"root_ids\":[\"d6344090-3758-4967-b8ef-1560bedb1389\"]},\"title\":\"Bokeh Application\",\"version\":\"0.12.5\"}};\n",
       "            var render_items = [{\"docid\":\"ff3f36b7-e6ba-461e-af5c-794bde5a4449\",\"elementid\":\"c3f85992-cd2a-4c02-bc9c-248c9b8ec576\",\"modelid\":\"d6344090-3758-4967-b8ef-1560bedb1389\"}];\n",
       "            \n",
       "            Bokeh.embed.embed_items(docs_json, render_items);\n",
       "          };\n",
       "          if (document.readyState != \"loading\") fn();\n",
       "          else document.addEventListener(\"DOMContentLoaded\", fn);\n",
       "        })();\n",
       "      },\n",
       "      function(Bokeh) {\n",
       "      }\n",
       "    ];\n",
       "  \n",
       "    function run_inline_js() {\n",
       "      \n",
       "      if ((window.Bokeh !== undefined) || (force === true)) {\n",
       "        for (var i = 0; i < inline_js.length; i++) {\n",
       "          inline_js[i](window.Bokeh);\n",
       "        }if (force === true) {\n",
       "          display_loaded();\n",
       "        }} else if (Date.now() < window._bokeh_timeout) {\n",
       "        setTimeout(run_inline_js, 100);\n",
       "      } else if (!window._bokeh_failed_load) {\n",
       "        console.log(\"Bokeh: BokehJS failed to load within specified timeout.\");\n",
       "        window._bokeh_failed_load = true;\n",
       "      } else if (force !== true) {\n",
       "        var cell = $(document.getElementById(\"c3f85992-cd2a-4c02-bc9c-248c9b8ec576\")).parents('.cell').data().cell;\n",
       "        cell.output_area.append_execute_result(NB_LOAD_WARNING)\n",
       "      }\n",
       "  \n",
       "    }\n",
       "  \n",
       "    if (window._bokeh_is_loading === 0) {\n",
       "      console.log(\"Bokeh: BokehJS loaded, going straight to plotting\");\n",
       "      run_inline_js();\n",
       "    } else {\n",
       "      load_libs(js_urls, function() {\n",
       "        console.log(\"Bokeh: BokehJS plotting callback run at\", now());\n",
       "        run_inline_js();\n",
       "      });\n",
       "    }\n",
       "  }(this));\n",
       "</script>"
      ]
     },
     "metadata": {},
     "output_type": "display_data"
    }
   ],
   "source": [
    "with open('scores/tw_t%d_f1s_test_svc.json' % n_topics) as f:    \n",
    "    f1s_combined = json.load(f)\n",
    "\n",
    "f1s_social = json.load(open('../_1_one_user_learn_neighbours/scores/f1s_testv_svc.json'))\n",
    "f1s_social = {u: f for u, f in f1s_social.items() if u in nlp_uids}\n",
    "\n",
    "sorted_uids = [u for u, f in sorted(f1s_social.items(), key=lambda x:x[1])]\n",
    "indices = range(len(sorted_uids))\n",
    "\n",
    "f1s_lda = np.array([f1s_combined[sorted_uids[i]] for i in indices])\n",
    "f1s_s = np.array([f1s_social[sorted_uids[i]] for i in indices])\n",
    "\n",
    "# build a dataset where multiple columns measure the same thing\n",
    "data = {\n",
    "    \"social\": f1s_s,\n",
    "    \"social+twlda%d\" % n_topics: f1s_lda\n",
    "}\n",
    "\n",
    "labels = ['social', 'social+twlda%d' % n_topics]\n",
    "\n",
    "# create a line chart where each column of measures receives a unique color and dash style\n",
    "line = Line(data, y=labels,\n",
    "            dash=labels,\n",
    "            color=labels,\n",
    "            legend_sort_field = 'color',\n",
    "            legend_sort_direction = 'descending',\n",
    "            xlabel='usuarios (ordenados por f1 del modelo social en datos de evaluación)',\n",
    "            ylabel='puntaje f1 sobre datos de evaluación', legend=True)\n",
    "\n",
    "show(line)"
   ]
  },
  {
   "cell_type": "code",
   "execution_count": 10,
   "metadata": {
    "collapsed": false
   },
   "outputs": [
    {
     "data": {
      "text/plain": [
       "9"
      ]
     },
     "execution_count": 10,
     "metadata": {},
     "output_type": "execute_result"
    }
   ],
   "source": [
    "sum(f1s_lda > f1s_s)"
   ]
  },
  {
   "cell_type": "code",
   "execution_count": 11,
   "metadata": {
    "collapsed": false
   },
   "outputs": [
    {
     "data": {
      "text/plain": [
       "0.7799568166454961"
      ]
     },
     "execution_count": 11,
     "metadata": {},
     "output_type": "execute_result"
    }
   ],
   "source": [
    "np.mean(f1s_lda)"
   ]
  },
  {
   "cell_type": "code",
   "execution_count": 12,
   "metadata": {
    "collapsed": false
   },
   "outputs": [
    {
     "data": {
      "text/plain": [
       "0.76463096629149319"
      ]
     },
     "execution_count": 12,
     "metadata": {},
     "output_type": "execute_result"
    }
   ],
   "source": [
    "np.mean(f1s_s)"
   ]
  },
  {
   "cell_type": "markdown",
   "metadata": {},
   "source": [
    "# Comparación en training set"
   ]
  },
  {
   "cell_type": "code",
   "execution_count": 13,
   "metadata": {
    "collapsed": false
   },
   "outputs": [
    {
     "data": {
      "text/html": [
       "\n",
       "\n",
       "    <div class=\"bk-root\">\n",
       "        <div class=\"bk-plotdiv\" id=\"7869c695-9c75-45a7-8346-49e0f454c1b7\"></div>\n",
       "    </div>\n",
       "<script type=\"text/javascript\">\n",
       "  \n",
       "  (function(global) {\n",
       "    function now() {\n",
       "      return new Date();\n",
       "    }\n",
       "  \n",
       "    var force = false;\n",
       "  \n",
       "    if (typeof (window._bokeh_onload_callbacks) === \"undefined\" || force === true) {\n",
       "      window._bokeh_onload_callbacks = [];\n",
       "      window._bokeh_is_loading = undefined;\n",
       "    }\n",
       "  \n",
       "  \n",
       "    \n",
       "    if (typeof (window._bokeh_timeout) === \"undefined\" || force === true) {\n",
       "      window._bokeh_timeout = Date.now() + 0;\n",
       "      window._bokeh_failed_load = false;\n",
       "    }\n",
       "  \n",
       "    var NB_LOAD_WARNING = {'data': {'text/html':\n",
       "       \"<div style='background-color: #fdd'>\\n\"+\n",
       "       \"<p>\\n\"+\n",
       "       \"BokehJS does not appear to have successfully loaded. If loading BokehJS from CDN, this \\n\"+\n",
       "       \"may be due to a slow or bad network connection. Possible fixes:\\n\"+\n",
       "       \"</p>\\n\"+\n",
       "       \"<ul>\\n\"+\n",
       "       \"<li>re-rerun `output_notebook()` to attempt to load from CDN again, or</li>\\n\"+\n",
       "       \"<li>use INLINE resources instead, as so:</li>\\n\"+\n",
       "       \"</ul>\\n\"+\n",
       "       \"<code>\\n\"+\n",
       "       \"from bokeh.resources import INLINE\\n\"+\n",
       "       \"output_notebook(resources=INLINE)\\n\"+\n",
       "       \"</code>\\n\"+\n",
       "       \"</div>\"}};\n",
       "  \n",
       "    function display_loaded() {\n",
       "      if (window.Bokeh !== undefined) {\n",
       "        var el = document.getElementById(\"7869c695-9c75-45a7-8346-49e0f454c1b7\");\n",
       "        el.textContent = \"BokehJS \" + Bokeh.version + \" successfully loaded.\";\n",
       "      } else if (Date.now() < window._bokeh_timeout) {\n",
       "        setTimeout(display_loaded, 100)\n",
       "      }\n",
       "    }\n",
       "  \n",
       "    function run_callbacks() {\n",
       "      window._bokeh_onload_callbacks.forEach(function(callback) { callback() });\n",
       "      delete window._bokeh_onload_callbacks\n",
       "      console.info(\"Bokeh: all callbacks have finished\");\n",
       "    }\n",
       "  \n",
       "    function load_libs(js_urls, callback) {\n",
       "      window._bokeh_onload_callbacks.push(callback);\n",
       "      if (window._bokeh_is_loading > 0) {\n",
       "        console.log(\"Bokeh: BokehJS is being loaded, scheduling callback at\", now());\n",
       "        return null;\n",
       "      }\n",
       "      if (js_urls == null || js_urls.length === 0) {\n",
       "        run_callbacks();\n",
       "        return null;\n",
       "      }\n",
       "      console.log(\"Bokeh: BokehJS not loaded, scheduling load and callback at\", now());\n",
       "      window._bokeh_is_loading = js_urls.length;\n",
       "      for (var i = 0; i < js_urls.length; i++) {\n",
       "        var url = js_urls[i];\n",
       "        var s = document.createElement('script');\n",
       "        s.src = url;\n",
       "        s.async = false;\n",
       "        s.onreadystatechange = s.onload = function() {\n",
       "          window._bokeh_is_loading--;\n",
       "          if (window._bokeh_is_loading === 0) {\n",
       "            console.log(\"Bokeh: all BokehJS libraries loaded\");\n",
       "            run_callbacks()\n",
       "          }\n",
       "        };\n",
       "        s.onerror = function() {\n",
       "          console.warn(\"failed to load library \" + url);\n",
       "        };\n",
       "        console.log(\"Bokeh: injecting script tag for BokehJS library: \", url);\n",
       "        document.getElementsByTagName(\"head\")[0].appendChild(s);\n",
       "      }\n",
       "    };var element = document.getElementById(\"7869c695-9c75-45a7-8346-49e0f454c1b7\");\n",
       "    if (element == null) {\n",
       "      console.log(\"Bokeh: ERROR: autoload.js configured with elementid '7869c695-9c75-45a7-8346-49e0f454c1b7' but no matching script tag was found. \")\n",
       "      return false;\n",
       "    }\n",
       "  \n",
       "    var js_urls = [];\n",
       "  \n",
       "    var inline_js = [\n",
       "      function(Bokeh) {\n",
       "        (function() {\n",
       "          var fn = function() {\n",
       "            var docs_json = {\"3d7936d5-8a24-4392-97c1-b9e272464883\":{\"roots\":{\"references\":[{\"attributes\":{},\"id\":\"ce56a522-4357-43f9-a8e8-342919445a96\",\"type\":\"BasicTicker\"},{\"attributes\":{\"dimension\":1,\"plot\":{\"id\":\"f8263a59-59bb-4575-b317-8a69a3bba009\",\"subtype\":\"Chart\",\"type\":\"Plot\"},\"ticker\":{\"id\":\"ce56a522-4357-43f9-a8e8-342919445a96\",\"type\":\"BasicTicker\"}},\"id\":\"1b302012-b7b1-4e60-9577-56ccbc57f57e\",\"type\":\"Grid\"},{\"attributes\":{\"line_color\":{\"value\":\"#f22c40\"},\"line_width\":{\"value\":2},\"x\":{\"field\":\"x_values\"},\"y\":{\"field\":\"y_values\"}},\"id\":\"b1474da0-d35d-4a25-b828-2094cd02f933\",\"type\":\"Line\"},{\"attributes\":{\"data_source\":{\"id\":\"26627d22-bbb3-4583-89ee-f1eacbc9041b\",\"type\":\"ColumnDataSource\"},\"glyph\":{\"id\":\"b1474da0-d35d-4a25-b828-2094cd02f933\",\"type\":\"Line\"},\"hover_glyph\":null,\"muted_glyph\":null},\"id\":\"f63ac7d5-a429-45e8-b190-c6399aa1835a\",\"type\":\"GlyphRenderer\"},{\"attributes\":{\"below\":[{\"id\":\"92211946-2bcd-4e23-a9f7-511034b38046\",\"type\":\"LinearAxis\"}],\"css_classes\":null,\"left\":[{\"id\":\"9c8b76a2-3dbf-44cd-bd65-bde109a43323\",\"type\":\"LinearAxis\"}],\"renderers\":[{\"id\":\"6b56cfa8-8815-48bd-a07d-436e6b3c98c8\",\"type\":\"BoxAnnotation\"},{\"id\":\"f63ac7d5-a429-45e8-b190-c6399aa1835a\",\"type\":\"GlyphRenderer\"},{\"id\":\"794e3dd5-c2d2-4a03-ad23-43d2c2a9df8f\",\"type\":\"GlyphRenderer\"},{\"id\":\"d4258c3b-104c-4ed1-99f4-02bb3754d807\",\"type\":\"Legend\"},{\"id\":\"92211946-2bcd-4e23-a9f7-511034b38046\",\"type\":\"LinearAxis\"},{\"id\":\"9c8b76a2-3dbf-44cd-bd65-bde109a43323\",\"type\":\"LinearAxis\"},{\"id\":\"1e8931d0-95fe-4219-96a9-a63d8f34cad0\",\"type\":\"Grid\"},{\"id\":\"1b302012-b7b1-4e60-9577-56ccbc57f57e\",\"type\":\"Grid\"}],\"title\":{\"id\":\"5ca2c617-73eb-451d-83ad-bf9c88c5ffa3\",\"type\":\"Title\"},\"tool_events\":{\"id\":\"e94f0f56-f837-4ecf-9370-68414c2c147e\",\"type\":\"ToolEvents\"},\"toolbar\":{\"id\":\"400187ac-97db-4d54-9078-8572f1f34eba\",\"type\":\"Toolbar\"},\"x_mapper_type\":\"auto\",\"x_range\":{\"id\":\"c8a47869-4a30-4362-935a-a9c77131eafc\",\"type\":\"Range1d\"},\"y_mapper_type\":\"auto\",\"y_range\":{\"id\":\"e34dd239-0626-495b-92b5-95983ac05a20\",\"type\":\"Range1d\"}},\"id\":\"f8263a59-59bb-4575-b317-8a69a3bba009\",\"subtype\":\"Chart\",\"type\":\"Plot\"},{\"attributes\":{\"callback\":null,\"column_names\":[\"x_values\",\"y_values\"],\"data\":{\"chart_index\":[{\"series\":\"social\"},{\"series\":\"social\"},{\"series\":\"social\"},{\"series\":\"social\"},{\"series\":\"social\"},{\"series\":\"social\"},{\"series\":\"social\"},{\"series\":\"social\"},{\"series\":\"social\"},{\"series\":\"social\"},{\"series\":\"social\"},{\"series\":\"social\"},{\"series\":\"social\"},{\"series\":\"social\"},{\"series\":\"social\"},{\"series\":\"social\"},{\"series\":\"social\"},{\"series\":\"social\"},{\"series\":\"social\"},{\"series\":\"social\"},{\"series\":\"social\"},{\"series\":\"social\"},{\"series\":\"social\"},{\"series\":\"social\"},{\"series\":\"social\"},{\"series\":\"social\"},{\"series\":\"social\"},{\"series\":\"social\"},{\"series\":\"social\"},{\"series\":\"social\"},{\"series\":\"social\"},{\"series\":\"social\"},{\"series\":\"social\"},{\"series\":\"social\"},{\"series\":\"social\"},{\"series\":\"social\"},{\"series\":\"social\"}],\"series\":[\"social\",\"social\",\"social\",\"social\",\"social\",\"social\",\"social\",\"social\",\"social\",\"social\",\"social\",\"social\",\"social\",\"social\",\"social\",\"social\",\"social\",\"social\",\"social\",\"social\",\"social\",\"social\",\"social\",\"social\",\"social\",\"social\",\"social\",\"social\",\"social\",\"social\",\"social\",\"social\",\"social\",\"social\",\"social\",\"social\",\"social\"],\"x_values\":[0,1,2,3,4,5,6,7,8,9,10,11,12,13,14,15,16,17,18,19,20,21,22,23,24,25,26,27,28,29,30,31,32,33,34,35,36],\"y_values\":{\"__ndarray__\":\"MIyl0bABtD8UvS4UvS7kP72JetrcfeU/h7VvWPuG5T+yEdmIbETmPwnUjXjmg+Y/CtejcD0K5z8Qab2AbU7nP/IsI/qA6ug/gr1jamDv6D/yyCOPPPLoP02Rz7rBFOk/u2sCpKcd6T+PJ7OyrXbpP0kaAqT4wek/9+WxFUHD6T+OCOyDIQfqP5MkSZIkSeo/pze96U1v6j8JxlvZ55DqP3bTshJZmuo/K7tqosqu6j+YlUaPqCDrP04b6LSBTus/mpmZmZmZ6z/PusEU+azrP7u7u7u7u+s//ZDA2w8J7D/PeOERJSHsP1AglZyXRew/rKXAFs9w7D/k54pZjvzsPwAAAAAAAO4/dOUByTpX7j8qkDxt+r7uP///////T+8/J3ZiJ3Zi7z8=\",\"dtype\":\"float64\",\"shape\":[37]}}},\"id\":\"26627d22-bbb3-4583-89ee-f1eacbc9041b\",\"type\":\"ColumnDataSource\"},{\"attributes\":{\"line_color\":{\"value\":\"#5ab738\"},\"line_dash\":[6],\"line_width\":{\"value\":2},\"x\":{\"field\":\"x_values\"},\"y\":{\"field\":\"y_values\"}},\"id\":\"058bcfe0-c9e9-4b40-8183-e008d30c1064\",\"type\":\"Line\"},{\"attributes\":{},\"id\":\"63be1e31-e096-4a45-a189-2b4e235c019d\",\"type\":\"BasicTickFormatter\"},{\"attributes\":{\"plot\":{\"id\":\"f8263a59-59bb-4575-b317-8a69a3bba009\",\"subtype\":\"Chart\",\"type\":\"Plot\"}},\"id\":\"5ca6ffed-fce0-42a0-b64f-00a004f8710e\",\"type\":\"SaveTool\"},{\"attributes\":{\"data_source\":{\"id\":\"c327b2d9-541d-4953-bc28-9c5b8d0fa996\",\"type\":\"ColumnDataSource\"},\"glyph\":{\"id\":\"058bcfe0-c9e9-4b40-8183-e008d30c1064\",\"type\":\"Line\"},\"hover_glyph\":null,\"muted_glyph\":null},\"id\":\"794e3dd5-c2d2-4a03-ad23-43d2c2a9df8f\",\"type\":\"GlyphRenderer\"},{\"attributes\":{\"items\":[{\"id\":\"7b473181-985e-4b1f-abe2-e6577b647011\",\"type\":\"LegendItem\"},{\"id\":\"720881a5-72cb-4a88-887d-e5509a639af9\",\"type\":\"LegendItem\"}],\"location\":\"top_left\",\"plot\":{\"id\":\"f8263a59-59bb-4575-b317-8a69a3bba009\",\"subtype\":\"Chart\",\"type\":\"Plot\"}},\"id\":\"d4258c3b-104c-4ed1-99f4-02bb3754d807\",\"type\":\"Legend\"},{\"attributes\":{\"plot\":{\"id\":\"f8263a59-59bb-4575-b317-8a69a3bba009\",\"subtype\":\"Chart\",\"type\":\"Plot\"}},\"id\":\"de72dc62-6786-4c38-a0e4-b6e4f302fb7e\",\"type\":\"PanTool\"},{\"attributes\":{\"plot\":{\"id\":\"f8263a59-59bb-4575-b317-8a69a3bba009\",\"subtype\":\"Chart\",\"type\":\"Plot\"},\"ticker\":{\"id\":\"0942cafa-a6b3-43cb-a56f-b9798c16d666\",\"type\":\"BasicTicker\"}},\"id\":\"1e8931d0-95fe-4219-96a9-a63d8f34cad0\",\"type\":\"Grid\"},{\"attributes\":{\"plot\":null,\"text\":null},\"id\":\"5ca2c617-73eb-451d-83ad-bf9c88c5ffa3\",\"type\":\"Title\"},{\"attributes\":{\"label\":{\"value\":\"social+twlda20\"},\"renderers\":[{\"id\":\"794e3dd5-c2d2-4a03-ad23-43d2c2a9df8f\",\"type\":\"GlyphRenderer\"}]},\"id\":\"7b473181-985e-4b1f-abe2-e6577b647011\",\"type\":\"LegendItem\"},{\"attributes\":{\"callback\":null,\"column_names\":[\"x_values\",\"y_values\"],\"data\":{\"chart_index\":[{\"series\":\"social+twlda20\"},{\"series\":\"social+twlda20\"},{\"series\":\"social+twlda20\"},{\"series\":\"social+twlda20\"},{\"series\":\"social+twlda20\"},{\"series\":\"social+twlda20\"},{\"series\":\"social+twlda20\"},{\"series\":\"social+twlda20\"},{\"series\":\"social+twlda20\"},{\"series\":\"social+twlda20\"},{\"series\":\"social+twlda20\"},{\"series\":\"social+twlda20\"},{\"series\":\"social+twlda20\"},{\"series\":\"social+twlda20\"},{\"series\":\"social+twlda20\"},{\"series\":\"social+twlda20\"},{\"series\":\"social+twlda20\"},{\"series\":\"social+twlda20\"},{\"series\":\"social+twlda20\"},{\"series\":\"social+twlda20\"},{\"series\":\"social+twlda20\"},{\"series\":\"social+twlda20\"},{\"series\":\"social+twlda20\"},{\"series\":\"social+twlda20\"},{\"series\":\"social+twlda20\"},{\"series\":\"social+twlda20\"},{\"series\":\"social+twlda20\"},{\"series\":\"social+twlda20\"},{\"series\":\"social+twlda20\"},{\"series\":\"social+twlda20\"},{\"series\":\"social+twlda20\"},{\"series\":\"social+twlda20\"},{\"series\":\"social+twlda20\"},{\"series\":\"social+twlda20\"},{\"series\":\"social+twlda20\"},{\"series\":\"social+twlda20\"},{\"series\":\"social+twlda20\"}],\"series\":[\"social+twlda20\",\"social+twlda20\",\"social+twlda20\",\"social+twlda20\",\"social+twlda20\",\"social+twlda20\",\"social+twlda20\",\"social+twlda20\",\"social+twlda20\",\"social+twlda20\",\"social+twlda20\",\"social+twlda20\",\"social+twlda20\",\"social+twlda20\",\"social+twlda20\",\"social+twlda20\",\"social+twlda20\",\"social+twlda20\",\"social+twlda20\",\"social+twlda20\",\"social+twlda20\",\"social+twlda20\",\"social+twlda20\",\"social+twlda20\",\"social+twlda20\",\"social+twlda20\",\"social+twlda20\",\"social+twlda20\",\"social+twlda20\",\"social+twlda20\",\"social+twlda20\",\"social+twlda20\",\"social+twlda20\",\"social+twlda20\",\"social+twlda20\",\"social+twlda20\",\"social+twlda20\"],\"x_values\":[0,1,2,3,4,5,6,7,8,9,10,11,12,13,14,15,16,17,18,19,20,21,22,23,24,25,26,27,28,29,30,31,32,33,34,35,36],\"y_values\":{\"__ndarray__\":\"9q4DujFP7z8UvS4UvS7kPx5jjXPKMeY/h7VvWPuG5T8b4ltEXbvnPwnUjXjmg+Y/jfWhsT405j95EpmG7WbpP/IsI/qA6ug/fB2WcFR/7z/yyCOPPPLoP02Rz7rBFOk/u2sCpKcd6T8nVxCTK4jpP62C2gxM1+k/OoMVOoMV6j+OCOyDIQfqP/6c7fgQpOw/u1meRKZh6z/ZkkNcZQroP75er9fr9eo/K7tqosqu6j+cCOSaCOTqP07sxE7sxO4/3HKmw1H04z/PusEU+azrP7u7u7u7u+s/n0AqOS+L6D8gP378+PHrP1AglZyXRew/cvfvoU/16z/iG1Fg0qnpPwAAAAAAAO4/pehhb1SK7j8qkDxt+r7uP+MNeUPekO8/J3ZiJ3Zi7z8=\",\"dtype\":\"float64\",\"shape\":[37]}}},\"id\":\"c327b2d9-541d-4953-bc28-9c5b8d0fa996\",\"type\":\"ColumnDataSource\"},{\"attributes\":{\"axis_label\":\"puntaje f1 sobre datos de evaluaci\\u00f3n\",\"formatter\":{\"id\":\"1a3cead6-75cb-4a34-996e-b0e4afd706e2\",\"type\":\"BasicTickFormatter\"},\"plot\":{\"id\":\"f8263a59-59bb-4575-b317-8a69a3bba009\",\"subtype\":\"Chart\",\"type\":\"Plot\"},\"ticker\":{\"id\":\"ce56a522-4357-43f9-a8e8-342919445a96\",\"type\":\"BasicTicker\"}},\"id\":\"9c8b76a2-3dbf-44cd-bd65-bde109a43323\",\"type\":\"LinearAxis\"},{\"attributes\":{\"plot\":{\"id\":\"f8263a59-59bb-4575-b317-8a69a3bba009\",\"subtype\":\"Chart\",\"type\":\"Plot\"}},\"id\":\"1e9b9681-0010-4380-bef0-205f87075bfd\",\"type\":\"ResetTool\"},{\"attributes\":{\"bottom_units\":\"screen\",\"fill_alpha\":{\"value\":0.5},\"fill_color\":{\"value\":\"lightgrey\"},\"left_units\":\"screen\",\"level\":\"overlay\",\"line_alpha\":{\"value\":1.0},\"line_color\":{\"value\":\"black\"},\"line_dash\":[4,4],\"line_width\":{\"value\":2},\"plot\":null,\"render_mode\":\"css\",\"right_units\":\"screen\",\"top_units\":\"screen\"},\"id\":\"6b56cfa8-8815-48bd-a07d-436e6b3c98c8\",\"type\":\"BoxAnnotation\"},{\"attributes\":{\"callback\":null,\"end\":1.0772624395779735,\"start\":-0.01267753303212979},\"id\":\"e34dd239-0626-495b-92b5-95983ac05a20\",\"type\":\"Range1d\"},{\"attributes\":{\"label\":{\"value\":\"social\"},\"renderers\":[{\"id\":\"f63ac7d5-a429-45e8-b190-c6399aa1835a\",\"type\":\"GlyphRenderer\"}]},\"id\":\"720881a5-72cb-4a88-887d-e5509a639af9\",\"type\":\"LegendItem\"},{\"attributes\":{\"active_drag\":\"auto\",\"active_scroll\":\"auto\",\"active_tap\":\"auto\",\"tools\":[{\"id\":\"de72dc62-6786-4c38-a0e4-b6e4f302fb7e\",\"type\":\"PanTool\"},{\"id\":\"43150c25-aae3-4b5d-9dca-2cef2447defd\",\"type\":\"WheelZoomTool\"},{\"id\":\"bad61dda-ee76-4ab6-a18a-e0de8b292d04\",\"type\":\"BoxZoomTool\"},{\"id\":\"5ca6ffed-fce0-42a0-b64f-00a004f8710e\",\"type\":\"SaveTool\"},{\"id\":\"1e9b9681-0010-4380-bef0-205f87075bfd\",\"type\":\"ResetTool\"},{\"id\":\"6839e204-e6ef-424f-98ba-7eea817c539b\",\"type\":\"HelpTool\"}]},\"id\":\"400187ac-97db-4d54-9078-8572f1f34eba\",\"type\":\"Toolbar\"},{\"attributes\":{\"plot\":{\"id\":\"f8263a59-59bb-4575-b317-8a69a3bba009\",\"subtype\":\"Chart\",\"type\":\"Plot\"}},\"id\":\"43150c25-aae3-4b5d-9dca-2cef2447defd\",\"type\":\"WheelZoomTool\"},{\"attributes\":{},\"id\":\"1a3cead6-75cb-4a34-996e-b0e4afd706e2\",\"type\":\"BasicTickFormatter\"},{\"attributes\":{\"plot\":{\"id\":\"f8263a59-59bb-4575-b317-8a69a3bba009\",\"subtype\":\"Chart\",\"type\":\"Plot\"}},\"id\":\"6839e204-e6ef-424f-98ba-7eea817c539b\",\"type\":\"HelpTool\"},{\"attributes\":{},\"id\":\"e94f0f56-f837-4ecf-9370-68414c2c147e\",\"type\":\"ToolEvents\"},{\"attributes\":{\"axis_label\":\"usuarios (ordenados por f1 del modelo social en datos de evaluaci\\u00f3n)\",\"formatter\":{\"id\":\"63be1e31-e096-4a45-a189-2b4e235c019d\",\"type\":\"BasicTickFormatter\"},\"plot\":{\"id\":\"f8263a59-59bb-4575-b317-8a69a3bba009\",\"subtype\":\"Chart\",\"type\":\"Plot\"},\"ticker\":{\"id\":\"0942cafa-a6b3-43cb-a56f-b9798c16d666\",\"type\":\"BasicTicker\"}},\"id\":\"92211946-2bcd-4e23-a9f7-511034b38046\",\"type\":\"LinearAxis\"},{\"attributes\":{\"callback\":null,\"end\":39.6,\"start\":-3.6},\"id\":\"c8a47869-4a30-4362-935a-a9c77131eafc\",\"type\":\"Range1d\"},{\"attributes\":{\"overlay\":{\"id\":\"6b56cfa8-8815-48bd-a07d-436e6b3c98c8\",\"type\":\"BoxAnnotation\"},\"plot\":{\"id\":\"f8263a59-59bb-4575-b317-8a69a3bba009\",\"subtype\":\"Chart\",\"type\":\"Plot\"}},\"id\":\"bad61dda-ee76-4ab6-a18a-e0de8b292d04\",\"type\":\"BoxZoomTool\"},{\"attributes\":{},\"id\":\"0942cafa-a6b3-43cb-a56f-b9798c16d666\",\"type\":\"BasicTicker\"}],\"root_ids\":[\"f8263a59-59bb-4575-b317-8a69a3bba009\"]},\"title\":\"Bokeh Application\",\"version\":\"0.12.5\"}};\n",
       "            var render_items = [{\"docid\":\"3d7936d5-8a24-4392-97c1-b9e272464883\",\"elementid\":\"7869c695-9c75-45a7-8346-49e0f454c1b7\",\"modelid\":\"f8263a59-59bb-4575-b317-8a69a3bba009\"}];\n",
       "            \n",
       "            Bokeh.embed.embed_items(docs_json, render_items);\n",
       "          };\n",
       "          if (document.readyState != \"loading\") fn();\n",
       "          else document.addEventListener(\"DOMContentLoaded\", fn);\n",
       "        })();\n",
       "      },\n",
       "      function(Bokeh) {\n",
       "      }\n",
       "    ];\n",
       "  \n",
       "    function run_inline_js() {\n",
       "      \n",
       "      if ((window.Bokeh !== undefined) || (force === true)) {\n",
       "        for (var i = 0; i < inline_js.length; i++) {\n",
       "          inline_js[i](window.Bokeh);\n",
       "        }if (force === true) {\n",
       "          display_loaded();\n",
       "        }} else if (Date.now() < window._bokeh_timeout) {\n",
       "        setTimeout(run_inline_js, 100);\n",
       "      } else if (!window._bokeh_failed_load) {\n",
       "        console.log(\"Bokeh: BokehJS failed to load within specified timeout.\");\n",
       "        window._bokeh_failed_load = true;\n",
       "      } else if (force !== true) {\n",
       "        var cell = $(document.getElementById(\"7869c695-9c75-45a7-8346-49e0f454c1b7\")).parents('.cell').data().cell;\n",
       "        cell.output_area.append_execute_result(NB_LOAD_WARNING)\n",
       "      }\n",
       "  \n",
       "    }\n",
       "  \n",
       "    if (window._bokeh_is_loading === 0) {\n",
       "      console.log(\"Bokeh: BokehJS loaded, going straight to plotting\");\n",
       "      run_inline_js();\n",
       "    } else {\n",
       "      load_libs(js_urls, function() {\n",
       "        console.log(\"Bokeh: BokehJS plotting callback run at\", now());\n",
       "        run_inline_js();\n",
       "      });\n",
       "    }\n",
       "  }(this));\n",
       "</script>"
      ]
     },
     "metadata": {},
     "output_type": "display_data"
    }
   ],
   "source": [
    "with open('scores/tw_t%d_f1s_train_svc.json' % n_topics) as f:        \n",
    "    f1s_combined = json.load(f)\n",
    "\n",
    "f1s_social = json.load(open('../_1_one_user_learn_neighbours/scores/f1s_train_svc.json'))\n",
    "f1s_social = {u: f for u, f in f1s_social.items() if u in nlp_uids}\n",
    "\n",
    "sorted_uids = [u for u, f in sorted(f1s_social.items(), key=lambda x:x[1])]\n",
    "indices = range(len(sorted_uids))\n",
    "\n",
    "f1s_lda = np.array([f1s_combined[sorted_uids[i]] for i in indices])\n",
    "f1s_s = np.array([f1s_social[sorted_uids[i]] for i in indices])\n",
    "\n",
    "# build a dataset where multiple columns measure the same thing\n",
    "data = {\n",
    "    \"social\": f1s_s,\n",
    "    \"social+twlda%d\" % n_topics: f1s_lda\n",
    "}\n",
    "\n",
    "labels = ['social', 'social+twlda%d' % n_topics]\n",
    "\n",
    "# create a line chart where each column of measures receives a unique color and dash style\n",
    "line = Line(data, y=labels,\n",
    "            dash=labels,\n",
    "            color=labels,\n",
    "            legend_sort_field = 'color',\n",
    "            legend_sort_direction = 'descending',\n",
    "            xlabel='usuarios (ordenados por f1 del modelo social en datos de evaluación)',\n",
    "            ylabel='puntaje f1 sobre datos de evaluación', legend=True)\n",
    "\n",
    "show(line)"
   ]
  },
  {
   "cell_type": "code",
   "execution_count": 14,
   "metadata": {
    "collapsed": false
   },
   "outputs": [
    {
     "data": {
      "text/plain": [
       "14"
      ]
     },
     "execution_count": 14,
     "metadata": {},
     "output_type": "execute_result"
    }
   ],
   "source": [
    "sum(f1s_lda > f1s_s)"
   ]
  },
  {
   "cell_type": "code",
   "execution_count": 15,
   "metadata": {
    "collapsed": false
   },
   "outputs": [
    {
     "data": {
      "text/plain": [
       "0.82724431980807889"
      ]
     },
     "execution_count": 15,
     "metadata": {},
     "output_type": "execute_result"
    }
   ],
   "source": [
    "np.mean(f1s_lda)"
   ]
  },
  {
   "cell_type": "code",
   "execution_count": 16,
   "metadata": {
    "collapsed": false
   },
   "outputs": [
    {
     "data": {
      "text/plain": [
       "0.80278764744705877"
      ]
     },
     "execution_count": 16,
     "metadata": {},
     "output_type": "execute_result"
    }
   ],
   "source": [
    "np.mean(f1s_s)"
   ]
  }
 ],
 "metadata": {
  "kernelspec": {
   "display_name": "Python 2",
   "language": "python",
   "name": "python2"
  },
  "language_info": {
   "codemirror_mode": {
    "name": "ipython",
    "version": 2
   },
   "file_extension": ".py",
   "mimetype": "text/x-python",
   "name": "python",
   "nbconvert_exporter": "python",
   "pygments_lexer": "ipython2",
   "version": "2.7.11+"
  }
 },
 "nbformat": 4,
 "nbformat_minor": 2
}
