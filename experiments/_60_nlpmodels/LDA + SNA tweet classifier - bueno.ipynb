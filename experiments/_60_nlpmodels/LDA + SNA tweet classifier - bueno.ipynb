{
 "cells": [
  {
   "cell_type": "code",
   "execution_count": 144,
   "metadata": {
    "collapsed": false,
    "deletable": true,
    "editable": true
   },
   "outputs": [],
   "source": [
    "from create_lda_datasets import *\n",
    "import scipy.sparse as sp\n",
    "from classifiers import *"
   ]
  },
  {
   "cell_type": "code",
   "execution_count": 50,
   "metadata": {
    "collapsed": true
   },
   "outputs": [],
   "source": [
    "def evaluate_model(clf, X_train, X_test, y_train, y_test):\n",
    "    y_true, y_pred = y_train, clf.predict(X_train)\n",
    "\n",
    "    print(\"Detailed classification report:\\n\")\n",
    "    print(\"Scores on training set.\\n\")\n",
    "    print(classification_report(y_true, y_pred))\n",
    "\n",
    "    y_true, y_pred = y_test, clf.predict(X_test)\n",
    "    print(\"Scores on test set.\\n\")\n",
    "    print(classification_report(y_true, y_pred))"
   ]
  },
  {
   "cell_type": "code",
   "execution_count": 119,
   "metadata": {
    "collapsed": false
   },
   "outputs": [],
   "source": [
    "u = 37226353"
   ]
  },
  {
   "cell_type": "code",
   "execution_count": 120,
   "metadata": {
    "collapsed": true,
    "deletable": true,
    "editable": true
   },
   "outputs": [],
   "source": [
    "X_train, X_valid, X_test, y_train, y_valid, y_test = load_small_validation_dataframe(u)"
   ]
  },
  {
   "cell_type": "code",
   "execution_count": 121,
   "metadata": {
    "collapsed": false,
    "deletable": true,
    "editable": true
   },
   "outputs": [],
   "source": [
    "X_train_lda, X_valid_lda, X_test_lda, y_train, y_valid, y_test = load_lda_dataset(u)"
   ]
  },
  {
   "cell_type": "code",
   "execution_count": 122,
   "metadata": {
    "collapsed": false,
    "deletable": true,
    "editable": true
   },
   "outputs": [],
   "source": [
    "X_train_combined = sp.hstack((X_train, X_train_lda))\n",
    "X_valid_combined = sp.hstack((X_valid, X_valid_lda))\n",
    "X_test_combined = sp.hstack((X_test, X_test_lda))"
   ]
  },
  {
   "cell_type": "code",
   "execution_count": 123,
   "metadata": {
    "collapsed": false
   },
   "outputs": [
    {
     "data": {
      "text/plain": [
       "<3500x488 sparse matrix of type '<type 'numpy.float64'>'\n",
       "\twith 27449 stored elements in Compressed Sparse Column format>"
      ]
     },
     "execution_count": 123,
     "metadata": {},
     "output_type": "execute_result"
    }
   ],
   "source": [
    "X_train_lda"
   ]
  },
  {
   "cell_type": "code",
   "execution_count": 124,
   "metadata": {
    "collapsed": false
   },
   "outputs": [
    {
     "data": {
      "text/plain": [
       "<500x488 sparse matrix of type '<type 'numpy.float64'>'\n",
       "\twith 4189 stored elements in Compressed Sparse Column format>"
      ]
     },
     "execution_count": 124,
     "metadata": {},
     "output_type": "execute_result"
    }
   ],
   "source": [
    "X_valid_lda"
   ]
  },
  {
   "cell_type": "code",
   "execution_count": 130,
   "metadata": {
    "collapsed": true
   },
   "outputs": [],
   "source": [
    "w1 = sum(y_train)/len(y_train)\n",
    "w0 = 1 - w1\n",
    "sample_weights = np.array([w0 if x==0 else w1 for x in y_train])"
   ]
  },
  {
   "cell_type": "code",
   "execution_count": 126,
   "metadata": {
    "collapsed": true
   },
   "outputs": [],
   "source": [
    "ds_comb = (X_train_combined, X_valid_combined, y_train, y_valid)"
   ]
  },
  {
   "cell_type": "code",
   "execution_count": 127,
   "metadata": {
    "collapsed": true
   },
   "outputs": [],
   "source": [
    "ds_sna = (X_train, X_valid, y_train, y_valid)"
   ]
  },
  {
   "cell_type": "code",
   "execution_count": 145,
   "metadata": {
    "collapsed": false,
    "deletable": true,
    "editable": true
   },
   "outputs": [
    {
     "name": "stdout",
     "output_type": "stream",
     "text": [
      "# Tuning hyper-parameters for f1\n",
      "\n",
      "Best parameters set found on training set:\n",
      "\n",
      "{'max_features': 'auto', 'n_estimators': 100, 'min_samples_leaf': 1, 'max_depth': None, 'class_weight': 'balanced_subsample'}\n",
      "Detailed classification report:\n",
      "\n",
      "Scores on training set.\n",
      "             precision    recall  f1-score   support\n",
      "\n",
      "        0.0       0.99      0.97      0.98      2245\n",
      "        1.0       0.94      0.98      0.96      1255\n",
      "\n",
      "avg / total       0.97      0.97      0.97      3500\n",
      "\n",
      "\n",
      "Scores on test set.\n",
      "\n",
      "             precision    recall  f1-score   support\n",
      "\n",
      "        0.0       0.97      0.90      0.93       320\n",
      "        1.0       0.84      0.94      0.89       180\n",
      "\n",
      "avg / total       0.92      0.92      0.92       500\n",
      "\n",
      "\n"
     ]
    }
   ],
   "source": [
    "clf_sna = model_select_rdf((X_train, X_valid, y_train, y_valid))"
   ]
  },
  {
   "cell_type": "code",
   "execution_count": 142,
   "metadata": {
    "collapsed": false
   },
   "outputs": [
    {
     "name": "stdout",
     "output_type": "stream",
     "text": [
      "# Tuning hyper-parameters for f1\n",
      "\n",
      "Best parameters set found on training set:\n",
      "\n",
      "{'penalty': 'l2', 'alpha': 0.001, 'n_iter': 10, 'loss': 'hinge'}\n",
      "Detailed classification report:\n",
      "\n",
      "Scores on training set.\n",
      "             precision    recall  f1-score   support\n",
      "\n",
      "        0.0       0.98      0.96      0.97      2245\n",
      "        1.0       0.93      0.96      0.95      1255\n",
      "\n",
      "avg / total       0.96      0.96      0.96      3500\n",
      "\n",
      "\n",
      "Scores on test set.\n",
      "\n",
      "             precision    recall  f1-score   support\n",
      "\n",
      "        0.0       0.95      0.89      0.92       320\n",
      "        1.0       0.83      0.92      0.87       180\n",
      "\n",
      "avg / total       0.91      0.90      0.90       500\n",
      "\n",
      "\n"
     ]
    }
   ],
   "source": [
    "clf_sna2 = model_select_sgd((X_train, X_valid, y_train, y_valid))"
   ]
  },
  {
   "cell_type": "code",
   "execution_count": 143,
   "metadata": {
    "collapsed": false
   },
   "outputs": [
    {
     "name": "stdout",
     "output_type": "stream",
     "text": [
      "# Tuning hyper-parameters for f1\n",
      "\n",
      "Best parameters set found on training set:\n",
      "\n",
      "{'kernel': 'rbf', 'C': 1, 'gamma': 10}\n",
      "Detailed classification report:\n",
      "\n",
      "Scores on training set.\n",
      "             precision    recall  f1-score   support\n",
      "\n",
      "        0.0       0.99      0.97      0.98      2245\n",
      "        1.0       0.95      0.98      0.96      1255\n",
      "\n",
      "avg / total       0.97      0.97      0.97      3500\n",
      "\n",
      "\n",
      "Scores on test set.\n",
      "\n",
      "             precision    recall  f1-score   support\n",
      "\n",
      "        0.0       0.93      0.95      0.94       320\n",
      "        1.0       0.91      0.88      0.89       180\n",
      "\n",
      "avg / total       0.92      0.92      0.92       500\n",
      "\n",
      "\n"
     ]
    }
   ],
   "source": [
    "clf_sna3 = model_select_svc((X_train, X_valid, y_train, y_valid))"
   ]
  },
  {
   "cell_type": "code",
   "execution_count": 137,
   "metadata": {
    "collapsed": false
   },
   "outputs": [
    {
     "name": "stdout",
     "output_type": "stream",
     "text": [
      "# Tuning hyper-parameters for f1\n",
      "\n",
      "Best parameters set found on training set:\n",
      "\n",
      "{'max_features': None, 'n_estimators': 100, 'min_samples_leaf': 1, 'max_depth': None, 'class_weight': 'balanced_subsample'}\n",
      "Detailed classification report:\n",
      "\n",
      "Scores on training set.\n",
      "             precision    recall  f1-score   support\n",
      "\n",
      "        0.0       1.00      1.00      1.00      2245\n",
      "        1.0       1.00      1.00      1.00      1255\n",
      "\n",
      "avg / total       1.00      1.00      1.00      3500\n",
      "\n",
      "\n",
      "Scores on test set.\n",
      "\n",
      "             precision    recall  f1-score   support\n",
      "\n",
      "        0.0       0.94      0.89      0.91       320\n",
      "        1.0       0.82      0.89      0.85       180\n",
      "\n",
      "avg / total       0.89      0.89      0.89       500\n",
      "\n",
      "\n"
     ]
    }
   ],
   "source": [
    "clf_comb = model_select_rdf((X_train_combined, X_valid_combined, y_train, y_valid))"
   ]
  },
  {
   "cell_type": "code",
   "execution_count": 139,
   "metadata": {
    "collapsed": false
   },
   "outputs": [
    {
     "name": "stdout",
     "output_type": "stream",
     "text": [
      "# Tuning hyper-parameters for f1\n",
      "\n",
      "Best parameters set found on training set:\n",
      "\n",
      "{'penalty': 'l2', 'alpha': 0.001, 'n_iter': 10, 'loss': 'hinge'}\n",
      "Detailed classification report:\n",
      "\n",
      "Scores on training set.\n",
      "             precision    recall  f1-score   support\n",
      "\n",
      "        0.0       0.98      0.96      0.97      2245\n",
      "        1.0       0.93      0.97      0.95      1255\n",
      "\n",
      "avg / total       0.96      0.96      0.96      3500\n",
      "\n",
      "\n",
      "Scores on test set.\n",
      "\n",
      "             precision    recall  f1-score   support\n",
      "\n",
      "        0.0       0.96      0.89      0.92       320\n",
      "        1.0       0.83      0.93      0.87       180\n",
      "\n",
      "avg / total       0.91      0.90      0.91       500\n",
      "\n",
      "\n"
     ]
    }
   ],
   "source": [
    "clf_comb2 = model_select_sgd((X_train_combined, X_valid_combined, y_train, y_valid))"
   ]
  },
  {
   "cell_type": "code",
   "execution_count": 140,
   "metadata": {
    "collapsed": false
   },
   "outputs": [
    {
     "name": "stdout",
     "output_type": "stream",
     "text": [
      "# Tuning hyper-parameters for f1\n",
      "\n",
      "Best parameters set found on training set:\n",
      "\n",
      "{'kernel': 'rbf', 'C': 1, 'gamma': 10}\n",
      "Detailed classification report:\n",
      "\n",
      "Scores on training set.\n",
      "             precision    recall  f1-score   support\n",
      "\n",
      "        0.0       0.99      0.97      0.98      2245\n",
      "        1.0       0.95      0.98      0.96      1255\n",
      "\n",
      "avg / total       0.97      0.97      0.97      3500\n",
      "\n",
      "\n",
      "Scores on test set.\n",
      "\n",
      "             precision    recall  f1-score   support\n",
      "\n",
      "        0.0       0.93      0.95      0.94       320\n",
      "        1.0       0.91      0.88      0.89       180\n",
      "\n",
      "avg / total       0.92      0.92      0.92       500\n",
      "\n",
      "\n"
     ]
    }
   ],
   "source": [
    "clf_comb3 = model_select_svc((X_train_combined, X_valid_combined, y_train, y_valid))"
   ]
  },
  {
   "cell_type": "markdown",
   "metadata": {},
   "source": [
    "# ⬆ Overfitting again!!!! :/"
   ]
  },
  {
   "cell_type": "code",
   "execution_count": null,
   "metadata": {
    "collapsed": true
   },
   "outputs": [],
   "source": []
  }
 ],
 "metadata": {
  "kernelspec": {
   "display_name": "Python 2",
   "language": "python",
   "name": "python2"
  },
  "language_info": {
   "codemirror_mode": {
    "name": "ipython",
    "version": 2
   },
   "file_extension": ".py",
   "mimetype": "text/x-python",
   "name": "python",
   "nbconvert_exporter": "python",
   "pygments_lexer": "ipython2",
   "version": "2.7.11+"
  }
 },
 "nbformat": 4,
 "nbformat_minor": 0
}
