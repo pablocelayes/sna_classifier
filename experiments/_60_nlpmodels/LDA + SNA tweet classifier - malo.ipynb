{
 "cells": [
  {
   "cell_type": "code",
   "execution_count": 19,
   "metadata": {
    "collapsed": false,
    "deletable": true,
    "editable": true
   },
   "outputs": [],
   "source": [
    "from create_lda_datasets import *\n",
    "import scipy.sparse as sp\n",
    "from classifiers import *"
   ]
  },
  {
   "cell_type": "code",
   "execution_count": 4,
   "metadata": {
    "collapsed": true,
    "deletable": true,
    "editable": true
   },
   "outputs": [],
   "source": [
    "def evaluate_model(clf, X_train, X_test, y_train, y_test):\n",
    "    y_true, y_pred = y_train, clf.predict(X_train)\n",
    "\n",
    "    print(\"Detailed classification report:\\n\")\n",
    "    print(\"Scores on training set.\\n\")\n",
    "    print(classification_report(y_true, y_pred))\n",
    "\n",
    "    y_true, y_pred = y_test, clf.predict(X_test)\n",
    "    print(\"Scores on test set.\\n\")\n",
    "    print(classification_report(y_true, y_pred))"
   ]
  },
  {
   "cell_type": "code",
   "execution_count": 5,
   "metadata": {
    "collapsed": false,
    "deletable": true,
    "editable": true
   },
   "outputs": [],
   "source": [
    "u = 83119297"
   ]
  },
  {
   "cell_type": "code",
   "execution_count": 6,
   "metadata": {
    "collapsed": false,
    "deletable": true,
    "editable": true
   },
   "outputs": [],
   "source": [
    "X_train, X_valid, X_test, y_train, y_valid, y_test = load_small_validation_dataframe(u)\n",
    "\n",
    "X_train_lda, X_valid_lda, X_test_lda, y_train, y_valid, y_test = load_lda_dataset(u)\n",
    "\n",
    "X_train_combined = sp.hstack((X_train, X_train_lda))\n",
    "X_valid_combined = sp.hstack((X_valid, X_valid_lda))\n",
    "X_test_combined = sp.hstack((X_test, X_test_lda))"
   ]
  },
  {
   "cell_type": "code",
   "execution_count": 9,
   "metadata": {
    "collapsed": true,
    "deletable": true,
    "editable": true
   },
   "outputs": [],
   "source": [
    "w1 = sum(y_train)/len(y_train)\n",
    "w0 = 1 - w1\n",
    "sample_weights = np.array([w0 if x==0 else w1 for x in y_train])"
   ]
  },
  {
   "cell_type": "code",
   "execution_count": 10,
   "metadata": {
    "collapsed": true,
    "deletable": true,
    "editable": true
   },
   "outputs": [],
   "source": [
    "ds_comb = (X_train_combined, X_valid_combined, y_train, y_valid)"
   ]
  },
  {
   "cell_type": "code",
   "execution_count": 11,
   "metadata": {
    "collapsed": true,
    "deletable": true,
    "editable": true
   },
   "outputs": [],
   "source": [
    "ds_sna = (X_train, X_valid, y_train, y_valid)"
   ]
  },
  {
   "cell_type": "code",
   "execution_count": 12,
   "metadata": {
    "collapsed": false,
    "deletable": true,
    "editable": true
   },
   "outputs": [
    {
     "name": "stdout",
     "output_type": "stream",
     "text": [
      "# Tuning hyper-parameters for f1\n",
      "\n",
      "Best parameters set found on training set:\n",
      "\n",
      "{'max_features': None, 'n_estimators': 100, 'min_samples_leaf': 1, 'max_depth': None, 'class_weight': 'balanced_subsample'}\n",
      "Detailed classification report:\n",
      "\n",
      "Scores on training set.\n",
      "             precision    recall  f1-score   support\n",
      "\n",
      "        0.0       1.00      1.00      1.00      3345\n",
      "        1.0       0.93      0.99      0.96       155\n",
      "\n",
      "avg / total       1.00      1.00      1.00      3500\n",
      "\n",
      "\n",
      "Scores on test set.\n",
      "\n",
      "             precision    recall  f1-score   support\n",
      "\n",
      "        0.0       1.00      0.95      0.97       480\n",
      "        1.0       0.43      1.00      0.61        20\n",
      "\n",
      "avg / total       0.98      0.95      0.96       500\n",
      "\n",
      "\n"
     ]
    }
   ],
   "source": [
    "clf_sna = model_select_rdf((X_train, X_valid, y_train, y_valid))"
   ]
  },
  {
   "cell_type": "code",
   "execution_count": 13,
   "metadata": {
    "collapsed": false,
    "deletable": true,
    "editable": true
   },
   "outputs": [
    {
     "name": "stdout",
     "output_type": "stream",
     "text": [
      "# Tuning hyper-parameters for f1\n",
      "\n",
      "Best parameters set found on training set:\n",
      "\n",
      "{'penalty': 'l2', 'alpha': 1e-05, 'n_iter': 80, 'loss': 'log'}\n",
      "Detailed classification report:\n",
      "\n",
      "Scores on training set.\n",
      "             precision    recall  f1-score   support\n",
      "\n",
      "        0.0       0.96      1.00      0.98      3345\n",
      "        1.0       0.50      0.01      0.03       155\n",
      "\n",
      "avg / total       0.94      0.96      0.94      3500\n",
      "\n",
      "\n",
      "Scores on test set.\n",
      "\n",
      "             precision    recall  f1-score   support\n",
      "\n",
      "        0.0       0.96      1.00      0.98       480\n",
      "        1.0       1.00      0.05      0.10        20\n",
      "\n",
      "avg / total       0.96      0.96      0.95       500\n",
      "\n",
      "\n"
     ]
    }
   ],
   "source": [
    "clf_sna2 = model_select_sgd((X_train, X_valid, y_train, y_valid))"
   ]
  },
  {
   "cell_type": "code",
   "execution_count": 14,
   "metadata": {
    "collapsed": false,
    "deletable": true,
    "editable": true
   },
   "outputs": [
    {
     "name": "stdout",
     "output_type": "stream",
     "text": [
      "# Tuning hyper-parameters for f1\n",
      "\n",
      "Best parameters set found on training set:\n",
      "\n",
      "{'kernel': 'rbf', 'C': 0.05, 'gamma': 10}\n",
      "Detailed classification report:\n",
      "\n",
      "Scores on training set.\n",
      "             precision    recall  f1-score   support\n",
      "\n",
      "        0.0       1.00      1.00      1.00      3345\n",
      "        1.0       1.00      0.95      0.97       155\n",
      "\n",
      "avg / total       1.00      1.00      1.00      3500\n",
      "\n",
      "\n",
      "Scores on test set.\n",
      "\n",
      "             precision    recall  f1-score   support\n",
      "\n",
      "        0.0       1.00      1.00      1.00       480\n",
      "        1.0       1.00      0.95      0.97        20\n",
      "\n",
      "avg / total       1.00      1.00      1.00       500\n",
      "\n",
      "\n"
     ]
    }
   ],
   "source": [
    "clf_sna3 = model_select_svc((X_train, X_valid, y_train, y_valid))"
   ]
  },
  {
   "cell_type": "code",
   "execution_count": 16,
   "metadata": {
    "collapsed": false,
    "deletable": true,
    "editable": true
   },
   "outputs": [
    {
     "name": "stdout",
     "output_type": "stream",
     "text": [
      "# Tuning hyper-parameters for f1\n",
      "\n",
      "Best parameters set found on training set:\n",
      "\n",
      "{'max_features': 'auto', 'n_estimators': 10, 'min_samples_leaf': 3, 'max_depth': 5, 'class_weight': 'balanced_subsample'}\n",
      "Detailed classification report:\n",
      "\n",
      "Scores on training set.\n",
      "             precision    recall  f1-score   support\n",
      "\n",
      "        0.0       0.97      0.76      0.85      3345\n",
      "        1.0       0.09      0.50      0.15       155\n",
      "\n",
      "avg / total       0.93      0.75      0.82      3500\n",
      "\n",
      "\n",
      "Scores on test set.\n",
      "\n",
      "             precision    recall  f1-score   support\n",
      "\n",
      "        0.0       0.96      0.89      0.93       480\n",
      "        1.0       0.07      0.20      0.10        20\n",
      "\n",
      "avg / total       0.93      0.86      0.89       500\n",
      "\n",
      "\n"
     ]
    }
   ],
   "source": [
    "clf_comb = model_select_rdf((X_train_combined, X_valid_combined, y_train, y_valid))"
   ]
  },
  {
   "cell_type": "code",
   "execution_count": 17,
   "metadata": {
    "collapsed": false,
    "deletable": true,
    "editable": true
   },
   "outputs": [
    {
     "name": "stdout",
     "output_type": "stream",
     "text": [
      "# Tuning hyper-parameters for f1\n",
      "\n",
      "Best parameters set found on training set:\n",
      "\n",
      "{'penalty': 'l1', 'alpha': 1e-05, 'n_iter': 80, 'loss': 'hinge'}\n",
      "Detailed classification report:\n",
      "\n",
      "Scores on training set.\n",
      "             precision    recall  f1-score   support\n",
      "\n",
      "        0.0       1.00      1.00      1.00      3345\n",
      "        1.0       0.98      0.97      0.97       155\n",
      "\n",
      "avg / total       1.00      1.00      1.00      3500\n",
      "\n",
      "\n",
      "Scores on test set.\n",
      "\n",
      "             precision    recall  f1-score   support\n",
      "\n",
      "        0.0       1.00      0.95      0.97       480\n",
      "        1.0       0.45      1.00      0.62        20\n",
      "\n",
      "avg / total       0.98      0.95      0.96       500\n",
      "\n",
      "\n"
     ]
    }
   ],
   "source": [
    "clf_comb2 = model_select_sgd((X_train_combined, X_valid_combined, y_train, y_valid))"
   ]
  },
  {
   "cell_type": "code",
   "execution_count": 18,
   "metadata": {
    "collapsed": false,
    "deletable": true,
    "editable": true
   },
   "outputs": [
    {
     "name": "stdout",
     "output_type": "stream",
     "text": [
      "# Tuning hyper-parameters for f1\n",
      "\n",
      "Best parameters set found on training set:\n",
      "\n",
      "{'kernel': 'rbf', 'C': 1, 'gamma': 10}\n",
      "Detailed classification report:\n",
      "\n",
      "Scores on training set.\n",
      "             precision    recall  f1-score   support\n",
      "\n",
      "        0.0       1.00      1.00      1.00      3345\n",
      "        1.0       1.00      0.95      0.98       155\n",
      "\n",
      "avg / total       1.00      1.00      1.00      3500\n",
      "\n",
      "\n",
      "Scores on test set.\n",
      "\n",
      "             precision    recall  f1-score   support\n",
      "\n",
      "        0.0       1.00      1.00      1.00       480\n",
      "        1.0       1.00      0.95      0.97        20\n",
      "\n",
      "avg / total       1.00      1.00      1.00       500\n",
      "\n",
      "\n"
     ]
    }
   ],
   "source": [
    "clf_comb3 = model_select_svc((X_train_combined, X_valid_combined, y_train, y_valid))"
   ]
  },
  {
   "cell_type": "code",
   "execution_count": null,
   "metadata": {
    "collapsed": true,
    "deletable": true,
    "editable": true
   },
   "outputs": [],
   "source": []
  }
 ],
 "metadata": {
  "kernelspec": {
   "display_name": "Python 2",
   "language": "python",
   "name": "python2"
  },
  "language_info": {
   "codemirror_mode": {
    "name": "ipython",
    "version": 2
   },
   "file_extension": ".py",
   "mimetype": "text/x-python",
   "name": "python",
   "nbconvert_exporter": "python",
   "pygments_lexer": "ipython2",
   "version": "2.7.12"
  }
 },
 "nbformat": 4,
 "nbformat_minor": 0
}
