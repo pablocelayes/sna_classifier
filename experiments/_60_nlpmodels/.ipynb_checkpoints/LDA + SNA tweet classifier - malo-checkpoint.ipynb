{
 "cells": [
  {
   "cell_type": "code",
   "execution_count": 36,
   "metadata": {
    "collapsed": false,
    "deletable": true,
    "editable": true
   },
   "outputs": [],
   "source": [
    "from create_lda_datasets import *\n",
    "import scipy.sparse as sp\n",
    "from classifiers import *"
   ]
  },
  {
   "cell_type": "code",
   "execution_count": 37,
   "metadata": {
    "collapsed": true,
    "deletable": true,
    "editable": true
   },
   "outputs": [],
   "source": [
    "def evaluate_model(clf, X_train, X_test, y_train, y_test):\n",
    "    y_true, y_pred = y_train, clf.predict(X_train)\n",
    "\n",
    "    print(\"Detailed classification report:\\n\")\n",
    "    print(\"Scores on training set.\\n\")\n",
    "    print(classification_report(y_true, y_pred))\n",
    "\n",
    "    y_true, y_pred = y_test, clf.predict(X_test)\n",
    "    print(\"Scores on test set.\\n\")\n",
    "    print(classification_report(y_true, y_pred))"
   ]
  },
  {
   "cell_type": "code",
   "execution_count": 38,
   "metadata": {
    "collapsed": false,
    "deletable": true,
    "editable": true
   },
   "outputs": [],
   "source": [
    "u = 166576483"
   ]
  },
  {
   "cell_type": "code",
   "execution_count": 39,
   "metadata": {
    "collapsed": false,
    "deletable": true,
    "editable": true
   },
   "outputs": [],
   "source": [
    "X_train, X_valid, X_test, y_train, y_valid, y_test = load_small_validation_dataframe(u)"
   ]
  },
  {
   "cell_type": "code",
   "execution_count": 40,
   "metadata": {
    "collapsed": false,
    "deletable": true,
    "editable": true
   },
   "outputs": [],
   "source": [
    "X_train_lda, X_valid_lda, X_test_lda, y_train, y_valid, y_test = load_lda_dataset(u)"
   ]
  },
  {
   "cell_type": "code",
   "execution_count": 41,
   "metadata": {
    "collapsed": false,
    "deletable": true,
    "editable": true
   },
   "outputs": [],
   "source": [
    "X_train_combined = sp.hstack((X_train, X_train_lda))\n",
    "X_valid_combined = sp.hstack((X_valid, X_valid_lda))\n",
    "X_test_combined = sp.hstack((X_test, X_test_lda))"
   ]
  },
  {
   "cell_type": "code",
   "execution_count": 42,
   "metadata": {
    "collapsed": true,
    "deletable": true,
    "editable": true
   },
   "outputs": [],
   "source": [
    "w1 = sum(y_train)/len(y_train)\n",
    "w0 = 1 - w1\n",
    "sample_weights = np.array([w0 if x==0 else w1 for x in y_train])"
   ]
  },
  {
   "cell_type": "code",
   "execution_count": 43,
   "metadata": {
    "collapsed": true,
    "deletable": true,
    "editable": true
   },
   "outputs": [],
   "source": [
    "ds_comb = (X_train_combined, X_valid_combined, y_train, y_valid)"
   ]
  },
  {
   "cell_type": "code",
   "execution_count": 44,
   "metadata": {
    "collapsed": true,
    "deletable": true,
    "editable": true
   },
   "outputs": [],
   "source": [
    "ds_sna = (X_train, X_valid, y_train, y_valid)"
   ]
  },
  {
   "cell_type": "code",
   "execution_count": 45,
   "metadata": {
    "collapsed": false,
    "deletable": true,
    "editable": true
   },
   "outputs": [
    {
     "name": "stdout",
     "output_type": "stream",
     "text": [
      "# Tuning hyper-parameters for f1\n",
      "\n",
      "Best parameters set found on training set:\n",
      "\n",
      "{'max_features': 50, 'n_estimators': 100, 'min_samples_leaf': 1, 'max_depth': None, 'class_weight': 'balanced'}\n",
      "Detailed classification report:\n",
      "\n",
      "Scores on training set.\n",
      "             precision    recall  f1-score   support\n",
      "\n",
      "        0.0       0.99      0.96      0.98      3238\n",
      "        1.0       0.67      0.91      0.77       262\n",
      "\n",
      "avg / total       0.97      0.96      0.96      3500\n",
      "\n",
      "\n",
      "Scores on test set.\n",
      "\n",
      "             precision    recall  f1-score   support\n",
      "\n",
      "        0.0       0.98      0.95      0.97       466\n",
      "        1.0       0.56      0.79      0.66        34\n",
      "\n",
      "avg / total       0.96      0.94      0.95       500\n",
      "\n",
      "\n"
     ]
    }
   ],
   "source": [
    "clf_sna = model_select_rdf((X_train, X_valid, y_train, y_valid))"
   ]
  },
  {
   "cell_type": "code",
   "execution_count": 51,
   "metadata": {
    "collapsed": false
   },
   "outputs": [
    {
     "name": "stdout",
     "output_type": "stream",
     "text": [
      "# Tuning hyper-parameters for f1\n",
      "\n",
      "Best parameters set found on training set:\n",
      "\n",
      "{'penalty': 'l1', 'alpha': 1e-05, 'n_iter': 80, 'loss': 'hinge'}\n",
      "Detailed classification report:\n",
      "\n",
      "Scores on training set.\n",
      "             precision    recall  f1-score   support\n",
      "\n",
      "        0.0       0.98      1.00      0.99      3238\n",
      "        1.0       1.00      0.77      0.87       262\n",
      "\n",
      "avg / total       0.98      0.98      0.98      3500\n",
      "\n",
      "\n",
      "Scores on test set.\n",
      "\n",
      "             precision    recall  f1-score   support\n",
      "\n",
      "        0.0       0.97      0.99      0.98       466\n",
      "        1.0       0.85      0.65      0.73        34\n",
      "\n",
      "avg / total       0.97      0.97      0.97       500\n",
      "\n",
      "\n"
     ]
    }
   ],
   "source": [
    "clf_sna2 = model_select_sgd((X_train, X_valid, y_train, y_valid))"
   ]
  },
  {
   "cell_type": "code",
   "execution_count": 52,
   "metadata": {
    "collapsed": false
   },
   "outputs": [
    {
     "name": "stdout",
     "output_type": "stream",
     "text": [
      "# Tuning hyper-parameters for f1\n",
      "\n",
      "Best parameters set found on training set:\n",
      "\n",
      "{'kernel': 'rbf', 'C': 0.01, 'gamma': 10}\n",
      "Detailed classification report:\n",
      "\n",
      "Scores on training set.\n",
      "             precision    recall  f1-score   support\n",
      "\n",
      "        0.0       0.98      1.00      0.99      3238\n",
      "        1.0       1.00      0.77      0.87       262\n",
      "\n",
      "avg / total       0.98      0.98      0.98      3500\n",
      "\n",
      "\n",
      "Scores on test set.\n",
      "\n",
      "             precision    recall  f1-score   support\n",
      "\n",
      "        0.0       0.97      1.00      0.99       466\n",
      "        1.0       1.00      0.65      0.79        34\n",
      "\n",
      "avg / total       0.98      0.98      0.97       500\n",
      "\n",
      "\n"
     ]
    }
   ],
   "source": [
    "clf_sna3 = model_select_svc((X_train, X_valid, y_train, y_valid))"
   ]
  },
  {
   "cell_type": "code",
   "execution_count": 46,
   "metadata": {
    "collapsed": false,
    "deletable": true,
    "editable": true
   },
   "outputs": [
    {
     "name": "stdout",
     "output_type": "stream",
     "text": [
      "Detailed classification report:\n",
      "\n",
      "Scores on training set.\n",
      "\n",
      "             precision    recall  f1-score   support\n",
      "\n",
      "        0.0       0.99      1.00      0.99      3238\n",
      "        1.0       0.97      0.82      0.89       262\n",
      "\n",
      "avg / total       0.98      0.98      0.98      3500\n",
      "\n",
      "Scores on test set.\n",
      "\n",
      "             precision    recall  f1-score   support\n",
      "\n",
      "        0.0       0.97      0.99      0.98       466\n",
      "        1.0       0.81      0.65      0.72        34\n",
      "\n",
      "avg / total       0.96      0.97      0.96       500\n",
      "\n"
     ]
    }
   ],
   "source": [
    "clf_sna_ = RandomForestClassifier()\n",
    "clf_sna_.fit(X_train, y_train, sample_weight=sample_weights)\n",
    "evaluate_model(clf_sna_, X_train, X_valid, y_train, y_valid)"
   ]
  },
  {
   "cell_type": "code",
   "execution_count": 47,
   "metadata": {
    "collapsed": false,
    "deletable": true,
    "editable": true
   },
   "outputs": [
    {
     "name": "stdout",
     "output_type": "stream",
     "text": [
      "# Tuning hyper-parameters for f1\n",
      "\n",
      "Best parameters set found on training set:\n",
      "\n",
      "{'max_features': 'auto', 'n_estimators': 30, 'min_samples_leaf': 3, 'max_depth': None, 'class_weight': 'balanced'}\n",
      "Detailed classification report:\n",
      "\n",
      "Scores on training set.\n",
      "             precision    recall  f1-score   support\n",
      "\n",
      "        0.0       0.99      0.83      0.90      3238\n",
      "        1.0       0.30      0.87      0.44       262\n",
      "\n",
      "avg / total       0.94      0.84      0.87      3500\n",
      "\n",
      "\n",
      "Scores on test set.\n",
      "\n",
      "             precision    recall  f1-score   support\n",
      "\n",
      "        0.0       0.98      0.70      0.82       466\n",
      "        1.0       0.16      0.76      0.26        34\n",
      "\n",
      "avg / total       0.92      0.70      0.78       500\n",
      "\n",
      "\n"
     ]
    }
   ],
   "source": [
    "clf_comb = model_select_rdf((X_train_combined, X_valid_combined, y_train, y_valid))"
   ]
  },
  {
   "cell_type": "code",
   "execution_count": 48,
   "metadata": {
    "collapsed": false,
    "deletable": true,
    "editable": true
   },
   "outputs": [
    {
     "name": "stdout",
     "output_type": "stream",
     "text": [
      "# Tuning hyper-parameters for f1\n",
      "\n",
      "Best parameters set found on training set:\n",
      "\n",
      "{'penalty': 'l2', 'alpha': 1e-05, 'n_iter': 80, 'loss': 'hinge'}\n",
      "Detailed classification report:\n",
      "\n",
      "Scores on training set.\n",
      "             precision    recall  f1-score   support\n",
      "\n",
      "        0.0       0.98      1.00      0.99      3238\n",
      "        1.0       0.96      0.81      0.88       262\n",
      "\n",
      "avg / total       0.98      0.98      0.98      3500\n",
      "\n",
      "\n",
      "Scores on test set.\n",
      "\n",
      "             precision    recall  f1-score   support\n",
      "\n",
      "        0.0       0.98      0.99      0.98       466\n",
      "        1.0       0.79      0.68      0.73        34\n",
      "\n",
      "avg / total       0.96      0.97      0.96       500\n",
      "\n",
      "\n"
     ]
    }
   ],
   "source": [
    "clf_comb2 = model_select_sgd((X_train_combined, X_valid_combined, y_train, y_valid))"
   ]
  },
  {
   "cell_type": "code",
   "execution_count": 49,
   "metadata": {
    "collapsed": false,
    "deletable": true,
    "editable": true
   },
   "outputs": [
    {
     "name": "stdout",
     "output_type": "stream",
     "text": [
      "# Tuning hyper-parameters for f1\n",
      "\n",
      "Best parameters set found on training set:\n",
      "\n",
      "{'kernel': 'rbf', 'C': 1, 'gamma': 10}\n",
      "Detailed classification report:\n",
      "\n",
      "Scores on training set.\n",
      "             precision    recall  f1-score   support\n",
      "\n",
      "        0.0       0.99      1.00      0.99      3238\n",
      "        1.0       1.00      0.83      0.91       262\n",
      "\n",
      "avg / total       0.99      0.99      0.99      3500\n",
      "\n",
      "\n",
      "Scores on test set.\n",
      "\n",
      "             precision    recall  f1-score   support\n",
      "\n",
      "        0.0       0.98      1.00      0.99       466\n",
      "        1.0       0.96      0.68      0.79        34\n",
      "\n",
      "avg / total       0.98      0.98      0.97       500\n",
      "\n",
      "\n"
     ]
    }
   ],
   "source": [
    "clf_comb3 = model_select_svc((X_train_combined, X_valid_combined, y_train, y_valid))"
   ]
  },
  {
   "cell_type": "code",
   "execution_count": null,
   "metadata": {
    "collapsed": true,
    "deletable": true,
    "editable": true
   },
   "outputs": [],
   "source": []
  }
 ],
 "metadata": {
  "kernelspec": {
   "display_name": "Python 2",
   "language": "python",
   "name": "python2"
  },
  "language_info": {
   "codemirror_mode": {
    "name": "ipython",
    "version": 2
   },
   "file_extension": ".py",
   "mimetype": "text/x-python",
   "name": "python",
   "nbconvert_exporter": "python",
   "pygments_lexer": "ipython2",
   "version": "2.7.12"
  }
 },
 "nbformat": 4,
 "nbformat_minor": 0
}
