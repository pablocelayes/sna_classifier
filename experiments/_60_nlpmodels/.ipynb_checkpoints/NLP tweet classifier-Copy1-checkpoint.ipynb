{
 "cells": [
  {
   "cell_type": "code",
   "execution_count": 1,
   "metadata": {
    "collapsed": true
   },
   "outputs": [],
   "source": [
    "uid = 37226353"
   ]
  },
  {
   "cell_type": "code",
   "execution_count": 2,
   "metadata": {
    "collapsed": false
   },
   "outputs": [
    {
     "name": "stdout",
     "output_type": "stream",
     "text": [
      "Switching to API Credentials #7\n"
     ]
    }
   ],
   "source": [
    "from experiments._1_one_user_learn_neighbours.try_some_users import *\n",
    "from experiments.utils import *\n",
    "from experiments.datasets import *\n",
    "import json"
   ]
  },
  {
   "cell_type": "code",
   "execution_count": 3,
   "metadata": {
    "collapsed": true
   },
   "outputs": [],
   "source": [
    "X_train, X_test, y_train, y_test = load_or_create_dataframe(uid)"
   ]
  },
  {
   "cell_type": "code",
   "execution_count": 5,
   "metadata": {
    "collapsed": true
   },
   "outputs": [],
   "source": [
    "s = open_session()"
   ]
  },
  {
   "cell_type": "code",
   "execution_count": 6,
   "metadata": {
    "collapsed": true
   },
   "outputs": [],
   "source": [
    "X_train_twids = X_train.index\n",
    "train_tweets = [s.query(Tweet).get(twid) for twid in X_train.index]"
   ]
  },
  {
   "cell_type": "code",
   "execution_count": 7,
   "metadata": {
    "collapsed": true
   },
   "outputs": [],
   "source": [
    "test_tweets = [s.query(Tweet).get(twid) for twid in X_test.index]"
   ]
  },
  {
   "cell_type": "code",
   "execution_count": 26,
   "metadata": {
    "collapsed": true
   },
   "outputs": [],
   "source": [
    "all_tweets_text_es = [t.text for t in s.query(Tweet).all() if t.lang == 'es']"
   ]
  },
  {
   "cell_type": "code",
   "execution_count": 9,
   "metadata": {
    "collapsed": true
   },
   "outputs": [],
   "source": [
    "from sklearn.feature_extraction.text import CountVectorizer\n",
    "from sklearn.feature_extraction.text import TfidfTransformer"
   ]
  },
  {
   "cell_type": "code",
   "execution_count": 10,
   "metadata": {
    "collapsed": true
   },
   "outputs": [],
   "source": [
    "from tokenizer import tokenize, spanish_stopwords\n"
   ]
  },
  {
   "cell_type": "code",
   "execution_count": 27,
   "metadata": {
    "collapsed": false
   },
   "outputs": [
    {
     "data": {
      "text/plain": [
       "1636480"
      ]
     },
     "execution_count": 27,
     "metadata": {},
     "output_type": "execute_result"
    }
   ],
   "source": [
    "len(all_tweets_text_es)"
   ]
  },
  {
   "cell_type": "code",
   "execution_count": 30,
   "metadata": {
    "collapsed": true
   },
   "outputs": [],
   "source": [
    "vec = CountVectorizer(tokenizer=tokenize, min_df=2)"
   ]
  },
  {
   "cell_type": "code",
   "execution_count": 31,
   "metadata": {
    "collapsed": false
   },
   "outputs": [
    {
     "name": "stdout",
     "output_type": "stream",
     "text": [
      "string index out of range\n",
      "derecha facha sjgue guion de la embajada gringa\n",
      "string index out of range\n",
      "me encararon con una navaja dame la plata  ¿gue bgata\n",
      "string index out of range\n",
      "llwgue a mi dpto y estaba mi hermano escuchando miley cyrus algo inespersdo sucede\n",
      "string index out of range\n",
      "onda sos un medio que hace todo lo posible por no aggionarte ¿¿gue te pasa\n",
      "string index out of range\n",
      "💚┊cadena de seguidoresシ┊💚\n",
      "\n",
      "① sígueme y te sigo🍃\n",
      "\n",
      "② da retweet🍃\n",
      "\n",
      "③ slgue a los que dieron rt🍃\n",
      "\n",
      "④ da followback gana🍃\n",
      "\n",
      "😃┊besodeluna 🐊\n",
      "string index out of range\n",
      "mgue genial\n"
     ]
    }
   ],
   "source": [
    "counts = vec.fit_transform(all_tweets_text_es)"
   ]
  },
  {
   "cell_type": "code",
   "execution_count": 32,
   "metadata": {
    "collapsed": true
   },
   "outputs": [],
   "source": [
    "tfidf = TfidfTransformer()"
   ]
  },
  {
   "cell_type": "code",
   "execution_count": 33,
   "metadata": {
    "collapsed": false
   },
   "outputs": [
    {
     "data": {
      "text/plain": [
       "TfidfTransformer(norm=u'l2', smooth_idf=True, sublinear_tf=False,\n",
       "         use_idf=True)"
      ]
     },
     "execution_count": 33,
     "metadata": {},
     "output_type": "execute_result"
    }
   ],
   "source": [
    "tfidf.fit(counts)"
   ]
  },
  {
   "cell_type": "code",
   "execution_count": 37,
   "metadata": {
    "collapsed": false
   },
   "outputs": [],
   "source": [
    "X_train_f = tfidf.transform(vec.transform([t.text for t in train_tweets]))"
   ]
  },
  {
   "cell_type": "code",
   "execution_count": 38,
   "metadata": {
    "collapsed": true
   },
   "outputs": [],
   "source": [
    "X_test_f = tfidf.transform(vec.transform([t.text for t in test_tweets]))"
   ]
  },
  {
   "cell_type": "code",
   "execution_count": 39,
   "metadata": {
    "collapsed": false
   },
   "outputs": [
    {
     "data": {
      "text/plain": [
       "(85109, 204777)"
      ]
     },
     "execution_count": 39,
     "metadata": {},
     "output_type": "execute_result"
    }
   ],
   "source": [
    "X_train_f.shape"
   ]
  },
  {
   "cell_type": "code",
   "execution_count": 40,
   "metadata": {
    "collapsed": false
   },
   "outputs": [
    {
     "data": {
      "text/plain": [
       "(36476, 204777)"
      ]
     },
     "execution_count": 40,
     "metadata": {},
     "output_type": "execute_result"
    }
   ],
   "source": [
    "X_test_f.shape"
   ]
  },
  {
   "cell_type": "code",
   "execution_count": 54,
   "metadata": {
    "collapsed": true
   },
   "outputs": [],
   "source": [
    "RandomForestClassifier?"
   ]
  },
  {
   "cell_type": "code",
   "execution_count": 47,
   "metadata": {
    "collapsed": true
   },
   "outputs": [],
   "source": [
    "clf_class = RandomForestClassifier"
   ]
  },
  {
   "cell_type": "code",
   "execution_count": 57,
   "metadata": {
    "collapsed": false
   },
   "outputs": [
    {
     "name": "stdout",
     "output_type": "stream",
     "text": [
      "Detailed classification report:\n",
      "\n",
      "Scores on training set.\n",
      "\n",
      "             precision    recall  f1-score   support\n",
      "\n",
      "        0.0       1.00      0.99      1.00     83716\n",
      "        1.0       0.72      1.00      0.84      1393\n",
      "\n",
      "avg / total       1.00      0.99      0.99     85109\n",
      "\n",
      "Scores on test set.\n",
      "\n",
      "             precision    recall  f1-score   support\n",
      "\n",
      "        0.0       0.99      0.99      0.99     35902\n",
      "        1.0       0.14      0.13      0.14       574\n",
      "\n",
      "avg / total       0.97      0.97      0.97     36476\n",
      "\n"
     ]
    }
   ],
   "source": [
    "# weights for class balancing\n",
    "# w1 = sum(y_train)/len(y_train)\n",
    "# w0 = 1 - w1\n",
    "# sample_weights = np.array([w0 if x==0 else w1 for x in y_train])\n",
    "\n",
    "clf = clf_class(class_weight='balanced_subsample', n_jobs=-1, n_estimators=200)     \n",
    "clf.fit(X_train_f, y_train)\n",
    "\n",
    "evaluate_model(clf, X_train_f, X_test_f, y_train, y_test)\n"
   ]
  },
  {
   "cell_type": "code",
   "execution_count": 44,
   "metadata": {
    "collapsed": true
   },
   "outputs": [],
   "source": [
    "from sklearn.linear_model import LogisticRegression\n",
    "clf_class = LogisticRegression"
   ]
  },
  {
   "cell_type": "code",
   "execution_count": 59,
   "metadata": {
    "collapsed": true
   },
   "outputs": [],
   "source": [
    "LogisticRegression?"
   ]
  },
  {
   "cell_type": "code",
   "execution_count": 74,
   "metadata": {
    "collapsed": false
   },
   "outputs": [
    {
     "name": "stdout",
     "output_type": "stream",
     "text": [
      "Detailed classification report:\n",
      "\n",
      "Scores on training set.\n",
      "\n",
      "             precision    recall  f1-score   support\n",
      "\n",
      "        0.0       1.00      1.00      1.00     83716\n",
      "        1.0       0.88      0.99      0.94      1393\n",
      "\n",
      "avg / total       1.00      1.00      1.00     85109\n",
      "\n",
      "Scores on test set.\n",
      "\n",
      "             precision    recall  f1-score   support\n",
      "\n",
      "        0.0       0.99      0.95      0.97     35902\n",
      "        1.0       0.10      0.36      0.16       574\n",
      "\n",
      "avg / total       0.98      0.94      0.96     36476\n",
      "\n"
     ]
    }
   ],
   "source": [
    "clf2 = LogisticRegression(class_weight='balanced', penalty='l1', n_jobs=-1, C=500.0)     \n",
    "clf2.fit(X_train_f, y_train)\n",
    "\n",
    "evaluate_model(clf2, X_train_f, X_test_f, y_train, y_test)\n"
   ]
  },
  {
   "cell_type": "code",
   "execution_count": 75,
   "metadata": {
    "collapsed": false
   },
   "outputs": [
    {
     "name": "stdout",
     "output_type": "stream",
     "text": [
      "Detailed classification report:\n",
      "\n",
      "Scores on training set.\n",
      "\n",
      "             precision    recall  f1-score   support\n",
      "\n",
      "        0.0       1.00      0.96      0.98     83716\n",
      "        1.0       0.29      0.99      0.45      1393\n",
      "\n",
      "avg / total       0.99      0.96      0.97     85109\n",
      "\n",
      "Scores on test set.\n",
      "\n",
      "             precision    recall  f1-score   support\n",
      "\n",
      "        0.0       0.99      0.96      0.97     35902\n",
      "        1.0       0.14      0.46      0.22       574\n",
      "\n",
      "avg / total       0.98      0.95      0.96     36476\n",
      "\n"
     ]
    }
   ],
   "source": [
    "clf3 = LogisticRegression(class_weight='balanced', penalty='l1', n_jobs=-1, C=1.0)     \n",
    "clf3.fit(X_train_f, y_train)\n",
    "\n",
    "evaluate_model(clf3, X_train_f, X_test_f, y_train, y_test)\n"
   ]
  },
  {
   "cell_type": "code",
   "execution_count": 80,
   "metadata": {
    "collapsed": false
   },
   "outputs": [
    {
     "name": "stdout",
     "output_type": "stream",
     "text": [
      "Detailed classification report:\n",
      "\n",
      "Scores on training set.\n",
      "\n",
      "             precision    recall  f1-score   support\n",
      "\n",
      "        0.0       1.00      0.94      0.97     83716\n",
      "        1.0       0.22      0.98      0.36      1393\n",
      "\n",
      "avg / total       0.99      0.94      0.96     85109\n",
      "\n",
      "Scores on test set.\n",
      "\n",
      "             precision    recall  f1-score   support\n",
      "\n",
      "        0.0       0.99      0.94      0.97     35902\n",
      "        1.0       0.13      0.55      0.21       574\n",
      "\n",
      "avg / total       0.98      0.93      0.95     36476\n",
      "\n"
     ]
    }
   ],
   "source": [
    "clf4 = LogisticRegression(class_weight='balanced', penalty='l2', n_jobs=-1, C=0.5)     \n",
    "clf4.fit(X_train_f, y_train)\n",
    "\n",
    "evaluate_model(clf4, X_train_f, X_test_f, y_train, y_test)\n"
   ]
  },
  {
   "cell_type": "code",
   "execution_count": 62,
   "metadata": {
    "collapsed": true
   },
   "outputs": [],
   "source": [
    "from sklearn.linear_model import SGDClassifier\n"
   ]
  },
  {
   "cell_type": "code",
   "execution_count": 63,
   "metadata": {
    "collapsed": true
   },
   "outputs": [],
   "source": [
    "SGDClassifier?"
   ]
  },
  {
   "cell_type": "code",
   "execution_count": 81,
   "metadata": {
    "collapsed": false
   },
   "outputs": [],
   "source": [
    "clf = SGDClassifier(loss='hinge', penalty='elasticnet', alpha=0.0001,\n",
    "                    l1_ratio=0.15, fit_intercept=True, n_iter=5,\n",
    "                    shuffle=True, verbose=0, epsilon=0.1, n_jobs=-1,\n",
    "                    random_state=None, learning_rate='optimal', eta0=0.0,\n",
    "                    power_t=0.5, class_weight='balanced', warm_start=False, average=False)"
   ]
  },
  {
   "cell_type": "code",
   "execution_count": 82,
   "metadata": {
    "collapsed": false
   },
   "outputs": [
    {
     "name": "stdout",
     "output_type": "stream",
     "text": [
      "Detailed classification report:\n",
      "\n",
      "Scores on training set.\n",
      "\n",
      "             precision    recall  f1-score   support\n",
      "\n",
      "        0.0       1.00      0.90      0.95     83716\n",
      "        1.0       0.14      0.97      0.25      1393\n",
      "\n",
      "avg / total       0.99      0.90      0.94     85109\n",
      "\n",
      "Scores on test set.\n",
      "\n",
      "             precision    recall  f1-score   support\n",
      "\n",
      "        0.0       0.99      0.90      0.95     35902\n",
      "        1.0       0.09      0.61      0.16       574\n",
      "\n",
      "avg / total       0.98      0.90      0.93     36476\n",
      "\n"
     ]
    }
   ],
   "source": [
    "clf.fit(X_train_f, y_train)\n",
    "evaluate_model(clf, X_train_f, X_test_f, y_train, y_test)"
   ]
  },
  {
   "cell_type": "code",
   "execution_count": null,
   "metadata": {
    "collapsed": true
   },
   "outputs": [],
   "source": []
  }
 ],
 "metadata": {
  "kernelspec": {
   "display_name": "Python 2",
   "language": "python",
   "name": "python2"
  },
  "language_info": {
   "codemirror_mode": {
    "name": "ipython",
    "version": 2
   },
   "file_extension": ".py",
   "mimetype": "text/x-python",
   "name": "python",
   "nbconvert_exporter": "python",
   "pygments_lexer": "ipython2",
   "version": "2.7.11+"
  }
 },
 "nbformat": 4,
 "nbformat_minor": 0
}
