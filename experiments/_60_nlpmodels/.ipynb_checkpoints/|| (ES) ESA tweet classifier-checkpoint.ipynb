{
 "cells": [
  {
   "cell_type": "code",
   "execution_count": 1,
   "metadata": {
    "collapsed": true,
    "deletable": true,
    "editable": true
   },
   "outputs": [],
   "source": [
    "from IPython.display import Audio\n",
    "sound_file = '/home/pablo/Music/Ship_Bell-Mike_Koenig-1911209136.wav'"
   ]
  },
  {
   "cell_type": "code",
   "execution_count": 24,
   "metadata": {
    "collapsed": false,
    "deletable": true,
    "editable": true
   },
   "outputs": [],
   "source": [
    "from create_esa_datasets import *\n",
    "from classifiers import *"
   ]
  },
  {
   "cell_type": "code",
   "execution_count": 3,
   "metadata": {
    "collapsed": true,
    "deletable": true,
    "editable": true
   },
   "outputs": [],
   "source": [
    "from create_clesa_datasets import load_low_recall_users"
   ]
  },
  {
   "cell_type": "code",
   "execution_count": 4,
   "metadata": {
    "collapsed": true,
    "deletable": true,
    "editable": true
   },
   "outputs": [],
   "source": [
    "users = load_low_recall_users()"
   ]
  },
  {
   "cell_type": "code",
   "execution_count": 5,
   "metadata": {
    "collapsed": false,
    "deletable": true,
    "editable": true
   },
   "outputs": [
    {
     "data": {
      "text/plain": [
       "[(u'42976687', 0.0),\n",
       " (u'241991145', 0.09852216748768473),\n",
       " (u'1383498264', 0.2962962962962963),\n",
       " (u'125363239', 0.38235294117647056),\n",
       " (u'157523545', 0.47333333333333333),\n",
       " (u'152613501', 0.47417840375586856),\n",
       " (u'186595337', 0.48),\n",
       " (u'199982337', 0.4857142857142857),\n",
       " (u'356464236', 0.5),\n",
       " (u'196478764', 0.5)]"
      ]
     },
     "execution_count": 5,
     "metadata": {},
     "output_type": "execute_result"
    }
   ],
   "source": [
    "users[:10]"
   ]
  },
  {
   "cell_type": "code",
   "execution_count": 6,
   "metadata": {
    "collapsed": false,
    "deletable": true,
    "editable": true
   },
   "outputs": [],
   "source": [
    "uids_with_esa = ['110325813',\n",
    " '1311735576',\n",
    " '142800528',\n",
    " '1566310694',\n",
    " '18623370',\n",
    " '195412602',\n",
    " '228252737',\n",
    " '254316467',\n",
    " '263780425',\n",
    " '37226353',\n",
    " '54943340',\n",
    " '54987976',\n",
    " '59857143',\n",
    " '80462161',\n",
    " '85123028']"
   ]
  },
  {
   "cell_type": "code",
   "execution_count": 7,
   "metadata": {
    "collapsed": true,
    "deletable": true,
    "editable": true
   },
   "outputs": [],
   "source": [
    "recalls = dict(users)"
   ]
  },
  {
   "cell_type": "code",
   "execution_count": 16,
   "metadata": {
    "collapsed": false,
    "deletable": true,
    "editable": true
   },
   "outputs": [
    {
     "data": {
      "text/plain": [
       "[('110325813', 0.8033175355450237),\n",
       " ('1311735576', 0.6533613445378151),\n",
       " ('142800528', 0.8022875816993464),\n",
       " ('18623370', 0.876425855513308),\n",
       " ('195412602', 0.7784679089026915),\n",
       " ('228252737', 0.7620481927710844),\n",
       " ('254316467', 0.6407322654462243),\n",
       " ('37226353', 0.6018867924528302),\n",
       " ('54987976', 0.7272727272727273),\n",
       " ('80462161', 0.7043478260869566),\n",
       " ('85123028', 0.5675675675675675)]"
      ]
     },
     "execution_count": 16,
     "metadata": {},
     "output_type": "execute_result"
    }
   ],
   "source": [
    "[(u, recalls[u]) for u in uids_with_esa if u in recalls]"
   ]
  },
  {
   "cell_type": "code",
   "execution_count": 21,
   "metadata": {
    "collapsed": true
   },
   "outputs": [],
   "source": [
    "uid = 37226353"
   ]
  },
  {
   "cell_type": "code",
   "execution_count": 23,
   "metadata": {
    "collapsed": false
   },
   "outputs": [
    {
     "data": {
      "text/plain": [
       "array(<700x166227 sparse matrix of type '<type 'numpy.float64'>'\n",
       "\twith 64982986 stored elements in COOrdinate format>, dtype=object)"
      ]
     },
     "execution_count": 23,
     "metadata": {},
     "output_type": "execute_result"
    }
   ],
   "source": [
    "X_train_esa"
   ]
  },
  {
   "cell_type": "code",
   "execution_count": 25,
   "metadata": {
    "collapsed": false,
    "deletable": true,
    "editable": true
   },
   "outputs": [],
   "source": [
    "ds = load_esa_dataset(37226353) # el más bajo con datos significativos ( 85123028 tiene solo 00 ejemplos )"
   ]
  },
  {
   "cell_type": "code",
   "execution_count": 26,
   "metadata": {
    "collapsed": true,
    "deletable": true,
    "editable": true
   },
   "outputs": [],
   "source": [
    "X_train, X_test, y_train, y_test = ds"
   ]
  },
  {
   "cell_type": "code",
   "execution_count": null,
   "metadata": {
    "collapsed": false
   },
   "outputs": [
    {
     "name": "stdout",
     "output_type": "stream",
     "text": [
      "# Tuning hyper-parameters for recall\n",
      "\n"
     ]
    },
    {
     "name": "stderr",
     "output_type": "stream",
     "text": [
      "[INFO/PoolWorker-1] child process calling self.run()\n",
      "[INFO/PoolWorker-1] child process calling self.run()\n",
      "[INFO/PoolWorker-2] child process calling self.run()\n",
      "[INFO/PoolWorker-1] child process calling self.run()\n",
      "[INFO/PoolWorker-2] child process calling self.run()\n",
      "[INFO/PoolWorker-1] child process calling self.run()\n",
      "[INFO/PoolWorker-3] child process calling self.run()\n",
      "[INFO/PoolWorker-4] child process calling self.run()\n",
      "[INFO/PoolWorker-2] child process calling self.run()\n",
      "[INFO/PoolWorker-3] child process calling self.run()\n",
      "[INFO/PoolWorker-6] child process calling self.run()\n",
      "[INFO/PoolWorker-4] child process calling self.run()\n",
      "[INFO/PoolWorker-2] child process calling self.run()\n",
      "[INFO/PoolWorker-5] child process calling self.run()\n",
      "[INFO/PoolWorker-4] child process calling self.run()\n",
      "[INFO/PoolWorker-6] child process calling self.run()\n",
      "[INFO/PoolWorker-4] child process calling self.run()\n",
      "[INFO/PoolWorker-5] child process calling self.run()\n",
      "[INFO/PoolWorker-3] child process calling self.run()\n",
      "[INFO/PoolWorker-6] child process calling self.run()\n",
      "[INFO/PoolWorker-5] child process calling self.run()\n",
      "[INFO/PoolWorker-5] child process calling self.run()\n",
      "[INFO/PoolWorker-3] child process calling self.run()\n",
      "[INFO/PoolWorker-6] child process calling self.run()\n"
     ]
    }
   ],
   "source": [
    "model_select_rdf(ds)"
   ]
  },
  {
   "cell_type": "code",
   "execution_count": 28,
   "metadata": {
    "collapsed": true,
    "deletable": true,
    "editable": true
   },
   "outputs": [],
   "source": [
    "clf = RandomForestClassifier(class_weight='balanced')"
   ]
  },
  {
   "cell_type": "code",
   "execution_count": 29,
   "metadata": {
    "collapsed": false,
    "deletable": true,
    "editable": true
   },
   "outputs": [
    {
     "data": {
      "text/plain": [
       "RandomForestClassifier(bootstrap=True, class_weight='balanced',\n",
       "            criterion='gini', max_depth=None, max_features='auto',\n",
       "            max_leaf_nodes=None, min_impurity_split=1e-07,\n",
       "            min_samples_leaf=1, min_samples_split=2,\n",
       "            min_weight_fraction_leaf=0.0, n_estimators=10, n_jobs=1,\n",
       "            oob_score=False, random_state=None, verbose=0,\n",
       "            warm_start=False)"
      ]
     },
     "execution_count": 29,
     "metadata": {},
     "output_type": "execute_result"
    }
   ],
   "source": [
    "clf.fit(X_train, y_train)"
   ]
  },
  {
   "cell_type": "code",
   "execution_count": 30,
   "metadata": {
    "collapsed": false,
    "deletable": true,
    "editable": true
   },
   "outputs": [
    {
     "name": "stdout",
     "output_type": "stream",
     "text": [
      "Detailed classification report:\n",
      "\n",
      "Scores on training set.\n",
      "\n",
      "             precision    recall  f1-score   support\n",
      "\n",
      "        0.0       0.99      1.00      0.99       690\n",
      "        1.0       0.67      0.40      0.50        10\n",
      "\n",
      "avg / total       0.99      0.99      0.99       700\n",
      "\n",
      "Scores on test set.\n",
      "\n",
      "             precision    recall  f1-score   support\n",
      "\n",
      "        0.0       0.98      1.00      0.99       293\n",
      "        1.0       0.00      0.00      0.00         7\n",
      "\n",
      "avg / total       0.95      0.98      0.97       300\n",
      "\n"
     ]
    }
   ],
   "source": [
    "evaluate_model(clf, X_train, X_test, y_train, y_test)"
   ]
  }
 ],
 "metadata": {
  "kernelspec": {
   "display_name": "Python 2",
   "language": "python",
   "name": "python2"
  },
  "language_info": {
   "codemirror_mode": {
    "name": "ipython",
    "version": 2
   },
   "file_extension": ".py",
   "mimetype": "text/x-python",
   "name": "python",
   "nbconvert_exporter": "python",
   "pygments_lexer": "ipython2",
   "version": "2.7.12"
  }
 },
 "nbformat": 4,
 "nbformat_minor": 0
}
