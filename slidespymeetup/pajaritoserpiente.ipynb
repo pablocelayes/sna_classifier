{
 "cells": [
  {
   "cell_type": "markdown",
   "metadata": {
    "slideshow": {
     "slide_type": "slide"
    }
   },
   "source": [
    "# Córdoba Python Meetup  \n",
    "\n",
    "\n",
    "### Viernes 17 de marzo de 2017\n",
    "\n",
    "![](imgs/pajaritoserpiente.png)"
   ]
  },
  {
   "cell_type": "markdown",
   "metadata": {
    "slideshow": {
     "slide_type": "slide"
    }
   },
   "source": [
    "# Intro\n",
    "## Idea original\n",
    "\n",
    "![](imgs/cogfor.png)\n",
    "\n",
    "- Recomendador *personalizado* de artículos basado en contenido ( NLP )\n",
    "- Mejorarlo con información social ( de fuentes externas o relaciones *inferidas* ) \n",
    "- Preferencias de usuarios de Cogfor\n"
   ]
  },
  {
   "cell_type": "markdown",
   "metadata": {
    "slideshow": {
     "slide_type": "slide"
    }
   },
   "source": [
    "# Intro\n",
    "## Mutación\n",
    "\n",
    "- Set the datos propio ( usuarios, preferencias, conexiones ) \n",
    "- Predecir preferencias usando información social\n",
    "- Combinar con recomendación basada en contenido\n"
   ]
  },
  {
   "cell_type": "markdown",
   "metadata": {},
   "source": [
    "# Intro\n",
    "## Menú de hoy\n",
    "- Set the datos propio ( usuarios, preferencias, conexiones ) \n",
    "- Predecir preferencias usando información social\n",
    "- ~~Combinar con recomendación basada en contenido~~\n"
   ]
  },
  {
   "cell_type": "markdown",
   "metadata": {},
   "source": [
    "# Herramientas\n",
    "- ![](imgs/tweepy.png)\n",
    "- ![](imgs/sqlalchemy.png)\n",
    "- ![](imgs/sklearn.png)\n",
    "- ![](imgs/networkx.png)\n",
    "- ![](imgs/graphtool.png)\n",
    "- ![](imgs/jupyter.png)\n"
   ]
  },
  {
   "cell_type": "markdown",
   "metadata": {},
   "source": [
    "# Datos: Grafo social"
   ]
  },
  {
   "cell_type": "markdown",
   "metadata": {},
   "source": [
    "# Datos: Contenido"
   ]
  },
  {
   "cell_type": "markdown",
   "metadata": {},
   "source": [
    "# Experimento\n",
    "\n",
    "¿ Dado un usuario, cuanto puedo saber de sus preferencias sabiendo las de su entorno ?\n",
    "\n",
    "- *Preferencias* = retweets\n",
    "- *Entorno* = seguidos + seguidos-por-seguidos\n",
    "- *Usuarios* = más activos y más centrales"
   ]
  },
  {
   "cell_type": "markdown",
   "metadata": {},
   "source": [
    "# Resultados"
   ]
  },
  {
   "cell_type": "markdown",
   "metadata": {},
   "source": [
    "# Conclusiones"
   ]
  },
  {
   "cell_type": "markdown",
   "metadata": {},
   "source": [
    "# ¿Preguntas?\n",
    "\n",
    "![](imgs/twitter.png) @PCelayes\n",
    "\n"
   ]
  },
  {
   "cell_type": "code",
   "execution_count": null,
   "metadata": {
    "collapsed": true
   },
   "outputs": [],
   "source": []
  }
 ],
 "metadata": {
  "celltoolbar": "Slideshow",
  "kernelspec": {
   "display_name": "Python 2",
   "language": "python",
   "name": "python2"
  },
  "language_info": {
   "codemirror_mode": {
    "name": "ipython",
    "version": 2
   },
   "file_extension": ".py",
   "mimetype": "text/x-python",
   "name": "python",
   "nbconvert_exporter": "python",
   "pygments_lexer": "ipython2",
   "version": "2.7.11+"
  }
 },
 "nbformat": 4,
 "nbformat_minor": 0
}
