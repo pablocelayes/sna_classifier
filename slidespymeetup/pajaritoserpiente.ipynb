{
 "cells": [
  {
   "cell_type": "markdown",
   "metadata": {
    "slideshow": {
     "slide_type": "slide"
    }
   },
   "source": [
    "# Córdoba Python Meetup  \n",
    "\n",
    "\n",
    "### Viernes 17 de marzo de 2017\n",
    "\n",
    "![](imgs/pajaritoserpiente.png)"
   ]
  },
  {
   "cell_type": "markdown",
   "metadata": {
    "slideshow": {
     "slide_type": "slide"
    }
   },
   "source": [
    "# Intro\n",
    "## Idea original\n",
    "\n",
    "- Recomendador *personalizado* de artículos basado en contenido ( NLP )\n",
    "- Mejorarlo con información social ( de fuentes externas o relaciones *inferidas* ) \n",
    "- Preferencias de usuarios de Cogfor\n",
    "\n",
    "![](imgs/cogfor.png)"
   ]
  },
  {
   "cell_type": "markdown",
   "metadata": {
    "slideshow": {
     "slide_type": "slide"
    }
   },
   "source": [
    "# Intro\n",
    "## Mutación\n",
    "\n",
    "- Set the datos propio ( usuarios, preferencias, conexiones ) \n",
    "- Predecir preferencias usando información social\n",
    "- Combinar con recomendación basada en contenido\n"
   ]
  },
  {
   "cell_type": "markdown",
   "metadata": {
    "slideshow": {
     "slide_type": "slide"
    }
   },
   "source": [
    "# Intro\n",
    "## Menú de hoy\n",
    "- Set the datos propio ( usuarios, preferencias, conexiones ) \n",
    "- Predecir preferencias usando información social\n",
    "- ~~Combinar con recomendación basada en contenido~~\n"
   ]
  },
  {
   "cell_type": "markdown",
   "metadata": {
    "slideshow": {
     "slide_type": "slide"
    }
   },
   "source": [
    "# Herramientas\n",
    "![](imgs/tweepy.png)\n",
    "![](imgs/sqlalchemy.png)\n",
    "![](imgs/sklearn.png)\n",
    "![](imgs/networkx.png)\n",
    "![](imgs/graphtool.png)\n",
    "![](imgs/pandas.png)\n",
    "![](imgs/jupyter.png)\n"
   ]
  },
  {
   "cell_type": "markdown",
   "metadata": {
    "slideshow": {
     "slide_type": "slide"
    }
   },
   "source": [
    "# Datos: Grafo social\n",
    "\n",
    "- hasta 3 pasos de la relación **seguir** empezando de mí mismo\n",
    "- filtramos usuarios **relevantes** ( >40 seguidos/seguidores )\n",
    "- 3M usuarios\n",
    "- 10M conexiones\n"
   ]
  },
  {
   "cell_type": "markdown",
   "metadata": {
    "slideshow": {
     "slide_type": "slide"
    }
   },
   "source": [
    "# Datos: Contenido\n",
    "- Subgrafo:\n",
    "    - partimos de un conjunto pequeño de usuarios\n",
    "    - agregamos 50 *seguidos* más *afines* ( según *seguidos* en común )\n",
    "    - repetimos hasta que no hay nuevos\n",
    "- 5180 usuarios\n"
   ]
  },
  {
   "cell_type": "markdown",
   "metadata": {
    "slideshow": {
     "slide_type": "slide"
    }
   },
   "source": [
    "# Datos: Contenido\n",
    "\n",
    "- *timelines* de 2 meses (+ *retweets* y *favs*)\n",
    "- 2M tweets"
   ]
  },
  {
   "cell_type": "markdown",
   "metadata": {
    "slideshow": {
     "slide_type": "slide"
    }
   },
   "source": [
    "# Experimento\n",
    "\n",
    "¿ Dado un usuario, cuanto puedo saber de sus preferencias sabiendo las de su entorno ?\n",
    "\n",
    "- **Contenido** =  tweets en español\n",
    "- **Preferencias** = retweets\n",
    "- **Entorno** = seguidos + seguidos-por-seguidos\n",
    "- **Usuarios** = más activos y más centrales ( ~200 )\n",
    "- **Clasificador** = *RandomForest*\n"
   ]
  },
  {
   "cell_type": "code",
   "execution_count": 4,
   "metadata": {
    "collapsed": false,
    "slideshow": {
     "slide_type": "subslide"
    }
   },
   "outputs": [
    {
     "data": {
      "text/plain": [
       "(155904, 625)"
      ]
     },
     "execution_count": 4,
     "metadata": {},
     "output_type": "execute_result"
    }
   ],
   "source": [
    "from experiments.datasets import *\n",
    "uid = 228252737\n",
    "X_train, X_test, y_train, y_test = load_dataframe(uid)\n",
    "X_train.shape"
   ]
  },
  {
   "cell_type": "code",
   "execution_count": 5,
   "metadata": {
    "collapsed": false,
    "slideshow": {
     "slide_type": "subslide"
    }
   },
   "outputs": [
    {
     "data": {
      "text/html": [
       "<div style=\"max-height:1000px;max-width:1500px;overflow:auto;\">\n",
       "<table border=\"1\" class=\"dataframe\">\n",
       "  <thead>\n",
       "    <tr style=\"text-align: right;\">\n",
       "      <th></th>\n",
       "      <th>129102317</th>\n",
       "      <th>214242743</th>\n",
       "      <th>449712065</th>\n",
       "      <th>28631631</th>\n",
       "      <th>157227260</th>\n",
       "      <th>49846983</th>\n",
       "      <th>153932567</th>\n",
       "      <th>150067746</th>\n",
       "      <th>563863289</th>\n",
       "      <th>205088752</th>\n",
       "      <th>...</th>\n",
       "      <th>18430415</th>\n",
       "      <th>213261375</th>\n",
       "      <th>151299316</th>\n",
       "      <th>175914955</th>\n",
       "      <th>913020996</th>\n",
       "      <th>181331362</th>\n",
       "      <th>82088561</th>\n",
       "      <th>146054202</th>\n",
       "      <th>215872828</th>\n",
       "      <th>153169998</th>\n",
       "    </tr>\n",
       "  </thead>\n",
       "  <tbody>\n",
       "    <tr>\n",
       "      <th>638883041042145280</th>\n",
       "      <td> 0</td>\n",
       "      <td> 0</td>\n",
       "      <td> 0</td>\n",
       "      <td> 0</td>\n",
       "      <td> 0</td>\n",
       "      <td> 0</td>\n",
       "      <td> 0</td>\n",
       "      <td> 0</td>\n",
       "      <td> 0</td>\n",
       "      <td> 0</td>\n",
       "      <td>...</td>\n",
       "      <td> 0</td>\n",
       "      <td> 0</td>\n",
       "      <td> 0</td>\n",
       "      <td> 0</td>\n",
       "      <td> 0</td>\n",
       "      <td> 0</td>\n",
       "      <td> 0</td>\n",
       "      <td> 0</td>\n",
       "      <td> 0</td>\n",
       "      <td> 0</td>\n",
       "    </tr>\n",
       "    <tr>\n",
       "      <th>642016953385676802</th>\n",
       "      <td> 0</td>\n",
       "      <td> 0</td>\n",
       "      <td> 0</td>\n",
       "      <td> 0</td>\n",
       "      <td> 0</td>\n",
       "      <td> 0</td>\n",
       "      <td> 0</td>\n",
       "      <td> 0</td>\n",
       "      <td> 0</td>\n",
       "      <td> 0</td>\n",
       "      <td>...</td>\n",
       "      <td> 0</td>\n",
       "      <td> 0</td>\n",
       "      <td> 0</td>\n",
       "      <td> 0</td>\n",
       "      <td> 0</td>\n",
       "      <td> 0</td>\n",
       "      <td> 0</td>\n",
       "      <td> 0</td>\n",
       "      <td> 0</td>\n",
       "      <td> 0</td>\n",
       "    </tr>\n",
       "    <tr>\n",
       "      <th>636343628365963264</th>\n",
       "      <td> 0</td>\n",
       "      <td> 0</td>\n",
       "      <td> 0</td>\n",
       "      <td> 0</td>\n",
       "      <td> 0</td>\n",
       "      <td> 0</td>\n",
       "      <td> 0</td>\n",
       "      <td> 0</td>\n",
       "      <td> 0</td>\n",
       "      <td> 0</td>\n",
       "      <td>...</td>\n",
       "      <td> 0</td>\n",
       "      <td> 0</td>\n",
       "      <td> 0</td>\n",
       "      <td> 0</td>\n",
       "      <td> 0</td>\n",
       "      <td> 0</td>\n",
       "      <td> 0</td>\n",
       "      <td> 0</td>\n",
       "      <td> 0</td>\n",
       "      <td> 0</td>\n",
       "    </tr>\n",
       "    <tr>\n",
       "      <th>640971342804856836</th>\n",
       "      <td> 0</td>\n",
       "      <td> 0</td>\n",
       "      <td> 0</td>\n",
       "      <td> 0</td>\n",
       "      <td> 0</td>\n",
       "      <td> 0</td>\n",
       "      <td> 0</td>\n",
       "      <td> 0</td>\n",
       "      <td> 0</td>\n",
       "      <td> 0</td>\n",
       "      <td>...</td>\n",
       "      <td> 0</td>\n",
       "      <td> 0</td>\n",
       "      <td> 0</td>\n",
       "      <td> 0</td>\n",
       "      <td> 0</td>\n",
       "      <td> 0</td>\n",
       "      <td> 0</td>\n",
       "      <td> 0</td>\n",
       "      <td> 0</td>\n",
       "      <td> 0</td>\n",
       "    </tr>\n",
       "    <tr>\n",
       "      <th>637701998658367488</th>\n",
       "      <td> 0</td>\n",
       "      <td> 0</td>\n",
       "      <td> 0</td>\n",
       "      <td> 0</td>\n",
       "      <td> 0</td>\n",
       "      <td> 0</td>\n",
       "      <td> 0</td>\n",
       "      <td> 0</td>\n",
       "      <td> 0</td>\n",
       "      <td> 0</td>\n",
       "      <td>...</td>\n",
       "      <td> 0</td>\n",
       "      <td> 0</td>\n",
       "      <td> 0</td>\n",
       "      <td> 0</td>\n",
       "      <td> 0</td>\n",
       "      <td> 0</td>\n",
       "      <td> 0</td>\n",
       "      <td> 0</td>\n",
       "      <td> 0</td>\n",
       "      <td> 0</td>\n",
       "    </tr>\n",
       "  </tbody>\n",
       "</table>\n",
       "<p>5 rows × 625 columns</p>\n",
       "</div>"
      ],
      "text/plain": [
       "                    129102317  214242743  449712065  28631631   157227260  \\\n",
       "638883041042145280          0          0          0          0          0   \n",
       "642016953385676802          0          0          0          0          0   \n",
       "636343628365963264          0          0          0          0          0   \n",
       "640971342804856836          0          0          0          0          0   \n",
       "637701998658367488          0          0          0          0          0   \n",
       "\n",
       "                    49846983   153932567  150067746  563863289  205088752  \\\n",
       "638883041042145280          0          0          0          0          0   \n",
       "642016953385676802          0          0          0          0          0   \n",
       "636343628365963264          0          0          0          0          0   \n",
       "640971342804856836          0          0          0          0          0   \n",
       "637701998658367488          0          0          0          0          0   \n",
       "\n",
       "                      ...      18430415   213261375  151299316  175914955  \\\n",
       "638883041042145280    ...              0          0          0          0   \n",
       "642016953385676802    ...              0          0          0          0   \n",
       "636343628365963264    ...              0          0          0          0   \n",
       "640971342804856836    ...              0          0          0          0   \n",
       "637701998658367488    ...              0          0          0          0   \n",
       "\n",
       "                    913020996  181331362  82088561   146054202  215872828  \\\n",
       "638883041042145280          0          0          0          0          0   \n",
       "642016953385676802          0          0          0          0          0   \n",
       "636343628365963264          0          0          0          0          0   \n",
       "640971342804856836          0          0          0          0          0   \n",
       "637701998658367488          0          0          0          0          0   \n",
       "\n",
       "                    153169998  \n",
       "638883041042145280          0  \n",
       "642016953385676802          0  \n",
       "636343628365963264          0  \n",
       "640971342804856836          0  \n",
       "637701998658367488          0  \n",
       "\n",
       "[5 rows x 625 columns]"
      ]
     },
     "execution_count": 5,
     "metadata": {},
     "output_type": "execute_result"
    }
   ],
   "source": [
    "X_train.head()"
   ]
  },
  {
   "cell_type": "code",
   "execution_count": 10,
   "metadata": {
    "collapsed": false,
    "slideshow": {
     "slide_type": "subslide"
    }
   },
   "outputs": [
    {
     "data": {
      "text/plain": [
       "0.0017730603448275861"
      ]
     },
     "execution_count": 10,
     "metadata": {},
     "output_type": "execute_result"
    }
   ],
   "source": [
    "# Matrices bastante *ralas*\n",
    "X_train.sum().sum() / (X_train.shape[0] * X_train.shape[1])"
   ]
  },
  {
   "cell_type": "code",
   "execution_count": null,
   "metadata": {
    "collapsed": true,
    "slideshow": {
     "slide_type": "subslide"
    }
   },
   "outputs": [],
   "source": [
    "# Balanceando clases\n",
    "w1 = sum(y_train)/len(y_train)\n",
    "w0 = 1 - w1\n",
    "sample_weights = np.array([w0 if x==0 else w1 for x in y_train])\n",
    "\n",
    "# Entrenamos clasificador\n",
    "clf = RandomForestClassifier()     \n",
    "clf.fit(X_train, y_train, sample_weight=sample_weights)"
   ]
  },
  {
   "cell_type": "code",
   "execution_count": 12,
   "metadata": {
    "collapsed": false,
    "slideshow": {
     "slide_type": "subslide"
    }
   },
   "outputs": [
    {
     "name": "stdout",
     "output_type": "stream",
     "text": [
      "Detailed classification report:\n",
      "\n",
      "Scores on training set.\n",
      "\n",
      "             precision    recall  f1-score   support\n",
      "\n",
      "        0.0       1.00      1.00      1.00    154277\n",
      "        1.0       1.00      0.81      0.90      1627\n",
      "\n",
      "avg / total       1.00      1.00      1.00    155904\n",
      "\n",
      "Scores on test set.\n",
      "\n",
      "             precision    recall  f1-score   support\n",
      "\n",
      "        0.0       1.00      1.00      1.00     66153\n",
      "        1.0       0.96      0.76      0.85       664\n",
      "\n",
      "avg / total       1.00      1.00      1.00     66817\n",
      "\n"
     ]
    }
   ],
   "source": [
    "# Y evaluamos...\n",
    "from sklearn.metrics import classification_report\n",
    "def evaluate_model(clf, X_train, X_test, y_train, y_test):\n",
    "    y_true, y_pred = y_train, clf.predict(X_train)\n",
    "\n",
    "    print(\"Detailed classification report:\\n\")\n",
    "    print(\"Scores on training set.\\n\")\n",
    "    print(classification_report(y_true, y_pred))\n",
    "\n",
    "    y_true, y_pred = y_test, clf.predict(X_test)\n",
    "    print(\"Scores on test set.\\n\")\n",
    "    print(classification_report(y_true, y_pred))\n",
    "\n",
    "evaluate_model(clf, X_train, X_test, y_train, y_test)"
   ]
  },
  {
   "cell_type": "markdown",
   "metadata": {
    "slideshow": {
     "slide_type": "slide"
    }
   },
   "source": [
    "# ¿Qué pasó con los demás?\n",
    "\n",
    "- En general los mismos buenos resultados\n",
    "- El punto crucial es el *recall* de la clase positiva"
   ]
  },
  {
   "cell_type": "code",
   "execution_count": 15,
   "metadata": {
    "collapsed": true,
    "slideshow": {
     "slide_type": "subslide"
    }
   },
   "outputs": [],
   "source": [
    "import json\n",
    "with open('../experiments/_1_one_user_learn_neighbours/recalls_test_amb.json') as f:\n",
    "    recalls = json.load(f).values()"
   ]
  },
  {
   "cell_type": "code",
   "execution_count": 22,
   "metadata": {
    "collapsed": false,
    "slideshow": {
     "slide_type": "subslide"
    }
   },
   "outputs": [
    {
     "data": {
      "image/png": "[encoded data removed]",
      "text/plain": [
       "<matplotlib.figure.Figure at 0x7f2208effc10>"
      ]
     },
     "metadata": {},
     "output_type": "display_data"
    }
   ],
   "source": [
    "import matplotlib.pyplot as plt\n",
    "%matplotlib inline\n",
    "plt.boxplot(recalls)\n",
    "plt.show()"
   ]
  },
  {
   "cell_type": "markdown",
   "metadata": {
    "slideshow": {
     "slide_type": "slide"
    }
   },
   "source": [
    "# Próximos pasos\n",
    "\n",
    "- generalizar ( modelo que no dependa del usuario )\n",
    "- combinar con modelos basados en contenido\n",
    "- considerar temporalidad\n",
    "- multilingüe"
   ]
  },
  {
   "cell_type": "markdown",
   "metadata": {
    "slideshow": {
     "slide_type": "slide"
    }
   },
   "source": [
    "# ¿Preguntas?\n",
    "\n",
    "![](imgs/twitter.png) @PCelayes\n",
    "\n",
    "![](imgs/github.jpg) https://github.com/pablocelayes/sna_classifier\n",
    "\n"
   ]
  }
 ],
 "metadata": {
  "celltoolbar": "Slideshow",
  "kernelspec": {
   "display_name": "Python 2",
   "language": "python",
   "name": "python2"
  },
  "language_info": {
   "codemirror_mode": {
    "name": "ipython",
    "version": 2
   },
   "file_extension": ".py",
   "mimetype": "text/x-python",
   "name": "python",
   "nbconvert_exporter": "python",
   "pygments_lexer": "ipython2",
   "version": "2.7.11+"
  }
 },
 "nbformat": 4,
 "nbformat_minor": 0
}
