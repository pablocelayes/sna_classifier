{
 "cells": [
  {
   "cell_type": "markdown",
   "metadata": {
    "slideshow": {
     "slide_type": "slide"
    }
   },
   "source": [
    "![](imgs/miredtwitter_header2.png)  \n",
    "<center>\n",
    "<h1>\n",
    "Dime a quiénes sigues y te diré qué prefieres\n",
    "</h1>\n",
    "<h2>\n",
    "(SNA, ML y un poquito de NLP)\n",
    "</h2>\n",
    "<h3>Pablo Gabriel Celayes</h3>\n",
    "<h4>Domingo 19 de noviembre de 2017 - PyCon Argentina - Córdoba</h4>\n",
    "</center>"
   ]
  },
  {
   "cell_type": "markdown",
   "metadata": {
    "slideshow": {
     "slide_type": "slide"
    }
   },
   "source": [
    "# Resumen\n",
    "\n",
    "* Introducción\n",
    "\n",
    "* Herramientas\n",
    "\n",
    "* Set the datos\n",
    "\n",
    "* Predicción social\n",
    "\n",
    "* Agregando NLP\n"
   ]
  },
  {
   "cell_type": "markdown",
   "metadata": {
    "slideshow": {
     "slide_type": "slide"
    }
   },
   "source": [
    "# Introducción: ¿quién soy?\n",
    "\n",
    "* Lic. en Matemática (2006)\n",
    "\n",
    "* Lic. en Ciencias de la Computación (2017)\n",
    "\n",
    "* Full-stack Data Scientist Freelance\n",
    "\n",
    "* Profe de Programación III en ITSC Villa Libertador\n",
    "\n",
    "![](imgs/mitwitter.png)"
   ]
  },
  {
   "cell_type": "markdown",
   "metadata": {
    "slideshow": {
     "slide_type": "subslide"
    }
   },
   "source": [
    "# Introducción: ¿qué hice?\n",
    "\n",
    "## Idea original\n",
    "\n",
    "- Recomendador *personalizado* de artículos basado en contenido ( NLP )\n",
    "\n",
    "- Mejorarlo con información social ( de fuentes externas o relaciones *inferidas* ) \n",
    "\n",
    "- Datos explícitos sobre contenido visto y preferido por l@s usuari@s\n",
    "\n",
    "- **Producto**\n",
    "\n",
    "![](imgs/cogfor.png)"
   ]
  },
  {
   "cell_type": "markdown",
   "metadata": {
    "slideshow": {
     "slide_type": "subslide"
    }
   },
   "source": [
    "## Mutación\n",
    "\n",
    "- Set the datos propio ( usuarios, preferencias, conexiones ) \n",
    "\n",
    "- Comenzar con predicción social de preferencias.\n",
    "\n",
    "- Mejorar predicciones analizando el contenido.\n",
    "\n",
    "- **Experimento**"
   ]
  },
  {
   "cell_type": "markdown",
   "metadata": {
    "slideshow": {
     "slide_type": "slide"
    }
   },
   "source": [
    "# Herramientas\n",
    "\n",
    "## Datos\n",
    "\n",
    "![](imgs/tweepy.png)\n",
    "\n",
    "![](imgs/sqlalchemy.png)"
   ]
  },
  {
   "cell_type": "markdown",
   "metadata": {
    "slideshow": {
     "slide_type": "subslide"
    }
   },
   "source": [
    "## Grafos\n",
    "\n",
    "![](imgs/networkx.png)\n",
    "\n",
    "![](imgs/graphtool.png)"
   ]
  },
  {
   "cell_type": "markdown",
   "metadata": {
    "slideshow": {
     "slide_type": "subslide"
    }
   },
   "source": [
    "## Análisis\n",
    "\n",
    "![](imgs/numpy.png)\n",
    "\n",
    "![](imgs/pandas.png)\n",
    "\n",
    "![](imgs/jupyter.png)"
   ]
  },
  {
   "cell_type": "markdown",
   "metadata": {
    "slideshow": {
     "slide_type": "subslide"
    }
   },
   "source": [
    "## ML\n",
    "\n",
    "![](imgs/sklearn.png)\n",
    "\n",
    "## NLP\n",
    "\n",
    "![](imgs/nltk.png)\n",
    "\n",
    "![](imgs/gensim.png)\n",
    "\n",
    "![](imgs/twitterLDA.png)"
   ]
  },
  {
   "cell_type": "markdown",
   "metadata": {
    "slideshow": {
     "slide_type": "subslide"
    }
   },
   "source": [
    "## Visualización\n",
    "\n",
    "![](imgs/bokeh.png)\n",
    "\n",
    "![](imgs/gephi_small.png)\n",
    "\n",
    "![](imgs/pyldavis.png)\n"
   ]
  },
  {
   "cell_type": "markdown",
   "metadata": {
    "slideshow": {
     "slide_type": "slide"
    }
   },
   "source": [
    "# Datos: Grafo social\n",
    "\n",
    "- hasta 3 pasos de la relación $\\texttt{seguir}$ empezando de mí mismo\n",
    "\n",
    "- filtramos usuarios **relevantes** ( >40 seguidos/seguidores )\n",
    "\n",
    "- ~3M usuarios\n",
    "\n",
    "- ~10M conexiones\n"
   ]
  },
  {
   "cell_type": "markdown",
   "metadata": {
    "slideshow": {
     "slide_type": "subslide"
    }
   },
   "source": [
    "***Primer paso...***\n",
    "\n",
    "( no sería una charla de redes sociales sin un dibujito de estos )\n",
    "\n",
    "![](imgs/miredtwitter.png)\n"
   ]
  },
  {
   "cell_type": "markdown",
   "metadata": {
    "slideshow": {
     "slide_type": "subslide"
    }
   },
   "source": [
    "# Datos: Contenido\n",
    "\n",
    "- Subgrafo $G$:\n",
    "\n",
    "    - Construcción:\n",
    "    \n",
    "        - partimos de un conjunto pequeño de usuarios\n",
    "        \n",
    "        - agregamos 50 *seguidos* más *afines* (según *seguidos* comunes)\n",
    "        \n",
    "        - repetimos hasta que no hay nuevos\n",
    "    \n",
    "    - Resultado:\n",
    "        \n",
    "        - 5180 usuarios\n",
    "        \n",
    "        - ~230k conexiones"
   ]
  },
  {
   "cell_type": "markdown",
   "metadata": {
    "slideshow": {
     "slide_type": "subslide"
    }
   },
   "source": [
    "# Datos: Contenido\n",
    "\n",
    "- Tweets:\n",
    "\n",
    "    - *timelines* entre 25/8/2015 y 24/9/2015 (+ *retweets* y *favs*)\n",
    "    \n",
    "    - 2M tweets ( 1,6M en castellano )"
   ]
  },
  {
   "cell_type": "markdown",
   "metadata": {
    "slideshow": {
     "slide_type": "slide"
    }
   },
   "source": [
    "# Predicción social\n",
    "\n",
    "¿ Dado un usuario $u$, cuánto puedo saber del **contenido** que **prefiere** sabiendo lo que prefieren los usuarios de su **entorno** social ?\n",
    "\n",
    "- **Contenido** =  tweets en español _\"visibles\"_ ( $T_u$ )\n",
    "\n",
    "- **Preferencias** = retweets\n",
    "\n",
    "- **Entorno** = seguidos + seguidos-por-seguidos ( $E_u$ )\n"
   ]
  },
  {
   "cell_type": "markdown",
   "metadata": {
    "slideshow": {
     "slide_type": "subslide"
    }
   },
   "source": [
    "## Tweets visibles\n",
    "\n",
    "* Compartidos por $u$ o sus seguidos\n",
    "\n",
    "* Excluímos los _escritos_ por $u$\n",
    "\n",
    "* máximo $10000$ ( submuestra de negativos si es necesario )"
   ]
  },
  {
   "cell_type": "markdown",
   "metadata": {
    "slideshow": {
     "slide_type": "subslide"
    }
   },
   "source": [
    "## Selección de usuari@s\n",
    "\n",
    "* Entrenar y evaluar modelos es caro\n",
    "\n",
    "* Soy vago y quería hacer todo en mi laptop\n",
    "\n",
    "* Así que elegimos a quiénes analizar:\n",
    "\n",
    "    * $A$ = $1000$ más *activos* (cant. de tweets)\n",
    "    \n",
    "    * $I$ = $1000$ más *importantes* (centralidad de Katz)\n",
    "    \n",
    "    * Los afortunados: $A \\cap I$ ($194$ usuari@s)\n"
   ]
  },
  {
   "cell_type": "markdown",
   "metadata": {
    "slideshow": {
     "slide_type": "subslide"
    }
   },
   "source": [
    "## Extracción de _features_\n",
    "\n",
    "* $E_u = \\{u_1, u_2, \\ldots , u_n \\}$ \n",
    "\n",
    "* $T_u = \\{ t_1, \\ldots, t_m \\}$\n",
    "\n",
    "$$\n",
    "  M_u := [ \\verb|tweet_en_tl|(t_i, u_j) ]_{\\substack{ 1 \\leq i \\leq m \\\\ 1 \\leq j \\leq n}}  \n",
    "$$\n",
    "\n",
    "\n",
    "$$\n",
    "  y_u := [ \\texttt{tweet_en_tl}(t_i, u) ]_{ 1 \\leq i \\leq m }  \n",
    "$$\n",
    "\n"
   ]
  },
  {
   "cell_type": "markdown",
   "metadata": {
    "slideshow": {
     "slide_type": "subslide"
    }
   },
   "source": [
    "## Problema de clasificación\n",
    "\n",
    "* Predecir $y_u$ en base a filas de $M_u$\n",
    "\n",
    "* Particionado:\n",
    "\n",
    "    * $70\\%$ entrenamiento ($M^{en}_u, y^{en}_u$)\n",
    "    \n",
    "    * $10\\%$ ajuste ($M^{aj}_u, y^{aj}_u$)\n",
    "    \n",
    "    * $20\\%$ evaluación ($M^{ev}_u, y^{ev}_u$)"
   ]
  },
  {
   "cell_type": "markdown",
   "metadata": {
    "slideshow": {
     "slide_type": "subslide"
    }
   },
   "source": [
    "## Support Vector Machines\n",
    "\n",
    "* Objetivo: **maximizar** margen y **minimizar** errores\n",
    "\n",
    "* Funciones *kernel* permiten encontrar fronteras **no lineales**:\n",
    "    \n",
    "    * *Radial Basis Function*\n",
    "    \n",
    "    * Polinómico\n",
    "\n",
    "![](imgs/svm_linsep_err.png)\n",
    "\n"
   ]
  },
  {
   "cell_type": "markdown",
   "metadata": {
    "slideshow": {
     "slide_type": "subslide"
    }
   },
   "source": [
    "## Calidad de clasificación\n",
    "\n",
    "$$\\texttt{precision} := \\frac{|\\{x_i | f(x_i) = 1 \\text{ y } y_i = 1 \\}|}{|\\{x_i | f(x_i) = 1 \\}|}$$\n",
    "\n",
    "$$ $$\n",
    "\n",
    "$$\\texttt{recall} := \\frac{|\\{x_i | f(x_i) = 1 \\text{ y } y_i = 1 \\}|}{|\\{x_i | y_i = 1 \\}|}$$\n",
    "\n",
    "$$ $$\n",
    "\n",
    "$$\\texttt{F1} := \\frac{2}{\\frac{1}{\\texttt{precision}} + \\frac{1}{\\texttt{recall}}} = \\frac{2 * \\texttt{precision} * \\texttt{recall} }{\\texttt{precision} + \\texttt{recall}}$$\n",
    "\n"
   ]
  },
  {
   "cell_type": "markdown",
   "metadata": {
    "slideshow": {
     "slide_type": "subslide"
    }
   },
   "source": [
    "## Ajuste de hiper-parámetros\n",
    "\n",
    "* Búsqueda exhaustiva $\\verb|GridSearchCV|$\n",
    "\n",
    "* Validación cruzada en $3$ partes\n",
    "\n",
    "* Objetivo: maximizar $F1$\n",
    "\n",
    "* Grilla:\n",
    "```\n",
    "{\n",
    "    \"C\": [ 0.01, 0.1, 1 ],\n",
    "    \"class_weight\": [ \"balanced\", None ], \n",
    "    \"gamma\": [ 0.1, 1, 10 ],\n",
    "    \"kernel\": [ \"rbf\", \"poly\" ]\n",
    "}\n",
    "```\n",
    "    * ```C```: controla balance entre margen y errores\n",
    "    * ```class_weight```: ¿dar más importancia a clase minoritaria?\n",
    "    * ```gamma```: forma de la frontera de decisión"
   ]
  },
  {
   "cell_type": "markdown",
   "metadata": {
    "slideshow": {
     "slide_type": "subslide"
    }
   },
   "source": [
    "## Resultados\n",
    "\n",
    "* $F1$ promedio sobre $M^{ev}_u$ =  $87,7 \\%$\n",
    "\n",
    "![](imgs/f1s_social_valid.png)"
   ]
  },
  {
   "cell_type": "markdown",
   "metadata": {
    "slideshow": {
     "slide_type": "subslide"
    }
   },
   "source": [
    "# *¡Y sin tener en cuenta el contenido!*\n",
    "\n",
    "\n",
    "\n",
    "![](imgs/robot2.png)"
   ]
  },
  {
   "cell_type": "markdown",
   "metadata": {
    "slideshow": {
     "slide_type": "slide"
    }
   },
   "source": [
    "# Agregando NLP...\n",
    "\n",
    "![](imgs/robotlee.jpg)"
   ]
  },
  {
   "cell_type": "markdown",
   "metadata": {
    "collapsed": true,
    "slideshow": {
     "slide_type": "subslide"
    }
   },
   "source": [
    "## Seguimos recortando...\n",
    "\n",
    "* $F1 < 0,75$ en $M^{aj}_u$ ( $27$ usuarios )\n",
    "\n",
    "* $10$ usuarios más (al azar)"
   ]
  },
  {
   "cell_type": "markdown",
   "metadata": {
    "collapsed": true,
    "slideshow": {
     "slide_type": "subslide"
    }
   },
   "source": [
    "## Pre-procesamiento\n",
    "\n",
    "- Normalización\n",
    "\n",
    "- Tokenizado\n",
    "\n",
    "- Diccionario\n",
    "\n",
    "- *Bag of words*\n",
    "\n",
    "- LDA\n"
   ]
  },
  {
   "cell_type": "markdown",
   "metadata": {
    "collapsed": true,
    "slideshow": {
     "slide_type": "subslide"
    }
   },
   "source": [
    "## Normalización\n",
    "- quitar URLs\n",
    "- minúscula\n",
    "- quitar acentos\n",
    "- contraer repeticiones de vocales y espacios\n",
    "\n",
    "![](imgs/normalize.png)"
   ]
  },
  {
   "cell_type": "markdown",
   "metadata": {
    "collapsed": true,
    "slideshow": {
     "slide_type": "subslide"
    }
   },
   "source": [
    "## Tokenizado\n",
    "\n",
    "- partir en palabras\n",
    "\n",
    "- remover puntuación\n",
    "\n",
    "- _stemming_\n",
    "\n",
    "- remover palabras de 1 caracter\n",
    "\n",
    "![](imgs/tokenize.png)"
   ]
  },
  {
   "cell_type": "markdown",
   "metadata": {
    "collapsed": true,
    "slideshow": {
     "slide_type": "subslide"
    }
   },
   "source": [
    "## Diccionario\n",
    "\n",
    "* Todo $T$ tokenizado. (**!!**)\n",
    "\n",
    "* Significativas ( en al menos $100$ tweets ).\n",
    "\n",
    "* Informativas ( en a lo sumo el $30\\%$ de los tweets ).\n",
    "\n",
    "* Diccionario $D$ de ~11K términos.\n",
    "\n"
   ]
  },
  {
   "cell_type": "markdown",
   "metadata": {
    "slideshow": {
     "slide_type": "subslide"
    }
   },
   "source": [
    "## *Bag of words*\n",
    "\n",
    "- Texto $t$:  $\\rightarrow$ multiconjunto (*bag*) de las palabras en $t$.\n",
    "\n",
    "- No importa el orden, pero sí repeticiones.\n",
    "\n",
    "- En tweets ( $\\leq 140$ caracteres ), en general son *conjuntos* ( $0$ o $1$ ocurrencia).\n",
    "\n",
    "- $D = \\{ t_1, \\ldots, t_{11000} \\}$ : $\\rightarrow$ vector de _features_ enteras (booleanas):\n",
    "\n",
    "$$ v_{BOT}(tweet) = [count(t_i, tokens(tweet))]_{i=1}^{11000} $$\n",
    "\n",
    "- $v_{BOT}(tweet)$ se representa ralo (*sparse*)\n"
   ]
  },
  {
   "cell_type": "markdown",
   "metadata": {
    "slideshow": {
     "slide_type": "subslide"
    }
   },
   "source": [
    "## LDA\n",
    "\n",
    "* Descubre temas subyacentes en colecciones de textos\n",
    "    \n",
    "    * Tema: distribución de probabilidad de términos\n",
    "\n",
    "* Permite asignar _scores_ por tema a cada documento ( tweet )\n",
    "\n",
    "* Reducción de dimensionalidad ( espacio de *palabras* en $D$ a espacio de *temas* )\n"
   ]
  },
  {
   "cell_type": "markdown",
   "metadata": {
    "slideshow": {
     "slide_type": "subslide"
    }
   },
   "source": [
    "### Ejemplo: LDA 10 temas\n",
    "\n",
    "![](imgs/lda10.png)"
   ]
  },
  {
   "cell_type": "markdown",
   "metadata": {
    "slideshow": {
     "slide_type": "subslide"
    }
   },
   "source": [
    "## Twitter-LDA\n",
    "\n",
    "- Problema: tweets son cortos y normalmente hablan de un único tema \n",
    "\n",
    "- Adaptaciones:\n",
    "\n",
    "    - Agrupar por usuario\n",
    "    \n",
    "    - Asignar un tema por tweet"
   ]
  },
  {
   "cell_type": "markdown",
   "metadata": {
    "slideshow": {
     "slide_type": "subslide"
    }
   },
   "source": [
    "## Evaluando sobre $M_u^{ev}$\n",
    "\n",
    "![](imgs/f1s_social_vs_socialldas.png)\n"
   ]
  },
  {
   "cell_type": "markdown",
   "metadata": {
    "slideshow": {
     "slide_type": "subslide"
    }
   },
   "source": [
    "* Mejor modelo: $\\texttt{TwitterLDA10}$ ( mejora media de $1,7\\%$)\n",
    "\n",
    "* Por ahora agregar NLP no mejora mucho\n",
    "\n",
    "* Muchos casos mejoran en *train* pero decaen en *test* (*overfitting*)"
   ]
  },
  {
   "cell_type": "markdown",
   "metadata": {
    "slideshow": {
     "slide_type": "slide"
    }
   },
   "source": [
    "# ¿Cómo sigue?\n",
    "\n",
    "- Resolver overfitting en caso Social+NLP\n",
    "\n",
    "- Considerar temporalidad\n",
    "\n",
    "- ¡Más _features_ !\n",
    "\n",
    "- Generalizar ( modelo que no dependa de un usuario central fijo )\n",
    "\n",
    "- _Retweeteabilidad_ en comunidades ( en progreso )\n",
    "\n",
    "- ¿_word embeddings_?\n"
   ]
  },
  {
   "cell_type": "markdown",
   "metadata": {
    "slideshow": {
     "slide_type": "slide"
    }
   },
   "source": [
    "# ¡Gracias!\n",
    "\n",
    "\n",
    "**Código** https://github.com/pablocelayes/sna_classifier/tree/micai_datos2015\n",
    "\n",
    "\n",
    "**Tesis (Castellano)** https://www.dropbox.com/preview/Public/tesisSNA.pdf\n",
    "\n",
    "\n",
    "**Paper (Inglés)** https://www.dropbox.com/preview/Public/retweet_prediction_micai_2017.pdf\n",
    "\n",
    "\n",
    "**Twitter**: @PCelayes"
   ]
  }
 ],
 "metadata": {
  "celltoolbar": "Slideshow",
  "kernelspec": {
   "display_name": "Python 2",
   "language": "python",
   "name": "python2"
  },
  "language_info": {
   "codemirror_mode": {
    "name": "ipython",
    "version": 2
   },
   "file_extension": ".py",
   "mimetype": "text/x-python",
   "name": "python",
   "nbconvert_exporter": "python",
   "pygments_lexer": "ipython2",
   "version": "2.7.11+"
  }
 },
 "nbformat": 4,
 "nbformat_minor": 0
}
