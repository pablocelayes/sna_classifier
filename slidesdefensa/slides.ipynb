{
 "cells": [
  {
   "cell_type": "markdown",
   "metadata": {
    "slideshow": {
     "slide_type": "slide"
    }
   },
   "source": [
    "![](imgs/miredtwitter_header2.png)  \n",
    "<center>\n",
    "<h1>\n",
    "Recomendación de Información Basada en<br />\n",
    "Análisis de Redes Sociales<br />\n",
    "y Procesamiento de Lenguaje Natural\n",
    "</h1>\n",
    "<h2>Trabajo Final de la Licenciatura en Ciencias de la Computación</h2>\n",
    "<h3>Pablo Gabriel Celayes</h3>\n",
    "<h4>Martes 30 de mayo de 2017</h4>\n",
    "</center>"
   ]
  },
  {
   "cell_type": "markdown",
   "metadata": {
    "slideshow": {
     "slide_type": "slide"
    }
   },
   "source": [
    "# Resumen\n",
    "\n",
    "* Introducción\n",
    "\n",
    "* Herramientas teóricas (SVM, LDA)\n",
    "\n",
    "* Herramientas técnicas\n",
    "\n",
    "* Datos\n",
    "\n",
    "* Predicción social\n",
    "\n",
    "* Agregando PLN\n",
    "\n",
    "* Conclusiones"
   ]
  },
  {
   "cell_type": "markdown",
   "metadata": {
    "slideshow": {
     "slide_type": "slide"
    }
   },
   "source": [
    "# Introducción\n",
    "## Idea original\n",
    "\n",
    "- Recomendador *personalizado* de artículos basado en contenido ( NLP )\n",
    "- Mejorarlo con información social ( de fuentes externas o relaciones *inferidas* ) \n",
    "- Preferencias de usuarios de Cogfor\n",
    "\n",
    "![](imgs/cogfor.png)"
   ]
  },
  {
   "cell_type": "markdown",
   "metadata": {
    "slideshow": {
     "slide_type": "subslide"
    }
   },
   "source": [
    "## Mutación\n",
    "\n",
    "- Set the datos propio ( usuarios, preferencias, conexiones ) \n",
    "- Predecir preferencias usando información social\n",
    "- Combinar con recomendación basada en contenido\n"
   ]
  },
  {
   "cell_type": "markdown",
   "metadata": {
    "slideshow": {
     "slide_type": "slide"
    }
   },
   "source": [
    "# Herramientas Teóricas: SVM\n"
   ]
  },
  {
   "cell_type": "code",
   "execution_count": null,
   "metadata": {
    "collapsed": true,
    "slideshow": {
     "slide_type": "subslide"
    }
   },
   "outputs": [],
   "source": []
  },
  {
   "cell_type": "code",
   "execution_count": null,
   "metadata": {
    "collapsed": true,
    "slideshow": {
     "slide_type": "subslide"
    }
   },
   "outputs": [],
   "source": []
  },
  {
   "cell_type": "code",
   "execution_count": null,
   "metadata": {
    "collapsed": true,
    "slideshow": {
     "slide_type": "subslide"
    }
   },
   "outputs": [],
   "source": []
  },
  {
   "cell_type": "markdown",
   "metadata": {
    "slideshow": {
     "slide_type": "slide"
    }
   },
   "source": [
    "# Herramientas Teóricas: LDA\n"
   ]
  },
  {
   "cell_type": "code",
   "execution_count": null,
   "metadata": {
    "collapsed": true,
    "slideshow": {
     "slide_type": "subslide"
    }
   },
   "outputs": [],
   "source": []
  },
  {
   "cell_type": "code",
   "execution_count": null,
   "metadata": {
    "collapsed": true,
    "slideshow": {
     "slide_type": "subslide"
    }
   },
   "outputs": [],
   "source": []
  },
  {
   "cell_type": "code",
   "execution_count": null,
   "metadata": {
    "collapsed": true,
    "slideshow": {
     "slide_type": "subslide"
    }
   },
   "outputs": [],
   "source": []
  },
  {
   "cell_type": "markdown",
   "metadata": {
    "slideshow": {
     "slide_type": "slide"
    }
   },
   "source": [
    "# Herramientas Técnicas\n",
    "\n",
    "## Datos\n",
    "![](imgs/tweepy.png)\n",
    "![](imgs/sqlalchemy.png)\n",
    "\n",
    "## Grafos\n",
    "![](imgs/networkx.png)\n",
    "![](imgs/graphtool.png)"
   ]
  },
  {
   "cell_type": "markdown",
   "metadata": {
    "slideshow": {
     "slide_type": "subslide"
    }
   },
   "source": [
    "## Análisis\n",
    "![](imgs/numpy.png)\n",
    "![](imgs/pandas.png)\n",
    "![](imgs/jupyter.png)\n",
    "\n",
    "## ML + PLN\n",
    "![](imgs/sklearn.png)\n",
    "![](imgs/nltk.png)\n",
    "![](imgs/gensim.png)"
   ]
  },
  {
   "cell_type": "markdown",
   "metadata": {
    "slideshow": {
     "slide_type": "subslide"
    }
   },
   "source": [
    "## Visualización\n",
    "![](imgs/bokeh.png)\n",
    "![](imgs/gephi_small.png)"
   ]
  },
  {
   "cell_type": "markdown",
   "metadata": {
    "slideshow": {
     "slide_type": "slide"
    }
   },
   "source": [
    "# Datos: Grafo social\n",
    "\n",
    "- Todos los usuarios que sigo en Twitter\n",
    "- relación $\\texttt{seguir}$ entre ellos\n",
    "- $1213$ nodos-usuarios\n",
    "- $40489$ aristas-relaciones "
   ]
  },
  {
   "cell_type": "markdown",
   "metadata": {
    "slideshow": {
     "slide_type": "subslide"
    }
   },
   "source": [
    "![](imgs/miredtwitter.png)\n"
   ]
  },
  {
   "cell_type": "markdown",
   "metadata": {
    "slideshow": {
     "slide_type": "subslide"
    }
   },
   "source": [
    "# Datos: Contenido\n",
    "\n",
    "- *timelines* entre 18/3/2017 y 17/4/2017 (+ *retweets* y *favs*)\n",
    "- $163173$ tweets totales.\n",
    "- $109040$ en español\n"
   ]
  },
  {
   "cell_type": "markdown",
   "metadata": {
    "slideshow": {
     "slide_type": "slide"
    }
   },
   "source": [
    "# Predicción social\n",
    "\n",
    "¿ Dado un usuario, cuanto puedo saber de sus preferencias sabiendo las de su entorno ?\n",
    "\n",
    "- **Contenido** =  tweets en español\n",
    "- **Preferencias** = retweets\n",
    "- **Entorno** = seguidos + seguidos-por-seguidos\n",
    "- **Usuarios** = más activos y más centrales ( ~200 )\n",
    "- **Clasificador** = *Support Vector Machines*\n"
   ]
  },
  {
   "cell_type": "markdown",
   "metadata": {
    "slideshow": {
     "slide_type": "subslide"
    }
   },
   "source": []
  },
  {
   "cell_type": "markdown",
   "metadata": {
    "slideshow": {
     "slide_type": "subslide"
    }
   },
   "source": []
  },
  {
   "cell_type": "markdown",
   "metadata": {
    "slideshow": {
     "slide_type": "subslide"
    }
   },
   "source": []
  },
  {
   "cell_type": "markdown",
   "metadata": {
    "slideshow": {
     "slide_type": "subslide"
    }
   },
   "source": []
  },
  {
   "cell_type": "markdown",
   "metadata": {
    "slideshow": {
     "slide_type": "subslide"
    }
   },
   "source": []
  },
  {
   "cell_type": "markdown",
   "metadata": {
    "slideshow": {
     "slide_type": "subslide"
    }
   },
   "source": [
    "$F1$ promedio $0,84$\n",
    "\n",
    "# TODO: poner cuartiles de F1\n",
    "![](imgs/f1svalidsocial.png)"
   ]
  },
  {
   "cell_type": "markdown",
   "metadata": {
    "slideshow": {
     "slide_type": "slide"
    }
   },
   "source": [
    "# Agregando PLN\n"
   ]
  },
  {
   "cell_type": "markdown",
   "metadata": {
    "collapsed": true,
    "slideshow": {
     "slide_type": "subslide"
    }
   },
   "source": [
    "## Selección de usuarios\n",
    "\n",
    "* $F1 < 0,75$ en $M^{aj}_u$ ( $23$ usuarios )\n",
    "\n",
    "* $10$ usuarios más (al azar)"
   ]
  },
  {
   "cell_type": "markdown",
   "metadata": {
    "collapsed": true,
    "slideshow": {
     "slide_type": "subslide"
    }
   },
   "source": [
    "## Pre-procesamiento\n",
    "\n",
    "- Normalización\n",
    "- Tokenizado\n",
    "- Extracción de frases\n",
    "- Diccionario de términos\n",
    "- *Bag of terms*\n",
    "- LDA\n"
   ]
  },
  {
   "cell_type": "code",
   "execution_count": null,
   "metadata": {
    "collapsed": true,
    "slideshow": {
     "slide_type": "subslide"
    }
   },
   "outputs": [],
   "source": [
    "## Normalización"
   ]
  },
  {
   "cell_type": "code",
   "execution_count": null,
   "metadata": {
    "collapsed": true,
    "slideshow": {
     "slide_type": "subslide"
    }
   },
   "outputs": [],
   "source": [
    "## Tokenizado"
   ]
  },
  {
   "cell_type": "markdown",
   "metadata": {
    "slideshow": {
     "slide_type": "subslide"
    }
   },
   "source": [
    "## Extracción de frases\n",
    "\n",
    "2 pasadas del $Phraser$ de $gensim$\n",
    "\n",
    "Se corrió este algoritmo sobre el corpus completo $T$ previamente tokenizado, ignorando\n",
    "todas las palabras y frases que ocurren menos de $min\\_count = 5$ veces y tomando como frases relevantes\n",
    "aquellos bigramas $a b$ tales que:\n",
    "\n",
    "$$ \\frac{(cnt(a, b) - min\\_count) * N}{cnt(a) * cnt(b)} > 10 $$\n",
    "\n",
    "\n",
    "![](imgs/frases.png)\n"
   ]
  },
  {
   "cell_type": "code",
   "execution_count": null,
   "metadata": {
    "collapsed": true,
    "slideshow": {
     "slide_type": "subslide"
    }
   },
   "outputs": [],
   "source": [
    "## Diccionario de términos"
   ]
  },
  {
   "cell_type": "markdown",
   "metadata": {
    "slideshow": {
     "slide_type": "subslide"
    }
   },
   "source": [
    "## *Bag of terms*\n",
    "\n",
    "- Texto $t$:  $\\rightarrow$ multiconjunto (*bag*) de los términos en $t$.\n",
    "- No importa el orden, pero sí repeticiones.\n",
    "- En tweets ( $\\leq 140$ caracteres ), en general son *conjuntos* ( $0$ o $1$ ocurrencia).\n",
    "- Diccionario fijo $D = \\{ t_1, \\ldots, t_{26201} \\}$ : $\\rightarrow$ vector de características enteras (booleanas):\n",
    "\n",
    "$$ v_{BOT}(tweet) = [count(t_i, tokens(tweet))]_{i=1}^{26201} $$\n",
    "\n",
    "- $v_{BOT}$ se representa ralo (*sparse*):\n",
    "\n",
    "![](imgs/bagofterms.png)\n"
   ]
  },
  {
   "cell_type": "markdown",
   "metadata": {
    "slideshow": {
     "slide_type": "subslide"
    }
   },
   "source": [
    "## LDA\n",
    "\n",
    "![](imgs/lda10.png)\n"
   ]
  },
  {
   "cell_type": "markdown",
   "metadata": {
    "collapsed": true,
    "slideshow": {
     "slide_type": "subslide"
    }
   },
   "source": [
    "# Clasi\u001c",
    "ficación social + PLN\n",
    "\n",
    "![](imgs/f1lda_eval.png)\n"
   ]
  },
  {
   "cell_type": "markdown",
   "metadata": {
    "collapsed": true,
    "slideshow": {
     "slide_type": "subslide"
    }
   },
   "source": [
    "## Sobreajuste\n",
    "![](imgs/f1lda_train.png)\n"
   ]
  },
  {
   "cell_type": "markdown",
   "metadata": {
    "collapsed": true,
    "slideshow": {
     "slide_type": "subslide"
    }
   },
   "source": [
    "## Discretizando...\n",
    "![](imgs/f1ldabool_eval.png)\n"
   ]
  },
  {
   "cell_type": "markdown",
   "metadata": {
    "collapsed": true,
    "slideshow": {
     "slide_type": "subslide"
    }
   },
   "source": [
    "![](imgs/f1ldabool_train.png)\n"
   ]
  },
  {
   "cell_type": "markdown",
   "metadata": {
    "slideshow": {
     "slide_type": "slide"
    }
   },
   "source": [
    "# Conclusiones\n",
    "\n",
    "* Predicción social pura mejor de lo esperado\n",
    "* LDA mejora casos flojos, pero hay que resolver sobreajuste\n",
    "* Twitter es muy buena fuente de datos"
   ]
  },
  {
   "cell_type": "markdown",
   "metadata": {
    "slideshow": {
     "slide_type": "subslide"
    }
   },
   "source": [
    "# Próximos pasos\n",
    "\n",
    "- Reducir sobreajuste\n",
    "- Características adicionales\n",
    "- Considerar temporalidad\n",
    "- Generalizar ( modelo que no dependa del usuario )\n"
   ]
  },
  {
   "cell_type": "markdown",
   "metadata": {
    "slideshow": {
     "slide_type": "slide"
    }
   },
   "source": [
    "# ¿Preguntas?\n",
    "\n",
    "![](imgs/twitter.png) @PCelayes\n",
    "\n",
    "![](imgs/github.jpg) https://github.com/pablocelayes/sna_classifier\n",
    "\n"
   ]
  }
 ],
 "metadata": {
  "celltoolbar": "Slideshow",
  "kernelspec": {
   "display_name": "Python 2",
   "language": "python",
   "name": "python2"
  },
  "language_info": {
   "codemirror_mode": {
    "name": "ipython",
    "version": 2
   },
   "file_extension": ".py",
   "mimetype": "text/x-python",
   "name": "python",
   "nbconvert_exporter": "python",
   "pygments_lexer": "ipython2",
   "version": "2.7.11+"
  }
 },
 "nbformat": 4,
 "nbformat_minor": 0
}
