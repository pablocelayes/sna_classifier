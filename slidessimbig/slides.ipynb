{
 "cells": [
  {
   "cell_type": "markdown",
   "metadata": {
    "slideshow": {
     "slide_type": "slide"
    }
   },
   "source": [
    "![](imgs/miredtwitter_header2.png)  \n",
    "<center>\n",
    "<h1>\n",
    "<strike>Prediciendo</strike> Adivinando preferencias (individuales)\n",
    "<br />y tendencias (masivas) en Twitter\n",
    "</h1>\n",
    "<h2>\n",
    "(SNA, ML y algo de NLP)\n",
    "</h2>\n",
    "<h3>Pablo Gabriel Celayes</h3>\n",
    "<h4>Miércoles 22 de agosto de 2018 - Seminario Machín Lenin</h4>\n",
    "</center>"
   ]
  },
  {
   "cell_type": "markdown",
   "metadata": {
    "slideshow": {
     "slide_type": "slide"
    }
   },
   "source": [
    "# Resumen\n",
    "\n",
    "* Introduction (why and what we do?)\n",
    "\n",
    "* Dataset (where?)\n",
    "\n",
    "* Prediction (how?)\n",
    "\n",
    "* Results previous work\n",
    "\n",
    "* Results actual work\n"
   ]
  },
  {
   "cell_type": "markdown",
   "metadata": {
    "slideshow": {
     "slide_type": "slide"
    }
   },
   "source": [
    "# Introduction: ¿quién soy?\n",
    "\n",
    "* Lic. en Matemática (2006)\n",
    "\n",
    "* Lic. en Ciencias de la Computación (2017)\n",
    "\n",
    "* AI Engineer @Genesys ( desde 2017 )\n",
    "\n",
    "* Dev / Data Scientist Freelance @Upwork ( desde 2013 )\n",
    "\n",
    "![](imgs/miredtwitter.png)"
   ]
  },
  {
   "cell_type": "markdown",
   "metadata": {
    "slideshow": {
     "slide_type": "subslide"
    }
   },
   "source": [
    "# Introducción: ¿quiénes somos?\n",
    "\n",
    "![](imgs/equipo.png)"
   ]
  },
  {
   "cell_type": "markdown",
   "metadata": {
    "slideshow": {
     "slide_type": "subslide"
    }
   },
   "source": [
    "# Introducción: cómo empezamos\n",
    "\n",
    "## Idea original\n",
    "\n",
    "- Recomendador *personalizado* de artículos basado en contenido ( NLP )\n",
    "\n",
    "- Mejorarlo con información social ( de fuentes externas o relaciones *inferidas* ) \n",
    "\n",
    "- Datos explícitos sobre contenido visto y preferido por l@s usuari@s\n",
    "\n",
    "- **Producto**\n",
    "\n",
    "![](imgs/cogfor.png)"
   ]
  },
  {
   "cell_type": "markdown",
   "metadata": {
    "slideshow": {
     "slide_type": "subslide"
    }
   },
   "source": [
    "## Mutación\n",
    "\n",
    "- Set the datos propio ( usuarios, preferencias, conexiones )\n",
    "\n",
    "- Comenzar con predicción social de preferencias.\n",
    "\n",
    "- Mejorar predicciones analizando el contenido.\n",
    "\n",
    "- **Experimento**\n",
    "\n",
    "## Evolución\n",
    "\n",
    "- Deteccion de influencers.\n",
    "\n",
    "- Modelo generalizado para predecir sobre toda la población tendencia, no solo si un usuario lo retweeteará basado en el comportamiento de los influencers.\n",
    "\n",
    "- Mejora del modelo evaluando el contenido.\n",
    "\n",
    "- **Experimento**"
   ]
  },
  {
   "cell_type": "markdown",
   "metadata": {
    "slideshow": {
     "slide_type": "slide"
    }
   },
   "source": [
    "# (TODO) Datos: Grafo social \n",
    "- hasta 3 pasos de la relación $\\texttt{seguir}$ empezando de mí mismo\n",
    "\n",
    "- filtramos usuarios **relevantes** ( >40 seguidos/seguidores )\n",
    "\n",
    "- ~3K usuarios\n",
    "\n",
    "- ~10K conexiones\n",
    "\n",
    "- Usuarios Generales: $U_G$ | Usuarios Influencers: $U_I$"
   ]
  },
  {
   "cell_type": "markdown",
   "metadata": {
    "slideshow": {
     "slide_type": "subslide"
    }
   },
   "source": [
    "# (TODO) Datos: Contenido\n",
    "\n",
    "- Subgrafo $G$:\n",
    "\n",
    "    - Construcción:\n",
    "    \n",
    "        - partimos de un conjunto pequeño de usuarios\n",
    "        \n",
    "        - agregamos 50 *seguidos* más *afines* (según *seguidos* comunes)\n",
    "        \n",
    "        - repetimos hasta que no hay nuevos\n",
    "    \n",
    "    - Resultado:\n",
    "        \n",
    "        - 5180 usuarios\n",
    "        \n",
    "        - ~230k conexiones"
   ]
  },
  {
   "cell_type": "markdown",
   "metadata": {
    "slideshow": {
     "slide_type": "subslide"
    }
   },
   "source": [
    "# (TODO) Datos: Contenido\n",
    "- Tweets:\n",
    "\n",
    "    - *timelines* entre 25/8/2015 y 24/9/2015 (+ *retweets* y *favs*)\n",
    "    \n",
    "    - 2M tweets ( 1,6M en castellano )"
   ]
  },
  {
   "cell_type": "markdown",
   "metadata": {
    "slideshow": {
     "slide_type": "slide"
    }
   },
   "source": [
    "# Predicción social\n",
    "\n",
    "¿ Dado un tweet $t$, cuánto puedo saber de la **popularidad** que tiene en la población sabiendo la **aceptacion** que tuvo frente a los **referentes** ?\n",
    "\n",
    "- **Popularidad**: medida heurisitica (percentil 90 del histograma de retweets de los tweets) que determina que un tweet es popular en nuestro dataset\n",
    "\n",
    "- **Aceptacion**: si lo twiteo o no\n",
    "\n",
    "- **Referentes**: aquellos nodos con influencia notable ya sea por su *centralidad* o *actividad* \n"
   ]
  },
  {
   "cell_type": "markdown",
   "metadata": {
    "slideshow": {
     "slide_type": "subslide"
    }
   },
   "source": [
    "## Tweets visibles\n",
    "\n",
    "* Escritos en español\n",
    "\n",
    "* Solo tweets de usuarios generales $U_G$.\n",
    "\n",
    "* Mas de 3 retweets"
   ]
  },
  {
   "cell_type": "markdown",
   "metadata": {
    "slideshow": {
     "slide_type": "subslide"
    }
   },
   "source": [
    "## (TODO) Detección de influencers\n",
    "\n"
   ]
  },
  {
   "cell_type": "markdown",
   "metadata": {
    "slideshow": {
     "slide_type": "subslide"
    }
   },
   "source": [
    "## (TODO) Extracción de _features_ social\n",
    "\n",
    "* $E_u = \\{u_1, u_2, \\ldots , u_n \\}$ \n",
    "\n",
    "* $T_u = \\{ t_1, \\ldots, t_m \\}$\n",
    "\n",
    "$$\n",
    "  M_u := [ \\verb|tweet_en_tl|(t_i, u_j) ]_{\\substack{ 1 \\leq i \\leq m \\\\ 1 \\leq j \\leq n}}  \n",
    "$$\n",
    "\n",
    "\n",
    "$$\n",
    "  y_u := [ \\texttt{tweet_en_tl}(t_i, u) ]_{ 1 \\leq i \\leq m }  \n",
    "$$\n",
    "\n"
   ]
  },
  {
   "cell_type": "markdown",
   "metadata": {
    "slideshow": {
     "slide_type": "subslide"
    }
   },
   "source": [
    "## (TO_DEL) Problema de clasificación\n",
    "\n",
    "* Predecir $y_u$ en base a filas de $M_u$\n",
    "\n",
    "* Particionado:\n",
    "\n",
    "    * $70\\%$ entrenamiento ($M^{en}_u, y^{en}_u$)\n",
    "    \n",
    "    * $10\\%$ ajuste ($M^{aj}_u, y^{aj}_u$)\n",
    "    \n",
    "    * $20\\%$ evaluación ($M^{ev}_u, y^{ev}_u$)"
   ]
  },
  {
   "cell_type": "markdown",
   "metadata": {
    "slideshow": {
     "slide_type": "subslide"
    }
   },
   "source": [
    "## (TO_DEL) Support Vector Machines\n",
    "\n",
    "* Objetivo: **maximizar** margen y **minimizar** errores\n",
    "\n",
    "* Funciones *kernel* permiten encontrar fronteras **no lineales**:\n",
    "    \n",
    "    * *Radial Basis Function*\n",
    "    \n",
    "    * Polinómico\n",
    "\n",
    "![](imgs/svm_linsep_err.png)\n",
    "\n"
   ]
  },
  {
   "cell_type": "markdown",
   "metadata": {
    "slideshow": {
     "slide_type": "subslide"
    }
   },
   "source": [
    "## (TO_DEL) Calidad de clasificación\n",
    "\n",
    "$$\\texttt{precision} := \\frac{|\\{x_i | f(x_i) = 1 \\text{ y } y_i = 1 \\}|}{|\\{x_i | f(x_i) = 1 \\}|}$$\n",
    "\n",
    "$$ $$\n",
    "\n",
    "$$\\texttt{recall} := \\frac{|\\{x_i | f(x_i) = 1 \\text{ y } y_i = 1 \\}|}{|\\{x_i | y_i = 1 \\}|}$$\n",
    "\n",
    "$$ $$\n",
    "\n",
    "$$\\texttt{F1} := \\frac{2}{\\frac{1}{\\texttt{precision}} + \\frac{1}{\\texttt{recall}}} = \\frac{2 * \\texttt{precision} * \\texttt{recall} }{\\texttt{precision} + \\texttt{recall}}$$\n",
    "\n"
   ]
  },
  {
   "cell_type": "markdown",
   "metadata": {
    "slideshow": {
     "slide_type": "subslide"
    }
   },
   "source": [
    "## (TODO) Ajuste de hiper-parámetros\n",
    "\n",
    "* Búsqueda exhaustiva $\\verb|GridSearchCV|$\n",
    "\n",
    "* Validación cruzada en $3$ partes\n",
    "\n",
    "* Objetivo: maximizar $F1$\n",
    "\n",
    "* Grilla:\n",
    "```\n",
    "{\n",
    "    \"C\": [ 0.01, 0.1, 1 ],\n",
    "    \"class_weight\": [ \"balanced\", None ], \n",
    "    \"gamma\": [ 0.1, 1, 10 ],\n",
    "    \"kernel\": [ \"rbf\", \"poly\" ]\n",
    "}\n",
    "```\n",
    "    * ```C```: controla balance entre margen y errores\n",
    "    * ```class_weight```: ¿dar más importancia a clase minoritaria?\n",
    "    * ```gamma```: forma de la frontera de decisión"
   ]
  },
  {
   "cell_type": "markdown",
   "metadata": {
    "slideshow": {
     "slide_type": "subslide"
    }
   },
   "source": [
    "## (TO_DEL) Resultados experimento predecesor\n",
    "\n",
    "* $F1$ promedio sobre $M^{ev}_u$ =  $87,7 \\%$\n",
    "\n",
    "![](imgs/f1s_social_valid.png)"
   ]
  },
  {
   "cell_type": "markdown",
   "metadata": {
    "slideshow": {
     "slide_type": "subslide"
    }
   },
   "source": [
    "# (TO_DEL) *¡Y sin tener en cuenta el contenido!*\n",
    "\n",
    "\n",
    "\n",
    "![](imgs/robot2.png)"
   ]
  },
  {
   "cell_type": "markdown",
   "metadata": {
    "slideshow": {
     "slide_type": "slide"
    }
   },
   "source": [
    "# Agregando NLP...\n",
    "\n",
    "![](imgs/robotlee.jpg)"
   ]
  },
  {
   "cell_type": "markdown",
   "metadata": {
    "collapsed": true,
    "slideshow": {
     "slide_type": "subslide"
    }
   },
   "source": [
    "## Preprocesamiento\n",
    "\n",
    "- Normalización\n",
    "\n",
    "- Tokenizado\n",
    "\n",
    "- LDA\n",
    "\n",
    "- FastText (word embeddings)\n"
   ]
  },
  {
   "cell_type": "markdown",
   "metadata": {
    "slideshow": {
     "slide_type": "subslide"
    }
   },
   "source": [
    "## (TODO) Extracción de _features_ social + contenido\n",
    "\n",
    "* $E_u = \\{u_1, u_2, \\ldots , u_n \\}$ \n",
    "\n",
    "* $T_u = \\{ t_1, \\ldots, t_m \\}$\n",
    "\n",
    "$$\n",
    "  M_u := [ \\verb|tweet_en_tl|(t_i, u_j) ]_{\\substack{ 1 \\leq i \\leq m \\\\ 1 \\leq j \\leq n}}  \n",
    "$$\n",
    "\n",
    "\n",
    "$$\n",
    "  y_u := [ \\texttt{tweet_en_tl}(t_i, u) ]_{ 1 \\leq i \\leq m }  \n",
    "$$\n",
    "\n"
   ]
  },
  {
   "cell_type": "markdown",
   "metadata": {
    "collapsed": true,
    "slideshow": {
     "slide_type": "subslide"
    }
   },
   "source": [
    "## Normalización\n",
    "- quitar URLs y numeros\n",
    "- minúscula\n",
    "- remover acentos\n"
   ]
  },
  {
   "cell_type": "markdown",
   "metadata": {
    "collapsed": true,
    "slideshow": {
     "slide_type": "subslide"
    }
   },
   "source": [
    "## Tokenizado\n",
    "\n",
    "- partir en palabras\n",
    "\n",
    "- remover puntuación\n",
    "\n",
    "- __lemmatization__\n"
   ]
  },
  {
   "cell_type": "markdown",
   "metadata": {
    "slideshow": {
     "slide_type": "subslide"
    }
   },
   "source": [
    "## LDA\n",
    "\n",
    "* Descubre temas subyacentes en colecciones de textos\n",
    "    \n",
    "    * Tema: distribución de probabilidad de términos\n",
    "\n",
    "* Permite asignar _scores_ por tema a cada documento ( tweet )\n",
    "\n",
    "* Reducción de dimensionalidad ( espacio de *palabras* en $D$ a espacio de *temas* )\n"
   ]
  },
  {
   "cell_type": "markdown",
   "metadata": {
    "slideshow": {
     "slide_type": "subslide"
    }
   },
   "source": [
    "### Ejemplo: LDA 10 temas\n",
    "\n",
    "![](imgs/lda10.png)"
   ]
  },
  {
   "cell_type": "markdown",
   "metadata": {
    "slideshow": {
     "slide_type": "subslide"
    }
   },
   "source": [
    "## Twitter-LDA\n",
    "\n",
    "- Problema: tweets son cortos y normalmente hablan de un único tema \n",
    "\n",
    "- Adaptaciones:\n",
    "\n",
    "    - Agrupar por usuario\n",
    "    \n",
    "    - Asignar un tema por tweet"
   ]
  },
  {
   "cell_type": "markdown",
   "metadata": {
    "slideshow": {
     "slide_type": "subslide"
    }
   },
   "source": [
    "## Resultados sobre $M_u^{ev}$ en experimento predecesor\n",
    "\n",
    "![](imgs/f1s_social_vs_socialldas.png)\n"
   ]
  },
  {
   "cell_type": "markdown",
   "metadata": {
    "slideshow": {
     "slide_type": "subslide"
    }
   },
   "source": [
    "* Mejor modelo: $\\texttt{TwitterLDA10}$ ( mejora media de $1,7\\%$)\n",
    "\n",
    "* Por ahora agregar NLP no mejora mucho\n",
    "\n",
    "* Muchos casos mejoran en *train* pero decaen en *test* (*overfitting*)"
   ]
  },
  {
   "cell_type": "markdown",
   "metadata": {
    "slideshow": {
     "slide_type": "slide"
    }
   },
   "source": [
    "# Resultados predicción de popularidad\n"
   ]
  },
  {
   "cell_type": "markdown",
   "metadata": {
    "slideshow": {
     "slide_type": "subslide"
    }
   },
   "source": [
    "![](imgs/popularidad_f1s.png)"
   ]
  },
  {
   "cell_type": "markdown",
   "metadata": {},
   "source": [
    "- Agregar imagen de dataset del paper\n",
    "- Agregar FastText ejemplo del paper"
   ]
  },
  {
   "cell_type": "markdown",
   "metadata": {
    "slideshow": {
     "slide_type": "slide"
    }
   },
   "source": [
    "# ¿Cómo sigue?\n",
    "\n",
    "- Considerar temporalidad, estudiar predicción temprana ( en progreso )\n",
    "\n",
    "- Resolver overfitting en caso Social+NLP de predicción individual\n",
    "\n",
    "- Generalizar ( modelo que no dependa de un usuario central fijo )\n",
    "\n",
    "- ¡Más _features_ !\n",
    "\n",
    "- ~~Instalar/voltear un gobierno vía Twitter~~ Profundizar el entendimiento de los procesos de formación de opinión y difusión de ideas en redes sociales"
   ]
  },
  {
   "cell_type": "markdown",
   "metadata": {
    "slideshow": {
     "slide_type": "slide"
    }
   },
   "source": [
    "# ¡Gracias!\n",
    "\n",
    "\n",
    "**Código** https://github.com/pablocelayes/sna_classifier/tree/micai_datos2015\n",
    "\n",
    "\n",
    "**Tesis mía** https://www.dropbox.com/preview/Public/tesisSNA.pdf\n",
    "\n",
    "**Tesis Matías Silva** https://drive.google.com/open?id=0BzBYYQ4vKWhgTlVvWUpJSmU3VEU4QkgtYWFWMG41czB5bkJN\n",
    "\n",
    "**Paper** https://www.dropbox.com/preview/Public/retweet_prediction_micai_2017.pdf\n",
    "\n",
    "\n",
    "**Twitter**: @PCelayes"
   ]
  }
 ],
 "metadata": {
  "celltoolbar": "Slideshow",
  "kernelspec": {
   "display_name": "Python 3",
   "language": "python",
   "name": "python3"
  },
  "language_info": {
   "codemirror_mode": {
    "name": "ipython",
    "version": 3
   },
   "file_extension": ".py",
   "mimetype": "text/x-python",
   "name": "python",
   "nbconvert_exporter": "python",
   "pygments_lexer": "ipython3",
   "version": "3.5.4"
  }
 },
 "nbformat": 4,
 "nbformat_minor": 1
}
