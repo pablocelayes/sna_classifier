{
 "cells": [
  {
   "cell_type": "markdown",
   "metadata": {
    "slideshow": {
     "slide_type": "slide"
    }
   },
   "source": [
    "![](imgs/miredtwitter_header2.png)  \n",
    "<center>\n",
    "<h1>\n",
    "TODO<strike>Prediciendo</strike> Adivinando preferencias (individuales)\n",
    "<br />y tendencias (masivas) en Twitter\n",
    "</h1>\n",
    "<h2>\n",
    "(SNA, ML y algo de NLP)\n",
    "</h2>\n",
    "<h3>Pablo Gabriel Celayes</h3>\n",
    "<h4>Miércoles 22 de agosto de 2018 - Seminario Machín Lenin</h4>\n",
    "</center>"
   ]
  },
  {
   "cell_type": "markdown",
   "metadata": {
    "slideshow": {
     "slide_type": "slide"
    }
   },
   "source": [
    "# Resumen\n",
    "\n",
    "* Introduction (why and what we do?)\n",
    "\n",
    "* Dataset (where?)\n",
    "\n",
    "* Prediction (how?)\n",
    "\n",
    "* Results previous work\n",
    "\n",
    "* Results actual work\n"
   ]
  },
  {
   "cell_type": "markdown",
   "metadata": {
    "slideshow": {
     "slide_type": "subslide"
    }
   },
   "source": [
    "# Introducción: cómo empezamos\n",
    "\n",
    "## Idea original\n",
    "\n",
    "- Recomendador *personalizado* de artículos basado en contenido ( NLP )\n",
    "\n",
    "- Mejorarlo con información social ( de fuentes externas o relaciones *inferidas* ) \n",
    "\n",
    "- Datos explícitos sobre contenido visto y preferido por l@s usuari@s\n"
   ]
  },
  {
   "cell_type": "markdown",
   "metadata": {
    "slideshow": {
     "slide_type": "subslide"
    }
   },
   "source": [
    "## Punto de partida (predecesor)\n",
    "\n",
    "- Set the datos propio ( usuarios, preferencias, conexiones )\n",
    "\n",
    "- Comenzar con predicción social de preferencias.\n",
    "\n",
    "- Mejorar predicciones analizando el contenido.\n",
    "\n",
    "\n",
    "## Evolución (esta entrega)\n",
    "\n",
    "- Deteccion de influencers.\n",
    "\n",
    "- Modelo generalizado para predecir sobre toda la población tendencias, no solo si un usuario lo retweeteará basado en el comportamiento de los influencers.\n",
    "\n",
    "- Mejora del modelo evaluando el contenido.\n"
   ]
  },
  {
   "cell_type": "markdown",
   "metadata": {
    "slideshow": {
     "slide_type": "slide"
    }
   },
   "source": [
    "# Datos: Grafo social (_$G$)\n",
    "- hasta 3 pasos de la relación $\\texttt{seguir}$ empezando de mí mismo\n",
    "\n",
    "- filtramos usuarios **relevantes** ( >40 seguidos/seguidores )\n",
    "\n",
    "- ~3M usuarios\n",
    "\n",
    "- ~10M conexiones\n",
    "\n",
    "\n",
    "- Subgrafo _$G$:\n",
    "\n",
    "    - Construcción:\n",
    "    \n",
    "        - partimos de un conjunto pequeño de usuarios\n",
    "        \n",
    "        - agregamos 50 *seguidos* más *afines* (según *seguidos* comunes)\n",
    "        \n",
    "        - repetimos hasta que no hay nuevos\n",
    "    \n",
    "    - Resultado:\n",
    "        \n",
    "        - 5,180 usuarios\n",
    "        \n",
    "        - ~230k conexiones"
   ]
  },
  {
   "cell_type": "markdown",
   "metadata": {
    "slideshow": {
     "slide_type": "subslide"
    }
   },
   "source": [
    "# Datos: Grafo social ($U_I, U_G \\subset G$ )\n",
    "\n",
    "- Separamos de todo anáalisis los usuarios de _$G$ inactivos (< 10 RT) quedando un grafo $G$ resultante de 3626 usuarios\n",
    "\n",
    "- Partimos el dataset $G$ entonces en 2 secciones\n",
    "    - $U_I$: 25% mejor rankeado de $G$ segun medidas de **centralidad** y **actividad** que se utilizaran como features en la caracterización de una muestra. El contenido de este subconjunto será omitido tanto para entrenamiento como para evaluación. \n",
    "    - $U_G$: 75% restante de $G$. El contenido de estos usuarios $T_G$ será nuestro real dataset de partida."
   ]
  },
  {
   "cell_type": "markdown",
   "metadata": {
    "slideshow": {
     "slide_type": "subslide"
    }
   },
   "source": [
    "# Datos: Contenido ($T_G$ train/test , $ T_{SI} $)\n",
    "- Tweets($T$):\n",
    "    - *timelines* between March 2016 and February 2017 (+ *retweets*)\n",
    "    - 3.8M spanish written\n",
    "\n",
    "- Tweets visibles($T_G$):\n",
    "    - Escritos en español\n",
    "    - Solo tweets de usuarios generales $U_G$.\n",
    "    - Mas de 3 retweets\n",
    "    \n",
    "- Aislamos un subconjunto $T_{SI}$ de 500 tweets provenientes de $T_G$ para comparar la performance de parametros del algoritmo de deteccion de influencers. Estos tweets fueron removidos del experimento tanto en la etapa de entrenamiento como en la evaluación.\n"
   ]
  },
  {
   "cell_type": "markdown",
   "metadata": {
    "slideshow": {
     "slide_type": "subslide"
    }
   },
   "source": [
    "![](imgs/58_dataset.png)"
   ]
  },
  {
   "cell_type": "markdown",
   "metadata": {
    "slideshow": {
     "slide_type": "slide"
    }
   },
   "source": [
    "# Predicción social\n",
    "\n",
    "¿ Dado un tweet $t$, cuánto puedo saber de la **popularidad** que tiene en la población sabiendo la **aceptacion** que tuvo frente a los **referentes** ?\n",
    "\n",
    "- **Popularidad**: medida heurisitica (percentil 90 del histograma de retweets de los tweets) que determina que un tweet es popular en nuestro dataset\n",
    "\n",
    "- **Aceptacion**: si lo twiteo o no\n",
    "\n",
    "- **Referentes**: aquellos nodos con influencia notable ya sea por su *centralidad* o *actividad* \n"
   ]
  },
  {
   "cell_type": "markdown",
   "metadata": {
    "slideshow": {
     "slide_type": "subslide"
    }
   },
   "source": [
    "##  Detección de influencers\n",
    "- Centrality\n",
    "    - PageRank\n",
    "    - Betweenness\n",
    "    - closeness\n",
    "    - Eigen-vector centrality\n",
    "    - Eccentricity \n",
    "- Activity \n",
    "    - number of tweets\n",
    "    - number of retweets\n",
    "\n",
    "To decide the best option to rank users as influencers, we compared different weighted combinations of centrality and activity measures $α ∗ Centrality + (1 − Activity)$\n",
    "\n",
    "![](imgs/58_influence-alternatives_fixed.png)"
   ]
  },
  {
   "cell_type": "markdown",
   "metadata": {
    "slideshow": {
     "slide_type": "subslide"
    }
   },
   "source": [
    "## Extracción de _features_ social \n",
    "![](imgs/58_social-features.png)\n",
    "![](imgs/58_social-classification.png)"
   ]
  },
  {
   "cell_type": "markdown",
   "metadata": {
    "slideshow": {
     "slide_type": "slide"
    }
   },
   "source": [
    "# Agregando NLP...\n",
    "\n",
    "![](imgs/robotlee.jpg)"
   ]
  },
  {
   "cell_type": "markdown",
   "metadata": {
    "collapsed": true,
    "slideshow": {
     "slide_type": "subslide"
    }
   },
   "source": [
    "## Preprocesamiento\n",
    "\n",
    "- Normalización\n",
    "\n",
    "- Tokenizado\n",
    "\n",
    "- LDA\n",
    "\n",
    "- FastText (word embeddings)\n"
   ]
  },
  {
   "cell_type": "markdown",
   "metadata": {
    "slideshow": {
     "slide_type": "subslide"
    }
   },
   "source": [
    "## Extracción de _features_ social + contenido\n"
   ]
  },
  {
   "cell_type": "markdown",
   "metadata": {
    "collapsed": true,
    "slideshow": {
     "slide_type": "subslide"
    }
   },
   "source": [
    "## Normalización\n",
    "- quitar URLs y numeros\n",
    "- minúscula\n",
    "- remover acentos\n"
   ]
  },
  {
   "cell_type": "markdown",
   "metadata": {
    "collapsed": true,
    "slideshow": {
     "slide_type": "subslide"
    }
   },
   "source": [
    "## Tokenizado\n",
    "\n",
    "- partir en palabras\n",
    "\n",
    "- remover puntuación\n",
    "\n",
    "- __lemmatization__\n"
   ]
  },
  {
   "cell_type": "markdown",
   "metadata": {
    "slideshow": {
     "slide_type": "subslide"
    }
   },
   "source": [
    "## LDA\n",
    "\n",
    "* Descubre temas subyacentes en colecciones de textos\n",
    "    \n",
    "    * Tema: distribución de probabilidad de términos\n",
    "\n",
    "* Permite asignar _scores_ por tema a cada documento ( tweet )\n",
    "\n",
    "* Reducción de dimensionalidad ( espacio de *palabras* en $D$ a espacio de *temas* )\n"
   ]
  },
  {
   "cell_type": "markdown",
   "metadata": {
    "slideshow": {
     "slide_type": "subslide"
    }
   },
   "source": [
    "### Ejemplo: LDA 10 temas\n",
    "\n",
    "![](imgs/lda10.png)"
   ]
  },
  {
   "cell_type": "markdown",
   "metadata": {
    "slideshow": {
     "slide_type": "subslide"
    }
   },
   "source": [
    "## Twitter-LDA\n",
    "\n",
    "- Problema: tweets son cortos y normalmente hablan de un único tema \n",
    "\n",
    "- Adaptaciones:\n",
    "\n",
    "    - Agrupar por usuario\n",
    "    \n",
    "    - Asignar un tema por tweet\n",
    "    \n",
    "![](imgs/58_lda-topics-fixed.png)"
   ]
  },
  {
   "cell_type": "markdown",
   "metadata": {},
   "source": [
    "## Fast Text\n",
    "- Alternativa a Word2vec\n",
    "- We use a pre-trained model of 100 dimensions\n",
    "- Similaridad por palabra y oracion\n",
    "![](imgs/58_clusterwds-fixed.png)"
   ]
  },
  {
   "cell_type": "markdown",
   "metadata": {
    "slideshow": {
     "slide_type": "subslide"
    }
   },
   "source": [
    "## Resultados sobre $M_u^{ev}$ en experimento predecesor\n",
    "\n",
    "![](imgs/f1s_social_vs_socialldas.png)\n"
   ]
  },
  {
   "cell_type": "markdown",
   "metadata": {
    "slideshow": {
     "slide_type": "subslide"
    }
   },
   "source": [
    "* Mejor modelo: $\\texttt{TwitterLDA10}$ ( mejora media de $1,7\\%$)\n",
    "\n",
    "* Por ahora agregar NLP no mejora mucho\n",
    "\n",
    "* Muchos casos mejoran en *train* pero decaen en *test* (*overfitting*)"
   ]
  },
  {
   "cell_type": "markdown",
   "metadata": {
    "slideshow": {
     "slide_type": "slide"
    }
   },
   "source": [
    "# Resultados predicción de popularidad\n"
   ]
  },
  {
   "cell_type": "markdown",
   "metadata": {
    "slideshow": {
     "slide_type": "subslide"
    }
   },
   "source": [
    "![](imgs/popularidad_f1s.png)"
   ]
  },
  {
   "cell_type": "markdown",
   "metadata": {
    "slideshow": {
     "slide_type": "slide"
    }
   },
   "source": [
    "# ¿Cómo sigue?\n",
    "\n",
    "- Considerar temporalidad, estudiar predicción temprana ( en progreso )\n",
    "\n",
    "- Resolver overfitting en caso Social+NLP de predicción individual\n",
    "\n",
    "- Generalizar ( modelo que no dependa de un usuario central fijo )\n",
    "\n",
    "- ¡Más _features_ !\n",
    "\n",
    "- ~~Instalar/voltear un gobierno vía Twitter~~ Profundizar el entendimiento de los procesos de formación de opinión y difusión de ideas en redes sociales"
   ]
  },
  {
   "cell_type": "markdown",
   "metadata": {
    "slideshow": {
     "slide_type": "slide"
    }
   },
   "source": [
    "# ¡Gracias!\n",
    "\n",
    "\n",
    "**Código** https://github.com/pablocelayes/sna_classifier/tree/micai_datos2015\n",
    "\n",
    "\n",
    "**Tesis mía** https://www.dropbox.com/preview/Public/tesisSNA.pdf\n",
    "\n",
    "**Tesis Matías Silva** https://drive.google.com/open?id=0BzBYYQ4vKWhgTlVvWUpJSmU3VEU4QkgtYWFWMG41czB5bkJN\n",
    "\n",
    "**Paper** https://www.dropbox.com/preview/Public/retweet_prediction_micai_2017.pdf\n",
    "\n",
    "\n",
    "**Twitter**: @PCelayes"
   ]
  }
 ],
 "metadata": {
  "celltoolbar": "Slideshow",
  "kernelspec": {
   "display_name": "Python 3",
   "language": "python",
   "name": "python3"
  },
  "language_info": {
   "codemirror_mode": {
    "name": "ipython",
    "version": 3
   },
   "file_extension": ".py",
   "mimetype": "text/x-python",
   "name": "python",
   "nbconvert_exporter": "python",
   "pygments_lexer": "ipython3",
   "version": "3.5.4"
  }
 },
 "nbformat": 4,
 "nbformat_minor": 1
}
