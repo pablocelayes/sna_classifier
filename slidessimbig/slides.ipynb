{
 "cells": [
  {
   "cell_type": "markdown",
   "metadata": {
    "slideshow": {
     "slide_type": "slide"
    }
   },
   "source": [
    "![](imgs/miredtwitter_header2.png)  \n",
    "<center>\n",
    "<h1>\n",
    "Analyzing the Retweeting Behavior of\n",
    "Influencers to Predict Popular Tweets</h1>\n",
    "<h2>\n",
    "(with and without Considering their Content)\n",
    "</h2>\n",
    "<h3>Matı́as Gastón Silva, Martı́n Ariel Domı́nguez, and Pablo Gabriel Celayes</h3>\n",
    "<h3>FaMAFyC, Universidad Nacional de Córdoba, Argentina</h3>\n",
    "<h4>Monday, September 3rd, 2018 - SIMBig 2018 - Lima, Perú</h4>\n",
    "</center>"
   ]
  },
  {
   "cell_type": "markdown",
   "metadata": {
    "slideshow": {
     "slide_type": "slide"
    }
   },
   "source": [
    "# Overview\n",
    "\n",
    "* Introduction\n",
    "\n",
    "* Datasets\n",
    "\n",
    "* Social Prediction\n",
    "\n",
    "* Adding NLP\n",
    "\n",
    "* Results\n"
   ]
  },
  {
   "cell_type": "markdown",
   "metadata": {
    "slideshow": {
     "slide_type": "slide"
    }
   },
   "source": [
    "## Previous work\n",
    "\n",
    "![](imgs/58_paper_simbig.png)\n",
    "\n",
    "- Own dataset ( users, connections, content and preferences )\n",
    "\n",
    "- Predict **individual preferences** (_retweets_) based on **neighborhood behavior**\n",
    "\n",
    "- Improve predictions with NLP on content"
   ]
  },
  {
   "cell_type": "markdown",
   "metadata": {
    "slideshow": {
     "slide_type": "subslide"
    }
   },
   "source": [
    "## Current work\n",
    "\n",
    "- Extended dataset ( same users & connections, more content and preferences)\n",
    "\n",
    "- Predict **global preferences** (_trends_) based on **influencers' behavior** \n",
    "\n",
    "- Improve predictions with NLP on content"
   ]
  },
  {
   "cell_type": "markdown",
   "metadata": {
    "slideshow": {
     "slide_type": "slide"
    }
   },
   "source": [
    "# Social Graph\n",
    "\n",
    "## Universe $U$\n",
    "\n",
    "- up to 3 steps of $\\texttt{follows}$ starting at `@PCelayes`\n",
    "\n",
    "- We filter _relevant_ users ( >40 followed|followers )\n",
    "\n",
    "- Result: ~3M users, ~10M connections\n",
    "\n",
    "## Subgraph $\\hat{G}$:\n",
    "    \n",
    "- Starting point: users with out-degree in $U$ = 50\n",
    "\n",
    "- for each user, we add 50 most *socially affine* of their *followed*\n",
    "\n",
    "- We repeat until no more users to add\n",
    "    \n",
    "- Result: 5,180 users, ~230k connections"
   ]
  },
  {
   "cell_type": "markdown",
   "metadata": {
    "slideshow": {
     "slide_type": "subslide"
    }
   },
   "source": [
    "# Content\n",
    "\n",
    "## Tweets $\\hat{T}$:\n",
    "- **(previous work)** *timelines* from Aug/Sep 2015\n",
    "- **(extension)** *timelines* between March 2016 and February 2017\n",
    "- only tweets written in Spanish\n",
    "- Result: 3.8M tweets/retweets"
   ]
  },
  {
   "cell_type": "markdown",
   "metadata": {
    "slideshow": {
     "slide_type": "subslide"
    }
   },
   "source": [
    "## Active users\n",
    "- $G = \\{$ users in $\\hat{G}$ having $\\geq$ 10 RTs $\\}$\n",
    "- $|G| = 3626$\n",
    "\n",
    "## Active content\n",
    "- $T = \\{$ tweets in $\\hat{T}$ having $\\geq$ 4 RTs $\\}$"
   ]
  },
  {
   "cell_type": "markdown",
   "metadata": {
    "slideshow": {
     "slide_type": "slide"
    }
   },
   "source": [
    "# Social prediction\n",
    "\n",
    "Given a tweet $t$, can we predict if it's **popular** among **general users** ($U_G$) based on the activity of **influencers** ($U_I$)?\n",
    "\n",
    "- **Popular** tweets: top-10% in number of RTs within $U_G$  ( $\\geq 13$ RTs )\n",
    "- **Influence** ranking : $α ∗ Centrality + (1 − α) * Activity$\n",
    "\n",
    "( $α = 0.5$ chosen by performance on $T_{SI}$ )\n",
    "\n",
    "- $U_I$: top-25% most influential\n",
    "- $U_G$: remaining 75% users\n"
   ]
  },
  {
   "cell_type": "markdown",
   "metadata": {
    "slideshow": {
     "slide_type": "subslide"
    }
   },
   "source": [
    "# Classification problem (s)\n",
    "\n",
    "Fixed influencers $ \\{u_1, \\ldots, u_n \\} \\subset U_I$\n",
    "\n",
    "Predict\n",
    "\n",
    "![](imgs/58_social-predict.png)\n",
    "\n",
    "given $ x(t) = [ i_{t1}, i_{t1}, \\ldots , i_{tn} ]$\n",
    "\n",
    "$i_{tj} :=$ whether or not $u_j$ retweeted $t$.\n",
    "\n",
    "- Model: SVM classifier with GridSearch for hyper-parameter tuning"
   ]
  },
  {
   "cell_type": "markdown",
   "metadata": {
    "slideshow": {
     "slide_type": "subslide"
    }
   },
   "source": [
    "# Dataset split\n",
    "\n",
    "- $T_{SI}$: small set of $500$ tweets used to tune influencers metric\n",
    "- $T_I$: tweets authored by influencers are omitted\n",
    "- $T_G$: remaining tweets, upon which the classification problem is studied\n",
    "\n",
    "![](imgs/58_dataset.png)"
   ]
  },
  {
   "cell_type": "markdown",
   "metadata": {
    "slideshow": {
     "slide_type": "slide"
    }
   },
   "source": [
    "# Adding NLP\n",
    "\n",
    "![](imgs/robotlee.jpg)"
   ]
  },
  {
   "cell_type": "markdown",
   "metadata": {
    "collapsed": true,
    "slideshow": {
     "slide_type": "subslide"
    }
   },
   "source": [
    "## Pipeline\n",
    "\n",
    "- Normalization (lowercase, remove URLs, numbers, accents)\n",
    "\n",
    "- Tokenization\n",
    "\n",
    "- punctuation/stopword removal\n",
    "\n",
    "- Lemmatization\n",
    "\n",
    "- Social features + (Twitter-LDA | FastText)\n"
   ]
  },
  {
   "cell_type": "markdown",
   "metadata": {
    "slideshow": {
     "slide_type": "subslide"
    }
   },
   "source": [
    "## Twitter-LDA\n",
    "- LDA:\n",
    "    - Discovers underlying topics in text corpora   \n",
    "        - _Topic_: probability distribution over terms\n",
    "        - _Document_: probability distribution over topics\n",
    "    - Topic scores are useful as compact features\n",
    "    - Problem: tweets are short and usually cover just one topic \n",
    "\n",
    "- Twitter-LDA:\n",
    "    - Group by user\n",
    "    - Introduce a background topic\n",
    "    - One foreground topic per tweet\n",
    "    \n",
    "![](imgs/58_lda-topics-fixed.png)"
   ]
  },
  {
   "cell_type": "markdown",
   "metadata": {
    "slideshow": {
     "slide_type": "subslide"
    }
   },
   "source": [
    "## Fast Text\n",
    "- Word2vec alternative\n",
    "- Handles OOV words (e.g.: misspellings )\n",
    "- Pre-trained 100-d Spanish model\n",
    "- Sentence vectors are simple average of their word vectors \n",
    "![](imgs/58_clusterwds-fixed.png)"
   ]
  },
  {
   "cell_type": "markdown",
   "metadata": {
    "slideshow": {
     "slide_type": "slide"
    }
   },
   "source": [
    "# Results\n",
    "\n",
    "![](imgs/popularidad_f1s.png)"
   ]
  },
  {
   "cell_type": "markdown",
   "metadata": {
    "slideshow": {
     "slide_type": "slide"
    }
   },
   "source": [
    "# Future work\n",
    "\n",
    "- Temporality, early prediction ( in progress )\n",
    "\n",
    "- Custom FastText embeddings\n",
    "\n",
    "- Improve sentence embeddings (IDF weights, Doc2Vec)\n",
    "\n",
    "- Other social networks ( e.g.: Facebook, Instagram )"
   ]
  },
  {
   "cell_type": "markdown",
   "metadata": {
    "slideshow": {
     "slide_type": "subslide"
    }
   },
   "source": [
    "# Thanks for your attention!\n",
    "\n",
    "`https://twitter.com/@PCelayes`"
   ]
  }
 ],
 "metadata": {
  "celltoolbar": "Slideshow",
  "kernelspec": {
   "display_name": "Python 3",
   "language": "python",
   "name": "python3"
  },
  "language_info": {
   "codemirror_mode": {
    "name": "ipython",
    "version": 3
   },
   "file_extension": ".py",
   "mimetype": "text/x-python",
   "name": "python",
   "nbconvert_exporter": "python",
   "pygments_lexer": "ipython3",
   "version": "3.6.6"
  }
 },
 "nbformat": 4,
 "nbformat_minor": 1
}
