{
 "cells": [
  {
   "cell_type": "markdown",
   "metadata": {
    "slideshow": {
     "slide_type": "slide"
    }
   },
   "source": [
    "![](imgs/miredtwitter_header2.png)  \n",
    "<center>\n",
    "<h1>\n",
    "Analyzing the Retweeting Behavior of\n",
    "Influencers to Predict Popular Tweets</h1>\n",
    "<h2>\n",
    "(with and without Considering their Content)\n",
    "</h2>\n",
    "<h3>Matı́as Gastón Silva, Martı́n Ariel Domı́nguez, and Pablo Gabriel Celayes</h3>\n",
    "<h3>FaMAFyC, Universidad Nacional de Cordoba, Córdoba, Argentina</h3>\n",
    "<h4>Monday, September 2nd, 2018 - SIMBig 2018 - Lima, Perú</h4>\n",
    "</center>"
   ]
  },
  {
   "cell_type": "markdown",
   "metadata": {
    "slideshow": {
     "slide_type": "slide"
    }
   },
   "source": [
    "# Overview\n",
    "\n",
    "* Introduction (what and why?)\n",
    "\n",
    "* Dataset (where?)\n",
    "\n",
    "* Prediction (how?)\n",
    "\n",
    "* Results\n"
   ]
  },
  {
   "cell_type": "markdown",
   "metadata": {
    "slideshow": {
     "slide_type": "slide"
    }
   },
   "source": [
    "## Previous work\n",
    "\n",
    "![](imgs/58_paper_simbig.png)\n",
    "\n",
    "- Own dataset ( users, connections, content and preferences )\n",
    "\n",
    "- Predict **individual preferences** (_retweets_) based on **neighborhood behavior**\n",
    "\n",
    "- Improve predictions with NLP on content"
   ]
  },
  {
   "cell_type": "markdown",
   "metadata": {
    "slideshow": {
     "slide_type": "subslide"
    }
   },
   "source": [
    "## Current work\n",
    "\n",
    "- Extended dataset ( same users & connections, more content and preferences)\n",
    "\n",
    "- Predict **global preferences** (_trends_) based on **influencers' behavior** \n",
    "\n",
    "- Improve predictions with NLP on content"
   ]
  },
  {
   "cell_type": "markdown",
   "metadata": {
    "slideshow": {
     "slide_type": "slide"
    }
   },
   "source": [
    "# Social Graph\n",
    "\n",
    "## Universe $U$\n",
    "\n",
    "- up to 3 steps of $\\texttt{follows}$ starting at `@PCelayes`\n",
    "\n",
    "- We filter _relevant_ users ( >40 followed|followers )\n",
    "\n",
    "- Result: ~3M users, ~10M connections\n",
    "\n",
    "## Subgrafo $G$:\n",
    "    \n",
    "- Starting point: users with out-degree in $U$ =50\n",
    "\n",
    "- for each user, we add 50 most *socially affine* of their *followed*\n",
    "\n",
    "- We repeat until no more users to add\n",
    "    \n",
    "- Result: 5,180 users, ~230k connections"
   ]
  },
  {
   "cell_type": "markdown",
   "metadata": {
    "slideshow": {
     "slide_type": "subslide"
    }
   },
   "source": [
    "# Content\n",
    "\n",
    "## Tweets($T$):\n",
    "- **(previous work)** *timelines* from Aug/Sep 2015\n",
    "- **(extension)** *timelines* between March 2016 and February 2017\n",
    "- only tweets written in Spanish\n",
    "- Result: 3.8M tweets/retweets"
   ]
  },
  {
   "cell_type": "markdown",
   "metadata": {
    "slideshow": {
     "slide_type": "subslide"
    }
   },
   "source": [
    "# Datos: Grafo social ($U_I, U_G \\subset G$ )\n",
    "\n",
    "- Separamos de todo anáalisis los usuarios de _$G$ inactivos (< 10 RT) quedando un grafo $G$ resultante de 3626 usuarios\n",
    "\n",
    "- Partimos el dataset $G$ entonces en 2 secciones\n",
    "    - $U_I$: 25% mejor rankeado de $G$ segun medidas de **centralidad** y **actividad** que se utilizaran como features en la caracterización de una muestra. El contenido de este subconjunto será omitido tanto para entrenamiento como para evaluación. \n",
    "    - $U_G$: 75% restante de $G$. El contenido de estos usuarios $T_G$ será nuestro real dataset de partida."
   ]
  },
  {
   "cell_type": "markdown",
   "metadata": {
    "slideshow": {
     "slide_type": "slide"
    }
   },
   "source": [
    "# Predicción social\n",
    "\n",
    "¿ Dado un tweet $t$, cuánto puedo saber de la **popularidad** que tiene en la población sabiendo la **aceptacion** que tuvo frente a los **referentes** ?\n",
    "\n",
    "- **Popularidad**: medida heurisitica (percentil 90 del histograma de retweets de los tweets) que determina que un tweet es popular en nuestro dataset\n",
    "\n",
    "- **Aceptacion**: si lo twiteo o no\n",
    "\n",
    "- **Referentes**: aquellos nodos con influencia notable ya sea por su *centralidad* o *actividad* \n"
   ]
  },
  {
   "cell_type": "markdown",
   "metadata": {
    "slideshow": {
     "slide_type": "subslide"
    }
   },
   "source": [
    "# Datos: Contenido ($T_G$ train/test , $ T_{SI} $)\n",
    "\n",
    "- Tweets visibles($T_G$):\n",
    "    - Escritos en español\n",
    "    - Solo tweets de usuarios generales $U_G$.\n",
    "    - Mas de 3 retweets\n",
    "    \n",
    "- Aislamos un subconjunto $T_{SI}$ de 500 tweets provenientes de $T_G$ para comparar la performance de parametros del algoritmo de deteccion de influencers. Estos tweets fueron removidos del experimento tanto en la etapa de entrenamiento como en la evaluación.\n"
   ]
  },
  {
   "cell_type": "markdown",
   "metadata": {
    "slideshow": {
     "slide_type": "subslide"
    }
   },
   "source": [
    "![](imgs/58_dataset.png)"
   ]
  },
  {
   "cell_type": "markdown",
   "metadata": {
    "slideshow": {
     "slide_type": "subslide"
    }
   },
   "source": [
    "##  Detección de influencers\n",
    "- Centrality\n",
    "    - PageRank\n",
    "    - Betweenness\n",
    "    - closeness\n",
    "    - Eigen-vector centrality\n",
    "    - Eccentricity \n",
    "- Activity \n",
    "    - number of tweets\n",
    "    - number of retweets\n",
    "\n",
    "To decide the best option to rank users as influencers, we compared different weighted combinations of centrality and activity measures $α ∗ Centrality + (1 − α) * Activity$\n",
    "\n",
    "![](imgs/58_influence-alternatives_fixed.png)"
   ]
  },
  {
   "cell_type": "markdown",
   "metadata": {
    "slideshow": {
     "slide_type": "subslide"
    }
   },
   "source": [
    "## Extraction of social features\n",
    "![](imgs/58_social-features.png)\n",
    "![](imgs/58_social-classification.png)"
   ]
  },
  {
   "cell_type": "markdown",
   "metadata": {
    "slideshow": {
     "slide_type": "slide"
    }
   },
   "source": [
    "# Adding NLP...\n",
    "\n",
    "![](imgs/robotlee.jpg)"
   ]
  },
  {
   "cell_type": "markdown",
   "metadata": {
    "collapsed": true,
    "slideshow": {
     "slide_type": "subslide"
    }
   },
   "source": [
    "## Preprocesamiento\n",
    "\n",
    "- Normalización\n",
    "\n",
    "- Tokenizado\n",
    "\n",
    "- LDA\n",
    "\n",
    "- FastText (word embeddings)\n"
   ]
  },
  {
   "cell_type": "markdown",
   "metadata": {
    "slideshow": {
     "slide_type": "subslide"
    }
   },
   "source": [
    "## Extracción de _features_ social + contenido\n"
   ]
  },
  {
   "cell_type": "markdown",
   "metadata": {
    "collapsed": true,
    "slideshow": {
     "slide_type": "subslide"
    }
   },
   "source": [
    "## Normalización\n",
    "- quitar URLs y numeros\n",
    "- minúscula\n",
    "- remover acentos\n"
   ]
  },
  {
   "cell_type": "markdown",
   "metadata": {
    "collapsed": true,
    "slideshow": {
     "slide_type": "subslide"
    }
   },
   "source": [
    "## Tokenizado\n",
    "\n",
    "- partir en palabras\n",
    "\n",
    "- remover puntuación\n",
    "\n",
    "- __lemmatization__\n"
   ]
  },
  {
   "cell_type": "markdown",
   "metadata": {
    "slideshow": {
     "slide_type": "subslide"
    }
   },
   "source": [
    "## LDA\n",
    "\n",
    "* Descubre temas subyacentes en colecciones de textos\n",
    "    \n",
    "    * Tema: distribución de probabilidad de términos\n",
    "\n",
    "* Permite asignar _scores_ por tema a cada documento ( tweet )\n",
    "\n",
    "* Reducción de dimensionalidad ( espacio de *palabras* en $D$ a espacio de *temas* )\n"
   ]
  },
  {
   "cell_type": "markdown",
   "metadata": {
    "slideshow": {
     "slide_type": "subslide"
    }
   },
   "source": [
    "### Ejemplo: LDA 10 temas\n",
    "\n",
    "![](imgs/lda10.png)"
   ]
  },
  {
   "cell_type": "markdown",
   "metadata": {
    "slideshow": {
     "slide_type": "subslide"
    }
   },
   "source": [
    "## Twitter-LDA\n",
    "\n",
    "- Problema: tweets son cortos y normalmente hablan de un único tema \n",
    "\n",
    "- Adaptaciones:\n",
    "\n",
    "    - Agrupar por usuario\n",
    "    \n",
    "    - Asignar un tema por tweet\n",
    "    \n",
    "![](imgs/58_lda-topics-fixed.png)"
   ]
  },
  {
   "cell_type": "markdown",
   "metadata": {},
   "source": [
    "## Fast Text\n",
    "- Alternativa a Word2vec\n",
    "- We use a pre-trained model of 100 dimensions\n",
    "- Similaridad por palabra y oracion\n",
    "![](imgs/58_clusterwds-fixed.png)"
   ]
  },
  {
   "cell_type": "markdown",
   "metadata": {
    "slideshow": {
     "slide_type": "subslide"
    }
   },
   "source": [
    "## Resultados sobre $M_u^{ev}$ en experimento predecesor\n",
    "\n",
    "![](imgs/f1s_social_vs_socialldas.png)\n"
   ]
  },
  {
   "cell_type": "markdown",
   "metadata": {
    "slideshow": {
     "slide_type": "slide"
    }
   },
   "source": [
    "# Resultados predicción de popularidad\n"
   ]
  },
  {
   "cell_type": "markdown",
   "metadata": {
    "slideshow": {
     "slide_type": "subslide"
    }
   },
   "source": [
    "![](imgs/popularidad_f1s.png)"
   ]
  },
  {
   "cell_type": "markdown",
   "metadata": {
    "slideshow": {
     "slide_type": "slide"
    }
   },
   "source": [
    "# Future work\n",
    "\n",
    "- Consider temporality, investigate early prediction ( in progress )\n",
    "\n",
    "- Custom FastText embeddings\n",
    "\n",
    "- Improve sentence embeddings (IDF weights, Doc2Vec)\n",
    "\n",
    "- Extend to other social networks ( e.g.: Facebook, Instagram )"
   ]
  },
  {
   "cell_type": "markdown",
   "metadata": {
    "slideshow": {
     "slide_type": "slide"
    }
   },
   "source": [
    "# Thanks for your attention!\n",
    "\n",
    "`https://twitter.com/@PCelayes`"
   ]
  }
 ],
 "metadata": {
  "celltoolbar": "Slideshow",
  "kernelspec": {
   "display_name": "Python 3",
   "language": "python",
   "name": "python3"
  },
  "language_info": {
   "codemirror_mode": {
    "name": "ipython",
    "version": 3
   },
   "file_extension": ".py",
   "mimetype": "text/x-python",
   "name": "python",
   "nbconvert_exporter": "python",
   "pygments_lexer": "ipython3",
   "version": "3.6.6"
  }
 },
 "nbformat": 4,
 "nbformat_minor": 1
}
